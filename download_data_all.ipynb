{
 "cells": [
  {
   "cell_type": "code",
   "execution_count": 1,
   "id": "f9b7c3b0",
   "metadata": {},
   "outputs": [
    {
     "data": {
      "text/html": [
       "<div>\n",
       "<style scoped>\n",
       "    .dataframe tbody tr th:only-of-type {\n",
       "        vertical-align: middle;\n",
       "    }\n",
       "\n",
       "    .dataframe tbody tr th {\n",
       "        vertical-align: top;\n",
       "    }\n",
       "\n",
       "    .dataframe thead th {\n",
       "        text-align: right;\n",
       "    }\n",
       "</style>\n",
       "<table border=\"1\" class=\"dataframe\">\n",
       "  <thead>\n",
       "    <tr style=\"text-align: right;\">\n",
       "      <th></th>\n",
       "      <th>id</th>\n",
       "      <th>Unnamed: 0</th>\n",
       "      <th>Unnamed: 0.1</th>\n",
       "      <th>site</th>\n",
       "      <th>summary</th>\n",
       "      <th>url</th>\n",
       "      <th>rank</th>\n",
       "      <th>company</th>\n",
       "      <th>relevance_score</th>\n",
       "    </tr>\n",
       "  </thead>\n",
       "  <tbody>\n",
       "    <tr>\n",
       "      <th>0</th>\n",
       "      <td>276</td>\n",
       "      <td>0</td>\n",
       "      <td>0</td>\n",
       "      <td>Research: Rating Action: Moody's changes 10117...</td>\n",
       "      <td>Corporate governance risks at 1011778 B.C. is ...</td>\n",
       "      <td>https://www.moodys.com/research/Moodys-changes...</td>\n",
       "      <td>9340</td>\n",
       "      <td>1011778 BC ULC</td>\n",
       "      <td>1.500872</td>\n",
       "    </tr>\n",
       "    <tr>\n",
       "      <th>1</th>\n",
       "      <td>278</td>\n",
       "      <td>2</td>\n",
       "      <td>2</td>\n",
       "      <td>Research: Rating Action: Moody's downgrades Ta...</td>\n",
       "      <td>sustainability. diversity, equity &amp; inclusion....</td>\n",
       "      <td>https://www.moodys.com/research/Moodys-downgra...</td>\n",
       "      <td>11179</td>\n",
       "      <td>1011778 BC ULC</td>\n",
       "      <td>1.591902</td>\n",
       "    </tr>\n",
       "    <tr>\n",
       "      <th>2</th>\n",
       "      <td>277</td>\n",
       "      <td>1</td>\n",
       "      <td>1</td>\n",
       "      <td>Research: Rating Action: Moody's places 1,721 ...</td>\n",
       "      <td>3. To the extent permitted by law, Moody’s and...</td>\n",
       "      <td>https://www.moodys.com/research/Moodys-places-...</td>\n",
       "      <td>12366</td>\n",
       "      <td>1011778 BC ULC</td>\n",
       "      <td>1.643596</td>\n",
       "    </tr>\n",
       "    <tr>\n",
       "      <th>3</th>\n",
       "      <td>280</td>\n",
       "      <td>4</td>\n",
       "      <td>1</td>\n",
       "      <td>3D Systems Announces Launch of Environmental, ...</td>\n",
       "      <td>3D Systems Announces Launch of Environmental, ...</td>\n",
       "      <td>https://www.3dsystems.com/press-releases/3d-sy...</td>\n",
       "      <td>6748</td>\n",
       "      <td>3D Systems Corp</td>\n",
       "      <td>1.323604</td>\n",
       "    </tr>\n",
       "    <tr>\n",
       "      <th>4</th>\n",
       "      <td>287</td>\n",
       "      <td>11</td>\n",
       "      <td>8</td>\n",
       "      <td>3D Systems Reports 2012 Results | 3D Systems</td>\n",
       "      <td>3D Systems Reports 2012 Results. Delivers Reco...</td>\n",
       "      <td>https://www.3dsystems.com/press-releases/3d-sy...</td>\n",
       "      <td>9084</td>\n",
       "      <td>3D Systems Corp</td>\n",
       "      <td>1.486445</td>\n",
       "    </tr>\n",
       "    <tr>\n",
       "      <th>...</th>\n",
       "      <td>...</td>\n",
       "      <td>...</td>\n",
       "      <td>...</td>\n",
       "      <td>...</td>\n",
       "      <td>...</td>\n",
       "      <td>...</td>\n",
       "      <td>...</td>\n",
       "      <td>...</td>\n",
       "      <td>...</td>\n",
       "    </tr>\n",
       "    <tr>\n",
       "      <th>5603</th>\n",
       "      <td>15046</td>\n",
       "      <td>14955</td>\n",
       "      <td>0</td>\n",
       "      <td>Sustainability - thyssenkrupp</td>\n",
       "      <td>thyssenkrupp is committed to open, constructiv...</td>\n",
       "      <td>https://www.thyssenkrupp.com/en/company/sustai...</td>\n",
       "      <td>4708</td>\n",
       "      <td>thyssenkrupp AG</td>\n",
       "      <td>1.185300</td>\n",
       "    </tr>\n",
       "    <tr>\n",
       "      <th>5604</th>\n",
       "      <td>15049</td>\n",
       "      <td>14958</td>\n",
       "      <td>3</td>\n",
       "      <td>Dialogue &amp; Commitment - thyssenkrupp</td>\n",
       "      <td>thyssenkrupp regards the ideas and requirement...</td>\n",
       "      <td>https://www.thyssenkrupp.com/en/company/sustai...</td>\n",
       "      <td>5053</td>\n",
       "      <td>thyssenkrupp AG</td>\n",
       "      <td>1.207290</td>\n",
       "    </tr>\n",
       "    <tr>\n",
       "      <th>5605</th>\n",
       "      <td>15596</td>\n",
       "      <td>15525</td>\n",
       "      <td>8</td>\n",
       "      <td>Sustainability | u-blox</td>\n",
       "      <td>Environmental responsibility. u‑blox has a lon...</td>\n",
       "      <td>https://www.u-blox.com/en/sustainability-3</td>\n",
       "      <td>1439</td>\n",
       "      <td>u-blox Holding AG</td>\n",
       "      <td>0.997414</td>\n",
       "    </tr>\n",
       "    <tr>\n",
       "      <th>5606</th>\n",
       "      <td>15592</td>\n",
       "      <td>15521</td>\n",
       "      <td>4</td>\n",
       "      <td>Sustainability | u-blox</td>\n",
       "      <td>No business operates in isolation: for u‑blox ...</td>\n",
       "      <td>https://www.u-blox.com/en/sustainability-2</td>\n",
       "      <td>1615</td>\n",
       "      <td>u-blox Holding AG</td>\n",
       "      <td>1.009597</td>\n",
       "    </tr>\n",
       "    <tr>\n",
       "      <th>5607</th>\n",
       "      <td>15595</td>\n",
       "      <td>15524</td>\n",
       "      <td>7</td>\n",
       "      <td>Sustainability | u-blox</td>\n",
       "      <td>In 2020, we renewed our Global Reporting Initi...</td>\n",
       "      <td>https://www.u-blox.com/zh/sustainability-6</td>\n",
       "      <td>1957</td>\n",
       "      <td>u-blox Holding AG</td>\n",
       "      <td>1.033363</td>\n",
       "    </tr>\n",
       "  </tbody>\n",
       "</table>\n",
       "<p>5608 rows × 9 columns</p>\n",
       "</div>"
      ],
      "text/plain": [
       "         id  Unnamed: 0  Unnamed: 0.1  \\\n",
       "0       276           0             0   \n",
       "1       278           2             2   \n",
       "2       277           1             1   \n",
       "3       280           4             1   \n",
       "4       287          11             8   \n",
       "...     ...         ...           ...   \n",
       "5603  15046       14955             0   \n",
       "5604  15049       14958             3   \n",
       "5605  15596       15525             8   \n",
       "5606  15592       15521             4   \n",
       "5607  15595       15524             7   \n",
       "\n",
       "                                                   site  \\\n",
       "0     Research: Rating Action: Moody's changes 10117...   \n",
       "1     Research: Rating Action: Moody's downgrades Ta...   \n",
       "2     Research: Rating Action: Moody's places 1,721 ...   \n",
       "3     3D Systems Announces Launch of Environmental, ...   \n",
       "4          3D Systems Reports 2012 Results | 3D Systems   \n",
       "...                                                 ...   \n",
       "5603                      Sustainability - thyssenkrupp   \n",
       "5604               Dialogue & Commitment - thyssenkrupp   \n",
       "5605                            Sustainability | u-blox   \n",
       "5606                            Sustainability | u-blox   \n",
       "5607                            Sustainability | u-blox   \n",
       "\n",
       "                                                summary  \\\n",
       "0     Corporate governance risks at 1011778 B.C. is ...   \n",
       "1     sustainability. diversity, equity & inclusion....   \n",
       "2     3. To the extent permitted by law, Moody’s and...   \n",
       "3     3D Systems Announces Launch of Environmental, ...   \n",
       "4     3D Systems Reports 2012 Results. Delivers Reco...   \n",
       "...                                                 ...   \n",
       "5603  thyssenkrupp is committed to open, constructiv...   \n",
       "5604  thyssenkrupp regards the ideas and requirement...   \n",
       "5605  Environmental responsibility. u‑blox has a lon...   \n",
       "5606  No business operates in isolation: for u‑blox ...   \n",
       "5607  In 2020, we renewed our Global Reporting Initi...   \n",
       "\n",
       "                                                    url   rank  \\\n",
       "0     https://www.moodys.com/research/Moodys-changes...   9340   \n",
       "1     https://www.moodys.com/research/Moodys-downgra...  11179   \n",
       "2     https://www.moodys.com/research/Moodys-places-...  12366   \n",
       "3     https://www.3dsystems.com/press-releases/3d-sy...   6748   \n",
       "4     https://www.3dsystems.com/press-releases/3d-sy...   9084   \n",
       "...                                                 ...    ...   \n",
       "5603  https://www.thyssenkrupp.com/en/company/sustai...   4708   \n",
       "5604  https://www.thyssenkrupp.com/en/company/sustai...   5053   \n",
       "5605         https://www.u-blox.com/en/sustainability-3   1439   \n",
       "5606         https://www.u-blox.com/en/sustainability-2   1615   \n",
       "5607         https://www.u-blox.com/zh/sustainability-6   1957   \n",
       "\n",
       "                company  relevance_score  \n",
       "0        1011778 BC ULC         1.500872  \n",
       "1        1011778 BC ULC         1.591902  \n",
       "2        1011778 BC ULC         1.643596  \n",
       "3       3D Systems Corp         1.323604  \n",
       "4       3D Systems Corp         1.486445  \n",
       "...                 ...              ...  \n",
       "5603    thyssenkrupp AG         1.185300  \n",
       "5604    thyssenkrupp AG         1.207290  \n",
       "5605  u-blox Holding AG         0.997414  \n",
       "5606  u-blox Holding AG         1.009597  \n",
       "5607  u-blox Holding AG         1.033363  \n",
       "\n",
       "[5608 rows x 9 columns]"
      ]
     },
     "execution_count": 1,
     "metadata": {},
     "output_type": "execute_result"
    }
   ],
   "source": [
    "import pandas as pd\n",
    "news_data = pd.read_csv(\"./wiki_data/sus_reports_url_top3.csv\")\n",
    "news_data"
   ]
  },
  {
   "cell_type": "code",
   "execution_count": 2,
   "id": "b4585991",
   "metadata": {},
   "outputs": [],
   "source": [
    "# news_data = news_data[news_data[\"rank\"]<=3]"
   ]
  },
  {
   "cell_type": "code",
   "execution_count": 5,
   "id": "2f210943",
   "metadata": {
    "scrolled": false
   },
   "outputs": [],
   "source": [
    "import os\n",
    "import requests\n",
    "from urllib.parse import urljoin\n",
    "from bs4 import BeautifulSoup\n",
    "url = \"https://www.3m.com/3M/en_US/sustainability-us/annual-report/\"\n",
    "response = requests.get(url, timeout=20)\n",
    "soup= BeautifulSoup(response.text, \"html.parser\")  \n",
    "pdf_list = []\n",
    "for link in soup.select(\"a[href$='.pdf']\"):\n",
    "    pdf_list.append(urljoin(url,link['href']))"
   ]
  },
  {
   "cell_type": "code",
   "execution_count": null,
   "id": "2d0f61aa",
   "metadata": {},
   "outputs": [],
   "source": [
    "pdf_list"
   ]
  },
  {
   "cell_type": "code",
   "execution_count": 25,
   "id": "7b115207",
   "metadata": {},
   "outputs": [
    {
     "data": {
      "text/plain": [
       "array(['https://www.adobe.com/corporate-responsibility/sustainability.html',\n",
       "       'https://www.adobe.com/corporate-responsibility/corporate-responsibility-reports.html',\n",
       "       'https://www.adobe.com/corporate-responsibility/sustainability/corporate-policy.html',\n",
       "       'https://www.adobe.com/content/dam/cc/en/investor-relations/pdfs/Governance-and-Sustainability-Committee-Charter.pdf',\n",
       "       'https://www.adobe.com/content/dam/cc/en/corporate-responsibility/pdfs/Adobe-CSR-Report-FY2019.pdf',\n",
       "       'https://www.adobe.com/uk/corporate-responsibility/corporate-responsibility-reports.html',\n",
       "       'https://www.adobe.com/corporate-responsibility/awards.html',\n",
       "       'https://www.adobe.com/corporate-responsibility.html',\n",
       "       'https://www.adobe.com/corporate-responsibility/sustainability/energy-conservation.html'],\n",
       "      dtype=object)"
      ]
     },
     "execution_count": 25,
     "metadata": {},
     "output_type": "execute_result"
    }
   ],
   "source": [
    "df = pd.read_csv(\"./wiki_data/sus_reports_url.csv\")\n",
    "len(df[df.url.str.contains(\".pdf\")].company.unique())\n",
    "df[df.url.str.contains(\".pdf\")].url.values\n",
    "df[df.company==\"Adobe Inc\"].url.values"
   ]
  },
  {
   "cell_type": "code",
   "execution_count": 1,
   "id": "f901e955",
   "metadata": {},
   "outputs": [],
   "source": [
    "import sys\n",
    "sys.path.append(\"/home/qingzhi/.conda/envs/test/lib/python3.9/site-packages\")"
   ]
  },
  {
   "cell_type": "code",
   "execution_count": 30,
   "id": "b6133240",
   "metadata": {},
   "outputs": [],
   "source": [
    "import pandas as pd\n",
    "news_data = pd.read_csv(\"./wiki_data/sus_reports_url_top3.csv\")\n",
    "news_data = news_data[~news_data.url.str.contains(\".pdf\")]"
   ]
  },
  {
   "cell_type": "code",
   "execution_count": 33,
   "id": "ae073052",
   "metadata": {},
   "outputs": [
    {
     "name": "stderr",
     "output_type": "stream",
     "text": [
      "\r",
      "  0%|                                                   | 0/219 [00:00<?, ?it/s]"
     ]
    },
    {
     "name": "stdout",
     "output_type": "stream",
     "text": [
      "Problem: https://www.3m.com/3M/en_US/sustainability-us/annual-report/: HTTPSConnectionPool(host='www.3m.com', port=443): Read timed out. (read timeout=5)\n",
      "Problem: https://www.3m.com/3M/en_US/sustainability-us/annual-report/past-reports-policies/: HTTPSConnectionPool(host='www.3m.com', port=443): Read timed out. (read timeout=5)\n",
      "Problem: https://www.3m.com/3M/en_US/sustainability-us/annual-report/past-reports-policies/sustainable-forestry/: HTTPSConnectionPool(host='www.3m.com', port=443): Read timed out. (read timeout=5)\n",
      "Problem: https://www.abnamro.com/en/news/abn-amro-issues-climate-publication-guiding-a-banks-portfolio-to-paris: HTTPSConnectionPool(host='www.abnamro.com', port=443): Read timed out. (read timeout=5)\n",
      "Problem: https://www.abnamro.com/nl/nieuws/abn-amro-lanceert-sustainable-impact-fund: HTTPSConnectionPool(host='www.abnamro.com', port=443): Read timed out. (read timeout=5)\n",
      "Problem: https://www.abnamro.com/en/news/abn-amro-launches-sustainable-impact-fund: HTTPSConnectionPool(host='www.abnamro.com', port=443): Read timed out. (read timeout=5)\n"
     ]
    },
    {
     "name": "stderr",
     "output_type": "stream",
     "text": [
      "\n",
      "  0%|                                                    | 0/20 [00:00<?, ?it/s]\u001b[A\n",
      " 15%|██████▌                                     | 3/20 [00:00<00:01,  9.96it/s]\u001b[A\n",
      " 70%|██████████████████████████████             | 14/20 [00:00<00:00, 37.85it/s]\u001b[A\n",
      "100%|███████████████████████████████████████████| 20/20 [00:00<00:00, 33.39it/s]\u001b[A\n",
      "  0%|▏                                          | 1/219 [00:10<39:06, 10.76s/it]\u001b[A"
     ]
    },
    {
     "name": "stdout",
     "output_type": "stream",
     "text": [
      "Problem: https://adler-ag.com/en/sustainability/: HTTPSConnectionPool(host='adler-ag.com', port=443): Max retries exceeded with url: /en/sustainability/ (Caused by SSLError(SSLCertVerificationError(1, '[SSL: CERTIFICATE_VERIFY_FAILED] certificate verify failed: unable to get local issuer certificate (_ssl.c:1129)')))\n",
      "Problem: https://adler-ag.com/en/investor-relations/publications/financial-reports-2/: HTTPSConnectionPool(host='adler-ag.com', port=443): Max retries exceeded with url: /en/investor-relations/publications/financial-reports-2/ (Caused by SSLError(SSLCertVerificationError(1, '[SSL: CERTIFICATE_VERIFY_FAILED] certificate verify failed: unable to get local issuer certificate (_ssl.c:1129)')))\n"
     ]
    },
    {
     "name": "stderr",
     "output_type": "stream",
     "text": [
      "\n",
      "  0%|                                                    | 0/20 [00:00<?, ?it/s]\u001b[A\n",
      " 35%|███████████████▍                            | 7/20 [00:00<00:00, 62.70it/s]\u001b[A\n",
      " 70%|██████████████████████████████             | 14/20 [00:00<00:00, 60.21it/s]\u001b[A\n",
      "  1%|▍                                          | 2/219 [00:12<19:54,  5.50s/it]\u001b[A"
     ]
    },
    {
     "name": "stdout",
     "output_type": "stream",
     "text": [
      "Problem: https://www.ansys.com/blog/the-impact-of-materials-on-sustainability-part-2: HTTPSConnectionPool(host='www.ansys.com', port=443): Read timed out. (read timeout=5)\n",
      "Problem: https://www.ansys.com/blog/the-impact-of-materials-on-sustainability: HTTPSConnectionPool(host='www.ansys.com', port=443): Read timed out. (read timeout=5)\n"
     ]
    },
    {
     "name": "stderr",
     "output_type": "stream",
     "text": [
      "\n",
      "  0%|                                                    | 0/20 [00:00<?, ?it/s]\u001b[A\n",
      " 50%|█████████████████████▌                     | 10/20 [00:00<00:00, 98.35it/s]\u001b[A\n",
      "100%|███████████████████████████████████████████| 20/20 [00:00<00:00, 35.83it/s]\u001b[A\n",
      "  1%|▌                                          | 3/219 [00:18<19:55,  5.54s/it]\u001b[A\n",
      "  0%|                                                    | 0/20 [00:00<?, ?it/s]\u001b[A\n",
      " 25%|███████████                                 | 5/20 [00:00<00:00, 44.41it/s]\u001b[A\n",
      " 50%|█████████████████████▌                     | 10/20 [00:00<00:00, 44.58it/s]\u001b[A\n",
      " 75%|████████████████████████████████▎          | 15/20 [00:00<00:00, 38.47it/s]\u001b[A\n",
      " 95%|████████████████████████████████████████▊  | 19/20 [00:00<00:00, 38.54it/s]\u001b[A\n",
      "  2%|▊                                          | 4/219 [00:20<15:23,  4.29s/it]\u001b[A\n",
      "  0%|                                                    | 0/20 [00:00<?, ?it/s]\u001b[A\n",
      " 45%|███████████████████▊                        | 9/20 [00:00<00:00, 75.17it/s]\u001b[A\n",
      " 85%|████████████████████████████████████▌      | 17/20 [00:00<00:00, 38.57it/s]\u001b[A\n",
      "  2%|▉                                          | 5/219 [00:26<18:03,  5.06s/it]\u001b[A"
     ]
    },
    {
     "name": "stdout",
     "output_type": "stream",
     "text": [
      "Problem: https://www.adspipe.com/water-management-solutions/water-quality/greeninfrastructure: HTTPSConnectionPool(host='www.adspipe.com', port=443): Max retries exceeded with url: /water-management-solutions/water-quality/greeninfrastructure (Caused by SSLError(SSLCertVerificationError(1, '[SSL: CERTIFICATE_VERIFY_FAILED] certificate verify failed: unable to get local issuer certificate (_ssl.c:1129)')))\n",
      "Problem: https://www.adspipe.com/about-us/news-and-press-center/green-line-polymers-is-now-ads-recycling: HTTPSConnectionPool(host='www.adspipe.com', port=443): Max retries exceeded with url: /about-us/news-and-press-center/green-line-polymers-is-now-ads-recycling (Caused by SSLError(SSLCertVerificationError(1, '[SSL: CERTIFICATE_VERIFY_FAILED] certificate verify failed: unable to get local issuer certificate (_ssl.c:1129)')))\n",
      "Problem: https://www.adspipe.com/water-management-solutions/water-quality/separators/barracuda-hydrodynamic-separator: HTTPSConnectionPool(host='www.adspipe.com', port=443): Max retries exceeded with url: /water-management-solutions/water-quality/separators/barracuda-hydrodynamic-separator (Caused by SSLError(SSLCertVerificationError(1, '[SSL: CERTIFICATE_VERIFY_FAILED] certificate verify failed: unable to get local issuer certificate (_ssl.c:1129)')))\n"
     ]
    },
    {
     "name": "stderr",
     "output_type": "stream",
     "text": [
      "\n",
      "  0%|                                                    | 0/20 [00:00<?, ?it/s]\u001b[A\n",
      " 15%|██████▌                                     | 3/20 [00:00<00:00, 18.54it/s]\u001b[A\n",
      " 55%|███████████████████████▋                   | 11/20 [00:00<00:00, 44.67it/s]\u001b[A\n",
      " 80%|██████████████████████████████████▍        | 16/20 [00:00<00:00, 28.64it/s]\u001b[A\n",
      "  3%|█▏                                         | 6/219 [00:29<14:31,  4.09s/it]\u001b[A"
     ]
    },
    {
     "name": "stdout",
     "output_type": "stream",
     "text": [
      "Problem: https://www.amd.com/en/corporate-responsibility/environmental-stewardship: HTTPSConnectionPool(host='www.amd.com', port=443): Read timed out. (read timeout=5)\n",
      "Problem: https://www.amd.com/en/corporate-responsibility/supply-chain-responsibility: HTTPSConnectionPool(host='www.amd.com', port=443): Read timed out. (read timeout=5)\n",
      "Problem: https://www.amd.com/en/corporate-responsibility/governance: HTTPSConnectionPool(host='www.amd.com', port=443): Read timed out. (read timeout=5)\n"
     ]
    },
    {
     "name": "stderr",
     "output_type": "stream",
     "text": [
      "\n",
      "  0%|                                                    | 0/20 [00:00<?, ?it/s]\u001b[A\n",
      " 20%|████████▊                                   | 4/20 [00:00<00:00, 34.70it/s]\u001b[A\n",
      " 80%|██████████████████████████████████▍        | 16/20 [00:00<00:00, 81.66it/s]\u001b[A\n",
      "  3%|█▎                                         | 7/219 [00:34<16:17,  4.61s/it]\u001b[A"
     ]
    },
    {
     "name": "stdout",
     "output_type": "stream",
     "text": [
      "Problem: https://www.akamai.com/newsroom/press-release/akamai-technologies-publishes-2020-sustainability-report: HTTPSConnectionPool(host='www.akamai.com', port=443): Read timed out. (read timeout=5)\n"
     ]
    },
    {
     "name": "stderr",
     "output_type": "stream",
     "text": [
      "\n",
      "  0%|                                                    | 0/20 [00:00<?, ?it/s]\u001b[A\n",
      " 15%|██████▌                                     | 3/20 [00:00<00:00, 17.12it/s]\u001b[A\n",
      " 40%|█████████████████▌                          | 8/20 [00:00<00:00, 30.49it/s]\u001b[A\n",
      " 85%|████████████████████████████████████▌      | 17/20 [00:00<00:00, 46.77it/s]\u001b[A\n",
      "  4%|█▌                                         | 8/219 [00:40<17:35,  5.00s/it]\u001b[A\n",
      "  0%|                                                    | 0/20 [00:00<?, ?it/s]\u001b[A\n",
      " 30%|█████████████▏                              | 6/20 [00:00<00:00, 31.24it/s]\u001b[A\n",
      " 50%|█████████████████████▌                     | 10/20 [00:00<00:00, 19.46it/s]\u001b[A\n",
      " 90%|██████████████████████████████████████▋    | 18/20 [00:00<00:00, 34.37it/s]\u001b[A\n",
      "  4%|█▊                                         | 9/219 [00:46<18:21,  5.24s/it]\u001b[A\n",
      "  0%|                                                    | 0/20 [00:00<?, ?it/s]\u001b[A\n",
      " 45%|███████████████████▊                        | 9/20 [00:00<00:00, 54.03it/s]\u001b[A\n",
      " 75%|████████████████████████████████▎          | 15/20 [00:00<00:00, 38.83it/s]\u001b[A\n",
      "  5%|█▉                                        | 10/219 [00:49<15:56,  4.57s/it]\u001b[A\n",
      "  0%|                                                    | 0/20 [00:00<?, ?it/s]\u001b[A\n",
      " 10%|████▍                                       | 2/20 [00:00<00:01, 14.02it/s]\u001b[A\n",
      " 65%|███████████████████████████▉               | 13/20 [00:00<00:00, 59.06it/s]\u001b[A\n",
      "100%|███████████████████████████████████████████| 20/20 [00:00<00:00, 61.93it/s]\u001b[A\n",
      "  5%|██                                        | 11/219 [00:52<13:53,  4.01s/it]\u001b[A\n",
      "  0%|                                                    | 0/20 [00:00<?, ?it/s]\u001b[A\n",
      " 70%|█████████████████████████████▍            | 14/20 [00:00<00:00, 133.03it/s]\u001b[A\n",
      "  5%|██▎                                       | 12/219 [00:59<16:43,  4.85s/it]\u001b[A\n",
      "  0%|                                                    | 0/20 [00:00<?, ?it/s]\u001b[A\n",
      " 20%|████████▊                                   | 4/20 [00:00<00:00, 34.26it/s]\u001b[A\n",
      " 45%|███████████████████▊                        | 9/20 [00:00<00:00, 42.72it/s]\u001b[A\n",
      " 70%|██████████████████████████████             | 14/20 [00:00<00:00, 45.35it/s]\u001b[A\n",
      "  6%|██▍                                       | 13/219 [01:01<14:32,  4.24s/it]\u001b[A\n",
      "  0%|                                                    | 0/20 [00:00<?, ?it/s]\u001b[A\n",
      " 50%|█████████████████████▌                     | 10/20 [00:00<00:00, 95.13it/s]\u001b[A\n",
      "100%|███████████████████████████████████████████| 20/20 [00:00<00:00, 89.10it/s]\u001b[A\n",
      "  6%|██▋                                       | 14/219 [01:04<12:25,  3.64s/it]\u001b[A\n",
      "  0%|                                                    | 0/20 [00:00<?, ?it/s]\u001b[A\n",
      " 20%|████████▊                                   | 4/20 [00:00<00:00, 35.68it/s]\u001b[A\n",
      " 40%|█████████████████▌                          | 8/20 [00:00<00:00, 32.51it/s]\u001b[A\n",
      " 80%|██████████████████████████████████▍        | 16/20 [00:00<00:00, 50.50it/s]\u001b[A\n",
      "  7%|██▉                                       | 15/219 [01:06<10:42,  3.15s/it]\u001b[A\n",
      "  0%|                                                    | 0/20 [00:00<?, ?it/s]\u001b[A\n",
      " 15%|██████▌                                     | 3/20 [00:00<00:00, 26.41it/s]\u001b[A\n",
      " 50%|█████████████████████▌                     | 10/20 [00:00<00:00, 44.93it/s]\u001b[A\n",
      " 80%|██████████████████████████████████▍        | 16/20 [00:00<00:00, 48.85it/s]\u001b[A\n",
      "  7%|███                                       | 16/219 [01:10<11:27,  3.38s/it]\u001b[A\n",
      "  0%|                                                    | 0/20 [00:00<?, ?it/s]\u001b[A\n",
      " 10%|████▍                                       | 2/20 [00:00<00:00, 18.17it/s]\u001b[A\n",
      " 20%|████████▊                                   | 4/20 [00:00<00:00, 17.87it/s]\u001b[A\n",
      " 30%|█████████████▏                              | 6/20 [00:00<00:00, 16.21it/s]\u001b[A\n",
      " 60%|█████████████████████████▊                 | 12/20 [00:00<00:00, 26.77it/s]\u001b[A\n",
      "  8%|███▎                                      | 17/219 [01:15<13:43,  4.08s/it]\u001b[A"
     ]
    },
    {
     "name": "stdout",
     "output_type": "stream",
     "text": [
      "Problem: https://www.atlantia.com/en/sustainability/sustainability-for-us: HTTPSConnectionPool(host='www.atlantia.com', port=443): Max retries exceeded with url: /en/sustainability/sustainability-for-us (Caused by SSLError(SSLCertVerificationError(1, '[SSL: CERTIFICATE_VERIFY_FAILED] certificate verify failed: unable to get local issuer certificate (_ssl.c:1129)')))\n",
      "Problem: https://www.atlantia.com/en/sustainability: HTTPSConnectionPool(host='www.atlantia.com', port=443): Max retries exceeded with url: /en/sustainability (Caused by SSLError(SSLCertVerificationError(1, '[SSL: CERTIFICATE_VERIFY_FAILED] certificate verify failed: unable to get local issuer certificate (_ssl.c:1129)')))\n",
      "Problem: https://www.atlantia.com/en/sustainability/transparency: HTTPSConnectionPool(host='www.atlantia.com', port=443): Max retries exceeded with url: /en/sustainability/transparency (Caused by SSLError(SSLCertVerificationError(1, '[SSL: CERTIFICATE_VERIFY_FAILED] certificate verify failed: unable to get local issuer certificate (_ssl.c:1129)')))\n"
     ]
    },
    {
     "name": "stderr",
     "output_type": "stream",
     "text": [
      "\n",
      "  0%|                                                    | 0/20 [00:00<?, ?it/s]\u001b[A\n",
      " 25%|███████████                                 | 5/20 [00:00<00:00, 39.67it/s]\u001b[A\n",
      " 45%|███████████████████▊                        | 9/20 [00:00<00:00, 24.35it/s]\u001b[A\n",
      " 95%|████████████████████████████████████████▊  | 19/20 [00:00<00:00, 48.30it/s]\u001b[A\n",
      "  8%|███▍                                      | 18/219 [01:20<14:15,  4.26s/it]\u001b[A\n",
      "  0%|                                                    | 0/20 [00:00<?, ?it/s]\u001b[A\n",
      " 10%|████▍                                       | 2/20 [00:00<00:01, 14.86it/s]\u001b[A\n",
      " 20%|████████▊                                   | 4/20 [00:00<00:01,  8.66it/s]\u001b[A\n",
      " 60%|█████████████████████████▊                 | 12/20 [00:00<00:00, 23.30it/s]\u001b[A\n",
      "  9%|███▋                                      | 19/219 [01:24<14:15,  4.28s/it]\u001b[A"
     ]
    },
    {
     "name": "stdout",
     "output_type": "stream",
     "text": [
      "Problem: https://www.avangrid.com/wps/portal/avangrid/Investors/sustainability/sustainabilityreportandmetrics: HTTPSConnectionPool(host='www.avangrid.com', port=443): Max retries exceeded with url: /wps/portal/avangrid/Investors/sustainability/sustainabilityreportandmetrics (Caused by ConnectTimeoutError(<urllib3.connection.HTTPSConnection object at 0x7fbae9db32e0>, 'Connection to www.avangrid.com timed out. (connect timeout=5)'))\n"
     ]
    },
    {
     "name": "stderr",
     "output_type": "stream",
     "text": [
      "\n",
      "  0%|                                                    | 0/20 [00:00<?, ?it/s]\u001b[A\n",
      " 30%|█████████████▏                              | 6/20 [00:00<00:00, 50.66it/s]\u001b[A\n",
      " 60%|█████████████████████████▊                 | 12/20 [00:00<00:00, 48.46it/s]\u001b[A\n",
      " 85%|████████████████████████████████████▌      | 17/20 [00:00<00:00, 34.03it/s]\u001b[A\n",
      "  9%|███▊                                      | 20/219 [01:30<15:31,  4.68s/it]\u001b[A"
     ]
    },
    {
     "name": "stdout",
     "output_type": "stream",
     "text": [
      "Problem: https://www.bhp.com/sustainability/community-sustainability-reports/sustainability-reporting: HTTPSConnectionPool(host='www.bhp.com', port=443): Read timed out. (read timeout=5)\n",
      "Problem: https://www.bhp.com/sustainability/community-sustainability-reports: HTTPSConnectionPool(host='www.bhp.com', port=443): Read timed out. (read timeout=5)\n",
      "Problem: https://www.bhp.com/sustainability/community-sustainability-reports/climate-change-report: HTTPSConnectionPool(host='www.bhp.com', port=443): Read timed out. (read timeout=5)\n",
      "Problem: https://www.bhp.com/sustainability/community-sustainability-reports/sustainability-reporting: HTTPSConnectionPool(host='www.bhp.com', port=443): Read timed out. (read timeout=5)\n",
      "Problem: https://www.bhp.com/sustainability/community-sustainability-reports: HTTPSConnectionPool(host='www.bhp.com', port=443): Read timed out. (read timeout=5)\n",
      "Problem: https://www.bhp.com/sustainability/environment: HTTPSConnectionPool(host='www.bhp.com', port=443): Read timed out. (read timeout=5)\n"
     ]
    },
    {
     "name": "stderr",
     "output_type": "stream",
     "text": [
      "\n",
      "  0%|                                                    | 0/20 [00:00<?, ?it/s]\u001b[A\n",
      " 30%|█████████████▏                              | 6/20 [00:00<00:00, 57.06it/s]\u001b[A\n",
      " 60%|█████████████████████████▊                 | 12/20 [00:00<00:00, 42.07it/s]\u001b[A\n",
      "100%|███████████████████████████████████████████| 20/20 [00:00<00:00, 53.62it/s]\u001b[A\n",
      " 10%|████                                      | 21/219 [01:36<16:24,  4.97s/it]\u001b[A\n",
      "  0%|                                                    | 0/20 [00:00<?, ?it/s]\u001b[A\n",
      " 35%|███████████████▍                            | 7/20 [00:00<00:00, 58.59it/s]\u001b[A\n",
      " 65%|███████████████████████████▉               | 13/20 [00:00<00:00, 29.30it/s]\u001b[A\n",
      " 10%|████▏                                     | 22/219 [01:43<18:59,  5.79s/it]\u001b[A\n",
      "  0%|                                                    | 0/20 [00:00<?, ?it/s]\u001b[A\n",
      " 30%|█████████████▏                              | 6/20 [00:00<00:00, 40.45it/s]\u001b[A\n",
      " 60%|█████████████████████████▊                 | 12/20 [00:00<00:00, 45.41it/s]\u001b[A\n",
      " 85%|████████████████████████████████████▌      | 17/20 [00:00<00:00, 43.42it/s]\u001b[A\n",
      " 11%|████▍                                     | 23/219 [01:49<18:36,  5.70s/it]\u001b[A"
     ]
    },
    {
     "name": "stdout",
     "output_type": "stream",
     "text": [
      "Problem: https://santander.cl/transa/productos/salir.asp: HTTPSConnectionPool(host='santander.cl', port=443): Max retries exceeded with url: /transa/productos/salir.asp (Caused by NewConnectionError('<urllib3.connection.HTTPSConnection object at 0x7fbaf804bf70>: Failed to establish a new connection: [Errno -5] No address associated with hostname'))\n",
      "Problem: https://english.leumi.co.il/LEFullArt/International_Ratings/5727/: HTTPSConnectionPool(host='english.leumi.co.il', port=443): Read timed out. (read timeout=5)\n",
      "Problem: https://english.leumi.co.il/LEStruc/Immediate_Reports/7159/: HTTPSConnectionPool(host='english.leumi.co.il', port=443): Read timed out. (read timeout=5)\n",
      "Problem: https://english.leumi.co.il/LEPersonalBanking/Social_Responsiblity/6252/: HTTPSConnectionPool(host='english.leumi.co.il', port=443): Read timed out. (read timeout=5)\n"
     ]
    },
    {
     "name": "stderr",
     "output_type": "stream",
     "text": [
      "\n",
      "  0%|                                                    | 0/20 [00:00<?, ?it/s]\u001b[A\n",
      " 30%|█████████████▏                              | 6/20 [00:00<00:00, 47.90it/s]\u001b[A\n",
      " 55%|███████████████████████▋                   | 11/20 [00:00<00:00, 43.20it/s]\u001b[A\n",
      " 80%|██████████████████████████████████▍        | 16/20 [00:00<00:00, 35.58it/s]\u001b[A\n",
      " 11%|████▌                                     | 24/219 [01:55<18:50,  5.80s/it]\u001b[A\n",
      "  0%|                                                    | 0/20 [00:00<?, ?it/s]\u001b[A\n",
      " 30%|█████████████▏                              | 6/20 [00:00<00:00, 46.95it/s]\u001b[A\n",
      " 80%|██████████████████████████████████▍        | 16/20 [00:00<00:00, 68.17it/s]\u001b[A\n",
      " 11%|████▊                                     | 25/219 [02:01<18:49,  5.82s/it]\u001b[A"
     ]
    },
    {
     "name": "stdout",
     "output_type": "stream",
     "text": [
      "Problem: https://www.bankinter.com/empresas/en/cfo-forum/subject-matter-experts/news/future-of-tourism: HTTPSConnectionPool(host='www.bankinter.com', port=443): Read timed out. (read timeout=5)\n"
     ]
    },
    {
     "name": "stderr",
     "output_type": "stream",
     "text": [
      "\n",
      "  0%|                                                    | 0/20 [00:00<?, ?it/s]\u001b[A\n",
      " 55%|███████████████████████                   | 11/20 [00:00<00:00, 103.91it/s]\u001b[A\n",
      " 12%|████▉                                     | 26/219 [02:06<18:28,  5.74s/it]\u001b[A"
     ]
    },
    {
     "name": "stdout",
     "output_type": "stream",
     "text": [
      "Problem: https://www.belden.com/es-es/resources/sustainability: HTTPSConnectionPool(host='www.belden.com', port=443): Read timed out. (read timeout=5)\n",
      "Problem: https://www.belden.com/da/resources/sustainability: HTTPSConnectionPool(host='www.belden.com', port=443): Read timed out. (read timeout=5)\n",
      "Problem: https://www.berryglobal.com/sustainability-policy: HTTPSConnectionPool(host='www.berryglobal.com', port=443): Max retries exceeded with url: /sustainability-policy (Caused by SSLError(SSLCertVerificationError(1, '[SSL: CERTIFICATE_VERIFY_FAILED] certificate verify failed: unable to get local issuer certificate (_ssl.c:1129)')))\n",
      "Problem: https://www.berryglobal.com/sustainability/environment: HTTPSConnectionPool(host='www.berryglobal.com', port=443): Max retries exceeded with url: /sustainability/environment (Caused by SSLError(SSLCertVerificationError(1, '[SSL: CERTIFICATE_VERIFY_FAILED] certificate verify failed: unable to get local issuer certificate (_ssl.c:1129)')))\n"
     ]
    },
    {
     "name": "stderr",
     "output_type": "stream",
     "text": [
      "\n",
      "  0%|                                                    | 0/20 [00:00<?, ?it/s]\u001b[A\n",
      "  5%|██▏                                         | 1/20 [00:00<00:05,  3.55it/s]\u001b[A\n",
      " 10%|████▍                                       | 2/20 [00:00<00:03,  5.35it/s]\u001b[A\n",
      " 60%|█████████████████████████▊                 | 12/20 [00:00<00:00, 24.29it/s]\u001b[A\n",
      " 12%|█████▏                                    | 27/219 [02:13<19:02,  5.95s/it]\u001b[A\n",
      "  0%|                                                    | 0/20 [00:00<?, ?it/s]\u001b[A\n",
      " 35%|███████████████▍                            | 7/20 [00:00<00:00, 44.22it/s]\u001b[A\n",
      " 60%|█████████████████████████▊                 | 12/20 [00:00<00:00, 32.97it/s]\u001b[A\n",
      " 13%|█████▎                                    | 28/219 [02:18<18:39,  5.86s/it]\u001b[A"
     ]
    },
    {
     "name": "stdout",
     "output_type": "stream",
     "text": [
      "Problem: https://www.borgwarner.com/company/sustainability: HTTPSConnectionPool(host='www.borgwarner.com', port=443): Read timed out. (read timeout=5)\n"
     ]
    },
    {
     "name": "stderr",
     "output_type": "stream",
     "text": [
      "\n",
      "  0%|                                                    | 0/20 [00:00<?, ?it/s]\u001b[A\n",
      " 25%|███████████                                 | 5/20 [00:00<00:00, 45.04it/s]\u001b[A\n",
      " 50%|█████████████████████▌                     | 10/20 [00:00<00:00, 25.57it/s]\u001b[A\n",
      " 95%|████████████████████████████████████████▊  | 19/20 [00:00<00:00, 43.51it/s]\u001b[A\n",
      " 13%|█████▌                                    | 29/219 [02:24<18:30,  5.85s/it]\u001b[A"
     ]
    },
    {
     "name": "stdout",
     "output_type": "stream",
     "text": [
      "Problem: https://www.braskem.com/idesa/sustainable-strategy: HTTPSConnectionPool(host='www.braskem.com', port=443): Read timed out. (read timeout=5)\n",
      "Problem: https://www.braskem.com/europe/news-detail/braskem-included-once-again-in-b3-corporate-sustainability-index: HTTPSConnectionPool(host='www.braskem.com', port=443): Read timed out. (read timeout=5)\n"
     ]
    },
    {
     "name": "stderr",
     "output_type": "stream",
     "text": [
      "\n",
      "  0%|                                                    | 0/20 [00:00<?, ?it/s]\u001b[A\n",
      " 25%|███████████                                 | 5/20 [00:00<00:00, 47.15it/s]\u001b[A\n",
      " 50%|█████████████████████▌                     | 10/20 [00:00<00:00, 35.01it/s]\u001b[A\n",
      " 70%|██████████████████████████████             | 14/20 [00:00<00:00, 25.17it/s]\u001b[A\n",
      "100%|███████████████████████████████████████████| 20/20 [00:00<00:00, 30.58it/s]\u001b[A\n",
      " 14%|█████▊                                    | 30/219 [02:31<19:34,  6.21s/it]\u001b[A\n",
      "  0%|                                                    | 0/20 [00:00<?, ?it/s]\u001b[A\n",
      " 25%|███████████                                 | 5/20 [00:00<00:00, 40.17it/s]\u001b[A\n",
      " 50%|█████████████████████▌                     | 10/20 [00:00<00:00, 41.66it/s]\u001b[A\n",
      " 75%|████████████████████████████████▎          | 15/20 [00:00<00:00, 39.37it/s]\u001b[A\n",
      " 14%|█████▉                                    | 31/219 [02:36<17:46,  5.67s/it]\u001b[A\n",
      "  0%|                                                    | 0/20 [00:00<?, ?it/s]\u001b[A\n",
      " 25%|███████████                                 | 5/20 [00:00<00:00, 45.98it/s]\u001b[A\n",
      " 65%|███████████████████████████▉               | 13/20 [00:00<00:00, 59.47it/s]\u001b[A\n",
      " 15%|██████▏                                   | 32/219 [02:37<13:40,  4.39s/it]\u001b[A\n",
      "  0%|                                                    | 0/20 [00:00<?, ?it/s]\u001b[A\n",
      " 75%|███████████████████████████████▌          | 15/20 [00:00<00:00, 145.78it/s]\u001b[A\n",
      " 15%|██████▎                                   | 33/219 [02:39<11:14,  3.63s/it]\u001b[A"
     ]
    },
    {
     "name": "stdout",
     "output_type": "stream",
     "text": [
      "Problem: https://www.cmegroup.com/openmarkets/equity-index/risk-reward-sustainability-future-proofing-esg-economy.html: HTTPSConnectionPool(host='www.cmegroup.com', port=443): Read timed out. (read timeout=5)\n",
      "Problem: https://www.cmegroup.com/clearing/sustainable-clearing.html: HTTPSConnectionPool(host='www.cmegroup.com', port=443): Read timed out. (read timeout=5)\n"
     ]
    },
    {
     "name": "stderr",
     "output_type": "stream",
     "text": [
      "\n",
      "  0%|                                                    | 0/20 [00:00<?, ?it/s]\u001b[A\n",
      " 10%|████▍                                       | 2/20 [00:00<00:01, 13.26it/s]\u001b[A\n",
      " 25%|███████████                                 | 5/20 [00:00<00:00, 18.06it/s]\u001b[A\n",
      " 75%|████████████████████████████████▎          | 15/20 [00:00<00:00, 44.92it/s]\u001b[A\n",
      " 16%|██████▌                                   | 34/219 [02:44<12:55,  4.19s/it]\u001b[A"
     ]
    },
    {
     "name": "stdout",
     "output_type": "stream",
     "text": [
      "Problem: https://www.cvrenergy.com/: HTTPSConnectionPool(host='www.cvrenergy.com', port=443): Max retries exceeded with url: / (Caused by ConnectTimeoutError(<urllib3.connection.HTTPSConnection object at 0x7fbaf0af9bb0>, 'Connection to www.cvrenergy.com timed out. (connect timeout=5)'))\n"
     ]
    },
    {
     "name": "stderr",
     "output_type": "stream",
     "text": [
      "\n",
      "  0%|                                                    | 0/20 [00:00<?, ?it/s]\u001b[A\n",
      " 25%|███████████                                 | 5/20 [00:00<00:00, 38.78it/s]\u001b[A\n",
      " 50%|█████████████████████▌                     | 10/20 [00:00<00:00, 37.93it/s]\u001b[A\n",
      " 75%|████████████████████████████████▎          | 15/20 [00:00<00:00, 39.28it/s]\u001b[A\n",
      " 16%|██████▋                                   | 35/219 [02:50<14:03,  4.59s/it]\u001b[A\n",
      "  0%|                                                    | 0/20 [00:00<?, ?it/s]\u001b[A\n",
      " 40%|█████████████████▌                          | 8/20 [00:00<00:00, 40.38it/s]\u001b[A\n",
      " 75%|████████████████████████████████▎          | 15/20 [00:00<00:00, 37.62it/s]\u001b[A\n",
      " 95%|████████████████████████████████████████▊  | 19/20 [00:00<00:00, 30.68it/s]\u001b[A\n",
      " 16%|██████▉                                   | 36/219 [02:55<14:43,  4.83s/it]\u001b[A"
     ]
    },
    {
     "name": "stdout",
     "output_type": "stream",
     "text": [
      "Problem: https://www.canadiansolar.com/solar-plants/project-development/: HTTPSConnectionPool(host='www.canadiansolar.com', port=443): Read timed out. (read timeout=5)\n",
      "Problem: http://www.carabaogroup.com/en/csr/policy: HTTPSConnectionPool(host='www.carabaogroup.com', port=443): Max retries exceeded with url: /en/csr/policy (Caused by SSLError(SSLCertVerificationError(1, '[SSL: CERTIFICATE_VERIFY_FAILED] certificate verify failed: unable to get local issuer certificate (_ssl.c:1129)')))\n",
      "Problem: https://www.carabaogroup.com/en/about/vision: HTTPSConnectionPool(host='www.carabaogroup.com', port=443): Max retries exceeded with url: /en/about/vision (Caused by SSLError(SSLCertVerificationError(1, '[SSL: CERTIFICATE_VERIFY_FAILED] certificate verify failed: unable to get local issuer certificate (_ssl.c:1129)')))\n",
      "Problem: https://www.carabaogroup.com/en/about/message-from-chairman: HTTPSConnectionPool(host='www.carabaogroup.com', port=443): Max retries exceeded with url: /en/about/message-from-chairman (Caused by SSLError(SSLCertVerificationError(1, '[SSL: CERTIFICATE_VERIFY_FAILED] certificate verify failed: unable to get local issuer certificate (_ssl.c:1129)')))\n"
     ]
    },
    {
     "name": "stderr",
     "output_type": "stream",
     "text": [
      "\n",
      "  0%|                                                    | 0/20 [00:00<?, ?it/s]\u001b[A\n",
      " 30%|█████████████▏                              | 6/20 [00:00<00:00, 42.17it/s]\u001b[A\n",
      " 55%|███████████████████████▋                   | 11/20 [00:00<00:00, 31.10it/s]\u001b[A\n",
      " 90%|██████████████████████████████████████▋    | 18/20 [00:00<00:00, 41.77it/s]\u001b[A\n",
      " 17%|███████                                   | 37/219 [03:01<15:32,  5.12s/it]\u001b[A\n",
      "  0%|                                                    | 0/20 [00:00<?, ?it/s]\u001b[A\n",
      " 50%|█████████████████████▌                     | 10/20 [00:00<00:00, 57.50it/s]\u001b[A\n",
      "100%|███████████████████████████████████████████| 20/20 [00:00<00:00, 73.92it/s]\u001b[A\n",
      " 17%|███████▎                                  | 38/219 [03:03<12:56,  4.29s/it]\u001b[A\n",
      "  0%|                                                    | 0/20 [00:00<?, ?it/s]\u001b[A\n",
      " 35%|███████████████▍                            | 7/20 [00:00<00:00, 55.14it/s]\u001b[A\n",
      " 65%|███████████████████████████▉               | 13/20 [00:00<00:00, 43.05it/s]\u001b[A\n",
      " 18%|███████▍                                  | 39/219 [03:08<13:11,  4.40s/it]\u001b[A\n",
      "  0%|                                                    | 0/20 [00:00<?, ?it/s]\u001b[A\n",
      " 60%|█████████████████████████▏                | 12/20 [00:00<00:00, 111.26it/s]\u001b[A\n",
      " 18%|███████▋                                  | 40/219 [03:10<11:23,  3.82s/it]\u001b[A\n",
      "  0%|                                                    | 0/20 [00:00<?, ?it/s]\u001b[A\n",
      " 40%|█████████████████▌                          | 8/20 [00:00<00:00, 53.95it/s]\u001b[A\n",
      " 70%|██████████████████████████████             | 14/20 [00:00<00:00, 55.36it/s]\u001b[A\n",
      "100%|███████████████████████████████████████████| 20/20 [00:00<00:00, 48.29it/s]\u001b[A\n",
      " 19%|███████▊                                  | 41/219 [03:13<10:16,  3.46s/it]\u001b[A"
     ]
    },
    {
     "name": "stdout",
     "output_type": "stream",
     "text": [
      "Problem: https://www.everbright.com/en/corporate-social-responsibility/csr-report: HTTPSConnectionPool(host='www.everbright.com', port=443): Max retries exceeded with url: /en/corporate-social-responsibility/csr-report (Caused by SSLError(SSLCertVerificationError(1, '[SSL: CERTIFICATE_VERIFY_FAILED] certificate verify failed: unable to get local issuer certificate (_ssl.c:1129)')))\n",
      "Problem: https://www.everbright.com/en/corporate-social-responsibility: HTTPSConnectionPool(host='www.everbright.com', port=443): Max retries exceeded with url: /en/corporate-social-responsibility (Caused by SSLError(SSLCertVerificationError(1, '[SSL: CERTIFICATE_VERIFY_FAILED] certificate verify failed: unable to get local issuer certificate (_ssl.c:1129)')))\n",
      "Problem: https://www.everbright.com/en/news/china-everbright-limited-establishes-environmental-social-and-governance-committee: HTTPSConnectionPool(host='www.everbright.com', port=443): Max retries exceeded with url: /en/news/china-everbright-limited-establishes-environmental-social-and-governance-committee (Caused by SSLError(SSLCertVerificationError(1, '[SSL: CERTIFICATE_VERIFY_FAILED] certificate verify failed: unable to get local issuer certificate (_ssl.c:1129)')))\n"
     ]
    },
    {
     "name": "stderr",
     "output_type": "stream",
     "text": [
      "\n",
      "  0%|                                                    | 0/20 [00:00<?, ?it/s]\u001b[A\n",
      " 55%|███████████████████████▋                   | 11/20 [00:00<00:00, 71.73it/s]\u001b[A\n",
      " 19%|████████                                  | 42/219 [03:16<09:23,  3.18s/it]\u001b[A\n",
      "  0%|                                                    | 0/20 [00:00<?, ?it/s]\u001b[A\n",
      " 60%|█████████████████████████▏                | 12/20 [00:00<00:00, 116.00it/s]\u001b[A\n",
      " 20%|████████▏                                 | 43/219 [03:19<09:51,  3.36s/it]\u001b[A"
     ]
    },
    {
     "name": "stdout",
     "output_type": "stream",
     "text": [
      "Problem: https://www.copel.com/hpcopel/english/governance.jsp: HTTPSConnectionPool(host='www.copel.com', port=443): Max retries exceeded with url: /hpcopel/english/governance.jsp (Caused by NewConnectionError('<urllib3.connection.HTTPSConnection object at 0x7fbaeb16e9d0>: Failed to establish a new connection: [Errno 101] Network is unreachable'))\n"
     ]
    },
    {
     "name": "stderr",
     "output_type": "stream",
     "text": [
      "\n",
      "  0%|                                                    | 0/20 [00:00<?, ?it/s]\u001b[A\n",
      " 20%|████████▊                                   | 4/20 [00:00<00:00, 22.77it/s]\u001b[A\n",
      " 40%|█████████████████▌                          | 8/20 [00:00<00:00, 25.87it/s]\u001b[A\n",
      " 55%|███████████████████████▋                   | 11/20 [00:00<00:00, 27.31it/s]\u001b[A\n",
      " 20%|████████▍                                 | 44/219 [03:25<12:08,  4.16s/it]\u001b[A"
     ]
    },
    {
     "name": "stdout",
     "output_type": "stream",
     "text": [
      "Problem: https://www.copel.com/hpcopel/english/siteMap.jsp: HTTPSConnectionPool(host='www.copel.com', port=443): Max retries exceeded with url: /hpcopel/english/siteMap.jsp (Caused by NewConnectionError('<urllib3.connection.HTTPSConnection object at 0x7fbaf0b35bb0>: Failed to establish a new connection: [Errno 101] Network is unreachable'))\n"
     ]
    },
    {
     "name": "stderr",
     "output_type": "stream",
     "text": [
      "\n",
      "  0%|                                                    | 0/20 [00:00<?, ?it/s]\u001b[A\n",
      " 20%|████████▊                                   | 4/20 [00:00<00:00, 34.14it/s]\u001b[A\n",
      " 60%|█████████████████████████▊                 | 12/20 [00:00<00:00, 58.69it/s]\u001b[A\n",
      " 95%|████████████████████████████████████████▊  | 19/20 [00:00<00:00, 47.60it/s]\u001b[A\n",
      " 21%|████████▋                                 | 45/219 [03:32<14:01,  4.84s/it]\u001b[A"
     ]
    },
    {
     "name": "stdout",
     "output_type": "stream",
     "text": [
      "Problem: https://cimpress.com/cimpress-jeff-freeman-takes-home-top-prize-for-global-sustainability-leadership/: HTTPSConnectionPool(host='cimpress.com', port=443): Max retries exceeded with url: /cimpress-jeff-freeman-takes-home-top-prize-for-global-sustainability-leadership/ (Caused by SSLError(SSLCertVerificationError(1, '[SSL: CERTIFICATE_VERIFY_FAILED] certificate verify failed: unable to get local issuer certificate (_ssl.c:1129)')))\n",
      "Problem: https://cimpress.com/reports/: HTTPSConnectionPool(host='cimpress.com', port=443): Max retries exceeded with url: /reports/ (Caused by SSLError(SSLCertVerificationError(1, '[SSL: CERTIFICATE_VERIFY_FAILED] certificate verify failed: unable to get local issuer certificate (_ssl.c:1129)')))\n",
      "Problem: https://cimpress.com/about-us/culture-responsibilities-and-governance/: HTTPSConnectionPool(host='cimpress.com', port=443): Max retries exceeded with url: /about-us/culture-responsibilities-and-governance/ (Caused by SSLError(SSLCertVerificationError(1, '[SSL: CERTIFICATE_VERIFY_FAILED] certificate verify failed: unable to get local issuer certificate (_ssl.c:1129)')))\n"
     ]
    },
    {
     "name": "stderr",
     "output_type": "stream",
     "text": [
      "\n",
      "  0%|                                                    | 0/20 [00:00<?, ?it/s]\u001b[A\n",
      " 35%|███████████████▍                            | 7/20 [00:00<00:00, 62.25it/s]\u001b[A\n",
      " 70%|██████████████████████████████             | 14/20 [00:00<00:00, 60.99it/s]\u001b[A\n",
      " 21%|████████▊                                 | 46/219 [03:38<15:00,  5.20s/it]\u001b[A"
     ]
    },
    {
     "name": "stdout",
     "output_type": "stream",
     "text": [
      "Problem: https://www.cleanaway.com.au/sustainable-future/cleanaway-sustainability-commitments/: HTTPSConnectionPool(host='www.cleanaway.com.au', port=443): Read timed out. (read timeout=5)\n",
      "Problem: https://www.cleanaway.com.au/sustainable-future/working-together-sustainable-communities/: HTTPSConnectionPool(host='www.cleanaway.com.au', port=443): Read timed out. (read timeout=5)\n",
      "Problem: https://www.cleanaway.com.au/sustainable-future/cleanaway-reaffirms-environmental-compliance/: HTTPSConnectionPool(host='www.cleanaway.com.au', port=443): Read timed out. (read timeout=5)\n",
      "Problem: https://www.cleanaway.com.au/recycling-behaviours-report/: HTTPSConnectionPool(host='www.cleanaway.com.au', port=443): Read timed out. (read timeout=5)\n"
     ]
    },
    {
     "name": "stderr",
     "output_type": "stream",
     "text": [
      "\n",
      "  0%|                                                    | 0/20 [00:00<?, ?it/s]\u001b[A\n",
      " 25%|███████████                                 | 5/20 [00:00<00:00, 43.47it/s]\u001b[A\n",
      " 75%|████████████████████████████████▎          | 15/20 [00:00<00:00, 62.09it/s]\u001b[A\n",
      " 21%|█████████                                 | 47/219 [03:47<18:31,  6.46s/it]\u001b[A"
     ]
    },
    {
     "name": "stdout",
     "output_type": "stream",
     "text": [
      "Problem: https://www.cocacolaep.com/sustainability/disclosures-and-recognition/: HTTPSConnectionPool(host='www.cocacolaep.com', port=443): Read timed out. (read timeout=5)\n"
     ]
    },
    {
     "name": "stderr",
     "output_type": "stream",
     "text": [
      "\n",
      "  0%|                                                    | 0/20 [00:00<?, ?it/s]\u001b[A\n",
      "  5%|██▏                                         | 1/20 [00:01<00:22,  1.16s/it]\u001b[A\n",
      " 45%|███████████████████▊                        | 9/20 [00:01<00:01,  9.37it/s]\u001b[A\n",
      " 80%|██████████████████████████████████▍        | 16/20 [00:01<00:00, 17.07it/s]\u001b[A\n",
      " 22%|█████████▏                                | 48/219 [03:54<18:30,  6.49s/it]\u001b[A"
     ]
    },
    {
     "name": "stdout",
     "output_type": "stream",
     "text": [
      "Problem: https://corporate.comcast.com/values/report/2019/sustainability: HTTPSConnectionPool(host='corporate.comcast.com', port=443): Read timed out. (read timeout=5)\n"
     ]
    },
    {
     "name": "stderr",
     "output_type": "stream",
     "text": [
      "\n",
      "  0%|                                                    | 0/20 [00:00<?, ?it/s]\u001b[A\n",
      " 15%|██████▌                                     | 3/20 [00:00<00:00, 24.09it/s]\u001b[A\n",
      " 30%|█████████████▏                              | 6/20 [00:00<00:00, 23.52it/s]\u001b[A\n",
      " 45%|███████████████████▊                        | 9/20 [00:00<00:00, 14.38it/s]\u001b[A\n",
      " 75%|████████████████████████████████▎          | 15/20 [00:00<00:00, 22.90it/s]\u001b[A\n",
      " 22%|█████████▍                                | 49/219 [04:00<17:52,  6.31s/it]\u001b[A"
     ]
    },
    {
     "name": "stdout",
     "output_type": "stream",
     "text": [
      "Problem: https://corporate.comcast.com/values/report/2019/sustainability/drive-to-zero-emissions: HTTPSConnectionPool(host='corporate.comcast.com', port=443): Read timed out. (read timeout=5)\n",
      "Problem: https://corporate.comcast.com/values/report/2020/sky-environmental-sustainability: HTTPSConnectionPool(host='corporate.comcast.com', port=443): Read timed out. (read timeout=5)\n"
     ]
    },
    {
     "name": "stderr",
     "output_type": "stream",
     "text": [
      "\n",
      "  0%|                                                    | 0/20 [00:00<?, ?it/s]\u001b[A\n",
      " 20%|████████▊                                   | 4/20 [00:00<00:00, 16.18it/s]\u001b[A\n",
      " 50%|█████████████████████▌                     | 10/20 [00:00<00:00, 31.66it/s]\u001b[A\n",
      " 23%|█████████▌                                | 50/219 [04:09<20:15,  7.19s/it]\u001b[A"
     ]
    },
    {
     "name": "stdout",
     "output_type": "stream",
     "text": [
      "Problem: https://www.cnegroup.com/en/news/group/2021-03-09/4406.html: HTTPSConnectionPool(host='www.cnegroup.com', port=443): Max retries exceeded with url: /en/news/group/2021-03-09/4406.html (Caused by SSLError(SSLCertVerificationError(1, '[SSL: CERTIFICATE_VERIFY_FAILED] certificate verify failed: unable to get local issuer certificate (_ssl.c:1129)')))\n",
      "Problem: https://www.cnegroup.com/en/news/group/2021-01-15/4331.html: HTTPSConnectionPool(host='www.cnegroup.com', port=443): Max retries exceeded with url: /en/news/group/2021-01-15/4331.html (Caused by SSLError(SSLCertVerificationError(1, '[SSL: CERTIFICATE_VERIFY_FAILED] certificate verify failed: unable to get local issuer certificate (_ssl.c:1129)')))\n",
      "Problem: https://www.cnegroup.com/en/social/public/: HTTPSConnectionPool(host='www.cnegroup.com', port=443): Max retries exceeded with url: /en/social/public/ (Caused by SSLError(SSLCertVerificationError(1, '[SSL: CERTIFICATE_VERIFY_FAILED] certificate verify failed: unable to get local issuer certificate (_ssl.c:1129)')))\n",
      "Problem: https://www.constellium.com/news/2019/07/01/constellium-releases-its-2018-business-and-sustainability-report-highlighting: HTTPSConnectionPool(host='www.constellium.com', port=443): Max retries exceeded with url: /news/2019/07/01/constellium-releases-its-2018-business-and-sustainability-report-highlighting (Caused by SSLError(SSLCertVerificationError(1, '[SSL: CERTIFICATE_VERIFY_FAILED] certificate verify failed: unable to get local issuer certificate (_ssl.c:1129)')))\n",
      "Problem: https://www.constellium.com/news/2021/03/17/constellium-releases-2020-business-and-sustainability-report: HTTPSConnectionPool(host='www.constellium.com', port=443): Max retries exceeded with url: /news/2021/03/17/constellium-releases-2020-business-and-sustainability-report (Caused by SSLError(SSLCertVerificationError(1, '[SSL: CERTIFICATE_VERIFY_FAILED] certificate verify failed: unable to get local issuer certificate (_ssl.c:1129)')))\n",
      "Problem: https://www.constellium.com/news/2020/07/01/constellium-releases-its-2019-business-and-sustainability-report-sets-its-2025: HTTPSConnectionPool(host='www.constellium.com', port=443): Max retries exceeded with url: /news/2020/07/01/constellium-releases-its-2019-business-and-sustainability-report-sets-its-2025 (Caused by SSLError(SSLCertVerificationError(1, '[SSL: CERTIFICATE_VERIFY_FAILED] certificate verify failed: unable to get local issuer certificate (_ssl.c:1129)')))\n"
     ]
    },
    {
     "name": "stderr",
     "output_type": "stream",
     "text": [
      "\n",
      "  0%|                                                    | 0/20 [00:00<?, ?it/s]\u001b[A\n",
      " 55%|███████████████████████▋                   | 11/20 [00:00<00:00, 55.43it/s]\u001b[A\n",
      " 23%|█████████▊                                | 51/219 [04:16<19:34,  6.99s/it]\u001b[A\n",
      "  0%|                                                    | 0/20 [00:00<?, ?it/s]\u001b[A\n",
      " 25%|███████████                                 | 5/20 [00:00<00:00, 45.76it/s]\u001b[A\n",
      " 50%|█████████████████████▌                     | 10/20 [00:00<00:00, 38.75it/s]\u001b[A\n",
      " 70%|██████████████████████████████             | 14/20 [00:00<00:00, 35.32it/s]\u001b[A\n",
      " 24%|█████████▉                                | 52/219 [04:18<15:37,  5.62s/it]\u001b[A\n",
      "  0%|                                                    | 0/20 [00:00<?, ?it/s]\u001b[A\n",
      " 35%|███████████████▍                            | 7/20 [00:00<00:00, 64.09it/s]\u001b[A\n",
      " 70%|██████████████████████████████             | 14/20 [00:00<00:00, 37.58it/s]\u001b[A\n",
      " 95%|████████████████████████████████████████▊  | 19/20 [00:00<00:00, 34.93it/s]\u001b[A\n",
      " 24%|██████████▏                               | 53/219 [04:23<14:46,  5.34s/it]\u001b[A\n",
      "  0%|                                                    | 0/20 [00:00<?, ?it/s]\u001b[A\n",
      " 30%|█████████████▏                              | 6/20 [00:00<00:00, 36.18it/s]\u001b[A\n",
      " 60%|█████████████████████████▊                 | 12/20 [00:00<00:00, 45.68it/s]\u001b[A\n",
      " 25%|██████████▎                               | 54/219 [04:25<12:30,  4.55s/it]\u001b[A"
     ]
    },
    {
     "name": "stdout",
     "output_type": "stream",
     "text": [
      "Problem: https://www.dish.com/dish-cares/: HTTPSConnectionPool(host='www.dish.com', port=443): Read timed out. (read timeout=5)\n"
     ]
    },
    {
     "name": "stderr",
     "output_type": "stream",
     "text": [
      "\n",
      "  0%|                                                    | 0/20 [00:00<?, ?it/s]\u001b[A\n",
      " 45%|███████████████████▊                        | 9/20 [00:00<00:00, 81.92it/s]\u001b[A\n",
      " 90%|██████████████████████████████████████▋    | 18/20 [00:00<00:00, 42.15it/s]\u001b[A\n",
      " 25%|██████████▌                               | 55/219 [04:31<13:21,  4.89s/it]\u001b[A"
     ]
    },
    {
     "name": "stdout",
     "output_type": "stream",
     "text": [
      "Problem: http://www.dteenergy.com/termsofuse.html: HTTPConnectionPool(host='www.dteenergy.com', port=80): Max retries exceeded with url: /termsofuse.html (Caused by ConnectTimeoutError(<urllib3.connection.HTTPConnection object at 0x7fbaf371deb0>, 'Connection to www.dteenergy.com timed out. (connect timeout=5)'))\n",
      "Problem: http://www.dteenergy.com/?refPageViewId=5d14c09a6496146a: HTTPConnectionPool(host='www.dteenergy.com', port=80): Max retries exceeded with url: /?refPageViewId=5d14c09a6496146a (Caused by ConnectTimeoutError(<urllib3.connection.HTTPConnection object at 0x7fbaf3716520>, 'Connection to www.dteenergy.com timed out. (connect timeout=5)'))\n"
     ]
    },
    {
     "name": "stderr",
     "output_type": "stream",
     "text": [
      "\n",
      "  0%|                                                    | 0/20 [00:00<?, ?it/s]\u001b[A\n",
      " 45%|███████████████████▊                        | 9/20 [00:00<00:00, 70.77it/s]\u001b[A\n",
      " 85%|████████████████████████████████████▌      | 17/20 [00:00<00:00, 47.37it/s]\u001b[A\n",
      " 26%|██████████▋                               | 56/219 [04:37<13:54,  5.12s/it]\u001b[A\n",
      "  0%|                                                    | 0/20 [00:00<?, ?it/s]\u001b[A\n",
      " 15%|██████▌                                     | 3/20 [00:00<00:00, 22.18it/s]\u001b[A\n",
      " 30%|█████████████▏                              | 6/20 [00:00<00:00, 21.45it/s]\u001b[A\n",
      " 75%|████████████████████████████████▎          | 15/20 [00:00<00:00, 43.48it/s]\u001b[A\n",
      "100%|███████████████████████████████████████████| 20/20 [00:00<00:00, 38.32it/s]\u001b[A\n",
      " 26%|██████████▉                               | 57/219 [04:41<12:50,  4.75s/it]\u001b[A"
     ]
    },
    {
     "name": "stdout",
     "output_type": "stream",
     "text": [
      "Problem: http://www.dtpower.com/news/2020/04/30/c_30672.htm: ('Connection aborted.', RemoteDisconnected('Remote end closed connection without response'))\n",
      "Problem: http://www.dtpower.com/news/2021/04/24/c_34535.htm: ('Connection aborted.', RemoteDisconnected('Remote end closed connection without response'))\n",
      "Problem: http://www.dtpower.com/news/2021/01/30/c_32870.htm: ('Connection aborted.', RemoteDisconnected('Remote end closed connection without response'))\n"
     ]
    },
    {
     "name": "stderr",
     "output_type": "stream",
     "text": [
      "\n",
      "  0%|                                                    | 0/20 [00:00<?, ?it/s]\u001b[A\n",
      "  5%|██▏                                         | 1/20 [00:00<00:01,  9.62it/s]\u001b[A\n",
      " 50%|█████████████████████▌                     | 10/20 [00:00<00:00, 54.06it/s]\u001b[A\n",
      " 80%|██████████████████████████████████▍        | 16/20 [00:00<00:00, 46.54it/s]\u001b[A\n",
      " 26%|███████████                               | 58/219 [04:44<11:35,  4.32s/it]\u001b[A"
     ]
    },
    {
     "name": "stdout",
     "output_type": "stream",
     "text": [
      "Problem: https://www.desktopmetal.com/press?category=coverage: HTTPSConnectionPool(host='www.desktopmetal.com', port=443): Read timed out. (read timeout=5)\n"
     ]
    },
    {
     "name": "stderr",
     "output_type": "stream",
     "text": [
      "\n",
      "  0%|                                                    | 0/20 [00:00<?, ?it/s]\u001b[A\n",
      " 20%|████████▊                                   | 4/20 [00:00<00:00, 25.44it/s]\u001b[A\n",
      " 70%|██████████████████████████████             | 14/20 [00:00<00:00, 59.37it/s]\u001b[A\n",
      " 27%|███████████▎                              | 59/219 [04:49<12:27,  4.67s/it]\u001b[A\n",
      "  0%|                                                    | 0/20 [00:00<?, ?it/s]\u001b[A\n",
      " 20%|████████▊                                   | 4/20 [00:00<00:00, 36.22it/s]\u001b[A\n",
      " 55%|███████████████████████▋                   | 11/20 [00:00<00:00, 48.41it/s]\u001b[A\n",
      " 80%|██████████████████████████████████▍        | 16/20 [00:00<00:00, 33.79it/s]\u001b[A\n",
      " 27%|███████████▌                              | 60/219 [04:53<11:38,  4.39s/it]\u001b[A\n",
      "  0%|                                                    | 0/20 [00:00<?, ?it/s]\u001b[A\n",
      " 30%|█████████████▏                              | 6/20 [00:00<00:00, 56.73it/s]\u001b[A\n",
      " 60%|█████████████████████████▊                 | 12/20 [00:00<00:00, 46.51it/s]\u001b[A\n",
      " 85%|████████████████████████████████████▌      | 17/20 [00:00<00:00, 45.09it/s]\u001b[A\n",
      " 28%|███████████▋                              | 61/219 [04:57<11:01,  4.19s/it]\u001b[A\n",
      "  0%|                                                    | 0/20 [00:00<?, ?it/s]\u001b[A\n",
      " 30%|█████████████▏                              | 6/20 [00:00<00:00, 54.42it/s]\u001b[A\n",
      " 60%|█████████████████████████▊                 | 12/20 [00:00<00:00, 40.99it/s]\u001b[A\n",
      " 85%|████████████████████████████████████▌      | 17/20 [00:00<00:00, 40.93it/s]\u001b[A\n",
      " 28%|███████████▉                              | 62/219 [05:01<10:52,  4.15s/it]\u001b[A\n",
      "  0%|                                                    | 0/20 [00:00<?, ?it/s]\u001b[A\n",
      "  5%|██▏                                         | 1/20 [00:00<00:02,  8.47it/s]\u001b[A\n",
      " 10%|████▍                                       | 2/20 [00:00<00:01,  9.17it/s]\u001b[A\n",
      " 15%|██████▌                                     | 3/20 [00:00<00:02,  7.87it/s]\u001b[A\n",
      " 55%|███████████████████████▋                   | 11/20 [00:00<00:00, 30.04it/s]\u001b[A\n",
      " 95%|████████████████████████████████████████▊  | 19/20 [00:00<00:00, 40.47it/s]\u001b[A\n",
      " 29%|████████████                              | 63/219 [05:05<11:01,  4.24s/it]\u001b[A\n",
      "  0%|                                                    | 0/20 [00:00<?, ?it/s]\u001b[A\n",
      "  5%|██▏                                         | 1/20 [00:00<00:02,  8.37it/s]\u001b[A\n",
      " 60%|█████████████████████████▊                 | 12/20 [00:00<00:00, 63.44it/s]\u001b[A\n",
      " 95%|████████████████████████████████████████▊  | 19/20 [00:00<00:00, 63.89it/s]\u001b[A\n",
      " 29%|████████████▎                             | 64/219 [05:07<09:16,  3.59s/it]\u001b[A"
     ]
    },
    {
     "name": "stdout",
     "output_type": "stream",
     "text": [
      "Problem: https://www.ecolab.com/corporate-responsibility/sustainability-progress-report: HTTPSConnectionPool(host='www.ecolab.com', port=443): Read timed out. (read timeout=5)\n"
     ]
    },
    {
     "name": "stderr",
     "output_type": "stream",
     "text": [
      "\n",
      "  0%|                                                    | 0/20 [00:00<?, ?it/s]\u001b[A\n",
      " 30%|█████████████▏                              | 6/20 [00:00<00:00, 40.94it/s]\u001b[A\n",
      " 60%|█████████████████████████▊                 | 12/20 [00:00<00:00, 47.08it/s]\u001b[A\n",
      "100%|███████████████████████████████████████████| 20/20 [00:00<00:00, 55.24it/s]\u001b[A\n",
      " 30%|████████████▍                             | 65/219 [05:13<10:42,  4.17s/it]\u001b[A"
     ]
    },
    {
     "name": "stdout",
     "output_type": "stream",
     "text": [
      "Problem: https://edgewell.com/sustainability/: HTTPSConnectionPool(host='edgewell.com', port=443): Max retries exceeded with url: /sustainability/ (Caused by SSLError(SSLCertVerificationError(1, '[SSL: CERTIFICATE_VERIFY_FAILED] certificate verify failed: unable to get local issuer certificate (_ssl.c:1129)')))\n",
      "Problem: https://www.elcorteingles.com/en/sustainability/what-do-we-do/: HTTPSConnectionPool(host='www.elcorteingles.com', port=443): Read timed out. (read timeout=5)\n",
      "Problem: https://www.elcorteingles.com/en/sustainability/home/20/: HTTPSConnectionPool(host='www.elcorteingles.com', port=443): Read timed out. (read timeout=5)\n",
      "Problem: https://www.elcorteingles.com/en/sustainability/home/kitchenware/: HTTPSConnectionPool(host='www.elcorteingles.com', port=443): Read timed out. (read timeout=5)\n",
      "Problem: https://www.edf.fr/en/the-edf-group/taking-action-as-a-responsible-company/reports-and-indicators/reports: HTTPSConnectionPool(host='www.edf.fr', port=443): Read timed out. (read timeout=5)\n",
      "Problem: https://www.edf.fr/en/the-edf-group/taking-action-as-a-responsible-company/reports-and-indicators/non-financial-kpis/esg-indicators: HTTPSConnectionPool(host='www.edf.fr', port=443): Read timed out. (read timeout=5)\n"
     ]
    },
    {
     "name": "stderr",
     "output_type": "stream",
     "text": [
      "\n",
      "  0%|                                                    | 0/20 [00:00<?, ?it/s]\u001b[A\n",
      " 15%|██████▌                                     | 3/20 [00:00<00:00, 25.50it/s]\u001b[A\n",
      " 30%|█████████████▏                              | 6/20 [00:00<00:00, 23.80it/s]\u001b[A\n",
      " 85%|████████████████████████████████████▌      | 17/20 [00:00<00:00, 55.94it/s]\u001b[A\n",
      " 30%|████████████▋                             | 66/219 [05:19<11:55,  4.68s/it]\u001b[A"
     ]
    },
    {
     "name": "stdout",
     "output_type": "stream",
     "text": [
      "Problem: https://www.electrolux.com/sustainability: HTTPSConnectionPool(host='www.electrolux.nl', port=443): Read timed out. (read timeout=5)\n",
      "Problem: https://www.emerson.com/en-us/esg/sustainability: ('Received response with content-encoding: gzip, but failed to decode it.', error('Error -3 while decompressing data: incorrect header check'))\n"
     ]
    },
    {
     "name": "stderr",
     "output_type": "stream",
     "text": [
      "\n",
      "  0%|                                                    | 0/20 [00:00<?, ?it/s]\u001b[A\n",
      " 30%|█████████████▏                              | 6/20 [00:00<00:00, 59.06it/s]\u001b[A\n",
      " 70%|██████████████████████████████             | 14/20 [00:00<00:00, 36.99it/s]\u001b[A\n",
      " 95%|████████████████████████████████████████▊  | 19/20 [00:00<00:00, 39.62it/s]\u001b[A\n",
      " 31%|████████████▊                             | 67/219 [05:25<12:48,  5.06s/it]\u001b[A"
     ]
    },
    {
     "name": "stdout",
     "output_type": "stream",
     "text": [
      "Problem: https://encompasshealth.com/locations/sustainability: HTTPSConnectionPool(host='encompasshealth.com', port=443): Read timed out. (read timeout=5)\n",
      "Problem: https://encompasshealth.com/locations/sustainability/mark-letter: HTTPSConnectionPool(host='encompasshealth.com', port=443): Read timed out. (read timeout=5)\n"
     ]
    },
    {
     "name": "stderr",
     "output_type": "stream",
     "text": [
      "\n",
      "  0%|                                                    | 0/20 [00:00<?, ?it/s]\u001b[A\n",
      " 55%|███████████████████████                   | 11/20 [00:00<00:00, 105.90it/s]\u001b[A\n",
      " 31%|█████████████                             | 68/219 [05:31<13:16,  5.28s/it]\u001b[A\n",
      "  0%|                                                    | 0/20 [00:00<?, ?it/s]\u001b[A\n",
      " 45%|███████████████████▊                        | 9/20 [00:00<00:00, 65.93it/s]\u001b[A\n",
      " 80%|██████████████████████████████████▍        | 16/20 [00:00<00:00, 35.88it/s]\u001b[A\n",
      " 32%|█████████████▏                            | 69/219 [05:36<13:31,  5.41s/it]\u001b[A"
     ]
    },
    {
     "name": "stdout",
     "output_type": "stream",
     "text": [
      "Problem: https://www.enterpriseproducts.com/2019-2020-sustainability-report-viewer/: HTTPSConnectionPool(host='www.enterpriseproducts.com', port=443): Max retries exceeded with url: /2019-2020-sustainability-report-viewer/ (Caused by SSLError(SSLCertVerificationError(1, '[SSL: CERTIFICATE_VERIFY_FAILED] certificate verify failed: unable to get local issuer certificate (_ssl.c:1129)')))\n",
      "Problem: https://www.enterpriseproducts.com/documents?download=2021-Sustainability-Supplement&type=PDF&linkText=2021%20Sustainability%20Supplement: HTTPSConnectionPool(host='www.enterpriseproducts.com', port=443): Max retries exceeded with url: /documents?download=2021-Sustainability-Supplement&type=PDF&linkText=2021%20Sustainability%20Supplement (Caused by SSLError(SSLCertVerificationError(1, '[SSL: CERTIFICATE_VERIFY_FAILED] certificate verify failed: unable to get local issuer certificate (_ssl.c:1129)')))\n"
     ]
    },
    {
     "name": "stderr",
     "output_type": "stream",
     "text": [
      "\n",
      "  0%|                                                    | 0/20 [00:00<?, ?it/s]\u001b[A\n",
      " 60%|█████████████████████████▏                | 12/20 [00:00<00:00, 112.77it/s]\u001b[A\n",
      " 32%|█████████████▍                            | 70/219 [05:46<16:29,  6.64s/it]\u001b[A\n",
      "  0%|                                                    | 0/20 [00:00<?, ?it/s]\u001b[A\n",
      " 25%|███████████                                 | 5/20 [00:00<00:00, 24.37it/s]\u001b[A\n",
      " 60%|█████████████████████████▊                 | 12/20 [00:00<00:00, 37.72it/s]\u001b[A\n",
      " 85%|████████████████████████████████████▌      | 17/20 [00:00<00:00, 36.68it/s]\u001b[A\n",
      " 32%|█████████████▌                            | 71/219 [05:50<14:38,  5.94s/it]\u001b[A"
     ]
    },
    {
     "name": "stdout",
     "output_type": "stream",
     "text": [
      "Problem: https://www.europcar-mobility-group.com/press-releases: HTTPSConnectionPool(host='www.europcar-mobility-group.com', port=443): Max retries exceeded with url: /press-releases (Caused by SSLError(SSLCertVerificationError(1, '[SSL: CERTIFICATE_VERIFY_FAILED] certificate verify failed: unable to get local issuer certificate (_ssl.c:1129)')))\n",
      "Problem: https://europcar-mobility-group.com/: HTTPSConnectionPool(host='europcar-mobility-group.com', port=443): Max retries exceeded with url: / (Caused by SSLError(SSLCertVerificationError(1, '[SSL: CERTIFICATE_VERIFY_FAILED] certificate verify failed: unable to get local issuer certificate (_ssl.c:1129)')))\n",
      "Problem: https://europcar-mobility-group.com/group: HTTPSConnectionPool(host='europcar-mobility-group.com', port=443): Max retries exceeded with url: /group (Caused by SSLError(SSLCertVerificationError(1, '[SSL: CERTIFICATE_VERIFY_FAILED] certificate verify failed: unable to get local issuer certificate (_ssl.c:1129)')))\n",
      "Problem: https://www.everestre.com/Corporate-Responsibility/Environmental-Policy: HTTPSConnectionPool(host='www.everestre.com', port=443): Max retries exceeded with url: /Corporate-Responsibility/Environmental-Policy (Caused by SSLError(SSLCertVerificationError(1, '[SSL: CERTIFICATE_VERIFY_FAILED] certificate verify failed: unable to get local issuer certificate (_ssl.c:1129)')))\n",
      "Problem: https://www.everestre.com/Corporate-Responsibility/Social-Responsibility: HTTPSConnectionPool(host='www.everestre.com', port=443): Max retries exceeded with url: /Corporate-Responsibility/Social-Responsibility (Caused by SSLError(SSLCertVerificationError(1, '[SSL: CERTIFICATE_VERIFY_FAILED] certificate verify failed: unable to get local issuer certificate (_ssl.c:1129)')))\n"
     ]
    },
    {
     "name": "stderr",
     "output_type": "stream",
     "text": [
      "\n",
      "  0%|                                                    | 0/20 [00:00<?, ?it/s]\u001b[A\n",
      " 10%|████▍                                       | 2/20 [00:00<00:01, 14.60it/s]\u001b[A\n",
      " 20%|████████▊                                   | 4/20 [00:00<00:01, 11.97it/s]\u001b[A\n",
      " 30%|█████████████▏                              | 6/20 [00:00<00:01,  8.59it/s]\u001b[A\n",
      " 80%|██████████████████████████████████▍        | 16/20 [00:00<00:00, 26.87it/s]\u001b[A\n",
      " 33%|█████████████▊                            | 72/219 [05:53<12:25,  5.07s/it]\u001b[A\n",
      "  0%|                                                    | 0/20 [00:00<?, ?it/s]\u001b[A\n",
      " 10%|████▍                                       | 2/20 [00:00<00:00, 19.15it/s]\u001b[A\n",
      " 35%|███████████████▍                            | 7/20 [00:00<00:00, 36.75it/s]\u001b[A\n",
      " 55%|███████████████████████▋                   | 11/20 [00:00<00:00, 30.22it/s]\u001b[A\n",
      " 75%|████████████████████████████████▎          | 15/20 [00:00<00:00, 28.03it/s]\u001b[A\n",
      " 90%|██████████████████████████████████████▋    | 18/20 [00:00<00:00, 28.58it/s]\u001b[A\n",
      " 33%|██████████████                            | 73/219 [05:57<11:29,  4.72s/it]\u001b[A"
     ]
    },
    {
     "name": "stdout",
     "output_type": "stream",
     "text": [
      "Problem: https://www.falckrenewables.com/en/about-us/sustainability-report: HTTPSConnectionPool(host='www.falckrenewables.com', port=443): Read timed out. (read timeout=5)\n",
      "Problem: https://www.falckrenewables.com/en/media/documents-detail/falck-renewables-takes-first-place-top-100-esg-sustainability-award: HTTPSConnectionPool(host='www.falckrenewables.com', port=443): Read timed out. (read timeout=5)\n"
     ]
    },
    {
     "name": "stderr",
     "output_type": "stream",
     "text": [
      "\n",
      "  0%|                                                    | 0/20 [00:00<?, ?it/s]\u001b[A\n",
      " 30%|█████████████▏                              | 6/20 [00:00<00:00, 52.27it/s]\u001b[A\n",
      " 80%|██████████████████████████████████▍        | 16/20 [00:00<00:00, 60.19it/s]\u001b[A\n",
      " 34%|██████████████▏                           | 74/219 [06:03<11:57,  4.95s/it]\u001b[A\n",
      "  0%|                                                    | 0/20 [00:00<?, ?it/s]\u001b[A\n",
      " 35%|███████████████▍                            | 7/20 [00:00<00:00, 67.02it/s]\u001b[A\n",
      " 70%|██████████████████████████████             | 14/20 [00:00<00:00, 33.29it/s]\u001b[A\n",
      " 95%|████████████████████████████████████████▊  | 19/20 [00:00<00:00, 35.76it/s]\u001b[A\n",
      " 34%|██████████████▍                           | 75/219 [06:05<10:15,  4.27s/it]\u001b[A\n",
      "  0%|                                                    | 0/20 [00:00<?, ?it/s]\u001b[A\n",
      " 25%|███████████                                 | 5/20 [00:00<00:00, 45.08it/s]\u001b[A\n",
      " 50%|█████████████████████▌                     | 10/20 [00:00<00:00, 26.61it/s]\u001b[A\n",
      " 70%|██████████████████████████████             | 14/20 [00:00<00:00, 18.58it/s]\u001b[A\n",
      " 85%|████████████████████████████████████▌      | 17/20 [00:00<00:00, 20.91it/s]\u001b[A\n",
      " 35%|██████████████▌                           | 76/219 [06:23<19:51,  8.33s/it]\u001b[A"
     ]
    },
    {
     "name": "stdout",
     "output_type": "stream",
     "text": [
      "Problem: https://www.fordotosan.com.tr/en/sustainability/sustainability-reports: HTTPSConnectionPool(host='www.fordotosan.com.tr', port=443): Max retries exceeded with url: /en/sustainability/sustainability-reports (Caused by SSLError(SSLCertVerificationError(1, '[SSL: CERTIFICATE_VERIFY_FAILED] certificate verify failed: unable to get local issuer certificate (_ssl.c:1129)')))\n",
      "Problem: https://www.fordotosan.com.tr/en/sustainability/sustainability-approach: HTTPSConnectionPool(host='www.fordotosan.com.tr', port=443): Max retries exceeded with url: /en/sustainability/sustainability-approach (Caused by SSLError(SSLCertVerificationError(1, '[SSL: CERTIFICATE_VERIFY_FAILED] certificate verify failed: unable to get local issuer certificate (_ssl.c:1129)')))\n"
     ]
    },
    {
     "name": "stderr",
     "output_type": "stream",
     "text": [
      "\n",
      "  0%|                                                    | 0/20 [00:00<?, ?it/s]\u001b[A\n",
      " 10%|████▍                                       | 2/20 [00:00<00:02,  6.98it/s]\u001b[A\n",
      " 15%|██████▌                                     | 3/20 [00:00<00:02,  6.35it/s]\u001b[A\n",
      " 20%|████████▊                                   | 4/20 [00:00<00:02,  6.11it/s]\u001b[A\n",
      " 55%|███████████████████████▋                   | 11/20 [00:00<00:00, 20.44it/s]\u001b[A\n",
      " 70%|██████████████████████████████             | 14/20 [00:00<00:00, 22.04it/s]\u001b[A\n",
      " 95%|████████████████████████████████████████▊  | 19/20 [00:01<00:00, 22.63it/s]\u001b[A\n",
      " 35%|██████████████▊                           | 77/219 [06:26<15:58,  6.75s/it]\u001b[A\n",
      "  0%|                                                    | 0/20 [00:00<?, ?it/s]\u001b[A\n",
      " 35%|███████████████▍                            | 7/20 [00:00<00:00, 54.34it/s]\u001b[A\n",
      " 65%|███████████████████████████▉               | 13/20 [00:00<00:00, 40.39it/s]\u001b[A\n",
      " 90%|██████████████████████████████████████▋    | 18/20 [00:00<00:00, 16.05it/s]\u001b[A\n",
      " 36%|██████████████▉                           | 78/219 [06:29<13:26,  5.72s/it]\u001b[A\n",
      "  0%|                                                    | 0/20 [00:00<?, ?it/s]\u001b[A\n",
      " 45%|███████████████████▊                        | 9/20 [00:00<00:00, 84.73it/s]\u001b[A\n",
      " 90%|██████████████████████████████████████▋    | 18/20 [00:00<00:00, 47.29it/s]\u001b[A\n",
      " 36%|███████████████▏                          | 79/219 [06:32<11:14,  4.82s/it]\u001b[A\n",
      "  0%|                                                    | 0/20 [00:00<?, ?it/s]\u001b[A\n",
      " 45%|███████████████████▊                        | 9/20 [00:00<00:00, 88.02it/s]\u001b[A\n",
      " 90%|██████████████████████████████████████▋    | 18/20 [00:00<00:00, 39.37it/s]\u001b[A\n",
      " 37%|███████████████▎                          | 80/219 [06:39<12:56,  5.58s/it]\u001b[A\n",
      "  0%|                                                    | 0/20 [00:00<?, ?it/s]\u001b[A\n",
      " 10%|████▍                                       | 2/20 [00:00<00:01,  9.88it/s]\u001b[A\n",
      " 20%|████████▊                                   | 4/20 [00:00<00:01, 10.47it/s]\u001b[A\n",
      " 45%|███████████████████▊                        | 9/20 [00:00<00:00, 22.16it/s]\u001b[A\n",
      " 60%|█████████████████████████▊                 | 12/20 [00:00<00:00, 18.32it/s]\u001b[A\n",
      " 80%|██████████████████████████████████▍        | 16/20 [00:00<00:00, 22.36it/s]\u001b[A\n",
      "100%|███████████████████████████████████████████| 20/20 [00:01<00:00, 20.61it/s]\u001b[A\n",
      " 37%|███████████████▌                          | 81/219 [06:45<12:37,  5.49s/it]\u001b[A\n",
      "  0%|                                                    | 0/20 [00:00<?, ?it/s]\u001b[A\n",
      "  5%|██▏                                         | 1/20 [00:00<00:01,  9.88it/s]\u001b[A\n",
      " 40%|█████████████████▌                          | 8/20 [00:00<00:00, 43.11it/s]\u001b[A\n",
      " 75%|████████████████████████████████▎          | 15/20 [00:00<00:00, 47.68it/s]\u001b[A\n",
      " 37%|███████████████▋                          | 82/219 [06:48<10:57,  4.80s/it]\u001b[A\n",
      "  0%|                                                    | 0/20 [00:00<?, ?it/s]\u001b[A\n",
      " 25%|███████████                                 | 5/20 [00:00<00:00, 37.87it/s]\u001b[A\n",
      " 45%|███████████████████▊                        | 9/20 [00:00<00:00, 23.33it/s]\u001b[A\n",
      " 38%|███████████████▉                          | 83/219 [06:51<09:56,  4.39s/it]\u001b[A\n",
      "  0%|                                                    | 0/20 [00:00<?, ?it/s]\u001b[A\n",
      " 20%|████████▊                                   | 4/20 [00:00<00:00, 28.73it/s]\u001b[A\n",
      " 35%|███████████████▍                            | 7/20 [00:00<00:00, 26.37it/s]\u001b[A\n",
      " 80%|██████████████████████████████████▍        | 16/20 [00:00<00:00, 50.49it/s]\u001b[A\n",
      " 38%|████████████████                          | 84/219 [06:57<10:35,  4.71s/it]\u001b[A\n",
      "  0%|                                                    | 0/20 [00:00<?, ?it/s]\u001b[A\n",
      " 35%|███████████████▍                            | 7/20 [00:00<00:00, 58.27it/s]\u001b[A\n",
      " 65%|███████████████████████████▉               | 13/20 [00:00<00:00, 37.21it/s]\u001b[A\n",
      " 39%|████████████████▎                         | 85/219 [07:01<10:28,  4.69s/it]\u001b[A"
     ]
    },
    {
     "name": "stdout",
     "output_type": "stream",
     "text": [
      "Problem: https://www.banorte.com/cms/informes/Informeanual2020/en/capital-humano.html: HTTPSConnectionPool(host='www.banorte.com', port=443): Read timed out. (read timeout=5)\n"
     ]
    },
    {
     "name": "stderr",
     "output_type": "stream",
     "text": [
      "\n",
      "  0%|                                                    | 0/20 [00:00<?, ?it/s]\u001b[A\n",
      " 55%|███████████████████████▋                   | 11/20 [00:00<00:00, 40.70it/s]\u001b[A\n",
      " 95%|████████████████████████████████████████▊  | 19/20 [00:00<00:00, 52.78it/s]\u001b[A\n",
      " 39%|████████████████▍                         | 86/219 [07:08<11:26,  5.16s/it]\u001b[A"
     ]
    },
    {
     "name": "stdout",
     "output_type": "stream",
     "text": [
      "Problem: https://www.hp.com/us-en/shop/tech-takes/hp-sustainable-impact-report-2020: HTTPSConnectionPool(host='www.hp.com', port=443): Read timed out. (read timeout=5)\n",
      "Problem: https://group.hugoboss.com/en/responsibility/news-and-downloads/sustainability-reports?ef_id=%3AG%3As&cHash=f767ec7dc0e1851c5d8f6ff6912c5932: HTTPSConnectionPool(host='group.hugoboss.com', port=443): Read timed out. (read timeout=5)\n"
     ]
    },
    {
     "name": "stderr",
     "output_type": "stream",
     "text": [
      "\n",
      "  0%|                                                    | 0/20 [00:00<?, ?it/s]\u001b[A\n",
      " 30%|█████████████▏                              | 6/20 [00:00<00:00, 43.09it/s]\u001b[A\n",
      " 55%|███████████████████████▋                   | 11/20 [00:00<00:00, 28.92it/s]\u001b[A\n",
      " 85%|████████████████████████████████████▌      | 17/20 [00:00<00:00, 37.30it/s]\u001b[A\n",
      " 40%|████████████████▋                         | 87/219 [07:13<11:42,  5.32s/it]\u001b[A\n",
      "  0%|                                                    | 0/20 [00:00<?, ?it/s]\u001b[A\n",
      " 45%|███████████████████▊                        | 9/20 [00:00<00:00, 56.83it/s]\u001b[A\n",
      " 75%|████████████████████████████████▎          | 15/20 [00:00<00:00, 33.87it/s]\u001b[A\n",
      " 95%|████████████████████████████████████████▊  | 19/20 [00:00<00:00, 29.41it/s]\u001b[A\n",
      " 40%|████████████████▉                         | 88/219 [07:17<10:18,  4.72s/it]\u001b[A\n",
      "  0%|                                                    | 0/20 [00:00<?, ?it/s]\u001b[A\n",
      " 30%|█████████████▏                              | 6/20 [00:00<00:00, 47.56it/s]\u001b[A\n",
      " 65%|███████████████████████████▉               | 13/20 [00:00<00:00, 58.93it/s]\u001b[A\n",
      " 41%|█████████████████                         | 89/219 [07:19<08:27,  3.91s/it]\u001b[A"
     ]
    },
    {
     "name": "stdout",
     "output_type": "stream",
     "text": [
      "Problem: https://www.cosmote.gr/cs/otegroup/en/sustainability_governance.html: Exceeded 30 redirects.\n",
      "Problem: https://www.cosmote.gr/cs/otegroup/en/investor_calendar.html: Exceeded 30 redirects.\n",
      "Problem: https://www.cosmote.gr/cs/otegroup/en/approach_and_performance.html: Exceeded 30 redirects.\n"
     ]
    },
    {
     "name": "stderr",
     "output_type": "stream",
     "text": [
      "\n",
      "  0%|                                                    | 0/20 [00:00<?, ?it/s]\u001b[A\n",
      "  5%|██▏                                         | 1/20 [00:00<00:02,  8.91it/s]\u001b[A\n",
      " 55%|███████████████████████▋                   | 11/20 [00:00<00:00, 52.66it/s]\u001b[A\n",
      " 85%|████████████████████████████████████▌      | 17/20 [00:00<00:00, 43.00it/s]\u001b[A\n",
      " 41%|█████████████████▎                        | 90/219 [07:39<18:39,  8.67s/it]\u001b[A\n",
      "  0%|                                                    | 0/20 [00:00<?, ?it/s]\u001b[A\n",
      " 80%|█████████████████████████████████▌        | 16/20 [00:00<00:00, 155.07it/s]\u001b[A\n",
      " 42%|█████████████████▍                        | 91/219 [07:41<14:48,  6.94s/it]\u001b[A\n",
      "  0%|                                                    | 0/20 [00:00<?, ?it/s]\u001b[A\n",
      " 25%|███████████                                 | 5/20 [00:00<00:00, 26.50it/s]\u001b[A\n",
      " 60%|█████████████████████████▊                 | 12/20 [00:00<00:00, 43.65it/s]\u001b[A\n",
      " 95%|████████████████████████████████████████▊  | 19/20 [00:00<00:00, 47.26it/s]\u001b[A\n",
      " 42%|█████████████████▋                        | 92/219 [07:50<15:41,  7.42s/it]\u001b[A"
     ]
    },
    {
     "name": "stdout",
     "output_type": "stream",
     "text": [
      "Problem: https://www.hpi.com.cn/sites/english/ESG%20Report/publish.aspx: HTTPSConnectionPool(host='www.hpi.com.cn', port=443): Max retries exceeded with url: /sites/english/ESG%20Report/publish.aspx (Caused by SSLError(SSLCertVerificationError(1, '[SSL: CERTIFICATE_VERIFY_FAILED] certificate verify failed: unable to get local issuer certificate (_ssl.c:1129)')))\n",
      "Problem: https://www.hpi.com.cn/sites/english/Pages/energysaving.aspx: HTTPSConnectionPool(host='www.hpi.com.cn', port=443): Max retries exceeded with url: /sites/english/Pages/energysaving.aspx (Caused by SSLError(SSLCertVerificationError(1, '[SSL: CERTIFICATE_VERIFY_FAILED] certificate verify failed: unable to get local issuer certificate (_ssl.c:1129)')))\n",
      "Problem: https://www.hpi.com.cn/sites/english/Pages/Organisation.aspx: HTTPSConnectionPool(host='www.hpi.com.cn', port=443): Max retries exceeded with url: /sites/english/Pages/Organisation.aspx (Caused by SSLError(SSLCertVerificationError(1, '[SSL: CERTIFICATE_VERIFY_FAILED] certificate verify failed: unable to get local issuer certificate (_ssl.c:1129)')))\n"
     ]
    },
    {
     "name": "stderr",
     "output_type": "stream",
     "text": [
      "\n",
      "  0%|                                                    | 0/20 [00:00<?, ?it/s]\u001b[A\n",
      " 45%|███████████████████▊                        | 9/20 [00:00<00:00, 52.61it/s]\u001b[A\n",
      " 75%|████████████████████████████████▎          | 15/20 [00:00<00:00, 37.76it/s]\u001b[A\n",
      " 42%|█████████████████▊                        | 93/219 [07:52<12:12,  5.81s/it]\u001b[A\n",
      "  0%|                                                    | 0/20 [00:00<?, ?it/s]\u001b[A\n",
      "  5%|██▏                                         | 1/20 [00:00<00:04,  4.66it/s]\u001b[A\n",
      " 10%|████▍                                       | 2/20 [00:00<00:03,  5.61it/s]\u001b[A\n",
      " 15%|██████▌                                     | 3/20 [00:00<00:03,  4.55it/s]\u001b[A\n",
      " 40%|█████████████████▌                          | 8/20 [00:00<00:00, 14.74it/s]\u001b[A\n",
      " 70%|██████████████████████████████             | 14/20 [00:00<00:00, 25.49it/s]\u001b[A\n",
      " 90%|██████████████████████████████████████▋    | 18/20 [00:01<00:00, 24.63it/s]\u001b[A\n",
      " 43%|██████████████████                        | 94/219 [07:57<11:24,  5.48s/it]\u001b[A"
     ]
    },
    {
     "name": "stdout",
     "output_type": "stream",
     "text": [
      "Problem: https://www.dnb.com/business-directory.html: HTTPSConnectionPool(host='www.dnb.com', port=443): Read timed out. (read timeout=5)\n",
      "Problem: https://www.dnb.com/en-gb/: HTTPSConnectionPool(host='www.dnb.com', port=443): Read timed out. (read timeout=5)\n",
      "Problem: https://www.dnb.com/products/marketing-sales/dnb-hoovers/free-trial.html: HTTPSConnectionPool(host='www.dnb.com', port=443): Read timed out. (read timeout=5)\n"
     ]
    },
    {
     "name": "stderr",
     "output_type": "stream",
     "text": [
      "\n",
      "  0%|                                                    | 0/20 [00:00<?, ?it/s]\u001b[A\n",
      " 70%|█████████████████████████████▍            | 14/20 [00:00<00:00, 132.70it/s]\u001b[A\n",
      " 43%|██████████████████▏                       | 95/219 [08:02<11:14,  5.44s/it]\u001b[A"
     ]
    },
    {
     "name": "stdout",
     "output_type": "stream",
     "text": [
      "Problem: https://www.itcportal.com/sustainability/sustainability-report-2006/html/itc-enviromental-performance.aspx: HTTPSConnectionPool(host='www.itcportal.com', port=443): Read timed out. (read timeout=5)\n",
      "Problem: https://about.iceland.co.uk/2020/01/24/why-sustainability-cant-just-be-a-middle-class-concern/: HTTPSConnectionPool(host='about.iceland.co.uk', port=443): Read timed out. (read timeout=5)\n",
      "Problem: https://about.iceland.co.uk/2019/09/26/the-need-to-democratise-environmentalism/: HTTPSConnectionPool(host='about.iceland.co.uk', port=443): Read timed out. (read timeout=5)\n"
     ]
    },
    {
     "name": "stderr",
     "output_type": "stream",
     "text": [
      "\n",
      "  0%|                                                    | 0/20 [00:00<?, ?it/s]\u001b[A\n",
      " 15%|██████▌                                     | 3/20 [00:00<00:01, 16.33it/s]\u001b[A\n",
      " 50%|█████████████████████▌                     | 10/20 [00:00<00:00, 33.37it/s]\u001b[A\n",
      " 70%|██████████████████████████████             | 14/20 [00:00<00:00, 32.73it/s]\u001b[A\n",
      " 90%|██████████████████████████████████████▋    | 18/20 [00:00<00:00, 28.89it/s]\u001b[A\n",
      " 44%|██████████████████▍                       | 96/219 [08:09<12:14,  5.98s/it]\u001b[A"
     ]
    },
    {
     "name": "stdout",
     "output_type": "stream",
     "text": [
      "Problem: https://www.incitecpivot.com.au/sustainability/sustainability-report: HTTPSConnectionPool(host='www.incitecpivot.com.au', port=443): Max retries exceeded with url: /sustainability/sustainability-report (Caused by SSLError(SSLCertVerificationError(1, '[SSL: CERTIFICATE_VERIFY_FAILED] certificate verify failed: unable to get local issuer certificate (_ssl.c:1129)')))\n",
      "Problem: https://www.incitecpivot.com.au/sustainability/sustainability-report/ipl-cdp-reports: HTTPSConnectionPool(host='www.incitecpivot.com.au', port=443): Max retries exceeded with url: /sustainability/sustainability-report/ipl-cdp-reports (Caused by SSLError(SSLCertVerificationError(1, '[SSL: CERTIFICATE_VERIFY_FAILED] certificate verify failed: unable to get local issuer certificate (_ssl.c:1129)')))\n",
      "Problem: https://www.incitecpivot.com.au/about-us/about-incitec-pivot-limited/media/2020-02-04-ipls-sustainability-performance-again-recognised-for-global-rankings: HTTPSConnectionPool(host='www.incitecpivot.com.au', port=443): Max retries exceeded with url: /about-us/about-incitec-pivot-limited/media/2020-02-04-ipls-sustainability-performance-again-recognised-for-global-rankings (Caused by SSLError(SSLCertVerificationError(1, '[SSL: CERTIFICATE_VERIFY_FAILED] certificate verify failed: unable to get local issuer certificate (_ssl.c:1129)')))\n"
     ]
    },
    {
     "name": "stderr",
     "output_type": "stream",
     "text": [
      "\n",
      "  0%|                                                    | 0/20 [00:00<?, ?it/s]\u001b[A\n",
      " 30%|█████████████▏                              | 6/20 [00:00<00:00, 51.98it/s]\u001b[A\n",
      " 60%|█████████████████████████▊                 | 12/20 [00:00<00:00, 30.78it/s]\u001b[A\n",
      " 44%|██████████████████▌                       | 97/219 [08:11<09:36,  4.72s/it]\u001b[A"
     ]
    },
    {
     "name": "stdout",
     "output_type": "stream",
     "text": [
      "Problem: https://www.yili-innovation.com/food-safety-and-food-fraud-project-eu-china-safe-started/: HTTPSConnectionPool(host='www.yili-innovation.com', port=443): Max retries exceeded with url: /food-safety-and-food-fraud-project-eu-china-safe-started/ (Caused by SSLError(SSLCertVerificationError(1, '[SSL: CERTIFICATE_VERIFY_FAILED] certificate verify failed: unable to get local issuer certificate (_ssl.c:1129)')))\n",
      "Problem: https://www.yili-innovation.com/: HTTPSConnectionPool(host='www.yili-innovation.com', port=443): Max retries exceeded with url: / (Caused by SSLError(SSLCertVerificationError(1, '[SSL: CERTIFICATE_VERIFY_FAILED] certificate verify failed: unable to get local issuer certificate (_ssl.c:1129)')))\n"
     ]
    },
    {
     "name": "stderr",
     "output_type": "stream",
     "text": [
      "\n",
      "  0%|                                                    | 0/20 [00:00<?, ?it/s]\u001b[A\n",
      " 40%|█████████████████▌                          | 8/20 [00:00<00:00, 79.62it/s]\u001b[A\n",
      " 90%|██████████████████████████████████████▋    | 18/20 [00:00<00:00, 88.88it/s]\u001b[A\n",
      " 45%|██████████████████▊                       | 98/219 [08:13<07:55,  3.93s/it]\u001b[A"
     ]
    },
    {
     "name": "stdout",
     "output_type": "stream",
     "text": [
      "Problem: https://www.interxion.com/esg-sustainability: HTTPSConnectionPool(host='www.interxion.com', port=443): Read timed out. (read timeout=5)\n",
      "Problem: https://www.igt.com/explore-igt/about-igt/global-responsibility/sustainability-report: HTTPSConnectionPool(host='www.igt.com', port=443): Read timed out.\n",
      "Problem: https://www.igt.com/explore-igt/about-igt/global-responsibility: HTTPSConnectionPool(host='www.igt.com', port=443): Read timed out.\n",
      "Problem: https://www.igt.com/explore-igt/about-igt/global-responsibility/supporting-our-communities/charitable-contributions: HTTPSConnectionPool(host='www.igt.com', port=443): Read timed out.\n",
      "Problem: http://www.internationalpaper.com/apps/sustainabilityreport2013/our-approach-to-sustainability/sustainability-governance.html: HTTPSConnectionPool(host='www.internationalpaper.com', port=443): Max retries exceeded with url: /apps/sustainabilityreport2013/our-approach-to-sustainability/sustainability-governance.html (Caused by SSLError(SSLCertVerificationError(1, '[SSL: CERTIFICATE_VERIFY_FAILED] certificate verify failed: unable to get local issuer certificate (_ssl.c:1129)')))\n",
      "Problem: https://www.internationalpaper.com/apps/sustainabilityreport2013/our-approach-to-sustainability/our-approach-to-sustainability.html: HTTPSConnectionPool(host='www.internationalpaper.com', port=443): Max retries exceeded with url: /apps/sustainabilityreport2013/our-approach-to-sustainability/our-approach-to-sustainability.html (Caused by SSLError(SSLCertVerificationError(1, '[SSL: CERTIFICATE_VERIFY_FAILED] certificate verify failed: unable to get local issuer certificate (_ssl.c:1129)')))\n"
     ]
    },
    {
     "name": "stderr",
     "output_type": "stream",
     "text": [
      "\n",
      "  0%|                                                    | 0/20 [00:00<?, ?it/s]\u001b[A\n",
      " 15%|██████▌                                     | 3/20 [00:00<00:00, 26.76it/s]\u001b[A\n",
      " 30%|█████████████▏                              | 6/20 [00:00<00:00, 25.36it/s]\u001b[A\n",
      " 45%|██████████████████▉                       | 99/219 [08:19<09:10,  4.59s/it]\u001b[A"
     ]
    },
    {
     "name": "stdout",
     "output_type": "stream",
     "text": [
      "Problem: https://www.internationalpaper.com/apps/sustainabilityreport2013/our-approach-to-sustainability/our-vision.html: HTTPSConnectionPool(host='www.internationalpaper.com', port=443): Max retries exceeded with url: /apps/sustainabilityreport2013/our-approach-to-sustainability/our-vision.html (Caused by SSLError(SSLCertVerificationError(1, '[SSL: CERTIFICATE_VERIFY_FAILED] certificate verify failed: unable to get local issuer certificate (_ssl.c:1129)')))\n"
     ]
    },
    {
     "name": "stderr",
     "output_type": "stream",
     "text": [
      "\n",
      "  0%|                                                    | 0/20 [00:00<?, ?it/s]\u001b[A\n",
      " 35%|███████████████▍                            | 7/20 [00:00<00:00, 66.75it/s]\u001b[A\n",
      " 75%|████████████████████████████████▎          | 15/20 [00:00<00:00, 58.75it/s]\u001b[A\n",
      " 46%|██████████████████▋                      | 100/219 [08:26<10:14,  5.17s/it]\u001b[A\n",
      "  0%|                                                    | 0/20 [00:00<?, ?it/s]\u001b[A\n",
      " 15%|██████▌                                     | 3/20 [00:00<00:00, 27.02it/s]\u001b[A\n",
      " 35%|███████████████▍                            | 7/20 [00:00<00:00, 34.01it/s]\u001b[A\n",
      " 46%|██████████████████▉                      | 101/219 [08:30<09:37,  4.89s/it]\u001b[A\n",
      "  0%|                                                    | 0/20 [00:00<?, ?it/s]\u001b[A\n",
      " 40%|█████████████████▌                          | 8/20 [00:00<00:00, 55.99it/s]\u001b[A\n",
      " 70%|██████████████████████████████             | 14/20 [00:00<00:00, 33.07it/s]\u001b[A\n",
      " 47%|███████████████████                      | 102/219 [08:32<07:49,  4.01s/it]\u001b[A\n",
      "  0%|                                                    | 0/20 [00:00<?, ?it/s]\u001b[A\n",
      " 15%|██████▌                                     | 3/20 [00:00<00:00, 28.03it/s]\u001b[A\n",
      " 60%|█████████████████████████▊                 | 12/20 [00:00<00:00, 63.19it/s]\u001b[A\n",
      " 95%|████████████████████████████████████████▊  | 19/20 [00:00<00:00, 46.84it/s]\u001b[A\n",
      " 47%|███████████████████▎                     | 103/219 [08:37<08:22,  4.33s/it]\u001b[A"
     ]
    },
    {
     "name": "stdout",
     "output_type": "stream",
     "text": [
      "Problem: https://www.kbhome.com/blog/sustainability/data-reporting/environmental-performance-overview: HTTPSConnectionPool(host='www.kbhome.com', port=443): Max retries exceeded with url: /blog/sustainability/data-reporting/environmental-performance-overview (Caused by SSLError(SSLCertVerificationError(1, '[SSL: CERTIFICATE_VERIFY_FAILED] certificate verify failed: unable to get local issuer certificate (_ssl.c:1129)')))\n",
      "Problem: https://www.kbhome.com/blog/sustainability/data-reporting/economic-performance-overview: HTTPSConnectionPool(host='www.kbhome.com', port=443): Max retries exceeded with url: /blog/sustainability/data-reporting/economic-performance-overview (Caused by SSLError(SSLCertVerificationError(1, '[SSL: CERTIFICATE_VERIFY_FAILED] certificate verify failed: unable to get local issuer certificate (_ssl.c:1129)')))\n"
     ]
    },
    {
     "name": "stderr",
     "output_type": "stream",
     "text": [
      "\n",
      "  0%|                                                    | 0/20 [00:00<?, ?it/s]\u001b[A\n",
      " 40%|█████████████████▌                          | 8/20 [00:00<00:00, 77.66it/s]\u001b[A\n",
      " 47%|███████████████████▍                     | 104/219 [08:41<07:53,  4.11s/it]\u001b[A\n",
      "  0%|                                                    | 0/20 [00:00<?, ?it/s]\u001b[A\n",
      " 45%|███████████████████▊                        | 9/20 [00:00<00:00, 43.11it/s]\u001b[A\n",
      " 70%|██████████████████████████████             | 14/20 [00:00<00:00, 41.53it/s]\u001b[A\n",
      " 48%|███████████████████▋                     | 105/219 [08:45<07:38,  4.03s/it]\u001b[A\n",
      "  0%|                                                    | 0/20 [00:00<?, ?it/s]\u001b[A\n",
      " 30%|█████████████▏                              | 6/20 [00:00<00:00, 33.40it/s]\u001b[A\n",
      " 50%|█████████████████████▌                     | 10/20 [00:00<00:01,  9.01it/s]\u001b[A\n",
      " 60%|█████████████████████████▊                 | 12/20 [00:01<00:01,  7.25it/s]\u001b[A\n",
      " 70%|██████████████████████████████             | 14/20 [00:01<00:00,  8.68it/s]\u001b[A\n",
      " 85%|████████████████████████████████████▌      | 17/20 [00:01<00:00,  9.66it/s]\u001b[A\n",
      " 48%|███████████████████▊                     | 106/219 [08:50<08:11,  4.35s/it]\u001b[A"
     ]
    },
    {
     "name": "stdout",
     "output_type": "stream",
     "text": [
      "Problem: https://esg.klabin.com.br/en/agenda-2030-desempenho-2020-das-metas/: HTTPSConnectionPool(host='esg.klabin.com.br', port=443): Read timed out. (read timeout=5)\n"
     ]
    },
    {
     "name": "stderr",
     "output_type": "stream",
     "text": [
      "\n",
      "  0%|                                                    | 0/20 [00:00<?, ?it/s]\u001b[A\n",
      " 25%|███████████                                 | 5/20 [00:00<00:00, 44.21it/s]\u001b[A\n",
      " 75%|████████████████████████████████▎          | 15/20 [00:00<00:00, 69.21it/s]\u001b[A\n",
      " 49%|████████████████████                     | 107/219 [08:57<09:34,  5.13s/it]\u001b[A\n",
      "  0%|                                                    | 0/20 [00:00<?, ?it/s]\u001b[A\n",
      " 40%|█████████████████▌                          | 8/20 [00:00<00:00, 71.94it/s]\u001b[A\n",
      " 80%|██████████████████████████████████▍        | 16/20 [00:00<00:00, 44.44it/s]\u001b[A\n",
      " 49%|████████████████████▏                    | 108/219 [08:59<07:48,  4.22s/it]\u001b[A\n",
      "  0%|                                                    | 0/20 [00:00<?, ?it/s]\u001b[A\n",
      " 10%|████▍                                       | 2/20 [00:00<00:00, 19.71it/s]\u001b[A\n",
      " 30%|█████████████▏                              | 6/20 [00:00<00:00, 29.28it/s]\u001b[A\n",
      " 50%|█████████████████████▌                     | 10/20 [00:00<00:00, 32.74it/s]\u001b[A\n",
      " 85%|████████████████████████████████████▌      | 17/20 [00:00<00:00, 44.12it/s]\u001b[A\n",
      " 50%|████████████████████▍                    | 109/219 [09:08<10:26,  5.69s/it]\u001b[A\n",
      "  0%|                                                    | 0/20 [00:00<?, ?it/s]\u001b[A\n",
      " 35%|███████████████▍                            | 7/20 [00:00<00:00, 47.02it/s]\u001b[A\n",
      " 60%|█████████████████████████▊                 | 12/20 [00:00<00:00, 39.46it/s]\u001b[A\n",
      " 50%|████████████████████▌                    | 110/219 [09:14<10:30,  5.78s/it]\u001b[A"
     ]
    },
    {
     "name": "stdout",
     "output_type": "stream",
     "text": [
      "Problem: https://www.lb.com/responsibility/environment/overview: HTTPSConnectionPool(host='www.lb.com', port=443): Max retries exceeded with url: /responsibility/environment/overview (Caused by SSLError(SSLCertVerificationError(1, '[SSL: CERTIFICATE_VERIFY_FAILED] certificate verify failed: unable to get local issuer certificate (_ssl.c:1129)')))\n",
      "Problem: https://en.longi-energy.com/index.php?m=content&c=index&a=lists&catid=195: HTTPSConnectionPool(host='en.longi-energy.com', port=443): Max retries exceeded with url: /index.php?m=content&c=index&a=lists&catid=195 (Caused by ConnectTimeoutError(<urllib3.connection.HTTPSConnection object at 0x7fbae9cdac70>, 'Connection to en.longi-energy.com timed out. (connect timeout=5)'))\n",
      "Problem: https://en.longi-energy.com/index.php?m=content&c=index&a=lists&catid=163: HTTPSConnectionPool(host='en.longi-energy.com', port=443): Max retries exceeded with url: /index.php?m=content&c=index&a=lists&catid=163 (Caused by ConnectTimeoutError(<urllib3.connection.HTTPSConnection object at 0x7fbaf0995df0>, 'Connection to en.longi-energy.com timed out. (connect timeout=5)'))\n",
      "Problem: https://en.longi-energy.com/index.php?m=content&c=index&a=lists&catid=242: HTTPSConnectionPool(host='en.longi-energy.com', port=443): Max retries exceeded with url: /index.php?m=content&c=index&a=lists&catid=242 (Caused by ConnectTimeoutError(<urllib3.connection.HTTPSConnection object at 0x7fbaf0995940>, 'Connection to en.longi-energy.com timed out. (connect timeout=5)'))\n",
      "Problem: https://www.lukoil.com/InvestorAndShareholderCenter/ReportsAndPresentations/SustainabilityReport: HTTPSConnectionPool(host='www.lukoil.com', port=443): Max retries exceeded with url: /InvestorAndShareholderCenter/ReportsAndPresentations/SustainabilityReport (Caused by ConnectTimeoutError(<urllib3.connection.HTTPSConnection object at 0x7fbaf09953d0>, 'Connection to www.lukoil.com timed out. (connect timeout=5)'))\n",
      "Problem: https://www.lukoil.com/Sustainability/Environment/Environmentalmanagement: HTTPSConnectionPool(host='www.lukoil.com', port=443): Max retries exceeded with url: /Sustainability/Environment/Environmentalmanagement (Caused by ConnectTimeoutError(<urllib3.connection.HTTPSConnection object at 0x7fbaf09ab3a0>, 'Connection to www.lukoil.com timed out. (connect timeout=5)'))\n"
     ]
    },
    {
     "name": "stderr",
     "output_type": "stream",
     "text": [
      "\n",
      "  0%|                                                    | 0/20 [00:00<?, ?it/s]\u001b[A\n",
      " 25%|███████████                                 | 5/20 [00:00<00:00, 25.91it/s]\u001b[A\n",
      " 65%|███████████████████████████▉               | 13/20 [00:00<00:00, 47.15it/s]\u001b[A\n",
      " 51%|████████████████████▊                    | 111/219 [09:20<10:32,  5.86s/it]\u001b[A"
     ]
    },
    {
     "name": "stdout",
     "output_type": "stream",
     "text": [
      "Problem: https://www.lukoil.com/Sustainability: HTTPSConnectionPool(host='www.lukoil.com', port=443): Max retries exceeded with url: /Sustainability (Caused by ConnectTimeoutError(<urllib3.connection.HTTPSConnection object at 0x7fbaeae3b130>, 'Connection to www.lukoil.com timed out. (connect timeout=5)'))\n"
     ]
    },
    {
     "name": "stderr",
     "output_type": "stream",
     "text": [
      "\n",
      "  0%|                                                    | 0/20 [00:00<?, ?it/s]\u001b[A\n",
      " 25%|███████████                                 | 5/20 [00:00<00:00, 45.14it/s]\u001b[A\n",
      " 50%|█████████████████████▌                     | 10/20 [00:00<00:00, 40.92it/s]\u001b[A\n",
      " 85%|████████████████████████████████████▌      | 17/20 [00:00<00:00, 52.15it/s]\u001b[A\n",
      " 51%|████████████████████▉                    | 112/219 [09:25<10:12,  5.73s/it]\u001b[A"
     ]
    },
    {
     "name": "stdout",
     "output_type": "stream",
     "text": [
      "Problem: https://www.lenzing.com/newsroom/press-releases/press-release/the-lenzing-group-publishes-its-sustainability-report-2020: HTTPSConnectionPool(host='www.lenzing.com', port=443): Read timed out. (read timeout=5)\n"
     ]
    },
    {
     "name": "stderr",
     "output_type": "stream",
     "text": [
      "\n",
      "  0%|                                                    | 0/20 [00:00<?, ?it/s]\u001b[A\n",
      " 10%|████▍                                       | 2/20 [00:00<00:00, 18.31it/s]\u001b[A\n",
      " 30%|█████████████▏                              | 6/20 [00:00<00:00, 22.18it/s]\u001b[A\n",
      " 80%|██████████████████████████████████▍        | 16/20 [00:00<00:00, 47.74it/s]\u001b[A\n",
      " 52%|█████████████████████▏                   | 113/219 [09:31<10:04,  5.70s/it]\u001b[A"
     ]
    },
    {
     "name": "stdout",
     "output_type": "stream",
     "text": [
      "Problem: https://www.lindsay.com/apac/en/resource/lindsays-approach-to-environmental-stewardship/: HTTPSConnectionPool(host='www.lindsay.com', port=443): Max retries exceeded with url: /apac/en/resource/lindsays-approach-to-environmental-stewardship/ (Caused by SSLError(SSLCertVerificationError(1, '[SSL: CERTIFICATE_VERIFY_FAILED] certificate verify failed: unable to get local issuer certificate (_ssl.c:1129)')))\n",
      "Problem: https://www.lindsay.com/apac/zh/resource/lindsays-approach-to-environmental-stewardship/: HTTPSConnectionPool(host='www.lindsay.com', port=443): Max retries exceeded with url: /apac/zh/resource/lindsays-approach-to-environmental-stewardship/ (Caused by SSLError(SSLCertVerificationError(1, '[SSL: CERTIFICATE_VERIFY_FAILED] certificate verify failed: unable to get local issuer certificate (_ssl.c:1129)')))\n",
      "Problem: https://www.lindsay.com/usca/en/resource/lindsays-approach-to-environmental-stewardship/: HTTPSConnectionPool(host='www.lindsay.com', port=443): Max retries exceeded with url: /usca/en/resource/lindsays-approach-to-environmental-stewardship/ (Caused by SSLError(SSLCertVerificationError(1, '[SSL: CERTIFICATE_VERIFY_FAILED] certificate verify failed: unable to get local issuer certificate (_ssl.c:1129)')))\n"
     ]
    },
    {
     "name": "stderr",
     "output_type": "stream",
     "text": [
      "\n",
      "  0%|                                                    | 0/20 [00:00<?, ?it/s]\u001b[A\n",
      " 40%|█████████████████▌                          | 8/20 [00:00<00:00, 35.08it/s]\u001b[A\n",
      " 52%|█████████████████████▎                   | 114/219 [09:35<09:22,  5.36s/it]\u001b[A\n",
      "  0%|                                                    | 0/20 [00:00<?, ?it/s]\u001b[A\n",
      " 25%|███████████                                 | 5/20 [00:00<00:00, 38.91it/s]\u001b[A\n",
      " 55%|███████████████████████▋                   | 11/20 [00:00<00:00, 41.38it/s]\u001b[A\n",
      " 95%|████████████████████████████████████████▊  | 19/20 [00:00<00:00, 55.35it/s]\u001b[A\n",
      " 53%|█████████████████████▌                   | 115/219 [09:39<08:22,  4.84s/it]\u001b[A"
     ]
    },
    {
     "name": "stdout",
     "output_type": "stream",
     "text": [
      "Problem: https://info.lululemon.com/sustainability/responsible-supply-chain/environmental-impacts: HTTPSConnectionPool(host='info.lululemon.com', port=443): Read timed out. (read timeout=5)\n",
      "Problem: https://info.lululemon.com/sustainability/our-footprint: HTTPSConnectionPool(host='info.lululemon.com', port=443): Read timed out. (read timeout=5)\n",
      "Problem: https://info.lululemon.com/sustainability/responsible-supply-chain: HTTPSConnectionPool(host='info.lululemon.com', port=443): Read timed out. (read timeout=5)\n"
     ]
    },
    {
     "name": "stderr",
     "output_type": "stream",
     "text": [
      "\n",
      "  0%|                                                    | 0/20 [00:00<?, ?it/s]\u001b[A\n",
      " 45%|███████████████████▊                        | 9/20 [00:00<00:00, 71.20it/s]\u001b[A\n",
      " 85%|████████████████████████████████████▌      | 17/20 [00:00<00:00, 39.75it/s]\u001b[A\n",
      " 53%|█████████████████████▋                   | 116/219 [09:45<08:39,  5.04s/it]\u001b[A\n",
      "  0%|                                                    | 0/20 [00:00<?, ?it/s]\u001b[A\n",
      " 75%|███████████████████████████████▌          | 15/20 [00:00<00:00, 148.77it/s]\u001b[A\n",
      " 53%|█████████████████████▉                   | 117/219 [09:48<07:35,  4.47s/it]\u001b[A"
     ]
    },
    {
     "name": "stdout",
     "output_type": "stream",
     "text": [
      "Problem: https://www.metawater.co.jp/eng/csr/sustainable/: HTTPSConnectionPool(host='www.metawater.co.jp', port=443): Max retries exceeded with url: /eng/csr/sustainable/ (Caused by SSLError(SSLCertVerificationError(1, '[SSL: CERTIFICATE_VERIFY_FAILED] certificate verify failed: unable to get local issuer certificate (_ssl.c:1129)')))\n",
      "Problem: http://www.metawater.co.jp/eng/csr/environment/: HTTPSConnectionPool(host='www.metawater.co.jp', port=443): Max retries exceeded with url: /eng/csr/environment/ (Caused by SSLError(SSLCertVerificationError(1, '[SSL: CERTIFICATE_VERIFY_FAILED] certificate verify failed: unable to get local issuer certificate (_ssl.c:1129)')))\n",
      "Problem: https://www.metawater.co.jp/eng/csr/environment/policy/: HTTPSConnectionPool(host='www.metawater.co.jp', port=443): Max retries exceeded with url: /eng/csr/environment/policy/ (Caused by SSLError(SSLCertVerificationError(1, '[SSL: CERTIFICATE_VERIFY_FAILED] certificate verify failed: unable to get local issuer certificate (_ssl.c:1129)')))\n",
      "Problem: https://www.mgmresorts.com/en/company/csr/protecting-the-planet/sustainable-design-construction.html: HTTPSConnectionPool(host='www.mgmresorts.com', port=443): Read timed out. (read timeout=5)\n"
     ]
    },
    {
     "name": "stderr",
     "output_type": "stream",
     "text": [
      "\n",
      "  0%|                                                    | 0/20 [00:00<?, ?it/s]\u001b[A\n",
      " 45%|███████████████████▊                        | 9/20 [00:00<00:00, 75.06it/s]\u001b[A\n",
      " 85%|████████████████████████████████████▌      | 17/20 [00:00<00:00, 23.75it/s]\u001b[A\n",
      " 54%|██████████████████████                   | 118/219 [09:54<08:14,  4.90s/it]\u001b[A"
     ]
    },
    {
     "name": "stdout",
     "output_type": "stream",
     "text": [
      "Problem: https://www.mando.com/eng/sustainability/sustain02.jsp: HTTPSConnectionPool(host='www.mando.com', port=443): Max retries exceeded with url: /eng/sustainability/sustain02.jsp (Caused by SSLError(SSLCertVerificationError(1, '[SSL: CERTIFICATE_VERIFY_FAILED] certificate verify failed: unable to get local issuer certificate (_ssl.c:1129)')))\n",
      "Problem: https://www.mando.com/m/eng/sustainability/sustain17.jsp: HTTPSConnectionPool(host='www.mando.com', port=443): Max retries exceeded with url: /m/eng/sustainability/sustain17.jsp (Caused by SSLError(SSLCertVerificationError(1, '[SSL: CERTIFICATE_VERIFY_FAILED] certificate verify failed: unable to get local issuer certificate (_ssl.c:1129)')))\n"
     ]
    },
    {
     "name": "stderr",
     "output_type": "stream",
     "text": [
      "\n",
      "  0%|                                                    | 0/20 [00:00<?, ?it/s]\u001b[A\n",
      " 65%|███████████████████████████▎              | 13/20 [00:00<00:00, 126.06it/s]\u001b[A\n",
      " 54%|██████████████████████▎                  | 119/219 [09:57<07:35,  4.56s/it]\u001b[A\n",
      "  0%|                                                    | 0/20 [00:00<?, ?it/s]\u001b[A\n",
      " 20%|████████▊                                   | 4/20 [00:00<00:00, 23.45it/s]\u001b[A\n",
      " 40%|█████████████████▌                          | 8/20 [00:00<00:00, 30.49it/s]\u001b[A\n",
      " 70%|██████████████████████████████             | 14/20 [00:00<00:00, 40.55it/s]\u001b[A\n",
      "100%|███████████████████████████████████████████| 20/20 [00:00<00:00, 37.50it/s]\u001b[A\n",
      " 55%|██████████████████████▍                  | 120/219 [10:01<06:52,  4.17s/it]\u001b[A\n",
      "  0%|                                                    | 0/20 [00:00<?, ?it/s]\u001b[A\n",
      " 45%|███████████████████▊                        | 9/20 [00:00<00:00, 86.55it/s]\u001b[A\n",
      "100%|███████████████████████████████████████████| 20/20 [00:00<00:00, 47.96it/s]\u001b[A\n",
      " 55%|██████████████████████▋                  | 121/219 [10:08<08:14,  5.04s/it]\u001b[A\n",
      "  0%|                                                    | 0/20 [00:00<?, ?it/s]\u001b[A\n",
      " 20%|████████▊                                   | 4/20 [00:00<00:00, 37.16it/s]\u001b[A\n",
      " 40%|█████████████████▌                          | 8/20 [00:00<00:00, 35.21it/s]\u001b[A\n",
      " 60%|█████████████████████████▊                 | 12/20 [00:00<00:00, 28.60it/s]\u001b[A\n",
      " 85%|████████████████████████████████████▌      | 17/20 [00:00<00:00, 32.50it/s]\u001b[A\n",
      " 56%|██████████████████████▊                  | 122/219 [10:14<08:50,  5.47s/it]\u001b[A"
     ]
    },
    {
     "name": "stdout",
     "output_type": "stream",
     "text": [
      "Problem: https://medifastinc.com/investor-relations/: ('Connection aborted.', ConnectionResetError(104, 'Connection reset by peer'))\n",
      "Problem: https://mercerint.com/sustainability/certificates/: ('Connection aborted.', ConnectionResetError(104, 'Connection reset by peer'))\n",
      "Problem: https://www.mercury.co.nz/why-mercury/sustainability: HTTPSConnectionPool(host='www.mercury.co.nz', port=443): Read timed out. (read timeout=5)\n"
     ]
    },
    {
     "name": "stderr",
     "output_type": "stream",
     "text": [
      "\n",
      "  0%|                                                    | 0/20 [00:00<?, ?it/s]\u001b[A\n",
      " 20%|████████▊                                   | 4/20 [00:00<00:00, 39.74it/s]\u001b[A\n",
      " 50%|█████████████████████▌                     | 10/20 [00:00<00:00, 44.44it/s]\u001b[A\n",
      " 85%|████████████████████████████████████▌      | 17/20 [00:00<00:00, 55.11it/s]\u001b[A\n",
      " 56%|███████████████████████                  | 123/219 [10:20<08:46,  5.49s/it]\u001b[A"
     ]
    },
    {
     "name": "stdout",
     "output_type": "stream",
     "text": [
      "Problem: https://www.mercury.co.nz/why-mercury/sustainability/kaitiakitanga: HTTPSConnectionPool(host='www.mercury.co.nz', port=443): Read timed out. (read timeout=5)\n",
      "Problem: https://www.metsaboard.com/Sustainability/Pages/default.aspx: HTTPSConnectionPool(host='www.metsaboard.com', port=443): Read timed out. (read timeout=5)\n"
     ]
    },
    {
     "name": "stderr",
     "output_type": "stream",
     "text": [
      "\n",
      "  0%|                                                    | 0/20 [00:00<?, ?it/s]\u001b[A\n",
      " 30%|█████████████▏                              | 6/20 [00:00<00:00, 45.67it/s]\u001b[A\n",
      " 60%|█████████████████████████▊                 | 12/20 [00:00<00:00, 41.98it/s]\u001b[A\n",
      " 90%|██████████████████████████████████████▋    | 18/20 [00:00<00:00, 48.42it/s]\u001b[A\n",
      " 57%|███████████████████████▏                 | 124/219 [10:26<08:56,  5.65s/it]\u001b[A\n",
      "  0%|                                                    | 0/20 [00:00<?, ?it/s]\u001b[A\n",
      "  5%|██▏                                         | 1/20 [00:00<00:05,  3.58it/s]\u001b[A\n",
      " 50%|█████████████████████▌                     | 10/20 [00:00<00:00, 32.54it/s]\u001b[A\n",
      " 85%|████████████████████████████████████▌      | 17/20 [00:00<00:00, 43.47it/s]\u001b[A\n",
      " 57%|███████████████████████▍                 | 125/219 [10:31<08:47,  5.61s/it]\u001b[A\n",
      "  0%|                                                    | 0/20 [00:00<?, ?it/s]\u001b[A\n",
      " 10%|████▍                                       | 2/20 [00:00<00:01, 15.09it/s]\u001b[A\n",
      " 50%|█████████████████████▌                     | 10/20 [00:00<00:00, 45.19it/s]\u001b[A\n",
      " 80%|██████████████████████████████████▍        | 16/20 [00:00<00:00, 46.82it/s]\u001b[A\n",
      " 58%|███████████████████████▌                 | 126/219 [10:34<07:31,  4.86s/it]\u001b[A"
     ]
    },
    {
     "name": "stdout",
     "output_type": "stream",
     "text": [
      "Problem: https://www.muangthaicap.com/en/index.php: HTTPSConnectionPool(host='www.muangthaicap.com', port=443): Max retries exceeded with url: /en/index.php (Caused by SSLError(SSLCertVerificationError(1, '[SSL: CERTIFICATE_VERIFY_FAILED] certificate verify failed: unable to get local issuer certificate (_ssl.c:1129)')))\n",
      "Problem: https://www.muangthaicap.com/en/about.php: HTTPSConnectionPool(host='www.muangthaicap.com', port=443): Max retries exceeded with url: /en/about.php (Caused by SSLError(SSLCertVerificationError(1, '[SSL: CERTIFICATE_VERIFY_FAILED] certificate verify failed: unable to get local issuer certificate (_ssl.c:1129)')))\n"
     ]
    },
    {
     "name": "stderr",
     "output_type": "stream",
     "text": [
      "\n",
      "  0%|                                                    | 0/20 [00:00<?, ?it/s]\u001b[A\n",
      " 15%|██████▌                                     | 3/20 [00:00<00:00, 27.26it/s]\u001b[A\n",
      " 50%|█████████████████████▌                     | 10/20 [00:00<00:00, 48.35it/s]\u001b[A\n",
      " 85%|████████████████████████████████████▌      | 17/20 [00:00<00:00, 55.62it/s]\u001b[A\n",
      " 58%|███████████████████████▊                 | 127/219 [10:42<08:41,  5.67s/it]\u001b[A"
     ]
    },
    {
     "name": "stdout",
     "output_type": "stream",
     "text": [
      "Problem: https://www.munichre.com/en/company/corporate-responsibility.html: HTTPSConnectionPool(host='www.munichre.com', port=443): Read timed out. (read timeout=5)\n",
      "Problem: https://www.dnb.com/de-at/ueber-uns/werte-und-soziale-verantwortung/sustainability-reports/: HTTPSConnectionPool(host='www.dnb.com', port=443): Read timed out. (read timeout=5)\n"
     ]
    },
    {
     "name": "stderr",
     "output_type": "stream",
     "text": [
      "\n",
      "  0%|                                                    | 0/20 [00:00<?, ?it/s]\u001b[A\n",
      " 55%|███████████████████████▋                   | 11/20 [00:00<00:00, 97.01it/s]\u001b[A\n",
      " 58%|███████████████████████▉                 | 128/219 [10:48<08:42,  5.74s/it]\u001b[A"
     ]
    },
    {
     "name": "stdout",
     "output_type": "stream",
     "text": [
      "Problem: https://www.dnb.com/sr-latn/o-nama/our-values-and-csr/sustainability-reports/: HTTPSConnectionPool(host='www.dnb.com', port=443): Read timed out. (read timeout=5)\n",
      "Problem: https://www.dnb.com/en-gb/about-bisnode/about-us/news/sustainability-report-2018/: HTTPSConnectionPool(host='www.dnb.com', port=443): Read timed out. (read timeout=5)\n"
     ]
    },
    {
     "name": "stderr",
     "output_type": "stream",
     "text": [
      "\n",
      "  0%|                                                    | 0/20 [00:00<?, ?it/s]\u001b[A\n",
      " 45%|███████████████████▊                        | 9/20 [00:00<00:00, 86.09it/s]\u001b[A\n",
      " 90%|██████████████████████████████████████▋    | 18/20 [00:00<00:00, 54.15it/s]\u001b[A\n",
      " 59%|████████████████████████▏                | 129/219 [10:53<08:26,  5.63s/it]\u001b[A"
     ]
    },
    {
     "name": "stdout",
     "output_type": "stream",
     "text": [
      "Problem: https://www.ntpc.co.in/en/sustainability/compliances-and-reports/sustainability-reports: ('Connection aborted.', RemoteDisconnected('Remote end closed connection without response'))\n",
      "Problem: https://www.ntpc.co.in/en/sustainability-report-ntpc-released: ('Connection aborted.', RemoteDisconnected('Remote end closed connection without response'))\n",
      "Problem: https://www.ntpc.co.in/en/sustainability-report-ntpc: HTTPSConnectionPool(host='www.ntpc.co.in', port=443): Read timed out. (read timeout=5)\n"
     ]
    },
    {
     "name": "stderr",
     "output_type": "stream",
     "text": [
      "\n",
      "  0%|                                                    | 0/20 [00:00<?, ?it/s]\u001b[A\n",
      " 25%|███████████                                 | 5/20 [00:00<00:00, 32.15it/s]\u001b[A\n",
      " 50%|█████████████████████▌                     | 10/20 [00:00<00:00, 40.23it/s]\u001b[A\n",
      "100%|███████████████████████████████████████████| 20/20 [00:00<00:00, 63.85it/s]\u001b[A\n",
      " 59%|████████████████████████▎                | 130/219 [11:01<09:06,  6.14s/it]\u001b[A"
     ]
    },
    {
     "name": "stdout",
     "output_type": "stream",
     "text": [
      "Problem: https://www.nasdaq.com/articles/nasdaq-unveils-2020-corporate-sustainability-report-2021-06-16: HTTPSConnectionPool(host='www.nasdaq.com', port=443): Read timed out. (read timeout=5)\n",
      "Problem: https://www.nasdaq.com/solutions/sustainability-reporting: HTTPSConnectionPool(host='www.nasdaq.com', port=443): Read timed out. (read timeout=5)\n",
      "Problem: https://www.nasdaq.com/press-release/greenbrier-releases-2020-environmental-social-and-governance-report-2020-11-02: HTTPSConnectionPool(host='www.nasdaq.com', port=443): Read timed out. (read timeout=5)\n"
     ]
    },
    {
     "name": "stderr",
     "output_type": "stream",
     "text": [
      "\n",
      "  0%|                                                    | 0/20 [00:00<?, ?it/s]\u001b[A\n",
      " 35%|███████████████▍                            | 7/20 [00:00<00:00, 44.70it/s]\u001b[A\n",
      " 60%|█████████████████████████▊                 | 12/20 [00:00<00:00, 36.87it/s]\u001b[A\n",
      " 60%|████████████████████████▌                | 131/219 [11:06<08:42,  5.94s/it]\u001b[A"
     ]
    },
    {
     "name": "stdout",
     "output_type": "stream",
     "text": [
      "Problem: http://www.thenavigatorcompany.com/: HTTPConnectionPool(host='www.thenavigatorcompany.com', port=80): Read timed out. (read timeout=5)\n"
     ]
    },
    {
     "name": "stderr",
     "output_type": "stream",
     "text": [
      "\n",
      "  0%|                                                    | 0/20 [00:00<?, ?it/s]\u001b[A\n",
      " 15%|██████▌                                     | 3/20 [00:00<00:00, 26.82it/s]\u001b[A\n",
      " 30%|█████████████▏                              | 6/20 [00:00<00:00, 20.15it/s]\u001b[A\n",
      " 65%|███████████████████████████▉               | 13/20 [00:00<00:00, 33.17it/s]\u001b[A\n",
      " 90%|██████████████████████████████████████▋    | 18/20 [00:00<00:00, 29.24it/s]\u001b[A\n",
      " 60%|████████████████████████▋                | 132/219 [11:14<09:18,  6.42s/it]\u001b[A\n",
      "  0%|                                                    | 0/20 [00:00<?, ?it/s]\u001b[A\n",
      " 40%|█████████████████▌                          | 8/20 [00:00<00:00, 69.94it/s]\u001b[A\n",
      " 75%|████████████████████████████████▎          | 15/20 [00:00<00:00, 43.29it/s]\u001b[A\n",
      "100%|███████████████████████████████████████████| 20/20 [00:00<00:00, 39.96it/s]\u001b[A\n",
      " 61%|████████████████████████▉                | 133/219 [11:16<07:33,  5.27s/it]\u001b[A\n",
      "  0%|                                                    | 0/20 [00:00<?, ?it/s]\u001b[A\n",
      " 75%|███████████████████████████████▌          | 15/20 [00:00<00:00, 148.00it/s]\u001b[A\n",
      " 61%|█████████████████████████                | 134/219 [11:18<06:10,  4.36s/it]\u001b[A\n",
      "  0%|                                                    | 0/20 [00:00<?, ?it/s]\u001b[A\n",
      " 40%|█████████████████▌                          | 8/20 [00:00<00:00, 79.64it/s]\u001b[A\n",
      " 95%|████████████████████████████████████████▊  | 19/20 [00:00<00:00, 96.37it/s]\u001b[A\n",
      " 62%|█████████████████████████▎               | 135/219 [11:22<05:39,  4.04s/it]\u001b[A\n",
      "  0%|                                                    | 0/20 [00:00<?, ?it/s]\u001b[A\n",
      " 40%|█████████████████▌                          | 8/20 [00:00<00:00, 72.35it/s]\u001b[A\n",
      " 80%|██████████████████████████████████▍        | 16/20 [00:00<00:00, 51.78it/s]\u001b[A\n",
      " 62%|█████████████████████████▍               | 136/219 [11:29<06:47,  4.91s/it]\u001b[A"
     ]
    },
    {
     "name": "stdout",
     "output_type": "stream",
     "text": [
      "Problem: https://www.nomadfoods.com/eating-for-the-planet/sustainability-reports/: HTTPSConnectionPool(host='www.nomadfoods.com', port=443): Read timed out. (read timeout=5)\n",
      "Problem: https://www.northlandpower.com/en/news/northland-power-reports-third-quarter-2020-results.aspx: HTTPSConnectionPool(host='www.northlandpower.com', port=443): Max retries exceeded with url: /en/news/northland-power-reports-third-quarter-2020-results.aspx (Caused by SSLError(SSLCertVerificationError(1, '[SSL: CERTIFICATE_VERIFY_FAILED] certificate verify failed: unable to get local issuer certificate (_ssl.c:1129)')))\n"
     ]
    },
    {
     "name": "stderr",
     "output_type": "stream",
     "text": [
      "\n",
      "  0%|                                                    | 0/20 [00:00<?, ?it/s]\u001b[A\n",
      " 20%|████████▊                                   | 4/20 [00:00<00:00, 26.07it/s]\u001b[A\n",
      " 50%|█████████████████████▌                     | 10/20 [00:00<00:00, 41.97it/s]\u001b[A\n",
      " 75%|████████████████████████████████▎          | 15/20 [00:00<00:00, 35.46it/s]\u001b[A\n",
      " 95%|████████████████████████████████████████▊  | 19/20 [00:00<00:00, 31.04it/s]\u001b[A\n",
      " 63%|█████████████████████████▋               | 137/219 [11:34<07:02,  5.15s/it]\u001b[A"
     ]
    },
    {
     "name": "stdout",
     "output_type": "stream",
     "text": [
      "Problem: https://lipetsk.nlmk.com/en/responsibility/ecology/: HTTPSConnectionPool(host='lipetsk.nlmk.com', port=443): Max retries exceeded with url: /en/responsibility/ecology/ (Caused by ConnectTimeoutError(<urllib3.connection.HTTPSConnection object at 0x7fbb26497df0>, 'Connection to lipetsk.nlmk.com timed out. (connect timeout=5)'))\n",
      "Problem: https://lipetsk.nlmk.com/en/media-center/press-releases/nlmk-group-named-worldsteel-sustainability-champion/: HTTPSConnectionPool(host='lipetsk.nlmk.com', port=443): Max retries exceeded with url: /en/media-center/press-releases/nlmk-group-named-worldsteel-sustainability-champion/ (Caused by ConnectTimeoutError(<urllib3.connection.HTTPSConnection object at 0x7fbaf0244520>, 'Connection to lipetsk.nlmk.com timed out. (connect timeout=5)'))\n",
      "Problem: https://lipetsk.nlmk.com/en/responsibility/social-responsibility/: HTTPSConnectionPool(host='lipetsk.nlmk.com', port=443): Max retries exceeded with url: /en/responsibility/social-responsibility/ (Caused by ConnectTimeoutError(<urllib3.connection.HTTPSConnection object at 0x7fbaf0244d90>, 'Connection to lipetsk.nlmk.com timed out. (connect timeout=5)'))\n"
     ]
    },
    {
     "name": "stderr",
     "output_type": "stream",
     "text": [
      "\n",
      "  0%|                                                    | 0/20 [00:00<?, ?it/s]\u001b[A\n",
      " 15%|██████▌                                     | 3/20 [00:00<00:01, 15.57it/s]\u001b[A\n",
      " 45%|███████████████████▊                        | 9/20 [00:00<00:00, 31.21it/s]\u001b[A\n",
      " 65%|███████████████████████████▉               | 13/20 [00:00<00:00, 28.27it/s]\u001b[A\n",
      " 63%|█████████████████████████▊               | 138/219 [11:40<07:09,  5.31s/it]\u001b[A"
     ]
    },
    {
     "name": "stdout",
     "output_type": "stream",
     "text": [
      "Problem: https://www.o-i.com/sustainability/our-sustainability-approach/: HTTPSConnectionPool(host='www.o-i.com', port=443): Read timed out. (read timeout=5)\n"
     ]
    },
    {
     "name": "stderr",
     "output_type": "stream",
     "text": [
      "\n",
      "  0%|                                                    | 0/20 [00:00<?, ?it/s]\u001b[A\n",
      " 45%|███████████████████▊                        | 9/20 [00:00<00:00, 85.46it/s]\u001b[A\n",
      " 90%|██████████████████████████████████████▋    | 18/20 [00:00<00:00, 40.11it/s]\u001b[A\n",
      " 63%|██████████████████████████               | 139/219 [11:46<07:18,  5.48s/it]\u001b[A\n",
      "  0%|                                                    | 0/20 [00:00<?, ?it/s]\u001b[A\n",
      " 35%|███████████████▍                            | 7/20 [00:00<00:00, 63.88it/s]\u001b[A\n",
      " 85%|████████████████████████████████████▌      | 17/20 [00:00<00:00, 79.60it/s]\u001b[A\n",
      " 64%|██████████████████████████▏              | 140/219 [11:49<06:06,  4.63s/it]\u001b[A\n",
      "  0%|                                                    | 0/20 [00:00<?, ?it/s]\u001b[A\n",
      "  5%|██▏                                         | 1/20 [00:00<00:01,  9.50it/s]\u001b[A\n",
      " 25%|███████████                                 | 5/20 [00:00<00:00, 25.83it/s]\u001b[A\n",
      " 40%|█████████████████▌                          | 8/20 [00:00<00:00, 24.79it/s]\u001b[A\n",
      " 70%|██████████████████████████████             | 14/20 [00:00<00:00, 37.11it/s]\u001b[A\n",
      "100%|███████████████████████████████████████████| 20/20 [00:00<00:00, 42.29it/s]\u001b[A\n",
      " 64%|██████████████████████████▍              | 141/219 [11:51<05:07,  3.94s/it]\u001b[A\n",
      "  0%|                                                    | 0/20 [00:00<?, ?it/s]\u001b[A\n",
      "  5%|██▏                                         | 1/20 [00:00<00:03,  5.32it/s]\u001b[A\n",
      " 10%|████▍                                       | 2/20 [00:00<00:02,  6.81it/s]\u001b[A\n",
      " 55%|███████████████████████▋                   | 11/20 [00:00<00:00, 35.56it/s]\u001b[A\n",
      " 80%|██████████████████████████████████▍        | 16/20 [00:00<00:00, 32.16it/s]\u001b[A\n",
      "100%|███████████████████████████████████████████| 20/20 [00:00<00:00, 26.68it/s]\u001b[A\n",
      " 65%|██████████████████████████▌              | 142/219 [11:54<04:34,  3.57s/it]\u001b[A\n",
      "  0%|                                                    | 0/20 [00:00<?, ?it/s]\u001b[A\n",
      " 20%|████████▊                                   | 4/20 [00:00<00:00, 20.13it/s]\u001b[A\n",
      " 65%|██████████████████████████▊              | 143/219 [11:57<04:34,  3.61s/it]\u001b[A"
     ]
    },
    {
     "name": "stdout",
     "output_type": "stream",
     "text": [
      "Problem: https://www.pgecorp.com/corp/responsibility-sustainability/corporate-responsibility-sustainability.page: HTTPSConnectionPool(host='www.pgecorp.com', port=443): Max retries exceeded with url: /corp/responsibility-sustainability/corporate-responsibility-sustainability.page (Caused by NewConnectionError('<urllib3.connection.HTTPSConnection object at 0x7fbae9a63070>: Failed to establish a new connection: [Errno -3] Temporary failure in name resolution'))\n",
      "Problem: https://www.pgecorp.com/corp_responsibility/reports/2021/: HTTPSConnectionPool(host='www.pgecorp.com', port=443): Max retries exceeded with url: /corp_responsibility/reports/2021/ (Caused by NewConnectionError('<urllib3.connection.HTTPSConnection object at 0x7fbaf3703a30>: Failed to establish a new connection: [Errno -3] Temporary failure in name resolution'))\n",
      "Problem: https://www.pgecorp.com/corp_responsibility/reports/2020/: HTTPSConnectionPool(host='www.pgecorp.com', port=443): Max retries exceeded with url: /corp_responsibility/reports/2020/ (Caused by NewConnectionError('<urllib3.connection.HTTPSConnection object at 0x7fbaf0b785e0>: Failed to establish a new connection: [Errno -3] Temporary failure in name resolution'))\n",
      "Problem: https://www.gkpge.pl/sustainable-business: HTTPSConnectionPool(host='www.gkpge.pl', port=443): Read timed out. (read timeout=5)\n"
     ]
    },
    {
     "name": "stderr",
     "output_type": "stream",
     "text": [
      "\n",
      "  0%|                                                    | 0/20 [00:00<?, ?it/s]\u001b[A\n",
      " 15%|██████▌                                     | 3/20 [00:00<00:00, 25.43it/s]\u001b[A\n",
      " 85%|████████████████████████████████████▌      | 17/20 [00:00<00:00, 87.75it/s]\u001b[A\n",
      " 66%|██████████████████████████▉              | 144/219 [12:08<07:03,  5.64s/it]\u001b[A"
     ]
    },
    {
     "name": "stdout",
     "output_type": "stream",
     "text": [
      "Problem: https://www.pttep.com/en/SustainableDevelopment/Csr/environment.aspx: HTTPSConnectionPool(host='www.pttep.com', port=443): Read timed out. (read timeout=5)\n",
      "Problem: https://www.pttplc.com/en/Sustainability/Sustainabilitygovernance/Sustainabilityreport.aspx: HTTPSConnectionPool(host='www.pttplc.com', port=443): Max retries exceeded with url: /en/Sustainability/Sustainabilitygovernance/Sustainabilityreport.aspx (Caused by SSLError(SSLCertVerificationError(1, '[SSL: CERTIFICATE_VERIFY_FAILED] certificate verify failed: unable to get local issuer certificate (_ssl.c:1129)')))\n",
      "Problem: https://www.pttplc.com/en/Sustainability/Sustainabilitygovernance/Sustainabilitystrategy.aspx: HTTPSConnectionPool(host='www.pttplc.com', port=443): Max retries exceeded with url: /en/Sustainability/Sustainabilitygovernance/Sustainabilitystrategy.aspx (Caused by SSLError(SSLCertVerificationError(1, '[SSL: CERTIFICATE_VERIFY_FAILED] certificate verify failed: unable to get local issuer certificate (_ssl.c:1129)')))\n"
     ]
    },
    {
     "name": "stderr",
     "output_type": "stream",
     "text": [
      "\n",
      "  0%|                                                    | 0/20 [00:00<?, ?it/s]\u001b[A\n",
      " 25%|███████████                                 | 5/20 [00:00<00:00, 41.80it/s]\u001b[A\n",
      " 66%|███████████████████████████▏             | 145/219 [12:15<07:25,  6.01s/it]\u001b[A"
     ]
    },
    {
     "name": "stdout",
     "output_type": "stream",
     "text": [
      "Problem: https://www.parker.com/portal/site/PARKER/menuitem.c17ed99692643c6315731910237ad1ca/?vgnextoid=a80b0ce599a5e210VgnVCM10000048021dacRCRD&vgnextfmt=EN&requestedci=220438ca29928610VgnVCM100000e6651dacRCRD&vgnextcat=Sustainability: HTTPSConnectionPool(host='www.parker.com', port=443): Read timed out. (read timeout=5)\n",
      "Problem: https://www.parker.com/portal/site/PARKER/menuitem.10cd5ec7157b826a66b049e1237ad1ca/?vgnextoid=46392a270ee5d310VgnVCM100000200c1dacRCRD&vgnextfmt=EN&careerreadmore=19dc01807ac3d310VgnVCM100000200c1dacRCRD&readmore=true&vgnextcat=Our+Social+Responsibility&relatorId=acdc01807ac3d310VgnVCM100000200c1dac____: HTTPSConnectionPool(host='www.parker.com', port=443): Read timed out. (read timeout=5)\n"
     ]
    },
    {
     "name": "stderr",
     "output_type": "stream",
     "text": [
      "\n",
      "  0%|                                                    | 0/20 [00:00<?, ?it/s]\u001b[A\n",
      " 55%|███████████████████████                   | 11/20 [00:00<00:00, 107.89it/s]\u001b[A\n",
      " 67%|███████████████████████████▎             | 146/219 [12:20<07:08,  5.88s/it]\u001b[A\n",
      "  0%|                                                    | 0/20 [00:00<?, ?it/s]\u001b[A\n",
      " 45%|███████████████████▊                        | 9/20 [00:00<00:00, 54.46it/s]\u001b[A\n",
      " 75%|████████████████████████████████▎          | 15/20 [00:00<00:00, 24.97it/s]\u001b[A\n",
      " 95%|████████████████████████████████████████▊  | 19/20 [00:00<00:00, 26.67it/s]\u001b[A\n",
      " 67%|███████████████████████████▌             | 147/219 [12:22<05:48,  4.84s/it]\u001b[A"
     ]
    },
    {
     "name": "stdout",
     "output_type": "stream",
     "text": [
      "Problem: https://www.dnb.com/business-directory/company-profiles.pet_center_comercio_e_participacoes_sa.87f255f76a8f91712bfe37c88111925a.html: HTTPSConnectionPool(host='www.dnb.com', port=443): Read timed out. (read timeout=5)\n",
      "Problem: https://www.dnb.com/business-directory/company-profiles.pet_center_comercio_e_participacoes_sa.e33100329a92f571b271fc9723f3756c.html: HTTPSConnectionPool(host='www.dnb.com', port=443): Read timed out. (read timeout=5)\n",
      "Problem: https://www.dnb.com/business-directory/company-profiles.pet_center_comercio_e_participacoes_sa.3f696a9ed9f447baf3b49a0e1bfb8735.html: HTTPSConnectionPool(host='www.dnb.com', port=443): Read timed out. (read timeout=5)\n"
     ]
    },
    {
     "name": "stderr",
     "output_type": "stream",
     "text": [
      "\n",
      "  0%|                                                    | 0/20 [00:00<?, ?it/s]\u001b[A\n",
      " 35%|███████████████▍                            | 7/20 [00:00<00:00, 61.94it/s]\u001b[A\n",
      " 95%|████████████████████████████████████████▊  | 19/20 [00:00<00:00, 92.28it/s]\u001b[A\n",
      " 68%|███████████████████████████▋             | 148/219 [12:33<07:40,  6.48s/it]\u001b[A"
     ]
    },
    {
     "name": "stdout",
     "output_type": "stream",
     "text": [
      "Problem: https://pinewoodgroup.com/pinewood-today/sustainability: HTTPSConnectionPool(host='pinewoodgroup.com', port=443): Max retries exceeded with url: /pinewood-today/sustainability (Caused by SSLError(SSLCertVerificationError(1, '[SSL: CERTIFICATE_VERIFY_FAILED] certificate verify failed: unable to get local issuer certificate (_ssl.c:1129)')))\n",
      "Problem: https://pinewoodgroup.com/pinewood-today/news/pinewoods-andrew-smith-appointed-to-the-board-of-the-british-film-institute: HTTPSConnectionPool(host='pinewoodgroup.com', port=443): Max retries exceeded with url: /pinewood-today/news/pinewoods-andrew-smith-appointed-to-the-board-of-the-british-film-institute (Caused by SSLError(SSLCertVerificationError(1, '[SSL: CERTIFICATE_VERIFY_FAILED] certificate verify failed: unable to get local issuer certificate (_ssl.c:1129)')))\n",
      "Problem: https://pinewoodgroup.com/pinewood-today/careers/project-manager: HTTPSConnectionPool(host='pinewoodgroup.com', port=443): Max retries exceeded with url: /pinewood-today/careers/project-manager (Caused by SSLError(SSLCertVerificationError(1, '[SSL: CERTIFICATE_VERIFY_FAILED] certificate verify failed: unable to get local issuer certificate (_ssl.c:1129)')))\n"
     ]
    },
    {
     "name": "stderr",
     "output_type": "stream",
     "text": [
      "\n",
      "  0%|                                                    | 0/20 [00:00<?, ?it/s]\u001b[A\n",
      " 20%|████████▊                                   | 4/20 [00:00<00:00, 21.38it/s]\u001b[A\n",
      " 60%|█████████████████████████▊                 | 12/20 [00:00<00:00, 44.09it/s]\u001b[A\n",
      " 90%|██████████████████████████████████████▋    | 18/20 [00:00<00:00, 46.96it/s]\u001b[A\n",
      " 68%|███████████████████████████▉             | 149/219 [12:36<06:30,  5.57s/it]\u001b[A"
     ]
    },
    {
     "name": "stdout",
     "output_type": "stream",
     "text": [
      "Problem: https://www.polymetalinternational.com/en/sustainability/: HTTPSConnectionPool(host='www.polymetalinternational.com', port=443): Max retries exceeded with url: /en/sustainability/ (Caused by ConnectTimeoutError(<urllib3.connection.HTTPSConnection object at 0x7fbaeb17c1c0>, 'Connection to www.polymetalinternational.com timed out. (connect timeout=5)'))\n",
      "Problem: https://www.powergrid.in/sustainability-report: HTTPSConnectionPool(host='www.powergrid.in', port=443): Max retries exceeded with url: /sustainability-report (Caused by SSLError(SSLCertVerificationError(1, '[SSL: CERTIFICATE_VERIFY_FAILED] certificate verify failed: unable to get local issuer certificate (_ssl.c:1129)')))\n",
      "Problem: https://www.powergrid.in/csr-annual-booklet: HTTPSConnectionPool(host='www.powergrid.in', port=443): Max retries exceeded with url: /csr-annual-booklet (Caused by SSLError(SSLCertVerificationError(1, '[SSL: CERTIFICATE_VERIFY_FAILED] certificate verify failed: unable to get local issuer certificate (_ssl.c:1129)')))\n",
      "Problem: https://www.powergrid.in/accolades-awards: HTTPSConnectionPool(host='www.powergrid.in', port=443): Max retries exceeded with url: /accolades-awards (Caused by SSLError(SSLCertVerificationError(1, '[SSL: CERTIFICATE_VERIFY_FAILED] certificate verify failed: unable to get local issuer certificate (_ssl.c:1129)')))\n"
     ]
    },
    {
     "name": "stderr",
     "output_type": "stream",
     "text": [
      "\n",
      "  0%|                                                    | 0/20 [00:00<?, ?it/s]\u001b[A\n",
      " 60%|█████████████████████████▊                 | 12/20 [00:00<00:00, 80.80it/s]\u001b[A\n",
      " 68%|████████████████████████████             | 150/219 [12:42<06:17,  5.47s/it]\u001b[A\n",
      "  0%|                                                    | 0/20 [00:00<?, ?it/s]\u001b[A\n",
      " 30%|█████████████▏                              | 6/20 [00:00<00:00, 59.67it/s]\u001b[A\n",
      " 80%|██████████████████████████████████▍        | 16/20 [00:00<00:00, 78.84it/s]\u001b[A\n",
      " 69%|████████████████████████████▎            | 151/219 [12:47<06:18,  5.57s/it]\u001b[A\n",
      "  0%|                                                    | 0/20 [00:00<?, ?it/s]\u001b[A\n",
      " 10%|████▍                                       | 2/20 [00:00<00:01, 16.50it/s]\u001b[A\n",
      " 20%|████████▊                                   | 4/20 [00:00<00:00, 16.95it/s]\u001b[A\n",
      " 30%|█████████████▏                              | 6/20 [00:00<00:01, 13.60it/s]\u001b[A\n",
      " 50%|█████████████████████▌                     | 10/20 [00:00<00:00, 20.72it/s]\u001b[A\n",
      " 69%|████████████████████████████▍            | 152/219 [12:50<05:11,  4.64s/it]\u001b[A"
     ]
    },
    {
     "name": "stdout",
     "output_type": "stream",
     "text": [
      "Problem: https://www.qewc.com/qewc/en/annual-reports/: HTTPSConnectionPool(host='www.qewc.com', port=443): Read timed out. (read timeout=5)\n",
      "Problem: https://www.qewc.com/qewc/en/about/about-qatar/: HTTPSConnectionPool(host='www.qewc.com', port=443): Read timed out. (read timeout=5)\n",
      "Problem: https://www.qewc.com/qewc/en/subsidiaries/ras-girtas/: HTTPSConnectionPool(host='www.qewc.com', port=443): Read timed out. (read timeout=5)\n"
     ]
    },
    {
     "name": "stderr",
     "output_type": "stream",
     "text": [
      "\n",
      "  0%|                                                    | 0/20 [00:00<?, ?it/s]\u001b[A\n",
      " 65%|███████████████████████████▎              | 13/20 [00:00<00:00, 106.46it/s]\u001b[A\n",
      " 70%|████████████████████████████▋            | 153/219 [12:56<05:32,  5.04s/it]\u001b[A\n",
      "  0%|                                                    | 0/20 [00:00<?, ?it/s]\u001b[A\n",
      " 40%|█████████████████▌                          | 8/20 [00:00<00:00, 67.97it/s]\u001b[A\n",
      " 75%|████████████████████████████████▎          | 15/20 [00:00<00:00, 31.14it/s]\u001b[A\n",
      " 70%|████████████████████████████▊            | 154/219 [13:04<06:33,  6.05s/it]\u001b[A\n",
      "  0%|                                                    | 0/20 [00:00<?, ?it/s]\u001b[A\n",
      " 15%|██████▌                                     | 3/20 [00:00<00:00, 24.87it/s]\u001b[A\n",
      " 35%|███████████████▍                            | 7/20 [00:00<00:00, 27.40it/s]\u001b[A\n",
      " 75%|████████████████████████████████▎          | 15/20 [00:00<00:00, 45.56it/s]\u001b[A\n",
      " 71%|█████████████████████████████            | 155/219 [13:07<05:31,  5.18s/it]\u001b[A\n",
      "  0%|                                                    | 0/20 [00:00<?, ?it/s]\u001b[A\n",
      " 20%|████████▊                                   | 4/20 [00:00<00:00, 32.85it/s]\u001b[A\n",
      " 40%|█████████████████▌                          | 8/20 [00:00<00:00, 36.10it/s]\u001b[A\n",
      " 70%|██████████████████████████████             | 14/20 [00:00<00:00, 43.35it/s]\u001b[A\n",
      " 95%|████████████████████████████████████████▊  | 19/20 [00:00<00:00, 45.74it/s]\u001b[A\n",
      " 71%|█████████████████████████████▏           | 156/219 [13:13<05:35,  5.32s/it]\u001b[A\n",
      "  0%|                                                    | 0/20 [00:00<?, ?it/s]\u001b[A\n",
      " 60%|█████████████████████████▏                | 12/20 [00:00<00:00, 105.05it/s]\u001b[A\n",
      " 72%|█████████████████████████████▍           | 157/219 [13:16<04:39,  4.50s/it]\u001b[A\n",
      "  0%|                                                    | 0/20 [00:00<?, ?it/s]\u001b[A\n",
      " 15%|██████▌                                     | 3/20 [00:00<00:00, 21.47it/s]\u001b[A\n",
      " 30%|█████████████▏                              | 6/20 [00:00<00:00, 19.68it/s]\u001b[A\n",
      " 60%|█████████████████████████▊                 | 12/20 [00:00<00:00, 33.35it/s]\u001b[A\n",
      " 80%|██████████████████████████████████▍        | 16/20 [00:00<00:00, 34.87it/s]\u001b[A\n",
      " 72%|█████████████████████████████▌           | 158/219 [13:19<04:10,  4.11s/it]\u001b[A\n",
      "  0%|                                                    | 0/20 [00:00<?, ?it/s]\u001b[A\n",
      " 20%|████████▊                                   | 4/20 [00:00<00:00, 25.08it/s]\u001b[A\n",
      " 35%|███████████████▍                            | 7/20 [00:00<00:00, 21.34it/s]\u001b[A\n",
      " 65%|███████████████████████████▉               | 13/20 [00:00<00:00, 30.94it/s]\u001b[A\n",
      " 90%|██████████████████████████████████████▋    | 18/20 [00:00<00:00, 33.51it/s]\u001b[A\n",
      " 73%|█████████████████████████████▊           | 159/219 [13:21<03:31,  3.53s/it]\u001b[A"
     ]
    },
    {
     "name": "stdout",
     "output_type": "stream",
     "text": [
      "Problem: https://www.royalcaribbean.com/blog/sustainability-at-sea/: HTTPSConnectionPool(host='www.royalcaribbean.com', port=443): Read timed out. (read timeout=5)\n",
      "Problem: https://www.royalcaribbean.com/blog/protecting-the-environment-is-everyones-business-2/: HTTPSConnectionPool(host='www.royalcaribbean.com', port=443): Read timed out. (read timeout=5)\n",
      "Problem: https://www.royalcaribbean.com/european-cruises: HTTPSConnectionPool(host='www.royalcaribbean.com', port=443): Read timed out. (read timeout=5)\n"
     ]
    },
    {
     "name": "stderr",
     "output_type": "stream",
     "text": [
      "\n",
      "  0%|                                                    | 0/20 [00:00<?, ?it/s]\u001b[A\n",
      " 25%|███████████                                 | 5/20 [00:00<00:00, 47.54it/s]\u001b[A\n",
      " 70%|██████████████████████████████             | 14/20 [00:00<00:00, 66.18it/s]\u001b[A\n",
      " 73%|█████████████████████████████▉           | 160/219 [13:26<04:01,  4.10s/it]\u001b[A\n",
      "  0%|                                                    | 0/20 [00:00<?, ?it/s]\u001b[A\n",
      "  5%|██▏                                         | 1/20 [00:00<00:05,  3.71it/s]\u001b[A\n",
      " 10%|████▍                                       | 2/20 [00:00<00:03,  5.09it/s]\u001b[A\n",
      " 15%|██████▌                                     | 3/20 [00:00<00:03,  4.86it/s]\u001b[A\n",
      " 55%|███████████████████████▋                   | 11/20 [00:00<00:00, 22.00it/s]\u001b[A\n",
      " 90%|██████████████████████████████████████▋    | 18/20 [00:00<00:00, 32.91it/s]\u001b[A\n",
      " 74%|██████████████████████████████▏          | 161/219 [13:32<04:16,  4.43s/it]\u001b[A\n",
      "  0%|                                                    | 0/20 [00:00<?, ?it/s]\u001b[A\n",
      " 10%|████▍                                       | 2/20 [00:00<00:01, 16.62it/s]\u001b[A\n",
      " 35%|███████████████▍                            | 7/20 [00:00<00:00, 33.82it/s]\u001b[A\n",
      "100%|███████████████████████████████████████████| 20/20 [00:00<00:00, 72.63it/s]\u001b[A\n",
      " 74%|██████████████████████████████▎          | 162/219 [13:36<04:07,  4.34s/it]\u001b[A"
     ]
    },
    {
     "name": "stdout",
     "output_type": "stream",
     "text": [
      "Problem: https://sm-energy.com/sustainability/: HTTPSConnectionPool(host='sm-energy.com', port=443): Read timed out. (read timeout=5)\n"
     ]
    },
    {
     "name": "stderr",
     "output_type": "stream",
     "text": [
      "\n",
      "  0%|                                                    | 0/20 [00:00<?, ?it/s]\u001b[A\n",
      " 10%|████▍                                       | 2/20 [00:00<00:01, 16.88it/s]\u001b[A\n",
      " 35%|███████████████▍                            | 7/20 [00:00<00:00, 33.58it/s]\u001b[A\n",
      " 75%|████████████████████████████████▎          | 15/20 [00:00<00:00, 18.78it/s]\u001b[A\n",
      " 90%|██████████████████████████████████████▋    | 18/20 [00:01<00:00, 12.22it/s]\u001b[A\n",
      " 74%|██████████████████████████████▌          | 163/219 [13:43<04:45,  5.10s/it]\u001b[A\n",
      "  0%|                                                    | 0/20 [00:00<?, ?it/s]\u001b[A\n",
      " 20%|████████▊                                   | 4/20 [00:00<00:00, 39.76it/s]\u001b[A\n",
      " 40%|█████████████████▌                          | 8/20 [00:00<00:00, 30.11it/s]\u001b[A\n",
      " 70%|██████████████████████████████             | 14/20 [00:00<00:00, 36.70it/s]\u001b[A\n",
      " 90%|██████████████████████████████████████▋    | 18/20 [00:01<00:00, 12.98it/s]\u001b[A\n",
      " 75%|██████████████████████████████▋          | 164/219 [13:47<04:36,  5.02s/it]\u001b[A\n",
      "  0%|                                                    | 0/20 [00:00<?, ?it/s]\u001b[A\n",
      " 20%|████████▊                                   | 4/20 [00:00<00:00, 25.74it/s]\u001b[A\n",
      " 55%|███████████████████████▋                   | 11/20 [00:00<00:00, 46.68it/s]\u001b[A\n",
      " 75%|██████████████████████████████▉          | 165/219 [13:51<04:04,  4.53s/it]\u001b[A\n",
      "  0%|                                                    | 0/20 [00:00<?, ?it/s]\u001b[A\n",
      " 15%|██████▌                                     | 3/20 [00:00<00:00, 25.74it/s]\u001b[A\n",
      " 30%|█████████████▏                              | 6/20 [00:00<00:00, 18.03it/s]\u001b[A\n",
      " 90%|██████████████████████████████████████▋    | 18/20 [00:00<00:00, 50.23it/s]\u001b[A\n",
      " 76%|███████████████████████████████          | 166/219 [13:56<04:08,  4.70s/it]\u001b[A"
     ]
    },
    {
     "name": "stdout",
     "output_type": "stream",
     "text": [
      "Problem: https://www.sberbank.com/sustainability/ecology: ('Connection aborted.', ConnectionResetError(104, 'Connection reset by peer'))\n",
      "Problem: https://www.sberbank.com/investor-relations/corporate-governance/sberbank-executive-board/golodets: HTTPSConnectionPool(host='www.sberbank.com', port=443): Max retries exceeded with url: /investor-relations/corporate-governance/sberbank-executive-board/golodets (Caused by ConnectTimeoutError(<urllib3.connection.HTTPSConnection object at 0x7fbaf0a7d310>, 'Connection to www.sberbank.com timed out. (connect timeout=5)'))\n"
     ]
    },
    {
     "name": "stderr",
     "output_type": "stream",
     "text": [
      "\n",
      "  0%|                                                    | 0/20 [00:00<?, ?it/s]\u001b[A\n",
      " 30%|█████████████▏                              | 6/20 [00:00<00:00, 53.65it/s]\u001b[A\n",
      " 60%|█████████████████████████▊                 | 12/20 [00:00<00:00, 28.15it/s]\u001b[A\n",
      "100%|███████████████████████████████████████████| 20/20 [00:00<00:00, 40.12it/s]\u001b[A\n",
      " 76%|███████████████████████████████▎         | 167/219 [14:02<04:24,  5.09s/it]\u001b[A"
     ]
    },
    {
     "name": "stdout",
     "output_type": "stream",
     "text": [
      "Problem: https://www.scientificgames.com/about/social-responsibility/environmental-sustainability/: HTTPSConnectionPool(host='www.scientificgames.com', port=443): Max retries exceeded with url: /about/social-responsibility/environmental-sustainability/ (Caused by SSLError(SSLCertVerificationError(1, '[SSL: CERTIFICATE_VERIFY_FAILED] certificate verify failed: unable to get local issuer certificate (_ssl.c:1129)')))\n",
      "Problem: https://www.scientificgames.com/about/social-responsibility/: HTTPSConnectionPool(host='www.scientificgames.com', port=443): Max retries exceeded with url: /about/social-responsibility/ (Caused by SSLError(SSLCertVerificationError(1, '[SSL: CERTIFICATE_VERIFY_FAILED] certificate verify failed: unable to get local issuer certificate (_ssl.c:1129)')))\n",
      "Problem: https://www.scientificgames.com/careers/corporate-social-responsibility/: HTTPSConnectionPool(host='www.scientificgames.com', port=443): Max retries exceeded with url: /careers/corporate-social-responsibility/ (Caused by SSLError(SSLCertVerificationError(1, '[SSL: CERTIFICATE_VERIFY_FAILED] certificate verify failed: unable to get local issuer certificate (_ssl.c:1129)')))\n"
     ]
    },
    {
     "name": "stderr",
     "output_type": "stream",
     "text": [
      "\n",
      "  0%|                                                    | 0/20 [00:00<?, ?it/s]\u001b[A\n",
      " 15%|██████▌                                     | 3/20 [00:00<00:00, 28.52it/s]\u001b[A\n",
      " 35%|███████████████▍                            | 7/20 [00:00<00:00, 30.93it/s]\u001b[A\n",
      " 55%|███████████████████████▋                   | 11/20 [00:00<00:00, 21.73it/s]\u001b[A\n",
      " 77%|███████████████████████████████▍         | 168/219 [14:04<03:27,  4.07s/it]\u001b[A"
     ]
    },
    {
     "name": "stdout",
     "output_type": "stream",
     "text": [
      "Problem: https://www.sealedair.com/company/sustainability: HTTPSConnectionPool(host='www.sealedair.com', port=443): Max retries exceeded with url: /company/sustainability (Caused by SSLError(SSLCertVerificationError(1, '[SSL: CERTIFICATE_VERIFY_FAILED] certificate verify failed: unable to get local issuer certificate (_ssl.c:1129)')))\n"
     ]
    },
    {
     "name": "stderr",
     "output_type": "stream",
     "text": [
      "\n",
      "  0%|                                                    | 0/20 [00:00<?, ?it/s]\u001b[A\n",
      " 50%|█████████████████████▌                     | 10/20 [00:00<00:00, 99.38it/s]\u001b[A\n",
      "100%|███████████████████████████████████████████| 20/20 [00:00<00:00, 87.53it/s]\u001b[A\n",
      " 77%|███████████████████████████████▋         | 169/219 [14:06<02:53,  3.48s/it]\u001b[A\n",
      "  0%|                                                    | 0/20 [00:00<?, ?it/s]\u001b[A\n",
      " 10%|████▍                                       | 2/20 [00:00<00:01, 15.84it/s]\u001b[A\n",
      " 40%|█████████████████▌                          | 8/20 [00:00<00:00, 37.80it/s]\u001b[A\n",
      " 78%|███████████████████████████████▊         | 170/219 [14:09<02:45,  3.38s/it]\u001b[A\n",
      "  0%|                                                    | 0/20 [00:00<?, ?it/s]\u001b[A\n",
      " 30%|█████████████▏                              | 6/20 [00:00<00:00, 58.19it/s]\u001b[A\n",
      " 60%|█████████████████████████▊                 | 12/20 [00:00<00:00, 35.81it/s]\u001b[A\n",
      " 85%|████████████████████████████████████▌      | 17/20 [00:00<00:00, 36.83it/s]\u001b[A\n",
      " 78%|████████████████████████████████         | 171/219 [14:15<03:17,  4.11s/it]\u001b[A\n",
      "  0%|                                                    | 0/20 [00:00<?, ?it/s]\u001b[A\n",
      " 40%|█████████████████▌                          | 8/20 [00:00<00:00, 77.88it/s]\u001b[A\n",
      " 80%|██████████████████████████████████▍        | 16/20 [00:00<00:00, 49.30it/s]\u001b[A\n",
      " 79%|████████████████████████████████▏        | 172/219 [14:20<03:26,  4.40s/it]\u001b[A"
     ]
    },
    {
     "name": "stdout",
     "output_type": "stream",
     "text": [
      "Problem: https://www.sigma-alimentos.com/categorias/: HTTPSConnectionPool(host='www.sigma-alimentos.com', port=443): Max retries exceeded with url: /categorias/ (Caused by SSLError(SSLCertVerificationError(1, '[SSL: CERTIFICATE_VERIFY_FAILED] certificate verify failed: unable to get local issuer certificate (_ssl.c:1129)')))\n",
      "Problem: https://www.sigma-alimentos.com/en/categories/: HTTPSConnectionPool(host='www.sigma-alimentos.com', port=443): Max retries exceeded with url: /en/categories/ (Caused by SSLError(SSLCertVerificationError(1, '[SSL: CERTIFICATE_VERIFY_FAILED] certificate verify failed: unable to get local issuer certificate (_ssl.c:1129)')))\n"
     ]
    },
    {
     "name": "stderr",
     "output_type": "stream",
     "text": [
      "\n",
      "  0%|                                                    | 0/20 [00:00<?, ?it/s]\u001b[A\n",
      " 40%|█████████████████▌                          | 8/20 [00:00<00:00, 67.57it/s]\u001b[A\n",
      " 75%|████████████████████████████████▎          | 15/20 [00:00<00:00, 49.36it/s]\u001b[A\n",
      " 79%|████████████████████████████████▍        | 173/219 [14:25<03:28,  4.54s/it]\u001b[A\n",
      "  0%|                                                    | 0/20 [00:00<?, ?it/s]\u001b[A\n",
      " 10%|████▍                                       | 2/20 [00:00<00:01, 17.59it/s]\u001b[A\n",
      " 20%|████████▊                                   | 4/20 [00:00<00:01, 15.18it/s]\u001b[A\n",
      " 45%|███████████████████▊                        | 9/20 [00:00<00:00, 26.97it/s]\u001b[A\n",
      " 90%|██████████████████████████████████████▋    | 18/20 [00:00<00:00, 47.71it/s]\u001b[A\n",
      " 79%|████████████████████████████████▌        | 174/219 [14:34<04:34,  6.10s/it]\u001b[A"
     ]
    },
    {
     "name": "stdout",
     "output_type": "stream",
     "text": [
      "Problem: https://www.siteone.com/environmental-sustainability: HTTPSConnectionPool(host='www.siteone.com', port=443): Read timed out. (read timeout=5)\n",
      "Problem: https://www.siteone.com/en/responsibility-report: HTTPSConnectionPool(host='www.siteone.com', port=443): Read timed out. (read timeout=5)\n",
      "Problem: https://www.siteone.com/en/responsibility-community: HTTPSConnectionPool(host='www.siteone.com', port=443): Read timed out. (read timeout=5)\n"
     ]
    },
    {
     "name": "stderr",
     "output_type": "stream",
     "text": [
      "\n",
      "  0%|                                                    | 0/20 [00:00<?, ?it/s]\u001b[A\n",
      " 20%|████████▊                                   | 4/20 [00:00<00:00, 39.28it/s]\u001b[A\n",
      " 50%|█████████████████████▌                     | 10/20 [00:00<00:00, 45.48it/s]\u001b[A\n",
      " 80%|████████████████████████████████▊        | 175/219 [14:40<04:20,  5.93s/it]\u001b[A\n",
      "  0%|                                                    | 0/20 [00:00<?, ?it/s]\u001b[A\n",
      " 25%|███████████                                 | 5/20 [00:00<00:00, 38.32it/s]\u001b[A\n",
      " 45%|███████████████████▊                        | 9/20 [00:00<00:00, 36.96it/s]\u001b[A\n",
      " 75%|████████████████████████████████▎          | 15/20 [00:00<00:00, 45.93it/s]\u001b[A\n",
      "100%|███████████████████████████████████████████| 20/20 [00:00<00:00, 43.65it/s]\u001b[A\n",
      " 80%|████████████████████████████████▉        | 176/219 [14:44<03:52,  5.40s/it]\u001b[A"
     ]
    },
    {
     "name": "stdout",
     "output_type": "stream",
     "text": [
      "Problem: https://www.dnb.com/en-ch/about-us/corporate-sustainabillity/sustainability-reports/: HTTPSConnectionPool(host='www.dnb.com', port=443): Read timed out. (read timeout=5)\n",
      "Problem: https://www.dnb.com/business-directory/company-information.investigation_and_security_services.jp.niigata.niigata.html: HTTPSConnectionPool(host='www.dnb.com', port=443): Read timed out. (read timeout=5)\n",
      "Problem: https://www.dnb.com/business-directory/company-information.investigation_and_security_services.jp.tokyo.katsushika-ku.html: HTTPSConnectionPool(host='www.dnb.com', port=443): Read timed out. (read timeout=5)\n"
     ]
    },
    {
     "name": "stderr",
     "output_type": "stream",
     "text": [
      "\n",
      "  0%|                                                    | 0/20 [00:00<?, ?it/s]\u001b[A\n",
      " 30%|█████████████▏                              | 6/20 [00:00<00:00, 34.42it/s]\u001b[A\n",
      " 50%|█████████████████████▌                     | 10/20 [00:00<00:00, 30.45it/s]\u001b[A\n",
      " 70%|██████████████████████████████             | 14/20 [00:00<00:00, 31.82it/s]\u001b[A\n",
      " 81%|█████████████████████████████████▏       | 177/219 [14:50<03:48,  5.45s/it]\u001b[A"
     ]
    },
    {
     "name": "stdout",
     "output_type": "stream",
     "text": [
      "Problem: http://www.southerncoppercorp.com/ENG/susdev/Pages/PGsustainable_Environmental.aspx: HTTPSConnectionPool(host='www.southerncoppercorp.com', port=443): Max retries exceeded with url: /ENG/susdev/Pages/PGsustainable_Environmental.aspx (Caused by SSLError(SSLCertVerificationError(1, '[SSL: CERTIFICATE_VERIFY_FAILED] certificate verify failed: unable to get local issuer certificate (_ssl.c:1129)')))\n",
      "Problem: http://www.southerncoppercorp.com/ENG/susdev/Pages/PGsustainable_Climate.aspx: HTTPSConnectionPool(host='www.southerncoppercorp.com', port=443): Max retries exceeded with url: /ENG/susdev/Pages/PGsustainable_Climate.aspx (Caused by SSLError(SSLCertVerificationError(1, '[SSL: CERTIFICATE_VERIFY_FAILED] certificate verify failed: unable to get local issuer certificate (_ssl.c:1129)')))\n",
      "Problem: https://sparkinfrastructure.com/sustainability/2017-sustainability-report/sustainability-report-overview: HTTPSConnectionPool(host='sparkinfrastructure.com', port=443): Max retries exceeded with url: /sustainability/2017-sustainability-report/sustainability-report-overview (Caused by SSLError(SSLCertVerificationError(1, '[SSL: CERTIFICATE_VERIFY_FAILED] certificate verify failed: unable to get local issuer certificate (_ssl.c:1129)')))\n",
      "Problem: https://sparkinfrastructure.com/sustainability/2017-sustainability-report/introduction-sustainability: HTTPSConnectionPool(host='sparkinfrastructure.com', port=443): Max retries exceeded with url: /sustainability/2017-sustainability-report/introduction-sustainability (Caused by SSLError(SSLCertVerificationError(1, '[SSL: CERTIFICATE_VERIFY_FAILED] certificate verify failed: unable to get local issuer certificate (_ssl.c:1129)')))\n",
      "Problem: https://www.sparkinfrastructure.com/sustainability/2017-sustainability-report: HTTPSConnectionPool(host='www.sparkinfrastructure.com', port=443): Max retries exceeded with url: /sustainability/2017-sustainability-report (Caused by SSLError(SSLCertVerificationError(1, '[SSL: CERTIFICATE_VERIFY_FAILED] certificate verify failed: unable to get local issuer certificate (_ssl.c:1129)')))\n"
     ]
    },
    {
     "name": "stderr",
     "output_type": "stream",
     "text": [
      "\n",
      "  0%|                                                    | 0/20 [00:00<?, ?it/s]\u001b[A\n",
      " 35%|███████████████▍                            | 7/20 [00:00<00:00, 62.79it/s]\u001b[A\n",
      " 81%|█████████████████████████████████▎       | 178/219 [14:56<03:49,  5.61s/it]\u001b[A"
     ]
    },
    {
     "name": "stdout",
     "output_type": "stream",
     "text": [
      "Problem: https://www.sc.com/en/sustainability/position-statements/our-framework/: HTTPSConnectionPool(host='www.sc.com', port=443): Read timed out. (read timeout=5)\n"
     ]
    },
    {
     "name": "stderr",
     "output_type": "stream",
     "text": [
      "\n",
      "  0%|                                                    | 0/20 [00:00<?, ?it/s]\u001b[A\n",
      "  5%|██▏                                         | 1/20 [00:00<00:06,  3.13it/s]\u001b[A\n",
      " 35%|███████████████▍                            | 7/20 [00:00<00:00, 17.60it/s]\u001b[A\n",
      " 50%|█████████████████████▌                     | 10/20 [00:00<00:00, 17.99it/s]\u001b[A\n",
      " 82%|█████████████████████████████████▌       | 179/219 [15:01<03:47,  5.68s/it]\u001b[A"
     ]
    },
    {
     "name": "stdout",
     "output_type": "stream",
     "text": [
      "Problem: https://www.starenergygeothermal.co.id/2020/07/22/paving-the-way-to-preserve-the-environment/: HTTPSConnectionPool(host='www.starenergygeothermal.co.id', port=443): Max retries exceeded with url: /2020/07/22/paving-the-way-to-preserve-the-environment/ (Caused by SSLError(SSLCertVerificationError(1, '[SSL: CERTIFICATE_VERIFY_FAILED] certificate verify failed: unable to get local issuer certificate (_ssl.c:1129)')))\n",
      "Problem: https://www.starenergygeothermal.co.id/2021/10/07/star-energy-geothermal-won-the-best-renewable-company-2021/: HTTPSConnectionPool(host='www.starenergygeothermal.co.id', port=443): Max retries exceeded with url: /2021/10/07/star-energy-geothermal-won-the-best-renewable-company-2021/ (Caused by SSLError(SSLCertVerificationError(1, '[SSL: CERTIFICATE_VERIFY_FAILED] certificate verify failed: unable to get local issuer certificate (_ssl.c:1129)')))\n",
      "Problem: https://www.starenergygeothermal.co.id/2020/08/03/star-energy-wins-two-gold-and-one-green-proper-awards/: HTTPSConnectionPool(host='www.starenergygeothermal.co.id', port=443): Max retries exceeded with url: /2020/08/03/star-energy-wins-two-gold-and-one-green-proper-awards/ (Caused by SSLError(SSLCertVerificationError(1, '[SSL: CERTIFICATE_VERIFY_FAILED] certificate verify failed: unable to get local issuer certificate (_ssl.c:1129)')))\n",
      "Problem: https://www.steelcase.com/research/articles/topics/sustainability/2021-impact-report-executive-welcome/: HTTPSConnectionPool(host='www.steelcase.com', port=443): Read timed out. (read timeout=5)\n"
     ]
    },
    {
     "name": "stderr",
     "output_type": "stream",
     "text": [
      "\n",
      "  0%|                                                    | 0/20 [00:00<?, ?it/s]\u001b[A\n",
      " 30%|█████████████▏                              | 6/20 [00:00<00:00, 55.38it/s]\u001b[A\n",
      " 80%|██████████████████████████████████▍        | 16/20 [00:00<00:00, 70.30it/s]\u001b[A\n",
      " 82%|█████████████████████████████████▋       | 180/219 [15:07<03:42,  5.70s/it]\u001b[A\n",
      "  0%|                                                    | 0/20 [00:00<?, ?it/s]\u001b[A\n",
      " 40%|█████████████████▌                          | 8/20 [00:00<00:00, 78.60it/s]\u001b[A\n",
      " 80%|██████████████████████████████████▍        | 16/20 [00:00<00:00, 22.13it/s]\u001b[A\n",
      " 83%|█████████████████████████████████▉       | 181/219 [15:11<03:11,  5.04s/it]\u001b[A\n",
      "  0%|                                                    | 0/20 [00:00<?, ?it/s]\u001b[A\n",
      " 35%|███████████████▍                            | 7/20 [00:00<00:00, 43.04it/s]\u001b[A\n",
      " 60%|█████████████████████████▊                 | 12/20 [00:00<00:00, 21.45it/s]\u001b[A\n",
      " 90%|██████████████████████████████████████▋    | 18/20 [00:00<00:00, 30.44it/s]\u001b[A\n",
      " 83%|██████████████████████████████████       | 182/219 [15:18<03:29,  5.67s/it]\u001b[A\n",
      "  0%|                                                    | 0/20 [00:00<?, ?it/s]\u001b[A\n",
      " 10%|████▍                                       | 2/20 [00:00<00:01, 15.00it/s]\u001b[A\n",
      " 55%|███████████████████████▋                   | 11/20 [00:00<00:00, 51.49it/s]\u001b[A\n",
      " 84%|██████████████████████████████████▎      | 183/219 [15:22<03:06,  5.19s/it]\u001b[A\n",
      "  0%|                                                    | 0/20 [00:00<?, ?it/s]\u001b[A\n",
      " 40%|█████████████████▌                          | 8/20 [00:00<00:00, 45.68it/s]\u001b[A\n",
      " 65%|███████████████████████████▉               | 13/20 [00:00<00:00, 43.85it/s]\u001b[A\n",
      " 95%|████████████████████████████████████████▊  | 19/20 [00:00<00:00, 48.72it/s]\u001b[A\n",
      " 84%|██████████████████████████████████▍      | 184/219 [15:28<03:06,  5.34s/it]\u001b[A"
     ]
    },
    {
     "name": "stdout",
     "output_type": "stream",
     "text": [
      "Problem: https://www.tdk.com/en/sustainability/sustainability_data/sus06000.html: HTTPSConnectionPool(host='www.tdk.com', port=443): Read timed out. (read timeout=5)\n",
      "Problem: https://www.tdk.com/en/sustainability/sustainability_data/sus05800.html: HTTPSConnectionPool(host='www.tdk.com', port=443): Read timed out. (read timeout=5)\n",
      "Problem: https://www.tdk.com/en/sustainability2021/governance/index.html: HTTPSConnectionPool(host='www.tdk.com', port=443): Read timed out. (read timeout=5)\n",
      "Problem: https://www.te.com/content/dam/te-com/documents/about-te/corporate-responsibility/global/TE_CRReport2015_FINAL.PDF: HTTPSConnectionPool(host='www.te.com', port=443): Read timed out. (read timeout=5)\n",
      "Problem: https://www.te.com/usa-en/about-te/news-center/corporate-news/2020/2020-08-05-te-connectivity-sets-new-sustainability-charitable-goals-for-2030.html: HTTPSConnectionPool(host='www.te.com', port=443): Read timed out. (read timeout=5)\n"
     ]
    },
    {
     "name": "stderr",
     "output_type": "stream",
     "text": [
      "\n",
      "  0%|                                                    | 0/20 [00:00<?, ?it/s]\u001b[A\n",
      " 10%|████▍                                       | 2/20 [00:00<00:01, 10.46it/s]\u001b[A\n",
      " 55%|███████████████████████▋                   | 11/20 [00:00<00:00, 41.12it/s]\u001b[A\n",
      " 84%|██████████████████████████████████▋      | 185/219 [15:33<03:03,  5.40s/it]\u001b[A\n",
      "  0%|                                                    | 0/20 [00:00<?, ?it/s]\u001b[A\n",
      " 30%|█████████████▏                              | 6/20 [00:00<00:00, 51.36it/s]\u001b[A\n",
      " 60%|█████████████████████████▊                 | 12/20 [00:00<00:00, 44.67it/s]\u001b[A\n",
      " 85%|██████████████████████████████████▊      | 186/219 [15:36<02:35,  4.71s/it]\u001b[A\n",
      "  0%|                                                    | 0/20 [00:00<?, ?it/s]\u001b[A\n",
      " 25%|███████████                                 | 5/20 [00:00<00:00, 37.52it/s]\u001b[A\n",
      " 45%|███████████████████▊                        | 9/20 [00:00<00:00, 29.57it/s]\u001b[A\n",
      " 65%|███████████████████████████▉               | 13/20 [00:00<00:00, 31.41it/s]\u001b[A\n",
      " 85%|███████████████████████████████████      | 187/219 [15:41<02:28,  4.64s/it]\u001b[A\n",
      "  0%|                                                    | 0/20 [00:00<?, ?it/s]\u001b[A\n",
      " 25%|███████████                                 | 5/20 [00:00<00:00, 26.51it/s]\u001b[A\n",
      " 50%|█████████████████████▌                     | 10/20 [00:00<00:00, 33.56it/s]\u001b[A\n",
      " 86%|███████████████████████████████████▏     | 188/219 [15:44<02:13,  4.30s/it]\u001b[A\n",
      "  0%|                                                    | 0/20 [00:00<?, ?it/s]\u001b[A\n",
      " 25%|███████████                                 | 5/20 [00:00<00:00, 44.66it/s]\u001b[A\n",
      " 50%|█████████████████████▌                     | 10/20 [00:00<00:00, 37.96it/s]\u001b[A\n",
      " 75%|████████████████████████████████▎          | 15/20 [00:00<00:00, 42.59it/s]\u001b[A\n",
      "100%|███████████████████████████████████████████| 20/20 [00:00<00:00, 43.93it/s]\u001b[A\n",
      " 86%|███████████████████████████████████▍     | 189/219 [15:49<02:12,  4.41s/it]\u001b[A"
     ]
    },
    {
     "name": "stdout",
     "output_type": "stream",
     "text": [
      "Problem: https://www.tvo.fi/en/index/responsibility/environmentalresponsibility.html: HTTPSConnectionPool(host='www.tvo.fi', port=443): Max retries exceeded with url: /en/index/responsibility/environmentalresponsibility.html (Caused by SSLError(SSLCertVerificationError(1, '[SSL: CERTIFICATE_VERIFY_FAILED] certificate verify failed: unable to get local issuer certificate (_ssl.c:1129)')))\n",
      "Problem: https://www.tvo.fi/en/index/news/pressreleasesstockexchangereleases/2021/theregularelectricityproductionofol3eprwillbepostponedduetoextensionofturbineoverhaul.html: HTTPSConnectionPool(host='www.tvo.fi', port=443): Max retries exceeded with url: /en/index/news/pressreleasesstockexchangereleases/2021/theregularelectricityproductionofol3eprwillbepostponedduetoextensionofturbineoverhaul.html (Caused by SSLError(SSLCertVerificationError(1, '[SSL: CERTIFICATE_VERIFY_FAILED] certificate verify failed: unable to get local issuer certificate (_ssl.c:1129)')))\n",
      "Problem: https://www.tvo.fi/en/index/investors/financialpublications.html: HTTPSConnectionPool(host='www.tvo.fi', port=443): Max retries exceeded with url: /en/index/investors/financialpublications.html (Caused by SSLError(SSLCertVerificationError(1, '[SSL: CERTIFICATE_VERIFY_FAILED] certificate verify failed: unable to get local issuer certificate (_ssl.c:1129)')))\n"
     ]
    },
    {
     "name": "stderr",
     "output_type": "stream",
     "text": [
      "\n",
      "  0%|                                                    | 0/20 [00:00<?, ?it/s]\u001b[A\n",
      " 25%|███████████                                 | 5/20 [00:00<00:00, 37.84it/s]\u001b[A\n",
      " 45%|███████████████████▊                        | 9/20 [00:00<00:00, 34.56it/s]\u001b[A\n",
      " 87%|███████████████████████████████████▌     | 190/219 [15:56<02:30,  5.19s/it]\u001b[A\n",
      "  0%|                                                    | 0/20 [00:00<?, ?it/s]\u001b[A\n",
      " 15%|██████▌                                     | 3/20 [00:00<00:01, 15.36it/s]\u001b[A\n",
      " 25%|███████████                                 | 5/20 [00:00<00:00, 15.26it/s]\u001b[A\n",
      " 35%|███████████████▍                            | 7/20 [00:00<00:00, 16.29it/s]\u001b[A\n",
      " 45%|███████████████████▊                        | 9/20 [00:00<00:00, 13.46it/s]\u001b[A\n",
      " 55%|███████████████████████▋                   | 11/20 [00:00<00:00, 14.19it/s]\u001b[A\n",
      " 65%|███████████████████████████▉               | 13/20 [00:00<00:00, 15.22it/s]\u001b[A\n",
      " 75%|████████████████████████████████▎          | 15/20 [00:01<00:00, 12.63it/s]\u001b[A\n",
      " 87%|███████████████████████████████████▊     | 191/219 [16:00<02:16,  4.89s/it]\u001b[A\n",
      "  0%|                                                    | 0/20 [00:00<?, ?it/s]\u001b[A\n",
      " 25%|███████████                                 | 5/20 [00:00<00:00, 45.50it/s]\u001b[A\n",
      " 50%|█████████████████████▌                     | 10/20 [00:00<00:00, 42.79it/s]\u001b[A\n",
      " 75%|████████████████████████████████▎          | 15/20 [00:00<00:00, 32.85it/s]\u001b[A\n",
      " 95%|████████████████████████████████████████▊  | 19/20 [00:00<00:00, 32.69it/s]\u001b[A\n",
      " 88%|███████████████████████████████████▉     | 192/219 [16:03<01:54,  4.26s/it]\u001b[A\n",
      "  0%|                                                    | 0/20 [00:00<?, ?it/s]\u001b[A\n",
      " 30%|█████████████▏                              | 6/20 [00:00<00:00, 37.89it/s]\u001b[A\n",
      " 50%|█████████████████████▌                     | 10/20 [00:00<00:00, 17.91it/s]\u001b[A\n",
      " 85%|████████████████████████████████████▌      | 17/20 [00:00<00:00, 27.38it/s]\u001b[A\n",
      " 88%|████████████████████████████████████▏    | 193/219 [16:05<01:38,  3.78s/it]\u001b[A\n",
      "  0%|                                                    | 0/20 [00:00<?, ?it/s]\u001b[A\n",
      " 30%|█████████████▏                              | 6/20 [00:00<00:00, 57.45it/s]\u001b[A\n",
      " 70%|██████████████████████████████             | 14/20 [00:00<00:00, 67.28it/s]\u001b[A\n",
      " 89%|████████████████████████████████████▎    | 194/219 [16:09<01:29,  3.60s/it]\u001b[A\n",
      "  0%|                                                    | 0/20 [00:00<?, ?it/s]\u001b[A\n",
      " 30%|█████████████▏                              | 6/20 [00:00<00:00, 59.98it/s]\u001b[A\n",
      " 60%|█████████████████████████▊                 | 12/20 [00:00<00:00, 36.48it/s]\u001b[A\n",
      " 89%|████████████████████████████████████▌    | 195/219 [16:13<01:34,  3.92s/it]\u001b[A"
     ]
    },
    {
     "name": "stdout",
     "output_type": "stream",
     "text": [
      "Problem: https://www.transaltarenewables.com/2021/08/10/transalta-renewables-reports-second-quarter-2021-results/: HTTPSConnectionPool(host='www.transaltarenewables.com', port=443): Read timed out. (read timeout=5)\n"
     ]
    },
    {
     "name": "stderr",
     "output_type": "stream",
     "text": [
      "\n",
      "  0%|                                                    | 0/20 [00:00<?, ?it/s]\u001b[A\n",
      " 55%|███████████████████████                   | 11/20 [00:00<00:00, 108.81it/s]\u001b[A\n",
      " 89%|████████████████████████████████████▋    | 196/219 [16:27<02:38,  6.91s/it]\u001b[A"
     ]
    },
    {
     "name": "stdout",
     "output_type": "stream",
     "text": [
      "Problem: https://www.tronox.com/about-us/sustainability/australian-environmental-reports/: HTTPSConnectionPool(host='www.tronox.com', port=443): Read timed out. (read timeout=5)\n"
     ]
    },
    {
     "name": "stderr",
     "output_type": "stream",
     "text": [
      "\n",
      "  0%|                                                    | 0/20 [00:00<?, ?it/s]\u001b[A\n",
      " 20%|████████▊                                   | 4/20 [00:00<00:01, 12.20it/s]\u001b[A\n",
      " 65%|███████████████████████████▉               | 13/20 [00:00<00:00, 35.60it/s]\u001b[A\n",
      " 95%|████████████████████████████████████████▊  | 19/20 [00:00<00:00, 38.07it/s]\u001b[A\n",
      " 90%|████████████████████████████████████▉    | 197/219 [16:34<02:28,  6.73s/it]\u001b[A\n",
      "  0%|                                                    | 0/20 [00:00<?, ?it/s]\u001b[A\n",
      " 25%|███████████                                 | 5/20 [00:00<00:00, 42.63it/s]\u001b[A\n",
      " 65%|███████████████████████████▉               | 13/20 [00:00<00:00, 62.42it/s]\u001b[A\n",
      "100%|███████████████████████████████████████████| 20/20 [00:00<00:00, 41.54it/s]\u001b[A\n",
      " 90%|█████████████████████████████████████    | 198/219 [16:35<01:48,  5.18s/it]\u001b[A"
     ]
    },
    {
     "name": "stdout",
     "output_type": "stream",
     "text": [
      "Problem: https://www.upcrenewables.com/indonesia/inauguration-of-the-35000mw-program-signing-of-samas-50mw-wind-farm-power-purchase-agreement/: HTTPSConnectionPool(host='www.upcrenewables.com', port=443): Read timed out. (read timeout=5)\n",
      "Problem: https://www.upcrenewables.com/indonesia/metro-tv-janji-jokowi-innovation-and-the-future-of-energy-part-3/: HTTPSConnectionPool(host='www.upcrenewables.com', port=443): Read timed out. (read timeout=5)\n",
      "Problem: https://www.upcrenewables.com/others/upc-renewables-north-africa-and-cio-partner-to-develop-the-sidi-mansour-wind-farm-in-tunisia/: HTTPSConnectionPool(host='www.upcrenewables.com', port=443): Read timed out. (read timeout=5)\n"
     ]
    },
    {
     "name": "stderr",
     "output_type": "stream",
     "text": [
      "\n",
      "  0%|                                                    | 0/20 [00:00<?, ?it/s]\u001b[A\n",
      " 25%|███████████                                 | 5/20 [00:00<00:00, 43.95it/s]\u001b[A\n",
      " 65%|███████████████████████████▉               | 13/20 [00:00<00:00, 34.45it/s]\u001b[A\n",
      "100%|███████████████████████████████████████████| 20/20 [00:00<00:00, 44.61it/s]\u001b[A\n",
      " 91%|█████████████████████████████████████▎   | 199/219 [16:42<01:51,  5.59s/it]\u001b[A"
     ]
    },
    {
     "name": "stdout",
     "output_type": "stream",
     "text": [
      "Problem: https://www.usecology.com/article/us-ecologys-environmental-solutions-help-customers-achieve-sustainability-goals-better: HTTPSConnectionPool(host='www.usecology.com', port=443): Max retries exceeded with url: /article/us-ecologys-environmental-solutions-help-customers-achieve-sustainability-goals-better (Caused by SSLError(SSLCertVerificationError(1, '[SSL: CERTIFICATE_VERIFY_FAILED] certificate verify failed: unable to get local issuer certificate (_ssl.c:1129)')))\n",
      "Problem: https://www.usecology.com/article/why-natural-disaster-preparedness-key-reducing-risk-and-limit-operational-impact: HTTPSConnectionPool(host='www.usecology.com', port=443): Max retries exceeded with url: /article/why-natural-disaster-preparedness-key-reducing-risk-and-limit-operational-impact (Caused by SSLError(SSLCertVerificationError(1, '[SSL: CERTIFICATE_VERIFY_FAILED] certificate verify failed: unable to get local issuer certificate (_ssl.c:1129)')))\n"
     ]
    },
    {
     "name": "stderr",
     "output_type": "stream",
     "text": [
      "\n",
      "  0%|                                                    | 0/20 [00:00<?, ?it/s]\u001b[A\n",
      " 60%|█████████████████████████▏                | 12/20 [00:00<00:00, 115.93it/s]\u001b[A\n",
      " 91%|█████████████████████████████████████▍   | 200/219 [16:44<01:26,  4.58s/it]\u001b[A"
     ]
    },
    {
     "name": "stdout",
     "output_type": "stream",
     "text": [
      "Problem: https://www.unicreditgroup.eu/en/a-sustainable-bank/sustainability-reporting.html: HTTPSConnectionPool(host='www.unicreditgroup.eu', port=443): Read timed out. (read timeout=5)\n",
      "Problem: https://www.unicreditgroup.eu/en/one-unicredit/commitments/2021/mar/sustainablefinance.html: HTTPSConnectionPool(host='www.unicreditgroup.eu', port=443): Read timed out. (read timeout=5)\n",
      "Problem: https://www.unicreditgroup.eu/en/a-sustainable-bank/sustainability-governance.html: HTTPSConnectionPool(host='www.unicreditgroup.eu', port=443): Read timed out. (read timeout=5)\n",
      "Problem: https://csr.unifirst.com/sustainability/: HTTPSConnectionPool(host='csr.unifirst.com', port=443): Max retries exceeded with url: /sustainability/ (Caused by SSLError(SSLCertVerificationError(1, '[SSL: CERTIFICATE_VERIFY_FAILED] certificate verify failed: unable to get local issuer certificate (_ssl.c:1129)')))\n"
     ]
    },
    {
     "name": "stderr",
     "output_type": "stream",
     "text": [
      "\n",
      "  0%|                                                    | 0/20 [00:00<?, ?it/s]\u001b[A\n",
      " 15%|██████▌                                     | 3/20 [00:00<00:00, 17.52it/s]\u001b[A\n",
      " 25%|███████████                                 | 5/20 [00:00<00:00, 18.42it/s]\u001b[A\n",
      " 95%|████████████████████████████████████████▊  | 19/20 [00:00<00:00, 64.65it/s]\u001b[A\n",
      " 92%|█████████████████████████████████████▋   | 201/219 [16:49<01:27,  4.85s/it]\u001b[A\n",
      "  0%|                                                    | 0/20 [00:00<?, ?it/s]\u001b[A\n",
      " 15%|██████▌                                     | 3/20 [00:00<00:00, 19.06it/s]\u001b[A\n",
      " 45%|███████████████████▊                        | 9/20 [00:00<00:00, 36.33it/s]\u001b[A\n",
      " 70%|██████████████████████████████             | 14/20 [00:00<00:00, 39.77it/s]\u001b[A\n",
      " 92%|█████████████████████████████████████▊   | 202/219 [16:52<01:11,  4.22s/it]\u001b[A\n",
      "  0%|                                                    | 0/20 [00:00<?, ?it/s]\u001b[A\n",
      " 10%|████▍                                       | 2/20 [00:00<00:00, 18.37it/s]\u001b[A\n",
      " 30%|█████████████▏                              | 6/20 [00:00<00:00, 30.63it/s]\u001b[A\n",
      " 50%|█████████████████████▌                     | 10/20 [00:00<00:00, 30.21it/s]\u001b[A\n",
      " 75%|████████████████████████████████▎          | 15/20 [00:00<00:00, 22.75it/s]\u001b[A\n",
      " 90%|██████████████████████████████████████▋    | 18/20 [00:00<00:00, 18.79it/s]\u001b[A\n",
      " 93%|██████████████████████████████████████   | 203/219 [16:59<01:19,  4.98s/it]\u001b[A"
     ]
    },
    {
     "name": "stdout",
     "output_type": "stream",
     "text": [
      "Problem: https://www.uponorgroup.com/en-en/sustainability/our-approach: HTTPSConnectionPool(host='www.uponorgroup.com', port=443): Read timed out. (read timeout=5)\n",
      "Problem: https://www.uponorgroup.com/en-en/sustainability/people-and-society: HTTPSConnectionPool(host='www.uponorgroup.com', port=443): Read timed out. (read timeout=5)\n"
     ]
    },
    {
     "name": "stderr",
     "output_type": "stream",
     "text": [
      "\n",
      "  0%|                                                    | 0/20 [00:00<?, ?it/s]\u001b[A\n",
      " 65%|███████████████████████████▎              | 13/20 [00:00<00:00, 116.23it/s]\u001b[A\n",
      " 93%|██████████████████████████████████████▏  | 204/219 [17:04<01:16,  5.10s/it]\u001b[A\n",
      "  0%|                                                    | 0/20 [00:00<?, ?it/s]\u001b[A\n",
      " 25%|███████████                                 | 5/20 [00:00<00:00, 49.13it/s]\u001b[A\n",
      " 50%|█████████████████████▌                     | 10/20 [00:00<00:00, 14.29it/s]\u001b[A\n",
      " 95%|████████████████████████████████████████▊  | 19/20 [00:00<00:00, 28.30it/s]\u001b[A\n",
      " 94%|██████████████████████████████████████▍  | 205/219 [17:12<01:22,  5.91s/it]\u001b[A\n",
      "  0%|                                                    | 0/20 [00:00<?, ?it/s]\u001b[A\n",
      " 30%|█████████████▏                              | 6/20 [00:00<00:00, 45.21it/s]\u001b[A\n",
      " 55%|███████████████████████▋                   | 11/20 [00:00<00:00, 31.39it/s]\u001b[A\n",
      " 85%|████████████████████████████████████▌      | 17/20 [00:00<00:00, 36.31it/s]\u001b[A\n",
      " 94%|██████████████████████████████████████▌  | 206/219 [17:19<01:20,  6.17s/it]\u001b[A\n",
      "  0%|                                                    | 0/20 [00:00<?, ?it/s]\u001b[A\n",
      " 25%|███████████                                 | 5/20 [00:00<00:00, 40.78it/s]\u001b[A\n",
      " 70%|██████████████████████████████             | 14/20 [00:00<00:00, 67.12it/s]\u001b[A\n",
      " 95%|██████████████████████████████████████▊  | 207/219 [17:21<00:58,  4.91s/it]\u001b[A\n",
      "  0%|                                                    | 0/20 [00:00<?, ?it/s]\u001b[A\n",
      " 15%|██████▌                                     | 3/20 [00:00<00:00, 27.14it/s]\u001b[A\n",
      " 35%|███████████████▍                            | 7/20 [00:00<00:00, 32.30it/s]\u001b[A\n",
      " 75%|████████████████████████████████▎          | 15/20 [00:00<00:00, 51.21it/s]\u001b[A\n",
      " 95%|██████████████████████████████████████▉  | 208/219 [17:24<00:49,  4.47s/it]\u001b[A"
     ]
    },
    {
     "name": "stdout",
     "output_type": "stream",
     "text": [
      "Problem: https://www.votorantim.com.br/governance/: HTTPSConnectionPool(host='www.votorantim.com.br', port=443): Read timed out. (read timeout=5)\n",
      "Problem: https://www.votorantim.com.br/governanca/: HTTPSConnectionPool(host='www.votorantim.com.br', port=443): Read timed out. (read timeout=5)\n"
     ]
    },
    {
     "name": "stderr",
     "output_type": "stream",
     "text": [
      "\n",
      "  0%|                                                    | 0/20 [00:00<?, ?it/s]\u001b[A\n",
      " 15%|██████▌                                     | 3/20 [00:00<00:00, 25.86it/s]\u001b[A\n",
      " 50%|█████████████████████▌                     | 10/20 [00:00<00:00, 43.12it/s]\u001b[A\n",
      " 75%|████████████████████████████████▎          | 15/20 [00:00<00:00, 44.07it/s]\u001b[A\n",
      " 95%|███████████████████████████████████████▏ | 209/219 [17:30<00:50,  5.00s/it]\u001b[A"
     ]
    },
    {
     "name": "stdout",
     "output_type": "stream",
     "text": [
      "Problem: https://www.grainger.com/know-how/business-operations/sustainable-practices/kh-sustainability-work: HTTPSConnectionPool(host='www.grainger.com', port=443): Read timed out. (read timeout=5)\n",
      "Problem: https://www.grainger.com/content/mc/product-collections/green-resources: HTTPSConnectionPool(host='www.grainger.com', port=443): Read timed out. (read timeout=5)\n",
      "Problem: https://www.grainger.com/know-how/kh-environmental-safety-health-training-webinars: HTTPSConnectionPool(host='www.grainger.com', port=443): Read timed out. (read timeout=5)\n"
     ]
    },
    {
     "name": "stderr",
     "output_type": "stream",
     "text": [
      "\n",
      "  0%|                                                    | 0/20 [00:00<?, ?it/s]\u001b[A\n",
      " 15%|██████▌                                     | 3/20 [00:00<00:00, 26.06it/s]\u001b[A\n",
      " 60%|█████████████████████████▊                 | 12/20 [00:00<00:00, 33.36it/s]\u001b[A\n",
      " 85%|████████████████████████████████████▌      | 17/20 [00:00<00:00, 33.62it/s]\u001b[A\n",
      " 96%|███████████████████████████████████████▎ | 210/219 [17:36<00:46,  5.19s/it]\u001b[A\n",
      "  0%|                                                    | 0/20 [00:00<?, ?it/s]\u001b[A\n",
      " 25%|███████████                                 | 5/20 [00:00<00:00, 47.15it/s]\u001b[A\n",
      " 55%|███████████████████████▋                   | 11/20 [00:00<00:00, 52.26it/s]\u001b[A\n",
      " 85%|████████████████████████████████████▌      | 17/20 [00:00<00:00, 33.76it/s]\u001b[A\n",
      " 96%|███████████████████████████████████████▌ | 211/219 [17:39<00:37,  4.66s/it]\u001b[A"
     ]
    },
    {
     "name": "stdout",
     "output_type": "stream",
     "text": [
      "Problem: https://en.weichaipower.com/about/sustainability/we_are_in_action/201808/t20180814_43262.html: HTTPSConnectionPool(host='en.weichaipower.com', port=443): Max retries exceeded with url: /about/sustainability/we_are_in_action/201808/t20180814_43262.html (Caused by SSLError(SSLCertVerificationError(1, '[SSL: CERTIFICATE_VERIFY_FAILED] certificate verify failed: unable to get local issuer certificate (_ssl.c:1129)')))\n",
      "Problem: https://en.weichaipower.com/about/sustainability/: HTTPSConnectionPool(host='en.weichaipower.com', port=443): Max retries exceeded with url: /about/sustainability/ (Caused by SSLError(SSLCertVerificationError(1, '[SSL: CERTIFICATE_VERIFY_FAILED] certificate verify failed: unable to get local issuer certificate (_ssl.c:1129)')))\n",
      "Problem: https://en.weichaipower.com/about/sustainability/csr/: HTTPSConnectionPool(host='en.weichaipower.com', port=443): Max retries exceeded with url: /about/sustainability/csr/ (Caused by SSLError(SSLCertVerificationError(1, '[SSL: CERTIFICATE_VERIFY_FAILED] certificate verify failed: unable to get local issuer certificate (_ssl.c:1129)')))\n"
     ]
    },
    {
     "name": "stderr",
     "output_type": "stream",
     "text": [
      "\n",
      "  0%|                                                    | 0/20 [00:00<?, ?it/s]\u001b[A\n",
      " 20%|████████▊                                   | 4/20 [00:00<00:00, 20.92it/s]\u001b[A\n",
      " 90%|██████████████████████████████████████▋    | 18/20 [00:00<00:00, 70.02it/s]\u001b[A\n",
      " 97%|███████████████████████████████████████▋ | 212/219 [17:43<00:29,  4.21s/it]\u001b[A"
     ]
    },
    {
     "name": "stdout",
     "output_type": "stream",
     "text": [
      "Problem: https://www.westrock.com/sustainability/policies-and-certifications: HTTPSConnectionPool(host='www.westrock.com', port=443): Max retries exceeded with url: /sustainability/policies-and-certifications (Caused by SSLError(SSLCertVerificationError(1, '[SSL: CERTIFICATE_VERIFY_FAILED] certificate verify failed: unable to get local issuer certificate (_ssl.c:1129)')))\n",
      "Problem: https://www.westrock.com/sustainability: HTTPSConnectionPool(host='www.westrock.com', port=443): Max retries exceeded with url: /sustainability (Caused by SSLError(SSLCertVerificationError(1, '[SSL: CERTIFICATE_VERIFY_FAILED] certificate verify failed: unable to get local issuer certificate (_ssl.c:1129)')))\n"
     ]
    },
    {
     "name": "stderr",
     "output_type": "stream",
     "text": [
      "\n",
      "  0%|                                                    | 0/20 [00:00<?, ?it/s]\u001b[A\n",
      " 45%|███████████████████▊                        | 9/20 [00:00<00:00, 57.61it/s]\u001b[A\n",
      " 80%|██████████████████████████████████▍        | 16/20 [00:00<00:00, 63.52it/s]\u001b[A\n",
      " 97%|███████████████████████████████████████▉ | 213/219 [17:47<00:25,  4.23s/it]\u001b[A"
     ]
    },
    {
     "name": "stdout",
     "output_type": "stream",
     "text": [
      "Problem: https://www.wolverineworldwide.com/about-us/responsibility/conservation/: HTTPSConnectionPool(host='www.wolverineworldwide.com', port=443): Max retries exceeded with url: /about-us/responsibility/conservation/ (Caused by SSLError(SSLCertVerificationError(1, '[SSL: CERTIFICATE_VERIFY_FAILED] certificate verify failed: unable to get local issuer certificate (_ssl.c:1129)')))\n"
     ]
    },
    {
     "name": "stderr",
     "output_type": "stream",
     "text": [
      "\n",
      "  0%|                                                    | 0/20 [00:00<?, ?it/s]\u001b[A\n",
      " 35%|███████████████▍                            | 7/20 [00:00<00:00, 66.89it/s]\u001b[A\n",
      " 70%|██████████████████████████████             | 14/20 [00:00<00:00, 42.39it/s]\u001b[A\n",
      " 98%|████████████████████████████████████████ | 214/219 [17:50<00:19,  3.81s/it]\u001b[A"
     ]
    },
    {
     "name": "stdout",
     "output_type": "stream",
     "text": [
      "Problem: https://www.xerox.com/en-sk/about/corporate-social-responsibility: HTTPSConnectionPool(host='www.xerox.com', port=443): Read timed out. (read timeout=5)\n"
     ]
    },
    {
     "name": "stderr",
     "output_type": "stream",
     "text": [
      "\n",
      "  0%|                                                    | 0/20 [00:00<?, ?it/s]\u001b[A\n",
      " 55%|███████████████████████                   | 11/20 [00:00<00:00, 103.64it/s]\u001b[A\n",
      " 98%|████████████████████████████████████████▎| 215/219 [17:56<00:18,  4.52s/it]\u001b[A"
     ]
    },
    {
     "name": "stdout",
     "output_type": "stream",
     "text": [
      "Problem: https://www.yesbank.in/banking-initiatives/responsible-banking/sustainable-finance/focus-on-sustainability-sectors: HTTPSConnectionPool(host='www.yesbank.in', port=443): Read timed out. (read timeout=5)\n",
      "Problem: https://www.yesbank.in/about-us/sustainability-at-yes-bank: HTTPSConnectionPool(host='www.yesbank.in', port=443): Read timed out. (read timeout=5)\n"
     ]
    },
    {
     "name": "stderr",
     "output_type": "stream",
     "text": [
      "\n",
      "  0%|                                                    | 0/20 [00:00<?, ?it/s]\u001b[A\n",
      " 40%|█████████████████▌                          | 8/20 [00:00<00:00, 79.89it/s]\u001b[A\n",
      " 80%|██████████████████████████████████▍        | 16/20 [00:00<00:00, 48.78it/s]\u001b[A\n",
      " 99%|████████████████████████████████████████▍| 216/219 [18:01<00:14,  4.82s/it]\u001b[A"
     ]
    },
    {
     "name": "stdout",
     "output_type": "stream",
     "text": [
      "Problem: https://www.yum.com/wps/portal/yumbrands/Yumbrands/news/press-releases/yum+brands+annual+global+citizenship+sustainability+report+showcases+companys+commitment+to+socially+responsible+growth+highlights+progress+around+priority+areas: HTTPSConnectionPool(host='www.yum.com', port=443): Read timed out. (read timeout=5)\n",
      "Problem: https://www.yum.com/wps/portal/yumbrands/Yumbrands/news/press-releases/yum+brands+annual+global+citizenship+and+sustainability+report+showcases+companys+strategic+investment+in+socially+responsible+growth: HTTPSConnectionPool(host='www.yum.com', port=443): Read timed out. (read timeout=5)\n",
      "Problem: https://www.yum.com/wps/portal/yumbrands/Yumbrands/news/company-stories-article/Yum+Brands+advances+its+sustainability+journey+through+transparent+reporting+to+CDP: HTTPSConnectionPool(host='www.yum.com', port=443): Read timed out. (read timeout=5)\n"
     ]
    },
    {
     "name": "stderr",
     "output_type": "stream",
     "text": [
      "\n",
      "  0%|                                                    | 0/20 [00:00<?, ?it/s]\u001b[A\n",
      " 75%|████████████████████████████████▎          | 15/20 [00:00<00:00, 99.22it/s]\u001b[A\n",
      " 99%|████████████████████████████████████████▋| 217/219 [18:07<00:10,  5.05s/it]\u001b[A"
     ]
    },
    {
     "name": "stdout",
     "output_type": "stream",
     "text": [
      "Problem: https://www.adidas-group.com/en/sustainability/reporting/sustainability-reports/: HTTPSConnectionPool(host='www.adidas-group.com', port=443): Read timed out. (read timeout=5)\n",
      "Problem: https://www.adidas-group.com/en/sustainability/managing-sustainability/environmental-approach/: HTTPSConnectionPool(host='www.adidas-group.com', port=443): Read timed out. (read timeout=5)\n",
      "Problem: https://www.adidas-group.com/en/sustainability/reporting/green-company/: HTTPSConnectionPool(host='www.adidas-group.com', port=443): Read timed out. (read timeout=5)\n"
     ]
    },
    {
     "name": "stderr",
     "output_type": "stream",
     "text": [
      "\n",
      "  0%|                                                    | 0/20 [00:00<?, ?it/s]\u001b[A\n",
      " 70%|█████████████████████████████▍            | 14/20 [00:00<00:00, 137.99it/s]\u001b[A\n",
      "100%|████████████████████████████████████████▊| 218/219 [18:12<00:05,  5.14s/it]\u001b[A\n",
      "  0%|                                                     | 0/8 [00:00<?, ?it/s]\u001b[A\n",
      " 50%|██████████████████████▌                      | 4/8 [00:00<00:00, 34.92it/s]\u001b[A\n",
      "100%|█████████████████████████████████████████████| 8/8 [00:00<00:00, 33.22it/s]\u001b[A\n",
      "100%|█████████████████████████████████████████| 219/219 [18:16<00:00,  5.01s/it]\u001b[A\n"
     ]
    }
   ],
   "source": [
    "\n",
    "\n",
    "import grequests\n",
    "\n",
    "class Test(object):\n",
    "    def __init__(self, urls):\n",
    "        self.urls = urls\n",
    "\n",
    "    def exception(self, request, exception):\n",
    "        print(\"Problem: {}: {}\".format(request.url, exception))\n",
    "\n",
    "    def async1(self):\n",
    "        results = grequests.map((grequests.get(u, timeout=5, stream=False) for u in self.urls), exception_handler=self.exception, size=20)\n",
    "        # print(results)\n",
    "        return results\n",
    "    \n",
    "# test = Test(news_data.url.values.tolist()[0:100])\n",
    "# results = test.async1()\n",
    "# results\n",
    "\n",
    "import requests\n",
    "from bs4 import BeautifulSoup\n",
    "from tqdm import tqdm\n",
    "from urllib.parse import urljoin\n",
    "def chunks(lst, n):\n",
    "    \"\"\"Yield successive n-sized chunks from lst.\"\"\"\n",
    "    for i in range(0, len(lst), n):\n",
    "        yield lst[i:i + n]\n",
    "\n",
    "content_list = []\n",
    "for i in tqdm(list(chunks(range(0, len(news_data.url.values)), 20))):\n",
    "    urls = news_data.url.values[i]\n",
    "    test = Test(urls)\n",
    "    results = test.async1()\n",
    "    # for req, url in tqdm(zip(results, urls), total=len(urls), leave=False):\n",
    "    for req, url in tqdm(zip(results, urls), total=len(urls), leave=False):\n",
    "        if req == None:\n",
    "            content_list.append(None)\n",
    "        elif req.status_code == 200:\n",
    "            soup = BeautifulSoup(req.content, 'html.parser', from_encoding=\"iso-8859-1\")\n",
    "            req.close()\n",
    "            pdf_list = []\n",
    "            for link in soup.select(\"a[href$='.pdf']\"):\n",
    "                pdf_list.append(urljoin(url,link['href']))\n",
    "            content_list.append(pdf_list)\n",
    "        else:\n",
    "            content_list.append(None)\n",
    "            \n",
    "# news_data[\"pdf_list\"] = content_list\n",
    "# content_list"
   ]
  },
  {
   "cell_type": "code",
   "execution_count": 36,
   "id": "38f32a6a",
   "metadata": {},
   "outputs": [],
   "source": [
    "news_data[\"pdf_url\"] = content_list\n",
    "news_data.to_csv(\"./wiki_data/sus_reports_pdf_url.csv\")"
   ]
  },
  {
   "cell_type": "code",
   "execution_count": 37,
   "id": "ecab370c",
   "metadata": {},
   "outputs": [],
   "source": [
    "news_data = news_data.explode(\"pdf_url\")\n"
   ]
  },
  {
   "cell_type": "code",
   "execution_count": 45,
   "id": "45e49c44",
   "metadata": {},
   "outputs": [],
   "source": [
    "news_data = news_data.dropna()\n",
    "# news_data"
   ]
  },
  {
   "cell_type": "code",
   "execution_count": 20,
   "id": "5d6a97f8",
   "metadata": {},
   "outputs": [],
   "source": [
    "df = pd.read_csv(\"./wiki_data/sus_reports_url.csv\")\n",
    "df2 = df[df.url.str.lower().str.contains(\"pdf\")].rename(columns = {\"url\":\"pdf_url\"})"
   ]
  },
  {
   "cell_type": "code",
   "execution_count": 29,
   "id": "c1620ba1",
   "metadata": {},
   "outputs": [
    {
     "data": {
      "text/html": [
       "<div>\n",
       "<style scoped>\n",
       "    .dataframe tbody tr th:only-of-type {\n",
       "        vertical-align: middle;\n",
       "    }\n",
       "\n",
       "    .dataframe tbody tr th {\n",
       "        vertical-align: top;\n",
       "    }\n",
       "\n",
       "    .dataframe thead th {\n",
       "        text-align: right;\n",
       "    }\n",
       "</style>\n",
       "<table border=\"1\" class=\"dataframe\">\n",
       "  <thead>\n",
       "    <tr style=\"text-align: right;\">\n",
       "      <th></th>\n",
       "      <th>Unnamed: 0</th>\n",
       "      <th>id</th>\n",
       "      <th>Unnamed: 0.1</th>\n",
       "      <th>Unnamed: 0.1.1</th>\n",
       "      <th>site</th>\n",
       "      <th>summary</th>\n",
       "      <th>rank</th>\n",
       "      <th>company</th>\n",
       "      <th>relevance_score</th>\n",
       "      <th>pdf_url</th>\n",
       "    </tr>\n",
       "  </thead>\n",
       "  <tbody>\n",
       "    <tr>\n",
       "      <th>0</th>\n",
       "      <td>0</td>\n",
       "      <td>276</td>\n",
       "      <td>0</td>\n",
       "      <td>0</td>\n",
       "      <td>Research: Rating Action: Moody's changes 10117...</td>\n",
       "      <td>Corporate governance risks at 1011778 B.C. is ...</td>\n",
       "      <td>9340</td>\n",
       "      <td>1011778 BC ULC</td>\n",
       "      <td>1.500872</td>\n",
       "      <td>https://www.moodys.com/uploadpage/Mco Document...</td>\n",
       "    </tr>\n",
       "    <tr>\n",
       "      <th>1</th>\n",
       "      <td>1</td>\n",
       "      <td>278</td>\n",
       "      <td>2</td>\n",
       "      <td>2</td>\n",
       "      <td>Research: Rating Action: Moody's downgrades Ta...</td>\n",
       "      <td>sustainability. diversity, equity &amp; inclusion....</td>\n",
       "      <td>11179</td>\n",
       "      <td>1011778 BC ULC</td>\n",
       "      <td>1.591902</td>\n",
       "      <td>https://www.moodys.com/uploadpage/Mco Document...</td>\n",
       "    </tr>\n",
       "    <tr>\n",
       "      <th>2</th>\n",
       "      <td>2</td>\n",
       "      <td>277</td>\n",
       "      <td>1</td>\n",
       "      <td>1</td>\n",
       "      <td>Research: Rating Action: Moody's places 1,721 ...</td>\n",
       "      <td>3. To the extent permitted by law, Moody’s and...</td>\n",
       "      <td>12366</td>\n",
       "      <td>1011778 BC ULC</td>\n",
       "      <td>1.643596</td>\n",
       "      <td>https://www.moodys.com/uploadpage/Mco Document...</td>\n",
       "    </tr>\n",
       "    <tr>\n",
       "      <th>3</th>\n",
       "      <td>3</td>\n",
       "      <td>280</td>\n",
       "      <td>4</td>\n",
       "      <td>1</td>\n",
       "      <td>3D Systems Announces Launch of Environmental, ...</td>\n",
       "      <td>3D Systems Announces Launch of Environmental, ...</td>\n",
       "      <td>6748</td>\n",
       "      <td>3D Systems Corp</td>\n",
       "      <td>1.323604</td>\n",
       "      <td>https://www.3dsystems.com/sites/default/files/...</td>\n",
       "    </tr>\n",
       "    <tr>\n",
       "      <th>4</th>\n",
       "      <td>4</td>\n",
       "      <td>287</td>\n",
       "      <td>11</td>\n",
       "      <td>8</td>\n",
       "      <td>3D Systems Reports 2012 Results | 3D Systems</td>\n",
       "      <td>3D Systems Reports 2012 Results. Delivers Reco...</td>\n",
       "      <td>9084</td>\n",
       "      <td>3D Systems Corp</td>\n",
       "      <td>1.486445</td>\n",
       "      <td>https://www.3dsystems.com/sites/default/files/...</td>\n",
       "    </tr>\n",
       "    <tr>\n",
       "      <th>...</th>\n",
       "      <td>...</td>\n",
       "      <td>...</td>\n",
       "      <td>...</td>\n",
       "      <td>...</td>\n",
       "      <td>...</td>\n",
       "      <td>...</td>\n",
       "      <td>...</td>\n",
       "      <td>...</td>\n",
       "      <td>...</td>\n",
       "      <td>...</td>\n",
       "    </tr>\n",
       "    <tr>\n",
       "      <th>4362</th>\n",
       "      <td>5602</td>\n",
       "      <td>15047</td>\n",
       "      <td>14956</td>\n",
       "      <td>1</td>\n",
       "      <td>Sustainability strategy and targets - thyssenk...</td>\n",
       "      <td>Sustainability strategy and targets. Sustainab...</td>\n",
       "      <td>4158</td>\n",
       "      <td>thyssenkrupp AG</td>\n",
       "      <td>1.151930</td>\n",
       "      <td>https://ucpcdn.thyssenkrupp.com/_binary/UCPthy...</td>\n",
       "    </tr>\n",
       "    <tr>\n",
       "      <th>4362</th>\n",
       "      <td>5602</td>\n",
       "      <td>15047</td>\n",
       "      <td>14956</td>\n",
       "      <td>1</td>\n",
       "      <td>Sustainability strategy and targets - thyssenk...</td>\n",
       "      <td>Sustainability strategy and targets. Sustainab...</td>\n",
       "      <td>4158</td>\n",
       "      <td>thyssenkrupp AG</td>\n",
       "      <td>1.151930</td>\n",
       "      <td>https://ucpcdn.thyssenkrupp.com/_binary/UCPthy...</td>\n",
       "    </tr>\n",
       "    <tr>\n",
       "      <th>4362</th>\n",
       "      <td>5602</td>\n",
       "      <td>15047</td>\n",
       "      <td>14956</td>\n",
       "      <td>1</td>\n",
       "      <td>Sustainability strategy and targets - thyssenk...</td>\n",
       "      <td>Sustainability strategy and targets. Sustainab...</td>\n",
       "      <td>4158</td>\n",
       "      <td>thyssenkrupp AG</td>\n",
       "      <td>1.151930</td>\n",
       "      <td>https://ucpcdn.thyssenkrupp.com/_binary/UCPthy...</td>\n",
       "    </tr>\n",
       "    <tr>\n",
       "      <th>4364</th>\n",
       "      <td>5604</td>\n",
       "      <td>15049</td>\n",
       "      <td>14958</td>\n",
       "      <td>3</td>\n",
       "      <td>Dialogue &amp; Commitment - thyssenkrupp</td>\n",
       "      <td>thyssenkrupp regards the ideas and requirement...</td>\n",
       "      <td>5053</td>\n",
       "      <td>thyssenkrupp AG</td>\n",
       "      <td>1.207290</td>\n",
       "      <td>https://ucpcdn.thyssenkrupp.com/_binary/UCPthy...</td>\n",
       "    </tr>\n",
       "    <tr>\n",
       "      <th>4364</th>\n",
       "      <td>5604</td>\n",
       "      <td>15049</td>\n",
       "      <td>14958</td>\n",
       "      <td>3</td>\n",
       "      <td>Dialogue &amp; Commitment - thyssenkrupp</td>\n",
       "      <td>thyssenkrupp regards the ideas and requirement...</td>\n",
       "      <td>5053</td>\n",
       "      <td>thyssenkrupp AG</td>\n",
       "      <td>1.207290</td>\n",
       "      <td>https://ucpcdn.thyssenkrupp.com/_binary/UCPthy...</td>\n",
       "    </tr>\n",
       "  </tbody>\n",
       "</table>\n",
       "<p>16941 rows × 10 columns</p>\n",
       "</div>"
      ],
      "text/plain": [
       "      Unnamed: 0     id  Unnamed: 0.1  Unnamed: 0.1.1  \\\n",
       "0              0    276             0               0   \n",
       "1              1    278             2               2   \n",
       "2              2    277             1               1   \n",
       "3              3    280             4               1   \n",
       "4              4    287            11               8   \n",
       "...          ...    ...           ...             ...   \n",
       "4362        5602  15047         14956               1   \n",
       "4362        5602  15047         14956               1   \n",
       "4362        5602  15047         14956               1   \n",
       "4364        5604  15049         14958               3   \n",
       "4364        5604  15049         14958               3   \n",
       "\n",
       "                                                   site  \\\n",
       "0     Research: Rating Action: Moody's changes 10117...   \n",
       "1     Research: Rating Action: Moody's downgrades Ta...   \n",
       "2     Research: Rating Action: Moody's places 1,721 ...   \n",
       "3     3D Systems Announces Launch of Environmental, ...   \n",
       "4          3D Systems Reports 2012 Results | 3D Systems   \n",
       "...                                                 ...   \n",
       "4362  Sustainability strategy and targets - thyssenk...   \n",
       "4362  Sustainability strategy and targets - thyssenk...   \n",
       "4362  Sustainability strategy and targets - thyssenk...   \n",
       "4364               Dialogue & Commitment - thyssenkrupp   \n",
       "4364               Dialogue & Commitment - thyssenkrupp   \n",
       "\n",
       "                                                summary   rank  \\\n",
       "0     Corporate governance risks at 1011778 B.C. is ...   9340   \n",
       "1     sustainability. diversity, equity & inclusion....  11179   \n",
       "2     3. To the extent permitted by law, Moody’s and...  12366   \n",
       "3     3D Systems Announces Launch of Environmental, ...   6748   \n",
       "4     3D Systems Reports 2012 Results. Delivers Reco...   9084   \n",
       "...                                                 ...    ...   \n",
       "4362  Sustainability strategy and targets. Sustainab...   4158   \n",
       "4362  Sustainability strategy and targets. Sustainab...   4158   \n",
       "4362  Sustainability strategy and targets. Sustainab...   4158   \n",
       "4364  thyssenkrupp regards the ideas and requirement...   5053   \n",
       "4364  thyssenkrupp regards the ideas and requirement...   5053   \n",
       "\n",
       "              company  relevance_score  \\\n",
       "0      1011778 BC ULC         1.500872   \n",
       "1      1011778 BC ULC         1.591902   \n",
       "2      1011778 BC ULC         1.643596   \n",
       "3     3D Systems Corp         1.323604   \n",
       "4     3D Systems Corp         1.486445   \n",
       "...               ...              ...   \n",
       "4362  thyssenkrupp AG         1.151930   \n",
       "4362  thyssenkrupp AG         1.151930   \n",
       "4362  thyssenkrupp AG         1.151930   \n",
       "4364  thyssenkrupp AG         1.207290   \n",
       "4364  thyssenkrupp AG         1.207290   \n",
       "\n",
       "                                                pdf_url  \n",
       "0     https://www.moodys.com/uploadpage/Mco Document...  \n",
       "1     https://www.moodys.com/uploadpage/Mco Document...  \n",
       "2     https://www.moodys.com/uploadpage/Mco Document...  \n",
       "3     https://www.3dsystems.com/sites/default/files/...  \n",
       "4     https://www.3dsystems.com/sites/default/files/...  \n",
       "...                                                 ...  \n",
       "4362  https://ucpcdn.thyssenkrupp.com/_binary/UCPthy...  \n",
       "4362  https://ucpcdn.thyssenkrupp.com/_binary/UCPthy...  \n",
       "4362  https://ucpcdn.thyssenkrupp.com/_binary/UCPthy...  \n",
       "4364  https://ucpcdn.thyssenkrupp.com/_binary/UCPthy...  \n",
       "4364  https://ucpcdn.thyssenkrupp.com/_binary/UCPthy...  \n",
       "\n",
       "[16941 rows x 10 columns]"
      ]
     },
     "execution_count": 29,
     "metadata": {},
     "output_type": "execute_result"
    }
   ],
   "source": [
    "from ast import literal_eval\n",
    "\n",
    "news_data = pd.read_csv(\"./wiki_data/sus_reports_pdf_url.csv\")\n",
    "news_data = news_data.dropna()\n",
    "news_data[\"pdf_url\"] = news_data[\"pdf_url\"].apply(literal_eval)\n",
    "news_data = news_data.explode(\"pdf_url\")\n",
    "news_data = news_data.dropna()\n",
    "news_data.drop(\"url\",axis=1,inplace=True)\n",
    "news_data"
   ]
  },
  {
   "cell_type": "code",
   "execution_count": 30,
   "id": "8b4efa73",
   "metadata": {},
   "outputs": [],
   "source": [
    "df_pdf = pd.concat([df2,news_data])[[\"company\", \"site\",\"summary\",\"pdf_url\",\"rank\"]]\n",
    "df_pdf.to_csv(\"./wiki_data/sus_reports_pdf_url2.csv\")"
   ]
  },
  {
   "cell_type": "code",
   "execution_count": null,
   "id": "b6352d75",
   "metadata": {},
   "outputs": [],
   "source": [
    "###########################################"
   ]
  },
  {
   "cell_type": "code",
   "execution_count": 1,
   "id": "a79f9755",
   "metadata": {},
   "outputs": [
    {
     "data": {
      "text/html": [
       "<div>\n",
       "<style scoped>\n",
       "    .dataframe tbody tr th:only-of-type {\n",
       "        vertical-align: middle;\n",
       "    }\n",
       "\n",
       "    .dataframe tbody tr th {\n",
       "        vertical-align: top;\n",
       "    }\n",
       "\n",
       "    .dataframe thead th {\n",
       "        text-align: right;\n",
       "    }\n",
       "</style>\n",
       "<table border=\"1\" class=\"dataframe\">\n",
       "  <thead>\n",
       "    <tr style=\"text-align: right;\">\n",
       "      <th></th>\n",
       "      <th>Unnamed: 0</th>\n",
       "      <th>company</th>\n",
       "      <th>site</th>\n",
       "      <th>summary</th>\n",
       "      <th>pdf_url</th>\n",
       "      <th>rank</th>\n",
       "    </tr>\n",
       "  </thead>\n",
       "  <tbody>\n",
       "    <tr>\n",
       "      <th>0</th>\n",
       "      <td>21</td>\n",
       "      <td>Oversea-Chinese Banking Corp Ltd</td>\n",
       "      <td>Sustainability Report 2020 Sustainability Repo...</td>\n",
       "      <td>Sustainability Report Scope This report covers...</td>\n",
       "      <td>https://www.ocbc.com/iwov-resources/sg/ocbc/gb...</td>\n",
       "      <td>2</td>\n",
       "    </tr>\n",
       "    <tr>\n",
       "      <th>1</th>\n",
       "      <td>23</td>\n",
       "      <td>Oversea-Chinese Banking Corp Ltd</td>\n",
       "      <td>Sustainability Report 2019 - OCBC</td>\n",
       "      <td>This report covers the operations of OCBC Grou...</td>\n",
       "      <td>https://www.ocbc.com/iwov-resources/sg/ocbc/gb...</td>\n",
       "      <td>4</td>\n",
       "    </tr>\n",
       "    <tr>\n",
       "      <th>2</th>\n",
       "      <td>24</td>\n",
       "      <td>Oversea-Chinese Banking Corp Ltd</td>\n",
       "      <td>Sustainability Report 2018 - OCBC</td>\n",
       "      <td>56 OCBC Annual Report 2018 Sustainability Repo...</td>\n",
       "      <td>https://www.ocbc.com/assets/pdf/media/2019/sus...</td>\n",
       "      <td>5</td>\n",
       "    </tr>\n",
       "    <tr>\n",
       "      <th>3</th>\n",
       "      <td>26</td>\n",
       "      <td>Oversea-Chinese Banking Corp Ltd</td>\n",
       "      <td>SUSTAINABILITY ABOUT THE REPORT REPORT - OCBC</td>\n",
       "      <td>SUSTAINABILITY REPORT OUR ESG FACTORS GRI REPO...</td>\n",
       "      <td>https://www.ocbc.com/iwov-resources/sg/ocbc/gb...</td>\n",
       "      <td>7</td>\n",
       "    </tr>\n",
       "    <tr>\n",
       "      <th>4</th>\n",
       "      <td>29</td>\n",
       "      <td>China Traditional Chinese Medicine Holdings Co...</td>\n",
       "      <td>Environmental, Social and t 2017 - China TCM</td>\n",
       "      <td>Environmental, Social and Governance Report 20...</td>\n",
       "      <td>http://www.china-tcm.com.cn/UploadFiles/Files/...</td>\n",
       "      <td>1</td>\n",
       "    </tr>\n",
       "    <tr>\n",
       "      <th>...</th>\n",
       "      <td>...</td>\n",
       "      <td>...</td>\n",
       "      <td>...</td>\n",
       "      <td>...</td>\n",
       "      <td>...</td>\n",
       "      <td>...</td>\n",
       "    </tr>\n",
       "    <tr>\n",
       "      <th>20175</th>\n",
       "      <td>4362</td>\n",
       "      <td>thyssenkrupp AG</td>\n",
       "      <td>Sustainability strategy and targets - thyssenk...</td>\n",
       "      <td>Sustainability strategy and targets. Sustainab...</td>\n",
       "      <td>https://ucpcdn.thyssenkrupp.com/_binary/UCPthy...</td>\n",
       "      <td>4158</td>\n",
       "    </tr>\n",
       "    <tr>\n",
       "      <th>20176</th>\n",
       "      <td>4362</td>\n",
       "      <td>thyssenkrupp AG</td>\n",
       "      <td>Sustainability strategy and targets - thyssenk...</td>\n",
       "      <td>Sustainability strategy and targets. Sustainab...</td>\n",
       "      <td>https://ucpcdn.thyssenkrupp.com/_binary/UCPthy...</td>\n",
       "      <td>4158</td>\n",
       "    </tr>\n",
       "    <tr>\n",
       "      <th>20177</th>\n",
       "      <td>4362</td>\n",
       "      <td>thyssenkrupp AG</td>\n",
       "      <td>Sustainability strategy and targets - thyssenk...</td>\n",
       "      <td>Sustainability strategy and targets. Sustainab...</td>\n",
       "      <td>https://ucpcdn.thyssenkrupp.com/_binary/UCPthy...</td>\n",
       "      <td>4158</td>\n",
       "    </tr>\n",
       "    <tr>\n",
       "      <th>20178</th>\n",
       "      <td>4364</td>\n",
       "      <td>thyssenkrupp AG</td>\n",
       "      <td>Dialogue &amp; Commitment - thyssenkrupp</td>\n",
       "      <td>thyssenkrupp regards the ideas and requirement...</td>\n",
       "      <td>https://ucpcdn.thyssenkrupp.com/_binary/UCPthy...</td>\n",
       "      <td>5053</td>\n",
       "    </tr>\n",
       "    <tr>\n",
       "      <th>20179</th>\n",
       "      <td>4364</td>\n",
       "      <td>thyssenkrupp AG</td>\n",
       "      <td>Dialogue &amp; Commitment - thyssenkrupp</td>\n",
       "      <td>thyssenkrupp regards the ideas and requirement...</td>\n",
       "      <td>https://ucpcdn.thyssenkrupp.com/_binary/UCPthy...</td>\n",
       "      <td>5053</td>\n",
       "    </tr>\n",
       "  </tbody>\n",
       "</table>\n",
       "<p>20180 rows × 6 columns</p>\n",
       "</div>"
      ],
      "text/plain": [
       "       Unnamed: 0                                            company  \\\n",
       "0              21                   Oversea-Chinese Banking Corp Ltd   \n",
       "1              23                   Oversea-Chinese Banking Corp Ltd   \n",
       "2              24                   Oversea-Chinese Banking Corp Ltd   \n",
       "3              26                   Oversea-Chinese Banking Corp Ltd   \n",
       "4              29  China Traditional Chinese Medicine Holdings Co...   \n",
       "...           ...                                                ...   \n",
       "20175        4362                                    thyssenkrupp AG   \n",
       "20176        4362                                    thyssenkrupp AG   \n",
       "20177        4362                                    thyssenkrupp AG   \n",
       "20178        4364                                    thyssenkrupp AG   \n",
       "20179        4364                                    thyssenkrupp AG   \n",
       "\n",
       "                                                    site  \\\n",
       "0      Sustainability Report 2020 Sustainability Repo...   \n",
       "1                      Sustainability Report 2019 - OCBC   \n",
       "2                      Sustainability Report 2018 - OCBC   \n",
       "3          SUSTAINABILITY ABOUT THE REPORT REPORT - OCBC   \n",
       "4           Environmental, Social and t 2017 - China TCM   \n",
       "...                                                  ...   \n",
       "20175  Sustainability strategy and targets - thyssenk...   \n",
       "20176  Sustainability strategy and targets - thyssenk...   \n",
       "20177  Sustainability strategy and targets - thyssenk...   \n",
       "20178               Dialogue & Commitment - thyssenkrupp   \n",
       "20179               Dialogue & Commitment - thyssenkrupp   \n",
       "\n",
       "                                                 summary  \\\n",
       "0      Sustainability Report Scope This report covers...   \n",
       "1      This report covers the operations of OCBC Grou...   \n",
       "2      56 OCBC Annual Report 2018 Sustainability Repo...   \n",
       "3      SUSTAINABILITY REPORT OUR ESG FACTORS GRI REPO...   \n",
       "4      Environmental, Social and Governance Report 20...   \n",
       "...                                                  ...   \n",
       "20175  Sustainability strategy and targets. Sustainab...   \n",
       "20176  Sustainability strategy and targets. Sustainab...   \n",
       "20177  Sustainability strategy and targets. Sustainab...   \n",
       "20178  thyssenkrupp regards the ideas and requirement...   \n",
       "20179  thyssenkrupp regards the ideas and requirement...   \n",
       "\n",
       "                                                 pdf_url  rank  \n",
       "0      https://www.ocbc.com/iwov-resources/sg/ocbc/gb...     2  \n",
       "1      https://www.ocbc.com/iwov-resources/sg/ocbc/gb...     4  \n",
       "2      https://www.ocbc.com/assets/pdf/media/2019/sus...     5  \n",
       "3      https://www.ocbc.com/iwov-resources/sg/ocbc/gb...     7  \n",
       "4      http://www.china-tcm.com.cn/UploadFiles/Files/...     1  \n",
       "...                                                  ...   ...  \n",
       "20175  https://ucpcdn.thyssenkrupp.com/_binary/UCPthy...  4158  \n",
       "20176  https://ucpcdn.thyssenkrupp.com/_binary/UCPthy...  4158  \n",
       "20177  https://ucpcdn.thyssenkrupp.com/_binary/UCPthy...  4158  \n",
       "20178  https://ucpcdn.thyssenkrupp.com/_binary/UCPthy...  5053  \n",
       "20179  https://ucpcdn.thyssenkrupp.com/_binary/UCPthy...  5053  \n",
       "\n",
       "[20180 rows x 6 columns]"
      ]
     },
     "execution_count": 1,
     "metadata": {},
     "output_type": "execute_result"
    }
   ],
   "source": [
    "import sys\n",
    "sys.path.append(\"/home/qingzhi/.conda/envs/test2/lib/python3.9/site-packages\")\n",
    "import pandas as pd\n",
    "df_pdf = pd.read_csv(\"./wiki_data/sus_reports_pdf_url2.csv\")\n",
    "df_pdf"
   ]
  },
  {
   "cell_type": "code",
   "execution_count": 2,
   "id": "50237574",
   "metadata": {},
   "outputs": [],
   "source": [
    "# len(df_pdf.drop_duplicates(subset=[\"company\", \"pdf_url\"], keep=\"first\").company.unique())\n",
    "# len(df_pdf.company.unique())\n",
    "df_pdf = df_pdf.drop_duplicates(subset=[\"company\",\"pdf_url\"], keep=\"first\")"
   ]
  },
  {
   "cell_type": "code",
   "execution_count": 3,
   "id": "9b514208",
   "metadata": {},
   "outputs": [
    {
     "name": "stderr",
     "output_type": "stream",
     "text": [
      "/tmp/ipykernel_3332/70900274.py:25: SettingWithCopyWarning: \n",
      "A value is trying to be set on a copy of a slice from a DataFrame.\n",
      "Try using .loc[row_indexer,col_indexer] = value instead\n",
      "\n",
      "See the caveats in the documentation: https://pandas.pydata.org/pandas-docs/stable/user_guide/indexing.html#returning-a-view-versus-a-copy\n",
      "  df_pdf[\"id\"] = range(len(df_pdf))\n"
     ]
    },
    {
     "name": "stdout",
     "output_type": "stream",
     "text": [
      "cuda:0\n"
     ]
    },
    {
     "data": {
      "application/vnd.jupyter.widget-view+json": {
       "model_id": "1e406e95724c4a809c0490760f70d90c",
       "version_major": 2,
       "version_minor": 0
      },
      "text/plain": [
       "Batches:   0%|          | 0/494 [00:00<?, ?it/s]"
      ]
     },
     "metadata": {},
     "output_type": "display_data"
    },
    {
     "name": "stdout",
     "output_type": "stream",
     "text": [
      "saving embeddings\n",
      "Number of vectors in the Faiss index: 15790\n"
     ]
    },
    {
     "data": {
      "text/html": [
       "<div>\n",
       "<style scoped>\n",
       "    .dataframe tbody tr th:only-of-type {\n",
       "        vertical-align: middle;\n",
       "    }\n",
       "\n",
       "    .dataframe tbody tr th {\n",
       "        vertical-align: top;\n",
       "    }\n",
       "\n",
       "    .dataframe thead th {\n",
       "        text-align: right;\n",
       "    }\n",
       "</style>\n",
       "<table border=\"1\" class=\"dataframe\">\n",
       "  <thead>\n",
       "    <tr style=\"text-align: right;\">\n",
       "      <th></th>\n",
       "      <th>Unnamed: 0</th>\n",
       "      <th>company</th>\n",
       "      <th>site</th>\n",
       "      <th>summary</th>\n",
       "      <th>pdf_url</th>\n",
       "      <th>rank</th>\n",
       "      <th>relevance_score</th>\n",
       "    </tr>\n",
       "    <tr>\n",
       "      <th>id</th>\n",
       "      <th></th>\n",
       "      <th></th>\n",
       "      <th></th>\n",
       "      <th></th>\n",
       "      <th></th>\n",
       "      <th></th>\n",
       "      <th></th>\n",
       "    </tr>\n",
       "  </thead>\n",
       "  <tbody>\n",
       "    <tr>\n",
       "      <th>12209</th>\n",
       "      <td>3080</td>\n",
       "      <td>Raiffeisen Bank International AG</td>\n",
       "      <td>Sustainability Report - rbinternational.com</td>\n",
       "      <td>We invite you to send us your questions and su...</td>\n",
       "      <td>https://www.rbinternational.com/en/sustainabil...</td>\n",
       "      <td>0</td>\n",
       "      <td>0.670837</td>\n",
       "    </tr>\n",
       "    <tr>\n",
       "      <th>12216</th>\n",
       "      <td>3080</td>\n",
       "      <td>Raiffeisen Bank International AG</td>\n",
       "      <td>Sustainability Report - rbinternational.com</td>\n",
       "      <td>We invite you to send us your questions and su...</td>\n",
       "      <td>https://www.rbinternational.com/en/sustainabil...</td>\n",
       "      <td>1</td>\n",
       "      <td>0.672520</td>\n",
       "    </tr>\n",
       "    <tr>\n",
       "      <th>12211</th>\n",
       "      <td>3080</td>\n",
       "      <td>Raiffeisen Bank International AG</td>\n",
       "      <td>Sustainability Report - rbinternational.com</td>\n",
       "      <td>We invite you to send us your questions and su...</td>\n",
       "      <td>https://www.rbinternational.com/en/sustainabil...</td>\n",
       "      <td>2</td>\n",
       "      <td>0.675059</td>\n",
       "    </tr>\n",
       "    <tr>\n",
       "      <th>12213</th>\n",
       "      <td>3080</td>\n",
       "      <td>Raiffeisen Bank International AG</td>\n",
       "      <td>Sustainability Report - rbinternational.com</td>\n",
       "      <td>We invite you to send us your questions and su...</td>\n",
       "      <td>https://www.rbinternational.com/en/sustainabil...</td>\n",
       "      <td>3</td>\n",
       "      <td>0.675584</td>\n",
       "    </tr>\n",
       "    <tr>\n",
       "      <th>1219</th>\n",
       "      <td>5714</td>\n",
       "      <td>Enterprise Products Partners LP</td>\n",
       "      <td>2019-2020 Sustainability Report - Enterprise P...</td>\n",
       "      <td>We are pleased to have the opportunity to publ...</td>\n",
       "      <td>http://www.enterpriseproducts.com/documents?do...</td>\n",
       "      <td>4</td>\n",
       "      <td>0.684110</td>\n",
       "    </tr>\n",
       "    <tr>\n",
       "      <th>...</th>\n",
       "      <td>...</td>\n",
       "      <td>...</td>\n",
       "      <td>...</td>\n",
       "      <td>...</td>\n",
       "      <td>...</td>\n",
       "      <td>...</td>\n",
       "      <td>...</td>\n",
       "    </tr>\n",
       "    <tr>\n",
       "      <th>12200</th>\n",
       "      <td>3069</td>\n",
       "      <td>REN - Redes Energeticas Nacionais SGPS SA</td>\n",
       "      <td>REN - Code of Conduct</td>\n",
       "      <td>Code of Conduct. The Code of Conduct sets out ...</td>\n",
       "      <td>https://www.ren.pt/files/2019-07/2019-07-02093...</td>\n",
       "      <td>15785</td>\n",
       "      <td>2.023610</td>\n",
       "    </tr>\n",
       "    <tr>\n",
       "      <th>12199</th>\n",
       "      <td>3069</td>\n",
       "      <td>REN - Redes Energeticas Nacionais SGPS SA</td>\n",
       "      <td>REN - Code of Conduct</td>\n",
       "      <td>Code of Conduct. The Code of Conduct sets out ...</td>\n",
       "      <td>https://www.ren.pt/files/2019-07/2019-07-02093...</td>\n",
       "      <td>15786</td>\n",
       "      <td>2.027741</td>\n",
       "    </tr>\n",
       "    <tr>\n",
       "      <th>12197</th>\n",
       "      <td>3069</td>\n",
       "      <td>REN - Redes Energeticas Nacionais SGPS SA</td>\n",
       "      <td>REN - Code of Conduct</td>\n",
       "      <td>Code of Conduct. The Code of Conduct sets out ...</td>\n",
       "      <td>https://www.ren.pt/files/2019-07/2019-07-02093...</td>\n",
       "      <td>15787</td>\n",
       "      <td>2.072670</td>\n",
       "    </tr>\n",
       "    <tr>\n",
       "      <th>14149</th>\n",
       "      <td>3618</td>\n",
       "      <td>Stryker Corp</td>\n",
       "      <td>Corporate Responsibility and Sustainability | ...</td>\n",
       "      <td>Corporate Responsibility and Sustainability .....</td>\n",
       "      <td>http://www.mecomed.com/wp-content/pdf/code.pdf</td>\n",
       "      <td>15788</td>\n",
       "      <td>2.075839</td>\n",
       "    </tr>\n",
       "    <tr>\n",
       "      <th>12196</th>\n",
       "      <td>3069</td>\n",
       "      <td>REN - Redes Energeticas Nacionais SGPS SA</td>\n",
       "      <td>REN - Code of Conduct</td>\n",
       "      <td>Code of Conduct. The Code of Conduct sets out ...</td>\n",
       "      <td>https://www.ren.pt/files/2018-12/2018-12-17100...</td>\n",
       "      <td>15789</td>\n",
       "      <td>2.080579</td>\n",
       "    </tr>\n",
       "  </tbody>\n",
       "</table>\n",
       "<p>15790 rows × 7 columns</p>\n",
       "</div>"
      ],
      "text/plain": [
       "       Unnamed: 0                                    company  \\\n",
       "id                                                             \n",
       "12209        3080           Raiffeisen Bank International AG   \n",
       "12216        3080           Raiffeisen Bank International AG   \n",
       "12211        3080           Raiffeisen Bank International AG   \n",
       "12213        3080           Raiffeisen Bank International AG   \n",
       "1219         5714            Enterprise Products Partners LP   \n",
       "...           ...                                        ...   \n",
       "12200        3069  REN - Redes Energeticas Nacionais SGPS SA   \n",
       "12199        3069  REN - Redes Energeticas Nacionais SGPS SA   \n",
       "12197        3069  REN - Redes Energeticas Nacionais SGPS SA   \n",
       "14149        3618                               Stryker Corp   \n",
       "12196        3069  REN - Redes Energeticas Nacionais SGPS SA   \n",
       "\n",
       "                                                    site  \\\n",
       "id                                                         \n",
       "12209        Sustainability Report - rbinternational.com   \n",
       "12216        Sustainability Report - rbinternational.com   \n",
       "12211        Sustainability Report - rbinternational.com   \n",
       "12213        Sustainability Report - rbinternational.com   \n",
       "1219   2019-2020 Sustainability Report - Enterprise P...   \n",
       "...                                                  ...   \n",
       "12200                              REN - Code of Conduct   \n",
       "12199                              REN - Code of Conduct   \n",
       "12197                              REN - Code of Conduct   \n",
       "14149  Corporate Responsibility and Sustainability | ...   \n",
       "12196                              REN - Code of Conduct   \n",
       "\n",
       "                                                 summary  \\\n",
       "id                                                         \n",
       "12209  We invite you to send us your questions and su...   \n",
       "12216  We invite you to send us your questions and su...   \n",
       "12211  We invite you to send us your questions and su...   \n",
       "12213  We invite you to send us your questions and su...   \n",
       "1219   We are pleased to have the opportunity to publ...   \n",
       "...                                                  ...   \n",
       "12200  Code of Conduct. The Code of Conduct sets out ...   \n",
       "12199  Code of Conduct. The Code of Conduct sets out ...   \n",
       "12197  Code of Conduct. The Code of Conduct sets out ...   \n",
       "14149  Corporate Responsibility and Sustainability .....   \n",
       "12196  Code of Conduct. The Code of Conduct sets out ...   \n",
       "\n",
       "                                                 pdf_url   rank  \\\n",
       "id                                                                \n",
       "12209  https://www.rbinternational.com/en/sustainabil...      0   \n",
       "12216  https://www.rbinternational.com/en/sustainabil...      1   \n",
       "12211  https://www.rbinternational.com/en/sustainabil...      2   \n",
       "12213  https://www.rbinternational.com/en/sustainabil...      3   \n",
       "1219   http://www.enterpriseproducts.com/documents?do...      4   \n",
       "...                                                  ...    ...   \n",
       "12200  https://www.ren.pt/files/2019-07/2019-07-02093...  15785   \n",
       "12199  https://www.ren.pt/files/2019-07/2019-07-02093...  15786   \n",
       "12197  https://www.ren.pt/files/2019-07/2019-07-02093...  15787   \n",
       "14149     http://www.mecomed.com/wp-content/pdf/code.pdf  15788   \n",
       "12196  https://www.ren.pt/files/2018-12/2018-12-17100...  15789   \n",
       "\n",
       "       relevance_score  \n",
       "id                      \n",
       "12209         0.670837  \n",
       "12216         0.672520  \n",
       "12211         0.675059  \n",
       "12213         0.675584  \n",
       "1219          0.684110  \n",
       "...                ...  \n",
       "12200         2.023610  \n",
       "12199         2.027741  \n",
       "12197         2.072670  \n",
       "14149         2.075839  \n",
       "12196         2.080579  \n",
       "\n",
       "[15790 rows x 7 columns]"
      ]
     },
     "execution_count": 3,
     "metadata": {},
     "output_type": "execute_result"
    }
   ],
   "source": [
    "\n",
    "%load_ext autoreload\n",
    "%autoreload 2\n",
    "# Used to import data from local.\n",
    "import pandas as pd\n",
    "\n",
    "# Used to create the dense document vectors.\n",
    "import torch\n",
    "from sentence_transformers import SentenceTransformer\n",
    "\n",
    "# Used to create and store the Faiss index.\n",
    "import faiss\n",
    "import numpy as np\n",
    "import pickle\n",
    "from pathlib import Path\n",
    "\n",
    "# Used to do vector searches and display the results.\n",
    "from vector_engine.vector_engine.utils import vector_search, id2details\n",
    "\n",
    "\n",
    "def get_id(x):\n",
    "    return int(x[1:])\n",
    "    \n",
    "# df[\"id\"] = df[\"wikidata_id\"].apply(get_id)\n",
    "# df = df_rank.loc[4000000:]\n",
    "df_pdf[\"id\"] = range(len(df_pdf))\n",
    "\n",
    "# Instantiate the sentence-level DistilBERT\n",
    "# model = SentenceTransformer('distilbert-base-nli-stsb-mean-tokens')\n",
    "# model = SentenceTransformer('all-distilroberta-v1 ')\n",
    "# model = SentenceTransformer('paraphrase-MiniLM-L3-v2')\n",
    "model = SentenceTransformer('all-mpnet-base-v2')\n",
    "\n",
    "# Check if GPU is available and use it\n",
    "if torch.cuda.is_available():\n",
    "    model = model.to(torch.device(\"cuda\"))\n",
    "print(model.device)\n",
    "\n",
    "# Convert abstracts to vectors\n",
    "embeddings = model.encode(df_pdf.pdf_url.tolist(), show_progress_bar=True)\n",
    "\n",
    "print(\"saving embeddings\")\n",
    "with open('./data/embeddings_cleaned.pkl','wb') as f:\n",
    "    pickle.dump(embeddings, f, protocol=pickle.HIGHEST_PROTOCOL)\n",
    "    \n",
    "# Step 1: Change data type\n",
    "embeddings = np.array([embedding for embedding in embeddings]).astype(\"float32\")\n",
    "\n",
    "# Step 2: Instantiate the index\n",
    "index = faiss.IndexFlatL2(embeddings.shape[1])\n",
    "\n",
    "# Step 3: Pass the index to IndexIDMap\n",
    "index = faiss.IndexIDMap(index)\n",
    "\n",
    "# Step 4: Add vectors and their IDs\n",
    "index.add_with_ids(embeddings, \n",
    "                   df_pdf[\"id\"].values.astype(np.int64))\n",
    "\n",
    "print(f\"Number of vectors in the Faiss index: {index.ntotal}\")\n",
    "\n",
    "# user_query = \"sustainability report 2021, sustainability report 2020, sustainability report 2019, sustainability report 2018, ESG report, climate, social, governance\"\n",
    "user_query = \"sustainability report 2021, sustainabilityreport2021, sustainability report 2020, sustainabilityreport2020, sustainability report 2019, sustainabilityreport2019\"\n",
    "# user_query = \"2021, 2020, 2019, sustainability report\"\n",
    "# user_query = \"sustainability report 2021\"\n",
    "D, I = vector_search([user_query], model, index, index.ntotal)\n",
    "df_temp = df_pdf.set_index(\"id\").loc[I[0]]\n",
    "df_temp[\"rank\"] = range(len(df_temp))\n",
    "df_temp[\"relevance_score\"] = D.flatten().tolist()\n",
    "df_temp"
   ]
  },
  {
   "cell_type": "code",
   "execution_count": 4,
   "id": "e9ab144a",
   "metadata": {},
   "outputs": [],
   "source": [
    "df_pdf = df_temp.groupby(\"company\").head(3)\n",
    "# df_pdf[df_pdf.pdf_url.str.contains(\"2011\")]\n",
    "df_pdf.to_csv(\"./wiki_data/report_temp.csv\")"
   ]
  },
  {
   "cell_type": "code",
   "execution_count": 1,
   "id": "da87800e",
   "metadata": {},
   "outputs": [
    {
     "data": {
      "text/html": [
       "<div>\n",
       "<style scoped>\n",
       "    .dataframe tbody tr th:only-of-type {\n",
       "        vertical-align: middle;\n",
       "    }\n",
       "\n",
       "    .dataframe tbody tr th {\n",
       "        vertical-align: top;\n",
       "    }\n",
       "\n",
       "    .dataframe thead th {\n",
       "        text-align: right;\n",
       "    }\n",
       "</style>\n",
       "<table border=\"1\" class=\"dataframe\">\n",
       "  <thead>\n",
       "    <tr style=\"text-align: right;\">\n",
       "      <th></th>\n",
       "      <th>id</th>\n",
       "      <th>Unnamed: 0</th>\n",
       "      <th>company</th>\n",
       "      <th>site</th>\n",
       "      <th>summary</th>\n",
       "      <th>pdf_url</th>\n",
       "      <th>rank</th>\n",
       "      <th>relevance_score</th>\n",
       "    </tr>\n",
       "  </thead>\n",
       "  <tbody>\n",
       "    <tr>\n",
       "      <th>0</th>\n",
       "      <td>12209</td>\n",
       "      <td>3080</td>\n",
       "      <td>Raiffeisen Bank International AG</td>\n",
       "      <td>Sustainability Report - rbinternational.com</td>\n",
       "      <td>We invite you to send us your questions and su...</td>\n",
       "      <td>https://www.rbinternational.com/en/sustainabil...</td>\n",
       "      <td>0</td>\n",
       "      <td>0.670837</td>\n",
       "    </tr>\n",
       "    <tr>\n",
       "      <th>1</th>\n",
       "      <td>12216</td>\n",
       "      <td>3080</td>\n",
       "      <td>Raiffeisen Bank International AG</td>\n",
       "      <td>Sustainability Report - rbinternational.com</td>\n",
       "      <td>We invite you to send us your questions and su...</td>\n",
       "      <td>https://www.rbinternational.com/en/sustainabil...</td>\n",
       "      <td>1</td>\n",
       "      <td>0.672520</td>\n",
       "    </tr>\n",
       "    <tr>\n",
       "      <th>2</th>\n",
       "      <td>12211</td>\n",
       "      <td>3080</td>\n",
       "      <td>Raiffeisen Bank International AG</td>\n",
       "      <td>Sustainability Report - rbinternational.com</td>\n",
       "      <td>We invite you to send us your questions and su...</td>\n",
       "      <td>https://www.rbinternational.com/en/sustainabil...</td>\n",
       "      <td>2</td>\n",
       "      <td>0.675059</td>\n",
       "    </tr>\n",
       "    <tr>\n",
       "      <th>3</th>\n",
       "      <td>1219</td>\n",
       "      <td>5714</td>\n",
       "      <td>Enterprise Products Partners LP</td>\n",
       "      <td>2019-2020 Sustainability Report - Enterprise P...</td>\n",
       "      <td>We are pleased to have the opportunity to publ...</td>\n",
       "      <td>http://www.enterpriseproducts.com/documents?do...</td>\n",
       "      <td>4</td>\n",
       "      <td>0.684110</td>\n",
       "    </tr>\n",
       "    <tr>\n",
       "      <th>4</th>\n",
       "      <td>683</td>\n",
       "      <td>2922</td>\n",
       "      <td>Calavo Growers Inc</td>\n",
       "      <td>2019 SUSTAINABILITY HIGHLIGHTS REPORT - Calavo...</td>\n",
       "      <td>CALAVO GROWERS, INC. 2019 SUSTAINABILITY HIGHL...</td>\n",
       "      <td>http://www.calavo.com/pdfs/2019-Sustainability...</td>\n",
       "      <td>5</td>\n",
       "      <td>0.693384</td>\n",
       "    </tr>\n",
       "    <tr>\n",
       "      <th>...</th>\n",
       "      <td>...</td>\n",
       "      <td>...</td>\n",
       "      <td>...</td>\n",
       "      <td>...</td>\n",
       "      <td>...</td>\n",
       "      <td>...</td>\n",
       "      <td>...</td>\n",
       "      <td>...</td>\n",
       "    </tr>\n",
       "    <tr>\n",
       "      <th>3907</th>\n",
       "      <td>3588</td>\n",
       "      <td>130</td>\n",
       "      <td>Advantest Corp</td>\n",
       "      <td>Environment | Sustainability | ADVANTEST CORPO...</td>\n",
       "      <td>Environment. Mitigation of Climate Change (Pre...</td>\n",
       "      <td>https://www.advantest.com/about/pdf/E_03_IAR20...</td>\n",
       "      <td>15752</td>\n",
       "      <td>1.939996</td>\n",
       "    </tr>\n",
       "    <tr>\n",
       "      <th>3908</th>\n",
       "      <td>3585</td>\n",
       "      <td>122</td>\n",
       "      <td>Advanced Lithium Electrochemistry Cayman Co Ltd</td>\n",
       "      <td>Trimble Navigation Limited - Relationship Science</td>\n",
       "      <td>Sustainable Investing for the Long Term Genera...</td>\n",
       "      <td>https://go.relsci.com/l/19262/2015-03-05/2p941...</td>\n",
       "      <td>15763</td>\n",
       "      <td>1.948292</td>\n",
       "    </tr>\n",
       "    <tr>\n",
       "      <th>3909</th>\n",
       "      <td>12198</td>\n",
       "      <td>3069</td>\n",
       "      <td>REN - Redes Energeticas Nacionais SGPS SA</td>\n",
       "      <td>REN - Code of Conduct</td>\n",
       "      <td>Code of Conduct. The Code of Conduct sets out ...</td>\n",
       "      <td>https://www.ren.pt/files/2019-07/2019-07-02093...</td>\n",
       "      <td>15782</td>\n",
       "      <td>2.011616</td>\n",
       "    </tr>\n",
       "    <tr>\n",
       "      <th>3910</th>\n",
       "      <td>12201</td>\n",
       "      <td>3069</td>\n",
       "      <td>REN - Redes Energeticas Nacionais SGPS SA</td>\n",
       "      <td>REN - Code of Conduct</td>\n",
       "      <td>Code of Conduct. The Code of Conduct sets out ...</td>\n",
       "      <td>https://www.ren.pt/files/2019-07/2019-07-02093...</td>\n",
       "      <td>15784</td>\n",
       "      <td>2.021116</td>\n",
       "    </tr>\n",
       "    <tr>\n",
       "      <th>3911</th>\n",
       "      <td>14149</td>\n",
       "      <td>3618</td>\n",
       "      <td>Stryker Corp</td>\n",
       "      <td>Corporate Responsibility and Sustainability | ...</td>\n",
       "      <td>Corporate Responsibility and Sustainability .....</td>\n",
       "      <td>http://www.mecomed.com/wp-content/pdf/code.pdf</td>\n",
       "      <td>15788</td>\n",
       "      <td>2.075839</td>\n",
       "    </tr>\n",
       "  </tbody>\n",
       "</table>\n",
       "<p>3912 rows × 8 columns</p>\n",
       "</div>"
      ],
      "text/plain": [
       "         id  Unnamed: 0                                          company  \\\n",
       "0     12209        3080                 Raiffeisen Bank International AG   \n",
       "1     12216        3080                 Raiffeisen Bank International AG   \n",
       "2     12211        3080                 Raiffeisen Bank International AG   \n",
       "3      1219        5714                  Enterprise Products Partners LP   \n",
       "4       683        2922                               Calavo Growers Inc   \n",
       "...     ...         ...                                              ...   \n",
       "3907   3588         130                                   Advantest Corp   \n",
       "3908   3585         122  Advanced Lithium Electrochemistry Cayman Co Ltd   \n",
       "3909  12198        3069        REN - Redes Energeticas Nacionais SGPS SA   \n",
       "3910  12201        3069        REN - Redes Energeticas Nacionais SGPS SA   \n",
       "3911  14149        3618                                     Stryker Corp   \n",
       "\n",
       "                                                   site  \\\n",
       "0           Sustainability Report - rbinternational.com   \n",
       "1           Sustainability Report - rbinternational.com   \n",
       "2           Sustainability Report - rbinternational.com   \n",
       "3     2019-2020 Sustainability Report - Enterprise P...   \n",
       "4     2019 SUSTAINABILITY HIGHLIGHTS REPORT - Calavo...   \n",
       "...                                                 ...   \n",
       "3907  Environment | Sustainability | ADVANTEST CORPO...   \n",
       "3908  Trimble Navigation Limited - Relationship Science   \n",
       "3909                              REN - Code of Conduct   \n",
       "3910                              REN - Code of Conduct   \n",
       "3911  Corporate Responsibility and Sustainability | ...   \n",
       "\n",
       "                                                summary  \\\n",
       "0     We invite you to send us your questions and su...   \n",
       "1     We invite you to send us your questions and su...   \n",
       "2     We invite you to send us your questions and su...   \n",
       "3     We are pleased to have the opportunity to publ...   \n",
       "4     CALAVO GROWERS, INC. 2019 SUSTAINABILITY HIGHL...   \n",
       "...                                                 ...   \n",
       "3907  Environment. Mitigation of Climate Change (Pre...   \n",
       "3908  Sustainable Investing for the Long Term Genera...   \n",
       "3909  Code of Conduct. The Code of Conduct sets out ...   \n",
       "3910  Code of Conduct. The Code of Conduct sets out ...   \n",
       "3911  Corporate Responsibility and Sustainability .....   \n",
       "\n",
       "                                                pdf_url   rank  \\\n",
       "0     https://www.rbinternational.com/en/sustainabil...      0   \n",
       "1     https://www.rbinternational.com/en/sustainabil...      1   \n",
       "2     https://www.rbinternational.com/en/sustainabil...      2   \n",
       "3     http://www.enterpriseproducts.com/documents?do...      4   \n",
       "4     http://www.calavo.com/pdfs/2019-Sustainability...      5   \n",
       "...                                                 ...    ...   \n",
       "3907  https://www.advantest.com/about/pdf/E_03_IAR20...  15752   \n",
       "3908  https://go.relsci.com/l/19262/2015-03-05/2p941...  15763   \n",
       "3909  https://www.ren.pt/files/2019-07/2019-07-02093...  15782   \n",
       "3910  https://www.ren.pt/files/2019-07/2019-07-02093...  15784   \n",
       "3911     http://www.mecomed.com/wp-content/pdf/code.pdf  15788   \n",
       "\n",
       "      relevance_score  \n",
       "0            0.670837  \n",
       "1            0.672520  \n",
       "2            0.675059  \n",
       "3            0.684110  \n",
       "4            0.693384  \n",
       "...               ...  \n",
       "3907         1.939996  \n",
       "3908         1.948292  \n",
       "3909         2.011616  \n",
       "3910         2.021116  \n",
       "3911         2.075839  \n",
       "\n",
       "[3912 rows x 8 columns]"
      ]
     },
     "execution_count": 1,
     "metadata": {},
     "output_type": "execute_result"
    }
   ],
   "source": [
    "import sys\n",
    "sys.path.append(\"/home/qingzhi/.conda/envs/test/lib/python3.9/site-packages\")\n",
    "import pandas as pd\n",
    "df_pdf = pd.read_csv(\"./wiki_data/report_temp.csv\")\n",
    "df_pdf"
   ]
  },
  {
   "cell_type": "code",
   "execution_count": 3,
   "id": "2d9c9a2d",
   "metadata": {},
   "outputs": [
    {
     "name": "stderr",
     "output_type": "stream",
     "text": [
      "\r",
      "  0%|                                                   | 0/152 [00:00<?, ?it/s]"
     ]
    },
    {
     "name": "stdout",
     "output_type": "stream",
     "text": [
      "Problem: https://www.rbinternational.com/en/sustainability/sustainability-report/_jcr_content/root/responsivegrid/tabaccordioncontaine/tabAccordionElements/tabaccordionelement__1228007684/items/downloadlist.download.html/0/Sustainability%20Report%202020.pdf: HTTPSConnectionPool(host='www.rbinternational.com', port=443): Read timed out.\n"
     ]
    },
    {
     "name": "stderr",
     "output_type": "stream",
     "text": [
      "\n",
      "  0%|                                                    | 0/10 [00:00<?, ?it/s]\u001b[A\n",
      " 20%|████████▊                                   | 2/10 [00:00<00:01,  5.26it/s]\u001b[A"
     ]
    },
    {
     "name": "stdout",
     "output_type": "stream",
     "text": [
      "http://www.calavo.com/pdfs/2019-Sustainability-Highlights-Report-FINAL.pdf\n"
     ]
    },
    {
     "name": "stderr",
     "output_type": "stream",
     "text": [
      "\n",
      " 30%|█████████████▏                              | 3/10 [00:01<00:03,  2.18it/s]\u001b[A"
     ]
    },
    {
     "name": "stdout",
     "output_type": "stream",
     "text": [
      "https://f.hubspotusercontent10.net/hubfs/6144363/Sustainability%20Reports/se-sustainability-report-2020.pdf\n"
     ]
    },
    {
     "name": "stderr",
     "output_type": "stream",
     "text": [
      "\n",
      " 50%|██████████████████████                      | 5/10 [00:04<00:04,  1.02it/s]\u001b[A"
     ]
    },
    {
     "name": "stdout",
     "output_type": "stream",
     "text": [
      "https://cdn.brandfolder.io/EYFW0QO1/as/h7mfxwvrs349xfqjx7s49/annual-sustainability-report-2020.pdf\n"
     ]
    },
    {
     "name": "stderr",
     "output_type": "stream",
     "text": [
      "\n",
      " 60%|██████████████████████████▍                 | 6/10 [00:11<00:11,  2.90s/it]\u001b[A"
     ]
    },
    {
     "name": "stdout",
     "output_type": "stream",
     "text": [
      "https://www.itcportal.com/sustainability/sustainability-report-2019/sustainability-report-2019.pdf\n"
     ]
    },
    {
     "name": "stderr",
     "output_type": "stream",
     "text": [
      "\n",
      " 70%|██████████████████████████████▊             | 7/10 [00:15<00:09,  3.05s/it]\u001b[A"
     ]
    },
    {
     "name": "stdout",
     "output_type": "stream",
     "text": [
      "https://www.upl-ltd.com/downloads/Sustainability_Report_2020-2021.pdf\n"
     ]
    },
    {
     "name": "stderr",
     "output_type": "stream",
     "text": [
      "\n",
      " 80%|███████████████████████████████████▏        | 8/10 [00:25<00:10,  5.07s/it]\u001b[A\n",
      " 90%|███████████████████████████████████████▌    | 9/10 [00:26<00:03,  3.90s/it]\u001b[A"
     ]
    },
    {
     "name": "stdout",
     "output_type": "stream",
     "text": [
      "https://www.ree.es/sites/default/files/publication/2021/05/downloadable/Sustainability_Report_summary_2020_0.pdf\n"
     ]
    },
    {
     "name": "stderr",
     "output_type": "stream",
     "text": [
      "\n",
      "100%|███████████████████████████████████████████| 10/10 [00:36<00:00,  5.75s/it]\u001b[A\n",
      "  1%|▎                                       | 1/152 [03:01<7:36:37, 181.44s/it]\u001b[A"
     ]
    },
    {
     "name": "stdout",
     "output_type": "stream",
     "text": [
      "Problem: https://www.akamai.com/content/dam/sdl-content/us/en/multimedia/documents/sustainability/2019-akamai-sustainability-report.pdf: HTTPSConnectionPool(host='www.akamai.com', port=443): Read timed out. (read timeout=5)\n"
     ]
    },
    {
     "name": "stderr",
     "output_type": "stream",
     "text": [
      "\n",
      "  0%|                                                    | 0/10 [00:00<?, ?it/s]\u001b[A\n",
      " 10%|████▍                                       | 1/10 [00:01<00:14,  1.60s/it]\u001b[A"
     ]
    },
    {
     "name": "stdout",
     "output_type": "stream",
     "text": [
      "http://www.genting.com/wp-content/uploads/2019/04/Sustainability-Report-2018.pdf\n"
     ]
    },
    {
     "name": "stderr",
     "output_type": "stream",
     "text": [
      "\n",
      " 20%|████████▊                                   | 2/10 [00:01<00:06,  1.27it/s]\u001b[A"
     ]
    },
    {
     "name": "stdout",
     "output_type": "stream",
     "text": [
      "https://www.chs.net/CHS 2021 Environmental Sustainability Report.pdf\n"
     ]
    },
    {
     "name": "stderr",
     "output_type": "stream",
     "text": [
      "\n",
      " 30%|█████████████▏                              | 3/10 [00:02<00:06,  1.10it/s]\u001b[A"
     ]
    },
    {
     "name": "stdout",
     "output_type": "stream",
     "text": [
      "https://www.nidec.com/en/sustainability/report/-/media/www-nidec-com/sustainability/report/report2020_en.pdf\n"
     ]
    },
    {
     "name": "stderr",
     "output_type": "stream",
     "text": [
      "\n",
      " 40%|█████████████████▌                          | 4/10 [00:05<00:08,  1.45s/it]\u001b[A"
     ]
    },
    {
     "name": "stdout",
     "output_type": "stream",
     "text": [
      "https://96e597bb58d206f85397.b-cdn.net/wp-content/uploads/2021/03/2020-Sustainability-Report.pdf\n"
     ]
    },
    {
     "name": "stderr",
     "output_type": "stream",
     "text": [
      "\n",
      " 70%|██████████████████████████████▊             | 7/10 [00:07<00:03,  1.06s/it]\u001b[A"
     ]
    },
    {
     "name": "stdout",
     "output_type": "stream",
     "text": [
      "https://www.clpgroup.com/content/dam/clp-group/channels/sustainability/document/sustainability-report/2018/1--sustainability-reports/1--sustainability-report/2-sustainability-report-data-downloads/SR_DataandDownloads_2018_en.pdf.coredownload.pdf\n"
     ]
    },
    {
     "name": "stderr",
     "output_type": "stream",
     "text": [
      "\n",
      " 90%|███████████████████████████████████████▌    | 9/10 [00:12<00:01,  1.50s/it]\u001b[A"
     ]
    },
    {
     "name": "stdout",
     "output_type": "stream",
     "text": [
      "http://jainpipe.com/PDF/SustainabilityReport2016.pdf\n"
     ]
    },
    {
     "name": "stderr",
     "output_type": "stream",
     "text": [
      "\n",
      "100%|███████████████████████████████████████████| 10/10 [00:12<00:00,  1.25s/it]\u001b[A\n",
      "  1%|▌                                       | 2/152 [03:48<4:15:44, 102.30s/it]\u001b[A"
     ]
    },
    {
     "name": "stdout",
     "output_type": "stream",
     "text": [
      "https://www.ingevity.com/uploads/page-pdfs/Sustainability-Report-Update-2020-Index-Only.pdf\n",
      "Problem: https://www.ecolab.com/-/media/Widen/Sustainability/Corporate-Sustainability-Report/2019/2019-Corporate-Sustainability-Report_English_pdf.pdf: HTTPSConnectionPool(host='www.ecolab.com', port=443): Read timed out. (read timeout=5)\n"
     ]
    },
    {
     "name": "stderr",
     "output_type": "stream",
     "text": [
      "\n",
      "  0%|                                                    | 0/10 [00:00<?, ?it/s]\u001b[A"
     ]
    },
    {
     "name": "stdout",
     "output_type": "stream",
     "text": [
      "https://www.kendrion.com/fileadmin/user_upload/Downloads/Investor_Relations/Annual_Reports/2015/Sustainability-Report-Index-and-glossary-2015.pdf\n"
     ]
    },
    {
     "name": "stderr",
     "output_type": "stream",
     "text": [
      "\n",
      " 30%|█████████████▏                              | 3/10 [00:01<00:03,  2.21it/s]\u001b[A"
     ]
    },
    {
     "name": "stdout",
     "output_type": "stream",
     "text": [
      "https://www.cpchem.com/sites/default/files/2021-07/2020_Sustainability_Report1.pdf\n"
     ]
    },
    {
     "name": "stderr",
     "output_type": "stream",
     "text": [
      "\n",
      " 40%|█████████████████▌                          | 4/10 [00:01<00:02,  2.58it/s]\u001b[A"
     ]
    },
    {
     "name": "stdout",
     "output_type": "stream",
     "text": [
      "https://www.crc.com/images/documents/sustainability/2019-CRC-Sustainability-Report-Highlights.pdf\n"
     ]
    },
    {
     "name": "stderr",
     "output_type": "stream",
     "text": [
      "\n",
      " 50%|██████████████████████                      | 5/10 [00:03<00:03,  1.38it/s]\u001b[A"
     ]
    },
    {
     "name": "stdout",
     "output_type": "stream",
     "text": [
      "https://www.sse.com/media/5brnqtaa/sustainability-report-2021-final-final.pdf\n"
     ]
    },
    {
     "name": "stderr",
     "output_type": "stream",
     "text": [
      "\n",
      " 60%|██████████████████████████▍                 | 6/10 [00:04<00:03,  1.01it/s]\u001b[A"
     ]
    },
    {
     "name": "stdout",
     "output_type": "stream",
     "text": [
      "https://s26.q4cdn.com/750150140/files/doc_downloads/esg_docs/2021/2019-2020-Sustainability-Report-(1).pdf\n"
     ]
    },
    {
     "name": "stderr",
     "output_type": "stream",
     "text": [
      "\n",
      " 70%|██████████████████████████████▊             | 7/10 [00:04<00:02,  1.28it/s]\u001b[A"
     ]
    },
    {
     "name": "stdout",
     "output_type": "stream",
     "text": [
      "https://www.ocbc.com/assets/pdf/media/2019/sustainability-report-2018.pdf\n",
      "https://www.polyus.com/upload/iblock/38f/2021_05_21_publication-of-sustainability-report-eng.pdf\n"
     ]
    },
    {
     "name": "stderr",
     "output_type": "stream",
     "text": [
      "\n",
      "100%|███████████████████████████████████████████| 10/10 [00:06<00:00,  1.70it/s]\u001b[A\n",
      "  2%|▊                                        | 3/152 [05:06<3:46:32, 91.23s/it]\u001b[A"
     ]
    },
    {
     "name": "stdout",
     "output_type": "stream",
     "text": [
      "https://www.apgroup.com/int/en/commitments/sustainability/sustainability-reports/__icsFiles/afieldfile/2021/07/07/AGSR(ENG)_FINAL(compressed)_20210707_ver01.pdf\n",
      "Problem: http://www.pocruises.com/Global/pdf/2011_Sustainability_Report.pdf: HTTPConnectionPool(host='www.pocruises.com', port=80): Read timed out. (read timeout=5)\n",
      "Problem: http://www.pocruises.com/Global/pdf/2011_Sustainability_Report.pdf: HTTPConnectionPool(host='www.pocruises.com', port=80): Read timed out. (read timeout=5)\n"
     ]
    },
    {
     "name": "stderr",
     "output_type": "stream",
     "text": [
      "\n",
      "  0%|                                                    | 0/10 [00:00<?, ?it/s]\u001b[A\n",
      " 30%|█████████████▏                              | 3/10 [00:01<00:03,  1.85it/s]\u001b[A"
     ]
    },
    {
     "name": "stdout",
     "output_type": "stream",
     "text": [
      "https://www.nbk.com/dam/jcr:bcf68472-ac0b-4d40-81c8-e12314f3c59c/Sustainability-Report-2018-E.pdf\n"
     ]
    },
    {
     "name": "stderr",
     "output_type": "stream",
     "text": [
      "\n",
      " 60%|██████████████████████████▍                 | 6/10 [00:03<00:02,  1.74it/s]\u001b[A"
     ]
    },
    {
     "name": "stdout",
     "output_type": "stream",
     "text": [
      "https://www.home.sandvik/49009a/siteassets/2.-about-us/sustainability/sustainability-reports-pdf/susbus-reports-older-pdfs/sustainability-report-2012.pdf\n"
     ]
    },
    {
     "name": "stderr",
     "output_type": "stream",
     "text": [
      "\n",
      " 80%|███████████████████████████████████▏        | 8/10 [00:13<00:04,  2.14s/it]\u001b[A"
     ]
    },
    {
     "name": "stdout",
     "output_type": "stream",
     "text": [
      "https://www.gestamp.com/Gestamp11/media/GestampFiles/Sustainability/Sustainability%20Report/Sustainability-report-2018.pdf?ext=.pdf\n"
     ]
    },
    {
     "name": "stderr",
     "output_type": "stream",
     "text": [
      "\n",
      " 90%|███████████████████████████████████████▌    | 9/10 [00:23<00:03,  3.74s/it]\u001b[A\n",
      "100%|███████████████████████████████████████████| 10/10 [00:25<00:00,  3.43s/it]\u001b[A"
     ]
    },
    {
     "name": "stdout",
     "output_type": "stream",
     "text": [
      "https://www.dssmith.com/globalassets/corporate/sustainability/sustainbility-2020-reports-and-docs/ds-smith-2020-sustainability-report-single-page.pdf\n"
     ]
    },
    {
     "name": "stderr",
     "output_type": "stream",
     "text": [
      "\n",
      "  3%|█                                        | 4/152 [06:16<3:24:49, 83.03s/it]\u001b[A\n",
      "  0%|                                                    | 0/10 [00:00<?, ?it/s]\u001b[A\n",
      " 10%|████▍                                       | 1/10 [00:00<00:02,  3.01it/s]\u001b[A"
     ]
    },
    {
     "name": "stdout",
     "output_type": "stream",
     "text": [
      "https://www.majidalfuttaim.com/-/media/feature/mafcorporate/about/sustainability-reports/2021/majidalfuttaim_sustainabilityreport2020_datapack_final.pdf\n",
      "https://www.emera.com/docs/librariesprovider3/2020-sustainability-downloads/8904_emera_2020_sustainability_report_esg.pdf?sfvrsn=c4f62322_2\n"
     ]
    },
    {
     "name": "stderr",
     "output_type": "stream",
     "text": [
      "\n",
      " 40%|█████████████████▌                          | 4/10 [00:02<00:04,  1.46it/s]\u001b[A"
     ]
    },
    {
     "name": "stdout",
     "output_type": "stream",
     "text": [
      "https://s26.q4cdn.com/317237604/files/doc_downloads/2017-sustainability-report.pdf\n"
     ]
    },
    {
     "name": "stderr",
     "output_type": "stream",
     "text": [
      "\n",
      " 50%|██████████████████████                      | 5/10 [00:04<00:05,  1.00s/it]\u001b[A"
     ]
    },
    {
     "name": "stdout",
     "output_type": "stream",
     "text": [
      "http://www.koandina.com/uploads/Adjuntos/reportes%20RSE/Sustainability%20Report_2015_VF.pdf\n"
     ]
    },
    {
     "name": "stderr",
     "output_type": "stream",
     "text": [
      "\n",
      " 70%|██████████████████████████████▊             | 7/10 [00:06<00:02,  1.11it/s]\u001b[A"
     ]
    },
    {
     "name": "stdout",
     "output_type": "stream",
     "text": [
      "https://pactivevergreen.com/PactivEvergreen/Sustainability-Documents/PTVE2019-2020SustainabilityReport.pdf\n"
     ]
    },
    {
     "name": "stderr",
     "output_type": "stream",
     "text": [
      "\n",
      " 80%|███████████████████████████████████▏        | 8/10 [00:06<00:01,  1.14it/s]\u001b[A"
     ]
    },
    {
     "name": "stdout",
     "output_type": "stream",
     "text": [
      "http://c46b2bcc0db5865f5a76-91c2ff8eba65983a1c33d367b8503d02.r78.cf2.rackcdn.com/d7/53/7a981f2d4fc5997065f87460e2e3/2007-2008-sustainability-progress-report_129823711863183730.pdf\n"
     ]
    },
    {
     "name": "stderr",
     "output_type": "stream",
     "text": [
      "\n",
      " 90%|███████████████████████████████████████▌    | 9/10 [00:07<00:00,  1.38it/s]\u001b[A"
     ]
    },
    {
     "name": "stdout",
     "output_type": "stream",
     "text": [
      "https://www.spx.com/wp-content/uploads/2020/06/SPX-Sustainability-Report-2019-FINAL-6-25-20.pdf\n"
     ]
    },
    {
     "name": "stderr",
     "output_type": "stream",
     "text": [
      "\n",
      "100%|███████████████████████████████████████████| 10/10 [00:07<00:00,  1.38it/s]\u001b[A\n",
      "  3%|█▎                                       | 5/152 [07:00<2:49:02, 68.99s/it]\u001b[A"
     ]
    },
    {
     "name": "stdout",
     "output_type": "stream",
     "text": [
      "https://www.greencore.com/wp-content/uploads/2021/11/Greencore-Sustainability-Report-2021-1.pdf\n",
      "Problem: https://edgewell.com/wp-content/uploads/2019/06/2018-sustainability-report.pdf: HTTPSConnectionPool(host='edgewell.com', port=443): Max retries exceeded with url: /wp-content/uploads/2019/06/2018-sustainability-report.pdf (Caused by SSLError(SSLCertVerificationError(1, '[SSL: CERTIFICATE_VERIFY_FAILED] certificate verify failed: unable to get local issuer certificate (_ssl.c:1129)')))\n"
     ]
    },
    {
     "name": "stderr",
     "output_type": "stream",
     "text": [
      "\n",
      "  0%|                                                    | 0/10 [00:00<?, ?it/s]\u001b[A\n",
      " 10%|████▍                                       | 1/10 [00:00<00:03,  2.40it/s]\u001b[A"
     ]
    },
    {
     "name": "stdout",
     "output_type": "stream",
     "text": [
      "https://www.apa.com.au/globalassets/asx-releases/2021/apa-sustainability-report-fy21-framework-index.pdf\n",
      "https://s21.q4cdn.com/490720384/files/doc_news/2020/08/2020-Sustainability-Report-Flex2.pdf\n"
     ]
    },
    {
     "name": "stderr",
     "output_type": "stream",
     "text": [
      "\n",
      " 30%|█████████████▏                              | 3/10 [00:04<00:10,  1.51s/it]\u001b[A"
     ]
    },
    {
     "name": "stdout",
     "output_type": "stream",
     "text": [
      "https://www.spglobal.com/esg/csa/yearbook/files/spglobal_sustainability-yearbook-2021.pdf\n"
     ]
    },
    {
     "name": "stderr",
     "output_type": "stream",
     "text": [
      "\n",
      " 40%|█████████████████▌                          | 4/10 [00:07<00:12,  2.05s/it]\u001b[A\n",
      " 50%|██████████████████████                      | 5/10 [00:07<00:07,  1.41s/it]\u001b[A"
     ]
    },
    {
     "name": "stdout",
     "output_type": "stream",
     "text": [
      "https://www.cci.com.tr/Portals/3/CCI_Sustainability%20Report_2019.pdf\n",
      "https://www.brambles.com/Content/cms/sustainability-2019/Sustainability_Highlights_2019.pdf\n"
     ]
    },
    {
     "name": "stderr",
     "output_type": "stream",
     "text": [
      "\n",
      " 60%|██████████████████████████▍                 | 6/10 [00:16<00:15,  3.95s/it]\u001b[A"
     ]
    },
    {
     "name": "stdout",
     "output_type": "stream",
     "text": [
      "https://www.lyondellbasell.com/globalassets/sustainability/2019_sustainability_report.pdf\n"
     ]
    },
    {
     "name": "stderr",
     "output_type": "stream",
     "text": [
      "\n",
      " 80%|███████████████████████████████████▏        | 8/10 [00:17<00:04,  2.23s/it]\u001b[A"
     ]
    },
    {
     "name": "stdout",
     "output_type": "stream",
     "text": [
      "https://www.tnb.com.my/assets/annual_report/Sustainability_Report_2017.pdf\n"
     ]
    },
    {
     "name": "stderr",
     "output_type": "stream",
     "text": [
      "\n",
      " 90%|███████████████████████████████████████▌    | 9/10 [00:19<00:02,  2.08s/it]\u001b[A"
     ]
    },
    {
     "name": "stdout",
     "output_type": "stream",
     "text": [
      "https://www.dbs.com/iwov-resources/images/sustainability/reporting/pdf/DBS%20Sustainability%20Report%202019%2020200306.pdf?pid=sg-group-pweb-sustainability-pdf-dbs-sustainability-report-2019\n"
     ]
    },
    {
     "name": "stderr",
     "output_type": "stream",
     "text": [
      "\n",
      "100%|███████████████████████████████████████████| 10/10 [00:20<00:00,  2.03s/it]\u001b[A\n",
      "  4%|█▌                                       | 6/152 [08:04<2:43:18, 67.11s/it]\u001b[A"
     ]
    },
    {
     "name": "stdout",
     "output_type": "stream",
     "text": [
      "http://www.tower-bersama.com/uploads/media/Sustainability-Report/TBIG---Sustainability-Report-2019.pdf\n"
     ]
    },
    {
     "name": "stderr",
     "output_type": "stream",
     "text": [
      "\n",
      "  0%|                                                    | 0/10 [00:00<?, ?it/s]\u001b[A\n",
      " 10%|████▍                                       | 1/10 [00:06<00:57,  6.35s/it]\u001b[A"
     ]
    },
    {
     "name": "stdout",
     "output_type": "stream",
     "text": [
      "https://www.grasim.com/Upload/PDF/grasim-sustainability-report-2018-19.pdf\n"
     ]
    },
    {
     "name": "stderr",
     "output_type": "stream",
     "text": [
      "\n",
      " 20%|████████▊                                   | 2/10 [00:08<00:29,  3.74s/it]\u001b[A"
     ]
    },
    {
     "name": "stdout",
     "output_type": "stream",
     "text": [
      "https://www.fcx.com/sites/fcx/files/documents/sustainability/2019-annual-report-on-sustainability_SP.pdf\n"
     ]
    },
    {
     "name": "stderr",
     "output_type": "stream",
     "text": [
      "\n",
      " 30%|█████████████▏                              | 3/10 [00:12<00:27,  3.93s/it]\u001b[A"
     ]
    },
    {
     "name": "stdout",
     "output_type": "stream",
     "text": [
      "https://cosmax.com/new/download/2020_COSMAX_Sustainability_Report_en.pdf\n"
     ]
    },
    {
     "name": "stderr",
     "output_type": "stream",
     "text": [
      "\n",
      " 40%|█████████████████▌                          | 4/10 [00:14<00:19,  3.20s/it]\u001b[A"
     ]
    },
    {
     "name": "stdout",
     "output_type": "stream",
     "text": [
      "https://s28.q4cdn.com/330485412/files/doc_downloads/sustainability/ATS-2021-Sustainability-Report.pdf\n"
     ]
    },
    {
     "name": "stderr",
     "output_type": "stream",
     "text": [
      "\n",
      " 50%|██████████████████████                      | 5/10 [00:18<00:17,  3.46s/it]\u001b[A"
     ]
    },
    {
     "name": "stdout",
     "output_type": "stream",
     "text": [
      "https://www.fmc.com/sites/default/files/2021-04/FMC_2019_Sustainability_Report.pdf\n"
     ]
    },
    {
     "name": "stderr",
     "output_type": "stream",
     "text": [
      "\n",
      " 60%|██████████████████████████▍                 | 6/10 [00:19<00:09,  2.49s/it]\u001b[A"
     ]
    },
    {
     "name": "stdout",
     "output_type": "stream",
     "text": [
      "https://www.hain.com/wp-content/uploads/2016/08/2018-Sustainability-Report-FINAL.pdf\n"
     ]
    },
    {
     "name": "stderr",
     "output_type": "stream",
     "text": [
      "\n",
      " 70%|██████████████████████████████▊             | 7/10 [00:19<00:05,  1.80s/it]\u001b[A"
     ]
    },
    {
     "name": "stdout",
     "output_type": "stream",
     "text": [
      "https://www.gn.com/-/media/Files/Financial-Download-Center/2020/Annual-Report-2019/GN-Sustainability--ESG-Report-2019.pdf?la=en\n"
     ]
    },
    {
     "name": "stderr",
     "output_type": "stream",
     "text": [
      "\n",
      " 80%|███████████████████████████████████▏        | 8/10 [00:23<00:04,  2.41s/it]\u001b[A"
     ]
    },
    {
     "name": "stdout",
     "output_type": "stream",
     "text": [
      "https://www.ubs.com/global/en/sustainability-impact/_jcr_content/mainpar/toplevelgrid_988908213/col1/actionbutton_copy.1395811856.file/bGluay9wYXRoPS9jb250ZW50L2RhbS9hc3NldHMvZ2xvYmFsL2VuL3N1c3RhaW5hYmlsaXR5LWh1Yi91YnMtc3VzdGFpbmFiaWxpdHktcmVwb3J0LTIwMjAucGRm/ubs-sustainability-report-2020.pdf\n"
     ]
    },
    {
     "name": "stderr",
     "output_type": "stream",
     "text": [
      "\n",
      " 90%|███████████████████████████████████████▌    | 9/10 [00:23<00:01,  1.75s/it]\u001b[A\n",
      "  5%|█▉                                       | 7/152 [09:40<3:05:09, 76.61s/it]\u001b[A"
     ]
    },
    {
     "name": "stdout",
     "output_type": "stream",
     "text": [
      "https://www.britvic.com/media/1volrvd1/sustainability-basis-of-reporting-2019.pdf\n"
     ]
    },
    {
     "name": "stderr",
     "output_type": "stream",
     "text": [
      "\n",
      "  0%|                                                    | 0/10 [00:00<?, ?it/s]\u001b[A\n",
      " 20%|████████▊                                   | 2/10 [00:00<00:01,  6.78it/s]\u001b[A"
     ]
    },
    {
     "name": "stdout",
     "output_type": "stream",
     "text": [
      "https://group.hugoboss.com/fileadmin/media/pdf/sustainability/sustainability_reports_EN/Sustainability_Report_2014_compact_version.pdf\n"
     ]
    },
    {
     "name": "stderr",
     "output_type": "stream",
     "text": [
      "\n",
      " 30%|█████████████▏                              | 3/10 [00:01<00:03,  2.05it/s]\u001b[A"
     ]
    },
    {
     "name": "stdout",
     "output_type": "stream",
     "text": [
      "https://www.teekay.com/wp-content/uploads/2021/04/2020-Sustainability-Report-12-April-2021.pdf\n"
     ]
    },
    {
     "name": "stderr",
     "output_type": "stream",
     "text": [
      "\n",
      " 40%|█████████████████▌                          | 4/10 [00:01<00:02,  2.31it/s]\u001b[A"
     ]
    },
    {
     "name": "stdout",
     "output_type": "stream",
     "text": [
      "https://www.caimmo.com/fileadmin/documents/Unternehmen/_Sustainability_report_2020_en_final.pdf\n"
     ]
    },
    {
     "name": "stderr",
     "output_type": "stream",
     "text": [
      "\n",
      " 50%|██████████████████████                      | 5/10 [00:02<00:02,  1.89it/s]\u001b[A"
     ]
    },
    {
     "name": "stdout",
     "output_type": "stream",
     "text": [
      "https://www.innergex.com/wp-content/uploads/2021/05/INE_2020-SUSTAINABILITY-REPORT_EN.pdf\n"
     ]
    },
    {
     "name": "stderr",
     "output_type": "stream",
     "text": [
      "\n",
      " 60%|██████████████████████████▍                 | 6/10 [00:03<00:02,  1.68it/s]\u001b[A\n",
      " 90%|███████████████████████████████████████▌    | 9/10 [00:03<00:00,  3.77it/s]\u001b[A"
     ]
    },
    {
     "name": "stdout",
     "output_type": "stream",
     "text": [
      "https://www.engie.com/sites/default/files/assets/documents/2021-07/2021_Sustainability%20book_2.pdf\n",
      "https://www.stanleyblackanddecker.com/sites/stanleyblackanddecker.com/files/2017_sustainability_report_highlights.pdf\n"
     ]
    },
    {
     "name": "stderr",
     "output_type": "stream",
     "text": [
      "\n",
      "  5%|██▏                                      | 8/152 [10:06<2:24:54, 60.38s/it]\u001b[A"
     ]
    },
    {
     "name": "stdout",
     "output_type": "stream",
     "text": [
      "https://www.orbia.com/4a4f44/siteassets/6.-sustainability/sustainability-reports/2017/sutainabilityreport_2017_esp.pdf\n",
      "Problem: https://www.gazprom.com/f/posts/72/802627/sustainability-report-en-2019.pdf: ('Connection aborted.', ConnectionResetError(104, 'Connection reset by peer'))\n",
      "Problem: https://www.ypf.com/english/TheCompany/Documents/YPF-Sustainability-report-2019.pdf?_ga=2.123302795.1419268861.1621212441-79127530.1621212441: HTTPSConnectionPool(host='www.ypf.com', port=443): Read timed out.\n"
     ]
    },
    {
     "name": "stderr",
     "output_type": "stream",
     "text": [
      "\n",
      "  0%|                                                    | 0/10 [00:00<?, ?it/s]\u001b[A\n",
      " 20%|████████▊                                   | 2/10 [00:00<00:00, 14.86it/s]\u001b[A"
     ]
    },
    {
     "name": "stdout",
     "output_type": "stream",
     "text": [
      "https://www.tronox.com/wp-content/uploads/2019/08/Sustainability_Report_2016.pdf\n",
      "https://akerbp.com/wp-content/uploads/2021/03/akerbp-sustainability-report-2020.pdf\n"
     ]
    },
    {
     "name": "stderr",
     "output_type": "stream",
     "text": [
      "\n",
      " 40%|█████████████████▌                          | 4/10 [00:04<00:08,  1.40s/it]\u001b[A"
     ]
    },
    {
     "name": "stdout",
     "output_type": "stream",
     "text": [
      "https://www.gea.com/en/binaries/sustainability-report-2020_tcm11-82534.pdf\n",
      "https://www.crh.com/media/3103/crh-sustainability-factsheet-2020.pdf\n"
     ]
    },
    {
     "name": "stderr",
     "output_type": "stream",
     "text": [
      "\n",
      " 60%|██████████████████████████▍                 | 6/10 [00:05<00:03,  1.20it/s]\u001b[A"
     ]
    },
    {
     "name": "stdout",
     "output_type": "stream",
     "text": [
      "https://www.shell.com/sustainability/transparency-and-sustainability-reporting/sustainability-reports/_jcr_content/par/expandablelist_copy/expandablesection_851513162.stream/1519790709804/5185c165873c55d77ce07059f2afb0cc5245ffb8/shell-sustainability-summary-arabic-2011.pdf\n"
     ]
    },
    {
     "name": "stderr",
     "output_type": "stream",
     "text": [
      "\n",
      " 70%|██████████████████████████████▊             | 7/10 [00:10<00:05,  1.94s/it]\u001b[A"
     ]
    },
    {
     "name": "stdout",
     "output_type": "stream",
     "text": [
      "https://www.securitas.com/globalassets/com/files/annual-reports/eng/securitas_annual_sustainability_report_2020.pdf\n"
     ]
    },
    {
     "name": "stderr",
     "output_type": "stream",
     "text": [
      "\n",
      " 80%|███████████████████████████████████▏        | 8/10 [00:10<00:03,  1.57s/it]\u001b[A"
     ]
    },
    {
     "name": "stdout",
     "output_type": "stream",
     "text": [
      "https://www.hologic.com/sites/default/files/Sustainability/Hologic-Sustainability-Report-2019.pdf\n"
     ]
    },
    {
     "name": "stderr",
     "output_type": "stream",
     "text": [
      "\n",
      " 90%|███████████████████████████████████████▌    | 9/10 [00:14<00:02,  2.16s/it]\u001b[A\n",
      "  6%|██▍                                      | 9/152 [10:46<2:08:34, 53.95s/it]\u001b[A"
     ]
    },
    {
     "name": "stdout",
     "output_type": "stream",
     "text": [
      "https://www.teck.com/media/2020-Sustainability-Report.pdf\n"
     ]
    },
    {
     "name": "stderr",
     "output_type": "stream",
     "text": [
      "\n",
      "  0%|                                                    | 0/10 [00:00<?, ?it/s]\u001b[A\n",
      " 10%|████▍                                       | 1/10 [00:02<00:19,  2.18s/it]\u001b[A"
     ]
    },
    {
     "name": "stdout",
     "output_type": "stream",
     "text": [
      "https://churchdwight.com/pdf/Sustainability/2020-Sustainability-Report.pdf\n"
     ]
    },
    {
     "name": "stderr",
     "output_type": "stream",
     "text": [
      "\n",
      " 40%|█████████████████▌                          | 4/10 [00:05<00:08,  1.38s/it]\u001b[A"
     ]
    },
    {
     "name": "stdout",
     "output_type": "stream",
     "text": [
      "https://www.woodside.com.au/docs/default-source/investor-documents/major-reports-(static-pdfs)/2021-sustainable-development-report/sustainable-development-report-2021.pdf\n"
     ]
    },
    {
     "name": "stderr",
     "output_type": "stream",
     "text": [
      "\n",
      " 50%|██████████████████████                      | 5/10 [00:11<00:13,  2.69s/it]\u001b[A"
     ]
    },
    {
     "name": "stdout",
     "output_type": "stream",
     "text": [
      "https://ir.hellofreshgroup.com/download/companies/hellofresh/Annual%20Reports/HF_Sustainability-Report-2020_EN.pdf\n",
      "https://www.sunopta.com/wp-content/uploads/2020/03/2019-Sustainability-Report.pdf\n"
     ]
    },
    {
     "name": "stderr",
     "output_type": "stream",
     "text": [
      "\n",
      " 70%|██████████████████████████████▊             | 7/10 [00:14<00:05,  1.98s/it]\u001b[A"
     ]
    },
    {
     "name": "stdout",
     "output_type": "stream",
     "text": [
      "https://images.befesa.com/media/2021/08/Befesa-Sustainability-Report-2018-Final1.pdf\n"
     ]
    },
    {
     "name": "stderr",
     "output_type": "stream",
     "text": [
      "\n",
      " 80%|███████████████████████████████████▏        | 8/10 [00:17<00:04,  2.29s/it]\u001b[A"
     ]
    },
    {
     "name": "stdout",
     "output_type": "stream",
     "text": [
      "https://www.sca.com/globalassets/sca-engelska/investors/sustainability-reports/sustainability-report-2009.pdf\n"
     ]
    },
    {
     "name": "stderr",
     "output_type": "stream",
     "text": [
      "\n",
      " 90%|███████████████████████████████████████▌    | 9/10 [00:17<00:01,  1.80s/it]\u001b[A"
     ]
    },
    {
     "name": "stdout",
     "output_type": "stream",
     "text": [
      "https://www.aam.com/docs/default-source/esg-policies/aam-2019-sustainability-report-final1.pdf\n"
     ]
    },
    {
     "name": "stderr",
     "output_type": "stream",
     "text": [
      "\n",
      "100%|███████████████████████████████████████████| 10/10 [00:18<00:00,  1.41s/it]\u001b[A\n",
      "  7%|██▋                                     | 10/152 [12:45<2:55:24, 74.12s/it]\u001b[A"
     ]
    },
    {
     "name": "stdout",
     "output_type": "stream",
     "text": [
      "https://www.goldmansachs.com/citizenship/sustainability-reporting/esg-content/esg-report-2016-highlights.pdf\n",
      "Problem: https://cdn.hexagongroup.com/uploads/2020/04/sustainability-report-2019.pdf: HTTPSConnectionPool(host='cdn.hexagongroup.com', port=443): Max retries exceeded with url: /uploads/2020/04/sustainability-report-2019.pdf (Caused by NewConnectionError('<urllib3.connection.HTTPSConnection object at 0x7f381bc54b50>: Failed to establish a new connection: [Errno -2] Name or service not known'))\n"
     ]
    },
    {
     "name": "stderr",
     "output_type": "stream",
     "text": [
      "\n",
      "  0%|                                                    | 0/10 [00:00<?, ?it/s]\u001b[A\n",
      " 30%|█████████████▏                              | 3/10 [00:00<00:00, 13.33it/s]\u001b[A"
     ]
    },
    {
     "name": "stdout",
     "output_type": "stream",
     "text": [
      "https://www.sika.com/content/dam/dms/corporate/media/glo-annual-report-2020-sustainability-report.pdf\n"
     ]
    },
    {
     "name": "stderr",
     "output_type": "stream",
     "text": [
      "\n",
      " 50%|██████████████████████                      | 5/10 [00:10<00:12,  2.48s/it]\u001b[A\n",
      " 60%|██████████████████████████▍                 | 6/10 [00:10<00:07,  1.87s/it]\u001b[A"
     ]
    },
    {
     "name": "stdout",
     "output_type": "stream",
     "text": [
      "https://www.trig-ltd.com/wp-content/uploads/2021/05/TRIG_Sustainability_Report_2021_SinglePage.pdf\n"
     ]
    },
    {
     "name": "stderr",
     "output_type": "stream",
     "text": [
      "\n",
      " 80%|███████████████████████████████████▏        | 8/10 [00:15<00:04,  2.25s/it]\u001b[A"
     ]
    },
    {
     "name": "stdout",
     "output_type": "stream",
     "text": [
      "https://www.iqvia.com/-/media/iqvia/pdfs/about-us/2019-sustainability-report.pdf?la=en&hash=249BDD7DBFD1AAF9714AAF63037806DB\n"
     ]
    },
    {
     "name": "stderr",
     "output_type": "stream",
     "text": [
      "\n",
      "100%|███████████████████████████████████████████| 10/10 [00:19<00:00,  2.10s/it]\u001b[A\n",
      "  7%|██▉                                     | 11/152 [13:22<2:27:15, 62.66s/it]\u001b[A"
     ]
    },
    {
     "name": "stdout",
     "output_type": "stream",
     "text": [
      "https://www.eliagroup.eu/-/media/project/elia/shared/documents/elia-group/publications/annual-reports/2021/en/20210415_elia-group-sustainability-report-2020_en.pdf\n"
     ]
    },
    {
     "name": "stderr",
     "output_type": "stream",
     "text": [
      "KeyboardInterrupt\n",
      "2022-03-02T20:53:46Z\n",
      "  7%|██▉                                     | 11/152 [15:17<3:16:06, 83.45s/it]\n"
     ]
    },
    {
     "ename": "KeyboardInterrupt",
     "evalue": "",
     "output_type": "error",
     "traceback": [
      "\u001b[0;31m---------------------------------------------------------------------------\u001b[0m",
      "\u001b[0;31mKeyboardInterrupt\u001b[0m                         Traceback (most recent call last)",
      "\u001b[0;32m/tmp/ipykernel_97567/2857953205.py\u001b[0m in \u001b[0;36m<module>\u001b[0;34m\u001b[0m\n\u001b[1;32m     74\u001b[0m     \u001b[0murls\u001b[0m \u001b[0;34m=\u001b[0m \u001b[0mdf_pdf\u001b[0m\u001b[0;34m.\u001b[0m\u001b[0mpdf_url\u001b[0m\u001b[0;34m.\u001b[0m\u001b[0mvalues\u001b[0m\u001b[0;34m[\u001b[0m\u001b[0mi\u001b[0m\u001b[0;34m]\u001b[0m\u001b[0;34m\u001b[0m\u001b[0;34m\u001b[0m\u001b[0m\n\u001b[1;32m     75\u001b[0m     \u001b[0mtest\u001b[0m \u001b[0;34m=\u001b[0m \u001b[0mTest\u001b[0m\u001b[0;34m(\u001b[0m\u001b[0murls\u001b[0m\u001b[0;34m)\u001b[0m\u001b[0;34m\u001b[0m\u001b[0;34m\u001b[0m\u001b[0m\n\u001b[0;32m---> 76\u001b[0;31m     \u001b[0mresults\u001b[0m \u001b[0;34m=\u001b[0m \u001b[0mtest\u001b[0m\u001b[0;34m.\u001b[0m\u001b[0masync1\u001b[0m\u001b[0;34m(\u001b[0m\u001b[0;34m)\u001b[0m\u001b[0;34m\u001b[0m\u001b[0;34m\u001b[0m\u001b[0m\n\u001b[0m\u001b[1;32m     77\u001b[0m     \u001b[0;31m# for req, url in tqdm(zip(results, urls), total=len(urls), leave=False):\u001b[0m\u001b[0;34m\u001b[0m\u001b[0;34m\u001b[0m\u001b[0m\n\u001b[1;32m     78\u001b[0m     \u001b[0;32mfor\u001b[0m \u001b[0mreq\u001b[0m\u001b[0;34m,\u001b[0m \u001b[0murl\u001b[0m \u001b[0;32min\u001b[0m \u001b[0mtqdm\u001b[0m\u001b[0;34m(\u001b[0m\u001b[0mzip\u001b[0m\u001b[0;34m(\u001b[0m\u001b[0mresults\u001b[0m\u001b[0;34m,\u001b[0m \u001b[0murls\u001b[0m\u001b[0;34m)\u001b[0m\u001b[0;34m,\u001b[0m \u001b[0mtotal\u001b[0m\u001b[0;34m=\u001b[0m\u001b[0mlen\u001b[0m\u001b[0;34m(\u001b[0m\u001b[0murls\u001b[0m\u001b[0;34m)\u001b[0m\u001b[0;34m,\u001b[0m \u001b[0mleave\u001b[0m\u001b[0;34m=\u001b[0m\u001b[0;32mFalse\u001b[0m\u001b[0;34m)\u001b[0m\u001b[0;34m:\u001b[0m\u001b[0;34m\u001b[0m\u001b[0;34m\u001b[0m\u001b[0m\n",
      "\u001b[0;32m/tmp/ipykernel_97567/2857953205.py\u001b[0m in \u001b[0;36masync1\u001b[0;34m(self)\u001b[0m\n\u001b[1;32m     12\u001b[0m \u001b[0;34m\u001b[0m\u001b[0m\n\u001b[1;32m     13\u001b[0m     \u001b[0;32mdef\u001b[0m \u001b[0masync1\u001b[0m\u001b[0;34m(\u001b[0m\u001b[0mself\u001b[0m\u001b[0;34m)\u001b[0m\u001b[0;34m:\u001b[0m\u001b[0;34m\u001b[0m\u001b[0;34m\u001b[0m\u001b[0m\n\u001b[0;32m---> 14\u001b[0;31m         \u001b[0mresults\u001b[0m \u001b[0;34m=\u001b[0m \u001b[0mgrequests\u001b[0m\u001b[0;34m.\u001b[0m\u001b[0mmap\u001b[0m\u001b[0;34m(\u001b[0m\u001b[0;34m(\u001b[0m\u001b[0mgrequests\u001b[0m\u001b[0;34m.\u001b[0m\u001b[0mget\u001b[0m\u001b[0;34m(\u001b[0m\u001b[0mu\u001b[0m\u001b[0;34m,\u001b[0m \u001b[0mtimeout\u001b[0m\u001b[0;34m=\u001b[0m\u001b[0;36m5\u001b[0m\u001b[0;34m,\u001b[0m \u001b[0mstream\u001b[0m\u001b[0;34m=\u001b[0m\u001b[0;32mFalse\u001b[0m\u001b[0;34m)\u001b[0m \u001b[0;32mfor\u001b[0m \u001b[0mu\u001b[0m \u001b[0;32min\u001b[0m \u001b[0mself\u001b[0m\u001b[0;34m.\u001b[0m\u001b[0murls\u001b[0m\u001b[0;34m)\u001b[0m\u001b[0;34m,\u001b[0m \u001b[0mexception_handler\u001b[0m\u001b[0;34m=\u001b[0m\u001b[0mself\u001b[0m\u001b[0;34m.\u001b[0m\u001b[0mexception\u001b[0m\u001b[0;34m,\u001b[0m \u001b[0msize\u001b[0m\u001b[0;34m=\u001b[0m\u001b[0;36m20\u001b[0m\u001b[0;34m)\u001b[0m\u001b[0;34m\u001b[0m\u001b[0;34m\u001b[0m\u001b[0m\n\u001b[0m\u001b[1;32m     15\u001b[0m         \u001b[0;31m# print(results)\u001b[0m\u001b[0;34m\u001b[0m\u001b[0;34m\u001b[0m\u001b[0m\n\u001b[1;32m     16\u001b[0m         \u001b[0;32mreturn\u001b[0m \u001b[0mresults\u001b[0m\u001b[0;34m\u001b[0m\u001b[0;34m\u001b[0m\u001b[0m\n",
      "\u001b[0;32m~/.conda/envs/test/lib/python3.9/site-packages/grequests.py\u001b[0m in \u001b[0;36mmap\u001b[0;34m(requests, stream, size, exception_handler, gtimeout)\u001b[0m\n\u001b[1;32m    123\u001b[0m     \u001b[0mpool\u001b[0m \u001b[0;34m=\u001b[0m \u001b[0mPool\u001b[0m\u001b[0;34m(\u001b[0m\u001b[0msize\u001b[0m\u001b[0;34m)\u001b[0m \u001b[0;32mif\u001b[0m \u001b[0msize\u001b[0m \u001b[0;32melse\u001b[0m \u001b[0;32mNone\u001b[0m\u001b[0;34m\u001b[0m\u001b[0;34m\u001b[0m\u001b[0m\n\u001b[1;32m    124\u001b[0m     \u001b[0mjobs\u001b[0m \u001b[0;34m=\u001b[0m \u001b[0;34m[\u001b[0m\u001b[0msend\u001b[0m\u001b[0;34m(\u001b[0m\u001b[0mr\u001b[0m\u001b[0;34m,\u001b[0m \u001b[0mpool\u001b[0m\u001b[0;34m,\u001b[0m \u001b[0mstream\u001b[0m\u001b[0;34m=\u001b[0m\u001b[0mstream\u001b[0m\u001b[0;34m)\u001b[0m \u001b[0;32mfor\u001b[0m \u001b[0mr\u001b[0m \u001b[0;32min\u001b[0m \u001b[0mrequests\u001b[0m\u001b[0;34m]\u001b[0m\u001b[0;34m\u001b[0m\u001b[0;34m\u001b[0m\u001b[0m\n\u001b[0;32m--> 125\u001b[0;31m     \u001b[0mgevent\u001b[0m\u001b[0;34m.\u001b[0m\u001b[0mjoinall\u001b[0m\u001b[0;34m(\u001b[0m\u001b[0mjobs\u001b[0m\u001b[0;34m,\u001b[0m \u001b[0mtimeout\u001b[0m\u001b[0;34m=\u001b[0m\u001b[0mgtimeout\u001b[0m\u001b[0;34m)\u001b[0m\u001b[0;34m\u001b[0m\u001b[0;34m\u001b[0m\u001b[0m\n\u001b[0m\u001b[1;32m    126\u001b[0m \u001b[0;34m\u001b[0m\u001b[0m\n\u001b[1;32m    127\u001b[0m     \u001b[0mret\u001b[0m \u001b[0;34m=\u001b[0m \u001b[0;34m[\u001b[0m\u001b[0;34m]\u001b[0m\u001b[0;34m\u001b[0m\u001b[0;34m\u001b[0m\u001b[0m\n",
      "\u001b[0;32m~/workspace/anaconda3/lib/python3.9/site-packages/gevent/_gevent_cgreenlet.cpython-39-x86_64-linux-gnu.so\u001b[0m in \u001b[0;36mgevent._gevent_cgreenlet.joinall\u001b[0;34m()\u001b[0m\n",
      "\u001b[0;32m~/workspace/anaconda3/lib/python3.9/site-packages/gevent/_gevent_cgreenlet.cpython-39-x86_64-linux-gnu.so\u001b[0m in \u001b[0;36mgevent._gevent_cgreenlet.joinall\u001b[0;34m()\u001b[0m\n",
      "\u001b[0;32m~/workspace/anaconda3/lib/python3.9/site-packages/gevent/_gevent_c_hub_primitives.cpython-39-x86_64-linux-gnu.so\u001b[0m in \u001b[0;36mgevent._gevent_c_hub_primitives.wait_on_objects\u001b[0;34m()\u001b[0m\n",
      "\u001b[0;32m~/workspace/anaconda3/lib/python3.9/site-packages/gevent/_gevent_c_hub_primitives.cpython-39-x86_64-linux-gnu.so\u001b[0m in \u001b[0;36mgevent._gevent_c_hub_primitives.wait_on_objects\u001b[0;34m()\u001b[0m\n",
      "\u001b[0;32m~/workspace/anaconda3/lib/python3.9/site-packages/gevent/_gevent_c_hub_primitives.cpython-39-x86_64-linux-gnu.so\u001b[0m in \u001b[0;36mgevent._gevent_c_hub_primitives._WaitIterator.__next__\u001b[0;34m()\u001b[0m\n",
      "\u001b[0;32m~/workspace/anaconda3/lib/python3.9/site-packages/gevent/_gevent_c_hub_primitives.cpython-39-x86_64-linux-gnu.so\u001b[0m in \u001b[0;36mgevent._gevent_c_hub_primitives._WaitIterator.__next__\u001b[0;34m()\u001b[0m\n",
      "\u001b[0;32m~/workspace/anaconda3/lib/python3.9/site-packages/gevent/_gevent_c_waiter.cpython-39-x86_64-linux-gnu.so\u001b[0m in \u001b[0;36mgevent._gevent_c_waiter.MultipleWaiter.get\u001b[0;34m()\u001b[0m\n",
      "\u001b[0;32m~/workspace/anaconda3/lib/python3.9/site-packages/gevent/_gevent_c_waiter.cpython-39-x86_64-linux-gnu.so\u001b[0m in \u001b[0;36mgevent._gevent_c_waiter.Waiter.get\u001b[0;34m()\u001b[0m\n",
      "\u001b[0;32m~/workspace/anaconda3/lib/python3.9/site-packages/gevent/_gevent_c_greenlet_primitives.cpython-39-x86_64-linux-gnu.so\u001b[0m in \u001b[0;36mgevent._gevent_c_greenlet_primitives.SwitchOutGreenletWithLoop.switch\u001b[0;34m()\u001b[0m\n",
      "\u001b[0;32m~/workspace/anaconda3/lib/python3.9/site-packages/gevent/_gevent_c_greenlet_primitives.cpython-39-x86_64-linux-gnu.so\u001b[0m in \u001b[0;36mgevent._gevent_c_greenlet_primitives.SwitchOutGreenletWithLoop.switch\u001b[0;34m()\u001b[0m\n",
      "\u001b[0;32m~/workspace/anaconda3/lib/python3.9/site-packages/gevent/_gevent_c_greenlet_primitives.cpython-39-x86_64-linux-gnu.so\u001b[0m in \u001b[0;36mgevent._gevent_c_greenlet_primitives.SwitchOutGreenletWithLoop.switch\u001b[0;34m()\u001b[0m\n",
      "\u001b[0;32msrc/gevent/_gevent_c_greenlet_primitives.pxd\u001b[0m in \u001b[0;36mgevent._gevent_c_greenlet_primitives._greenlet_switch\u001b[0;34m()\u001b[0m\n",
      "\u001b[0;31mKeyboardInterrupt\u001b[0m: "
     ]
    }
   ],
   "source": [
    "import sys\n",
    "sys.setrecursionlimit(50000)\n",
    "\n",
    "import grequests\n",
    "\n",
    "class Test(object):\n",
    "    def __init__(self, urls):\n",
    "        self.urls = urls\n",
    "\n",
    "    def exception(self, request, exception):\n",
    "        print(\"Problem: {}: {}\".format(request.url, exception))\n",
    "\n",
    "    def async1(self):\n",
    "        results = grequests.map((grequests.get(u, timeout=60, stream=False) for u in self.urls), exception_handler=self.exception, size=5)\n",
    "        # print(results)\n",
    "        return results\n",
    "    \n",
    "# test = Test(news_data.url.values.tolist()[0:100])\n",
    "# results = test.async1()\n",
    "# results\n",
    "from threading import Thread\n",
    "import functools\n",
    "\n",
    "def timeout(timeout):\n",
    "    def deco(func):\n",
    "        @functools.wraps(func)\n",
    "        def wrapper(*args, **kwargs):\n",
    "            res = [Exception('function [%s] timeout [%s seconds] exceeded!' % (func.__name__, timeout))]\n",
    "            def newFunc():\n",
    "                try:\n",
    "                    res[0] = func(*args, **kwargs)\n",
    "                except Exception as e:\n",
    "                    res[0] = e\n",
    "            t = Thread(target=newFunc)\n",
    "            t.daemon = True\n",
    "            try:\n",
    "                t.start()\n",
    "                t.join(timeout)\n",
    "            except Exception as je:\n",
    "                print ('error starting thread')\n",
    "                raise je\n",
    "            ret = res[0]\n",
    "            if isinstance(ret, BaseException):\n",
    "                raise ret\n",
    "            return ret\n",
    "        return wrapper\n",
    "    return deco\n",
    "\n",
    "import requests\n",
    "from bs4 import BeautifulSoup\n",
    "from tqdm import tqdm\n",
    "from urllib.parse import urljoin\n",
    "\n",
    "from PyPDF2 import PdfFileReader\n",
    "from io import BytesIO\n",
    "@timeout(10)\n",
    "def process_pdf(req):\n",
    "    open_pdf_file = BytesIO(req.content)\n",
    "    req.close()\n",
    "    pdf = PdfFileReader(open_pdf_file, strict=False)\n",
    "    text = [pdf.getPage(i).extractText() for i in range(0, pdf.getNumPages())]\n",
    "    return \" \".join(text)\n",
    "\n",
    "\n",
    "from tqdm import tqdm\n",
    "tqdm.pandas()\n",
    "def chunks(lst, n):\n",
    "    \"\"\"Yield successive n-sized chunks from lst.\"\"\"\n",
    "    for i in range(0, len(lst), n):\n",
    "        yield lst[i:i + n]\n",
    "\n",
    "content_list = []\n",
    "for i in tqdm(list(chunks(range(0, len(df_pdf.pdf_url.values)), 10))):\n",
    "    urls = df_pdf.pdf_url.values[i]\n",
    "    test = Test(urls)\n",
    "    results = test.async1()\n",
    "    # for req, url in tqdm(zip(results, urls), total=len(urls), leave=False):\n",
    "    for req, url in tqdm(zip(results, urls), total=len(urls), leave=False):\n",
    "        \n",
    "        if req == None:\n",
    "            content_list.append(None)\n",
    "        elif req.status_code == 200:\n",
    "            try:\n",
    "                content_list.append(process_pdf(req))\n",
    "                print(url)\n",
    "            except:\n",
    "                content_list.append(None)\n",
    "        else:\n",
    "            content_list.append(None)\n",
    "            \n",
    "# news_data[\"pdf_list\"] = content_list\n",
    "# content_list"
   ]
  },
  {
   "cell_type": "code",
   "execution_count": null,
   "id": "7fb28c50",
   "metadata": {},
   "outputs": [],
   "source": []
  },
  {
   "cell_type": "code",
   "execution_count": null,
   "id": "52c6a2e9",
   "metadata": {},
   "outputs": [],
   "source": [
    "df_pdf[\"pdf_content\"] = content_list\n",
    "df_pdf = df_pdf.dropna()\n",
    "df_pdf.to_csv(\"wiki_data/sus_reports_content.tsv\", sep=\"\\t\")"
   ]
  },
  {
   "cell_type": "code",
   "execution_count": null,
   "id": "8c33bd31",
   "metadata": {},
   "outputs": [],
   "source": [
    "df_pdf[\"pdf_content\"] = df_pdf[\"pdf_content\"].apply(lambda x: np.nan if x==np.nan else str(x).encode('utf-8', 'replace').decode('utf-8'))"
   ]
  },
  {
   "cell_type": "code",
   "execution_count": 38,
   "id": "7e2ce344",
   "metadata": {},
   "outputs": [
    {
     "name": "stdout",
     "output_type": "stream",
     "text": [
      "The autoreload extension is already loaded. To reload it, use:\n",
      "  %reload_ext autoreload\n"
     ]
    },
    {
     "name": "stderr",
     "output_type": "stream",
     "text": [
      "/tmp/ipykernel_98148/312406442.py:34: SettingWithCopyWarning: \n",
      "A value is trying to be set on a copy of a slice from a DataFrame.\n",
      "Try using .loc[row_indexer,col_indexer] = value instead\n",
      "\n",
      "See the caveats in the documentation: https://pandas.pydata.org/pandas-docs/stable/user_guide/indexing.html#returning-a-view-versus-a-copy\n",
      "  df_pdf[\"id\"] = range(len(df_pdf))\n"
     ]
    },
    {
     "name": "stdout",
     "output_type": "stream",
     "text": [
      "cuda:0\n"
     ]
    },
    {
     "data": {
      "application/vnd.jupyter.widget-view+json": {
       "model_id": "98ca6661b16247fb8b4f346fbf5150ef",
       "version_major": 2,
       "version_minor": 0
      },
      "text/plain": [
       "Batches:   0%|          | 0/431 [00:00<?, ?it/s]"
      ]
     },
     "metadata": {},
     "output_type": "display_data"
    },
    {
     "name": "stdout",
     "output_type": "stream",
     "text": [
      "saving embeddings\n",
      "Number of vectors in the Faiss index: 13792\n"
     ]
    },
    {
     "data": {
      "text/html": [
       "<div>\n",
       "<style scoped>\n",
       "    .dataframe tbody tr th:only-of-type {\n",
       "        vertical-align: middle;\n",
       "    }\n",
       "\n",
       "    .dataframe tbody tr th {\n",
       "        vertical-align: top;\n",
       "    }\n",
       "\n",
       "    .dataframe thead th {\n",
       "        text-align: right;\n",
       "    }\n",
       "</style>\n",
       "<table border=\"1\" class=\"dataframe\">\n",
       "  <thead>\n",
       "    <tr style=\"text-align: right;\">\n",
       "      <th></th>\n",
       "      <th>Unnamed: 0</th>\n",
       "      <th>Unnamed: 0.1</th>\n",
       "      <th>site</th>\n",
       "      <th>summary</th>\n",
       "      <th>url</th>\n",
       "      <th>rank</th>\n",
       "      <th>company</th>\n",
       "      <th>relevance_score</th>\n",
       "    </tr>\n",
       "    <tr>\n",
       "      <th>id</th>\n",
       "      <th></th>\n",
       "      <th></th>\n",
       "      <th></th>\n",
       "      <th></th>\n",
       "      <th></th>\n",
       "      <th></th>\n",
       "      <th></th>\n",
       "      <th></th>\n",
       "    </tr>\n",
       "  </thead>\n",
       "  <tbody>\n",
       "    <tr>\n",
       "      <th>6407</th>\n",
       "      <td>7878</td>\n",
       "      <td>1</td>\n",
       "      <td>INTERNATIONAL PAPER</td>\n",
       "      <td>Sustainability is integral to all Internationa...</td>\n",
       "      <td>http://www.internationalpaper.com/apps/sustain...</td>\n",
       "      <td>0</td>\n",
       "      <td>International Paper Co</td>\n",
       "      <td>0.639222</td>\n",
       "    </tr>\n",
       "    <tr>\n",
       "      <th>2420</th>\n",
       "      <td>2895</td>\n",
       "      <td>5</td>\n",
       "      <td>Reaffirmed ESG Governance - Cascades</td>\n",
       "      <td>Reaffirmed ESG Governance. With the growing in...</td>\n",
       "      <td>https://www.cascades.com/en/sustainable-develo...</td>\n",
       "      <td>1</td>\n",
       "      <td>Cascades Inc</td>\n",
       "      <td>0.641328</td>\n",
       "    </tr>\n",
       "    <tr>\n",
       "      <th>4958</th>\n",
       "      <td>6089</td>\n",
       "      <td>4</td>\n",
       "      <td>Environmental, Social &amp; Governance - Investor ...</td>\n",
       "      <td>Here at FSFL, environmental, social and govern...</td>\n",
       "      <td>https://fsfl.foresightgroup.eu/sustainability-...</td>\n",
       "      <td>2</td>\n",
       "      <td>Foresight Solar Fund Ltd</td>\n",
       "      <td>0.649288</td>\n",
       "    </tr>\n",
       "    <tr>\n",
       "      <th>2980</th>\n",
       "      <td>3624</td>\n",
       "      <td>1</td>\n",
       "      <td>CDL | CDL Integrated Sustainability Report 202...</td>\n",
       "      <td>Singapore, 15 April 2021 – City Developments L...</td>\n",
       "      <td>https://cdl.com.sg/newsroom/cdl-integrated-sus...</td>\n",
       "      <td>3</td>\n",
       "      <td>City Developments Ltd</td>\n",
       "      <td>0.654088</td>\n",
       "    </tr>\n",
       "    <tr>\n",
       "      <th>11999</th>\n",
       "      <td>14801</td>\n",
       "      <td>1</td>\n",
       "      <td>Acting responsibly on the entire value chain -...</td>\n",
       "      <td>Tereos has opted for sustainable agriculture b...</td>\n",
       "      <td>https://tereos.com/en/sustainable-development/</td>\n",
       "      <td>4</td>\n",
       "      <td>Tereos SCA</td>\n",
       "      <td>0.662111</td>\n",
       "    </tr>\n",
       "    <tr>\n",
       "      <th>...</th>\n",
       "      <td>...</td>\n",
       "      <td>...</td>\n",
       "      <td>...</td>\n",
       "      <td>...</td>\n",
       "      <td>...</td>\n",
       "      <td>...</td>\n",
       "      <td>...</td>\n",
       "      <td>...</td>\n",
       "    </tr>\n",
       "    <tr>\n",
       "      <th>6330</th>\n",
       "      <td>7784</td>\n",
       "      <td>7</td>\n",
       "      <td>United States - English - Ingredion</td>\n",
       "      <td>In a world that rewards the agile, inventive a...</td>\n",
       "      <td>https://www.ingredion.com/</td>\n",
       "      <td>13787</td>\n",
       "      <td>Ingredion Inc</td>\n",
       "      <td>2.076139</td>\n",
       "    </tr>\n",
       "    <tr>\n",
       "      <th>6726</th>\n",
       "      <td>8281</td>\n",
       "      <td>7</td>\n",
       "      <td>Privacy Policy</td>\n",
       "      <td>Corporate Office; Jubilant Pharma Holdings Inc...</td>\n",
       "      <td>http://www.jubilantpharma.com/privacy-policy</td>\n",
       "      <td>13788</td>\n",
       "      <td>Jubilant Pharma Ltd/SG</td>\n",
       "      <td>2.087318</td>\n",
       "    </tr>\n",
       "    <tr>\n",
       "      <th>232</th>\n",
       "      <td>52</td>\n",
       "      <td>1</td>\n",
       "      <td>Aalberts - mission critical technologies</td>\n",
       "      <td>Aalberts integrated piping systems has introdu...</td>\n",
       "      <td>https://aalberts.com/</td>\n",
       "      <td>13789</td>\n",
       "      <td>Aalberts NV</td>\n",
       "      <td>2.102955</td>\n",
       "    </tr>\n",
       "    <tr>\n",
       "      <th>12653</th>\n",
       "      <td>15563</td>\n",
       "      <td>9</td>\n",
       "      <td>Kelly Romano | Board Member | UGI Corporation</td>\n",
       "      <td>Ms. Romano is currently a director of Dorman P...</td>\n",
       "      <td>https://www.ugicorp.com/kelly-romano</td>\n",
       "      <td>13790</td>\n",
       "      <td>UGI Corp</td>\n",
       "      <td>2.130881</td>\n",
       "    </tr>\n",
       "    <tr>\n",
       "      <th>4990</th>\n",
       "      <td>6130</td>\n",
       "      <td>8</td>\n",
       "      <td>Fluke | Fortive</td>\n",
       "      <td>6920 Seaway Boulevard. Everett, WA 98203. USA....</td>\n",
       "      <td>https://www.fortive.com/fluke</td>\n",
       "      <td>13791</td>\n",
       "      <td>Fortive Corp</td>\n",
       "      <td>2.131302</td>\n",
       "    </tr>\n",
       "  </tbody>\n",
       "</table>\n",
       "<p>13792 rows × 8 columns</p>\n",
       "</div>"
      ],
      "text/plain": [
       "       Unnamed: 0  Unnamed: 0.1  \\\n",
       "id                                \n",
       "6407         7878             1   \n",
       "2420         2895             5   \n",
       "4958         6089             4   \n",
       "2980         3624             1   \n",
       "11999       14801             1   \n",
       "...           ...           ...   \n",
       "6330         7784             7   \n",
       "6726         8281             7   \n",
       "232            52             1   \n",
       "12653       15563             9   \n",
       "4990         6130             8   \n",
       "\n",
       "                                                    site  \\\n",
       "id                                                         \n",
       "6407                                 INTERNATIONAL PAPER   \n",
       "2420                Reaffirmed ESG Governance - Cascades   \n",
       "4958   Environmental, Social & Governance - Investor ...   \n",
       "2980   CDL | CDL Integrated Sustainability Report 202...   \n",
       "11999  Acting responsibly on the entire value chain -...   \n",
       "...                                                  ...   \n",
       "6330                 United States - English - Ingredion   \n",
       "6726                                      Privacy Policy   \n",
       "232             Aalberts - mission critical technologies   \n",
       "12653      Kelly Romano | Board Member | UGI Corporation   \n",
       "4990                                     Fluke | Fortive   \n",
       "\n",
       "                                                 summary  \\\n",
       "id                                                         \n",
       "6407   Sustainability is integral to all Internationa...   \n",
       "2420   Reaffirmed ESG Governance. With the growing in...   \n",
       "4958   Here at FSFL, environmental, social and govern...   \n",
       "2980   Singapore, 15 April 2021 – City Developments L...   \n",
       "11999  Tereos has opted for sustainable agriculture b...   \n",
       "...                                                  ...   \n",
       "6330   In a world that rewards the agile, inventive a...   \n",
       "6726   Corporate Office; Jubilant Pharma Holdings Inc...   \n",
       "232    Aalberts integrated piping systems has introdu...   \n",
       "12653  Ms. Romano is currently a director of Dorman P...   \n",
       "4990   6920 Seaway Boulevard. Everett, WA 98203. USA....   \n",
       "\n",
       "                                                     url   rank  \\\n",
       "id                                                                \n",
       "6407   http://www.internationalpaper.com/apps/sustain...      0   \n",
       "2420   https://www.cascades.com/en/sustainable-develo...      1   \n",
       "4958   https://fsfl.foresightgroup.eu/sustainability-...      2   \n",
       "2980   https://cdl.com.sg/newsroom/cdl-integrated-sus...      3   \n",
       "11999     https://tereos.com/en/sustainable-development/      4   \n",
       "...                                                  ...    ...   \n",
       "6330                          https://www.ingredion.com/  13787   \n",
       "6726        http://www.jubilantpharma.com/privacy-policy  13788   \n",
       "232                                https://aalberts.com/  13789   \n",
       "12653               https://www.ugicorp.com/kelly-romano  13790   \n",
       "4990                       https://www.fortive.com/fluke  13791   \n",
       "\n",
       "                        company  relevance_score  \n",
       "id                                                \n",
       "6407     International Paper Co         0.639222  \n",
       "2420               Cascades Inc         0.641328  \n",
       "4958   Foresight Solar Fund Ltd         0.649288  \n",
       "2980      City Developments Ltd         0.654088  \n",
       "11999                Tereos SCA         0.662111  \n",
       "...                         ...              ...  \n",
       "6330              Ingredion Inc         2.076139  \n",
       "6726     Jubilant Pharma Ltd/SG         2.087318  \n",
       "232                 Aalberts NV         2.102955  \n",
       "12653                  UGI Corp         2.130881  \n",
       "4990               Fortive Corp         2.131302  \n",
       "\n",
       "[13792 rows x 8 columns]"
      ]
     },
     "execution_count": 38,
     "metadata": {},
     "output_type": "execute_result"
    }
   ],
   "source": [
    "############################sus web\n",
    "import sys\n",
    "sys.path.append(\"/home/qingzhi/.conda/envs/test2/lib/python3.9/site-packages\")\n",
    "\n",
    "import pandas as pd\n",
    "df = pd.read_csv(\"./wiki_data/sus_reports_url.csv\")\n",
    "df_pdf = df[~df.url.str.lower().str.contains(\"pdf\")]\n",
    "\n",
    "\n",
    "%load_ext autoreload\n",
    "%autoreload 2\n",
    "# Used to import data from local.\n",
    "import pandas as pd\n",
    "\n",
    "# Used to create the dense document vectors.\n",
    "import torch\n",
    "from sentence_transformers import SentenceTransformer\n",
    "\n",
    "# Used to create and store the Faiss index.\n",
    "import faiss\n",
    "import numpy as np\n",
    "import pickle\n",
    "from pathlib import Path\n",
    "\n",
    "# Used to do vector searches and display the results.\n",
    "from vector_engine.vector_engine.utils import vector_search, id2details\n",
    "\n",
    "\n",
    "def get_id(x):\n",
    "    return int(x[1:])\n",
    "    \n",
    "# df[\"id\"] = df[\"wikidata_id\"].apply(get_id)\n",
    "# df = df_rank.loc[4000000:]\n",
    "df_pdf[\"id\"] = range(len(df_pdf))\n",
    "\n",
    "# Instantiate the sentence-level DistilBERT\n",
    "# model = SentenceTransformer('distilbert-base-nli-stsb-mean-tokens')\n",
    "# model = SentenceTransformer('all-distilroberta-v1 ')\n",
    "# model = SentenceTransformer('paraphrase-MiniLM-L3-v2')\n",
    "model = SentenceTransformer('all-mpnet-base-v2')\n",
    "\n",
    "# Check if GPU is available and use it\n",
    "if torch.cuda.is_available():\n",
    "    model = model.to(torch.device(\"cuda\"))\n",
    "print(model.device)\n",
    "\n",
    "# Convert abstracts to vectors\n",
    "embeddings = model.encode(df_pdf.url.tolist(), show_progress_bar=True)\n",
    "\n",
    "print(\"saving embeddings\")\n",
    "with open('./data/embeddings_cleaned.pkl','wb') as f:\n",
    "    pickle.dump(embeddings, f, protocol=pickle.HIGHEST_PROTOCOL)\n",
    "    \n",
    "# Step 1: Change data type\n",
    "embeddings = np.array([embedding for embedding in embeddings]).astype(\"float32\")\n",
    "\n",
    "# Step 2: Instantiate the index\n",
    "index = faiss.IndexFlatL2(embeddings.shape[1])\n",
    "\n",
    "# Step 3: Pass the index to IndexIDMap\n",
    "index = faiss.IndexIDMap(index)\n",
    "\n",
    "# Step 4: Add vectors and their IDs\n",
    "index.add_with_ids(embeddings, \n",
    "                   df_pdf[\"id\"].values.astype(np.int64))\n",
    "\n",
    "print(f\"Number of vectors in the Faiss index: {index.ntotal}\")\n",
    "\n",
    "# user_query = \"sustainability report 2021, sustainability report 2020, sustainability report 2019, sustainability report 2018, ESG report, climate, social, governance\"\n",
    "# user_query = \"sustainability report 2021, sustainabilityreport2021, sustainability report 2020, sustainabilityreport2020, sustainability report 2019, sustainabilityreport2019\"\n",
    "# user_query = \"2021, 2020, 2019, sustainability report\"\n",
    "user_query = \"sustainability, SDG, ESG, climate, social, governance, environment\"\n",
    "D, I = vector_search([user_query], model, index, index.ntotal)\n",
    "df_temp = df_pdf.set_index(\"id\").loc[I[0]]\n",
    "df_temp[\"rank\"] = range(len(df_temp))\n",
    "df_temp[\"relevance_score\"] = D.flatten().tolist()\n",
    "df_temp"
   ]
  },
  {
   "cell_type": "code",
   "execution_count": 46,
   "id": "766fe263",
   "metadata": {},
   "outputs": [],
   "source": [
    "news_data = df_temp.groupby(\"company\").head(3)\n",
    "news_data.to_csv(\"temp2.csv\")"
   ]
  },
  {
   "cell_type": "code",
   "execution_count": 2,
   "id": "5ac16fe7",
   "metadata": {},
   "outputs": [],
   "source": [
    "\n",
    "import sys\n",
    "sys.path.append(\"/home/qingzhi/.conda/envs/test/lib/python3.9/site-packages\")\n",
    "import pandas as pd\n",
    "news_data = pd.read_csv(\"temp2.csv\")\n",
    "# news_data"
   ]
  },
  {
   "cell_type": "code",
   "execution_count": 5,
   "id": "c6aa405e",
   "metadata": {},
   "outputs": [
    {
     "name": "stderr",
     "output_type": "stream",
     "text": [
      "\r",
      "  0%|                                                   | 0/273 [00:00<?, ?it/s]"
     ]
    },
    {
     "name": "stdout",
     "output_type": "stream",
     "text": [
      "Problem: http://www.internationalpaper.com/apps/sustainabilityreport2013/our-approach-to-sustainability/sustainability-governance.html: HTTPSConnectionPool(host='www.internationalpaper.com', port=443): Max retries exceeded with url: /apps/sustainabilityreport2013/our-approach-to-sustainability/sustainability-governance.html (Caused by SSLError(SSLCertVerificationError(1, '[SSL: CERTIFICATE_VERIFY_FAILED] certificate verify failed: unable to get local issuer certificate (_ssl.c:1129)')))\n"
     ]
    },
    {
     "name": "stderr",
     "output_type": "stream",
     "text": [
      "  1%|▎                                          | 2/273 [00:13<31:45,  7.03s/it]"
     ]
    },
    {
     "name": "stdout",
     "output_type": "stream",
     "text": [
      "Problem: https://www.cosmote.gr/cs/otegroup/en/sustainability_governance.html: Exceeded 30 redirects.\n",
      "Problem: https://www.tdk.com/en/sustainability2021/governance/index.html: HTTPSConnectionPool(host='www.tdk.com', port=443): Read timed out. (read timeout=10)\n"
     ]
    },
    {
     "name": "stderr",
     "output_type": "stream",
     "text": [
      "  1%|▋                                          | 4/273 [00:44<51:23, 11.46s/it]"
     ]
    },
    {
     "name": "stdout",
     "output_type": "stream",
     "text": [
      "Problem: https://www.tdk.com/en/sustainability/governance/index.html: HTTPSConnectionPool(host='www.tdk.com', port=443): Read timed out. (read timeout=10)\n"
     ]
    },
    {
     "name": "stderr",
     "output_type": "stream",
     "text": [
      "  2%|▉                                          | 6/273 [00:59<39:56,  8.98s/it]"
     ]
    },
    {
     "name": "stdout",
     "output_type": "stream",
     "text": [
      "Problem: https://sparkinfrastructure.com/sustainability/2017-sustainability-report/introduction-sustainability: HTTPSConnectionPool(host='sparkinfrastructure.com', port=443): Max retries exceeded with url: /sustainability/2017-sustainability-report/introduction-sustainability (Caused by SSLError(SSLCertVerificationError(1, '[SSL: CERTIFICATE_VERIFY_FAILED] certificate verify failed: unable to get local issuer certificate (_ssl.c:1129)')))\n",
      "Problem: https://www.ntpc.co.in/en/sustainability/approach/ESGData: ('Connection aborted.', RemoteDisconnected('Remote end closed connection without response'))\n"
     ]
    },
    {
     "name": "stderr",
     "output_type": "stream",
     "text": [
      "\r",
      "  3%|█                                          | 7/273 [01:09<41:10,  9.29s/it]"
     ]
    },
    {
     "name": "stdout",
     "output_type": "stream",
     "text": [
      "Problem: https://www.emerson.com/en-us/esg/sustainability: ('Received response with content-encoding: gzip, but failed to decode it.', error('Error -3 while decompressing data: incorrect header check'))\n"
     ]
    },
    {
     "name": "stderr",
     "output_type": "stream",
     "text": [
      "  3%|█▍                                         | 9/273 [01:16<26:59,  6.13s/it]"
     ]
    },
    {
     "name": "stdout",
     "output_type": "stream",
     "text": [
      "Problem: https://www.igt.com/explore-igt/about-igt/global-responsibility/sustainability-report: HTTPSConnectionPool(host='www.igt.com', port=443): Read timed out.\n"
     ]
    },
    {
     "name": "stderr",
     "output_type": "stream",
     "text": [
      "\r",
      "  4%|█▌                                        | 10/273 [01:28<34:53,  7.96s/it]"
     ]
    },
    {
     "name": "stdout",
     "output_type": "stream",
     "text": [
      "Problem: https://www.nexteer.com/blog/advancing-our-esg-sustainability-journey/: HTTPSConnectionPool(host='www.nexteer.com', port=443): Max retries exceeded with url: /blog/advancing-our-esg-sustainability-journey/ (Caused by ConnectTimeoutError(<urllib3.connection.HTTPSConnection object at 0x7f7d8d66faf0>, 'Connection to www.nexteer.com timed out. (connect timeout=10)'))\n"
     ]
    },
    {
     "name": "stderr",
     "output_type": "stream",
     "text": [
      "\r",
      "  4%|█▋                                        | 11/273 [01:39<38:23,  8.79s/it]"
     ]
    },
    {
     "name": "stdout",
     "output_type": "stream",
     "text": [
      "Problem: https://www.tdk.com/en/sustainability/important/society_and_environmental/index.html: HTTPSConnectionPool(host='www.tdk.com', port=443): Read timed out. (read timeout=10)\n",
      "Problem: https://www.pttplc.com/en/Sustainability/Sustainabilitygovernance/Sustainabilitystrategy.aspx: HTTPSConnectionPool(host='www.pttplc.com', port=443): Max retries exceeded with url: /en/Sustainability/Sustainabilitygovernance/Sustainabilitystrategy.aspx (Caused by SSLError(SSLCertVerificationError(1, '[SSL: CERTIFICATE_VERIFY_FAILED] certificate verify failed: unable to get local issuer certificate (_ssl.c:1129)')))\n"
     ]
    },
    {
     "name": "stderr",
     "output_type": "stream",
     "text": [
      "  5%|██                                        | 13/273 [01:53<32:38,  7.53s/it]"
     ]
    },
    {
     "name": "stdout",
     "output_type": "stream",
     "text": [
      "Problem: https://www.3m.com/3M/en_US/sustainability-us/stories/full-story/~/2030-UN-sustainable-development/?storyid=6ede4528-b5c3-441c-b204-5e8b7425d3be: HTTPSConnectionPool(host='www.3m.com', port=443): Read timed out. (read timeout=10)\n"
     ]
    },
    {
     "name": "stderr",
     "output_type": "stream",
     "text": [
      "\r",
      "  5%|██▏                                       | 14/273 [02:04<38:03,  8.82s/it]"
     ]
    },
    {
     "name": "stdout",
     "output_type": "stream",
     "text": [
      "Problem: https://www.internationalpaper.com/apps/sustainabilityreport2013/our-approach-to-sustainability/our-vision.html: HTTPSConnectionPool(host='www.internationalpaper.com', port=443): Max retries exceeded with url: /apps/sustainabilityreport2013/our-approach-to-sustainability/our-vision.html (Caused by SSLError(SSLCertVerificationError(1, '[SSL: CERTIFICATE_VERIFY_FAILED] certificate verify failed: unable to get local issuer certificate (_ssl.c:1129)')))\n",
      "Problem: https://www.ree.es/en/sustainability/map-of-projects: HTTPSConnectionPool(host='www.ree.es', port=443): Read timed out. (read timeout=10)\n"
     ]
    },
    {
     "name": "stderr",
     "output_type": "stream",
     "text": [
      "\r",
      "  5%|██▎                                       | 15/273 [02:16<41:03,  9.55s/it]"
     ]
    },
    {
     "name": "stdout",
     "output_type": "stream",
     "text": [
      "Problem: https://www.internationalpaper.com/company/regions/asia/sustainability: HTTPSConnectionPool(host='www.internationalpaper.com', port=443): Max retries exceeded with url: /company/regions/asia/sustainability (Caused by SSLError(SSLCertVerificationError(1, '[SSL: CERTIFICATE_VERIFY_FAILED] certificate verify failed: unable to get local issuer certificate (_ssl.c:1129)')))\n"
     ]
    },
    {
     "name": "stderr",
     "output_type": "stream",
     "text": [
      "\r",
      "  6%|██▍                                       | 16/273 [02:24<39:32,  9.23s/it]"
     ]
    },
    {
     "name": "stdout",
     "output_type": "stream",
     "text": [
      "Problem: https://sparkinfrastructure.com/sustainability/2017-sustainability-report/sustainability-report-overview: HTTPSConnectionPool(host='sparkinfrastructure.com', port=443): Max retries exceeded with url: /sustainability/2017-sustainability-report/sustainability-report-overview (Caused by SSLError(SSLCertVerificationError(1, '[SSL: CERTIFICATE_VERIFY_FAILED] certificate verify failed: unable to get local issuer certificate (_ssl.c:1129)')))\n",
      "Problem: https://www.dnb.com/de-at/ueber-uns/werte-und-soziale-verantwortung/sustainability-reports/: HTTPSConnectionPool(host='www.dnb.com', port=443): Read timed out. (read timeout=10)\n"
     ]
    },
    {
     "name": "stderr",
     "output_type": "stream",
     "text": [
      "  7%|██▊                                       | 18/273 [02:39<33:45,  7.94s/it]"
     ]
    },
    {
     "name": "stdout",
     "output_type": "stream",
     "text": [
      "Problem: https://mercerint.com/sustainability/: ('Connection aborted.', ConnectionResetError(104, 'Connection reset by peer'))\n"
     ]
    },
    {
     "name": "stderr",
     "output_type": "stream",
     "text": [
      "\r",
      "  7%|██▉                                       | 19/273 [02:42<27:36,  6.52s/it]"
     ]
    },
    {
     "name": "stdout",
     "output_type": "stream",
     "text": [
      "Problem: https://www.pttplc.com/en/Sustainability/Sustainabilitygovernance/Network.aspx: HTTPSConnectionPool(host='www.pttplc.com', port=443): Max retries exceeded with url: /en/Sustainability/Sustainabilitygovernance/Network.aspx (Caused by SSLError(SSLCertVerificationError(1, '[SSL: CERTIFICATE_VERIFY_FAILED] certificate verify failed: unable to get local issuer certificate (_ssl.c:1129)')))\n"
     ]
    },
    {
     "name": "stderr",
     "output_type": "stream",
     "text": [
      "  8%|███▏                                      | 21/273 [02:51<22:20,  5.32s/it]"
     ]
    },
    {
     "name": "stdout",
     "output_type": "stream",
     "text": [
      "Problem: https://www.nexteer.com/release/nexteer-releases-2020-sustainability-report-demonstrates-advancement-of-companys-esg-journey/: HTTPSConnectionPool(host='www.nexteer.com', port=443): Max retries exceeded with url: /release/nexteer-releases-2020-sustainability-report-demonstrates-advancement-of-companys-esg-journey/ (Caused by ConnectTimeoutError(<urllib3.connection.HTTPSConnection object at 0x7f7d8c8d5b20>, 'Connection to www.nexteer.com timed out. (connect timeout=10)'))\n"
     ]
    },
    {
     "name": "stderr",
     "output_type": "stream",
     "text": [
      "  9%|███▋                                      | 24/273 [03:12<23:57,  5.77s/it]"
     ]
    },
    {
     "name": "stdout",
     "output_type": "stream",
     "text": [
      "Problem: https://www.atlantia.com/en/sustainability/sustainability-governance: HTTPSConnectionPool(host='www.atlantia.com', port=443): Max retries exceeded with url: /en/sustainability/sustainability-governance (Caused by SSLError(SSLCertVerificationError(1, '[SSL: CERTIFICATE_VERIFY_FAILED] certificate verify failed: unable to get local issuer certificate (_ssl.c:1129)')))\n",
      "Problem: https://www.sparkinfrastructure.com/sustainability/2017-sustainability-report: HTTPSConnectionPool(host='www.sparkinfrastructure.com', port=443): Max retries exceeded with url: /sustainability/2017-sustainability-report (Caused by SSLError(SSLCertVerificationError(1, '[SSL: CERTIFICATE_VERIFY_FAILED] certificate verify failed: unable to get local issuer certificate (_ssl.c:1129)')))\n"
     ]
    },
    {
     "name": "stderr",
     "output_type": "stream",
     "text": [
      "\r",
      "  9%|███▊                                      | 25/273 [03:20<26:54,  6.51s/it]"
     ]
    },
    {
     "name": "stdout",
     "output_type": "stream",
     "text": [
      "Problem: https://csr.unifirst.com/sustainability/: HTTPSConnectionPool(host='csr.unifirst.com', port=443): Max retries exceeded with url: /sustainability/ (Caused by SSLError(SSLCertVerificationError(1, '[SSL: CERTIFICATE_VERIFY_FAILED] certificate verify failed: unable to get local issuer certificate (_ssl.c:1129)')))\n"
     ]
    },
    {
     "name": "stderr",
     "output_type": "stream",
     "text": [
      "\r",
      " 10%|████                                      | 26/273 [03:23<22:20,  5.43s/it]"
     ]
    },
    {
     "name": "stdout",
     "output_type": "stream",
     "text": [
      "Problem: https://www.ntpc.co.in/en/sustainability/approach: HTTPSConnectionPool(host='www.ntpc.co.in', port=443): Read timed out. (read timeout=10)\n"
     ]
    },
    {
     "name": "stderr",
     "output_type": "stream",
     "text": [
      "\r",
      " 10%|████▏                                     | 27/273 [03:35<30:21,  7.40s/it]"
     ]
    },
    {
     "name": "stdout",
     "output_type": "stream",
     "text": [
      "Problem: https://www.ntpc.co.in/en/sustainability/approach/governance: ('Connection aborted.', RemoteDisconnected('Remote end closed connection without response'))\n",
      "Problem: https://www.cmegroup.com/openmarkets/equity-index/risk-reward-sustainability-future-proofing-esg-economy.html: HTTPSConnectionPool(host='www.cmegroup.com', port=443): Read timed out. (read timeout=10)\n"
     ]
    },
    {
     "name": "stderr",
     "output_type": "stream",
     "text": [
      "\r",
      " 10%|████▎                                     | 28/273 [03:46<34:51,  8.54s/it]"
     ]
    },
    {
     "name": "stdout",
     "output_type": "stream",
     "text": [
      "Problem: https://www.ecolab.com/corporate-responsibility/sustainability-progress-report: HTTPSConnectionPool(host='www.ecolab.com', port=443): Read timed out. (read timeout=10)\n"
     ]
    },
    {
     "name": "stderr",
     "output_type": "stream",
     "text": [
      " 11%|████▌                                     | 30/273 [04:00<30:14,  7.47s/it]"
     ]
    },
    {
     "name": "stdout",
     "output_type": "stream",
     "text": [
      "Problem: https://edgewell.com/sustainability/: HTTPSConnectionPool(host='edgewell.com', port=443): Max retries exceeded with url: /sustainability/ (Caused by SSLError(SSLCertVerificationError(1, '[SSL: CERTIFICATE_VERIFY_FAILED] certificate verify failed: unable to get local issuer certificate (_ssl.c:1129)')))\n",
      "Problem: https://www.3m.com/3M/en_US/sustainability-us/goals-progress/: HTTPSConnectionPool(host='www.3m.com', port=443): Read timed out. (read timeout=10)\n"
     ]
    },
    {
     "name": "stderr",
     "output_type": "stream",
     "text": [
      "\r",
      " 11%|████▊                                     | 31/273 [04:11<34:06,  8.46s/it]"
     ]
    },
    {
     "name": "stdout",
     "output_type": "stream",
     "text": [
      "Problem: https://www.dnb.com/sr-latn/o-nama/our-values-and-csr/sustainability-reports/: HTTPSConnectionPool(host='www.dnb.com', port=443): Read timed out. (read timeout=10)\n",
      "Problem: https://www.3m.com/3M/en_US/sustainability-us/: HTTPSConnectionPool(host='www.3m.com', port=443): Read timed out. (read timeout=10)\n"
     ]
    },
    {
     "name": "stderr",
     "output_type": "stream",
     "text": [
      "\r",
      " 12%|████▉                                     | 32/273 [04:22<37:18,  9.29s/it]"
     ]
    },
    {
     "name": "stdout",
     "output_type": "stream",
     "text": [
      "Problem: https://www.uralkali.com/sustainability/esg-portal/esg-news/item45474/: HTTPSConnectionPool(host='www.uralkali.com', port=443): Max retries exceeded with url: /sustainability/esg-portal/esg-news/item45474/ (Caused by ConnectTimeoutError(<urllib3.connection.HTTPSConnection object at 0x7f7da422e550>, 'Connection to www.uralkali.com timed out. (connect timeout=10)'))\n"
     ]
    },
    {
     "name": "stderr",
     "output_type": "stream",
     "text": [
      " 13%|█████▍                                    | 35/273 [04:44<29:27,  7.43s/it]"
     ]
    },
    {
     "name": "stdout",
     "output_type": "stream",
     "text": [
      "Problem: https://www.incitecpivot.com.au/sustainability/sustainability-report: HTTPSConnectionPool(host='www.incitecpivot.com.au', port=443): Max retries exceeded with url: /sustainability/sustainability-report (Caused by SSLError(SSLCertVerificationError(1, '[SSL: CERTIFICATE_VERIFY_FAILED] certificate verify failed: unable to get local issuer certificate (_ssl.c:1129)')))\n"
     ]
    },
    {
     "name": "stderr",
     "output_type": "stream",
     "text": [
      " 14%|█████▊                                    | 38/273 [05:07<33:40,  8.60s/it]"
     ]
    },
    {
     "name": "stdout",
     "output_type": "stream",
     "text": [
      "Problem: https://www.biffa.co.uk/sustainability/governance: HTTPSConnectionPool(host='www.biffa.co.uk', port=443): Max retries exceeded with url: /sustainability/governance (Caused by ConnectTimeoutError(<urllib3.connection.HTTPSConnection object at 0x7f7d8c6ee5b0>, 'Connection to www.biffa.co.uk timed out. (connect timeout=10)'))\n"
     ]
    },
    {
     "name": "stderr",
     "output_type": "stream",
     "text": [
      "\r",
      " 14%|██████                                    | 39/273 [05:18<35:44,  9.17s/it]"
     ]
    },
    {
     "name": "stdout",
     "output_type": "stream",
     "text": [
      "Problem: https://www.pttplc.com/en/Sustainability.aspx: HTTPSConnectionPool(host='www.pttplc.com', port=443): Max retries exceeded with url: /en/Sustainability.aspx (Caused by SSLError(SSLCertVerificationError(1, '[SSL: CERTIFICATE_VERIFY_FAILED] certificate verify failed: unable to get local issuer certificate (_ssl.c:1129)')))\n",
      "Problem: https://www.mando.com/eng/sustainability/sustain02.jsp: HTTPSConnectionPool(host='www.mando.com', port=443): Max retries exceeded with url: /eng/sustainability/sustain02.jsp (Caused by SSLError(SSLCertVerificationError(1, '[SSL: CERTIFICATE_VERIFY_FAILED] certificate verify failed: unable to get local issuer certificate (_ssl.c:1129)')))\n"
     ]
    },
    {
     "name": "stderr",
     "output_type": "stream",
     "text": [
      "\r",
      " 15%|██████▏                                   | 40/273 [05:22<29:24,  7.57s/it]"
     ]
    },
    {
     "name": "stdout",
     "output_type": "stream",
     "text": [
      "Problem: https://www.berryglobal.com/sustainability-policy: HTTPSConnectionPool(host='www.berryglobal.com', port=443): Max retries exceeded with url: /sustainability-policy (Caused by SSLError(SSLCertVerificationError(1, '[SSL: CERTIFICATE_VERIFY_FAILED] certificate verify failed: unable to get local issuer certificate (_ssl.c:1129)')))\n"
     ]
    },
    {
     "name": "stderr",
     "output_type": "stream",
     "text": [
      " 15%|██████▍                                   | 42/273 [05:29<21:25,  5.56s/it]"
     ]
    },
    {
     "name": "stdout",
     "output_type": "stream",
     "text": [
      "Problem: https://www.berryglobal.com/sustainability/social: HTTPSConnectionPool(host='www.berryglobal.com', port=443): Max retries exceeded with url: /sustainability/social (Caused by SSLError(SSLCertVerificationError(1, '[SSL: CERTIFICATE_VERIFY_FAILED] certificate verify failed: unable to get local issuer certificate (_ssl.c:1129)')))\n",
      "Problem: https://www.powergrid.in/sustainability-report: HTTPSConnectionPool(host='www.powergrid.in', port=443): Max retries exceeded with url: /sustainability-report (Caused by SSLError(SSLCertVerificationError(1, '[SSL: CERTIFICATE_VERIFY_FAILED] certificate verify failed: unable to get local issuer certificate (_ssl.c:1129)')))\n",
      "Problem: https://www.belden.com/es-es/resources/sustainability: HTTPSConnectionPool(host='www.belden.com', port=443): Read timed out. (read timeout=10)\n"
     ]
    },
    {
     "name": "stderr",
     "output_type": "stream",
     "text": [
      " 17%|███████                                   | 46/273 [06:04<25:08,  6.64s/it]"
     ]
    },
    {
     "name": "stdout",
     "output_type": "stream",
     "text": [
      "Problem: https://www.fordotosan.com.tr/en/sustainability/society-and-environment: HTTPSConnectionPool(host='www.fordotosan.com.tr', port=443): Max retries exceeded with url: /en/sustainability/society-and-environment (Caused by SSLError(SSLCertVerificationError(1, '[SSL: CERTIFICATE_VERIFY_FAILED] certificate verify failed: unable to get local issuer certificate (_ssl.c:1129)')))\n"
     ]
    },
    {
     "name": "stderr",
     "output_type": "stream",
     "text": [
      " 18%|███████▍                                  | 48/273 [06:10<17:39,  4.71s/it]"
     ]
    },
    {
     "name": "stdout",
     "output_type": "stream",
     "text": [
      "Problem: https://www.akamai.com/de/company/corporate-responsibility/sustainability: HTTPSConnectionPool(host='www.akamai.com', port=443): Read timed out. (read timeout=10)\n",
      "Problem: https://www.nexteer.com/sustainability/: HTTPSConnectionPool(host='www.nexteer.com', port=443): Max retries exceeded with url: /sustainability/ (Caused by ConnectTimeoutError(<urllib3.connection.HTTPSConnection object at 0x7f7d8d710e80>, 'Connection to www.nexteer.com timed out. (connect timeout=10)'))\n",
      "Problem: https://www.atlantia.com/en/w/we-are-a-sustainability-leader-with-our-admission-to-mib-esg-index: HTTPSConnectionPool(host='www.atlantia.com', port=443): Max retries exceeded with url: /en/w/we-are-a-sustainability-leader-with-our-admission-to-mib-esg-index (Caused by SSLError(SSLCertVerificationError(1, '[SSL: CERTIFICATE_VERIFY_FAILED] certificate verify failed: unable to get local issuer certificate (_ssl.c:1129)')))\n"
     ]
    },
    {
     "name": "stderr",
     "output_type": "stream",
     "text": [
      "\r",
      " 18%|███████▌                                  | 49/273 [06:21<24:55,  6.68s/it]"
     ]
    },
    {
     "name": "stdout",
     "output_type": "stream",
     "text": [
      "Problem: https://www.mando.com/m/eng/sustainability/sustain17.jsp: HTTPSConnectionPool(host='www.mando.com', port=443): Max retries exceeded with url: /m/eng/sustainability/sustain17.jsp (Caused by SSLError(SSLCertVerificationError(1, '[SSL: CERTIFICATE_VERIFY_FAILED] certificate verify failed: unable to get local issuer certificate (_ssl.c:1129)')))\n"
     ]
    },
    {
     "name": "stderr",
     "output_type": "stream",
     "text": [
      "\r",
      " 18%|███████▋                                  | 50/273 [06:24<20:38,  5.56s/it]"
     ]
    },
    {
     "name": "stdout",
     "output_type": "stream",
     "text": [
      "Problem: https://www.sberbank.com/sustainability/ecology: HTTPSConnectionPool(host='www.sberbank.com', port=443): Max retries exceeded with url: /sustainability/ecology (Caused by ConnectTimeoutError(<urllib3.connection.HTTPSConnection object at 0x7f7d8d636eb0>, 'Connection to www.sberbank.com timed out. (connect timeout=10)'))\n"
     ]
    },
    {
     "name": "stderr",
     "output_type": "stream",
     "text": [
      "\r",
      " 19%|███████▊                                  | 51/273 [06:35<26:30,  7.16s/it]"
     ]
    },
    {
     "name": "stdout",
     "output_type": "stream",
     "text": [
      "Problem: https://www.clearwaterpaper.com/sustainability/sustainability-spotlight/default.aspx: HTTPSConnectionPool(host='www.clearwaterpaper.com', port=443): Max retries exceeded with url: /sustainability/sustainability-spotlight/default.aspx (Caused by NewConnectionError('<urllib3.connection.HTTPSConnection object at 0x7f7d8c8c54c0>: Failed to establish a new connection: [Errno -2] Name or service not known'))\n"
     ]
    },
    {
     "name": "stderr",
     "output_type": "stream",
     "text": [
      "\r",
      " 19%|████████                                  | 52/273 [06:37<20:53,  5.67s/it]"
     ]
    },
    {
     "name": "stdout",
     "output_type": "stream",
     "text": [
      "Problem: https://www.akamai.com/company/corporate-responsibility/sustainability: HTTPSConnectionPool(host='www.akamai.com', port=443): Read timed out. (read timeout=10)\n",
      "Problem: https://tassalgroup.com.au/our-planet/reports/sustainability/: HTTPSConnectionPool(host='tassalgroup.com.au', port=443): Max retries exceeded with url: /our-planet/reports/sustainability/ (Caused by NewConnectionError('<urllib3.connection.HTTPSConnection object at 0x7f7d8c845a30>: Failed to establish a new connection: [Errno -3] Temporary failure in name resolution'))\n"
     ]
    },
    {
     "name": "stderr",
     "output_type": "stream",
     "text": [
      " 20%|████████▎                                 | 54/273 [06:56<27:27,  7.52s/it]"
     ]
    },
    {
     "name": "stdout",
     "output_type": "stream",
     "text": [
      "Problem: https://www.siteone.com/environmental-sustainability: HTTPSConnectionPool(host='www.siteone.com', port=443): Read timed out. (read timeout=10)\n"
     ]
    },
    {
     "name": "stderr",
     "output_type": "stream",
     "text": [
      "\r",
      " 20%|████████▍                                 | 55/273 [07:07<31:10,  8.58s/it]"
     ]
    },
    {
     "name": "stdout",
     "output_type": "stream",
     "text": [
      "Problem: https://www.bhp.com/sustainability/approach: HTTPSConnectionPool(host='www.bhp.com', port=443): Read timed out. (read timeout=10)\n",
      "Problem: https://www.bhp.com/sustainability/approach: HTTPSConnectionPool(host='www.bhp.com', port=443): Read timed out. (read timeout=10)\n"
     ]
    },
    {
     "name": "stderr",
     "output_type": "stream",
     "text": [
      "\r",
      " 21%|████████▌                                 | 56/273 [07:18<33:43,  9.32s/it]"
     ]
    },
    {
     "name": "stdout",
     "output_type": "stream",
     "text": [
      "Problem: https://corporate.heimstaden.com/sustainability/sustainability/default.aspx: HTTPSConnectionPool(host='corporate.heimstaden.com', port=443): Max retries exceeded with url: /sustainability/sustainability/default.aspx (Caused by NewConnectionError('<urllib3.connection.HTTPSConnection object at 0x7f7d8d2de250>: Failed to establish a new connection: [Errno 101] Network is unreachable'))\n"
     ]
    },
    {
     "name": "stderr",
     "output_type": "stream",
     "text": [
      " 22%|█████████                                 | 59/273 [07:31<20:50,  5.84s/it]"
     ]
    },
    {
     "name": "stdout",
     "output_type": "stream",
     "text": [
      "Problem: https://www.bhp.com/investors/esg-sustainability: HTTPSConnectionPool(host='www.bhp.com', port=443): Read timed out. (read timeout=10)\n",
      "Problem: https://www.bhp.com/investors/esg-sustainability: HTTPSConnectionPool(host='www.bhp.com', port=443): Read timed out. (read timeout=10)\n"
     ]
    },
    {
     "name": "stderr",
     "output_type": "stream",
     "text": [
      " 22%|█████████▍                                | 61/273 [07:49<25:00,  7.08s/it]"
     ]
    },
    {
     "name": "stdout",
     "output_type": "stream",
     "text": [
      "Problem: https://www.nasdaq.com/press-release/huize-releases-inaugural-environmental-social-and-governance-esg-report-2021-09-30: HTTPSConnectionPool(host='www.nasdaq.com', port=443): Read timed out. (read timeout=10)\n"
     ]
    },
    {
     "name": "stderr",
     "output_type": "stream",
     "text": [
      " 23%|█████████▋                                | 63/273 [08:06<26:33,  7.59s/it]"
     ]
    },
    {
     "name": "stdout",
     "output_type": "stream",
     "text": [
      "Problem: https://www.polymetalinternational.com/en/sustainability/sustainability-faq/: ('Connection aborted.', ConnectionResetError(104, 'Connection reset by peer'))\n",
      "Problem: https://www.atlantia.com/en/sustainability/sustainability-for-us: HTTPSConnectionPool(host='www.atlantia.com', port=443): Max retries exceeded with url: /en/sustainability/sustainability-for-us (Caused by SSLError(SSLCertVerificationError(1, '[SSL: CERTIFICATE_VERIFY_FAILED] certificate verify failed: unable to get local issuer certificate (_ssl.c:1129)')))\n"
     ]
    },
    {
     "name": "stderr",
     "output_type": "stream",
     "text": [
      " 24%|██████████                                | 65/273 [08:22<27:01,  7.80s/it]"
     ]
    },
    {
     "name": "stdout",
     "output_type": "stream",
     "text": [
      "Problem: https://lipetsk.nlmk.com/en/responsibility/ecology/: HTTPSConnectionPool(host='lipetsk.nlmk.com', port=443): Max retries exceeded with url: /en/responsibility/ecology/ (Caused by ConnectTimeoutError(<urllib3.connection.HTTPSConnection object at 0x7f7d8d5f3040>, 'Connection to lipetsk.nlmk.com timed out. (connect timeout=10)'))\n"
     ]
    },
    {
     "name": "stderr",
     "output_type": "stream",
     "text": [
      "\r",
      " 24%|██████████▏                               | 66/273 [08:33<29:51,  8.65s/it]"
     ]
    },
    {
     "name": "stdout",
     "output_type": "stream",
     "text": [
      "Problem: https://ir.unfi.com/news/press-release-details/2020/UNFI-Announces-2019-Report-on-Social-and-Environmental-Responsibility/default.aspx: HTTPSConnectionPool(host='ir.unfi.com', port=443): Max retries exceeded with url: /news/press-release-details/2020/UNFI-Announces-2019-Report-on-Social-and-Environmental-Responsibility/default.aspx (Caused by NewConnectionError('<urllib3.connection.HTTPSConnection object at 0x7f7d8c7c8e50>: Failed to establish a new connection: [Errno -2] Name or service not known'))\n"
     ]
    },
    {
     "name": "stderr",
     "output_type": "stream",
     "text": [
      "\r",
      " 25%|██████████▎                               | 67/273 [08:38<26:09,  7.62s/it]"
     ]
    },
    {
     "name": "stdout",
     "output_type": "stream",
     "text": [
      "Problem: https://www.ecolab.com/corporate-responsibility/environment/global-sustainability-partnerships: HTTPSConnectionPool(host='www.ecolab.com', port=443): Read timed out. (read timeout=10)\n",
      "Problem: https://www.fordotosan.com.tr/en/sustainability/sustainability-approach: HTTPSConnectionPool(host='www.fordotosan.com.tr', port=443): Max retries exceeded with url: /en/sustainability/sustainability-approach (Caused by SSLError(SSLCertVerificationError(1, '[SSL: CERTIFICATE_VERIFY_FAILED] certificate verify failed: unable to get local issuer certificate (_ssl.c:1129)')))\n"
     ]
    },
    {
     "name": "stderr",
     "output_type": "stream",
     "text": [
      "\r",
      " 25%|██████████▍                               | 68/273 [08:49<29:07,  8.53s/it]"
     ]
    },
    {
     "name": "stdout",
     "output_type": "stream",
     "text": [
      "Problem: https://www.elcorteingles.com/en/sustainability/what-do-we-do/: HTTPSConnectionPool(host='www.elcorteingles.com', port=443): Read timed out. (read timeout=10)\n",
      "Problem: https://www.axiata.com/index.php/sustainability: HTTPSConnectionPool(host='www.axiata.com', port=443): Max retries exceeded with url: /index.php/sustainability (Caused by SSLError(SSLEOFError(8, 'EOF occurred in violation of protocol (_ssl.c:1129)')))\n"
     ]
    },
    {
     "name": "stderr",
     "output_type": "stream",
     "text": [
      "\r",
      " 25%|██████████▌                               | 69/273 [08:59<31:01,  9.12s/it]"
     ]
    },
    {
     "name": "stdout",
     "output_type": "stream",
     "text": [
      "Problem: https://www.pgecorp.com/corp/responsibility-sustainability/corporate-responsibility-sustainability.page: HTTPSConnectionPool(host='www.pgecorp.com', port=443): Max retries exceeded with url: /corp/responsibility-sustainability/corporate-responsibility-sustainability.page (Caused by NewConnectionError('<urllib3.connection.HTTPSConnection object at 0x7f7d8c415e80>: Failed to establish a new connection: [Errno -3] Temporary failure in name resolution'))\n"
     ]
    },
    {
     "name": "stderr",
     "output_type": "stream",
     "text": [
      "\r",
      " 26%|██████████▊                               | 70/273 [09:10<32:10,  9.51s/it]"
     ]
    },
    {
     "name": "stdout",
     "output_type": "stream",
     "text": [
      "Problem: https://summit-materials.com/sustainability/environment/: HTTPSConnectionPool(host='summit-materials.com', port=443): Read timed out. (read timeout=10)\n"
     ]
    },
    {
     "name": "stderr",
     "output_type": "stream",
     "text": [
      "\r",
      " 26%|██████████▉                               | 71/273 [09:21<33:23,  9.92s/it]"
     ]
    },
    {
     "name": "stdout",
     "output_type": "stream",
     "text": [
      "Problem: https://www.bhp.com/sustainability/environment: HTTPSConnectionPool(host='www.bhp.com', port=443): Read timed out. (read timeout=10)\n",
      "Problem: https://www.bhp.com/sustainability/environment: HTTPSConnectionPool(host='www.bhp.com', port=443): Read timed out. (read timeout=10)\n"
     ]
    },
    {
     "name": "stderr",
     "output_type": "stream",
     "text": [
      "\r",
      " 26%|███████████                               | 72/273 [09:31<33:45, 10.08s/it]"
     ]
    },
    {
     "name": "stdout",
     "output_type": "stream",
     "text": [
      "Problem: https://mercerint.com/sustainability/climate-change/: ('Connection aborted.', ConnectionResetError(104, 'Connection reset by peer'))\n",
      "Problem: https://www.ecolab.com/corporate-responsibility/environment/product-sustainability: HTTPSConnectionPool(host='www.ecolab.com', port=443): Read timed out. (read timeout=10)\n",
      "Problem: https://www.igt.com/explore-igt/about-igt/global-responsibility: HTTPSConnectionPool(host='www.igt.com', port=443): Read timed out.\n"
     ]
    },
    {
     "name": "stderr",
     "output_type": "stream",
     "text": [
      " 27%|███████████▌                              | 75/273 [09:54<27:42,  8.40s/it]"
     ]
    },
    {
     "name": "stdout",
     "output_type": "stream",
     "text": [
      "Problem: https://www.metawater.co.jp/eng/csr/sustainable/: HTTPSConnectionPool(host='www.metawater.co.jp', port=443): Max retries exceeded with url: /eng/csr/sustainable/ (Caused by SSLError(SSLCertVerificationError(1, '[SSL: CERTIFICATE_VERIFY_FAILED] certificate verify failed: unable to get local issuer certificate (_ssl.c:1129)')))\n",
      "Problem: https://www.incitecpivot.com.au/sustainability/: HTTPSConnectionPool(host='www.incitecpivot.com.au', port=443): Max retries exceeded with url: /sustainability/ (Caused by SSLError(SSLCertVerificationError(1, '[SSL: CERTIFICATE_VERIFY_FAILED] certificate verify failed: unable to get local issuer certificate (_ssl.c:1129)')))\n"
     ]
    },
    {
     "name": "stderr",
     "output_type": "stream",
     "text": [
      "\r",
      " 28%|███████████▋                              | 76/273 [10:00<25:13,  7.68s/it]"
     ]
    },
    {
     "name": "stdout",
     "output_type": "stream",
     "text": [
      "Problem: http://www.metawater.co.jp/eng/csr/environment/: HTTPSConnectionPool(host='www.metawater.co.jp', port=443): Max retries exceeded with url: /eng/csr/environment/ (Caused by SSLError(SSLCertVerificationError(1, '[SSL: CERTIFICATE_VERIFY_FAILED] certificate verify failed: unable to get local issuer certificate (_ssl.c:1129)')))\n"
     ]
    },
    {
     "name": "stderr",
     "output_type": "stream",
     "text": [
      "\r",
      " 28%|███████████▊                              | 77/273 [10:06<23:03,  7.06s/it]"
     ]
    },
    {
     "name": "stdout",
     "output_type": "stream",
     "text": [
      "Problem: https://www.avangrid.com/wps/portal/avangrid/sustainability/SustainableBusiness/governance: HTTPSConnectionPool(host='www.avangrid.com', port=443): Max retries exceeded with url: /wps/portal/avangrid/sustainability/SustainableBusiness/governance (Caused by ConnectTimeoutError(<urllib3.connection.HTTPSConnection object at 0x7f7d8cdf43d0>, 'Connection to www.avangrid.com timed out. (connect timeout=10)'))\n",
      "Problem: https://www.tvo.fi/en/index/responsibility/environmentalresponsibility.html: HTTPSConnectionPool(host='www.tvo.fi', port=443): Max retries exceeded with url: /en/index/responsibility/environmentalresponsibility.html (Caused by SSLError(SSLCertVerificationError(1, '[SSL: CERTIFICATE_VERIFY_FAILED] certificate verify failed: unable to get local issuer certificate (_ssl.c:1129)')))\n",
      "Problem: https://www.incitecpivot.com.au/sustainability/sustainability-report/ipl-cdp-reports: HTTPSConnectionPool(host='www.incitecpivot.com.au', port=443): Max retries exceeded with url: /sustainability/sustainability-report/ipl-cdp-reports (Caused by SSLError(SSLCertVerificationError(1, '[SSL: CERTIFICATE_VERIFY_FAILED] certificate verify failed: unable to get local issuer certificate (_ssl.c:1129)')))\n"
     ]
    },
    {
     "name": "stderr",
     "output_type": "stream",
     "text": [
      "\r",
      " 29%|████████████                              | 78/273 [10:16<26:17,  8.09s/it]"
     ]
    },
    {
     "name": "stdout",
     "output_type": "stream",
     "text": [
      "Problem: https://www.nasdaq.com/press-release/azek-releases-inaugural-environmental-social-and-governance-esg-report-titled-full: HTTPSConnectionPool(host='www.nasdaq.com', port=443): Read timed out. (read timeout=10)\n"
     ]
    },
    {
     "name": "stderr",
     "output_type": "stream",
     "text": [
      "\r",
      " 29%|████████████▏                             | 79/273 [10:27<29:04,  8.99s/it]"
     ]
    },
    {
     "name": "stdout",
     "output_type": "stream",
     "text": [
      "Problem: https://www.unicreditgroup.eu/en/a-sustainable-bank/our-new-esg-targets.html: HTTPSConnectionPool(host='www.unicreditgroup.eu', port=443): Read timed out. (read timeout=10)\n",
      "Problem: https://www.berryglobal.com/sustainability/environment: HTTPSConnectionPool(host='www.berryglobal.com', port=443): Max retries exceeded with url: /sustainability/environment (Caused by SSLError(SSLCertVerificationError(1, '[SSL: CERTIFICATE_VERIFY_FAILED] certificate verify failed: unable to get local issuer certificate (_ssl.c:1129)')))\n"
     ]
    },
    {
     "name": "stderr",
     "output_type": "stream",
     "text": [
      " 30%|████████████▌                             | 82/273 [10:50<23:57,  7.53s/it]"
     ]
    },
    {
     "name": "stdout",
     "output_type": "stream",
     "text": [
      "Problem: https://www.emerson.com/en-us/esg/environment: ('Received response with content-encoding: gzip, but failed to decode it.', error('Error -3 while decompressing data: incorrect header check'))\n"
     ]
    },
    {
     "name": "stderr",
     "output_type": "stream",
     "text": [
      "\r",
      " 30%|████████████▊                             | 83/273 [10:58<23:40,  7.48s/it]"
     ]
    },
    {
     "name": "stdout",
     "output_type": "stream",
     "text": [
      "Problem: https://www.kbhome.com/blog/sustainability/data-reporting/social-performance-overview: HTTPSConnectionPool(host='www.kbhome.com', port=443): Max retries exceeded with url: /blog/sustainability/data-reporting/social-performance-overview (Caused by SSLError(SSLCertVerificationError(1, '[SSL: CERTIFICATE_VERIFY_FAILED] certificate verify failed: unable to get local issuer certificate (_ssl.c:1129)')))\n"
     ]
    },
    {
     "name": "stderr",
     "output_type": "stream",
     "text": [
      "\r",
      " 31%|████████████▉                             | 84/273 [11:01<19:33,  6.21s/it]"
     ]
    },
    {
     "name": "stdout",
     "output_type": "stream",
     "text": [
      "Problem: https://www.fordotosan.com.tr/en/sustainability/sustainability-reports: HTTPSConnectionPool(host='www.fordotosan.com.tr', port=443): Max retries exceeded with url: /en/sustainability/sustainability-reports (Caused by SSLError(SSLCertVerificationError(1, '[SSL: CERTIFICATE_VERIFY_FAILED] certificate verify failed: unable to get local issuer certificate (_ssl.c:1129)')))\n",
      "Problem: https://www.ubs.com/global/en/our-firm/our-purpose/sustainability-and-impact.html: HTTPSConnectionPool(host='www.ubs.com', port=443): Read timed out. (read timeout=10)\n"
     ]
    },
    {
     "name": "stderr",
     "output_type": "stream",
     "text": [
      " 32%|█████████████▏                            | 86/273 [11:20<22:43,  7.29s/it]"
     ]
    },
    {
     "name": "stdout",
     "output_type": "stream",
     "text": [
      "Problem: https://en.weichaipower.com/about/sustainability/: HTTPSConnectionPool(host='en.weichaipower.com', port=443): Max retries exceeded with url: /about/sustainability/ (Caused by SSLError(SSLCertVerificationError(1, '[SSL: CERTIFICATE_VERIFY_FAILED] certificate verify failed: unable to get local issuer certificate (_ssl.c:1129)')))\n",
      "Problem: https://www.scientificgames.com/about/social-responsibility/environmental-sustainability/: HTTPSConnectionPool(host='www.scientificgames.com', port=443): Max retries exceeded with url: /about/social-responsibility/environmental-sustainability/ (Caused by SSLError(SSLCertVerificationError(1, '[SSL: CERTIFICATE_VERIFY_FAILED] certificate verify failed: unable to get local issuer certificate (_ssl.c:1129)')))\n",
      "Problem: https://www.westrock.com/sustainability: HTTPSConnectionPool(host='www.westrock.com', port=443): Max retries exceeded with url: /sustainability (Caused by SSLError(SSLCertVerificationError(1, '[SSL: CERTIFICATE_VERIFY_FAILED] certificate verify failed: unable to get local issuer certificate (_ssl.c:1129)')))\n"
     ]
    },
    {
     "name": "stderr",
     "output_type": "stream",
     "text": [
      "\r",
      " 32%|█████████████▍                            | 87/273 [11:26<21:46,  7.02s/it]"
     ]
    },
    {
     "name": "stdout",
     "output_type": "stream",
     "text": [
      "Problem: https://en.weichaipower.com/about/sustainability/csr/: HTTPSConnectionPool(host='en.weichaipower.com', port=443): Max retries exceeded with url: /about/sustainability/csr/ (Caused by SSLError(SSLCertVerificationError(1, '[SSL: CERTIFICATE_VERIFY_FAILED] certificate verify failed: unable to get local issuer certificate (_ssl.c:1129)')))\n"
     ]
    },
    {
     "name": "stderr",
     "output_type": "stream",
     "text": [
      " 33%|█████████████▋                            | 89/273 [11:37<18:19,  5.98s/it]"
     ]
    },
    {
     "name": "stdout",
     "output_type": "stream",
     "text": [
      "Problem: https://www.unicreditgroup.eu/en/a-sustainable-bank/sustainability-governance.html: HTTPSConnectionPool(host='www.unicreditgroup.eu', port=443): Read timed out. (read timeout=10)\n"
     ]
    },
    {
     "name": "stderr",
     "output_type": "stream",
     "text": [
      "\r",
      " 33%|█████████████▊                            | 90/273 [11:47<22:38,  7.42s/it]"
     ]
    },
    {
     "name": "stdout",
     "output_type": "stream",
     "text": [
      "Problem: https://www.metawater.co.jp/eng/csr/environment/policy/: HTTPSConnectionPool(host='www.metawater.co.jp', port=443): Max retries exceeded with url: /eng/csr/environment/policy/ (Caused by SSLError(SSLCertVerificationError(1, '[SSL: CERTIFICATE_VERIFY_FAILED] certificate verify failed: unable to get local issuer certificate (_ssl.c:1129)')))\n"
     ]
    },
    {
     "name": "stderr",
     "output_type": "stream",
     "text": [
      " 35%|██████████████▌                           | 95/273 [12:13<15:03,  5.07s/it]"
     ]
    },
    {
     "name": "stdout",
     "output_type": "stream",
     "text": [
      "Problem: https://www.metlife.com/sustainability/MetLife-sustainability/: HTTPSConnectionPool(host='www.metlife.com', port=443): Read timed out. (read timeout=10)\n",
      "Problem: https://www.akamai.com/blog/culture/tech-that-makes-a-difference-sustainability: HTTPSConnectionPool(host='www.akamai.com', port=443): Read timed out. (read timeout=10)\n"
     ]
    },
    {
     "name": "stderr",
     "output_type": "stream",
     "text": [
      " 36%|██████████████▉                           | 97/273 [12:28<17:26,  5.95s/it]"
     ]
    },
    {
     "name": "stdout",
     "output_type": "stream",
     "text": [
      "Problem: https://www.yesbank.in/about-us/sustainability-at-yes-bank/esg-disclosures/esg-policies: HTTPSConnectionPool(host='www.yesbank.in', port=443): Read timed out. (read timeout=10)\n"
     ]
    },
    {
     "name": "stderr",
     "output_type": "stream",
     "text": [
      "\r",
      " 36%|███████████████                           | 98/273 [12:38<21:20,  7.32s/it]"
     ]
    },
    {
     "name": "stdout",
     "output_type": "stream",
     "text": [
      "Problem: https://www.applus.com/global/en/news/sustainalytics-ranks-applus+-among-the-leading-companies-fronting-environmental,-social-and-governance-risks: HTTPSConnectionPool(host='www.applus.com', port=443): Read timed out. (read timeout=10)\n",
      "Problem: https://mercerint.com/news/2021/sustainability-does-not-come-for-free/: ('Connection aborted.', ConnectionResetError(104, 'Connection reset by peer'))\n",
      "Problem: https://www.westrock.com/sustainability/policies-and-certifications: HTTPSConnectionPool(host='www.westrock.com', port=443): Max retries exceeded with url: /sustainability/policies-and-certifications (Caused by SSLError(SSLCertVerificationError(1, '[SSL: CERTIFICATE_VERIFY_FAILED] certificate verify failed: unable to get local issuer certificate (_ssl.c:1129)')))\n"
     ]
    },
    {
     "name": "stderr",
     "output_type": "stream",
     "text": [
      "\r",
      " 36%|███████████████▏                          | 99/273 [12:49<24:11,  8.34s/it]"
     ]
    },
    {
     "name": "stdout",
     "output_type": "stream",
     "text": [
      "Problem: https://www.dnb.com/en-ch/about-us/corporate-sustainabillity/sustainability-reports/: HTTPSConnectionPool(host='www.dnb.com', port=443): Read timed out. (read timeout=10)\n",
      "Problem: https://www.enterpriseproducts.com/2019-2020-sustainability-report-viewer/: HTTPSConnectionPool(host='www.enterpriseproducts.com', port=443): Max retries exceeded with url: /2019-2020-sustainability-report-viewer/ (Caused by SSLError(SSLCertVerificationError(1, '[SSL: CERTIFICATE_VERIFY_FAILED] certificate verify failed: unable to get local issuer certificate (_ssl.c:1129)')))\n"
     ]
    },
    {
     "name": "stderr",
     "output_type": "stream",
     "text": [
      " 37%|███████████████▏                         | 101/273 [13:06<23:46,  8.29s/it]"
     ]
    },
    {
     "name": "stdout",
     "output_type": "stream",
     "text": [
      "Problem: https://www.grainger.com/know-how/business-operations/sustainable-practices/kh-sustainability-work: HTTPSConnectionPool(host='www.grainger.com', port=443): Read timed out. (read timeout=10)\n",
      "Problem: https://en.weichaipower.com/about/sustainability/we_are_in_action/: HTTPSConnectionPool(host='en.weichaipower.com', port=443): Max retries exceeded with url: /about/sustainability/we_are_in_action/ (Caused by SSLError(SSLCertVerificationError(1, '[SSL: CERTIFICATE_VERIFY_FAILED] certificate verify failed: unable to get local issuer certificate (_ssl.c:1129)')))\n"
     ]
    },
    {
     "name": "stderr",
     "output_type": "stream",
     "text": [
      "\r",
      " 37%|███████████████▎                         | 102/273 [13:17<25:42,  9.02s/it]"
     ]
    },
    {
     "name": "stdout",
     "output_type": "stream",
     "text": [
      "Problem: https://www.nasdaq.com/press-release/siriuspoint-releases-inaugural-environmental-social-and-governance-esg-report-2021-0: HTTPSConnectionPool(host='www.nasdaq.com', port=443): Read timed out. (read timeout=10)\n",
      "Problem: http://www.southerncoppercorp.com/ENG/susdev/Pages/PGsustainable_Environmental.aspx: HTTPSConnectionPool(host='www.southerncoppercorp.com', port=443): Max retries exceeded with url: /ENG/susdev/Pages/PGsustainable_Environmental.aspx (Caused by SSLError(SSLCertVerificationError(1, '[SSL: CERTIFICATE_VERIFY_FAILED] certificate verify failed: unable to get local issuer certificate (_ssl.c:1129)')))\n"
     ]
    },
    {
     "name": "stderr",
     "output_type": "stream",
     "text": [
      "\r",
      " 38%|███████████████▍                         | 103/273 [13:31<30:04, 10.61s/it]"
     ]
    },
    {
     "name": "stdout",
     "output_type": "stream",
     "text": [
      "Problem: https://www.everestre.com/Corporate-Responsibility/Environmental-Policy: HTTPSConnectionPool(host='www.everestre.com', port=443): Max retries exceeded with url: /Corporate-Responsibility/Environmental-Policy (Caused by SSLError(SSLCertVerificationError(1, '[SSL: CERTIFICATE_VERIFY_FAILED] certificate verify failed: unable to get local issuer certificate (_ssl.c:1129)')))\n",
      "Problem: https://www.edf.fr/en/the-edf-group/taking-action-as-a-responsible-company/reports-and-indicators/non-financial-kpis/esg-indicators: HTTPSConnectionPool(host='www.edf.fr', port=443): Read timed out. (read timeout=10)\n"
     ]
    },
    {
     "name": "stderr",
     "output_type": "stream",
     "text": [
      "\r",
      " 38%|███████████████▌                         | 104/273 [13:43<30:33, 10.85s/it]"
     ]
    },
    {
     "name": "stdout",
     "output_type": "stream",
     "text": [
      "Problem: https://www.kbhome.com/blog/sustainability/data-reporting/economic-performance-overview: HTTPSConnectionPool(host='www.kbhome.com', port=443): Max retries exceeded with url: /blog/sustainability/data-reporting/economic-performance-overview (Caused by SSLError(SSLCertVerificationError(1, '[SSL: CERTIFICATE_VERIFY_FAILED] certificate verify failed: unable to get local issuer certificate (_ssl.c:1129)')))\n",
      "Problem: https://www.yesbank.in/about-us/sustainability-at-yes-bank/esg-disclosures: HTTPSConnectionPool(host='www.yesbank.in', port=443): Read timed out. (read timeout=10)\n"
     ]
    },
    {
     "name": "stderr",
     "output_type": "stream",
     "text": [
      "\r",
      " 38%|███████████████▊                         | 105/273 [13:54<30:32, 10.90s/it]"
     ]
    },
    {
     "name": "stdout",
     "output_type": "stream",
     "text": [
      "Problem: https://www.avangrid.com/wps/portal/avangrid/sustainability/environment/environmentalmanagement: HTTPSConnectionPool(host='www.avangrid.com', port=443): Max retries exceeded with url: /wps/portal/avangrid/sustainability/environment/environmentalmanagement (Caused by ConnectTimeoutError(<urllib3.connection.HTTPSConnection object at 0x7f7d8d3440a0>, 'Connection to www.avangrid.com timed out. (connect timeout=10)'))\n"
     ]
    },
    {
     "name": "stderr",
     "output_type": "stream",
     "text": [
      " 39%|████████████████                         | 107/273 [14:13<27:45, 10.03s/it]"
     ]
    },
    {
     "name": "stdout",
     "output_type": "stream",
     "text": [
      "Problem: https://www.avangrid.com/wps/portal/avangrid/sustainability/environment: HTTPSConnectionPool(host='www.avangrid.com', port=443): Max retries exceeded with url: /wps/portal/avangrid/sustainability/environment (Caused by ConnectTimeoutError(<urllib3.connection.HTTPSConnection object at 0x7f7d8d658040>, 'Connection to www.avangrid.com timed out. (connect timeout=10)'))\n"
     ]
    },
    {
     "name": "stderr",
     "output_type": "stream",
     "text": [
      " 40%|████████████████▌                        | 110/273 [14:33<20:04,  7.39s/it]"
     ]
    },
    {
     "name": "stdout",
     "output_type": "stream",
     "text": [
      "Problem: https://www.yesbank.in/banking-initiatives/responsible-banking/sustainable-finance/focus-on-sustainability-sectors: HTTPSConnectionPool(host='www.yesbank.in', port=443): Read timed out. (read timeout=10)\n"
     ]
    },
    {
     "name": "stderr",
     "output_type": "stream",
     "text": [
      "\r",
      " 41%|████████████████▋                        | 111/273 [14:44<22:25,  8.31s/it]"
     ]
    },
    {
     "name": "stdout",
     "output_type": "stream",
     "text": [
      "Problem: https://www.lukoil.com/Sustainability/Society: HTTPSConnectionPool(host='www.lukoil.com', port=443): Max retries exceeded with url: /Sustainability/Society (Caused by ConnectTimeoutError(<urllib3.connection.HTTPSConnection object at 0x7f7d8d08edf0>, 'Connection to www.lukoil.com timed out. (connect timeout=10)'))\n"
     ]
    },
    {
     "name": "stderr",
     "output_type": "stream",
     "text": [
      "\r",
      " 41%|████████████████▊                        | 112/273 [14:55<24:48,  9.25s/it]"
     ]
    },
    {
     "name": "stdout",
     "output_type": "stream",
     "text": [
      "Problem: https://lipetsk.nlmk.com/en/responsibility/social-responsibility/: HTTPSConnectionPool(host='lipetsk.nlmk.com', port=443): Max retries exceeded with url: /en/responsibility/social-responsibility/ (Caused by ConnectTimeoutError(<urllib3.connection.HTTPSConnection object at 0x7f7d8c99a730>, 'Connection to lipetsk.nlmk.com timed out. (connect timeout=10)'))\n"
     ]
    },
    {
     "name": "stderr",
     "output_type": "stream",
     "text": [
      "\r",
      " 41%|████████████████▉                        | 113/273 [15:07<26:53, 10.09s/it]"
     ]
    },
    {
     "name": "stdout",
     "output_type": "stream",
     "text": [
      "Problem: https://ir.nwnaturalholdings.com/news/news-details/2021/NW-Natural-Holdings-Issues-2020-Environmental-Social-and-Governance-Report/default.aspx: HTTPSConnectionPool(host='ir.nwnaturalholdings.com', port=443): Max retries exceeded with url: /news/news-details/2021/NW-Natural-Holdings-Issues-2020-Environmental-Social-and-Governance-Report/default.aspx (Caused by NewConnectionError('<urllib3.connection.HTTPSConnection object at 0x7f7d8d3db0a0>: Failed to establish a new connection: [Errno -2] Name or service not known'))\n"
     ]
    },
    {
     "name": "stderr",
     "output_type": "stream",
     "text": [
      "\r",
      " 42%|█████████████████                        | 114/273 [15:10<21:11,  8.00s/it]"
     ]
    },
    {
     "name": "stdout",
     "output_type": "stream",
     "text": [
      "Problem: https://www.bangkokbank.com/en/About-Us/Sustainability: HTTPSConnectionPool(host='www.bangkokbank.com', port=443): Max retries exceeded with url: /en/About-Us/Sustainability (Caused by NewConnectionError('<urllib3.connection.HTTPSConnection object at 0x7f7d8c61f400>: Failed to establish a new connection: [Errno -3] Temporary failure in name resolution'))\n"
     ]
    },
    {
     "name": "stderr",
     "output_type": "stream",
     "text": [
      "\r",
      " 42%|█████████████████▎                       | 115/273 [15:21<22:58,  8.73s/it]"
     ]
    },
    {
     "name": "stdout",
     "output_type": "stream",
     "text": [
      "Problem: https://www.starenergygeothermal.co.id/2020/07/22/paving-the-way-to-preserve-the-environment/: HTTPSConnectionPool(host='www.starenergygeothermal.co.id', port=443): Max retries exceeded with url: /2020/07/22/paving-the-way-to-preserve-the-environment/ (Caused by SSLError(SSLCertVerificationError(1, '[SSL: CERTIFICATE_VERIFY_FAILED] certificate verify failed: unable to get local issuer certificate (_ssl.c:1129)')))\n"
     ]
    },
    {
     "name": "stderr",
     "output_type": "stream",
     "text": [
      "\r",
      " 42%|█████████████████▍                       | 116/273 [15:26<19:57,  7.62s/it]"
     ]
    },
    {
     "name": "stdout",
     "output_type": "stream",
     "text": [
      "Problem: https://www.dnb.com/en-gb/about-bisnode/about-us/news/sustainability-report-2018/: HTTPSConnectionPool(host='www.dnb.com', port=443): Read timed out. (read timeout=10)\n"
     ]
    },
    {
     "name": "stderr",
     "output_type": "stream",
     "text": [
      "\r",
      " 43%|█████████████████▌                       | 117/273 [15:36<22:12,  8.54s/it]"
     ]
    },
    {
     "name": "stdout",
     "output_type": "stream",
     "text": [
      "Problem: https://www.unicreditgroup.eu/en/one-unicredit/commitments/2021/mar/sustainablefinance.html: HTTPSConnectionPool(host='www.unicreditgroup.eu', port=443): Read timed out. (read timeout=10)\n"
     ]
    },
    {
     "name": "stderr",
     "output_type": "stream",
     "text": [
      " 44%|██████████████████                       | 120/273 [16:01<20:31,  8.05s/it]"
     ]
    },
    {
     "name": "stdout",
     "output_type": "stream",
     "text": [
      "Problem: https://www.constellium.com/news/2021/03/17/constellium-releases-2020-business-and-sustainability-report: HTTPSConnectionPool(host='www.constellium.com', port=443): Max retries exceeded with url: /news/2021/03/17/constellium-releases-2020-business-and-sustainability-report (Caused by SSLError(SSLCertVerificationError(1, '[SSL: CERTIFICATE_VERIFY_FAILED] certificate verify failed: unable to get local issuer certificate (_ssl.c:1129)')))\n",
      "Problem: https://www.elcorteingles.com/en/sustainability/home/20/: HTTPSConnectionPool(host='www.elcorteingles.com', port=443): Read timed out. (read timeout=10)\n",
      "Problem: https://www.adidas-group.com/en/sustainability/managing-sustainability/environmental-approach/: HTTPSConnectionPool(host='www.adidas-group.com', port=443): Read timed out. (read timeout=10)\n"
     ]
    },
    {
     "name": "stderr",
     "output_type": "stream",
     "text": [
      "\r",
      " 44%|██████████████████▏                      | 121/273 [16:12<22:28,  8.87s/it]"
     ]
    },
    {
     "name": "stdout",
     "output_type": "stream",
     "text": [
      "Problem: https://www.kbhome.com/blog/sustainability/data-reporting/environmental-performance-overview: HTTPSConnectionPool(host='www.kbhome.com', port=443): Max retries exceeded with url: /blog/sustainability/data-reporting/environmental-performance-overview (Caused by SSLError(SSLCertVerificationError(1, '[SSL: CERTIFICATE_VERIFY_FAILED] certificate verify failed: unable to get local issuer certificate (_ssl.c:1129)')))\n"
     ]
    },
    {
     "name": "stderr",
     "output_type": "stream",
     "text": [
      " 45%|██████████████████▍                      | 123/273 [16:21<16:08,  6.46s/it]"
     ]
    },
    {
     "name": "stdout",
     "output_type": "stream",
     "text": [
      "Problem: https://www.lukoil.com/Sustainability/Environment/Environmentalmanagement: HTTPSConnectionPool(host='www.lukoil.com', port=443): Max retries exceeded with url: /Sustainability/Environment/Environmentalmanagement (Caused by ConnectTimeoutError(<urllib3.connection.HTTPSConnection object at 0x7f7d8ca04430>, 'Connection to www.lukoil.com timed out. (connect timeout=10)'))\n"
     ]
    },
    {
     "name": "stderr",
     "output_type": "stream",
     "text": [
      " 46%|██████████████████▊                      | 125/273 [16:39<18:40,  7.57s/it]"
     ]
    },
    {
     "name": "stdout",
     "output_type": "stream",
     "text": [
      "Problem: https://www.copel.com/hpcopel/english/governance.jsp: HTTPSConnectionPool(host='www.copel.com', port=443): Max retries exceeded with url: /hpcopel/english/governance.jsp (Caused by NewConnectionError('<urllib3.connection.HTTPSConnection object at 0x7f7d8c902be0>: Failed to establish a new connection: [Errno 101] Network is unreachable'))\n",
      "Problem: http://www.southerncoppercorp.com/ENG/susdev/Pages/PGsustainable_Climate.aspx: HTTPSConnectionPool(host='www.southerncoppercorp.com', port=443): Max retries exceeded with url: /ENG/susdev/Pages/PGsustainable_Climate.aspx (Caused by SSLError(SSLCertVerificationError(1, '[SSL: CERTIFICATE_VERIFY_FAILED] certificate verify failed: unable to get local issuer certificate (_ssl.c:1129)')))\n"
     ]
    },
    {
     "name": "stderr",
     "output_type": "stream",
     "text": [
      "\r",
      " 46%|██████████████████▉                      | 126/273 [16:50<21:05,  8.61s/it]"
     ]
    },
    {
     "name": "stdout",
     "output_type": "stream",
     "text": [
      "Problem: https://www.bat.com/sustainabilityreport: ('Connection aborted.', ConnectionResetError(104, 'Connection reset by peer'))\n"
     ]
    },
    {
     "name": "stderr",
     "output_type": "stream",
     "text": [
      "\r",
      " 47%|███████████████████                      | 127/273 [17:04<25:12, 10.36s/it]"
     ]
    },
    {
     "name": "stdout",
     "output_type": "stream",
     "text": [
      "Problem: https://corporate.comcast.com/values/report/2019/sustainability: HTTPSConnectionPool(host='corporate.comcast.com', port=443): Read timed out. (read timeout=10)\n"
     ]
    },
    {
     "name": "stderr",
     "output_type": "stream",
     "text": [
      "\r",
      " 47%|███████████████████▏                     | 128/273 [17:15<25:16, 10.46s/it]"
     ]
    },
    {
     "name": "stdout",
     "output_type": "stream",
     "text": [
      "Problem: https://www.edf.fr/en/the-edf-group/taking-action-as-a-responsible-company/reports-and-indicators/reports: HTTPSConnectionPool(host='www.edf.fr', port=443): Read timed out. (read timeout=10)\n"
     ]
    },
    {
     "name": "stderr",
     "output_type": "stream",
     "text": [
      "\r",
      " 47%|███████████████████▎                     | 129/273 [17:26<25:15, 10.53s/it]"
     ]
    },
    {
     "name": "stdout",
     "output_type": "stream",
     "text": [
      "Problem: https://www.lukoil.com/Sustainability/Ouremployees/Socialprograms: HTTPSConnectionPool(host='www.lukoil.com', port=443): Max retries exceeded with url: /Sustainability/Ouremployees/Socialprograms (Caused by ConnectTimeoutError(<urllib3.connection.HTTPSConnection object at 0x7f7d8d54c550>, 'Connection to www.lukoil.com timed out. (connect timeout=10)'))\n"
     ]
    },
    {
     "name": "stderr",
     "output_type": "stream",
     "text": [
      "\r",
      " 48%|███████████████████▌                     | 130/273 [17:36<25:14, 10.59s/it]"
     ]
    },
    {
     "name": "stdout",
     "output_type": "stream",
     "text": [
      "Problem: https://www.ansys.com/blog/the-impact-of-materials-on-sustainability: HTTPSConnectionPool(host='www.ansys.com', port=443): Read timed out. (read timeout=10)\n",
      "Problem: https://corporate.comcast.com/sustainability-all: HTTPSConnectionPool(host='corporate.comcast.com', port=443): Read timed out. (read timeout=10)\n"
     ]
    },
    {
     "name": "stderr",
     "output_type": "stream",
     "text": [
      "\r",
      " 48%|███████████████████▋                     | 131/273 [17:48<25:39, 10.84s/it]"
     ]
    },
    {
     "name": "stdout",
     "output_type": "stream",
     "text": [
      "Problem: https://www.ansys.com/blog/the-impact-of-materials-on-sustainability-part-2: HTTPSConnectionPool(host='www.ansys.com', port=443): Read timed out. (read timeout=10)\n",
      "Problem: https://www.cmegroup.com/clearing/sustainable-clearing.html: HTTPSConnectionPool(host='www.cmegroup.com', port=443): Read timed out. (read timeout=10)\n"
     ]
    },
    {
     "name": "stderr",
     "output_type": "stream",
     "text": [
      " 49%|███████████████████▉                     | 133/273 [18:05<22:29,  9.64s/it]"
     ]
    },
    {
     "name": "stdout",
     "output_type": "stream",
     "text": [
      "Problem: https://www.te.com/usa-en/about-te/news-center/corporate-news/2020/2020-08-05-te-connectivity-sets-new-sustainability-charitable-goals-for-2030.html: HTTPSConnectionPool(host='www.te.com', port=443): Read timed out. (read timeout=10)\n"
     ]
    },
    {
     "name": "stderr",
     "output_type": "stream",
     "text": [
      "\r",
      " 49%|████████████████████                     | 134/273 [18:17<23:47, 10.27s/it]"
     ]
    },
    {
     "name": "stdout",
     "output_type": "stream",
     "text": [
      "Problem: https://www.adidas-group.com/en/sustainability/managing-sustainability/sustainability-history/: HTTPSConnectionPool(host='www.adidas-group.com', port=443): Read timed out. (read timeout=10)\n"
     ]
    },
    {
     "name": "stderr",
     "output_type": "stream",
     "text": [
      "\r",
      " 49%|████████████████████▎                    | 135/273 [18:28<23:46, 10.33s/it]"
     ]
    },
    {
     "name": "stdout",
     "output_type": "stream",
     "text": [
      "Problem: https://www.adidas-group.com/en/sustainability/reporting/sustainability-reports/: HTTPSConnectionPool(host='www.adidas-group.com', port=443): Read timed out. (read timeout=10)\n",
      "Problem: https://www.everestre.com/Corporate-Responsibility/Social-Responsibility: HTTPSConnectionPool(host='www.everestre.com', port=443): Max retries exceeded with url: /Corporate-Responsibility/Social-Responsibility (Caused by SSLError(SSLCertVerificationError(1, '[SSL: CERTIFICATE_VERIFY_FAILED] certificate verify failed: unable to get local issuer certificate (_ssl.c:1129)')))\n"
     ]
    },
    {
     "name": "stderr",
     "output_type": "stream",
     "text": [
      "\r",
      " 50%|████████████████████▍                    | 136/273 [18:39<24:00, 10.51s/it]"
     ]
    },
    {
     "name": "stdout",
     "output_type": "stream",
     "text": [
      "Problem: https://www.royalcaribbean.com/blog/sustainability-at-sea/: HTTPSConnectionPool(host='www.royalcaribbean.com', port=443): Read timed out. (read timeout=10)\n",
      "Problem: https://adler-ag.com/en/sustainability/: HTTPSConnectionPool(host='adler-ag.com', port=443): Max retries exceeded with url: /en/sustainability/ (Caused by SSLError(SSLCertVerificationError(1, '[SSL: CERTIFICATE_VERIFY_FAILED] certificate verify failed: unable to get local issuer certificate (_ssl.c:1129)')))\n",
      "Problem: https://www.usecology.com/article/us-ecologys-environmental-solutions-help-customers-achieve-sustainability-goals-better: HTTPSConnectionPool(host='www.usecology.com', port=443): Max retries exceeded with url: /article/us-ecologys-environmental-solutions-help-customers-achieve-sustainability-goals-better (Caused by SSLError(SSLCertVerificationError(1, '[SSL: CERTIFICATE_VERIFY_FAILED] certificate verify failed: unable to get local issuer certificate (_ssl.c:1129)')))\n"
     ]
    },
    {
     "name": "stderr",
     "output_type": "stream",
     "text": [
      "\r",
      " 50%|████████████████████▌                    | 137/273 [18:50<24:07, 10.64s/it]"
     ]
    },
    {
     "name": "stdout",
     "output_type": "stream",
     "text": [
      "Problem: https://www.constellium.com/news/2020/07/01/constellium-releases-its-2019-business-and-sustainability-report-sets-its-2025: HTTPSConnectionPool(host='www.constellium.com', port=443): Max retries exceeded with url: /news/2020/07/01/constellium-releases-its-2019-business-and-sustainability-report-sets-its-2025 (Caused by SSLError(SSLCertVerificationError(1, '[SSL: CERTIFICATE_VERIFY_FAILED] certificate verify failed: unable to get local issuer certificate (_ssl.c:1129)')))\n",
      "Problem: https://www.constellium.com/news/2019/07/01/constellium-releases-its-2018-business-and-sustainability-report-highlighting: HTTPSConnectionPool(host='www.constellium.com', port=443): Max retries exceeded with url: /news/2019/07/01/constellium-releases-its-2018-business-and-sustainability-report-highlighting (Caused by SSLError(SSLCertVerificationError(1, '[SSL: CERTIFICATE_VERIFY_FAILED] certificate verify failed: unable to get local issuer certificate (_ssl.c:1129)')))\n"
     ]
    },
    {
     "name": "stderr",
     "output_type": "stream",
     "text": [
      "\r",
      " 51%|████████████████████▋                    | 138/273 [19:00<23:51, 10.60s/it]"
     ]
    },
    {
     "name": "stdout",
     "output_type": "stream",
     "text": [
      "Problem: https://www.abnamro.com/nl/nieuws/abn-amro-lanceert-sustainable-impact-fund: HTTPSConnectionPool(host='www.abnamro.com', port=443): Read timed out. (read timeout=10)\n",
      "Problem: https://www.electrolux.com/sustainability: HTTPSConnectionPool(host='www.electrolux.nl', port=443): Read timed out. (read timeout=10)\n"
     ]
    },
    {
     "name": "stderr",
     "output_type": "stream",
     "text": [
      "\r",
      " 51%|████████████████████▉                    | 139/273 [19:12<24:50, 11.12s/it]"
     ]
    },
    {
     "name": "stdout",
     "output_type": "stream",
     "text": [
      "Problem: https://investors.mosaicco.com/press-releases/news-details/2020/The-Mosaic-Company-Announces-2025-Global-Sustainability-Targets/default.aspx: HTTPSConnectionPool(host='investors.mosaicco.com', port=443): Max retries exceeded with url: /press-releases/news-details/2020/The-Mosaic-Company-Announces-2025-Global-Sustainability-Targets/default.aspx (Caused by NewConnectionError('<urllib3.connection.HTTPSConnection object at 0x7f7d8cd7d520>: Failed to establish a new connection: [Errno 101] Network is unreachable'))\n"
     ]
    },
    {
     "name": "stderr",
     "output_type": "stream",
     "text": [
      "\r",
      " 51%|█████████████████████                    | 140/273 [19:18<20:57,  9.46s/it]"
     ]
    },
    {
     "name": "stdout",
     "output_type": "stream",
     "text": [
      "Problem: https://www.aegon.com/responsible-business/ESG-Policies/: Exceeded 30 redirects.\n",
      "Problem: https://encompasshealth.com/locations/sustainability: HTTPSConnectionPool(host='encompasshealth.com', port=443): Read timed out. (read timeout=10)\n",
      "Problem: https://www.ansys.com/company-information/social-responsibility: HTTPSConnectionPool(host='www.ansys.com', port=443): Read timed out. (read timeout=10)\n"
     ]
    },
    {
     "name": "stderr",
     "output_type": "stream",
     "text": [
      "\r",
      " 52%|█████████████████████▏                   | 141/273 [19:30<22:17, 10.13s/it]"
     ]
    },
    {
     "name": "stdout",
     "output_type": "stream",
     "text": [
      "Problem: https://www.novartis.com/news/media-releases/novartis-accelerates-efforts-toward-esg-targets-increase-access-medicines-improve-health-equity-and-achieve-net-zero-carbon-emissions: HTTPSConnectionPool(host='www.novartis.com', port=443): Read timed out. (read timeout=10)\n",
      "Problem: https://www.royalcaribbean.com/blog/protecting-the-environment-is-everyones-business-2/: HTTPSConnectionPool(host='www.royalcaribbean.com', port=443): Read timed out. (read timeout=10)\n"
     ]
    },
    {
     "name": "stderr",
     "output_type": "stream",
     "text": [
      " 52%|█████████████████████▍                   | 143/273 [19:45<18:45,  8.66s/it]"
     ]
    },
    {
     "name": "stdout",
     "output_type": "stream",
     "text": [
      "Problem: https://www.yum.com/wps/portal/yumbrands/Yumbrands/news/press-releases/yum+brands+annual+global+citizenship+sustainability+report+showcases+companys+commitment+to+socially+responsible+growth+highlights+progress+around+priority+areas: HTTPSConnectionPool(host='www.yum.com', port=443): Read timed out. (read timeout=10)\n",
      "Problem: https://www.everbright.com/en/news/china-everbright-limited-establishes-environmental-social-and-governance-committee: HTTPSConnectionPool(host='www.everbright.com', port=443): Max retries exceeded with url: /en/news/china-everbright-limited-establishes-environmental-social-and-governance-committee (Caused by SSLError(SSLCertVerificationError(1, '[SSL: CERTIFICATE_VERIFY_FAILED] certificate verify failed: unable to get local issuer certificate (_ssl.c:1129)')))\n"
     ]
    },
    {
     "name": "stderr",
     "output_type": "stream",
     "text": [
      " 53%|█████████████████████▊                   | 145/273 [20:02<17:27,  8.18s/it]"
     ]
    },
    {
     "name": "stdout",
     "output_type": "stream",
     "text": [
      "Problem: https://www.landisgyr.com/about/corporate-social-responsibility/: HTTPSConnectionPool(host='www.landisgyr.eu', port=443): Read timed out. (read timeout=10)\n"
     ]
    },
    {
     "name": "stderr",
     "output_type": "stream",
     "text": [
      "\r",
      " 53%|█████████████████████▉                   | 146/273 [20:18<22:12, 10.49s/it]"
     ]
    },
    {
     "name": "stdout",
     "output_type": "stream",
     "text": [
      "Problem: https://csr.unifirst.com/ethical-governance/: HTTPSConnectionPool(host='csr.unifirst.com', port=443): Max retries exceeded with url: /ethical-governance/ (Caused by SSLError(SSLCertVerificationError(1, '[SSL: CERTIFICATE_VERIFY_FAILED] certificate verify failed: unable to get local issuer certificate (_ssl.c:1129)')))\n"
     ]
    },
    {
     "name": "stderr",
     "output_type": "stream",
     "text": [
      "\r",
      " 54%|██████████████████████                   | 147/273 [20:26<20:36,  9.81s/it]"
     ]
    },
    {
     "name": "stdout",
     "output_type": "stream",
     "text": [
      "Problem: https://www.amd.com/en/corporate-responsibility/environmental-stewardship: HTTPSConnectionPool(host='www.amd.com', port=443): Read timed out. (read timeout=10)\n",
      "Problem: https://corporate.comcast.com/values/report/2019/sustainability/drive-to-zero-emissions: HTTPSConnectionPool(host='corporate.comcast.com', port=443): Read timed out. (read timeout=10)\n",
      "Problem: https://info.lululemon.com/sustainability/responsible-supply-chain/environmental-impacts: HTTPSConnectionPool(host='info.lululemon.com', port=443): Read timed out. (read timeout=10)\n"
     ]
    },
    {
     "name": "stderr",
     "output_type": "stream",
     "text": [
      "\r",
      " 54%|██████████████████████▏                  | 148/273 [20:36<20:55, 10.04s/it]"
     ]
    },
    {
     "name": "stdout",
     "output_type": "stream",
     "text": [
      "Problem: https://www.scientificgames.com/about/social-responsibility/: HTTPSConnectionPool(host='www.scientificgames.com', port=443): Max retries exceeded with url: /about/social-responsibility/ (Caused by SSLError(SSLCertVerificationError(1, '[SSL: CERTIFICATE_VERIFY_FAILED] certificate verify failed: unable to get local issuer certificate (_ssl.c:1129)')))\n",
      "Problem: https://www.sealedair.com/company/sustainability: HTTPSConnectionPool(host='www.sealedair.com', port=443): Max retries exceeded with url: /company/sustainability (Caused by SSLError(SSLCertVerificationError(1, '[SSL: CERTIFICATE_VERIFY_FAILED] certificate verify failed: unable to get local issuer certificate (_ssl.c:1129)')))\n",
      "Problem: https://lipetsk.nlmk.com/en/media-center/press-releases/nlmk-group-named-worldsteel-sustainability-champion/: HTTPSConnectionPool(host='lipetsk.nlmk.com', port=443): Max retries exceeded with url: /en/media-center/press-releases/nlmk-group-named-worldsteel-sustainability-champion/ (Caused by ConnectTimeoutError(<urllib3.connection.HTTPSConnection object at 0x7f7d8c8b7610>, 'Connection to lipetsk.nlmk.com timed out. (connect timeout=10)'))\n"
     ]
    },
    {
     "name": "stderr",
     "output_type": "stream",
     "text": [
      "\r",
      " 55%|██████████████████████▍                  | 149/273 [20:48<21:42, 10.50s/it]"
     ]
    },
    {
     "name": "stdout",
     "output_type": "stream",
     "text": [
      "Problem: https://www.abnamro.com/en/news/abn-amro-issues-climate-publication-guiding-a-banks-portfolio-to-paris: HTTPSConnectionPool(host='www.abnamro.com', port=443): Read timed out. (read timeout=10)\n",
      "Problem: https://ir.simpsonmfg.com/governance/governance-documents/default.aspx: HTTPSConnectionPool(host='ir.simpsonmfg.com', port=443): Max retries exceeded with url: /governance/governance-documents/default.aspx (Caused by NewConnectionError('<urllib3.connection.HTTPSConnection object at 0x7f7d8d14d1f0>: Failed to establish a new connection: [Errno -2] Name or service not known'))\n"
     ]
    },
    {
     "name": "stderr",
     "output_type": "stream",
     "text": [
      "\r",
      " 55%|██████████████████████▌                  | 150/273 [20:58<21:30, 10.49s/it]"
     ]
    },
    {
     "name": "stdout",
     "output_type": "stream",
     "text": [
      "Problem: https://www.everbright.com/en/corporate-social-responsibility: HTTPSConnectionPool(host='www.everbright.com', port=443): Max retries exceeded with url: /en/corporate-social-responsibility (Caused by SSLError(SSLCertVerificationError(1, '[SSL: CERTIFICATE_VERIFY_FAILED] certificate verify failed: unable to get local issuer certificate (_ssl.c:1129)')))\n",
      "Problem: https://www.yum.com/wps/portal/yumbrands/Yumbrands/news/press-releases/yum+brands+annual+global+citizenship+and+sustainability+report+showcases+companys+strategic+investment+in+socially+responsible+growth: HTTPSConnectionPool(host='www.yum.com', port=443): Read timed out. (read timeout=10)\n",
      "Problem: https://www.cmegroup.com/education/articles-and-reports/why-esg-is-outperforming-the-sp-500.html: HTTPSConnectionPool(host='www.cmegroup.com', port=443): Read timed out. (read timeout=10)\n"
     ]
    },
    {
     "name": "stderr",
     "output_type": "stream",
     "text": [
      "\r",
      " 55%|██████████████████████▋                  | 151/273 [21:10<22:08, 10.89s/it]"
     ]
    },
    {
     "name": "stdout",
     "output_type": "stream",
     "text": [
      "Problem: https://www.pgecorp.com/corp_responsibility/reports/2020/bu11_corporate_governance.html: HTTPSConnectionPool(host='www.pgecorp.com', port=443): Max retries exceeded with url: /corp_responsibility/reports/2020/bu11_corporate_governance.html (Caused by NewConnectionError('<urllib3.connection.HTTPSConnection object at 0x7f7d8ca500d0>: Failed to establish a new connection: [Errno -3] Temporary failure in name resolution'))\n",
      "Problem: https://www.enterpriseproducts.com/safety-environment/environmental-stewardship: HTTPSConnectionPool(host='www.enterpriseproducts.com', port=443): Max retries exceeded with url: /safety-environment/environmental-stewardship (Caused by SSLError(SSLCertVerificationError(1, '[SSL: CERTIFICATE_VERIFY_FAILED] certificate verify failed: unable to get local issuer certificate (_ssl.c:1129)')))\n"
     ]
    },
    {
     "name": "stderr",
     "output_type": "stream",
     "text": [
      "\r",
      " 56%|██████████████████████▊                  | 152/273 [21:21<21:44, 10.78s/it]"
     ]
    },
    {
     "name": "stdout",
     "output_type": "stream",
     "text": [
      "Problem: https://pinewoodgroup.com/pinewood-today/sustainability: HTTPSConnectionPool(host='pinewoodgroup.com', port=443): Max retries exceeded with url: /pinewood-today/sustainability (Caused by SSLError(SSLCertVerificationError(1, '[SSL: CERTIFICATE_VERIFY_FAILED] certificate verify failed: unable to get local issuer certificate (_ssl.c:1129)')))\n"
     ]
    },
    {
     "name": "stderr",
     "output_type": "stream",
     "text": [
      "\r",
      " 56%|██████████████████████▉                  | 153/273 [21:26<18:14,  9.12s/it]"
     ]
    },
    {
     "name": "stdout",
     "output_type": "stream",
     "text": [
      "Problem: https://www.everbright.com/en/corporate-social-responsibility/csr-report: HTTPSConnectionPool(host='www.everbright.com', port=443): Max retries exceeded with url: /en/corporate-social-responsibility/csr-report (Caused by SSLError(SSLCertVerificationError(1, '[SSL: CERTIFICATE_VERIFY_FAILED] certificate verify failed: unable to get local issuer certificate (_ssl.c:1129)')))\n"
     ]
    },
    {
     "name": "stderr",
     "output_type": "stream",
     "text": [
      "\r",
      " 56%|███████████████████████▏                 | 154/273 [21:30<14:43,  7.43s/it]"
     ]
    },
    {
     "name": "stdout",
     "output_type": "stream",
     "text": [
      "Problem: https://www.pgecorp.com/corp_responsibility/reports/2019/bu11_corporate_governance.html: HTTPSConnectionPool(host='www.pgecorp.com', port=443): Max retries exceeded with url: /corp_responsibility/reports/2019/bu11_corporate_governance.html (Caused by NewConnectionError('<urllib3.connection.HTTPSConnection object at 0x7f7d8cc25d60>: Failed to establish a new connection: [Errno -3] Temporary failure in name resolution'))\n"
     ]
    },
    {
     "name": "stderr",
     "output_type": "stream",
     "text": [
      " 57%|███████████████████████▍                 | 156/273 [21:50<16:50,  8.64s/it]"
     ]
    },
    {
     "name": "stdout",
     "output_type": "stream",
     "text": [
      "Problem: https://info.lululemon.com/sustainability/our-footprint: HTTPSConnectionPool(host='info.lululemon.com', port=443): Read timed out. (read timeout=10)\n",
      "Problem: https://encompasshealth.com/locations/sustainability/mark-letter: HTTPSConnectionPool(host='encompasshealth.com', port=443): Read timed out. (read timeout=10)\n",
      "Problem: https://www.yum.com/wps/portal/yumbrands/Yumbrands/citizenship-and-sustainability/planet: HTTPSConnectionPool(host='www.yum.com', port=443): Read timed out. (read timeout=10)\n",
      "Problem: https://www.fujicco.co.jp/corp/sustainability/report/environment2020/pageindices/index30.html: HTTPSConnectionPool(host='www.fujicco.co.jp', port=443): Read timed out. (read timeout=10)\n"
     ]
    },
    {
     "name": "stderr",
     "output_type": "stream",
     "text": [
      " 59%|████████████████████████                 | 160/273 [22:21<12:36,  6.69s/it]"
     ]
    },
    {
     "name": "stdout",
     "output_type": "stream",
     "text": [
      "Problem: https://www.treehousefoods.com/news-and-media/press-release-details/2021/TreeHouse-Foods-Publishes-Annual-Environmental-Social--Governance-Report/default.aspx: HTTPSConnectionPool(host='www.treehousefoods.com', port=443): Max retries exceeded with url: /news-and-media/press-release-details/2021/TreeHouse-Foods-Publishes-Annual-Environmental-Social--Governance-Report/default.aspx (Caused by NewConnectionError('<urllib3.connection.HTTPSConnection object at 0x7f7d8c724970>: Failed to establish a new connection: [Errno -2] Name or service not known'))\n"
     ]
    },
    {
     "name": "stderr",
     "output_type": "stream",
     "text": [
      " 59%|████████████████████████▎                | 162/273 [22:36<13:41,  7.40s/it]"
     ]
    },
    {
     "name": "stdout",
     "output_type": "stream",
     "text": [
      "Problem: https://www.westrock.com/connect/news/company-news/westrock-named-to-dow-jones-sustainability-index-for-north-america-for-second-consecutive-year: HTTPSConnectionPool(host='www.westrock.com', port=443): Max retries exceeded with url: /connect/news/company-news/westrock-named-to-dow-jones-sustainability-index-for-north-america-for-second-consecutive-year (Caused by SSLError(SSLCertVerificationError(1, '[SSL: CERTIFICATE_VERIFY_FAILED] certificate verify failed: unable to get local issuer certificate (_ssl.c:1129)')))\n"
     ]
    },
    {
     "name": "stderr",
     "output_type": "stream",
     "text": [
      " 60%|████████████████████████▋                | 164/273 [22:53<15:07,  8.32s/it]"
     ]
    },
    {
     "name": "stdout",
     "output_type": "stream",
     "text": [
      "Problem: https://www.everestre.com/Corporate-Responsibility/Responsible-Investment-Policy: HTTPSConnectionPool(host='www.everestre.com', port=443): Max retries exceeded with url: /Corporate-Responsibility/Responsible-Investment-Policy (Caused by SSLError(SSLCertVerificationError(1, '[SSL: CERTIFICATE_VERIFY_FAILED] certificate verify failed: unable to get local issuer certificate (_ssl.c:1129)')))\n",
      "Problem: https://info.lululemon.com/sustainability/responsible-supply-chain: HTTPSConnectionPool(host='info.lululemon.com', port=443): Read timed out. (read timeout=10)\n"
     ]
    },
    {
     "name": "stderr",
     "output_type": "stream",
     "text": [
      " 61%|████████████████████████▉                | 166/273 [23:20<19:45, 11.08s/it]"
     ]
    },
    {
     "name": "stdout",
     "output_type": "stream",
     "text": [
      "Problem: https://www.scientificgames.com/careers/corporate-social-responsibility/: HTTPSConnectionPool(host='www.scientificgames.com', port=443): Max retries exceeded with url: /careers/corporate-social-responsibility/ (Caused by SSLError(SSLCertVerificationError(1, '[SSL: CERTIFICATE_VERIFY_FAILED] certificate verify failed: unable to get local issuer certificate (_ssl.c:1129)')))\n",
      "Problem: https://www.elcorteingles.com/en/sustainability/sports/football/: HTTPSConnectionPool(host='www.elcorteingles.com', port=443): Read timed out. (read timeout=10)\n"
     ]
    },
    {
     "name": "stderr",
     "output_type": "stream",
     "text": [
      "\r",
      " 61%|█████████████████████████                | 167/273 [23:31<19:33, 11.07s/it]"
     ]
    },
    {
     "name": "stdout",
     "output_type": "stream",
     "text": [
      "Problem: https://www.banorte.com/cms/informes/Informeanual2020/en/capital-humano.html: HTTPSConnectionPool(host='www.banorte.com', port=443): Read timed out. (read timeout=10)\n",
      "Problem: https://www.abnamro.com/en/news/abn-amro-launches-sustainable-impact-fund: HTTPSConnectionPool(host='www.abnamro.com', port=443): Read timed out. (read timeout=10)\n"
     ]
    },
    {
     "name": "stderr",
     "output_type": "stream",
     "text": [
      "\r",
      " 62%|█████████████████████████▏               | 168/273 [23:41<19:03, 10.90s/it]"
     ]
    },
    {
     "name": "stdout",
     "output_type": "stream",
     "text": [
      "Problem: https://www.powergrid.in/csr-annual-booklet: HTTPSConnectionPool(host='www.powergrid.in', port=443): Max retries exceeded with url: /csr-annual-booklet (Caused by SSLError(SSLCertVerificationError(1, '[SSL: CERTIFICATE_VERIFY_FAILED] certificate verify failed: unable to get local issuer certificate (_ssl.c:1129)')))\n",
      "Problem: https://cimpress.com/cimpress-jeff-freeman-takes-home-top-prize-for-global-sustainability-leadership/: HTTPSConnectionPool(host='cimpress.com', port=443): Max retries exceeded with url: /cimpress-jeff-freeman-takes-home-top-prize-for-global-sustainability-leadership/ (Caused by SSLError(SSLCertVerificationError(1, '[SSL: CERTIFICATE_VERIFY_FAILED] certificate verify failed: unable to get local issuer certificate (_ssl.c:1129)')))\n"
     ]
    },
    {
     "name": "stderr",
     "output_type": "stream",
     "text": [
      " 62%|█████████████████████████▌               | 170/273 [23:50<13:17,  7.74s/it]"
     ]
    },
    {
     "name": "stdout",
     "output_type": "stream",
     "text": [
      "Problem: https://www.lindsay.com/usca/en/resource/lindsays-approach-to-environmental-stewardship/: HTTPSConnectionPool(host='www.lindsay.com', port=443): Max retries exceeded with url: /usca/en/resource/lindsays-approach-to-environmental-stewardship/ (Caused by SSLError(SSLCertVerificationError(1, '[SSL: CERTIFICATE_VERIFY_FAILED] certificate verify failed: unable to get local issuer certificate (_ssl.c:1129)')))\n",
      "Problem: https://www.lindsay.com/apac/en/resource/lindsays-approach-to-environmental-stewardship/: HTTPSConnectionPool(host='www.lindsay.com', port=443): Max retries exceeded with url: /apac/en/resource/lindsays-approach-to-environmental-stewardship/ (Caused by SSLError(SSLCertVerificationError(1, '[SSL: CERTIFICATE_VERIFY_FAILED] certificate verify failed: unable to get local issuer certificate (_ssl.c:1129)')))\n"
     ]
    },
    {
     "name": "stderr",
     "output_type": "stream",
     "text": [
      " 63%|█████████████████████████▊               | 172/273 [24:00<10:22,  6.16s/it]"
     ]
    },
    {
     "name": "stdout",
     "output_type": "stream",
     "text": [
      "Problem: https://www.gazprom.com/nature/environmental-reports/: ('Connection aborted.', ConnectionResetError(104, 'Connection reset by peer'))\n",
      "Problem: https://www.te.com/usa-en/about-te/corporate-responsibility/governance.html: HTTPSConnectionPool(host='www.te.com', port=443): Read timed out. (read timeout=10)\n"
     ]
    },
    {
     "name": "stderr",
     "output_type": "stream",
     "text": [
      "\r",
      " 63%|█████████████████████████▉               | 173/273 [24:14<14:13,  8.53s/it]"
     ]
    },
    {
     "name": "stdout",
     "output_type": "stream",
     "text": [
      "Problem: https://www.nws.com.hk/EN/About-Us/Our-Business/Environment: HTTPSConnectionPool(host='www.nws.com.hk', port=443): Max retries exceeded with url: /EN/About-Us/Our-Business/Environment (Caused by NewConnectionError('<urllib3.connection.HTTPSConnection object at 0x7f7d6ecd1820>: Failed to establish a new connection: [Errno -3] Temporary failure in name resolution'))\n",
      "Problem: https://www.amd.com/en/corporate-responsibility/material-esg-issues: HTTPSConnectionPool(host='www.amd.com', port=443): Read timed out. (read timeout=10)\n",
      "Problem: https://www.adspipe.com/water-management-solutions/water-quality/greeninfrastructure: HTTPSConnectionPool(host='www.adspipe.com', port=443): Max retries exceeded with url: /water-management-solutions/water-quality/greeninfrastructure (Caused by SSLError(SSLCertVerificationError(1, '[SSL: CERTIFICATE_VERIFY_FAILED] certificate verify failed: unable to get local issuer certificate (_ssl.c:1129)')))\n",
      "Problem: https://www.nws.com.hk/EN/Corporate-Governance: HTTPSConnectionPool(host='www.nws.com.hk', port=443): Max retries exceeded with url: /EN/Corporate-Governance (Caused by NewConnectionError('<urllib3.connection.HTTPSConnection object at 0x7f7d6ed9dfd0>: Failed to establish a new connection: [Errno -3] Temporary failure in name resolution'))\n",
      "Problem: https://www.lindsay.com/apac/zh/resource/lindsays-approach-to-environmental-stewardship/: HTTPSConnectionPool(host='www.lindsay.com', port=443): Max retries exceeded with url: /apac/zh/resource/lindsays-approach-to-environmental-stewardship/ (Caused by SSLError(SSLCertVerificationError(1, '[SSL: CERTIFICATE_VERIFY_FAILED] certificate verify failed: unable to get local issuer certificate (_ssl.c:1129)')))\n"
     ]
    },
    {
     "name": "stderr",
     "output_type": "stream",
     "text": [
      "\r",
      " 64%|██████████████████████████▏              | 174/273 [24:29<17:10, 10.41s/it]"
     ]
    },
    {
     "name": "stdout",
     "output_type": "stream",
     "text": [
      "Problem: https://www.siteone.com/es/responsibility: HTTPSConnectionPool(host='www.siteone.com', port=443): Read timed out. (read timeout=10)\n"
     ]
    },
    {
     "name": "stderr",
     "output_type": "stream",
     "text": [
      "\r",
      " 64%|██████████████████████████▎              | 175/273 [24:39<17:09, 10.51s/it]"
     ]
    },
    {
     "name": "stdout",
     "output_type": "stream",
     "text": [
      "Problem: https://www.tvo.fi/en/index/responsibility.html: HTTPSConnectionPool(host='www.tvo.fi', port=443): Max retries exceeded with url: /en/index/responsibility.html (Caused by SSLError(SSLCertVerificationError(1, '[SSL: CERTIFICATE_VERIFY_FAILED] certificate verify failed: unable to get local issuer certificate (_ssl.c:1129)')))\n",
      "Problem: https://www.sealedair.com/company/media-center/press-releases/sealed-air-cdp-2014-sp-500-climate-change-report: HTTPSConnectionPool(host='www.sealedair.com', port=443): Max retries exceeded with url: /company/media-center/press-releases/sealed-air-cdp-2014-sp-500-climate-change-report (Caused by SSLError(SSLCertVerificationError(1, '[SSL: CERTIFICATE_VERIFY_FAILED] certificate verify failed: unable to get local issuer certificate (_ssl.c:1129)')))\n",
      "Problem: https://www.siteone.com/en/responsibility-community: HTTPSConnectionPool(host='www.siteone.com', port=443): Read timed out. (read timeout=10)\n",
      "Problem: https://www.powergrid.in/csr/overview: HTTPSConnectionPool(host='www.powergrid.in', port=443): Max retries exceeded with url: /csr/overview (Caused by SSLError(SSLCertVerificationError(1, '[SSL: CERTIFICATE_VERIFY_FAILED] certificate verify failed: unable to get local issuer certificate (_ssl.c:1129)')))\n"
     ]
    },
    {
     "name": "stderr",
     "output_type": "stream",
     "text": [
      " 65%|██████████████████████████▌              | 177/273 [24:55<14:00,  8.76s/it]"
     ]
    },
    {
     "name": "stdout",
     "output_type": "stream",
     "text": [
      "Problem: https://www.sealedair.com/company/media-center/press-releases/sealed-air-announces-bold-2025-sustainability-and-plastics-pledge: HTTPSConnectionPool(host='www.sealedair.com', port=443): Max retries exceeded with url: /company/media-center/press-releases/sealed-air-announces-bold-2025-sustainability-and-plastics-pledge (Caused by SSLError(SSLCertVerificationError(1, '[SSL: CERTIFICATE_VERIFY_FAILED] certificate verify failed: unable to get local issuer certificate (_ssl.c:1129)')))\n"
     ]
    },
    {
     "name": "stderr",
     "output_type": "stream",
     "text": [
      "\r",
      " 65%|██████████████████████████▋              | 178/273 [24:59<11:26,  7.22s/it]"
     ]
    },
    {
     "name": "stdout",
     "output_type": "stream",
     "text": [
      "Problem: https://www.parker.com/portal/site/PARKER/menuitem.c17ed99692643c6315731910237ad1ca/?vgnextoid=a80b0ce599a5e210VgnVCM10000048021dacRCRD&vgnextfmt=EN&requestedci=220438ca29928610VgnVCM100000e6651dacRCRD&vgnextcat=Sustainability: HTTPSConnectionPool(host='www.parker.com', port=443): Read timed out. (read timeout=10)\n"
     ]
    },
    {
     "name": "stderr",
     "output_type": "stream",
     "text": [
      "\r",
      " 66%|██████████████████████████▉              | 179/273 [25:09<12:53,  8.23s/it]"
     ]
    },
    {
     "name": "stdout",
     "output_type": "stream",
     "text": [
      "Problem: https://www.banorte.com/cms/informes/informe_anual_2014/eng/economic_value.html: HTTPSConnectionPool(host='www.banorte.com', port=443): Read timed out. (read timeout=10)\n",
      "Problem: https://www.starenergygeothermal.co.id/2021/10/07/star-energy-geothermal-won-the-best-renewable-company-2021/: HTTPSConnectionPool(host='www.starenergygeothermal.co.id', port=443): Max retries exceeded with url: /2021/10/07/star-energy-geothermal-won-the-best-renewable-company-2021/ (Caused by SSLError(SSLCertVerificationError(1, '[SSL: CERTIFICATE_VERIFY_FAILED] certificate verify failed: unable to get local issuer certificate (_ssl.c:1129)')))\n",
      "Problem: https://www.igt.com/explore-igt/about-igt/global-responsibility/supporting-our-communities/charitable-contributions: HTTPSConnectionPool(host='www.igt.com', port=443): Read timed out.\n"
     ]
    },
    {
     "name": "stderr",
     "output_type": "stream",
     "text": [
      "\r",
      " 66%|███████████████████████████              | 180/273 [25:21<14:16,  9.21s/it]"
     ]
    },
    {
     "name": "stdout",
     "output_type": "stream",
     "text": [
      "Problem: https://www.te.com/usa-en/about-te/corporate-responsibility.html: HTTPSConnectionPool(host='www.te.com', port=443): Read timed out. (read timeout=10)\n"
     ]
    },
    {
     "name": "stderr",
     "output_type": "stream",
     "text": [
      " 67%|███████████████████████████▎             | 182/273 [25:43<15:39, 10.32s/it]"
     ]
    },
    {
     "name": "stdout",
     "output_type": "stream",
     "text": [
      "Problem: https://cimpress.com/about-us/culture-responsibilities-and-governance/: HTTPSConnectionPool(host='cimpress.com', port=443): Max retries exceeded with url: /about-us/culture-responsibilities-and-governance/ (Caused by SSLError(SSLCertVerificationError(1, '[SSL: CERTIFICATE_VERIFY_FAILED] certificate verify failed: unable to get local issuer certificate (_ssl.c:1129)')))\n",
      "Problem: https://www.grainger.com/content/mc/product-collections/green-resources: HTTPSConnectionPool(host='www.grainger.com', port=443): Read timed out. (read timeout=10)\n"
     ]
    },
    {
     "name": "stderr",
     "output_type": "stream",
     "text": [
      " 68%|███████████████████████████▉             | 186/273 [26:05<08:39,  5.97s/it]"
     ]
    },
    {
     "name": "stdout",
     "output_type": "stream",
     "text": [
      "Problem: http://www.southerncoppercorp.com/ENG/about/Pages/PGGovernance.aspx: HTTPSConnectionPool(host='www.southerncoppercorp.com', port=443): Max retries exceeded with url: /ENG/about/Pages/PGGovernance.aspx (Caused by SSLError(SSLCertVerificationError(1, '[SSL: CERTIFICATE_VERIFY_FAILED] certificate verify failed: unable to get local issuer certificate (_ssl.c:1129)')))\n",
      "Problem: http://www.carabaogroup.com/en/csr/policy: HTTPSConnectionPool(host='www.carabaogroup.com', port=443): Max retries exceeded with url: /en/csr/policy (Caused by SSLError(SSLCertVerificationError(1, '[SSL: CERTIFICATE_VERIFY_FAILED] certificate verify failed: unable to get local issuer certificate (_ssl.c:1129)')))\n"
     ]
    },
    {
     "name": "stderr",
     "output_type": "stream",
     "text": [
      "\r",
      " 68%|████████████████████████████             | 187/273 [26:09<07:30,  5.24s/it]"
     ]
    },
    {
     "name": "stdout",
     "output_type": "stream",
     "text": [
      "Problem: https://www.spgroup.com.sg/about-us/investor-relations: HTTPSConnectionPool(host='www.spgroup.com.sg', port=443): Read timed out. (read timeout=10)\n"
     ]
    },
    {
     "name": "stderr",
     "output_type": "stream",
     "text": [
      " 70%|████████████████████████████▌            | 190/273 [26:28<07:26,  5.38s/it]"
     ]
    },
    {
     "name": "stdout",
     "output_type": "stream",
     "text": [
      "Problem: https://www.banorte.com/cms/informes/informeanual2018/en/gri.html: HTTPSConnectionPool(host='www.banorte.com', port=443): Read timed out. (read timeout=10)\n",
      "Problem: https://www.amd.com/en/corporate-responsibility/supply-chain-responsibility: HTTPSConnectionPool(host='www.amd.com', port=443): Read timed out. (read timeout=10)\n",
      "Problem: https://www.parker.com/portal/site/PARKER/menuitem.10cd5ec7157b826a66b049e1237ad1ca/?vgnextoid=46392a270ee5d310VgnVCM100000200c1dacRCRD&vgnextfmt=EN&careerreadmore=19dc01807ac3d310VgnVCM100000200c1dacRCRD&readmore=true&vgnextcat=Our+Social+Responsibility&relatorId=acdc01807ac3d310VgnVCM100000200c1dac____: HTTPSConnectionPool(host='www.parker.com', port=443): Read timed out. (read timeout=10)\n"
     ]
    },
    {
     "name": "stderr",
     "output_type": "stream",
     "text": [
      " 70%|████████████████████████████▊            | 192/273 [26:52<12:07,  8.98s/it]"
     ]
    },
    {
     "name": "stdout",
     "output_type": "stream",
     "text": [
      "Problem: https://www.usecology.com/resource/2020-esg: HTTPSConnectionPool(host='www.usecology.com', port=443): Max retries exceeded with url: /resource/2020-esg (Caused by SSLError(SSLCertVerificationError(1, '[SSL: CERTIFICATE_VERIFY_FAILED] certificate verify failed: unable to get local issuer certificate (_ssl.c:1129)')))\n"
     ]
    },
    {
     "name": "stderr",
     "output_type": "stream",
     "text": [
      " 71%|█████████████████████████████▏           | 194/273 [27:05<10:06,  7.68s/it]"
     ]
    },
    {
     "name": "stdout",
     "output_type": "stream",
     "text": [
      "Problem: https://www.bankinter.com/empresas/en/cfo-forum/subject-matter-experts/news/future-of-tourism: HTTPSConnectionPool(host='www.bankinter.com', port=443): Read timed out. (read timeout=10)\n"
     ]
    },
    {
     "name": "stderr",
     "output_type": "stream",
     "text": [
      "\r",
      " 71%|█████████████████████████████▎           | 195/273 [27:17<11:20,  8.72s/it]"
     ]
    },
    {
     "name": "stdout",
     "output_type": "stream",
     "text": [
      "Problem: https://www.cnegroup.com/en/social/: HTTPSConnectionPool(host='www.cnegroup.com', port=443): Max retries exceeded with url: /en/social/ (Caused by SSLError(SSLCertVerificationError(1, '[SSL: CERTIFICATE_VERIFY_FAILED] certificate verify failed: unable to get local issuer certificate (_ssl.c:1129)')))\n"
     ]
    },
    {
     "name": "stderr",
     "output_type": "stream",
     "text": [
      " 72%|█████████████████████████████▌           | 197/273 [27:27<08:58,  7.08s/it]"
     ]
    },
    {
     "name": "stdout",
     "output_type": "stream",
     "text": [
      "Problem: https://www.adspipe.com/about-us/ads-blog/rebuilding-paradise: HTTPSConnectionPool(host='www.adspipe.com', port=443): Max retries exceeded with url: /about-us/ads-blog/rebuilding-paradise (Caused by SSLError(SSLCertVerificationError(1, '[SSL: CERTIFICATE_VERIFY_FAILED] certificate verify failed: unable to get local issuer certificate (_ssl.c:1129)')))\n"
     ]
    },
    {
     "name": "stderr",
     "output_type": "stream",
     "text": [
      "\r",
      " 73%|█████████████████████████████▋           | 198/273 [27:32<08:05,  6.47s/it]"
     ]
    },
    {
     "name": "stdout",
     "output_type": "stream",
     "text": [
      "Problem: https://www.usecology.com/article/why-natural-disaster-preparedness-key-reducing-risk-and-limit-operational-impact: HTTPSConnectionPool(host='www.usecology.com', port=443): Max retries exceeded with url: /article/why-natural-disaster-preparedness-key-reducing-risk-and-limit-operational-impact (Caused by SSLError(SSLCertVerificationError(1, '[SSL: CERTIFICATE_VERIFY_FAILED] certificate verify failed: unable to get local issuer certificate (_ssl.c:1129)')))\n",
      "Problem: https://www.cnegroup.com/en/social/public/: HTTPSConnectionPool(host='www.cnegroup.com', port=443): Max retries exceeded with url: /en/social/public/ (Caused by SSLError(SSLCertVerificationError(1, '[SSL: CERTIFICATE_VERIFY_FAILED] certificate verify failed: unable to get local issuer certificate (_ssl.c:1129)')))\n"
     ]
    },
    {
     "name": "stderr",
     "output_type": "stream",
     "text": [
      " 74%|██████████████████████████████▏          | 201/273 [27:49<06:49,  5.69s/it]"
     ]
    },
    {
     "name": "stdout",
     "output_type": "stream",
     "text": [
      "Problem: https://www.grainger.com/know-how/kh-environmental-safety-health-training-webinars: HTTPSConnectionPool(host='www.grainger.com', port=443): Read timed out. (read timeout=10)\n"
     ]
    },
    {
     "name": "stderr",
     "output_type": "stream",
     "text": [
      " 75%|██████████████████████████████▋          | 204/273 [28:10<06:54,  6.01s/it]"
     ]
    },
    {
     "name": "stdout",
     "output_type": "stream",
     "text": [
      "Problem: https://www.enterpriseproducts.com/safety-environment: HTTPSConnectionPool(host='www.enterpriseproducts.com', port=443): Max retries exceeded with url: /safety-environment (Caused by SSLError(SSLCertVerificationError(1, '[SSL: CERTIFICATE_VERIFY_FAILED] certificate verify failed: unable to get local issuer certificate (_ssl.c:1129)')))\n"
     ]
    },
    {
     "name": "stderr",
     "output_type": "stream",
     "text": [
      "\r",
      " 75%|██████████████████████████████▊          | 205/273 [28:13<05:49,  5.14s/it]"
     ]
    },
    {
     "name": "stdout",
     "output_type": "stream",
     "text": [
      "Problem: https://www.adspipe.com/legal/ads-global-anti-corruption-policy: HTTPSConnectionPool(host='www.adspipe.com', port=443): Max retries exceeded with url: /legal/ads-global-anti-corruption-policy (Caused by SSLError(SSLCertVerificationError(1, '[SSL: CERTIFICATE_VERIFY_FAILED] certificate verify failed: unable to get local issuer certificate (_ssl.c:1129)')))\n",
      "Problem: https://english.leumi.co.il/LEPersonalBanking/Social_Responsiblity/6252/: HTTPSConnectionPool(host='english.leumi.co.il', port=443): Max retries exceeded with url: /LEPersonalBanking/Social_Responsiblity/6252/ (Caused by ConnectTimeoutError(<urllib3.connection.HTTPSConnection object at 0x7f7d8d148ac0>, 'Connection to english.leumi.co.il timed out. (connect timeout=10)'))\n"
     ]
    },
    {
     "name": "stderr",
     "output_type": "stream",
     "text": [
      "\r",
      " 75%|██████████████████████████████▉          | 206/273 [28:24<07:39,  6.86s/it]"
     ]
    },
    {
     "name": "stdout",
     "output_type": "stream",
     "text": [
      "Problem: https://www.noblecorp.com/investors/news/news-details/2020/Noble-Holding-Corporation-plc-Announces-Confirmation-Of-Plan-Of-Reorganization/default.aspx: HTTPSConnectionPool(host='www.noblecorp.com', port=443): Max retries exceeded with url: /investors/news/news-details/2020/Noble-Holding-Corporation-plc-Announces-Confirmation-Of-Plan-Of-Reorganization/default.aspx (Caused by NewConnectionError('<urllib3.connection.HTTPSConnection object at 0x7f7d73fb5520>: Failed to establish a new connection: [Errno -2] Name or service not known'))\n"
     ]
    },
    {
     "name": "stderr",
     "output_type": "stream",
     "text": [
      " 77%|███████████████████████████████▍         | 209/273 [28:38<05:50,  5.47s/it]"
     ]
    },
    {
     "name": "stdout",
     "output_type": "stream",
     "text": [
      "Problem: https://www.wolverineworldwide.com/about-us/responsibility/conservation/: HTTPSConnectionPool(host='www.wolverineworldwide.com', port=443): Max retries exceeded with url: /about-us/responsibility/conservation/ (Caused by SSLError(SSLCertVerificationError(1, '[SSL: CERTIFICATE_VERIFY_FAILED] certificate verify failed: unable to get local issuer certificate (_ssl.c:1129)')))\n"
     ]
    },
    {
     "name": "stderr",
     "output_type": "stream",
     "text": [
      "\r",
      " 77%|███████████████████████████████▌         | 210/273 [28:46<06:28,  6.17s/it]"
     ]
    },
    {
     "name": "stdout",
     "output_type": "stream",
     "text": [
      "Problem: https://www.copel.com/hpcopel/english/siteMap.jsp: HTTPSConnectionPool(host='www.copel.com', port=443): Max retries exceeded with url: /hpcopel/english/siteMap.jsp (Caused by NewConnectionError('<urllib3.connection.HTTPSConnection object at 0x7f7d8cbb6ac0>: Failed to establish a new connection: [Errno 101] Network is unreachable'))\n"
     ]
    },
    {
     "name": "stderr",
     "output_type": "stream",
     "text": [
      "\r",
      " 77%|███████████████████████████████▋         | 211/273 [28:57<07:53,  7.63s/it]"
     ]
    },
    {
     "name": "stdout",
     "output_type": "stream",
     "text": [
      "Problem: https://www.starenergygeothermal.co.id/2021/10/07/applying-green-technology-star-energy-won-six-subroto-awards/: HTTPSConnectionPool(host='www.starenergygeothermal.co.id', port=443): Max retries exceeded with url: /2021/10/07/applying-green-technology-star-energy-won-six-subroto-awards/ (Caused by SSLError(SSLCertVerificationError(1, '[SSL: CERTIFICATE_VERIFY_FAILED] certificate verify failed: unable to get local issuer certificate (_ssl.c:1129)')))\n"
     ]
    },
    {
     "name": "stderr",
     "output_type": "stream",
     "text": [
      " 78%|███████████████████████████████▉         | 213/273 [29:05<05:42,  5.71s/it]"
     ]
    },
    {
     "name": "stdout",
     "output_type": "stream",
     "text": [
      "Problem: https://www.cosmote.gr/cs/otegroup/en/approach_and_performance.html: Exceeded 30 redirects.\n"
     ]
    },
    {
     "name": "stderr",
     "output_type": "stream",
     "text": [
      "\r",
      " 78%|████████████████████████████████▏        | 214/273 [29:14<06:38,  6.75s/it]"
     ]
    },
    {
     "name": "stdout",
     "output_type": "stream",
     "text": [
      "Problem: https://en.longi-energy.com/index.php?m=content&c=index&a=lists&catid=195: HTTPSConnectionPool(host='en.longi-energy.com', port=443): Max retries exceeded with url: /index.php?m=content&c=index&a=lists&catid=195 (Caused by ConnectTimeoutError(<urllib3.connection.HTTPSConnection object at 0x7f7d8c70f280>, 'Connection to en.longi-energy.com timed out. (connect timeout=10)'))\n",
      "Problem: https://en.longi-energy.com/index.php?m=content&c=index&a=lists&catid=163: HTTPSConnectionPool(host='en.longi-energy.com', port=443): Max retries exceeded with url: /index.php?m=content&c=index&a=lists&catid=163 (Caused by ConnectTimeoutError(<urllib3.connection.HTTPSConnection object at 0x7f7d8ca4db20>, 'Connection to en.longi-energy.com timed out. (connect timeout=10)'))\n"
     ]
    },
    {
     "name": "stderr",
     "output_type": "stream",
     "text": [
      "\r",
      " 79%|████████████████████████████████▎        | 215/273 [29:26<08:06,  8.38s/it]"
     ]
    },
    {
     "name": "stdout",
     "output_type": "stream",
     "text": [
      "Problem: https://www.europcar-mobility-group.com/press-releases: HTTPSConnectionPool(host='www.europcar-mobility-group.com', port=443): Max retries exceeded with url: /press-releases (Caused by SSLError(SSLCertVerificationError(1, '[SSL: CERTIFICATE_VERIFY_FAILED] certificate verify failed: unable to get local issuer certificate (_ssl.c:1129)')))\n"
     ]
    },
    {
     "name": "stderr",
     "output_type": "stream",
     "text": [
      " 79%|████████████████████████████████▌        | 217/273 [29:38<06:42,  7.20s/it]"
     ]
    },
    {
     "name": "stdout",
     "output_type": "stream",
     "text": [
      "Problem: https://www.northlandpower.com/en/news/northland-power-reports-third-quarter-2020-results.aspx: HTTPSConnectionPool(host='www.northlandpower.com', port=443): Max retries exceeded with url: /en/news/northland-power-reports-third-quarter-2020-results.aspx (Caused by SSLError(SSLCertVerificationError(1, '[SSL: CERTIFICATE_VERIFY_FAILED] certificate verify failed: unable to get local issuer certificate (_ssl.c:1129)')))\n"
     ]
    },
    {
     "name": "stderr",
     "output_type": "stream",
     "text": [
      "\r",
      " 80%|████████████████████████████████▋        | 218/273 [29:43<06:00,  6.55s/it]"
     ]
    },
    {
     "name": "stdout",
     "output_type": "stream",
     "text": [
      "Problem: https://en.longi-energy.com/index.php?m=content&c=index&a=lists&catid=242: HTTPSConnectionPool(host='en.longi-energy.com', port=443): Max retries exceeded with url: /index.php?m=content&c=index&a=lists&catid=242 (Caused by ConnectTimeoutError(<urllib3.connection.HTTPSConnection object at 0x7f7d8c7356a0>, 'Connection to en.longi-energy.com timed out. (connect timeout=10)'))\n",
      "Problem: http://en.crc.com.cn/whatwedo/finance/: (\"Connection broken: InvalidChunkLength(got length b'', 0 bytes read)\", InvalidChunkLength(got length b'', 0 bytes read))\n"
     ]
    },
    {
     "name": "stderr",
     "output_type": "stream",
     "text": [
      "\r",
      " 80%|████████████████████████████████▉        | 219/273 [29:54<07:03,  7.84s/it]"
     ]
    },
    {
     "name": "stdout",
     "output_type": "stream",
     "text": [
      "Problem: https://investor.hayward.com/investor-news/news-details/2021/Hayward-Holdings-Receives-2021-ENERGY-STAR-Award-for-Excellence-in-Product-Design/default.aspx: HTTPSConnectionPool(host='investor.hayward.com', port=443): Max retries exceeded with url: /investor-news/news-details/2021/Hayward-Holdings-Receives-2021-ENERGY-STAR-Award-for-Excellence-in-Product-Design/default.aspx (Caused by NewConnectionError('<urllib3.connection.HTTPSConnection object at 0x7f7d8c9803d0>: Failed to establish a new connection: [Errno -2] Name or service not known'))\n"
     ]
    },
    {
     "name": "stderr",
     "output_type": "stream",
     "text": [
      "\r",
      " 81%|█████████████████████████████████        | 220/273 [29:59<06:04,  6.87s/it]"
     ]
    },
    {
     "name": "stdout",
     "output_type": "stream",
     "text": [
      "Problem: https://www.tvo.fi/en/index/news/pressreleasesstockexchangereleases/2021/theregularelectricityproductionofol3eprwillbepostponedduetoextensionofturbineoverhaul.html: HTTPSConnectionPool(host='www.tvo.fi', port=443): Max retries exceeded with url: /en/index/news/pressreleasesstockexchangereleases/2021/theregularelectricityproductionofol3eprwillbepostponedduetoextensionofturbineoverhaul.html (Caused by SSLError(SSLCertVerificationError(1, '[SSL: CERTIFICATE_VERIFY_FAILED] certificate verify failed: unable to get local issuer certificate (_ssl.c:1129)')))\n",
      "Problem: https://www.sisecam.com.tr/en/investor-relations/presentations-and-bulletins/material-disclosures: HTTPSConnectionPool(host='www.sisecam.com.tr', port=443): Read timed out. (read timeout=10)\n"
     ]
    },
    {
     "name": "stderr",
     "output_type": "stream",
     "text": [
      " 82%|█████████████████████████████████▍       | 223/273 [30:34<08:24, 10.09s/it]"
     ]
    },
    {
     "name": "stdout",
     "output_type": "stream",
     "text": [
      "Problem: https://www.yili-innovation.com/food-safety-and-food-fraud-project-eu-china-safe-started/: HTTPSConnectionPool(host='www.yili-innovation.com', port=443): Max retries exceeded with url: /food-safety-and-food-fraud-project-eu-china-safe-started/ (Caused by SSLError(SSLCertVerificationError(1, '[SSL: CERTIFICATE_VERIFY_FAILED] certificate verify failed: unable to get local issuer certificate (_ssl.c:1129)')))\n",
      "Problem: https://www.sberbank.com/news-and-media/press-releases/article?newsID=ef4f1cee-304d-4edd-af20-66b25424436e&blockID=7&regionID=77&lang=en: HTTPSConnectionPool(host='www.sberbank.com', port=443): Max retries exceeded with url: /news-and-media/press-releases/article?newsID=ef4f1cee-304d-4edd-af20-66b25424436e&blockID=7&regionID=77&lang=en (Caused by ConnectTimeoutError(<urllib3.connection.HTTPSConnection object at 0x7f7da4120d90>, 'Connection to www.sberbank.com timed out. (connect timeout=10)'))\n"
     ]
    },
    {
     "name": "stderr",
     "output_type": "stream",
     "text": [
      "\r",
      " 82%|█████████████████████████████████▋       | 224/273 [30:46<08:37, 10.55s/it]"
     ]
    },
    {
     "name": "stdout",
     "output_type": "stream",
     "text": [
      "Problem: https://www.wolverineworldwide.com/investor-relations/corporate-governance/: HTTPSConnectionPool(host='www.wolverineworldwide.com', port=443): Max retries exceeded with url: /investor-relations/corporate-governance/ (Caused by SSLError(SSLCertVerificationError(1, '[SSL: CERTIFICATE_VERIFY_FAILED] certificate verify failed: unable to get local issuer certificate (_ssl.c:1129)')))\n",
      "Problem: http://www.dteenergy.com/termsofuse.html: HTTPConnectionPool(host='www.dteenergy.com', port=80): Max retries exceeded with url: /termsofuse.html (Caused by ConnectTimeoutError(<urllib3.connection.HTTPConnection object at 0x7f7d8cafcd00>, 'Connection to www.dteenergy.com timed out. (connect timeout=10)'))\n"
     ]
    },
    {
     "name": "stderr",
     "output_type": "stream",
     "text": [
      "\r",
      " 82%|█████████████████████████████████▊       | 225/273 [31:01<09:40, 12.10s/it]"
     ]
    },
    {
     "name": "stdout",
     "output_type": "stream",
     "text": [
      "Problem: https://www.gazprom.com/investors/disclosure/reports/2021/: HTTPSConnectionPool(host='www.gazprom.com', port=443): Max retries exceeded with url: /investors/disclosure/reports/2021/ (Caused by ConnectTimeoutError(<urllib3.connection.HTTPSConnection object at 0x7f7d8d4a1880>, 'Connection to www.gazprom.com timed out. (connect timeout=10)'))\n",
      "Problem: https://www.gazprom.com/investors/disclosure/reports/2020/: ('Connection aborted.', ConnectionResetError(104, 'Connection reset by peer'))\n"
     ]
    },
    {
     "name": "stderr",
     "output_type": "stream",
     "text": [
      "\r",
      " 83%|█████████████████████████████████▉       | 226/273 [31:16<10:03, 12.83s/it]"
     ]
    },
    {
     "name": "stdout",
     "output_type": "stream",
     "text": [
      "Problem: https://www.sigma-alimentos.com/en/our-mission/: HTTPSConnectionPool(host='www.sigma-alimentos.com', port=443): Max retries exceeded with url: /en/our-mission/ (Caused by SSLError(SSLCertVerificationError(1, '[SSL: CERTIFICATE_VERIFY_FAILED] certificate verify failed: unable to get local issuer certificate (_ssl.c:1129)')))\n",
      "Problem: https://www.hpi.com.cn/sites/english/ESG%20Report/publish.aspx: HTTPSConnectionPool(host='www.hpi.com.cn', port=443): Max retries exceeded with url: /sites/english/ESG%20Report/publish.aspx (Caused by SSLError(SSLCertVerificationError(1, '[SSL: CERTIFICATE_VERIFY_FAILED] certificate verify failed: unable to get local issuer certificate (_ssl.c:1129)')))\n"
     ]
    },
    {
     "name": "stderr",
     "output_type": "stream",
     "text": [
      "\r",
      " 83%|██████████████████████████████████       | 227/273 [31:23<08:31, 11.12s/it]"
     ]
    },
    {
     "name": "stdout",
     "output_type": "stream",
     "text": [
      "Problem: https://www.sberbank.com/investor-relations/corporate-governance/sberbank-executive-board/golodets: HTTPSConnectionPool(host='www.sberbank.com', port=443): Read timed out. (read timeout=10)\n",
      "Problem: https://europcar-mobility-group.com/group: HTTPSConnectionPool(host='europcar-mobility-group.com', port=443): Max retries exceeded with url: /group (Caused by SSLError(SSLCertVerificationError(1, '[SSL: CERTIFICATE_VERIFY_FAILED] certificate verify failed: unable to get local issuer certificate (_ssl.c:1129)')))\n",
      "Problem: https://europcar-mobility-group.com/: HTTPSConnectionPool(host='europcar-mobility-group.com', port=443): Max retries exceeded with url: / (Caused by SSLError(SSLCertVerificationError(1, '[SSL: CERTIFICATE_VERIFY_FAILED] certificate verify failed: unable to get local issuer certificate (_ssl.c:1129)')))\n"
     ]
    },
    {
     "name": "stderr",
     "output_type": "stream",
     "text": [
      " 85%|██████████████████████████████████▋      | 231/273 [31:50<05:04,  7.25s/it]"
     ]
    },
    {
     "name": "stdout",
     "output_type": "stream",
     "text": [
      "Problem: https://santander.cl/transa/productos/salir.asp: HTTPSConnectionPool(host='santander.cl', port=443): Max retries exceeded with url: /transa/productos/salir.asp (Caused by NewConnectionError('<urllib3.connection.HTTPSConnection object at 0x7f7d8ccb2340>: Failed to establish a new connection: [Errno -5] No address associated with hostname'))\n",
      "Problem: https://cimpress.com/our-focus/: HTTPSConnectionPool(host='cimpress.com', port=443): Max retries exceeded with url: /our-focus/ (Caused by SSLError(SSLCertVerificationError(1, '[SSL: CERTIFICATE_VERIFY_FAILED] certificate verify failed: unable to get local issuer certificate (_ssl.c:1129)')))\n",
      "Problem: https://www.dnb.com/business-directory/company-profiles.pet_center_comercio_e_participacoes_sa.e33100329a92f571b271fc9723f3756c.html: HTTPSConnectionPool(host='www.dnb.com', port=443): Read timed out. (read timeout=10)\n"
     ]
    },
    {
     "name": "stderr",
     "output_type": "stream",
     "text": [
      "\r",
      " 85%|██████████████████████████████████▊      | 232/273 [32:02<05:44,  8.40s/it]"
     ]
    },
    {
     "name": "stdout",
     "output_type": "stream",
     "text": [
      "Problem: https://www.dnb.com/business-directory/company-profiles.pet_center_comercio_e_participacoes_sa.3f696a9ed9f447baf3b49a0e1bfb8735.html: HTTPSConnectionPool(host='www.dnb.com', port=443): Read timed out. (read timeout=10)\n",
      "Problem: https://www.dnb.com/business-directory/company-profiles.pet_center_comercio_e_participacoes_sa.87f255f76a8f91712bfe37c88111925a.html: HTTPSConnectionPool(host='www.dnb.com', port=443): Read timed out. (read timeout=10)\n"
     ]
    },
    {
     "name": "stderr",
     "output_type": "stream",
     "text": [
      " 86%|███████████████████████████████████▎     | 235/273 [32:28<05:39,  8.93s/it]"
     ]
    },
    {
     "name": "stdout",
     "output_type": "stream",
     "text": [
      "Problem: https://www.isbank.com.tr/en/about-us/isbank-news: HTTPSConnectionPool(host='www.isbank.com.tr', port=443): Max retries exceeded with url: /en/about-us/isbank-news (Caused by NewConnectionError('<urllib3.connection.HTTPSConnection object at 0x7f7d8cafdbe0>: Failed to establish a new connection: [Errno 113] No route to host'))\n",
      "Problem: https://www.hpi.com.cn/sites/english/Pages/Organisation.aspx: HTTPSConnectionPool(host='www.hpi.com.cn', port=443): Max retries exceeded with url: /sites/english/Pages/Organisation.aspx (Caused by SSLError(SSLCertVerificationError(1, '[SSL: CERTIFICATE_VERIFY_FAILED] certificate verify failed: unable to get local issuer certificate (_ssl.c:1129)')))\n"
     ]
    },
    {
     "name": "stderr",
     "output_type": "stream",
     "text": [
      "\r",
      " 86%|███████████████████████████████████▍     | 236/273 [32:33<04:47,  7.76s/it]"
     ]
    },
    {
     "name": "stdout",
     "output_type": "stream",
     "text": [
      "Problem: http://www.dtpower.com/news/2020/04/30/c_30672.htm: ('Connection aborted.', RemoteDisconnected('Remote end closed connection without response'))\n",
      "Problem: https://www.hpi.com.cn/sites/english/Pages/energysaving.aspx: HTTPSConnectionPool(host='www.hpi.com.cn', port=443): Max retries exceeded with url: /sites/english/Pages/energysaving.aspx (Caused by SSLError(SSLCertVerificationError(1, '[SSL: CERTIFICATE_VERIFY_FAILED] certificate verify failed: unable to get local issuer certificate (_ssl.c:1129)')))\n"
     ]
    },
    {
     "name": "stderr",
     "output_type": "stream",
     "text": [
      " 87%|███████████████████████████████████▋     | 238/273 [33:04<06:11, 10.62s/it]"
     ]
    },
    {
     "name": "stdout",
     "output_type": "stream",
     "text": [
      "Problem: https://www.cnegroup.com/en/news/index_11.html: HTTPSConnectionPool(host='www.cnegroup.com', port=443): Max retries exceeded with url: /en/news/index_11.html (Caused by SSLError(SSLCertVerificationError(1, '[SSL: CERTIFICATE_VERIFY_FAILED] certificate verify failed: unable to get local issuer certificate (_ssl.c:1129)')))\n",
      "Problem: https://www.carabaogroup.com/en/about/vision: HTTPSConnectionPool(host='www.carabaogroup.com', port=443): Max retries exceeded with url: /en/about/vision (Caused by SSLError(SSLCertVerificationError(1, '[SSL: CERTIFICATE_VERIFY_FAILED] certificate verify failed: unable to get local issuer certificate (_ssl.c:1129)')))\n"
     ]
    },
    {
     "name": "stderr",
     "output_type": "stream",
     "text": [
      "\r",
      " 88%|███████████████████████████████████▉     | 239/273 [33:09<05:03,  8.93s/it]"
     ]
    },
    {
     "name": "stdout",
     "output_type": "stream",
     "text": [
      "Problem: https://www.sigma-alimentos.com/en/our-history/: HTTPSConnectionPool(host='www.sigma-alimentos.com', port=443): Max retries exceeded with url: /en/our-history/ (Caused by SSLError(SSLCertVerificationError(1, '[SSL: CERTIFICATE_VERIFY_FAILED] certificate verify failed: unable to get local issuer certificate (_ssl.c:1129)')))\n",
      "Problem: https://www.wolverineworldwide.com/about-us/responsibility/responsible-sourcing/: HTTPSConnectionPool(host='www.wolverineworldwide.com', port=443): Max retries exceeded with url: /about-us/responsibility/responsible-sourcing/ (Caused by SSLError(SSLCertVerificationError(1, '[SSL: CERTIFICATE_VERIFY_FAILED] certificate verify failed: unable to get local issuer certificate (_ssl.c:1129)')))\n"
     ]
    },
    {
     "name": "stderr",
     "output_type": "stream",
     "text": [
      "\r",
      " 88%|████████████████████████████████████     | 240/273 [33:11<03:48,  6.93s/it]"
     ]
    },
    {
     "name": "stdout",
     "output_type": "stream",
     "text": [
      "Problem: https://adler-ag.com/investor-relations/publikationen/csr-kennzahlen/: HTTPSConnectionPool(host='adler-ag.com', port=443): Max retries exceeded with url: /investor-relations/publikationen/csr-kennzahlen/ (Caused by SSLError(SSLCertVerificationError(1, '[SSL: CERTIFICATE_VERIFY_FAILED] certificate verify failed: unable to get local issuer certificate (_ssl.c:1129)')))\n",
      "Problem: https://www.sigma-alimentos.com/categorias/: HTTPSConnectionPool(host='www.sigma-alimentos.com', port=443): Max retries exceeded with url: /categorias/ (Caused by SSLError(SSLCertVerificationError(1, '[SSL: CERTIFICATE_VERIFY_FAILED] certificate verify failed: unable to get local issuer certificate (_ssl.c:1129)')))\n"
     ]
    },
    {
     "name": "stderr",
     "output_type": "stream",
     "text": [
      "\r",
      " 88%|████████████████████████████████████▏    | 241/273 [33:15<03:09,  5.93s/it]"
     ]
    },
    {
     "name": "stdout",
     "output_type": "stream",
     "text": [
      "Problem: https://www.carabaogroup.com/en/about/message-from-chairman: HTTPSConnectionPool(host='www.carabaogroup.com', port=443): Max retries exceeded with url: /en/about/message-from-chairman (Caused by SSLError(SSLCertVerificationError(1, '[SSL: CERTIFICATE_VERIFY_FAILED] certificate verify failed: unable to get local issuer certificate (_ssl.c:1129)')))\n",
      "Problem: https://corp.advanceautoparts.com/investors/governance/board-of-directors/person-details/default.aspx?ItemId=eafed67a-575d-4c38-9ab4-8115162a7740: HTTPSConnectionPool(host='corp.advanceautoparts.com', port=443): Max retries exceeded with url: /investors/governance/board-of-directors/person-details/default.aspx?ItemId=eafed67a-575d-4c38-9ab4-8115162a7740 (Caused by NewConnectionError('<urllib3.connection.HTTPSConnection object at 0x7f7da7304dc0>: Failed to establish a new connection: [Errno -2] Name or service not known'))\n"
     ]
    },
    {
     "name": "stderr",
     "output_type": "stream",
     "text": [
      "\r",
      " 89%|████████████████████████████████████▎    | 242/273 [33:20<02:54,  5.63s/it]"
     ]
    },
    {
     "name": "stdout",
     "output_type": "stream",
     "text": [
      "Problem: http://www.dtpower.com/news/2021/04/24/c_34535.htm: ('Connection aborted.', RemoteDisconnected('Remote end closed connection without response'))\n"
     ]
    },
    {
     "name": "stderr",
     "output_type": "stream",
     "text": [
      "\r",
      " 89%|████████████████████████████████████▍    | 243/273 [33:24<02:31,  5.03s/it]"
     ]
    },
    {
     "name": "stdout",
     "output_type": "stream",
     "text": [
      "Problem: https://www.kelloggcompany.com/en_US/our-vision-purpose.html: HTTPSConnectionPool(host='www.kelloggcompany.com', port=443): Read timed out. (read timeout=10)\n"
     ]
    },
    {
     "name": "stderr",
     "output_type": "stream",
     "text": [
      " 90%|████████████████████████████████████▊    | 245/273 [33:50<04:00,  8.59s/it]"
     ]
    },
    {
     "name": "stdout",
     "output_type": "stream",
     "text": [
      "Problem: https://www.cosmote.gr/cs/otegroup/en/investor_calendar.html: Exceeded 30 redirects.\n"
     ]
    },
    {
     "name": "stderr",
     "output_type": "stream",
     "text": [
      "\r",
      " 90%|████████████████████████████████████▉    | 246/273 [33:58<03:50,  8.53s/it]"
     ]
    },
    {
     "name": "stdout",
     "output_type": "stream",
     "text": [
      "Problem: https://www.royalcaribbean.com/resources/safety-and-security: HTTPSConnectionPool(host='www.royalcaribbean.com', port=443): Read timed out. (read timeout=10)\n",
      "Problem: http://www.dtpower.com/news/2021/01/30/c_32870.htm: ('Connection aborted.', RemoteDisconnected('Remote end closed connection without response'))\n"
     ]
    },
    {
     "name": "stderr",
     "output_type": "stream",
     "text": [
      "\r",
      " 90%|█████████████████████████████████████    | 247/273 [34:09<03:57,  9.13s/it]"
     ]
    },
    {
     "name": "stdout",
     "output_type": "stream",
     "text": [
      "Problem: http://en.hongqiaochina.com/overview.html: HTTPConnectionPool(host='en.hongqiaochina.com', port=80): Read timed out. (read timeout=10)\n"
     ]
    },
    {
     "name": "stderr",
     "output_type": "stream",
     "text": [
      "\r",
      " 91%|█████████████████████████████████████▏   | 248/273 [34:28<05:02, 12.10s/it]"
     ]
    },
    {
     "name": "stdout",
     "output_type": "stream",
     "text": [
      "Problem: https://adler-ag.com/en/investor-relations/publications/financial-reports-2/: HTTPSConnectionPool(host='adler-ag.com', port=443): Max retries exceeded with url: /en/investor-relations/publications/financial-reports-2/ (Caused by SSLError(SSLCertVerificationError(1, '[SSL: CERTIFICATE_VERIFY_FAILED] certificate verify failed: unable to get local issuer certificate (_ssl.c:1129)')))\n"
     ]
    },
    {
     "name": "stderr",
     "output_type": "stream",
     "text": [
      " 92%|█████████████████████████████████████▌   | 250/273 [34:47<03:56, 10.29s/it]"
     ]
    },
    {
     "name": "stdout",
     "output_type": "stream",
     "text": [
      "Problem: https://english.leumi.co.il/LEStruc/Immediate_Reports/7159/: HTTPSConnectionPool(host='english.leumi.co.il', port=443): Max retries exceeded with url: /LEStruc/Immediate_Reports/7159/ (Caused by ConnectTimeoutError(<urllib3.connection.HTTPSConnection object at 0x7f7da9d28f40>, 'Connection to english.leumi.co.il timed out. (connect timeout=10)'))\n",
      "Problem: https://corp.advanceautoparts.com/investors/news-and-events/press-releases/press-release-details/2021/Advance-Auto-Parts-Partners-With-Bridgestone-Retail-Operations-for-Nationwide-DieHard-Battery-Transition/default.aspx: HTTPSConnectionPool(host='corp.advanceautoparts.com', port=443): Max retries exceeded with url: /investors/news-and-events/press-releases/press-release-details/2021/Advance-Auto-Parts-Partners-With-Bridgestone-Retail-Operations-for-Nationwide-DieHard-Battery-Transition/default.aspx (Caused by NewConnectionError('<urllib3.connection.HTTPSConnection object at 0x7f7d8c98fca0>: Failed to establish a new connection: [Errno -2] Name or service not known'))\n"
     ]
    },
    {
     "name": "stderr",
     "output_type": "stream",
     "text": [
      " 93%|█████████████████████████████████████▉   | 253/273 [35:09<02:40,  8.03s/it]"
     ]
    },
    {
     "name": "stdout",
     "output_type": "stream",
     "text": [
      "Problem: https://www.moodys.com/research/Moodys-downgrades-Tasekos-ratings-to-Caa1-outlook-negative--PR_420750?bcmt=1: HTTPSConnectionPool(host='www.moodys.com', port=443): Read timed out. (read timeout=10)\n",
      "Problem: https://www.copel.com/hpcopel/english/: HTTPSConnectionPool(host='www.copel.com', port=443): Max retries exceeded with url: /hpcopel/english/ (Caused by NewConnectionError('<urllib3.connection.HTTPSConnection object at 0x7f7da4108a30>: Failed to establish a new connection: [Errno 101] Network is unreachable'))\n"
     ]
    },
    {
     "name": "stderr",
     "output_type": "stream",
     "text": [
      "\r",
      " 93%|██████████████████████████████████████▏  | 254/273 [35:22<02:58,  9.37s/it]"
     ]
    },
    {
     "name": "stdout",
     "output_type": "stream",
     "text": [
      "Problem: https://www.yili-innovation.com/: HTTPSConnectionPool(host='www.yili-innovation.com', port=443): Max retries exceeded with url: / (Caused by SSLError(SSLCertVerificationError(1, '[SSL: CERTIFICATE_VERIFY_FAILED] certificate verify failed: unable to get local issuer certificate (_ssl.c:1129)')))\n",
      "Problem: https://www.berjaya.com/berjaya-sports-toto/: HTTPSConnectionPool(host='www.berjaya.com', port=443): Max retries exceeded with url: /berjaya-sports-toto/ (Caused by SSLError(SSLCertVerificationError(1, '[SSL: CERTIFICATE_VERIFY_FAILED] certificate verify failed: unable to get local issuer certificate (_ssl.c:1129)')))\n"
     ]
    },
    {
     "name": "stderr",
     "output_type": "stream",
     "text": [
      "\r",
      " 93%|██████████████████████████████████████▎  | 255/273 [35:27<02:26,  8.16s/it]"
     ]
    },
    {
     "name": "stdout",
     "output_type": "stream",
     "text": [
      "Problem: https://www.dnb.com/business-directory/company-information.investigation_and_security_services.jp.niigata.niigata.html: HTTPSConnectionPool(host='www.dnb.com', port=443): Read timed out. (read timeout=10)\n",
      "Problem: https://www.kelloggcompany.com/en_US/employee-resource-groups.html: HTTPSConnectionPool(host='www.kelloggcompany.com', port=443): Read timed out. (read timeout=10)\n"
     ]
    },
    {
     "name": "stderr",
     "output_type": "stream",
     "text": [
      " 95%|██████████████████████████████████████▋  | 258/273 [35:52<01:58,  7.90s/it]"
     ]
    },
    {
     "name": "stdout",
     "output_type": "stream",
     "text": [
      "Problem: https://pinewoodgroup.com/pinewood-today/careers/project-manager: HTTPSConnectionPool(host='pinewoodgroup.com', port=443): Max retries exceeded with url: /pinewood-today/careers/project-manager (Caused by SSLError(SSLCertVerificationError(1, '[SSL: CERTIFICATE_VERIFY_FAILED] certificate verify failed: unable to get local issuer certificate (_ssl.c:1129)')))\n"
     ]
    },
    {
     "name": "stderr",
     "output_type": "stream",
     "text": [
      "\r",
      " 95%|██████████████████████████████████████▉  | 259/273 [35:59<01:49,  7.80s/it]"
     ]
    },
    {
     "name": "stdout",
     "output_type": "stream",
     "text": [
      "Problem: https://www.dnb.com/business-directory/company-profiles.sohgo_security_services_coltd.9bbc7024df4aea854692177033a7aff8.html: HTTPSConnectionPool(host='www.dnb.com', port=443): Read timed out. (read timeout=10)\n",
      "Problem: https://english.leumi.co.il/LEFullArt/International_Ratings/5727/: HTTPSConnectionPool(host='english.leumi.co.il', port=443): Max retries exceeded with url: /LEFullArt/International_Ratings/5727/ (Caused by ConnectTimeoutError(<urllib3.connection.HTTPSConnection object at 0x7f7d6d66aca0>, 'Connection to english.leumi.co.il timed out. (connect timeout=10)'))\n"
     ]
    },
    {
     "name": "stderr",
     "output_type": "stream",
     "text": [
      " 96%|███████████████████████████████████████▏ | 261/273 [36:24<02:00, 10.06s/it]"
     ]
    },
    {
     "name": "stdout",
     "output_type": "stream",
     "text": [
      "Problem: https://www.dnb.com/en-gb/: HTTPSConnectionPool(host='www.dnb.com', port=443): Read timed out. (read timeout=10)\n",
      "Problem: https://www.moodys.com/research/Moodys-places-1721-letter-of-credit-and-liquidity-supported-US--PR_320935: HTTPSConnectionPool(host='www.moodys.com', port=443): Read timed out. (read timeout=10)\n"
     ]
    },
    {
     "name": "stderr",
     "output_type": "stream",
     "text": [
      " 97%|███████████████████████████████████████▋ | 264/273 [36:48<01:20,  8.93s/it]"
     ]
    },
    {
     "name": "stdout",
     "output_type": "stream",
     "text": [
      "Problem: http://www.berjaya.com/: HTTPSConnectionPool(host='www.berjaya.com', port=443): Max retries exceeded with url: / (Caused by SSLError(SSLCertVerificationError(1, '[SSL: CERTIFICATE_VERIFY_FAILED] certificate verify failed: unable to get local issuer certificate (_ssl.c:1129)')))\n",
      "Problem: http://www.dteenergy.com/?refPageViewId=5d14c09a6496146a: HTTPConnectionPool(host='www.dteenergy.com', port=80): Max retries exceeded with url: /?refPageViewId=5d14c09a6496146a (Caused by ConnectTimeoutError(<urllib3.connection.HTTPConnection object at 0x7f7d8d432a00>, 'Connection to www.dteenergy.com timed out. (connect timeout=10)'))\n",
      "Problem: https://www.kelloggcompany.com/en_US/supplier-relations.html: HTTPSConnectionPool(host='www.kelloggcompany.com', port=443): Read timed out. (read timeout=10)\n"
     ]
    },
    {
     "name": "stderr",
     "output_type": "stream",
     "text": [
      "\r",
      " 97%|███████████████████████████████████████▊ | 265/273 [37:01<01:19, 10.00s/it]"
     ]
    },
    {
     "name": "stdout",
     "output_type": "stream",
     "text": [
      "Problem: https://www.dnb.com/about-us.html: HTTPSConnectionPool(host='www.dnb.com', port=443): Read timed out. (read timeout=10)\n"
     ]
    },
    {
     "name": "stderr",
     "output_type": "stream",
     "text": [
      "\r",
      " 97%|███████████████████████████████████████▉ | 266/273 [37:14<01:16, 10.90s/it]"
     ]
    },
    {
     "name": "stdout",
     "output_type": "stream",
     "text": [
      "Problem: https://www.dnb.com/business-directory.html: HTTPSConnectionPool(host='www.dnb.com', port=443): Read timed out. (read timeout=10)\n",
      "Problem: https://www.muangthaicap.com/en/about.php: HTTPSConnectionPool(host='www.muangthaicap.com', port=443): Max retries exceeded with url: /en/about.php (Caused by SSLError(SSLCertVerificationError(1, '[SSL: CERTIFICATE_VERIFY_FAILED] certificate verify failed: unable to get local issuer certificate (_ssl.c:1129)')))\n",
      "Problem: https://www.muangthaicap.com/en/index.php: HTTPSConnectionPool(host='www.muangthaicap.com', port=443): Max retries exceeded with url: /en/index.php (Caused by SSLError(SSLCertVerificationError(1, '[SSL: CERTIFICATE_VERIFY_FAILED] certificate verify failed: unable to get local issuer certificate (_ssl.c:1129)')))\n"
     ]
    },
    {
     "name": "stderr",
     "output_type": "stream",
     "text": [
      "\r",
      " 98%|████████████████████████████████████████ | 267/273 [37:24<01:04, 10.83s/it]"
     ]
    },
    {
     "name": "stdout",
     "output_type": "stream",
     "text": [
      "Problem: https://pinewoodgroup.com/pinewood-today/news/pinewoods-andrew-smith-appointed-to-the-board-of-the-british-film-institute: HTTPSConnectionPool(host='pinewoodgroup.com', port=443): Max retries exceeded with url: /pinewood-today/news/pinewoods-andrew-smith-appointed-to-the-board-of-the-british-film-institute (Caused by SSLError(SSLCertVerificationError(1, '[SSL: CERTIFICATE_VERIFY_FAILED] certificate verify failed: unable to get local issuer certificate (_ssl.c:1129)')))\n",
      "Problem: https://www.directline.com/home-cover: HTTPSConnectionPool(host='www.directline.com', port=443): Max retries exceeded with url: /home-cover (Caused by ConnectTimeoutError(<urllib3.connection.HTTPSConnection object at 0x7f7da6a75220>, 'Connection to www.directline.com timed out. (connect timeout=10)'))\n"
     ]
    },
    {
     "name": "stderr",
     "output_type": "stream",
     "text": [
      " 99%|████████████████████████████████████████▍| 269/273 [37:42<00:38,  9.61s/it]"
     ]
    },
    {
     "name": "stdout",
     "output_type": "stream",
     "text": [
      "Problem: https://www.cvrenergy.com/: HTTPSConnectionPool(host='www.cvrenergy.com', port=443): Max retries exceeded with url: / (Caused by ConnectTimeoutError(<urllib3.connection.HTTPSConnection object at 0x7f7d7217bc10>, 'Connection to www.cvrenergy.com timed out. (connect timeout=10)'))\n",
      "Problem: http://www.fdgev.com/en/news_detail/443: ('Connection aborted.', RemoteDisconnected('Remote end closed connection without response'))\n"
     ]
    },
    {
     "name": "stderr",
     "output_type": "stream",
     "text": [
      "\r",
      " 99%|████████████████████████████████████████▌| 270/273 [37:53<00:30, 10.12s/it]"
     ]
    },
    {
     "name": "stdout",
     "output_type": "stream",
     "text": [
      "Problem: https://www.dish.com/dish-cares/: HTTPSConnectionPool(host='www.dish.com', port=443): Read timed out. (read timeout=10)\n",
      "Problem: https://www.parker.com/portal/site/PARKER/menuitem.7322a3ce19c3a730b5170b9d237ad1ca/?vgnextoid=210c2e1209a6e210VgnVCM10000048021dacRCRD&vgnextfmt=EN&vgnextitem=1a18afb71e7ea710VgnVCM100000e6651dacRCRD&vgnextcat=News%20Release%20Details: HTTPSConnectionPool(host='www.parker.com', port=443): Read timed out. (read timeout=10)\n"
     ]
    },
    {
     "name": "stderr",
     "output_type": "stream",
     "text": [
      "\r",
      " 99%|████████████████████████████████████████▋| 271/273 [38:05<00:21, 10.55s/it]"
     ]
    },
    {
     "name": "stdout",
     "output_type": "stream",
     "text": [
      "Problem: http://www.fdgev.com/en/news_detail/368: ('Connection aborted.', RemoteDisconnected('Remote end closed connection without response'))\n",
      "Problem: https://www.dish.com/programming/packages/: HTTPSConnectionPool(host='www.dish.com', port=443): Read timed out. (read timeout=10)\n"
     ]
    },
    {
     "name": "stderr",
     "output_type": "stream",
     "text": [
      "100%|█████████████████████████████████████████| 273/273 [38:26<00:00,  8.45s/it]"
     ]
    },
    {
     "name": "stdout",
     "output_type": "stream",
     "text": [
      "Problem: https://www.dish.com/: HTTPSConnectionPool(host='www.dish.com', port=443): Read timed out. (read timeout=10)\n"
     ]
    },
    {
     "name": "stderr",
     "output_type": "stream",
     "text": [
      "\n"
     ]
    }
   ],
   "source": [
    "import grequests\n",
    "\n",
    "class Test(object):\n",
    "    def __init__(self, urls):\n",
    "        self.urls = urls\n",
    "\n",
    "    def exception(self, request, exception):\n",
    "        print(\"Problem: {}: {}\".format(request.url, exception))\n",
    "\n",
    "    def async1(self):\n",
    "        results = grequests.map((grequests.get(u, timeout=10, stream=False) for u in self.urls), exception_handler=self.exception, size=10)\n",
    "        # print(results)\n",
    "        return results\n",
    "    \n",
    "# test = Test(news_data.url.values.tolist()[0:100])\n",
    "# results = test.async1()\n",
    "# results\n",
    "\n",
    "import requests\n",
    "from bs4 import BeautifulSoup\n",
    "from tqdm import tqdm\n",
    "from urllib.parse import urljoin\n",
    "def chunks(lst, n):\n",
    "    \"\"\"Yield successive n-sized chunks from lst.\"\"\"\n",
    "    for i in range(0, len(lst), n):\n",
    "        yield lst[i:i + n]\n",
    "\n",
    "content_list = []\n",
    "for i in tqdm(list(chunks(range(0, len(news_data.url.values)), 20))):\n",
    "    urls = news_data.url.values[i]\n",
    "    test = Test(urls)\n",
    "    results = test.async1()\n",
    "    # for req, url in tqdm(zip(results, urls), total=len(urls), leave=False):\n",
    "    for req, url in zip(results, urls):\n",
    "        if req == None:\n",
    "            content_list.append(None)\n",
    "        elif req.status_code == 200:\n",
    "            soup = BeautifulSoup(req.content, 'html.parser', from_encoding=\"iso-8859-1\")\n",
    "            raw_text = []\n",
    "            for element in soup.findAll(text=True):\n",
    "                raw_text.append(element.getText())\n",
    "            content_list.append(\" \".join(raw_text))\n",
    "        else:\n",
    "            content_list.append(None)\n",
    "            \n",
    "# news_data[\"pdf_list\"] = content_list\n",
    "# content_list"
   ]
  },
  {
   "cell_type": "code",
   "execution_count": 6,
   "id": "71f4b2fc",
   "metadata": {},
   "outputs": [],
   "source": [
    "news_data[\"web_content\"] = content_list\n",
    "news_data = news_data.dropna()\n",
    "news_data.to_csv(\"./wiki_data/sus_web_content.csv\", sep='\\t')"
   ]
  },
  {
   "cell_type": "code",
   "execution_count": 15,
   "id": "2ec68ae9",
   "metadata": {},
   "outputs": [
    {
     "name": "stderr",
     "output_type": "stream",
     "text": [
      "100%|███████████████████████████████████| 1908/1908 [00:00<00:00, 230023.05it/s]\n"
     ]
    }
   ],
   "source": [
    "##########################################wikipedia\n",
    "news_data = pd.read_csv(\"./wiki_data/wiki_url_final.csv\",sep=\"\\t\")\n",
    "from urllib.parse import urlparse\n",
    "from tqdm import tqdm\n",
    "\n",
    "tqdm.pandas()\n",
    "def process_url(url):\n",
    "    p = urlparse(url)\n",
    "    return \"https://\"+p.netloc+\"/w/index.php?action=raw&title=\"+p.path.split(\"/\")[-1]\n",
    "\n",
    "news_data[\"new_url\"] = news_data[\"url\"].progress_apply(process_url)"
   ]
  },
  {
   "cell_type": "code",
   "execution_count": 11,
   "id": "91a7c8df",
   "metadata": {},
   "outputs": [],
   "source": [
    "# pd.read_csv(\"./wiki_data/sus_web_content.csv\", sep='\\t')"
   ]
  },
  {
   "cell_type": "code",
   "execution_count": 20,
   "id": "ee5abad7",
   "metadata": {},
   "outputs": [
    {
     "name": "stderr",
     "output_type": "stream",
     "text": [
      " 64%|███████████████████████████▎               | 61/96 [00:52<01:58,  3.40s/it]"
     ]
    },
    {
     "name": "stdout",
     "output_type": "stream",
     "text": [
      "Problem: https://en.wikipedia.org/w/index.php?action=raw&title=Pearson_plc: HTTPSConnectionPool(host='en.wikipedia.org', port=443): Read timed out. (read timeout=10)\n"
     ]
    },
    {
     "name": "stderr",
     "output_type": "stream",
     "text": [
      " 96%|█████████████████████████████████████████▏ | 92/96 [01:23<00:12,  3.09s/it]"
     ]
    },
    {
     "name": "stdout",
     "output_type": "stream",
     "text": [
      "Problem: https://www.dsnl.co.kr/w/index.php?action=raw&title=about-overview.html: HTTPSConnectionPool(host='www.dsnl.co.kr', port=443): Max retries exceeded with url: /w/index.php?action=raw&title=about-overview.html (Caused by SSLError(SSLCertVerificationError(\"hostname 'www.dsnl.co.kr' doesn't match either of '*.oneduksan.com', 'oneduksan.com'\")))\n"
     ]
    },
    {
     "name": "stderr",
     "output_type": "stream",
     "text": [
      " 99%|██████████████████████████████████████████▌| 95/96 [01:43<00:05,  5.71s/it]"
     ]
    },
    {
     "name": "stdout",
     "output_type": "stream",
     "text": [
      "Problem: https://summit-materials.com/w/index.php?action=raw&title=: HTTPSConnectionPool(host='summit-materials.com', port=443): Max retries exceeded with url: /w/index.php?action=raw&title= (Caused by NewConnectionError('<urllib3.connection.HTTPSConnection object at 0x7f7d8d3bc550>: Failed to establish a new connection: [Errno -3] Temporary failure in name resolution'))\n"
     ]
    },
    {
     "name": "stderr",
     "output_type": "stream",
     "text": [
      "100%|███████████████████████████████████████████| 96/96 [01:43<00:00,  1.08s/it]\n"
     ]
    }
   ],
   "source": [
    "import grequests\n",
    "\n",
    "class Test(object):\n",
    "    def __init__(self, urls):\n",
    "        self.urls = urls\n",
    "\n",
    "    def exception(self, request, exception):\n",
    "        print(\"Problem: {}: {}\".format(request.url, exception))\n",
    "\n",
    "    def async1(self):\n",
    "        results = grequests.map((grequests.get(u, timeout=10, stream=False) for u in self.urls), exception_handler=self.exception, size=20)\n",
    "        # print(results)\n",
    "        return results\n",
    "    \n",
    "# test = Test(news_data.url.values.tolist()[0:100])\n",
    "# results = test.async1()\n",
    "# results\n",
    "\n",
    "import requests\n",
    "from bs4 import BeautifulSoup\n",
    "from tqdm import tqdm\n",
    "from urllib.parse import urljoin\n",
    "def chunks(lst, n):\n",
    "    \"\"\"Yield successive n-sized chunks from lst.\"\"\"\n",
    "    for i in range(0, len(lst), n):\n",
    "        yield lst[i:i + n]\n",
    "\n",
    "content_list = []\n",
    "for i in tqdm(list(chunks(range(0, len(news_data.new_url.values)), 20))):\n",
    "    urls = news_data.new_url.values[i]\n",
    "    test = Test(urls)\n",
    "    results = test.async1()\n",
    "    # for req, url in tqdm(zip(results, urls), total=len(urls), leave=False):\n",
    "    for req, url in zip(results, urls):\n",
    "        if req == None:\n",
    "            content_list.append(None)\n",
    "        elif req.status_code == 200:\n",
    "            soup = BeautifulSoup(req.content, 'html.parser', from_encoding=\"iso-8859-1\")\n",
    "            raw_text = []\n",
    "            for element in soup.findAll(text=True):\n",
    "                raw_text.append(element.getText())\n",
    "            content_list.append(\" \".join(raw_text))\n",
    "        else:\n",
    "            content_list.append(None)\n",
    "            \n",
    "# news_data[\"pdf_list\"] = content_list\n",
    "# content_list"
   ]
  },
  {
   "cell_type": "code",
   "execution_count": 24,
   "id": "75b68a8f",
   "metadata": {},
   "outputs": [],
   "source": [
    "news_data[\"wiki_content\"] = content_list\n",
    "news_data = news_data.dropna()\n",
    "news_data.to_csv(\"./wiki_data/wiki_content.csv\", sep=\"\\t\")"
   ]
  }
 ],
 "metadata": {
  "kernelspec": {
   "display_name": "Python 3 (ipykernel)",
   "language": "python",
   "name": "python3"
  },
  "language_info": {
   "codemirror_mode": {
    "name": "ipython",
    "version": 3
   },
   "file_extension": ".py",
   "mimetype": "text/x-python",
   "name": "python",
   "nbconvert_exporter": "python",
   "pygments_lexer": "ipython3",
   "version": "3.7.11"
  }
 },
 "nbformat": 4,
 "nbformat_minor": 5
}
