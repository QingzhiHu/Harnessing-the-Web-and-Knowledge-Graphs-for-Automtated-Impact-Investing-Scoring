{
 "cells": [
  {
   "cell_type": "code",
   "execution_count": 61,
   "id": "26fc8312",
   "metadata": {},
   "outputs": [
    {
     "name": "stderr",
     "output_type": "stream",
     "text": [
      "100%|███████████████████████████████████████████| 19/19 [00:15<00:00,  1.21it/s]\n"
     ]
    },
    {
     "data": {
      "text/html": [
       "<div>\n",
       "<style scoped>\n",
       "    .dataframe tbody tr th:only-of-type {\n",
       "        vertical-align: middle;\n",
       "    }\n",
       "\n",
       "    .dataframe tbody tr th {\n",
       "        vertical-align: top;\n",
       "    }\n",
       "\n",
       "    .dataframe thead th {\n",
       "        text-align: right;\n",
       "    }\n",
       "</style>\n",
       "<table border=\"1\" class=\"dataframe\">\n",
       "  <thead>\n",
       "    <tr style=\"text-align: right;\">\n",
       "      <th></th>\n",
       "      <th>Unnamed: 0</th>\n",
       "      <th>Unnamed: 0.1</th>\n",
       "      <th>company</th>\n",
       "      <th>date</th>\n",
       "      <th>news_url</th>\n",
       "      <th>lang</th>\n",
       "      <th>polarity</th>\n",
       "      <th>magnitude</th>\n",
       "      <th>score</th>\n",
       "      <th>numMentions</th>\n",
       "      <th>avgSalience</th>\n",
       "      <th>wiki_name</th>\n",
       "      <th>mid</th>\n",
       "      <th>wikipediaUrl</th>\n",
       "      <th>content</th>\n",
       "    </tr>\n",
       "  </thead>\n",
       "  <tbody>\n",
       "    <tr>\n",
       "      <th>0</th>\n",
       "      <td>2497461</td>\n",
       "      <td>2497461</td>\n",
       "      <td>Intel Corp</td>\n",
       "      <td>2021-03-23T23:33:05Z</td>\n",
       "      <td>https://www.marketwatch.com/press-release/intel-ceo-pat-gelsinger-announces-idm-20-strategy-for-manufacturing-innovation-and-product-leadership-2021-03-23</td>\n",
       "      <td>en</td>\n",
       "      <td>0</td>\n",
       "      <td>19.1</td>\n",
       "      <td>0.3</td>\n",
       "      <td>62.0</td>\n",
       "      <td>0.019416</td>\n",
       "      <td>Intel</td>\n",
       "      <td>/m/03s7h</td>\n",
       "      <td>https://en.wikipedia.org/wiki/Intel</td>\n",
       "      <td>NaN</td>\n",
       "    </tr>\n",
       "    <tr>\n",
       "      <th>1</th>\n",
       "      <td>2497462</td>\n",
       "      <td>2497462</td>\n",
       "      <td>QUALCOMM Inc</td>\n",
       "      <td>2021-03-23T23:33:13Z</td>\n",
       "      <td>https://www.androidheadlines.com/2021/03/qualcomm-gaming-console-android-12-nintendo-switch-mobile-hardware.html</td>\n",
       "      <td>en</td>\n",
       "      <td>0</td>\n",
       "      <td>9.5</td>\n",
       "      <td>-0.1</td>\n",
       "      <td>14.0</td>\n",
       "      <td>0.643596</td>\n",
       "      <td>Qualcomm</td>\n",
       "      <td>/m/01m1xf</td>\n",
       "      <td>https://en.wikipedia.org/wiki/Qualcomm</td>\n",
       "      <td>Sign Up! envelope_alt   Get the latest Android News in your inbox everyday arrow_right    Android Apps &amp; Games / Qualcomm Plans To Enter The Gaming Space With Its Own Console Qualcomm isn’t exactl...</td>\n",
       "    </tr>\n",
       "    <tr>\n",
       "      <th>2</th>\n",
       "      <td>2497476</td>\n",
       "      <td>2497476</td>\n",
       "      <td>American Electric Power Co Inc</td>\n",
       "      <td>2021-03-23T23:33:32Z</td>\n",
       "      <td>https://reliefweb.int/report/uganda/refugee-status-gender-and-learning</td>\n",
       "      <td>en</td>\n",
       "      <td>0</td>\n",
       "      <td>3.8</td>\n",
       "      <td>0.0</td>\n",
       "      <td>7.0</td>\n",
       "      <td>0.310116</td>\n",
       "      <td>AEP</td>\n",
       "      <td>/m/05khjc</td>\n",
       "      <td>https://en.wikipedia.org/wiki/American_Electric_Power</td>\n",
       "      <td>\\n\\n\\nRW COVID-19 page: Find latest updates on global humanitarian responses\\n Find help on how to use the site, read terms and conditions, view the FAQs and API documentation. Access your account...</td>\n",
       "    </tr>\n",
       "    <tr>\n",
       "      <th>3</th>\n",
       "      <td>2497478</td>\n",
       "      <td>2497478</td>\n",
       "      <td>Twitter Inc</td>\n",
       "      <td>2021-03-23T23:32:37Z</td>\n",
       "      <td>https://www.folhavitoria.com.br/entretenimento/noticia/03/2021/internautas-editam-informacoes-de-nascimento-de-tiago-leifert-e-mariana-ximenes-e-brincam-que-os-dois-sao-a-mesma-pessoa</td>\n",
       "      <td>pt</td>\n",
       "      <td>0</td>\n",
       "      <td>2.3</td>\n",
       "      <td>0.1</td>\n",
       "      <td>1.0</td>\n",
       "      <td>0.020012</td>\n",
       "      <td>Twitter</td>\n",
       "      <td>/m/0289n8t</td>\n",
       "      <td>https://de.wikipedia.org/wiki/Twitter</td>\n",
       "      <td>\\nEstadÃ£o ConteÃºdo\\n\\n\\n\\n O meme da semalhanÃ§a entre Tiago Leifert e Mariana Ximenes jÃ¡ existe faz tempo, mas na Ãºltima segunda-feira, dia 22, ele ganhou destaque nas redes sociais novamente...</td>\n",
       "    </tr>\n",
       "    <tr>\n",
       "      <th>4</th>\n",
       "      <td>2497480</td>\n",
       "      <td>2497480</td>\n",
       "      <td>Twitter Inc</td>\n",
       "      <td>2021-03-23T23:32:17Z</td>\n",
       "      <td>https://www.tsf.pt/mundo/netanyahu-reclama-grande-vitoria-em-israel-13492338.html</td>\n",
       "      <td>pt</td>\n",
       "      <td>0</td>\n",
       "      <td>2.3</td>\n",
       "      <td>0.2</td>\n",
       "      <td>1.0</td>\n",
       "      <td>0.015197</td>\n",
       "      <td>Twitter</td>\n",
       "      <td>/m/0289n8t</td>\n",
       "      <td>https://de.wikipedia.org/wiki/Twitter</td>\n",
       "      <td>O partido Likud, do atual primeiro-ministro israelita, foi o mais votado nas eleiÃ§Ãµes desta terÃ§a-feira.  Â©Â EPA Benjamin Netanyahu reclama \"grande vitÃ³ria da direita\" nas eleiÃ§Ãµes legislat...</td>\n",
       "    </tr>\n",
       "    <tr>\n",
       "      <th>...</th>\n",
       "      <td>...</td>\n",
       "      <td>...</td>\n",
       "      <td>...</td>\n",
       "      <td>...</td>\n",
       "      <td>...</td>\n",
       "      <td>...</td>\n",
       "      <td>...</td>\n",
       "      <td>...</td>\n",
       "      <td>...</td>\n",
       "      <td>...</td>\n",
       "      <td>...</td>\n",
       "      <td>...</td>\n",
       "      <td>...</td>\n",
       "      <td>...</td>\n",
       "      <td>...</td>\n",
       "    </tr>\n",
       "    <tr>\n",
       "      <th>27741</th>\n",
       "      <td>3645056</td>\n",
       "      <td>1020887</td>\n",
       "      <td>Microsoft Corp</td>\n",
       "      <td>2021-11-07T22:31:30Z</td>\n",
       "      <td>http://www.voxy.co.nz/national/5/395132</td>\n",
       "      <td>en</td>\n",
       "      <td>0</td>\n",
       "      <td>13.3</td>\n",
       "      <td>0.2</td>\n",
       "      <td>3.0</td>\n",
       "      <td>0.051787</td>\n",
       "      <td>Microsoft</td>\n",
       "      <td>/m/04sv4</td>\n",
       "      <td>https://en.wikipedia.org/wiki/Microsoft</td>\n",
       "      <td>New research from Microsoft ANZ shows many New Zealanders and Australians have been struggling to find motivation and joy in the things they love during the last 18 months, but would like to achie...</td>\n",
       "    </tr>\n",
       "    <tr>\n",
       "      <th>27742</th>\n",
       "      <td>3645059</td>\n",
       "      <td>1020890</td>\n",
       "      <td>Tesla Inc</td>\n",
       "      <td>2021-11-07T22:31:34Z</td>\n",
       "      <td>https://www.ctvnews.ca/sci-tech/twitter-users-say-yes-to-musk-s-proposal-to-sell-10-per-cent-of-his-tesla-stock-1.5655947</td>\n",
       "      <td>en</td>\n",
       "      <td>0</td>\n",
       "      <td>8.6</td>\n",
       "      <td>-0.2</td>\n",
       "      <td>11.0</td>\n",
       "      <td>0.134620</td>\n",
       "      <td>Tesla</td>\n",
       "      <td>/m/0dr90d</td>\n",
       "      <td>https://en.wikipedia.org/wiki/Tesla,_Inc.</td>\n",
       "      <td>FOLLOW ON Advertisement \\nReuters\\nStaff\\n \\nContact\\n Elon Musk, Tesla CEO, arrives at an open house at the Tesla Gigafactory in Gruenheide, east of Berlin, Saturday Oct. 9, 2021, as the first ve...</td>\n",
       "    </tr>\n",
       "    <tr>\n",
       "      <th>27743</th>\n",
       "      <td>3645060</td>\n",
       "      <td>1020891</td>\n",
       "      <td>Tesla Inc</td>\n",
       "      <td>2021-11-07T22:31:28Z</td>\n",
       "      <td>https://www.ndtv.com/world-news/twitter-users-say-yes-to-elon-musks-offer-to-sell-10-of-tesla-stock-2602505</td>\n",
       "      <td>en</td>\n",
       "      <td>0</td>\n",
       "      <td>8.8</td>\n",
       "      <td>-0.2</td>\n",
       "      <td>11.0</td>\n",
       "      <td>0.072949</td>\n",
       "      <td>Tesla</td>\n",
       "      <td>/m/0dr90d</td>\n",
       "      <td>https://en.wikipedia.org/wiki/Tesla,_Inc.</td>\n",
       "      <td>\"I was prepared to accept either outcome,\" Elon Musk said, after the voting ended. (File) Tesla Inc CEO Elon Musk should sell about 10% of his Tesla stock, according to 57.9% of people who voted o...</td>\n",
       "    </tr>\n",
       "    <tr>\n",
       "      <th>27744</th>\n",
       "      <td>3645065</td>\n",
       "      <td>1020896</td>\n",
       "      <td>Facebook Inc</td>\n",
       "      <td>2021-11-07T22:31:34Z</td>\n",
       "      <td>https://www.news-daily.com/news/business/the-next-front-in-facebooks-misinformation-battle-climate-change/article_d394db17-e82a-5e61-845f-0393ffd97d09.html</td>\n",
       "      <td>en</td>\n",
       "      <td>0</td>\n",
       "      <td>25.0</td>\n",
       "      <td>-0.3</td>\n",
       "      <td>21.0</td>\n",
       "      <td>0.703209</td>\n",
       "      <td>Facebook</td>\n",
       "      <td>/m/02y1vz</td>\n",
       "      <td>https://en.wikipedia.org/wiki/Facebook</td>\n",
       "      <td>NaN</td>\n",
       "    </tr>\n",
       "    <tr>\n",
       "      <th>27745</th>\n",
       "      <td>3645079</td>\n",
       "      <td>1020910</td>\n",
       "      <td>Australia &amp; New Zealand Banking Group Ltd</td>\n",
       "      <td>2021-11-07T22:31:30Z</td>\n",
       "      <td>http://www.voxy.co.nz/national/5/395132</td>\n",
       "      <td>en</td>\n",
       "      <td>0</td>\n",
       "      <td>13.3</td>\n",
       "      <td>0.2</td>\n",
       "      <td>2.0</td>\n",
       "      <td>0.013102</td>\n",
       "      <td>ANZ</td>\n",
       "      <td>/m/03s14w</td>\n",
       "      <td>https://en.wikipedia.org/wiki/Australia_and_New_Zealand_Banking_Group</td>\n",
       "      <td>New research from Microsoft ANZ shows many New Zealanders and Australians have been struggling to find motivation and joy in the things they love during the last 18 months, but would like to achie...</td>\n",
       "    </tr>\n",
       "  </tbody>\n",
       "</table>\n",
       "<p>736939 rows × 15 columns</p>\n",
       "</div>"
      ],
      "text/plain": [
       "       Unnamed: 0  Unnamed: 0.1                                    company  \\\n",
       "0         2497461       2497461                                 Intel Corp   \n",
       "1         2497462       2497462                               QUALCOMM Inc   \n",
       "2         2497476       2497476             American Electric Power Co Inc   \n",
       "3         2497478       2497478                                Twitter Inc   \n",
       "4         2497480       2497480                                Twitter Inc   \n",
       "...           ...           ...                                        ...   \n",
       "27741     3645056       1020887                             Microsoft Corp   \n",
       "27742     3645059       1020890                                  Tesla Inc   \n",
       "27743     3645060       1020891                                  Tesla Inc   \n",
       "27744     3645065       1020896                               Facebook Inc   \n",
       "27745     3645079       1020910  Australia & New Zealand Banking Group Ltd   \n",
       "\n",
       "                       date  \\\n",
       "0      2021-03-23T23:33:05Z   \n",
       "1      2021-03-23T23:33:13Z   \n",
       "2      2021-03-23T23:33:32Z   \n",
       "3      2021-03-23T23:32:37Z   \n",
       "4      2021-03-23T23:32:17Z   \n",
       "...                     ...   \n",
       "27741  2021-11-07T22:31:30Z   \n",
       "27742  2021-11-07T22:31:34Z   \n",
       "27743  2021-11-07T22:31:28Z   \n",
       "27744  2021-11-07T22:31:34Z   \n",
       "27745  2021-11-07T22:31:30Z   \n",
       "\n",
       "                                                                                                                                                                                      news_url  \\\n",
       "0                                   https://www.marketwatch.com/press-release/intel-ceo-pat-gelsinger-announces-idm-20-strategy-for-manufacturing-innovation-and-product-leadership-2021-03-23   \n",
       "1                                                                             https://www.androidheadlines.com/2021/03/qualcomm-gaming-console-android-12-nintendo-switch-mobile-hardware.html   \n",
       "2                                                                                                                       https://reliefweb.int/report/uganda/refugee-status-gender-and-learning   \n",
       "3      https://www.folhavitoria.com.br/entretenimento/noticia/03/2021/internautas-editam-informacoes-de-nascimento-de-tiago-leifert-e-mariana-ximenes-e-brincam-que-os-dois-sao-a-mesma-pessoa   \n",
       "4                                                                                                            https://www.tsf.pt/mundo/netanyahu-reclama-grande-vitoria-em-israel-13492338.html   \n",
       "...                                                                                                                                                                                        ...   \n",
       "27741                                                                                                                                                  http://www.voxy.co.nz/national/5/395132   \n",
       "27742                                                                https://www.ctvnews.ca/sci-tech/twitter-users-say-yes-to-musk-s-proposal-to-sell-10-per-cent-of-his-tesla-stock-1.5655947   \n",
       "27743                                                                              https://www.ndtv.com/world-news/twitter-users-say-yes-to-elon-musks-offer-to-sell-10-of-tesla-stock-2602505   \n",
       "27744                              https://www.news-daily.com/news/business/the-next-front-in-facebooks-misinformation-battle-climate-change/article_d394db17-e82a-5e61-845f-0393ffd97d09.html   \n",
       "27745                                                                                                                                                  http://www.voxy.co.nz/national/5/395132   \n",
       "\n",
       "      lang  polarity  magnitude  score  numMentions  avgSalience  wiki_name  \\\n",
       "0       en         0       19.1    0.3         62.0     0.019416      Intel   \n",
       "1       en         0        9.5   -0.1         14.0     0.643596   Qualcomm   \n",
       "2       en         0        3.8    0.0          7.0     0.310116        AEP   \n",
       "3       pt         0        2.3    0.1          1.0     0.020012    Twitter   \n",
       "4       pt         0        2.3    0.2          1.0     0.015197    Twitter   \n",
       "...    ...       ...        ...    ...          ...          ...        ...   \n",
       "27741   en         0       13.3    0.2          3.0     0.051787  Microsoft   \n",
       "27742   en         0        8.6   -0.2         11.0     0.134620      Tesla   \n",
       "27743   en         0        8.8   -0.2         11.0     0.072949      Tesla   \n",
       "27744   en         0       25.0   -0.3         21.0     0.703209   Facebook   \n",
       "27745   en         0       13.3    0.2          2.0     0.013102        ANZ   \n",
       "\n",
       "              mid  \\\n",
       "0        /m/03s7h   \n",
       "1       /m/01m1xf   \n",
       "2       /m/05khjc   \n",
       "3      /m/0289n8t   \n",
       "4      /m/0289n8t   \n",
       "...           ...   \n",
       "27741    /m/04sv4   \n",
       "27742   /m/0dr90d   \n",
       "27743   /m/0dr90d   \n",
       "27744   /m/02y1vz   \n",
       "27745   /m/03s14w   \n",
       "\n",
       "                                                                wikipediaUrl  \\\n",
       "0                                        https://en.wikipedia.org/wiki/Intel   \n",
       "1                                     https://en.wikipedia.org/wiki/Qualcomm   \n",
       "2                      https://en.wikipedia.org/wiki/American_Electric_Power   \n",
       "3                                      https://de.wikipedia.org/wiki/Twitter   \n",
       "4                                      https://de.wikipedia.org/wiki/Twitter   \n",
       "...                                                                      ...   \n",
       "27741                                https://en.wikipedia.org/wiki/Microsoft   \n",
       "27742                              https://en.wikipedia.org/wiki/Tesla,_Inc.   \n",
       "27743                              https://en.wikipedia.org/wiki/Tesla,_Inc.   \n",
       "27744                                 https://en.wikipedia.org/wiki/Facebook   \n",
       "27745  https://en.wikipedia.org/wiki/Australia_and_New_Zealand_Banking_Group   \n",
       "\n",
       "                                                                                                                                                                                                       content  \n",
       "0                                                                                                                                                                                                          NaN  \n",
       "1      Sign Up! envelope_alt   Get the latest Android News in your inbox everyday arrow_right    Android Apps & Games / Qualcomm Plans To Enter The Gaming Space With Its Own Console Qualcomm isn’t exactl...  \n",
       "2      \\n\\n\\nRW COVID-19 page: Find latest updates on global humanitarian responses\\n Find help on how to use the site, read terms and conditions, view the FAQs and API documentation. Access your account...  \n",
       "3      \\nEstadÃ£o ConteÃºdo\\n\\n\\n\\n O meme da semalhanÃ§a entre Tiago Leifert e Mariana Ximenes jÃ¡ existe faz tempo, mas na Ãºltima segunda-feira, dia 22, ele ganhou destaque nas redes sociais novamente...  \n",
       "4      O partido Likud, do atual primeiro-ministro israelita, foi o mais votado nas eleiÃ§Ãµes desta terÃ§a-feira.  Â©Â EPA Benjamin Netanyahu reclama \"grande vitÃ³ria da direita\" nas eleiÃ§Ãµes legislat...  \n",
       "...                                                                                                                                                                                                        ...  \n",
       "27741  New research from Microsoft ANZ shows many New Zealanders and Australians have been struggling to find motivation and joy in the things they love during the last 18 months, but would like to achie...  \n",
       "27742  FOLLOW ON Advertisement \\nReuters\\nStaff\\n \\nContact\\n Elon Musk, Tesla CEO, arrives at an open house at the Tesla Gigafactory in Gruenheide, east of Berlin, Saturday Oct. 9, 2021, as the first ve...  \n",
       "27743  \"I was prepared to accept either outcome,\" Elon Musk said, after the voting ended. (File) Tesla Inc CEO Elon Musk should sell about 10% of his Tesla stock, according to 57.9% of people who voted o...  \n",
       "27744                                                                                                                                                                                                      NaN  \n",
       "27745  New research from Microsoft ANZ shows many New Zealanders and Australians have been struggling to find motivation and joy in the things they love during the last 18 months, but would like to achie...  \n",
       "\n",
       "[736939 rows x 15 columns]"
      ]
     },
     "execution_count": 61,
     "metadata": {},
     "output_type": "execute_result"
    }
   ],
   "source": [
    "# news\n",
    "import pandas as pd\n",
    "import os\n",
    "from tqdm import tqdm\n",
    "tqdm.pandas()\n",
    "file_paths = []\n",
    "for file in os.listdir(r\"/home/qingzhi/wikipedia/official/new/content/GDELT\"):\n",
    "    if file.startswith(\"news\"):\n",
    "        file_paths.append(r\"/home/qingzhi/wikipedia/official/new/content/GDELT/\" + file)\n",
    "file_paths\n",
    "\n",
    "df_list = []\n",
    "for x in tqdm(file_paths):\n",
    "    df = pd.read_csv(x)\n",
    "    # df = df.dropna()\n",
    "    # df = df.groupby(\"company\")['content'].agg(lambda x: ','.join(x)).reset_index()\n",
    "    df_list.append(df)\n",
    "\n",
    "dfs = pd.concat(df_list)\n",
    "\n",
    "dfs\n",
    "\n"
   ]
  },
  {
   "cell_type": "code",
   "execution_count": 62,
   "id": "c3e86643",
   "metadata": {},
   "outputs": [],
   "source": [
    "dfs[\"overall_score\"] = dfs[\"score\"] * dfs[\"magnitude\"] * dfs[\"numMentions\"]\n",
    "dfs = dfs.sort_values(\"overall_score\")"
   ]
  },
  {
   "cell_type": "code",
   "execution_count": 63,
   "id": "65c7d83c",
   "metadata": {},
   "outputs": [],
   "source": [
    "dfs2 = dfs[[\"company\",\"date\", \"news_url\",\"lang\",\"magnitude\",\"score\",\"numMentions\",\"avgSalience\", \"overall_score\", \"wikipediaUrl\"]]\n",
    "#.groupby(\"company\").head(10)\n",
    "# dfs2 = dfs2[dfs2.overall_score <= -30]\n",
    "# dfs2"
   ]
  },
  {
   "cell_type": "code",
   "execution_count": 103,
   "id": "b66e31b0",
   "metadata": {},
   "outputs": [
    {
     "data": {
      "text/html": [
       "<div>\n",
       "<style scoped>\n",
       "    .dataframe tbody tr th:only-of-type {\n",
       "        vertical-align: middle;\n",
       "    }\n",
       "\n",
       "    .dataframe tbody tr th {\n",
       "        vertical-align: top;\n",
       "    }\n",
       "\n",
       "    .dataframe thead th {\n",
       "        text-align: right;\n",
       "    }\n",
       "</style>\n",
       "<table border=\"1\" class=\"dataframe\">\n",
       "  <thead>\n",
       "    <tr style=\"text-align: right;\">\n",
       "      <th></th>\n",
       "      <th>company</th>\n",
       "      <th>p5</th>\n",
       "    </tr>\n",
       "  </thead>\n",
       "  <tbody>\n",
       "    <tr>\n",
       "      <th>0</th>\n",
       "      <td>3D Systems Corp</td>\n",
       "      <td>-31.6701</td>\n",
       "    </tr>\n",
       "    <tr>\n",
       "      <th>1</th>\n",
       "      <td>3M Co</td>\n",
       "      <td>-174.4200</td>\n",
       "    </tr>\n",
       "    <tr>\n",
       "      <th>2</th>\n",
       "      <td>5N Plus Inc</td>\n",
       "      <td>0.2034</td>\n",
       "    </tr>\n",
       "    <tr>\n",
       "      <th>3</th>\n",
       "      <td>A O Smith Corp</td>\n",
       "      <td>-9.6795</td>\n",
       "    </tr>\n",
       "    <tr>\n",
       "      <th>4</th>\n",
       "      <td>ABB Ltd</td>\n",
       "      <td>-3.2192</td>\n",
       "    </tr>\n",
       "    <tr>\n",
       "      <th>...</th>\n",
       "      <td>...</td>\n",
       "      <td>...</td>\n",
       "    </tr>\n",
       "    <tr>\n",
       "      <th>1487</th>\n",
       "      <td>eHealth Inc</td>\n",
       "      <td>2.2800</td>\n",
       "    </tr>\n",
       "    <tr>\n",
       "      <th>1488</th>\n",
       "      <td>iHeartMedia Inc</td>\n",
       "      <td>-1.9800</td>\n",
       "    </tr>\n",
       "    <tr>\n",
       "      <th>1489</th>\n",
       "      <td>salesforce.com Inc</td>\n",
       "      <td>-23.2144</td>\n",
       "    </tr>\n",
       "    <tr>\n",
       "      <th>1490</th>\n",
       "      <td>thyssenkrupp AG</td>\n",
       "      <td>-8.3905</td>\n",
       "    </tr>\n",
       "    <tr>\n",
       "      <th>1491</th>\n",
       "      <td>u-blox Holding AG</td>\n",
       "      <td>-1.7174</td>\n",
       "    </tr>\n",
       "  </tbody>\n",
       "</table>\n",
       "<p>1492 rows × 2 columns</p>\n",
       "</div>"
      ],
      "text/plain": [
       "                 company        p5\n",
       "0        3D Systems Corp  -31.6701\n",
       "1                  3M Co -174.4200\n",
       "2            5N Plus Inc    0.2034\n",
       "3         A O Smith Corp   -9.6795\n",
       "4                ABB Ltd   -3.2192\n",
       "...                  ...       ...\n",
       "1487         eHealth Inc    2.2800\n",
       "1488     iHeartMedia Inc   -1.9800\n",
       "1489  salesforce.com Inc  -23.2144\n",
       "1490     thyssenkrupp AG   -8.3905\n",
       "1491   u-blox Holding AG   -1.7174\n",
       "\n",
       "[1492 rows x 2 columns]"
      ]
     },
     "execution_count": 103,
     "metadata": {},
     "output_type": "execute_result"
    }
   ],
   "source": [
    "import numpy as np\n",
    "def percentile(n):\n",
    "    def percentile_(x):\n",
    "        return np.percentile(x, n)\n",
    "    percentile_.__name__ = 'percentile_%s' % n\n",
    "    return percentile_\n",
    "\n",
    "p5 = dfs2[[\"company\",\"overall_score\"]].groupby(\"company\").agg(percentile(1)).reset_index().rename(columns={\"overall_score\":\"p5\"})\n",
    "p95 = dfs2[[\"company\",\"overall_score\"]].groupby(\"company\").agg(percentile(99)).reset_index().rename(columns={\"overall_score\":\"p95\"})\n",
    "p5"
   ]
  },
  {
   "cell_type": "code",
   "execution_count": 106,
   "id": "2e20deac",
   "metadata": {},
   "outputs": [],
   "source": [
    "dfs3 = dfs2.merge(p5,on=\"company\").merge(p95, on=\"company\")\n"
   ]
  },
  {
   "cell_type": "code",
   "execution_count": 107,
   "id": "3ffce924",
   "metadata": {},
   "outputs": [],
   "source": [
    "dfs4 = dfs3[(dfs3.overall_score <= dfs3.p5)|(dfs3.overall_score >= dfs3.p95)]"
   ]
  },
  {
   "cell_type": "code",
   "execution_count": 108,
   "id": "a1e3ee80",
   "metadata": {},
   "outputs": [
    {
     "data": {
      "text/html": [
       "<div>\n",
       "<style scoped>\n",
       "    .dataframe tbody tr th:only-of-type {\n",
       "        vertical-align: middle;\n",
       "    }\n",
       "\n",
       "    .dataframe tbody tr th {\n",
       "        vertical-align: top;\n",
       "    }\n",
       "\n",
       "    .dataframe thead th {\n",
       "        text-align: right;\n",
       "    }\n",
       "</style>\n",
       "<table border=\"1\" class=\"dataframe\">\n",
       "  <thead>\n",
       "    <tr style=\"text-align: right;\">\n",
       "      <th></th>\n",
       "      <th>company</th>\n",
       "      <th>date</th>\n",
       "      <th>news_url</th>\n",
       "      <th>lang</th>\n",
       "      <th>magnitude</th>\n",
       "      <th>score</th>\n",
       "      <th>numMentions</th>\n",
       "      <th>avgSalience</th>\n",
       "      <th>overall_score</th>\n",
       "      <th>wikipediaUrl</th>\n",
       "      <th>p5</th>\n",
       "      <th>p95</th>\n",
       "    </tr>\n",
       "  </thead>\n",
       "  <tbody>\n",
       "    <tr>\n",
       "      <th>0</th>\n",
       "      <td>Apple Inc</td>\n",
       "      <td>2021-05-23T20:17:28Z</td>\n",
       "      <td>https://appleinsider.com/articles/20/08/23/apple-versus-epic-games-fortnite-app-store-saga----the-story-so-far</td>\n",
       "      <td>en</td>\n",
       "      <td>314.2</td>\n",
       "      <td>-0.3</td>\n",
       "      <td>406.0</td>\n",
       "      <td>0.382625</td>\n",
       "      <td>-38269.56</td>\n",
       "      <td>https://en.wikipedia.org/wiki/Apple_Inc.</td>\n",
       "      <td>-144.1232</td>\n",
       "      <td>121.9860</td>\n",
       "    </tr>\n",
       "    <tr>\n",
       "      <th>1</th>\n",
       "      <td>Apple Inc</td>\n",
       "      <td>2021-04-26T16:19:06Z</td>\n",
       "      <td>https://appleinsider.com/articles/21/04/26/app-store-hey-and-antitrust-an-interview-with-david-heinemeier-hansson-on-the-appleinsider-podcast</td>\n",
       "      <td>en</td>\n",
       "      <td>295.1</td>\n",
       "      <td>-0.2</td>\n",
       "      <td>158.0</td>\n",
       "      <td>0.292771</td>\n",
       "      <td>-9325.16</td>\n",
       "      <td>https://en.wikipedia.org/wiki/Apple_Inc.</td>\n",
       "      <td>-144.1232</td>\n",
       "      <td>121.9860</td>\n",
       "    </tr>\n",
       "    <tr>\n",
       "      <th>2</th>\n",
       "      <td>Apple Inc</td>\n",
       "      <td>2021-06-07T02:31:51Z</td>\n",
       "      <td>https://www.msn.com/en-us/news/technology/apple-s-tightly-controlled-app-store-is-teeming-with-scams/ar-AAKL0TG</td>\n",
       "      <td>en</td>\n",
       "      <td>82.3</td>\n",
       "      <td>-0.3</td>\n",
       "      <td>77.0</td>\n",
       "      <td>0.734105</td>\n",
       "      <td>-1901.13</td>\n",
       "      <td>https://en.wikipedia.org/wiki/Apple_Inc.</td>\n",
       "      <td>-144.1232</td>\n",
       "      <td>121.9860</td>\n",
       "    </tr>\n",
       "    <tr>\n",
       "      <th>3</th>\n",
       "      <td>Apple Inc</td>\n",
       "      <td>2021-04-29T14:34:24Z</td>\n",
       "      <td>https://www.androidpolice.com/2012/07/27/a-complete-overview-of-the-apple-v-samsung-trial-things-arent-looking-great-for-androids-biggest-manufacturer/</td>\n",
       "      <td>en</td>\n",
       "      <td>68.4</td>\n",
       "      <td>-0.3</td>\n",
       "      <td>86.0</td>\n",
       "      <td>0.581341</td>\n",
       "      <td>-1764.72</td>\n",
       "      <td>https://en.wikipedia.org/wiki/Apple_Inc.</td>\n",
       "      <td>-144.1232</td>\n",
       "      <td>121.9860</td>\n",
       "    </tr>\n",
       "    <tr>\n",
       "      <th>4</th>\n",
       "      <td>Apple Inc</td>\n",
       "      <td>2021-06-18T12:48:35Z</td>\n",
       "      <td>https://www.nytimes.com/2021/06/14/podcasts/the-daily/apple-china-privacy.html</td>\n",
       "      <td>en</td>\n",
       "      <td>115.1</td>\n",
       "      <td>-0.1</td>\n",
       "      <td>138.0</td>\n",
       "      <td>0.556265</td>\n",
       "      <td>-1588.38</td>\n",
       "      <td>https://en.wikipedia.org/wiki/Apple_Inc.</td>\n",
       "      <td>-144.1232</td>\n",
       "      <td>121.9860</td>\n",
       "    </tr>\n",
       "    <tr>\n",
       "      <th>...</th>\n",
       "      <td>...</td>\n",
       "      <td>...</td>\n",
       "      <td>...</td>\n",
       "      <td>...</td>\n",
       "      <td>...</td>\n",
       "      <td>...</td>\n",
       "      <td>...</td>\n",
       "      <td>...</td>\n",
       "      <td>...</td>\n",
       "      <td>...</td>\n",
       "      <td>...</td>\n",
       "      <td>...</td>\n",
       "    </tr>\n",
       "    <tr>\n",
       "      <th>736934</th>\n",
       "      <td>GN Store Nord AS</td>\n",
       "      <td>2021-05-06T05:03:11Z</td>\n",
       "      <td>https://www.globenewswire.com/news-release/2021/05/06/2224031/0/en/Interim-Report-Q1-2021-GN-Store-Nord-46-organic-revenue-growth-GN-Audio-82-GN-Hearing-1-New-share-buyback-of-DKK-2-5-billion-init...</td>\n",
       "      <td>en</td>\n",
       "      <td>6.8</td>\n",
       "      <td>0.2</td>\n",
       "      <td>12.0</td>\n",
       "      <td>0.027969</td>\n",
       "      <td>16.32</td>\n",
       "      <td>https://en.wikipedia.org/wiki/GN_Store_Nord</td>\n",
       "      <td>16.3584</td>\n",
       "      <td>20.1216</td>\n",
       "    </tr>\n",
       "    <tr>\n",
       "      <th>736935</th>\n",
       "      <td>GN Store Nord AS</td>\n",
       "      <td>2021-10-29T06:17:29Z</td>\n",
       "      <td>https://www.finanznachrichten.de/nachrichten-2021-10/54337031-dgap-adhoc-gn-store-nord-a-s-interim-report-in-q3-2021-gn-store-nord-delivered-2-organic-revenue-growth-and-announced-the-acquisition-...</td>\n",
       "      <td>en</td>\n",
       "      <td>9.6</td>\n",
       "      <td>0.1</td>\n",
       "      <td>21.0</td>\n",
       "      <td>0.032246</td>\n",
       "      <td>20.16</td>\n",
       "      <td>https://en.wikipedia.org/wiki/GN_Store_Nord</td>\n",
       "      <td>16.3584</td>\n",
       "      <td>20.1216</td>\n",
       "    </tr>\n",
       "    <tr>\n",
       "      <th>736936</th>\n",
       "      <td>CSC Holdings LLC</td>\n",
       "      <td>2021-11-23T18:18:00Z</td>\n",
       "      <td>https://www.prnewswire.com/news-releases/pef-services-wins-client-service-award-at-2021-global-custodian-industry-leaders-event-301431049.html</td>\n",
       "      <td>en</td>\n",
       "      <td>8.7</td>\n",
       "      <td>0.3</td>\n",
       "      <td>7.0</td>\n",
       "      <td>0.185072</td>\n",
       "      <td>18.27</td>\n",
       "      <td>https://en.wikipedia.org/wiki/Corporation_Service_Company</td>\n",
       "      <td>18.2700</td>\n",
       "      <td>18.2700</td>\n",
       "    </tr>\n",
       "    <tr>\n",
       "      <th>736937</th>\n",
       "      <td>Reliance Worldwide Corp Ltd</td>\n",
       "      <td>2021-11-19T13:31:49Z</td>\n",
       "      <td>https://www.prnewswire.com:443/news-releases/rwc-acquires-ez-flo-international-makers-of-ez-flo-and-eastman-products-301429039.html</td>\n",
       "      <td>en</td>\n",
       "      <td>7.1</td>\n",
       "      <td>0.4</td>\n",
       "      <td>10.0</td>\n",
       "      <td>0.172147</td>\n",
       "      <td>28.40</td>\n",
       "      <td>https://en.wikipedia.org/wiki/Reliance_Worldwide_Corporation</td>\n",
       "      <td>28.4152</td>\n",
       "      <td>29.9048</td>\n",
       "    </tr>\n",
       "    <tr>\n",
       "      <th>736938</th>\n",
       "      <td>Reliance Worldwide Corp Ltd</td>\n",
       "      <td>2021-11-19T13:17:41Z</td>\n",
       "      <td>https://www.tmcnet.com/usubmit/2021/11/19/9496869.htm</td>\n",
       "      <td>en</td>\n",
       "      <td>6.8</td>\n",
       "      <td>0.4</td>\n",
       "      <td>11.0</td>\n",
       "      <td>0.092168</td>\n",
       "      <td>29.92</td>\n",
       "      <td>https://en.wikipedia.org/wiki/Reliance_Worldwide_Corporation</td>\n",
       "      <td>28.4152</td>\n",
       "      <td>29.9048</td>\n",
       "    </tr>\n",
       "  </tbody>\n",
       "</table>\n",
       "<p>18674 rows × 12 columns</p>\n",
       "</div>"
      ],
      "text/plain": [
       "                            company                  date  \\\n",
       "0                         Apple Inc  2021-05-23T20:17:28Z   \n",
       "1                         Apple Inc  2021-04-26T16:19:06Z   \n",
       "2                         Apple Inc  2021-06-07T02:31:51Z   \n",
       "3                         Apple Inc  2021-04-29T14:34:24Z   \n",
       "4                         Apple Inc  2021-06-18T12:48:35Z   \n",
       "...                             ...                   ...   \n",
       "736934             GN Store Nord AS  2021-05-06T05:03:11Z   \n",
       "736935             GN Store Nord AS  2021-10-29T06:17:29Z   \n",
       "736936             CSC Holdings LLC  2021-11-23T18:18:00Z   \n",
       "736937  Reliance Worldwide Corp Ltd  2021-11-19T13:31:49Z   \n",
       "736938  Reliance Worldwide Corp Ltd  2021-11-19T13:17:41Z   \n",
       "\n",
       "                                                                                                                                                                                                       news_url  \\\n",
       "0                                                                                                https://appleinsider.com/articles/20/08/23/apple-versus-epic-games-fortnite-app-store-saga----the-story-so-far   \n",
       "1                                                                 https://appleinsider.com/articles/21/04/26/app-store-hey-and-antitrust-an-interview-with-david-heinemeier-hansson-on-the-appleinsider-podcast   \n",
       "2                                                                                               https://www.msn.com/en-us/news/technology/apple-s-tightly-controlled-app-store-is-teeming-with-scams/ar-AAKL0TG   \n",
       "3                                                       https://www.androidpolice.com/2012/07/27/a-complete-overview-of-the-apple-v-samsung-trial-things-arent-looking-great-for-androids-biggest-manufacturer/   \n",
       "4                                                                                                                                https://www.nytimes.com/2021/06/14/podcasts/the-daily/apple-china-privacy.html   \n",
       "...                                                                                                                                                                                                         ...   \n",
       "736934  https://www.globenewswire.com/news-release/2021/05/06/2224031/0/en/Interim-Report-Q1-2021-GN-Store-Nord-46-organic-revenue-growth-GN-Audio-82-GN-Hearing-1-New-share-buyback-of-DKK-2-5-billion-init...   \n",
       "736935  https://www.finanznachrichten.de/nachrichten-2021-10/54337031-dgap-adhoc-gn-store-nord-a-s-interim-report-in-q3-2021-gn-store-nord-delivered-2-organic-revenue-growth-and-announced-the-acquisition-...   \n",
       "736936                                                           https://www.prnewswire.com/news-releases/pef-services-wins-client-service-award-at-2021-global-custodian-industry-leaders-event-301431049.html   \n",
       "736937                                                                      https://www.prnewswire.com:443/news-releases/rwc-acquires-ez-flo-international-makers-of-ez-flo-and-eastman-products-301429039.html   \n",
       "736938                                                                                                                                                    https://www.tmcnet.com/usubmit/2021/11/19/9496869.htm   \n",
       "\n",
       "       lang  magnitude  score  numMentions  avgSalience  overall_score  \\\n",
       "0        en      314.2   -0.3        406.0     0.382625      -38269.56   \n",
       "1        en      295.1   -0.2        158.0     0.292771       -9325.16   \n",
       "2        en       82.3   -0.3         77.0     0.734105       -1901.13   \n",
       "3        en       68.4   -0.3         86.0     0.581341       -1764.72   \n",
       "4        en      115.1   -0.1        138.0     0.556265       -1588.38   \n",
       "...     ...        ...    ...          ...          ...            ...   \n",
       "736934   en        6.8    0.2         12.0     0.027969          16.32   \n",
       "736935   en        9.6    0.1         21.0     0.032246          20.16   \n",
       "736936   en        8.7    0.3          7.0     0.185072          18.27   \n",
       "736937   en        7.1    0.4         10.0     0.172147          28.40   \n",
       "736938   en        6.8    0.4         11.0     0.092168          29.92   \n",
       "\n",
       "                                                        wikipediaUrl  \\\n",
       "0                           https://en.wikipedia.org/wiki/Apple_Inc.   \n",
       "1                           https://en.wikipedia.org/wiki/Apple_Inc.   \n",
       "2                           https://en.wikipedia.org/wiki/Apple_Inc.   \n",
       "3                           https://en.wikipedia.org/wiki/Apple_Inc.   \n",
       "4                           https://en.wikipedia.org/wiki/Apple_Inc.   \n",
       "...                                                              ...   \n",
       "736934                   https://en.wikipedia.org/wiki/GN_Store_Nord   \n",
       "736935                   https://en.wikipedia.org/wiki/GN_Store_Nord   \n",
       "736936     https://en.wikipedia.org/wiki/Corporation_Service_Company   \n",
       "736937  https://en.wikipedia.org/wiki/Reliance_Worldwide_Corporation   \n",
       "736938  https://en.wikipedia.org/wiki/Reliance_Worldwide_Corporation   \n",
       "\n",
       "              p5       p95  \n",
       "0      -144.1232  121.9860  \n",
       "1      -144.1232  121.9860  \n",
       "2      -144.1232  121.9860  \n",
       "3      -144.1232  121.9860  \n",
       "4      -144.1232  121.9860  \n",
       "...          ...       ...  \n",
       "736934   16.3584   20.1216  \n",
       "736935   16.3584   20.1216  \n",
       "736936   18.2700   18.2700  \n",
       "736937   28.4152   29.9048  \n",
       "736938   28.4152   29.9048  \n",
       "\n",
       "[18674 rows x 12 columns]"
      ]
     },
     "execution_count": 108,
     "metadata": {},
     "output_type": "execute_result"
    }
   ],
   "source": [
    "dfs4"
   ]
  },
  {
   "cell_type": "code",
   "execution_count": 102,
   "id": "f0742e23",
   "metadata": {},
   "outputs": [],
   "source": [
    "# dfs4[dfs4.company == \"CSC Holdings LLC\"]"
   ]
  },
  {
   "cell_type": "code",
   "execution_count": 44,
   "id": "441414fc",
   "metadata": {},
   "outputs": [
    {
     "data": {
      "text/plain": [
       "16.92"
      ]
     },
     "execution_count": 44,
     "metadata": {},
     "output_type": "execute_result"
    }
   ],
   "source": [
    "# dfs2[dfs2.overall_score <= dfs2.overall_score.quantile(0.05)]\n",
    "# dfs2[dfs2.overall_score >= dfs2.overall_score.quantile(0.95)]"
   ]
  },
  {
   "cell_type": "code",
   "execution_count": 58,
   "id": "6aaf5569",
   "metadata": {},
   "outputs": [],
   "source": [
    "\n",
    "# import pandas as pd\n",
    "\n",
    "# msci = pd.read_csv(\"./data/msci.csv\")\n",
    "# msci2 = pd.read_csv(\"./data/msci2.csv\")\n",
    "\n",
    "# # variable = 'GICS Industry'\n",
    "# # variable2 = \"SDG_01_NET_ALIGNMENT_SCORE\"\n",
    "# # variable3 = 'SDG_01_ALIGNMENT_SUMMARY'\n",
    "# # variable4 = 'SDG_01_OPER_ALIGNMENT_SCORE'\n",
    "# variable5 = \"SDG_01_OPER_ALIGNMENT\" # another thing\n",
    "\n",
    "# SDG1 = msci[[\"Company Name\", \"Company ID\"]].dropna()\n",
    "# SDG2 = msci2[[\"ISSUER_NAME\", \"Figi\", variable5]].dropna()\n",
    "\n",
    "# df_label = SDG1.merge(SDG2, left_on=\"Company ID\", right_on=\"Figi\")[[\"Company Name\", variable5]]\n",
    "# df_label = df_label.rename(columns = {\"Company Name\": \"company\"})\n",
    "# df_label"
   ]
  },
  {
   "cell_type": "code",
   "execution_count": 57,
   "id": "b36ddda5",
   "metadata": {},
   "outputs": [],
   "source": [
    "# df_label[df_label.SDG_01_OPER_ALIGNMENT==\"Aligned\"]"
   ]
  },
  {
   "cell_type": "code",
   "execution_count": 60,
   "id": "96f39e63",
   "metadata": {},
   "outputs": [
    {
     "data": {
      "text/html": [
       "<div>\n",
       "<style scoped>\n",
       "    .dataframe tbody tr th:only-of-type {\n",
       "        vertical-align: middle;\n",
       "    }\n",
       "\n",
       "    .dataframe tbody tr th {\n",
       "        vertical-align: top;\n",
       "    }\n",
       "\n",
       "    .dataframe thead th {\n",
       "        text-align: right;\n",
       "    }\n",
       "</style>\n",
       "<table border=\"1\" class=\"dataframe\">\n",
       "  <thead>\n",
       "    <tr style=\"text-align: right;\">\n",
       "      <th></th>\n",
       "      <th>company</th>\n",
       "      <th>date</th>\n",
       "      <th>news_url</th>\n",
       "      <th>lang</th>\n",
       "      <th>magnitude</th>\n",
       "      <th>score</th>\n",
       "      <th>numMentions</th>\n",
       "      <th>avgSalience</th>\n",
       "      <th>overall_score</th>\n",
       "      <th>wikipediaUrl</th>\n",
       "    </tr>\n",
       "  </thead>\n",
       "  <tbody>\n",
       "    <tr>\n",
       "      <th>4979</th>\n",
       "      <td>A O Smith Corp</td>\n",
       "      <td>2021-01-13T09:17:33Z</td>\n",
       "      <td>https://www.mouthshut.com/review/AO-Smith-HSE-HAS-X-15-L-Storage-Water-Geyser-review-nusmomtnpso</td>\n",
       "      <td>en</td>\n",
       "      <td>17.7</td>\n",
       "      <td>-0.3</td>\n",
       "      <td>2.0</td>\n",
       "      <td>0.014949</td>\n",
       "      <td>-10.62</td>\n",
       "      <td>https://en.wikipedia.org/wiki/A._O._Smith</td>\n",
       "    </tr>\n",
       "    <tr>\n",
       "      <th>29</th>\n",
       "      <td>A O Smith Corp</td>\n",
       "      <td>2021-01-01T00:01:50Z</td>\n",
       "      <td>https://www.theglobeandmail.com/investing/investment-ideas/article-bullish-on-ao-smith-corp/</td>\n",
       "      <td>en</td>\n",
       "      <td>1.7</td>\n",
       "      <td>-0.1</td>\n",
       "      <td>1.0</td>\n",
       "      <td>0.063778</td>\n",
       "      <td>-0.17</td>\n",
       "      <td>https://en.wikipedia.org/wiki/A._O._Smith</td>\n",
       "    </tr>\n",
       "    <tr>\n",
       "      <th>27792</th>\n",
       "      <td>A O Smith Corp</td>\n",
       "      <td>2021-04-29T11:49:06Z</td>\n",
       "      <td>https://www.chron.com/business/article/A-O-Smith-Q1-Earnings-Snapshot-16138136.php</td>\n",
       "      <td>en</td>\n",
       "      <td>3.2</td>\n",
       "      <td>0.0</td>\n",
       "      <td>3.0</td>\n",
       "      <td>0.019921</td>\n",
       "      <td>0.00</td>\n",
       "      <td>https://en.wikipedia.org/wiki/A._O._Smith</td>\n",
       "    </tr>\n",
       "    <tr>\n",
       "      <th>27702</th>\n",
       "      <td>A O Smith Corp</td>\n",
       "      <td>2021-04-29T11:47:29Z</td>\n",
       "      <td>https://www.sfgate.com/business/article/A-O-Smith-Q1-Earnings-Snapshot-16138136.php</td>\n",
       "      <td>en</td>\n",
       "      <td>3.2</td>\n",
       "      <td>0.0</td>\n",
       "      <td>3.0</td>\n",
       "      <td>0.019921</td>\n",
       "      <td>0.00</td>\n",
       "      <td>https://en.wikipedia.org/wiki/A._O._Smith</td>\n",
       "    </tr>\n",
       "    <tr>\n",
       "      <th>56256</th>\n",
       "      <td>A O Smith Corp</td>\n",
       "      <td>2021-10-28T14:32:38Z</td>\n",
       "      <td>https://www.investing.com/equities/a.o-smith-corp</td>\n",
       "      <td>en</td>\n",
       "      <td>0.7</td>\n",
       "      <td>0.0</td>\n",
       "      <td>2.0</td>\n",
       "      <td>0.248633</td>\n",
       "      <td>0.00</td>\n",
       "      <td>https://en.wikipedia.org/wiki/A._O._Smith</td>\n",
       "    </tr>\n",
       "    <tr>\n",
       "      <th>14631</th>\n",
       "      <td>A O Smith Corp</td>\n",
       "      <td>2021-04-15T11:49:18Z</td>\n",
       "      <td>https://www.investegate.co.uk/jupiter-green-invtst--jgc-/rns/portfolio-update/202104151223036218V/</td>\n",
       "      <td>en</td>\n",
       "      <td>0.1</td>\n",
       "      <td>0.0</td>\n",
       "      <td>1.0</td>\n",
       "      <td>0.011199</td>\n",
       "      <td>0.00</td>\n",
       "      <td>https://en.wikipedia.org/wiki/A._O._Smith</td>\n",
       "    </tr>\n",
       "    <tr>\n",
       "      <th>42502</th>\n",
       "      <td>A O Smith Corp</td>\n",
       "      <td>2021-01-28T18:17:40Z</td>\n",
       "      <td>https://www.investing.com/equities/a.o-smith-corp</td>\n",
       "      <td>en</td>\n",
       "      <td>0.6</td>\n",
       "      <td>0.0</td>\n",
       "      <td>1.0</td>\n",
       "      <td>0.091612</td>\n",
       "      <td>0.00</td>\n",
       "      <td>https://en.wikipedia.org/wiki/A._O._Smith</td>\n",
       "    </tr>\n",
       "    <tr>\n",
       "      <th>39220</th>\n",
       "      <td>A O Smith Corp</td>\n",
       "      <td>2021-01-28T12:34:50Z</td>\n",
       "      <td>https://www.chron.com/business/article/A-O-Smith-4Q-Earnings-Snapshot-15904611.php</td>\n",
       "      <td>en</td>\n",
       "      <td>3.6</td>\n",
       "      <td>0.0</td>\n",
       "      <td>3.0</td>\n",
       "      <td>0.010843</td>\n",
       "      <td>0.00</td>\n",
       "      <td>https://en.wikipedia.org/wiki/A._O._Smith</td>\n",
       "    </tr>\n",
       "    <tr>\n",
       "      <th>31877</th>\n",
       "      <td>A O Smith Corp</td>\n",
       "      <td>2021-10-26T02:32:14Z</td>\n",
       "      <td>https://biztimes.com/a-o-smith-acquires-canadian-water-heater-maker-in-nearly-200-million-deal/</td>\n",
       "      <td>en</td>\n",
       "      <td>3.0</td>\n",
       "      <td>0.3</td>\n",
       "      <td>3.0</td>\n",
       "      <td>0.050240</td>\n",
       "      <td>2.70</td>\n",
       "      <td>https://en.wikipedia.org/wiki/A._O._Smith</td>\n",
       "    </tr>\n",
       "    <tr>\n",
       "      <th>3546</th>\n",
       "      <td>A O Smith Corp</td>\n",
       "      <td>2021-11-18T20:03:21Z</td>\n",
       "      <td>https://www.prweb.com/releases/top_5_finalists_named_for_the_2021_johnny_unitas_golden_arm_award/prweb18337410.htm</td>\n",
       "      <td>en</td>\n",
       "      <td>8.5</td>\n",
       "      <td>0.3</td>\n",
       "      <td>6.0</td>\n",
       "      <td>0.380366</td>\n",
       "      <td>15.30</td>\n",
       "      <td>https://en.wikipedia.org/wiki/A._O._Smith</td>\n",
       "    </tr>\n",
       "  </tbody>\n",
       "</table>\n",
       "</div>"
      ],
      "text/plain": [
       "              company                  date  \\\n",
       "4979   A O Smith Corp  2021-01-13T09:17:33Z   \n",
       "29     A O Smith Corp  2021-01-01T00:01:50Z   \n",
       "27792  A O Smith Corp  2021-04-29T11:49:06Z   \n",
       "27702  A O Smith Corp  2021-04-29T11:47:29Z   \n",
       "56256  A O Smith Corp  2021-10-28T14:32:38Z   \n",
       "14631  A O Smith Corp  2021-04-15T11:49:18Z   \n",
       "42502  A O Smith Corp  2021-01-28T18:17:40Z   \n",
       "39220  A O Smith Corp  2021-01-28T12:34:50Z   \n",
       "31877  A O Smith Corp  2021-10-26T02:32:14Z   \n",
       "3546   A O Smith Corp  2021-11-18T20:03:21Z   \n",
       "\n",
       "                                                                                                                 news_url  \\\n",
       "4979                     https://www.mouthshut.com/review/AO-Smith-HSE-HAS-X-15-L-Storage-Water-Geyser-review-nusmomtnpso   \n",
       "29                           https://www.theglobeandmail.com/investing/investment-ideas/article-bullish-on-ao-smith-corp/   \n",
       "27792                                  https://www.chron.com/business/article/A-O-Smith-Q1-Earnings-Snapshot-16138136.php   \n",
       "27702                                 https://www.sfgate.com/business/article/A-O-Smith-Q1-Earnings-Snapshot-16138136.php   \n",
       "56256                                                                   https://www.investing.com/equities/a.o-smith-corp   \n",
       "14631                  https://www.investegate.co.uk/jupiter-green-invtst--jgc-/rns/portfolio-update/202104151223036218V/   \n",
       "42502                                                                   https://www.investing.com/equities/a.o-smith-corp   \n",
       "39220                                  https://www.chron.com/business/article/A-O-Smith-4Q-Earnings-Snapshot-15904611.php   \n",
       "31877                     https://biztimes.com/a-o-smith-acquires-canadian-water-heater-maker-in-nearly-200-million-deal/   \n",
       "3546   https://www.prweb.com/releases/top_5_finalists_named_for_the_2021_johnny_unitas_golden_arm_award/prweb18337410.htm   \n",
       "\n",
       "      lang  magnitude  score  numMentions  avgSalience  overall_score  \\\n",
       "4979    en       17.7   -0.3          2.0     0.014949         -10.62   \n",
       "29      en        1.7   -0.1          1.0     0.063778          -0.17   \n",
       "27792   en        3.2    0.0          3.0     0.019921           0.00   \n",
       "27702   en        3.2    0.0          3.0     0.019921           0.00   \n",
       "56256   en        0.7    0.0          2.0     0.248633           0.00   \n",
       "14631   en        0.1    0.0          1.0     0.011199           0.00   \n",
       "42502   en        0.6    0.0          1.0     0.091612           0.00   \n",
       "39220   en        3.6    0.0          3.0     0.010843           0.00   \n",
       "31877   en        3.0    0.3          3.0     0.050240           2.70   \n",
       "3546    en        8.5    0.3          6.0     0.380366          15.30   \n",
       "\n",
       "                                    wikipediaUrl  \n",
       "4979   https://en.wikipedia.org/wiki/A._O._Smith  \n",
       "29     https://en.wikipedia.org/wiki/A._O._Smith  \n",
       "27792  https://en.wikipedia.org/wiki/A._O._Smith  \n",
       "27702  https://en.wikipedia.org/wiki/A._O._Smith  \n",
       "56256  https://en.wikipedia.org/wiki/A._O._Smith  \n",
       "14631  https://en.wikipedia.org/wiki/A._O._Smith  \n",
       "42502  https://en.wikipedia.org/wiki/A._O._Smith  \n",
       "39220  https://en.wikipedia.org/wiki/A._O._Smith  \n",
       "31877  https://en.wikipedia.org/wiki/A._O._Smith  \n",
       "3546   https://en.wikipedia.org/wiki/A._O._Smith  "
      ]
     },
     "execution_count": 60,
     "metadata": {},
     "output_type": "execute_result"
    }
   ],
   "source": [
    "# dfs2[dfs2.company==\"A O Smith Corp\"]"
   ]
  },
  {
   "cell_type": "code",
   "execution_count": 28,
   "id": "c15e363e",
   "metadata": {},
   "outputs": [],
   "source": [
    "# pd.set_option('display.max_colwidth', 200)\n",
    "# dfs2[dfs2.company == \"Samsung Electronics Co Ltd\"]"
   ]
  },
  {
   "cell_type": "code",
   "execution_count": 29,
   "id": "aa87824d",
   "metadata": {},
   "outputs": [],
   "source": [
    "# https://towardsdatascience.com/web-scraping-news-articles-in-python-9dd605799558\n",
    "import sys\n",
    "sys.path.append(\"/home/qingzhi/.conda/envs/python3.7/lib/python3.7/site-packages\")"
   ]
  },
  {
   "cell_type": "code",
   "execution_count": 109,
   "id": "3cc89268",
   "metadata": {},
   "outputs": [
    {
     "name": "stderr",
     "output_type": "stream",
     "text": [
      "\r",
      "  0%|                                                   | 0/934 [00:00<?, ?it/s]"
     ]
    },
    {
     "name": "stdout",
     "output_type": "stream",
     "text": [
      "Problem: https://www.androidpolice.com/2012/07/27/a-complete-overview-of-the-apple-v-samsung-trial-things-arent-looking-great-for-androids-biggest-manufacturer/: ('Connection aborted.', RemoteDisconnected('Remote end closed connection without response'))\n",
      "Problem: https://www.washingtonpost.com/technology/2021/06/06/apple-app-store-scams-fraud/: HTTPSConnectionPool(host='www.washingtonpost.com', port=443): Read timed out. (read timeout=10)\n",
      "Problem: https://www.washingtonpost.com/technology/2021/04/30/epic-apple-trial-antitrust-fortnite-app-store/: HTTPSConnectionPool(host='www.washingtonpost.com', port=443): Read timed out. (read timeout=10)\n"
     ]
    },
    {
     "name": "stderr",
     "output_type": "stream",
     "text": [
      "  0%|                                         | 2/934 [00:19<2:17:08,  8.83s/it]"
     ]
    },
    {
     "name": "stdout",
     "output_type": "stream",
     "text": [
      "Problem: https://www.hpr2.org/post/epic-games-vs-apple-trial-has-begun-heres-what-you-need-know: HTTPSConnectionPool(host='www.hpr2.org', port=443): Max retries exceeded with url: /post/epic-games-vs-apple-trial-has-begun-heres-what-you-need-know (Caused by SSLError(SSLCertVerificationError(\"hostname 'www.hpr2.org' doesn't match either of 'mail.hawaiipublicradio.org', 'www.mail.hawaiipublicradio.org', 'secure.hawaiipublicradio.org', 'members.hawaiipublicradio.org', 'www.hawaiipublicradio.org', 'files.hawaiipublicradio.org'\")))\n"
     ]
    },
    {
     "name": "stderr",
     "output_type": "stream",
     "text": [
      "\r",
      "  0%|▏                                        | 3/934 [00:23<1:38:54,  6.37s/it]"
     ]
    },
    {
     "name": "stdout",
     "output_type": "stream",
     "text": [
      "Problem: https://wskg.org/npr_story_post/the-epic-games-vs-apple-trial-has-begun-heres-what-you-need-to-know/: HTTPSConnectionPool(host='wskg.org', port=443): Read timed out. (read timeout=10)\n"
     ]
    },
    {
     "name": "stderr",
     "output_type": "stream",
     "text": [
      "  2%|▋                                       | 15/934 [01:31<1:15:48,  4.95s/it]"
     ]
    },
    {
     "name": "stdout",
     "output_type": "stream",
     "text": [
      "Problem: https://www.washingtonpost.com/technology/2021/02/01/apple-idfa-prompt-facebook-message-tracking/: HTTPSConnectionPool(host='www.washingtonpost.com', port=443): Read timed out. (read timeout=10)\n"
     ]
    },
    {
     "name": "stderr",
     "output_type": "stream",
     "text": [
      "  2%|▉                                       | 21/934 [02:16<1:40:34,  6.61s/it]"
     ]
    },
    {
     "name": "stdout",
     "output_type": "stream",
     "text": [
      "Problem: https://www.washingtonpost.com/technology/2021/10/28/airtags-theft/: HTTPSConnectionPool(host='www.washingtonpost.com', port=443): Read timed out. (read timeout=10)\n"
     ]
    },
    {
     "name": "stderr",
     "output_type": "stream",
     "text": [
      "\r",
      "  2%|▉                                       | 22/934 [02:27<1:58:11,  7.78s/it]"
     ]
    },
    {
     "name": "stdout",
     "output_type": "stream",
     "text": [
      "Problem: http://www.latpro.com/jobs/3778064.html: HTTPSConnectionPool(host='www.latpro.com', port=443): Max retries exceeded with url: /jobs/3778064.html (Caused by SSLError(SSLCertVerificationError(1, '[SSL: CERTIFICATE_VERIFY_FAILED] certificate verify failed: unable to get local issuer certificate (_ssl.c:1129)')))\n",
      "Problem: http://www.latpro.com/jobs/3750859.html: HTTPSConnectionPool(host='www.latpro.com', port=443): Max retries exceeded with url: /jobs/3750859.html (Caused by SSLError(SSLCertVerificationError(1, '[SSL: CERTIFICATE_VERIFY_FAILED] certificate verify failed: unable to get local issuer certificate (_ssl.c:1129)')))\n",
      "Problem: http://www.latpro.com/jobs/3750859.html: HTTPSConnectionPool(host='www.latpro.com', port=443): Max retries exceeded with url: /jobs/3750859.html (Caused by SSLError(SSLCertVerificationError(1, '[SSL: CERTIFICATE_VERIFY_FAILED] certificate verify failed: unable to get local issuer certificate (_ssl.c:1129)')))\n",
      "Problem: http://www.latpro.com/jobs/3750859.html: HTTPSConnectionPool(host='www.latpro.com', port=443): Max retries exceeded with url: /jobs/3750859.html (Caused by SSLError(SSLCertVerificationError(1, '[SSL: CERTIFICATE_VERIFY_FAILED] certificate verify failed: unable to get local issuer certificate (_ssl.c:1129)')))\n"
     ]
    },
    {
     "name": "stderr",
     "output_type": "stream",
     "text": [
      "\r",
      "  2%|▉                                       | 23/934 [02:34<1:52:45,  7.43s/it]"
     ]
    },
    {
     "name": "stdout",
     "output_type": "stream",
     "text": [
      "Problem: http://www.latpro.com/jobs/3750858.html: HTTPSConnectionPool(host='www.latpro.com', port=443): Max retries exceeded with url: /jobs/3750858.html (Caused by SSLError(SSLCertVerificationError(1, '[SSL: CERTIFICATE_VERIFY_FAILED] certificate verify failed: unable to get local issuer certificate (_ssl.c:1129)')))\n",
      "Problem: http://www.latpro.com/jobs/3750858.html: HTTPSConnectionPool(host='www.latpro.com', port=443): Max retries exceeded with url: /jobs/3750858.html (Caused by SSLError(SSLCertVerificationError(1, '[SSL: CERTIFICATE_VERIFY_FAILED] certificate verify failed: unable to get local issuer certificate (_ssl.c:1129)')))\n",
      "Problem: http://www.latpro.com/jobs/3750859.html: HTTPSConnectionPool(host='www.latpro.com', port=443): Max retries exceeded with url: /jobs/3750859.html (Caused by SSLError(SSLCertVerificationError(1, '[SSL: CERTIFICATE_VERIFY_FAILED] certificate verify failed: unable to get local issuer certificate (_ssl.c:1129)')))\n",
      "Problem: http://www.latpro.com/jobs/3750858.html: HTTPSConnectionPool(host='www.latpro.com', port=443): Max retries exceeded with url: /jobs/3750858.html (Caused by SSLError(SSLCertVerificationError(1, '[SSL: CERTIFICATE_VERIFY_FAILED] certificate verify failed: unable to get local issuer certificate (_ssl.c:1129)')))\n",
      "Problem: http://www.latpro.com/jobs/3750859.html: HTTPSConnectionPool(host='www.latpro.com', port=443): Max retries exceeded with url: /jobs/3750859.html (Caused by SSLError(SSLCertVerificationError(1, '[SSL: CERTIFICATE_VERIFY_FAILED] certificate verify failed: unable to get local issuer certificate (_ssl.c:1129)')))\n",
      "Problem: http://www.latpro.com/jobs/3750858.html: HTTPSConnectionPool(host='www.latpro.com', port=443): Max retries exceeded with url: /jobs/3750858.html (Caused by SSLError(SSLCertVerificationError(1, '[SSL: CERTIFICATE_VERIFY_FAILED] certificate verify failed: unable to get local issuer certificate (_ssl.c:1129)')))\n",
      "Problem: http://www.latpro.com/jobs/3750859.html: HTTPSConnectionPool(host='www.latpro.com', port=443): Max retries exceeded with url: /jobs/3750859.html (Caused by SSLError(SSLCertVerificationError(1, '[SSL: CERTIFICATE_VERIFY_FAILED] certificate verify failed: unable to get local issuer certificate (_ssl.c:1129)')))\n",
      "Problem: http://www.latpro.com/jobs/3750859.html: HTTPSConnectionPool(host='www.latpro.com', port=443): Max retries exceeded with url: /jobs/3750859.html (Caused by SSLError(SSLCertVerificationError(1, '[SSL: CERTIFICATE_VERIFY_FAILED] certificate verify failed: unable to get local issuer certificate (_ssl.c:1129)')))\n",
      "Problem: http://www.latpro.com/jobs/3750859.html: HTTPSConnectionPool(host='www.latpro.com', port=443): Max retries exceeded with url: /jobs/3750859.html (Caused by SSLError(SSLCertVerificationError(1, '[SSL: CERTIFICATE_VERIFY_FAILED] certificate verify failed: unable to get local issuer certificate (_ssl.c:1129)')))\n",
      "Problem: https://www.hwupgrade.it/news/storage/amazon-le-super-offerte-del-weekend-termostato-tado-100-iphone-11-e-12-17-airpods-22-roomba-42-e-tantissimo-altro-tra-cui-un-ssd-a-20_94609.html: HTTPSConnectionPool(host='www.hwupgrade.it', port=443): Read timed out. (read timeout=10)\n",
      "Problem: http://www.latpro.com/jobs/3819105.html: HTTPSConnectionPool(host='www.latpro.com', port=443): Max retries exceeded with url: /jobs/3819105.html (Caused by SSLError(SSLCertVerificationError(1, '[SSL: CERTIFICATE_VERIFY_FAILED] certificate verify failed: unable to get local issuer certificate (_ssl.c:1129)')))\n",
      "Problem: http://www.latpro.com/jobs/3819105.html: HTTPSConnectionPool(host='www.latpro.com', port=443): Max retries exceeded with url: /jobs/3819105.html (Caused by SSLError(SSLCertVerificationError(1, '[SSL: CERTIFICATE_VERIFY_FAILED] certificate verify failed: unable to get local issuer certificate (_ssl.c:1129)')))\n"
     ]
    },
    {
     "name": "stderr",
     "output_type": "stream",
     "text": [
      "  3%|█                                       | 25/934 [02:47<1:41:50,  6.72s/it]"
     ]
    },
    {
     "name": "stdout",
     "output_type": "stream",
     "text": [
      "Problem: http://www.latpro.com/jobs/3837948.html: HTTPSConnectionPool(host='www.latpro.com', port=443): Max retries exceeded with url: /jobs/3837948.html (Caused by SSLError(SSLCertVerificationError(1, '[SSL: CERTIFICATE_VERIFY_FAILED] certificate verify failed: unable to get local issuer certificate (_ssl.c:1129)')))\n",
      "Problem: http://www.latpro.com/jobs/3819105.html: HTTPSConnectionPool(host='www.latpro.com', port=443): Max retries exceeded with url: /jobs/3819105.html (Caused by SSLError(SSLCertVerificationError(1, '[SSL: CERTIFICATE_VERIFY_FAILED] certificate verify failed: unable to get local issuer certificate (_ssl.c:1129)')))\n",
      "Problem: http://www.latpro.com/jobs/3837948.html: HTTPSConnectionPool(host='www.latpro.com', port=443): Max retries exceeded with url: /jobs/3837948.html (Caused by SSLError(SSLCertVerificationError(1, '[SSL: CERTIFICATE_VERIFY_FAILED] certificate verify failed: unable to get local issuer certificate (_ssl.c:1129)')))\n",
      "Problem: http://www.latpro.com/jobs/3837948.html: HTTPSConnectionPool(host='www.latpro.com', port=443): Max retries exceeded with url: /jobs/3837948.html (Caused by SSLError(SSLCertVerificationError(1, '[SSL: CERTIFICATE_VERIFY_FAILED] certificate verify failed: unable to get local issuer certificate (_ssl.c:1129)')))\n",
      "Problem: http://www.latpro.com/jobs/3834789.html: HTTPSConnectionPool(host='www.latpro.com', port=443): Max retries exceeded with url: /jobs/3834789.html (Caused by SSLError(SSLCertVerificationError(1, '[SSL: CERTIFICATE_VERIFY_FAILED] certificate verify failed: unable to get local issuer certificate (_ssl.c:1129)')))\n",
      "Problem: http://www.latpro.com/jobs/3788803.html: HTTPSConnectionPool(host='www.latpro.com', port=443): Max retries exceeded with url: /jobs/3788803.html (Caused by SSLError(SSLCertVerificationError(1, '[SSL: CERTIFICATE_VERIFY_FAILED] certificate verify failed: unable to get local issuer certificate (_ssl.c:1129)')))\n",
      "Problem: http://www.latpro.com/jobs/3831552.html: HTTPSConnectionPool(host='www.latpro.com', port=443): Max retries exceeded with url: /jobs/3831552.html (Caused by SSLError(SSLCertVerificationError(1, '[SSL: CERTIFICATE_VERIFY_FAILED] certificate verify failed: unable to get local issuer certificate (_ssl.c:1129)')))\n",
      "Problem: http://www.latpro.com/jobs/3819104.html: HTTPSConnectionPool(host='www.latpro.com', port=443): Max retries exceeded with url: /jobs/3819104.html (Caused by SSLError(SSLCertVerificationError(1, '[SSL: CERTIFICATE_VERIFY_FAILED] certificate verify failed: unable to get local issuer certificate (_ssl.c:1129)')))\n",
      "Problem: http://www.latpro.com/jobs/3841651.html: HTTPSConnectionPool(host='www.latpro.com', port=443): Max retries exceeded with url: /jobs/3841651.html (Caused by SSLError(SSLCertVerificationError(1, '[SSL: CERTIFICATE_VERIFY_FAILED] certificate verify failed: unable to get local issuer certificate (_ssl.c:1129)')))\n",
      "Problem: http://www.latpro.com/jobs/3839776.html: HTTPSConnectionPool(host='www.latpro.com', port=443): Max retries exceeded with url: /jobs/3839776.html (Caused by SSLError(SSLCertVerificationError(1, '[SSL: CERTIFICATE_VERIFY_FAILED] certificate verify failed: unable to get local issuer certificate (_ssl.c:1129)')))\n",
      "Problem: http://www.latpro.com/jobs/3841651.html: HTTPSConnectionPool(host='www.latpro.com', port=443): Max retries exceeded with url: /jobs/3841651.html (Caused by SSLError(SSLCertVerificationError(1, '[SSL: CERTIFICATE_VERIFY_FAILED] certificate verify failed: unable to get local issuer certificate (_ssl.c:1129)')))\n",
      "Problem: http://www.latpro.com/jobs/3839774.html: HTTPSConnectionPool(host='www.latpro.com', port=443): Max retries exceeded with url: /jobs/3839774.html (Caused by SSLError(SSLCertVerificationError(1, '[SSL: CERTIFICATE_VERIFY_FAILED] certificate verify failed: unable to get local issuer certificate (_ssl.c:1129)')))\n",
      "Problem: http://www.latpro.com/jobs/3841655.html: HTTPSConnectionPool(host='www.latpro.com', port=443): Max retries exceeded with url: /jobs/3841655.html (Caused by SSLError(SSLCertVerificationError(1, '[SSL: CERTIFICATE_VERIFY_FAILED] certificate verify failed: unable to get local issuer certificate (_ssl.c:1129)')))\n",
      "Problem: http://www.latpro.com/jobs/3841652.html: HTTPSConnectionPool(host='www.latpro.com', port=443): Max retries exceeded with url: /jobs/3841652.html (Caused by SSLError(SSLCertVerificationError(1, '[SSL: CERTIFICATE_VERIFY_FAILED] certificate verify failed: unable to get local issuer certificate (_ssl.c:1129)')))\n",
      "Problem: http://www.latpro.com/jobs/3842113.html: HTTPSConnectionPool(host='www.latpro.com', port=443): Max retries exceeded with url: /jobs/3842113.html (Caused by SSLError(SSLCertVerificationError(1, '[SSL: CERTIFICATE_VERIFY_FAILED] certificate verify failed: unable to get local issuer certificate (_ssl.c:1129)')))\n",
      "Problem: https://theslanted.com/2021/04/47248/apple-airtags-podcast-subscriptions-spring-loaded-event/: HTTPSConnectionPool(host='theslanted.com', port=443): Max retries exceeded with url: /2021/04/47248/apple-airtags-podcast-subscriptions-spring-loaded-event/ (Caused by NewConnectionError('<urllib3.connection.HTTPSConnection object at 0x7f537c6b1250>: Failed to establish a new connection: [Errno -3] Temporary failure in name resolution'))\n",
      "Problem: http://www.latpro.com/jobs/3834494.html: HTTPSConnectionPool(host='www.latpro.com', port=443): Max retries exceeded with url: /jobs/3834494.html (Caused by SSLError(SSLCertVerificationError(1, '[SSL: CERTIFICATE_VERIFY_FAILED] certificate verify failed: unable to get local issuer certificate (_ssl.c:1129)')))\n",
      "Problem: http://www.latpro.com/jobs/3831451.html: HTTPSConnectionPool(host='www.latpro.com', port=443): Max retries exceeded with url: /jobs/3831451.html (Caused by SSLError(SSLCertVerificationError(1, '[SSL: CERTIFICATE_VERIFY_FAILED] certificate verify failed: unable to get local issuer certificate (_ssl.c:1129)')))\n",
      "Problem: https://africabusinesscommunities.com/tech/tech-news/apple-launches-$200-million-restore-fund-to-accelerate-natural-solutions-to-climate-change/: HTTPSConnectionPool(host='africabusinesscommunities.com', port=443): Max retries exceeded with url: /tech/tech-news/apple-launches-$200-million-restore-fund-to-accelerate-natural-solutions-to-climate-change/ (Caused by NewConnectionError('<urllib3.connection.HTTPSConnection object at 0x7f537c6ac250>: Failed to establish a new connection: [Errno 101] Network is unreachable'))\n",
      "Problem: http://www.latpro.com/jobs/3826503.html: HTTPSConnectionPool(host='www.latpro.com', port=443): Max retries exceeded with url: /jobs/3826503.html (Caused by SSLError(SSLCertVerificationError(1, '[SSL: CERTIFICATE_VERIFY_FAILED] certificate verify failed: unable to get local issuer certificate (_ssl.c:1129)')))\n"
     ]
    },
    {
     "name": "stderr",
     "output_type": "stream",
     "text": [
      "\r",
      "  3%|█                                       | 26/934 [02:57<1:57:52,  7.79s/it]"
     ]
    },
    {
     "name": "stdout",
     "output_type": "stream",
     "text": [
      "Problem: http://www.latpro.com/jobs/3826503.html: HTTPSConnectionPool(host='www.latpro.com', port=443): Max retries exceeded with url: /jobs/3826503.html (Caused by SSLError(SSLCertVerificationError(1, '[SSL: CERTIFICATE_VERIFY_FAILED] certificate verify failed: unable to get local issuer certificate (_ssl.c:1129)')))\n",
      "Problem: http://www.latpro.com/jobs/3826503.html: HTTPSConnectionPool(host='www.latpro.com', port=443): Max retries exceeded with url: /jobs/3826503.html (Caused by SSLError(SSLCertVerificationError(1, '[SSL: CERTIFICATE_VERIFY_FAILED] certificate verify failed: unable to get local issuer certificate (_ssl.c:1129)')))\n",
      "Problem: http://www.latpro.com/jobs/3826503.html: HTTPSConnectionPool(host='www.latpro.com', port=443): Max retries exceeded with url: /jobs/3826503.html (Caused by SSLError(SSLCertVerificationError(1, '[SSL: CERTIFICATE_VERIFY_FAILED] certificate verify failed: unable to get local issuer certificate (_ssl.c:1129)')))\n",
      "Problem: http://www.latpro.com/jobs/3769356.html: HTTPSConnectionPool(host='www.latpro.com', port=443): Max retries exceeded with url: /jobs/3769356.html (Caused by SSLError(SSLCertVerificationError(1, '[SSL: CERTIFICATE_VERIFY_FAILED] certificate verify failed: unable to get local issuer certificate (_ssl.c:1129)')))\n"
     ]
    },
    {
     "name": "stderr",
     "output_type": "stream",
     "text": [
      "\r",
      "  3%|█▏                                      | 27/934 [03:02<1:41:19,  6.70s/it]"
     ]
    },
    {
     "name": "stdout",
     "output_type": "stream",
     "text": [
      "Problem: http://www.latpro.com/jobs/3831555.html: HTTPSConnectionPool(host='www.latpro.com', port=443): Max retries exceeded with url: /jobs/3831555.html (Caused by SSLError(SSLCertVerificationError(1, '[SSL: CERTIFICATE_VERIFY_FAILED] certificate verify failed: unable to get local issuer certificate (_ssl.c:1129)')))\n",
      "Problem: http://www.latpro.com/jobs/3831555.html: HTTPSConnectionPool(host='www.latpro.com', port=443): Max retries exceeded with url: /jobs/3831555.html (Caused by SSLError(SSLCertVerificationError(1, '[SSL: CERTIFICATE_VERIFY_FAILED] certificate verify failed: unable to get local issuer certificate (_ssl.c:1129)')))\n",
      "Problem: http://www.latpro.com/jobs/3831555.html: HTTPSConnectionPool(host='www.latpro.com', port=443): Max retries exceeded with url: /jobs/3831555.html (Caused by SSLError(SSLCertVerificationError(1, '[SSL: CERTIFICATE_VERIFY_FAILED] certificate verify failed: unable to get local issuer certificate (_ssl.c:1129)')))\n",
      "Problem: https://www.hwupgrade.it/news/storage/amazon-roomba-671-e-hub-9-in-1-al-prezzo-piu-basso-di-sempre-iphone-macbook-poco-x3-e-m3-e-molto-altro-in-forte-sconto_97180.html: HTTPSConnectionPool(host='www.hwupgrade.it', port=443): Read timed out. (read timeout=10)\n"
     ]
    },
    {
     "name": "stderr",
     "output_type": "stream",
     "text": [
      "\r",
      "  3%|█▏                                      | 28/934 [03:12<1:59:50,  7.94s/it]"
     ]
    },
    {
     "name": "stdout",
     "output_type": "stream",
     "text": [
      "Problem: https://www.hwupgrade.it/news/telefonia/amazon-tutti-gli-sconti-del-weekend-apple-airpods-a-119-xiaomi-poco-x3-pro-219-roomba-671-al-prezzo-piu-basso-di-sempre-e-molto-altro-ancora_97216.html: HTTPSConnectionPool(host='www.hwupgrade.it', port=443): Read timed out. (read timeout=10)\n",
      "Problem: http://www.latpro.com/jobs/3790962.html: HTTPSConnectionPool(host='www.latpro.com', port=443): Max retries exceeded with url: /jobs/3790962.html (Caused by SSLError(SSLCertVerificationError(1, '[SSL: CERTIFICATE_VERIFY_FAILED] certificate verify failed: unable to get local issuer certificate (_ssl.c:1129)')))\n"
     ]
    },
    {
     "name": "stderr",
     "output_type": "stream",
     "text": [
      "\r",
      "  3%|█▏                                      | 29/934 [03:23<2:12:54,  8.81s/it]"
     ]
    },
    {
     "name": "stdout",
     "output_type": "stream",
     "text": [
      "Problem: http://www.latpro.com/jobs/3842289.html: HTTPSConnectionPool(host='www.latpro.com', port=443): Max retries exceeded with url: /jobs/3842289.html (Caused by SSLError(SSLCertVerificationError(1, '[SSL: CERTIFICATE_VERIFY_FAILED] certificate verify failed: unable to get local issuer certificate (_ssl.c:1129)')))\n",
      "Problem: http://www.latpro.com/jobs/3834186.html: HTTPSConnectionPool(host='www.latpro.com', port=443): Max retries exceeded with url: /jobs/3834186.html (Caused by SSLError(SSLCertVerificationError(1, '[SSL: CERTIFICATE_VERIFY_FAILED] certificate verify failed: unable to get local issuer certificate (_ssl.c:1129)')))\n",
      "Problem: http://www.latpro.com/jobs/3831385.html: HTTPSConnectionPool(host='www.latpro.com', port=443): Max retries exceeded with url: /jobs/3831385.html (Caused by SSLError(SSLCertVerificationError(1, '[SSL: CERTIFICATE_VERIFY_FAILED] certificate verify failed: unable to get local issuer certificate (_ssl.c:1129)')))\n",
      "Problem: http://www.latpro.com/jobs/3831385.html: HTTPSConnectionPool(host='www.latpro.com', port=443): Max retries exceeded with url: /jobs/3831385.html (Caused by SSLError(SSLCertVerificationError(1, '[SSL: CERTIFICATE_VERIFY_FAILED] certificate verify failed: unable to get local issuer certificate (_ssl.c:1129)')))\n",
      "Problem: http://www.latpro.com/jobs/3831385.html: HTTPSConnectionPool(host='www.latpro.com', port=443): Max retries exceeded with url: /jobs/3831385.html (Caused by SSLError(SSLCertVerificationError(1, '[SSL: CERTIFICATE_VERIFY_FAILED] certificate verify failed: unable to get local issuer certificate (_ssl.c:1129)')))\n",
      "Problem: http://www.latpro.com/jobs/3842289.html: HTTPSConnectionPool(host='www.latpro.com', port=443): Max retries exceeded with url: /jobs/3842289.html (Caused by SSLError(SSLCertVerificationError(1, '[SSL: CERTIFICATE_VERIFY_FAILED] certificate verify failed: unable to get local issuer certificate (_ssl.c:1129)')))\n",
      "Problem: http://www.latpro.com/jobs/3834186.html: HTTPSConnectionPool(host='www.latpro.com', port=443): Max retries exceeded with url: /jobs/3834186.html (Caused by SSLError(SSLCertVerificationError(1, '[SSL: CERTIFICATE_VERIFY_FAILED] certificate verify failed: unable to get local issuer certificate (_ssl.c:1129)')))\n"
     ]
    },
    {
     "name": "stderr",
     "output_type": "stream",
     "text": [
      "\r",
      "  3%|█▎                                      | 30/934 [03:25<1:40:28,  6.67s/it]"
     ]
    },
    {
     "name": "stdout",
     "output_type": "stream",
     "text": [
      "Problem: http://www.latpro.com/jobs/3831385.html: HTTPSConnectionPool(host='www.latpro.com', port=443): Max retries exceeded with url: /jobs/3831385.html (Caused by SSLError(SSLCertVerificationError(1, '[SSL: CERTIFICATE_VERIFY_FAILED] certificate verify failed: unable to get local issuer certificate (_ssl.c:1129)')))\n",
      "Problem: http://www.latpro.com/jobs/3834186.html: HTTPSConnectionPool(host='www.latpro.com', port=443): Max retries exceeded with url: /jobs/3834186.html (Caused by SSLError(SSLCertVerificationError(1, '[SSL: CERTIFICATE_VERIFY_FAILED] certificate verify failed: unable to get local issuer certificate (_ssl.c:1129)')))\n",
      "Problem: http://www.latpro.com/jobs/3820337.html: HTTPSConnectionPool(host='www.latpro.com', port=443): Max retries exceeded with url: /jobs/3820337.html (Caused by SSLError(SSLCertVerificationError(1, '[SSL: CERTIFICATE_VERIFY_FAILED] certificate verify failed: unable to get local issuer certificate (_ssl.c:1129)')))\n",
      "Problem: http://www.latpro.com/jobs/3820337.html: HTTPSConnectionPool(host='www.latpro.com', port=443): Max retries exceeded with url: /jobs/3820337.html (Caused by SSLError(SSLCertVerificationError(1, '[SSL: CERTIFICATE_VERIFY_FAILED] certificate verify failed: unable to get local issuer certificate (_ssl.c:1129)')))\n"
     ]
    },
    {
     "name": "stderr",
     "output_type": "stream",
     "text": [
      "\r",
      "  3%|█▎                                      | 31/934 [03:27<1:18:29,  5.22s/it]"
     ]
    },
    {
     "name": "stdout",
     "output_type": "stream",
     "text": [
      "Problem: http://www.latpro.com/jobs/3814752.html: HTTPSConnectionPool(host='www.latpro.com', port=443): Max retries exceeded with url: /jobs/3814752.html (Caused by SSLError(SSLCertVerificationError(1, '[SSL: CERTIFICATE_VERIFY_FAILED] certificate verify failed: unable to get local issuer certificate (_ssl.c:1129)')))\n",
      "Problem: http://www.latpro.com/jobs/3814752.html: HTTPSConnectionPool(host='www.latpro.com', port=443): Max retries exceeded with url: /jobs/3814752.html (Caused by SSLError(SSLCertVerificationError(1, '[SSL: CERTIFICATE_VERIFY_FAILED] certificate verify failed: unable to get local issuer certificate (_ssl.c:1129)')))\n"
     ]
    },
    {
     "name": "stderr",
     "output_type": "stream",
     "text": [
      "  4%|█▍                                        | 33/934 [03:31<55:07,  3.67s/it]"
     ]
    },
    {
     "name": "stdout",
     "output_type": "stream",
     "text": [
      "Problem: http://www.latpro.com/jobs/3750862.html: HTTPSConnectionPool(host='www.latpro.com', port=443): Max retries exceeded with url: /jobs/3750862.html (Caused by SSLError(SSLCertVerificationError(1, '[SSL: CERTIFICATE_VERIFY_FAILED] certificate verify failed: unable to get local issuer certificate (_ssl.c:1129)')))\n",
      "Problem: http://www.latpro.com/jobs/3741299.html: HTTPSConnectionPool(host='www.latpro.com', port=443): Max retries exceeded with url: /jobs/3741299.html (Caused by SSLError(SSLCertVerificationError(1, '[SSL: CERTIFICATE_VERIFY_FAILED] certificate verify failed: unable to get local issuer certificate (_ssl.c:1129)')))\n",
      "Problem: http://www.latpro.com/jobs/3741298.html: HTTPSConnectionPool(host='www.latpro.com', port=443): Max retries exceeded with url: /jobs/3741298.html (Caused by SSLError(SSLCertVerificationError(1, '[SSL: CERTIFICATE_VERIFY_FAILED] certificate verify failed: unable to get local issuer certificate (_ssl.c:1129)')))\n",
      "Problem: http://www.latpro.com/jobs/3741300.html: HTTPSConnectionPool(host='www.latpro.com', port=443): Max retries exceeded with url: /jobs/3741300.html (Caused by SSLError(SSLCertVerificationError(1, '[SSL: CERTIFICATE_VERIFY_FAILED] certificate verify failed: unable to get local issuer certificate (_ssl.c:1129)')))\n",
      "Problem: http://www.latpro.com/jobs/3741295.html: HTTPSConnectionPool(host='www.latpro.com', port=443): Max retries exceeded with url: /jobs/3741295.html (Caused by SSLError(SSLCertVerificationError(1, '[SSL: CERTIFICATE_VERIFY_FAILED] certificate verify failed: unable to get local issuer certificate (_ssl.c:1129)')))\n",
      "Problem: http://www.latpro.com/jobs/3741299.html: HTTPSConnectionPool(host='www.latpro.com', port=443): Max retries exceeded with url: /jobs/3741299.html (Caused by SSLError(SSLCertVerificationError(1, '[SSL: CERTIFICATE_VERIFY_FAILED] certificate verify failed: unable to get local issuer certificate (_ssl.c:1129)')))\n",
      "Problem: http://www.latpro.com/jobs/3741301.html: HTTPSConnectionPool(host='www.latpro.com', port=443): Max retries exceeded with url: /jobs/3741301.html (Caused by SSLError(SSLCertVerificationError(1, '[SSL: CERTIFICATE_VERIFY_FAILED] certificate verify failed: unable to get local issuer certificate (_ssl.c:1129)')))\n",
      "Problem: http://www.latpro.com/jobs/3741295.html: HTTPSConnectionPool(host='www.latpro.com', port=443): Max retries exceeded with url: /jobs/3741295.html (Caused by SSLError(SSLCertVerificationError(1, '[SSL: CERTIFICATE_VERIFY_FAILED] certificate verify failed: unable to get local issuer certificate (_ssl.c:1129)')))\n",
      "Problem: http://www.latpro.com/jobs/3741297.html: HTTPSConnectionPool(host='www.latpro.com', port=443): Max retries exceeded with url: /jobs/3741297.html (Caused by SSLError(SSLCertVerificationError(1, '[SSL: CERTIFICATE_VERIFY_FAILED] certificate verify failed: unable to get local issuer certificate (_ssl.c:1129)')))\n",
      "Problem: http://www.latpro.com/jobs/3741295.html: HTTPSConnectionPool(host='www.latpro.com', port=443): Max retries exceeded with url: /jobs/3741295.html (Caused by SSLError(SSLCertVerificationError(1, '[SSL: CERTIFICATE_VERIFY_FAILED] certificate verify failed: unable to get local issuer certificate (_ssl.c:1129)')))\n",
      "Problem: http://www.latpro.com/jobs/3741297.html: HTTPSConnectionPool(host='www.latpro.com', port=443): Max retries exceeded with url: /jobs/3741297.html (Caused by SSLError(SSLCertVerificationError(1, '[SSL: CERTIFICATE_VERIFY_FAILED] certificate verify failed: unable to get local issuer certificate (_ssl.c:1129)')))\n",
      "Problem: http://www.latpro.com/jobs/3741298.html: HTTPSConnectionPool(host='www.latpro.com', port=443): Max retries exceeded with url: /jobs/3741298.html (Caused by SSLError(SSLCertVerificationError(1, '[SSL: CERTIFICATE_VERIFY_FAILED] certificate verify failed: unable to get local issuer certificate (_ssl.c:1129)')))\n",
      "Problem: http://www.latpro.com/jobs/3741301.html: HTTPSConnectionPool(host='www.latpro.com', port=443): Max retries exceeded with url: /jobs/3741301.html (Caused by SSLError(SSLCertVerificationError(1, '[SSL: CERTIFICATE_VERIFY_FAILED] certificate verify failed: unable to get local issuer certificate (_ssl.c:1129)')))\n",
      "Problem: http://www.latpro.com/jobs/3741300.html: HTTPSConnectionPool(host='www.latpro.com', port=443): Max retries exceeded with url: /jobs/3741300.html (Caused by SSLError(SSLCertVerificationError(1, '[SSL: CERTIFICATE_VERIFY_FAILED] certificate verify failed: unable to get local issuer certificate (_ssl.c:1129)')))\n"
     ]
    },
    {
     "name": "stderr",
     "output_type": "stream",
     "text": [
      "\r",
      "  4%|█▌                                        | 34/934 [03:32<42:03,  2.80s/it]"
     ]
    },
    {
     "name": "stdout",
     "output_type": "stream",
     "text": [
      "Problem: http://www.latpro.com/jobs/3741295.html: HTTPSConnectionPool(host='www.latpro.com', port=443): Max retries exceeded with url: /jobs/3741295.html (Caused by SSLError(SSLCertVerificationError(1, '[SSL: CERTIFICATE_VERIFY_FAILED] certificate verify failed: unable to get local issuer certificate (_ssl.c:1129)')))\n",
      "Problem: http://www.latpro.com/jobs/3741295.html: HTTPSConnectionPool(host='www.latpro.com', port=443): Max retries exceeded with url: /jobs/3741295.html (Caused by SSLError(SSLCertVerificationError(1, '[SSL: CERTIFICATE_VERIFY_FAILED] certificate verify failed: unable to get local issuer certificate (_ssl.c:1129)')))\n",
      "Problem: http://www.latpro.com/jobs/3741301.html: HTTPSConnectionPool(host='www.latpro.com', port=443): Max retries exceeded with url: /jobs/3741301.html (Caused by SSLError(SSLCertVerificationError(1, '[SSL: CERTIFICATE_VERIFY_FAILED] certificate verify failed: unable to get local issuer certificate (_ssl.c:1129)')))\n",
      "Problem: http://www.latpro.com/jobs/3741298.html: HTTPSConnectionPool(host='www.latpro.com', port=443): Max retries exceeded with url: /jobs/3741298.html (Caused by SSLError(SSLCertVerificationError(1, '[SSL: CERTIFICATE_VERIFY_FAILED] certificate verify failed: unable to get local issuer certificate (_ssl.c:1129)')))\n",
      "Problem: http://www.latpro.com/jobs/3741300.html: HTTPSConnectionPool(host='www.latpro.com', port=443): Max retries exceeded with url: /jobs/3741300.html (Caused by SSLError(SSLCertVerificationError(1, '[SSL: CERTIFICATE_VERIFY_FAILED] certificate verify failed: unable to get local issuer certificate (_ssl.c:1129)')))\n",
      "Problem: http://www.latpro.com/jobs/3741298.html: HTTPSConnectionPool(host='www.latpro.com', port=443): Max retries exceeded with url: /jobs/3741298.html (Caused by SSLError(SSLCertVerificationError(1, '[SSL: CERTIFICATE_VERIFY_FAILED] certificate verify failed: unable to get local issuer certificate (_ssl.c:1129)')))\n",
      "Problem: http://www.latpro.com/jobs/3741295.html: HTTPSConnectionPool(host='www.latpro.com', port=443): Max retries exceeded with url: /jobs/3741295.html (Caused by SSLError(SSLCertVerificationError(1, '[SSL: CERTIFICATE_VERIFY_FAILED] certificate verify failed: unable to get local issuer certificate (_ssl.c:1129)')))\n",
      "Problem: http://www.latpro.com/jobs/3741300.html: HTTPSConnectionPool(host='www.latpro.com', port=443): Max retries exceeded with url: /jobs/3741300.html (Caused by SSLError(SSLCertVerificationError(1, '[SSL: CERTIFICATE_VERIFY_FAILED] certificate verify failed: unable to get local issuer certificate (_ssl.c:1129)')))\n",
      "Problem: http://www.latpro.com/jobs/3741295.html: HTTPSConnectionPool(host='www.latpro.com', port=443): Max retries exceeded with url: /jobs/3741295.html (Caused by SSLError(SSLCertVerificationError(1, '[SSL: CERTIFICATE_VERIFY_FAILED] certificate verify failed: unable to get local issuer certificate (_ssl.c:1129)')))\n",
      "Problem: http://www.latpro.com/jobs/3741301.html: HTTPSConnectionPool(host='www.latpro.com', port=443): Max retries exceeded with url: /jobs/3741301.html (Caused by SSLError(SSLCertVerificationError(1, '[SSL: CERTIFICATE_VERIFY_FAILED] certificate verify failed: unable to get local issuer certificate (_ssl.c:1129)')))\n",
      "Problem: http://www.latpro.com/jobs/3741297.html: HTTPSConnectionPool(host='www.latpro.com', port=443): Max retries exceeded with url: /jobs/3741297.html (Caused by SSLError(SSLCertVerificationError(1, '[SSL: CERTIFICATE_VERIFY_FAILED] certificate verify failed: unable to get local issuer certificate (_ssl.c:1129)')))\n",
      "Problem: http://www.latpro.com/jobs/3741296.html: HTTPSConnectionPool(host='www.latpro.com', port=443): Max retries exceeded with url: /jobs/3741296.html (Caused by SSLError(SSLCertVerificationError(1, '[SSL: CERTIFICATE_VERIFY_FAILED] certificate verify failed: unable to get local issuer certificate (_ssl.c:1129)')))\n",
      "Problem: http://www.latpro.com/jobs/3741295.html: HTTPSConnectionPool(host='www.latpro.com', port=443): Max retries exceeded with url: /jobs/3741295.html (Caused by SSLError(SSLCertVerificationError(1, '[SSL: CERTIFICATE_VERIFY_FAILED] certificate verify failed: unable to get local issuer certificate (_ssl.c:1129)')))\n",
      "Problem: http://www.latpro.com/jobs/3741301.html: HTTPSConnectionPool(host='www.latpro.com', port=443): Max retries exceeded with url: /jobs/3741301.html (Caused by SSLError(SSLCertVerificationError(1, '[SSL: CERTIFICATE_VERIFY_FAILED] certificate verify failed: unable to get local issuer certificate (_ssl.c:1129)')))\n",
      "Problem: http://www.latpro.com/jobs/3741296.html: HTTPSConnectionPool(host='www.latpro.com', port=443): Max retries exceeded with url: /jobs/3741296.html (Caused by SSLError(SSLCertVerificationError(1, '[SSL: CERTIFICATE_VERIFY_FAILED] certificate verify failed: unable to get local issuer certificate (_ssl.c:1129)')))\n",
      "Problem: http://www.latpro.com/jobs/3741298.html: HTTPSConnectionPool(host='www.latpro.com', port=443): Max retries exceeded with url: /jobs/3741298.html (Caused by SSLError(SSLCertVerificationError(1, '[SSL: CERTIFICATE_VERIFY_FAILED] certificate verify failed: unable to get local issuer certificate (_ssl.c:1129)')))\n",
      "Problem: http://www.latpro.com/jobs/3741299.html: HTTPSConnectionPool(host='www.latpro.com', port=443): Max retries exceeded with url: /jobs/3741299.html (Caused by SSLError(SSLCertVerificationError(1, '[SSL: CERTIFICATE_VERIFY_FAILED] certificate verify failed: unable to get local issuer certificate (_ssl.c:1129)')))\n",
      "Problem: http://www.latpro.com/jobs/3741296.html: HTTPSConnectionPool(host='www.latpro.com', port=443): Max retries exceeded with url: /jobs/3741296.html (Caused by SSLError(SSLCertVerificationError(1, '[SSL: CERTIFICATE_VERIFY_FAILED] certificate verify failed: unable to get local issuer certificate (_ssl.c:1129)')))\n",
      "Problem: http://www.latpro.com/jobs/3741295.html: HTTPSConnectionPool(host='www.latpro.com', port=443): Max retries exceeded with url: /jobs/3741295.html (Caused by SSLError(SSLCertVerificationError(1, '[SSL: CERTIFICATE_VERIFY_FAILED] certificate verify failed: unable to get local issuer certificate (_ssl.c:1129)')))\n",
      "Problem: http://www.latpro.com/jobs/3741295.html: HTTPSConnectionPool(host='www.latpro.com', port=443): Max retries exceeded with url: /jobs/3741295.html (Caused by SSLError(SSLCertVerificationError(1, '[SSL: CERTIFICATE_VERIFY_FAILED] certificate verify failed: unable to get local issuer certificate (_ssl.c:1129)')))\n"
     ]
    },
    {
     "name": "stderr",
     "output_type": "stream",
     "text": [
      "\r",
      "  4%|█▌                                        | 35/934 [03:33<31:58,  2.13s/it]"
     ]
    },
    {
     "name": "stdout",
     "output_type": "stream",
     "text": [
      "Problem: http://www.latpro.com/jobs/3741297.html: HTTPSConnectionPool(host='www.latpro.com', port=443): Max retries exceeded with url: /jobs/3741297.html (Caused by SSLError(SSLCertVerificationError(1, '[SSL: CERTIFICATE_VERIFY_FAILED] certificate verify failed: unable to get local issuer certificate (_ssl.c:1129)')))\n",
      "Problem: http://www.latpro.com/jobs/3741295.html: HTTPSConnectionPool(host='www.latpro.com', port=443): Max retries exceeded with url: /jobs/3741295.html (Caused by SSLError(SSLCertVerificationError(1, '[SSL: CERTIFICATE_VERIFY_FAILED] certificate verify failed: unable to get local issuer certificate (_ssl.c:1129)')))\n",
      "Problem: http://www.latpro.com/jobs/3741297.html: HTTPSConnectionPool(host='www.latpro.com', port=443): Max retries exceeded with url: /jobs/3741297.html (Caused by SSLError(SSLCertVerificationError(1, '[SSL: CERTIFICATE_VERIFY_FAILED] certificate verify failed: unable to get local issuer certificate (_ssl.c:1129)')))\n",
      "Problem: http://www.latpro.com/jobs/3741298.html: HTTPSConnectionPool(host='www.latpro.com', port=443): Max retries exceeded with url: /jobs/3741298.html (Caused by SSLError(SSLCertVerificationError(1, '[SSL: CERTIFICATE_VERIFY_FAILED] certificate verify failed: unable to get local issuer certificate (_ssl.c:1129)')))\n",
      "Problem: http://www.latpro.com/jobs/3741298.html: HTTPSConnectionPool(host='www.latpro.com', port=443): Max retries exceeded with url: /jobs/3741298.html (Caused by SSLError(SSLCertVerificationError(1, '[SSL: CERTIFICATE_VERIFY_FAILED] certificate verify failed: unable to get local issuer certificate (_ssl.c:1129)')))\n",
      "Problem: http://www.latpro.com/jobs/3741295.html: HTTPSConnectionPool(host='www.latpro.com', port=443): Max retries exceeded with url: /jobs/3741295.html (Caused by SSLError(SSLCertVerificationError(1, '[SSL: CERTIFICATE_VERIFY_FAILED] certificate verify failed: unable to get local issuer certificate (_ssl.c:1129)')))\n",
      "Problem: http://www.latpro.com/jobs/3741299.html: HTTPSConnectionPool(host='www.latpro.com', port=443): Max retries exceeded with url: /jobs/3741299.html (Caused by SSLError(SSLCertVerificationError(1, '[SSL: CERTIFICATE_VERIFY_FAILED] certificate verify failed: unable to get local issuer certificate (_ssl.c:1129)')))\n",
      "Problem: http://www.latpro.com/jobs/3741296.html: HTTPSConnectionPool(host='www.latpro.com', port=443): Max retries exceeded with url: /jobs/3741296.html (Caused by SSLError(SSLCertVerificationError(1, '[SSL: CERTIFICATE_VERIFY_FAILED] certificate verify failed: unable to get local issuer certificate (_ssl.c:1129)')))\n",
      "Problem: http://www.latpro.com/jobs/3741297.html: HTTPSConnectionPool(host='www.latpro.com', port=443): Max retries exceeded with url: /jobs/3741297.html (Caused by SSLError(SSLCertVerificationError(1, '[SSL: CERTIFICATE_VERIFY_FAILED] certificate verify failed: unable to get local issuer certificate (_ssl.c:1129)')))\n",
      "Problem: http://www.latpro.com/jobs/3741300.html: HTTPSConnectionPool(host='www.latpro.com', port=443): Max retries exceeded with url: /jobs/3741300.html (Caused by SSLError(SSLCertVerificationError(1, '[SSL: CERTIFICATE_VERIFY_FAILED] certificate verify failed: unable to get local issuer certificate (_ssl.c:1129)')))\n",
      "Problem: http://www.latpro.com/jobs/3741299.html: HTTPSConnectionPool(host='www.latpro.com', port=443): Max retries exceeded with url: /jobs/3741299.html (Caused by SSLError(SSLCertVerificationError(1, '[SSL: CERTIFICATE_VERIFY_FAILED] certificate verify failed: unable to get local issuer certificate (_ssl.c:1129)')))\n",
      "Problem: http://www.latpro.com/jobs/3741295.html: HTTPSConnectionPool(host='www.latpro.com', port=443): Max retries exceeded with url: /jobs/3741295.html (Caused by SSLError(SSLCertVerificationError(1, '[SSL: CERTIFICATE_VERIFY_FAILED] certificate verify failed: unable to get local issuer certificate (_ssl.c:1129)')))\n",
      "Problem: http://www.latpro.com/jobs/3741299.html: HTTPSConnectionPool(host='www.latpro.com', port=443): Max retries exceeded with url: /jobs/3741299.html (Caused by SSLError(SSLCertVerificationError(1, '[SSL: CERTIFICATE_VERIFY_FAILED] certificate verify failed: unable to get local issuer certificate (_ssl.c:1129)')))\n",
      "Problem: http://www.latpro.com/jobs/3741299.html: HTTPSConnectionPool(host='www.latpro.com', port=443): Max retries exceeded with url: /jobs/3741299.html (Caused by SSLError(SSLCertVerificationError(1, '[SSL: CERTIFICATE_VERIFY_FAILED] certificate verify failed: unable to get local issuer certificate (_ssl.c:1129)')))\n",
      "Problem: http://www.latpro.com/jobs/3741295.html: HTTPSConnectionPool(host='www.latpro.com', port=443): Max retries exceeded with url: /jobs/3741295.html (Caused by SSLError(SSLCertVerificationError(1, '[SSL: CERTIFICATE_VERIFY_FAILED] certificate verify failed: unable to get local issuer certificate (_ssl.c:1129)')))\n",
      "Problem: http://www.latpro.com/jobs/3741295.html: HTTPSConnectionPool(host='www.latpro.com', port=443): Max retries exceeded with url: /jobs/3741295.html (Caused by SSLError(SSLCertVerificationError(1, '[SSL: CERTIFICATE_VERIFY_FAILED] certificate verify failed: unable to get local issuer certificate (_ssl.c:1129)')))\n",
      "Problem: http://www.latpro.com/jobs/3741296.html: HTTPSConnectionPool(host='www.latpro.com', port=443): Max retries exceeded with url: /jobs/3741296.html (Caused by SSLError(SSLCertVerificationError(1, '[SSL: CERTIFICATE_VERIFY_FAILED] certificate verify failed: unable to get local issuer certificate (_ssl.c:1129)')))\n",
      "Problem: http://www.latpro.com/jobs/3741300.html: HTTPSConnectionPool(host='www.latpro.com', port=443): Max retries exceeded with url: /jobs/3741300.html (Caused by SSLError(SSLCertVerificationError(1, '[SSL: CERTIFICATE_VERIFY_FAILED] certificate verify failed: unable to get local issuer certificate (_ssl.c:1129)')))\n",
      "Problem: http://www.latpro.com/jobs/3741298.html: HTTPSConnectionPool(host='www.latpro.com', port=443): Max retries exceeded with url: /jobs/3741298.html (Caused by SSLError(SSLCertVerificationError(1, '[SSL: CERTIFICATE_VERIFY_FAILED] certificate verify failed: unable to get local issuer certificate (_ssl.c:1129)')))\n",
      "Problem: http://www.latpro.com/jobs/3741296.html: HTTPSConnectionPool(host='www.latpro.com', port=443): Max retries exceeded with url: /jobs/3741296.html (Caused by SSLError(SSLCertVerificationError(1, '[SSL: CERTIFICATE_VERIFY_FAILED] certificate verify failed: unable to get local issuer certificate (_ssl.c:1129)')))\n"
     ]
    },
    {
     "name": "stderr",
     "output_type": "stream",
     "text": [
      "\r",
      "  4%|█▌                                        | 36/934 [03:39<49:52,  3.33s/it]"
     ]
    },
    {
     "name": "stdout",
     "output_type": "stream",
     "text": [
      "Problem: http://www.latpro.com/jobs/3741301.html: HTTPSConnectionPool(host='www.latpro.com', port=443): Max retries exceeded with url: /jobs/3741301.html (Caused by SSLError(SSLCertVerificationError(1, '[SSL: CERTIFICATE_VERIFY_FAILED] certificate verify failed: unable to get local issuer certificate (_ssl.c:1129)')))\n",
      "Problem: http://www.latpro.com/jobs/3825531.html: HTTPSConnectionPool(host='www.latpro.com', port=443): Max retries exceeded with url: /jobs/3825531.html (Caused by SSLError(SSLCertVerificationError(1, '[SSL: CERTIFICATE_VERIFY_FAILED] certificate verify failed: unable to get local issuer certificate (_ssl.c:1129)')))\n",
      "Problem: http://www.latpro.com/jobs/3831531.html: HTTPSConnectionPool(host='www.latpro.com', port=443): Max retries exceeded with url: /jobs/3831531.html (Caused by SSLError(SSLCertVerificationError(1, '[SSL: CERTIFICATE_VERIFY_FAILED] certificate verify failed: unable to get local issuer certificate (_ssl.c:1129)')))\n",
      "Problem: http://www.latpro.com/jobs/3831531.html: HTTPSConnectionPool(host='www.latpro.com', port=443): Max retries exceeded with url: /jobs/3831531.html (Caused by SSLError(SSLCertVerificationError(1, '[SSL: CERTIFICATE_VERIFY_FAILED] certificate verify failed: unable to get local issuer certificate (_ssl.c:1129)')))\n",
      "Problem: http://www.latpro.com/jobs/3820567.html: HTTPSConnectionPool(host='www.latpro.com', port=443): Max retries exceeded with url: /jobs/3820567.html (Caused by SSLError(SSLCertVerificationError(1, '[SSL: CERTIFICATE_VERIFY_FAILED] certificate verify failed: unable to get local issuer certificate (_ssl.c:1129)')))\n",
      "Problem: http://www.latpro.com/jobs/3838317.html: HTTPSConnectionPool(host='www.latpro.com', port=443): Max retries exceeded with url: /jobs/3838317.html (Caused by SSLError(SSLCertVerificationError(1, '[SSL: CERTIFICATE_VERIFY_FAILED] certificate verify failed: unable to get local issuer certificate (_ssl.c:1129)')))\n",
      "Problem: http://www.latpro.com/jobs/3820335.html: HTTPSConnectionPool(host='www.latpro.com', port=443): Max retries exceeded with url: /jobs/3820335.html (Caused by SSLError(SSLCertVerificationError(1, '[SSL: CERTIFICATE_VERIFY_FAILED] certificate verify failed: unable to get local issuer certificate (_ssl.c:1129)')))\n",
      "Problem: http://www.latpro.com/jobs/3820568.html: HTTPSConnectionPool(host='www.latpro.com', port=443): Max retries exceeded with url: /jobs/3820568.html (Caused by SSLError(SSLCertVerificationError(1, '[SSL: CERTIFICATE_VERIFY_FAILED] certificate verify failed: unable to get local issuer certificate (_ssl.c:1129)')))\n",
      "Problem: http://www.latpro.com/jobs/3820569.html: HTTPSConnectionPool(host='www.latpro.com', port=443): Max retries exceeded with url: /jobs/3820569.html (Caused by SSLError(SSLCertVerificationError(1, '[SSL: CERTIFICATE_VERIFY_FAILED] certificate verify failed: unable to get local issuer certificate (_ssl.c:1129)')))\n",
      "Problem: http://www.latpro.com/jobs/3832191.html: HTTPSConnectionPool(host='www.latpro.com', port=443): Max retries exceeded with url: /jobs/3832191.html (Caused by SSLError(SSLCertVerificationError(1, '[SSL: CERTIFICATE_VERIFY_FAILED] certificate verify failed: unable to get local issuer certificate (_ssl.c:1129)')))\n",
      "Problem: http://www.latpro.com/jobs/3838317.html: HTTPSConnectionPool(host='www.latpro.com', port=443): Max retries exceeded with url: /jobs/3838317.html (Caused by SSLError(SSLCertVerificationError(1, '[SSL: CERTIFICATE_VERIFY_FAILED] certificate verify failed: unable to get local issuer certificate (_ssl.c:1129)')))\n",
      "Problem: http://www.latpro.com/jobs/3841648.html: HTTPSConnectionPool(host='www.latpro.com', port=443): Max retries exceeded with url: /jobs/3841648.html (Caused by SSLError(SSLCertVerificationError(1, '[SSL: CERTIFICATE_VERIFY_FAILED] certificate verify failed: unable to get local issuer certificate (_ssl.c:1129)')))\n",
      "Problem: http://www.latpro.com/jobs/3820567.html: HTTPSConnectionPool(host='www.latpro.com', port=443): Max retries exceeded with url: /jobs/3820567.html (Caused by SSLError(SSLCertVerificationError(1, '[SSL: CERTIFICATE_VERIFY_FAILED] certificate verify failed: unable to get local issuer certificate (_ssl.c:1129)')))\n",
      "Problem: http://www.latpro.com/jobs/3841647.html: HTTPSConnectionPool(host='www.latpro.com', port=443): Max retries exceeded with url: /jobs/3841647.html (Caused by SSLError(SSLCertVerificationError(1, '[SSL: CERTIFICATE_VERIFY_FAILED] certificate verify failed: unable to get local issuer certificate (_ssl.c:1129)')))\n",
      "Problem: http://www.latpro.com/jobs/3832191.html: HTTPSConnectionPool(host='www.latpro.com', port=443): Max retries exceeded with url: /jobs/3832191.html (Caused by SSLError(SSLCertVerificationError(1, '[SSL: CERTIFICATE_VERIFY_FAILED] certificate verify failed: unable to get local issuer certificate (_ssl.c:1129)')))\n",
      "Problem: http://www.latpro.com/jobs/3836114.html: HTTPSConnectionPool(host='www.latpro.com', port=443): Max retries exceeded with url: /jobs/3836114.html (Caused by SSLError(SSLCertVerificationError(1, '[SSL: CERTIFICATE_VERIFY_FAILED] certificate verify failed: unable to get local issuer certificate (_ssl.c:1129)')))\n",
      "Problem: http://www.latpro.com/jobs/3820570.html: HTTPSConnectionPool(host='www.latpro.com', port=443): Max retries exceeded with url: /jobs/3820570.html (Caused by SSLError(SSLCertVerificationError(1, '[SSL: CERTIFICATE_VERIFY_FAILED] certificate verify failed: unable to get local issuer certificate (_ssl.c:1129)')))\n",
      "Problem: http://www.latpro.com/jobs/3820570.html: HTTPSConnectionPool(host='www.latpro.com', port=443): Max retries exceeded with url: /jobs/3820570.html (Caused by SSLError(SSLCertVerificationError(1, '[SSL: CERTIFICATE_VERIFY_FAILED] certificate verify failed: unable to get local issuer certificate (_ssl.c:1129)')))\n",
      "Problem: http://www.latpro.com/jobs/3820335.html: HTTPSConnectionPool(host='www.latpro.com', port=443): Max retries exceeded with url: /jobs/3820335.html (Caused by SSLError(SSLCertVerificationError(1, '[SSL: CERTIFICATE_VERIFY_FAILED] certificate verify failed: unable to get local issuer certificate (_ssl.c:1129)')))\n",
      "Problem: http://www.latpro.com/jobs/3832191.html: HTTPSConnectionPool(host='www.latpro.com', port=443): Max retries exceeded with url: /jobs/3832191.html (Caused by SSLError(SSLCertVerificationError(1, '[SSL: CERTIFICATE_VERIFY_FAILED] certificate verify failed: unable to get local issuer certificate (_ssl.c:1129)')))\n",
      "Problem: http://www.latpro.com/jobs/3820567.html: HTTPSConnectionPool(host='www.latpro.com', port=443): Max retries exceeded with url: /jobs/3820567.html (Caused by SSLError(SSLCertVerificationError(1, '[SSL: CERTIFICATE_VERIFY_FAILED] certificate verify failed: unable to get local issuer certificate (_ssl.c:1129)')))\n",
      "Problem: http://www.latpro.com/jobs/3832191.html: HTTPSConnectionPool(host='www.latpro.com', port=443): Max retries exceeded with url: /jobs/3832191.html (Caused by SSLError(SSLCertVerificationError(1, '[SSL: CERTIFICATE_VERIFY_FAILED] certificate verify failed: unable to get local issuer certificate (_ssl.c:1129)')))\n",
      "Problem: http://www.latpro.com/jobs/3836114.html: HTTPSConnectionPool(host='www.latpro.com', port=443): Max retries exceeded with url: /jobs/3836114.html (Caused by SSLError(SSLCertVerificationError(1, '[SSL: CERTIFICATE_VERIFY_FAILED] certificate verify failed: unable to get local issuer certificate (_ssl.c:1129)')))\n",
      "Problem: http://www.latpro.com/jobs/3820335.html: HTTPSConnectionPool(host='www.latpro.com', port=443): Max retries exceeded with url: /jobs/3820335.html (Caused by SSLError(SSLCertVerificationError(1, '[SSL: CERTIFICATE_VERIFY_FAILED] certificate verify failed: unable to get local issuer certificate (_ssl.c:1129)')))\n",
      "Problem: http://www.latpro.com/jobs/3838643.html: HTTPSConnectionPool(host='www.latpro.com', port=443): Max retries exceeded with url: /jobs/3838643.html (Caused by SSLError(SSLCertVerificationError(1, '[SSL: CERTIFICATE_VERIFY_FAILED] certificate verify failed: unable to get local issuer certificate (_ssl.c:1129)')))\n",
      "Problem: http://www.latpro.com/jobs/3838643.html: HTTPSConnectionPool(host='www.latpro.com', port=443): Max retries exceeded with url: /jobs/3838643.html (Caused by SSLError(SSLCertVerificationError(1, '[SSL: CERTIFICATE_VERIFY_FAILED] certificate verify failed: unable to get local issuer certificate (_ssl.c:1129)')))\n"
     ]
    },
    {
     "name": "stderr",
     "output_type": "stream",
     "text": [
      "\r",
      "  4%|█▋                                        | 37/934 [03:42<50:22,  3.37s/it]"
     ]
    },
    {
     "name": "stdout",
     "output_type": "stream",
     "text": [
      "Problem: http://www.latpro.com/jobs/3840175.html: HTTPSConnectionPool(host='www.latpro.com', port=443): Max retries exceeded with url: /jobs/3840175.html (Caused by SSLError(SSLCertVerificationError(1, '[SSL: CERTIFICATE_VERIFY_FAILED] certificate verify failed: unable to get local issuer certificate (_ssl.c:1129)')))\n",
      "Problem: http://www.latpro.com/jobs/3838641.html: HTTPSConnectionPool(host='www.latpro.com', port=443): Max retries exceeded with url: /jobs/3838641.html (Caused by SSLError(SSLCertVerificationError(1, '[SSL: CERTIFICATE_VERIFY_FAILED] certificate verify failed: unable to get local issuer certificate (_ssl.c:1129)')))\n",
      "Problem: http://www.latpro.com/jobs/3820334.html: HTTPSConnectionPool(host='www.latpro.com', port=443): Max retries exceeded with url: /jobs/3820334.html (Caused by SSLError(SSLCertVerificationError(1, '[SSL: CERTIFICATE_VERIFY_FAILED] certificate verify failed: unable to get local issuer certificate (_ssl.c:1129)')))\n"
     ]
    },
    {
     "name": "stderr",
     "output_type": "stream",
     "text": [
      "\r",
      "  4%|█▋                                        | 38/934 [03:44<43:11,  2.89s/it]"
     ]
    },
    {
     "name": "stdout",
     "output_type": "stream",
     "text": [
      "Problem: http://www.latpro.com/jobs/3842278.html: HTTPSConnectionPool(host='www.latpro.com', port=443): Max retries exceeded with url: /jobs/3842278.html (Caused by SSLError(SSLCertVerificationError(1, '[SSL: CERTIFICATE_VERIFY_FAILED] certificate verify failed: unable to get local issuer certificate (_ssl.c:1129)')))\n"
     ]
    },
    {
     "name": "stderr",
     "output_type": "stream",
     "text": [
      "  5%|█▉                                      | 46/934 [04:32<1:09:42,  4.71s/it]"
     ]
    },
    {
     "name": "stdout",
     "output_type": "stream",
     "text": [
      "Problem: https://www.animenewsnetwork.com/bbs/phpBB2/viewtopic.php?t=3161170: HTTPSConnectionPool(host='www.animenewsnetwork.com', port=443): Read timed out. (read timeout=10)\n",
      "Problem: https://www.animenewsnetwork.com/bbs/phpBB2/viewtopic.php?t=3161170: HTTPSConnectionPool(host='www.animenewsnetwork.com', port=443): Read timed out. (read timeout=10)\n"
     ]
    },
    {
     "name": "stderr",
     "output_type": "stream",
     "text": [
      "  6%|██▎                                       | 52/934 [04:55<45:44,  3.11s/it]"
     ]
    },
    {
     "name": "stdout",
     "output_type": "stream",
     "text": [
      "Problem: https://www.washingtonpost.com/technology/2021/11/21/facebook-algorithm-biased-race/: HTTPSConnectionPool(host='www.washingtonpost.com', port=443): Read timed out. (read timeout=10)\n"
     ]
    },
    {
     "name": "stderr",
     "output_type": "stream",
     "text": [
      "  6%|██▍                                     | 58/934 [05:37<1:36:20,  6.60s/it]"
     ]
    },
    {
     "name": "stdout",
     "output_type": "stream",
     "text": [
      "Problem: https://www.excelsior.com.mx/hacker/bye-facebook-hola-meta-ya-no-le-digas-facebook-ahora-es-meta/1479606: ('Connection aborted.', ConnectionResetError(104, 'Connection reset by peer'))\n"
     ]
    },
    {
     "name": "stderr",
     "output_type": "stream",
     "text": [
      "  6%|██▌                                     | 60/934 [05:48<1:30:20,  6.20s/it]"
     ]
    },
    {
     "name": "stdout",
     "output_type": "stream",
     "text": [
      "Problem: http://hazmeelchingadofavor.com/category/destacadas/: ('Connection aborted.', ConnectionResetError(104, 'Connection reset by peer'))\n",
      "Problem: http://hazmeelchingadofavor.com/category/destacadas/: ('Connection aborted.', ConnectionResetError(104, 'Connection reset by peer'))\n",
      "Problem: http://hazmeelchingadofavor.com/category/destacadas/: ('Connection aborted.', ConnectionResetError(104, 'Connection reset by peer'))\n",
      "Problem: http://hazmeelchingadofavor.com/category/destacadas/: ('Connection aborted.', ConnectionResetError(104, 'Connection reset by peer'))\n",
      "Problem: http://hazmeelchingadofavor.com/category/destacadas/: ('Connection aborted.', ConnectionResetError(104, 'Connection reset by peer'))\n",
      "Problem: http://hazmeelchingadofavor.com/category/destacadas/: ('Connection aborted.', ConnectionResetError(104, 'Connection reset by peer'))\n"
     ]
    },
    {
     "name": "stderr",
     "output_type": "stream",
     "text": [
      "  7%|██▊                                     | 65/934 [06:06<1:00:26,  4.17s/it]"
     ]
    },
    {
     "name": "stdout",
     "output_type": "stream",
     "text": [
      "Problem: https://www.elconfidencial.com/tecnologia/2021-01-13/dejar-twitter-como-vivir-campo_2903964/: Exceeded 30 redirects.\n",
      "Problem: https://www.elconfidencial.com/cultura/2021-04-28/playground-prensa-millennial-periodismo_3049363/: Exceeded 30 redirects.\n",
      "Problem: https://www.elconfidencial.com/cultura/2021-04-28/playground-prensa-millennial-periodismo_3049363/: Exceeded 30 redirects.\n"
     ]
    },
    {
     "name": "stderr",
     "output_type": "stream",
     "text": [
      "  9%|███▊                                    | 88/934 [08:02<1:42:06,  7.24s/it]"
     ]
    },
    {
     "name": "stdout",
     "output_type": "stream",
     "text": [
      "Problem: https://ktvz.com/health/2021/03/16/have-european-countries-made-a-mistake-in-halting-astrazeneca-shots-heres-what-health-experts-say/: HTTPSConnectionPool(host='ktvz.com', port=443): Read timed out. (read timeout=10)\n"
     ]
    },
    {
     "name": "stderr",
     "output_type": "stream",
     "text": [
      "\r",
      " 10%|███▊                                    | 89/934 [08:18<2:19:37,  9.91s/it]"
     ]
    },
    {
     "name": "stdout",
     "output_type": "stream",
     "text": [
      "Problem: https://kion546.com/health/2021/03/16/have-european-countries-made-a-mistake-in-halting-astrazeneca-shots-heres-what-health-experts-say/: HTTPSConnectionPool(host='kion546.com', port=443): Read timed out. (read timeout=10)\n"
     ]
    },
    {
     "name": "stderr",
     "output_type": "stream",
     "text": [
      " 11%|████▍                                    | 101/934 [08:51<37:17,  2.69s/it]"
     ]
    },
    {
     "name": "stdout",
     "output_type": "stream",
     "text": [
      "Problem: http://www.newratings.de/du/main/company_headline.m?nid=12504209: HTTPSConnectionPool(host='www.newratings.de', port=443): Read timed out. (read timeout=10)\n"
     ]
    },
    {
     "name": "stderr",
     "output_type": "stream",
     "text": [
      " 11%|████▎                                  | 104/934 [09:11<1:06:53,  4.84s/it]"
     ]
    },
    {
     "name": "stdout",
     "output_type": "stream",
     "text": [
      "Problem: http://www.newratings.de/du/main/company_headline.m?nid=12776161: HTTPSConnectionPool(host='www.newratings.de', port=443): Max retries exceeded with url: /du/main/company_headline.m?nid=12776161 (Caused by SSLError(SSLCertVerificationError(\"hostname 'www.newratings.de' doesn't match either of '*.ariva-services.de', 'ariva-services.de'\")))\n"
     ]
    },
    {
     "name": "stderr",
     "output_type": "stream",
     "text": [
      " 11%|████▋                                    | 106/934 [09:19<57:34,  4.17s/it]"
     ]
    },
    {
     "name": "stdout",
     "output_type": "stream",
     "text": [
      "Problem: https://www.tagesspiegel.de/wissen/pharmakonzern-kontert-im-impfstoff-streit-astrazeneca-wirft-eu-zu-spaete-bestellung-vor-und-laesst-krisentreffen-platzen/26855994.html: HTTPSConnectionPool(host='www.tagesspiegel.de', port=443): Read timed out. (read timeout=10)\n"
     ]
    },
    {
     "name": "stderr",
     "output_type": "stream",
     "text": [
      " 12%|████▌                                  | 109/934 [09:38<1:09:38,  5.06s/it]"
     ]
    },
    {
     "name": "stdout",
     "output_type": "stream",
     "text": [
      "Problem: https://www.tagesspiegel.de/politik/auch-scholz-erhielt-impfung-am-freitag-kanzlerin-merkel-hat-sich-mit-astrazeneca-impfen-lassen/27101946.html: HTTPSConnectionPool(host='www.tagesspiegel.de', port=443): Read timed out. (read timeout=10)\n"
     ]
    },
    {
     "name": "stderr",
     "output_type": "stream",
     "text": [
      " 12%|████▋                                  | 112/934 [09:59<1:13:20,  5.35s/it]"
     ]
    },
    {
     "name": "stdout",
     "output_type": "stream",
     "text": [
      "Problem: https://www.einnews.com/pr_news/542146731/award-winning-young-health-programme-expands-to-18-new-communities-in-kenya: HTTPSConnectionPool(host='www.einnews.com', port=443): Read timed out. (read timeout=10)\n"
     ]
    },
    {
     "name": "stderr",
     "output_type": "stream",
     "text": [
      " 13%|█████▏                                   | 119/934 [10:30<53:55,  3.97s/it]"
     ]
    },
    {
     "name": "stdout",
     "output_type": "stream",
     "text": [
      "Problem: http://www.newratings.de/du/main/company_headline.m?nid=12918273: HTTPSConnectionPool(host='www.newratings.de', port=443): Max retries exceeded with url: /du/main/company_headline.m?nid=12918273 (Caused by SSLError(SSLCertVerificationError(\"hostname 'www.newratings.de' doesn't match either of '*.ariva-services.de', 'ariva-services.de'\")))\n"
     ]
    },
    {
     "name": "stderr",
     "output_type": "stream",
     "text": [
      " 16%|██████▋                                  | 152/934 [12:40<30:44,  2.36s/it]"
     ]
    },
    {
     "name": "stdout",
     "output_type": "stream",
     "text": [
      "Problem: https://www.elconfidencial.com/decompras/2021-04-16/como-comprar-pulpo-reversible-juguete_3033232/: Exceeded 30 redirects.\n"
     ]
    },
    {
     "name": "stderr",
     "output_type": "stream",
     "text": [
      " 17%|██████▊                                  | 155/934 [12:52<45:00,  3.47s/it]"
     ]
    },
    {
     "name": "stdout",
     "output_type": "stream",
     "text": [
      "Problem: https://www.elconfidencial.com/decompras/2021-03-24/camas-elasticas-saltar-acrobacias-piruetas_3004204/: Exceeded 30 redirects.\n"
     ]
    },
    {
     "name": "stderr",
     "output_type": "stream",
     "text": [
      "\r",
      " 17%|██████▊                                  | 156/934 [12:56<47:04,  3.63s/it]"
     ]
    },
    {
     "name": "stdout",
     "output_type": "stream",
     "text": [
      "Problem: https://www.elconfidencial.com/decompras/ofertas/2021-11-22/ofertas-herramientas-black-friday_3327631/: Exceeded 30 redirects.\n"
     ]
    },
    {
     "name": "stderr",
     "output_type": "stream",
     "text": [
      " 17%|██████▉                                  | 159/934 [13:07<42:32,  3.29s/it]"
     ]
    },
    {
     "name": "stdout",
     "output_type": "stream",
     "text": [
      "Problem: https://www.hwupgrade.it/news/telefonia/amazon-tutti-gli-sconti-del-weekend-apple-airpods-a-119-xiaomi-poco-x3-pro-219-roomba-671-al-prezzo-piu-basso-di-sempre-e-molto-altro-ancora_97216.html: HTTPSConnectionPool(host='www.hwupgrade.it', port=443): Read timed out. (read timeout=10)\n"
     ]
    },
    {
     "name": "stderr",
     "output_type": "stream",
     "text": [
      " 17%|███████▏                                 | 163/934 [13:28<47:11,  3.67s/it]"
     ]
    },
    {
     "name": "stdout",
     "output_type": "stream",
     "text": [
      "Problem: https://www.etonline.com/amazons-big-winter-sale-best-sandals-from-ugg-soludos-and-more-148598: HTTPSConnectionPool(host='www.etonline.com', port=443): Read timed out. (read timeout=10)\n"
     ]
    },
    {
     "name": "stderr",
     "output_type": "stream",
     "text": [
      "\r",
      " 18%|██████▊                                | 164/934 [13:40<1:18:32,  6.12s/it]"
     ]
    },
    {
     "name": "stdout",
     "output_type": "stream",
     "text": [
      "Problem: https://www.elconfidencial.com/decompras/2020-06-30/fertilizantes-cultivar-plantas-huerto-urbano_2661036/: Exceeded 30 redirects.\n",
      "Problem: https://www.elconfidencial.com/decompras/2021-01-27/jardineras-exterior-plantas-balcon-terraza_2923947/: Exceeded 30 redirects.\n"
     ]
    },
    {
     "name": "stderr",
     "output_type": "stream",
     "text": [
      "\r",
      " 18%|██████▉                                | 165/934 [13:43<1:07:27,  5.26s/it]"
     ]
    },
    {
     "name": "stdout",
     "output_type": "stream",
     "text": [
      "Problem: https://www.elconfidencial.com/decompras/2020-12-25/cestos-almacenar-objetos-decorar-hogar_2886451/: Exceeded 30 redirects.\n",
      "Problem: https://www.elconfidencial.com/decompras/2021-02-27/generadores-electricos-corriente-casa-camping_2970520/: Exceeded 30 redirects.\n",
      "Problem: https://www.elconfidencial.com/tecnologia/2021-11-22/ofertas-top-semana-black-friday-amazon-2021_3324281/: Exceeded 30 redirects.\n"
     ]
    },
    {
     "name": "stderr",
     "output_type": "stream",
     "text": [
      "\r",
      " 18%|███████▎                                 | 166/934 [13:47<59:27,  4.65s/it]"
     ]
    },
    {
     "name": "stdout",
     "output_type": "stream",
     "text": [
      "Problem: https://www.elconfidencial.com/decompras/2020-12-29/farolas-iluminar-decorar-jardines-terrazas_2889060/: Exceeded 30 redirects.\n"
     ]
    },
    {
     "name": "stderr",
     "output_type": "stream",
     "text": [
      " 18%|███████▌                                 | 171/934 [14:03<42:38,  3.35s/it]"
     ]
    },
    {
     "name": "stdout",
     "output_type": "stream",
     "text": [
      "Problem: https://urgente24.com/mundo/global/petroleras-ya-compiten-abiertamente-en-el-mercado-electrico-verde: HTTPSConnectionPool(host='urgente24.com', port=443): Read timed out. (read timeout=10)\n"
     ]
    },
    {
     "name": "stderr",
     "output_type": "stream",
     "text": [
      " 19%|███████▉                                 | 181/934 [15:02<58:20,  4.65s/it]"
     ]
    },
    {
     "name": "stdout",
     "output_type": "stream",
     "text": [
      "Problem: http://www.cb.com.cn/index/show/zj/cv/cv135120631263: ('Connection aborted.', RemoteDisconnected('Remote end closed connection without response'))\n"
     ]
    },
    {
     "name": "stderr",
     "output_type": "stream",
     "text": [
      " 20%|███████▋                               | 183/934 [15:14<1:06:56,  5.35s/it]"
     ]
    },
    {
     "name": "stdout",
     "output_type": "stream",
     "text": [
      "Problem: https://www.washingtonpost.com/climate-environment/2021/02/06/auto-industry-peers-into-an-electric-future-sees-bumps-ahead/: HTTPSConnectionPool(host='www.washingtonpost.com', port=443): Read timed out. (read timeout=10)\n"
     ]
    },
    {
     "name": "stderr",
     "output_type": "stream",
     "text": [
      " 20%|████████▏                                | 186/934 [15:29<53:39,  4.30s/it]"
     ]
    },
    {
     "name": "stdout",
     "output_type": "stream",
     "text": [
      "Problem: https://tiresandparts.net/news/gm-middle-east-reports-outstanding-q1-results-with-15-sales-growth-as-it-continues-to-deliver-on-ambidextrous-strategy/: HTTPSConnectionPool(host='tiresandparts.net', port=443): Read timed out. (read timeout=10)\n"
     ]
    },
    {
     "name": "stderr",
     "output_type": "stream",
     "text": [
      " 21%|████████▊                                | 200/934 [16:33<36:57,  3.02s/it]"
     ]
    },
    {
     "name": "stdout",
     "output_type": "stream",
     "text": [
      "Problem: https://www.washingtonpost.com/business/the-latest-france-finds-1st-case-of-variant-sweeping-india/2021/04/30/12eaaea4-a982-11eb-a8a7-5f45ddcdf364_story.html: HTTPSConnectionPool(host='www.washingtonpost.com', port=443): Read timed out. (read timeout=10)\n"
     ]
    },
    {
     "name": "stderr",
     "output_type": "stream",
     "text": [
      " 22%|████████▌                              | 204/934 [17:17<1:42:00,  8.38s/it]"
     ]
    },
    {
     "name": "stdout",
     "output_type": "stream",
     "text": [
      "Problem: https://www.washingtonpost.com/business/2020/12/05/operation-warp-speed-coronavirus-vaccine-shortfall/: HTTPSConnectionPool(host='www.washingtonpost.com', port=443): Read timed out. (read timeout=10)\n"
     ]
    },
    {
     "name": "stderr",
     "output_type": "stream",
     "text": [
      "\r",
      " 22%|████████▌                              | 205/934 [17:19<1:18:24,  6.45s/it]"
     ]
    },
    {
     "name": "stdout",
     "output_type": "stream",
     "text": [
      "Problem: http://delrionewsherald.com/news_ap/business/article_53722089-d475-5ffa-b17c-8c0e034e0e72.html: HTTPConnectionPool(host='delrionewsherald.com', port=80): Max retries exceeded with url: /news_ap/business/article_53722089-d475-5ffa-b17c-8c0e034e0e72.html (Caused by NewConnectionError('<urllib3.connection.HTTPConnection object at 0x7f53479904f0>: Failed to establish a new connection: [Errno -5] No address associated with hostname'))\n",
      "Problem: https://www.fairfieldcitizenonline.com/business/article/The-Latest-UN-Pandemic-reduced-migrants-by-2M-15875977.php: HTTPSConnectionPool(host='www.fairfieldcitizenonline.com', port=443): Max retries exceeded with url: /business/article/The-Latest-UN-Pandemic-reduced-migrants-by-2M-15875977.php (Caused by SSLError(SSLCertVerificationError(1, '[SSL: CERTIFICATE_VERIFY_FAILED] certificate verify failed: certificate has expired (_ssl.c:1129)')))\n",
      "Problem: https://www.westport-news.com/business/article/The-Latest-UN-Pandemic-reduced-migrants-by-2M-15875977.php: HTTPSConnectionPool(host='www.westport-news.com', port=443): Max retries exceeded with url: /business/article/The-Latest-UN-Pandemic-reduced-migrants-by-2M-15875977.php (Caused by SSLError(SSLCertVerificationError(1, '[SSL: CERTIFICATE_VERIFY_FAILED] certificate verify failed: certificate has expired (_ssl.c:1129)')))\n"
     ]
    },
    {
     "name": "stderr",
     "output_type": "stream",
     "text": [
      " 22%|█████████                                | 207/934 [17:21<47:34,  3.93s/it]"
     ]
    },
    {
     "name": "stdout",
     "output_type": "stream",
     "text": [
      "Problem: https://www.newmilfordspectrum.com/business/article/The-Latest-UN-Pandemic-reduced-migrants-by-2M-15875977.php: HTTPSConnectionPool(host='www.newmilfordspectrum.com', port=443): Max retries exceeded with url: /business/article/The-Latest-UN-Pandemic-reduced-migrants-by-2M-15875977.php (Caused by SSLError(SSLCertVerificationError(1, '[SSL: CERTIFICATE_VERIFY_FAILED] certificate verify failed: certificate has expired (_ssl.c:1129)')))\n"
     ]
    },
    {
     "name": "stderr",
     "output_type": "stream",
     "text": [
      " 23%|█████████▎                               | 211/934 [17:41<54:16,  4.50s/it]"
     ]
    },
    {
     "name": "stdout",
     "output_type": "stream",
     "text": [
      "Problem: https://www.washingtonpost.com/health/2020/12/17/pfizer-vaccine-supply-states/: HTTPSConnectionPool(host='www.washingtonpost.com', port=443): Read timed out. (read timeout=10)\n"
     ]
    },
    {
     "name": "stderr",
     "output_type": "stream",
     "text": [
      " 23%|████████▉                              | 213/934 [17:54<1:02:59,  5.24s/it]"
     ]
    },
    {
     "name": "stdout",
     "output_type": "stream",
     "text": [
      "Problem: https://www.newmilfordspectrum.com/news/article/The-Latest-France-finds-1st-case-of-variant-16141001.php: HTTPSConnectionPool(host='www.newmilfordspectrum.com', port=443): Max retries exceeded with url: /news/article/The-Latest-France-finds-1st-case-of-variant-16141001.php (Caused by SSLError(SSLCertVerificationError(1, '[SSL: CERTIFICATE_VERIFY_FAILED] certificate verify failed: certificate has expired (_ssl.c:1129)')))\n"
     ]
    },
    {
     "name": "stderr",
     "output_type": "stream",
     "text": [
      " 23%|█████████                              | 217/934 [18:15<1:13:18,  6.13s/it]"
     ]
    },
    {
     "name": "stdout",
     "output_type": "stream",
     "text": [
      "Problem: https://accesswdun.com/article/2021/2/977170: HTTPSConnectionPool(host='accesswdun.com', port=443): Read timed out. (read timeout=10)\n"
     ]
    },
    {
     "name": "stderr",
     "output_type": "stream",
     "text": [
      " 23%|█████████▏                             | 219/934 [18:30<1:18:56,  6.62s/it]"
     ]
    },
    {
     "name": "stdout",
     "output_type": "stream",
     "text": [
      "Problem: https://www.newmilfordspectrum.com/news/article/The-Latest-France-s-Sanofi-to-help-make-rival-15901099.php: HTTPSConnectionPool(host='www.newmilfordspectrum.com', port=443): Max retries exceeded with url: /news/article/The-Latest-France-s-Sanofi-to-help-make-rival-15901099.php (Caused by SSLError(SSLCertVerificationError(1, '[SSL: CERTIFICATE_VERIFY_FAILED] certificate verify failed: certificate has expired (_ssl.c:1129)')))\n"
     ]
    },
    {
     "name": "stderr",
     "output_type": "stream",
     "text": [
      " 24%|█████████▉                               | 226/934 [18:52<43:23,  3.68s/it]"
     ]
    },
    {
     "name": "stdout",
     "output_type": "stream",
     "text": [
      "Problem: https://www.excelsior.com.mx/global/pfizer-solicita-a-eu-aprobacion-de-su-vacuna-covid-para-ninos/1475714: ('Connection aborted.', ConnectionResetError(104, 'Connection reset by peer'))\n"
     ]
    },
    {
     "name": "stderr",
     "output_type": "stream",
     "text": [
      " 25%|██████████▏                              | 231/934 [19:05<32:27,  2.77s/it]"
     ]
    },
    {
     "name": "stdout",
     "output_type": "stream",
     "text": [
      "Problem: https://www.carasycaretas.com.uy/no-yo-no-confio/: HTTPSConnectionPool(host='www.carasycaretas.com.uy', port=443): Max retries exceeded with url: /no-yo-no-confio/ (Caused by ConnectTimeoutError(<urllib3.connection.HTTPSConnection object at 0x7f536554a3d0>, 'Connection to www.carasycaretas.com.uy timed out. (connect timeout=10)'))\n"
     ]
    },
    {
     "name": "stderr",
     "output_type": "stream",
     "text": [
      " 25%|██████████▎                              | 234/934 [19:22<47:58,  4.11s/it]"
     ]
    },
    {
     "name": "stdout",
     "output_type": "stream",
     "text": [
      "Problem: https://www.washingtonpost.com/outlook/2021/02/16/vaccine-johnson-johnson-moderna-pfizer/: HTTPSConnectionPool(host='www.washingtonpost.com', port=443): Read timed out. (read timeout=10)\n"
     ]
    },
    {
     "name": "stderr",
     "output_type": "stream",
     "text": [
      " 26%|██████████▍                              | 239/934 [19:50<51:29,  4.44s/it]"
     ]
    },
    {
     "name": "stdout",
     "output_type": "stream",
     "text": [
      "Problem: https://www.excelsior.com.mx/nacional/avanza-plan-de-vacunas-anticovid-hay-dos-biologicos-autorizados/1429787: ('Connection aborted.', ConnectionResetError(104, 'Connection reset by peer'))\n",
      "Problem: http://www.newratings.de/du/main/company_headline.m?nid=13786150: HTTPSConnectionPool(host='www.newratings.de', port=443): Max retries exceeded with url: /du/main/company_headline.m?nid=13786150 (Caused by SSLError(SSLCertVerificationError(\"hostname 'www.newratings.de' doesn't match either of '*.ariva-services.de', 'ariva-services.de'\")))\n"
     ]
    },
    {
     "name": "stderr",
     "output_type": "stream",
     "text": [
      " 26%|██████████▌                              | 241/934 [20:01<55:24,  4.80s/it]"
     ]
    },
    {
     "name": "stdout",
     "output_type": "stream",
     "text": [
      "Problem: https://elpilon.com.co/director-epidemiologico-y-demografico-despeja-dudas-sobre-el-plan-de-vacunacion-en-el-cesar/: HTTPSConnectionPool(host='elpilon.com.co', port=443): Read timed out.\n"
     ]
    },
    {
     "name": "stderr",
     "output_type": "stream",
     "text": [
      " 27%|██████████▉                              | 248/934 [20:35<53:37,  4.69s/it]"
     ]
    },
    {
     "name": "stdout",
     "output_type": "stream",
     "text": [
      "Problem: https://www.teinteresa.es/espana/espana-comienza-un-ensayo-para-evaluar-una-segunda-dosis-de-la-vacuna-de-pfizer-en-personas-ya-vacunadas-con-astrazeneca.html: HTTPSConnectionPool(host='www.teinteresa.es', port=443): Read timed out. (read timeout=10)\n"
     ]
    },
    {
     "name": "stderr",
     "output_type": "stream",
     "text": [
      "\r",
      " 27%|██████████▍                            | 249/934 [20:46<1:13:12,  6.41s/it]"
     ]
    },
    {
     "name": "stdout",
     "output_type": "stream",
     "text": [
      "Problem: https://www.excelsior.com.mx/global/cuando-estara-lista-la-pastilla-contra-el-covid-esto-es-lo-que-sabemos/1450221: ('Connection aborted.', ConnectionResetError(104, 'Connection reset by peer'))\n"
     ]
    },
    {
     "name": "stderr",
     "output_type": "stream",
     "text": [
      " 27%|███████████                              | 252/934 [20:55<48:33,  4.27s/it]"
     ]
    },
    {
     "name": "stdout",
     "output_type": "stream",
     "text": [
      "Problem: https://www.elconfidencial.com/espana/andalucia/2021-01-21/covid19-vacuna-sexta-dosis_2917596/: Exceeded 30 redirects.\n"
     ]
    },
    {
     "name": "stderr",
     "output_type": "stream",
     "text": [
      " 28%|███████████▎                             | 259/934 [21:23<49:35,  4.41s/it]"
     ]
    },
    {
     "name": "stdout",
     "output_type": "stream",
     "text": [
      "Problem: http://www.frontpagemag.com/point/2021/04/unilever-whose-workers-raped-and-killed-calls-daniel-greenfield/: HTTPConnectionPool(host='www.frontpagemag.com', port=80): Read timed out. (read timeout=10)\n"
     ]
    },
    {
     "name": "stderr",
     "output_type": "stream",
     "text": [
      " 28%|███████████▌                             | 264/934 [21:46<39:33,  3.54s/it]"
     ]
    },
    {
     "name": "stdout",
     "output_type": "stream",
     "text": [
      "Problem: https://www.elconfidencial.com/motor/2021-01-26/toyota-highlander_2921923/: Exceeded 30 redirects.\n",
      "Problem: https://www.elconfidencial.com/motor/2021-04-03/toyota-gama-4x4_3017491/: Exceeded 30 redirects.\n"
     ]
    },
    {
     "name": "stderr",
     "output_type": "stream",
     "text": [
      " 28%|███████████▋                             | 266/934 [21:52<36:24,  3.27s/it]"
     ]
    },
    {
     "name": "stdout",
     "output_type": "stream",
     "text": [
      "Problem: http://softwaredev.itbusinessnet.com/2021/04/toyota-announces-its-new-bev-series-toyota-bz-in-establishment-of-a-full-line-up-of-electrified-vehicles/: HTTPConnectionPool(host='softwaredev.itbusinessnet.com', port=80): Max retries exceeded with url: /2021/04/toyota-announces-its-new-bev-series-toyota-bz-in-establishment-of-a-full-line-up-of-electrified-vehicles/ (Caused by NewConnectionError('<urllib3.connection.HTTPConnection object at 0x7f533bb40e50>: Failed to establish a new connection: [Errno -2] Name or service not known'))\n",
      "Problem: http://enterpriseapps.itbusinessnet.com/2021/04/toyota-announces-its-new-bev-series-toyota-bz-in-establishment-of-a-full-line-up-of-electrified-vehicles/: HTTPConnectionPool(host='enterpriseapps.itbusinessnet.com', port=80): Max retries exceeded with url: /2021/04/toyota-announces-its-new-bev-series-toyota-bz-in-establishment-of-a-full-line-up-of-electrified-vehicles/ (Caused by NewConnectionError('<urllib3.connection.HTTPConnection object at 0x7f533bb407c0>: Failed to establish a new connection: [Errno -2] Name or service not known'))\n",
      "Problem: http://networking.itbusinessnet.com/2021/04/toyota-announces-its-new-bev-series-toyota-bz-in-establishment-of-a-full-line-up-of-electrified-vehicles/: HTTPConnectionPool(host='networking.itbusinessnet.com', port=80): Max retries exceeded with url: /2021/04/toyota-announces-its-new-bev-series-toyota-bz-in-establishment-of-a-full-line-up-of-electrified-vehicles/ (Caused by NewConnectionError('<urllib3.connection.HTTPConnection object at 0x7f533bb401f0>: Failed to establish a new connection: [Errno -2] Name or service not known'))\n",
      "Problem: http://business.itbusinessnet.com/2021/04/toyota-announces-its-new-bev-series-toyota-bz-in-establishment-of-a-full-line-up-of-electrified-vehicles/: HTTPConnectionPool(host='business.itbusinessnet.com', port=80): Max retries exceeded with url: /2021/04/toyota-announces-its-new-bev-series-toyota-bz-in-establishment-of-a-full-line-up-of-electrified-vehicles/ (Caused by NewConnectionError('<urllib3.connection.HTTPConnection object at 0x7f536517c040>: Failed to establish a new connection: [Errno -2] Name or service not known'))\n",
      "Problem: http://internet.itbusinessnet.com/2021/04/toyota-announces-its-new-bev-series-toyota-bz-in-establishment-of-a-full-line-up-of-electrified-vehicles/: HTTPConnectionPool(host='internet.itbusinessnet.com', port=80): Max retries exceeded with url: /2021/04/toyota-announces-its-new-bev-series-toyota-bz-in-establishment-of-a-full-line-up-of-electrified-vehicles/ (Caused by NewConnectionError('<urllib3.connection.HTTPConnection object at 0x7f533bc0c5b0>: Failed to establish a new connection: [Errno -2] Name or service not known'))\n",
      "Problem: http://hardware.itbusinessnet.com/2021/04/toyota-announces-its-new-bev-series-toyota-bz-in-establishment-of-a-full-line-up-of-electrified-vehicles/: HTTPConnectionPool(host='hardware.itbusinessnet.com', port=80): Max retries exceeded with url: /2021/04/toyota-announces-its-new-bev-series-toyota-bz-in-establishment-of-a-full-line-up-of-electrified-vehicles/ (Caused by NewConnectionError('<urllib3.connection.HTTPConnection object at 0x7f533bc0cb80>: Failed to establish a new connection: [Errno -2] Name or service not known'))\n",
      "Problem: http://cloud.itbusinessnet.com/2021/04/toyota-announces-its-new-bev-series-toyota-bz-in-establishment-of-a-full-line-up-of-electrified-vehicles/: HTTPConnectionPool(host='cloud.itbusinessnet.com', port=80): Max retries exceeded with url: /2021/04/toyota-announces-its-new-bev-series-toyota-bz-in-establishment-of-a-full-line-up-of-electrified-vehicles/ (Caused by NewConnectionError('<urllib3.connection.HTTPConnection object at 0x7f533bc0cf10>: Failed to establish a new connection: [Errno -2] Name or service not known'))\n"
     ]
    },
    {
     "name": "stderr",
     "output_type": "stream",
     "text": [
      " 29%|███████████▏                           | 269/934 [22:18<1:27:24,  7.89s/it]"
     ]
    },
    {
     "name": "stdout",
     "output_type": "stream",
     "text": [
      "Problem: http://www.asahi.com/ajw/articles/14346279: HTTPSConnectionPool(host='www.asahi.com', port=443): Read timed out. (read timeout=10)\n",
      "Problem: https://www.thisdaylive.com/index.php/2021/06/05/in-a-shocking-overreaction-fg-suspends-twitters-operations/: HTTPSConnectionPool(host='www.thisdaylive.com', port=443): Max retries exceeded with url: /index.php/2021/06/05/in-a-shocking-overreaction-fg-suspends-twitters-operations/ (Caused by ConnectTimeoutError(<urllib3.connection.HTTPSConnection object at 0x7f53651d5640>, 'Connection to www.thisdaylive.com timed out. (connect timeout=10)'))\n"
     ]
    },
    {
     "name": "stderr",
     "output_type": "stream",
     "text": [
      " 29%|███████████▍                           | 275/934 [23:20<1:32:55,  8.46s/it]"
     ]
    },
    {
     "name": "stdout",
     "output_type": "stream",
     "text": [
      "Problem: https://www.940wfaw.com/news/trump-twitter-ban-raises-concerns-over-unchecked-power-of-big-tech/: HTTPSConnectionPool(host='www.940wfaw.com', port=443): Max retries exceeded with url: /news/trump-twitter-ban-raises-concerns-over-unchecked-power-of-big-tech/ (Caused by SSLError(SSLCertVerificationError(\"hostname 'www.940wfaw.com' doesn't match either of '*.socastsrm.com', 'socastsrm.com'\")))\n"
     ]
    },
    {
     "name": "stderr",
     "output_type": "stream",
     "text": [
      " 30%|███████████▌                           | 278/934 [23:39<1:18:58,  7.22s/it]"
     ]
    },
    {
     "name": "stdout",
     "output_type": "stream",
     "text": [
      "Problem: https://www.lacronicabadajoz.com/noticias/deportes/adios-sergi-mingote-nos-deja-uno-grandes_385217.html: HTTPSConnectionPool(host='www.lacronicabadajoz.com', port=443): Max retries exceeded with url: /noticias/deportes/adios-sergi-mingote-nos-deja-uno-grandes_385217.html (Caused by SSLError(SSLCertVerificationError(1, '[SSL: CERTIFICATE_VERIFY_FAILED] certificate verify failed: unable to get local issuer certificate (_ssl.c:1129)')))\n"
     ]
    },
    {
     "name": "stderr",
     "output_type": "stream",
     "text": [
      " 31%|████████████                           | 288/934 [24:37<1:07:28,  6.27s/it]"
     ]
    },
    {
     "name": "stdout",
     "output_type": "stream",
     "text": [
      "Problem: https://www.kxly.com/i/tesla-owners-warned-of-full-self-driving-risks-even-before-fatal-crash/: HTTPSConnectionPool(host='www.kxly.com', port=443): Read timed out. (read timeout=10)\n",
      "Problem: https://www.washingtonpost.com/technology/2021/05/14/tesla-apple-tech/: HTTPSConnectionPool(host='www.washingtonpost.com', port=443): Read timed out. (read timeout=10)\n"
     ]
    },
    {
     "name": "stderr",
     "output_type": "stream",
     "text": [
      " 32%|█████████████▏                           | 300/934 [25:39<54:27,  5.15s/it]"
     ]
    },
    {
     "name": "stdout",
     "output_type": "stream",
     "text": [
      "Problem: https://www.aachener-nachrichten.de/wirtschaft/tesla-schafft-rekordgewinn-im-ersten-quartal_aid-57579347: HTTPSConnectionPool(host='www.aachener-nachrichten.de', port=443): Read timed out. (read timeout=10)\n"
     ]
    },
    {
     "name": "stderr",
     "output_type": "stream",
     "text": [
      " 33%|█████████████▍                           | 306/934 [26:09<38:13,  3.65s/it]"
     ]
    },
    {
     "name": "stdout",
     "output_type": "stream",
     "text": [
      "Problem: https://www.elconfidencial.com/tecnologia/2021-05-23/elon-musk-tesla-perfil-juguete-rico_3090828/: Exceeded 30 redirects.\n"
     ]
    },
    {
     "name": "stderr",
     "output_type": "stream",
     "text": [
      " 33%|████████████▉                          | 309/934 [26:28<1:01:22,  5.89s/it]"
     ]
    },
    {
     "name": "stdout",
     "output_type": "stream",
     "text": [
      "Problem: https://www.newswiretoday.com/news/176271/: HTTPSConnectionPool(host='www.newswiretoday.com', port=443): Max retries exceeded with url: /news/176271/ (Caused by SSLError(SSLCertVerificationError(1, '[SSL: CERTIFICATE_VERIFY_FAILED] certificate verify failed: unable to get local issuer certificate (_ssl.c:1129)')))\n",
      "Problem: https://www.washingtonpost.com/technology/2020/07/22/black-entrepreneurs-venture-capital/: HTTPSConnectionPool(host='www.washingtonpost.com', port=443): Read timed out. (read timeout=10)\n",
      "Problem: https://www.washingtonpost.com/technology/2020/07/22/black-entrepreneurs-venture-capital/: HTTPSConnectionPool(host='www.washingtonpost.com', port=443): Read timed out. (read timeout=10)\n",
      "Problem: https://www.washingtonpost.com/technology/2020/07/22/black-entrepreneurs-venture-capital/: HTTPSConnectionPool(host='www.washingtonpost.com', port=443): Read timed out. (read timeout=10)\n",
      "Problem: https://www.washingtonpost.com/technology/2020/07/22/black-entrepreneurs-venture-capital/: HTTPSConnectionPool(host='www.washingtonpost.com', port=443): Read timed out. (read timeout=10)\n",
      "Problem: https://www.washingtonpost.com/technology/2020/07/22/black-entrepreneurs-venture-capital/: HTTPSConnectionPool(host='www.washingtonpost.com', port=443): Read timed out. (read timeout=10)\n"
     ]
    },
    {
     "name": "stderr",
     "output_type": "stream",
     "text": [
      " 34%|█████████████▊                           | 314/934 [26:53<45:29,  4.40s/it]"
     ]
    },
    {
     "name": "stdout",
     "output_type": "stream",
     "text": [
      "Problem: http://internet.itbusinessnet.com/2021/04/coty-unveils-growth-acceleration-strategy-at-investor-update-event/: HTTPConnectionPool(host='internet.itbusinessnet.com', port=80): Max retries exceeded with url: /2021/04/coty-unveils-growth-acceleration-strategy-at-investor-update-event/ (Caused by NewConnectionError('<urllib3.connection.HTTPConnection object at 0x7f533b91afa0>: Failed to establish a new connection: [Errno -2] Name or service not known'))\n",
      "Problem: http://cloud.itbusinessnet.com/2021/04/coty-unveils-growth-acceleration-strategy-at-investor-update-event/: HTTPConnectionPool(host='cloud.itbusinessnet.com', port=80): Max retries exceeded with url: /2021/04/coty-unveils-growth-acceleration-strategy-at-investor-update-event/ (Caused by NewConnectionError('<urllib3.connection.HTTPConnection object at 0x7f533b941610>: Failed to establish a new connection: [Errno -2] Name or service not known'))\n",
      "Problem: http://enterpriseapps.itbusinessnet.com/2021/04/coty-unveils-growth-acceleration-strategy-at-investor-update-event/: HTTPConnectionPool(host='enterpriseapps.itbusinessnet.com', port=80): Max retries exceeded with url: /2021/04/coty-unveils-growth-acceleration-strategy-at-investor-update-event/ (Caused by NewConnectionError('<urllib3.connection.HTTPConnection object at 0x7f533b941be0>: Failed to establish a new connection: [Errno -2] Name or service not known'))\n",
      "Problem: http://softwaredev.itbusinessnet.com/2021/04/coty-unveils-growth-acceleration-strategy-at-investor-update-event/: HTTPConnectionPool(host='softwaredev.itbusinessnet.com', port=80): Max retries exceeded with url: /2021/04/coty-unveils-growth-acceleration-strategy-at-investor-update-event/ (Caused by NewConnectionError('<urllib3.connection.HTTPConnection object at 0x7f533b915250>: Failed to establish a new connection: [Errno -2] Name or service not known'))\n",
      "Problem: http://hardware.itbusinessnet.com/2021/04/coty-unveils-growth-acceleration-strategy-at-investor-update-event/: HTTPConnectionPool(host='hardware.itbusinessnet.com', port=80): Max retries exceeded with url: /2021/04/coty-unveils-growth-acceleration-strategy-at-investor-update-event/ (Caused by NewConnectionError('<urllib3.connection.HTTPConnection object at 0x7f533b915880>: Failed to establish a new connection: [Errno -2] Name or service not known'))\n",
      "Problem: http://security.itbusinessnet.com/2021/04/coty-unveils-growth-acceleration-strategy-at-investor-update-event/: HTTPConnectionPool(host='security.itbusinessnet.com', port=80): Max retries exceeded with url: /2021/04/coty-unveils-growth-acceleration-strategy-at-investor-update-event/ (Caused by NewConnectionError('<urllib3.connection.HTTPConnection object at 0x7f533b915eb0>: Failed to establish a new connection: [Errno -2] Name or service not known'))\n",
      "Problem: http://business.itbusinessnet.com/2021/04/coty-unveils-growth-acceleration-strategy-at-investor-update-event/: HTTPConnectionPool(host='business.itbusinessnet.com', port=80): Max retries exceeded with url: /2021/04/coty-unveils-growth-acceleration-strategy-at-investor-update-event/ (Caused by NewConnectionError('<urllib3.connection.HTTPConnection object at 0x7f533b90a520>: Failed to establish a new connection: [Errno -2] Name or service not known'))\n"
     ]
    },
    {
     "name": "stderr",
     "output_type": "stream",
     "text": [
      " 34%|█████████████▉                           | 317/934 [27:05<42:00,  4.08s/it]"
     ]
    },
    {
     "name": "stdout",
     "output_type": "stream",
     "text": [
      "Problem: https://xornalgalicia.com/xunta-de-galicia/sergas/16674-funcionarios-publicos-medicos-y-sus-esposas-podrian-estar-sangrando-los-fondos-europeos-destinados-al-sergas-asesorados-y-con-el-visto-bueno-de-rafael-alvaro-millan-calenti: HTTPSConnectionPool(host='xornalgalicia.com', port=443): Read timed out. (read timeout=10)\n",
      "Problem: https://xornalgalicia.com/xunta-de-galicia/sergas/1https:/xornalgalicia.com/16674-funcionarios-publicos-medicos-y-sus-esposas-podrian-estar-sangrando-los-fondos-europeos-destinados-al-sergas-asesorados-y-con-el-visto-bueno-de-rafael-alvaro-millan-calenti: HTTPSConnectionPool(host='xornalgalicia.com', port=443): Read timed out. (read timeout=10)\n",
      "Problem: https://xornalgalicia.com/xunta-de-galicia/sergas/16674-funcionarios-publicos-medicos-y-sus-esposas-podrian-estar-sangrando-los-fondos-europeos-destinados-al-sergas-asesorados-y-con-el-visto-bueno-de-rafael-alvaro-millan-calenti: HTTPSConnectionPool(host='xornalgalicia.com', port=443): Read timed out. (read timeout=10)\n",
      "Problem: https://xornalgalicia.com/xunta-de-galicia/sergas/16674-funcionarios-publicos-medicos-y-sus-esposas-podrian-estar-sangrando-los-fondos-europeos-destinados-al-sergas-asesorados-y-con-el-visto-bueno-de-rafael-alvaro-millan-calenti: HTTPSConnectionPool(host='xornalgalicia.com', port=443): Read timed out. (read timeout=10)\n"
     ]
    },
    {
     "name": "stderr",
     "output_type": "stream",
     "text": [
      "\r",
      " 34%|█████████████▎                         | 318/934 [27:16<1:02:00,  6.04s/it]"
     ]
    },
    {
     "name": "stdout",
     "output_type": "stream",
     "text": [
      "Problem: https://xornalgalicia.com/xunta-de-galicia/sergas/16674-funcionarios-publicos-medicos-y-sus-esposas-podrian-estar-sangrando-los-fondos-europeos-destinados-al-sergas-asesorados-y-con-el-visto-bueno-de-rafael-alvaro-millan-calenti: HTTPSConnectionPool(host='xornalgalicia.com', port=443): Read timed out. (read timeout=10)\n",
      "Problem: https://xornalgalicia.com/xunta-de-galicia/sergas/16674-funcionarios-publicos-medicos-y-sus-esposas-podrian-estar-sangrando-los-fondos-europeos-destinados-al-sergas-asesorados-y-con-el-visto-bueno-de-rafael-alvaro-millan-calenti: HTTPSConnectionPool(host='xornalgalicia.com', port=443): Read timed out. (read timeout=10)\n"
     ]
    },
    {
     "name": "stderr",
     "output_type": "stream",
     "text": [
      " 34%|█████████████▎                         | 320/934 [27:33<1:12:11,  7.05s/it]"
     ]
    },
    {
     "name": "stdout",
     "output_type": "stream",
     "text": [
      "Problem: https://www.gamesindustry.biz:443/articles/2021-04-14-playstation-networks-24-days-of-downtime-10-years-ago-this-month: HTTPSConnectionPool(host='www.gamesindustry.biz', port=443): Read timed out. (read timeout=10)\n"
     ]
    },
    {
     "name": "stderr",
     "output_type": "stream",
     "text": [
      " 34%|█████████████▍                         | 322/934 [27:50<1:18:45,  7.72s/it]"
     ]
    },
    {
     "name": "stdout",
     "output_type": "stream",
     "text": [
      "Problem: https://www.androidpolice.com/2020/09/04/sony-wh-1000xm4-review/: ('Connection aborted.', RemoteDisconnected('Remote end closed connection without response'))\n"
     ]
    },
    {
     "name": "stderr",
     "output_type": "stream",
     "text": [
      " 35%|██████████████▌                          | 331/934 [28:21<25:20,  2.52s/it]"
     ]
    },
    {
     "name": "stdout",
     "output_type": "stream",
     "text": [
      "Problem: https://www.fairfieldcitizenonline.com/news/article/SolarWinds-hacking-campaign-puts-Microsoft-in-hot-16108325.php: HTTPSConnectionPool(host='www.fairfieldcitizenonline.com', port=443): Max retries exceeded with url: /news/article/SolarWinds-hacking-campaign-puts-Microsoft-in-hot-16108325.php (Caused by SSLError(SSLCertVerificationError(1, '[SSL: CERTIFICATE_VERIFY_FAILED] certificate verify failed: certificate has expired (_ssl.c:1129)')))\n"
     ]
    },
    {
     "name": "stderr",
     "output_type": "stream",
     "text": [
      " 36%|██████████████▌                          | 333/934 [28:28<27:57,  2.79s/it]"
     ]
    },
    {
     "name": "stdout",
     "output_type": "stream",
     "text": [
      "Problem: https://www.newmilfordspectrum.com/news/article/SolarWinds-hacking-campaign-puts-Microsoft-in-hot-16108325.php: HTTPSConnectionPool(host='www.newmilfordspectrum.com', port=443): Max retries exceeded with url: /news/article/SolarWinds-hacking-campaign-puts-Microsoft-in-hot-16108325.php (Caused by SSLError(SSLCertVerificationError(1, '[SSL: CERTIFICATE_VERIFY_FAILED] certificate verify failed: certificate has expired (_ssl.c:1129)')))\n"
     ]
    },
    {
     "name": "stderr",
     "output_type": "stream",
     "text": [
      " 36%|██████████████▊                          | 338/934 [28:54<48:16,  4.86s/it]"
     ]
    },
    {
     "name": "stdout",
     "output_type": "stream",
     "text": [
      "Problem: http://www.newratings.de/du/main/company_headline.m?nid=12967663: HTTPSConnectionPool(host='www.newratings.de', port=443): Max retries exceeded with url: /du/main/company_headline.m?nid=12967663 (Caused by SSLError(SSLCertVerificationError(\"hostname 'www.newratings.de' doesn't match either of '*.ariva-services.de', 'ariva-services.de'\")))\n"
     ]
    },
    {
     "name": "stderr",
     "output_type": "stream",
     "text": [
      " 36%|██████████████▏                        | 340/934 [29:10<1:07:51,  6.86s/it]"
     ]
    },
    {
     "name": "stdout",
     "output_type": "stream",
     "text": [
      "Problem: https://sina.com.hk/news/article/20210504/5/46/2/7%E5%B9%B412%E5%80%8B%E5%A4%A7%E7%89%88%E6%9C%ACWin10%E9%83%BD%E6%9B%B4%E6%96%B0%E4%BA%86%E4%BA%9B%E4%BB%80%E9%BA%BC-13025891.html: HTTPSConnectionPool(host='sina.com.hk', port=443): Read timed out. (read timeout=10)\n"
     ]
    },
    {
     "name": "stderr",
     "output_type": "stream",
     "text": [
      "\r",
      " 37%|██████████████▉                          | 341/934 [29:14<59:27,  6.02s/it]"
     ]
    },
    {
     "name": "stdout",
     "output_type": "stream",
     "text": [
      "Problem: https://energy.einnews.com/pr_news/540896530/equipment-rental-software-with-microsoft-dynamics-365-now-offered-by-unify-dots-with-partnership-with-sycor-americas: HTTPSConnectionPool(host='energy.einnews.com', port=443): Read timed out. (read timeout=10)\n"
     ]
    },
    {
     "name": "stderr",
     "output_type": "stream",
     "text": [
      " 37%|██████████████▍                        | 345/934 [29:45<1:14:27,  7.59s/it]"
     ]
    },
    {
     "name": "stdout",
     "output_type": "stream",
     "text": [
      "Problem: https://www.androidpolice.com/2021/02/02/microsoft-surface-pro-x-2020-review-arm-laptops-are-the-future/: ('Connection aborted.', RemoteDisconnected('Remote end closed connection without response'))\n"
     ]
    },
    {
     "name": "stderr",
     "output_type": "stream",
     "text": [
      " 37%|███████████████▎                         | 348/934 [29:55<47:24,  4.85s/it]"
     ]
    },
    {
     "name": "stdout",
     "output_type": "stream",
     "text": [
      "Problem: https://www.washingtonpost.com/nation/2021/11/23/starbucks-union-buffalo/: HTTPSConnectionPool(host='www.washingtonpost.com', port=443): Read timed out. (read timeout=10)\n"
     ]
    },
    {
     "name": "stderr",
     "output_type": "stream",
     "text": [
      "\r",
      " 37%|██████████████▌                        | 349/934 [30:05<1:03:55,  6.56s/it]"
     ]
    },
    {
     "name": "stdout",
     "output_type": "stream",
     "text": [
      "Problem: http://ethioobserver.net/march-draws-attention-to-genocide-in-ethiopias-tigray-region/: HTTPConnectionPool(host='ethioobserver.net', port=80): Read timed out. (read timeout=10)\n"
     ]
    },
    {
     "name": "stderr",
     "output_type": "stream",
     "text": [
      " 39%|███████████████▉                         | 364/934 [31:37<41:21,  4.35s/it]"
     ]
    },
    {
     "name": "stdout",
     "output_type": "stream",
     "text": [
      "Problem: https://www.washingtonpost.com/brand-studio/wp/2021/10/08/feature/helping-decarbonize-industry-with-carbon-capture-and-storage/: HTTPSConnectionPool(host='www.washingtonpost.com', port=443): Read timed out. (read timeout=10)\n",
      "Problem: https://www.washingtonpost.com/brand-studio/wp/2021/10/08/feature/helping-decarbonize-industry-with-carbon-capture-and-storage/: HTTPSConnectionPool(host='www.washingtonpost.com', port=443): Read timed out. (read timeout=10)\n",
      "Problem: https://www.hellenicshippingnews.com/exxonmobil-presentation-details-strategy-to-grow-shareholder-value-protect-dividend-and-transition-to-lower-carbon-future/: HTTPSConnectionPool(host='www.hellenicshippingnews.com', port=443): Read timed out. (read timeout=10)\n"
     ]
    },
    {
     "name": "stderr",
     "output_type": "stream",
     "text": [
      "\r",
      " 39%|████████████████                         | 365/934 [31:47<58:20,  6.15s/it]"
     ]
    },
    {
     "name": "stdout",
     "output_type": "stream",
     "text": [
      "Problem: http://cloud.itbusinessnet.com/2021/02/exxonmobil-low-carbon-solutions-to-commercialize-emission-reduction-technology/: HTTPConnectionPool(host='cloud.itbusinessnet.com', port=80): Max retries exceeded with url: /2021/02/exxonmobil-low-carbon-solutions-to-commercialize-emission-reduction-technology/ (Caused by NewConnectionError('<urllib3.connection.HTTPConnection object at 0x7f5364ec9f70>: Failed to establish a new connection: [Errno -2] Name or service not known'))\n",
      "Problem: http://hardware.itbusinessnet.com/2021/02/exxonmobil-low-carbon-solutions-to-commercialize-emission-reduction-technology/: HTTPConnectionPool(host='hardware.itbusinessnet.com', port=80): Max retries exceeded with url: /2021/02/exxonmobil-low-carbon-solutions-to-commercialize-emission-reduction-technology/ (Caused by NewConnectionError('<urllib3.connection.HTTPConnection object at 0x7f533b8b6100>: Failed to establish a new connection: [Errno -2] Name or service not known'))\n"
     ]
    },
    {
     "name": "stderr",
     "output_type": "stream",
     "text": [
      " 40%|████████████████▏                        | 369/934 [32:10<55:28,  5.89s/it]"
     ]
    },
    {
     "name": "stdout",
     "output_type": "stream",
     "text": [
      "Problem: https://www.newswiretoday.com/news/175216/Shell-Selects-Polarion-Software-from-Siemens-to-Digitalize-and-Streamline-Global-Capital-Project-Data/: HTTPSConnectionPool(host='www.newswiretoday.com', port=443): Max retries exceeded with url: /news/175216/Shell-Selects-Polarion-Software-from-Siemens-to-Digitalize-and-Streamline-Global-Capital-Project-Data/ (Caused by SSLError(SSLCertVerificationError(1, '[SSL: CERTIFICATE_VERIFY_FAILED] certificate verify failed: unable to get local issuer certificate (_ssl.c:1129)')))\n",
      "Problem: https://www.newswiretoday.com/news/175216/: HTTPSConnectionPool(host='www.newswiretoday.com', port=443): Max retries exceeded with url: /news/175216/ (Caused by SSLError(SSLCertVerificationError(1, '[SSL: CERTIFICATE_VERIFY_FAILED] certificate verify failed: unable to get local issuer certificate (_ssl.c:1129)')))\n",
      "Problem: https://www.newswiretoday.com/news/175216/: HTTPSConnectionPool(host='www.newswiretoday.com', port=443): Max retries exceeded with url: /news/175216/ (Caused by SSLError(SSLCertVerificationError(1, '[SSL: CERTIFICATE_VERIFY_FAILED] certificate verify failed: unable to get local issuer certificate (_ssl.c:1129)')))\n",
      "Problem: https://www.newswiretoday.com/news/175216/: HTTPSConnectionPool(host='www.newswiretoday.com', port=443): Max retries exceeded with url: /news/175216/ (Caused by SSLError(SSLCertVerificationError(1, '[SSL: CERTIFICATE_VERIFY_FAILED] certificate verify failed: unable to get local issuer certificate (_ssl.c:1129)')))\n"
     ]
    },
    {
     "name": "stderr",
     "output_type": "stream",
     "text": [
      " 40%|████████████████▌                        | 376/934 [32:29<27:01,  2.91s/it]"
     ]
    },
    {
     "name": "stdout",
     "output_type": "stream",
     "text": [
      "Problem: https://www.competence-site.de/oracle/: HTTPSConnectionPool(host='www.competence-site.de', port=443): Max retries exceeded with url: /oracle/ (Caused by SSLError(SSLCertVerificationError(1, '[SSL: CERTIFICATE_VERIFY_FAILED] certificate verify failed: certificate has expired (_ssl.c:1129)')))\n",
      "Problem: https://www.newswiretoday.com/news/175078/: HTTPSConnectionPool(host='www.newswiretoday.com', port=443): Max retries exceeded with url: /news/175078/ (Caused by SSLError(SSLCertVerificationError(1, '[SSL: CERTIFICATE_VERIFY_FAILED] certificate verify failed: unable to get local issuer certificate (_ssl.c:1129)')))\n",
      "Problem: https://www.newswiretoday.com/news/174551/: HTTPSConnectionPool(host='www.newswiretoday.com', port=443): Max retries exceeded with url: /news/174551/ (Caused by SSLError(SSLCertVerificationError(1, '[SSL: CERTIFICATE_VERIFY_FAILED] certificate verify failed: unable to get local issuer certificate (_ssl.c:1129)')))\n"
     ]
    },
    {
     "name": "stderr",
     "output_type": "stream",
     "text": [
      " 40%|████████████████▌                        | 378/934 [32:35<25:17,  2.73s/it]"
     ]
    },
    {
     "name": "stdout",
     "output_type": "stream",
     "text": [
      "Problem: https://www.bloombergquint.com/business/intel-wins-billion-dollar-patent-trial-over-former-nxp-chips: HTTPSConnectionPool(host='www.bloombergquint.com', port=443): Read timed out. (read timeout=10)\n",
      "Problem: https://appleinsider.com/articles/21/03/24/intel-to-consumers-go-pc---intel-to-apple-good-god-do-we-need-your-business: HTTPSConnectionPool(host='appleinsider.com', port=443): Read timed out. (read timeout=10)\n"
     ]
    },
    {
     "name": "stderr",
     "output_type": "stream",
     "text": [
      " 41%|████████████████▊                        | 384/934 [33:12<55:25,  6.05s/it]"
     ]
    },
    {
     "name": "stdout",
     "output_type": "stream",
     "text": [
      "Problem: https://www.washingtonpost.com/technology/2021/03/24/online-moderation-tech-stack/: HTTPSConnectionPool(host='www.washingtonpost.com', port=443): Read timed out. (read timeout=10)\n"
     ]
    },
    {
     "name": "stderr",
     "output_type": "stream",
     "text": [
      " 42%|█████████████████                        | 390/934 [33:37<30:49,  3.40s/it]"
     ]
    },
    {
     "name": "stdout",
     "output_type": "stream",
     "text": [
      "Problem: https://www.newswiretoday.com/news/174640/: HTTPSConnectionPool(host='www.newswiretoday.com', port=443): Max retries exceeded with url: /news/174640/ (Caused by SSLError(SSLCertVerificationError(1, '[SSL: CERTIFICATE_VERIFY_FAILED] certificate verify failed: unable to get local issuer certificate (_ssl.c:1129)')))\n"
     ]
    },
    {
     "name": "stderr",
     "output_type": "stream",
     "text": [
      "\r",
      " 42%|█████████████████▏                       | 391/934 [33:39<28:14,  3.12s/it]"
     ]
    },
    {
     "name": "stdout",
     "output_type": "stream",
     "text": [
      "Problem: https://www.newswiretoday.com/news/174640/: HTTPSConnectionPool(host='www.newswiretoday.com', port=443): Max retries exceeded with url: /news/174640/ (Caused by SSLError(SSLCertVerificationError(1, '[SSL: CERTIFICATE_VERIFY_FAILED] certificate verify failed: unable to get local issuer certificate (_ssl.c:1129)')))\n",
      "Problem: https://www.newswiretoday.com/news/175046/: HTTPSConnectionPool(host='www.newswiretoday.com', port=443): Max retries exceeded with url: /news/175046/ (Caused by SSLError(SSLCertVerificationError(1, '[SSL: CERTIFICATE_VERIFY_FAILED] certificate verify failed: unable to get local issuer certificate (_ssl.c:1129)')))\n",
      "Problem: https://www.newswiretoday.com/news/176591/: HTTPSConnectionPool(host='www.newswiretoday.com', port=443): Max retries exceeded with url: /news/176591/ (Caused by SSLError(SSLCertVerificationError(1, '[SSL: CERTIFICATE_VERIFY_FAILED] certificate verify failed: unable to get local issuer certificate (_ssl.c:1129)')))\n"
     ]
    },
    {
     "name": "stderr",
     "output_type": "stream",
     "text": [
      "\r",
      " 42%|█████████████████▏                       | 392/934 [33:45<36:09,  4.00s/it]"
     ]
    },
    {
     "name": "stdout",
     "output_type": "stream",
     "text": [
      "Problem: https://www.newswiretoday.com/news/174543/Qualcomm-to-Acquire-NUVIA/: HTTPSConnectionPool(host='www.newswiretoday.com', port=443): Max retries exceeded with url: /news/174543/Qualcomm-to-Acquire-NUVIA/ (Caused by SSLError(SSLCertVerificationError(1, '[SSL: CERTIFICATE_VERIFY_FAILED] certificate verify failed: unable to get local issuer certificate (_ssl.c:1129)')))\n"
     ]
    },
    {
     "name": "stderr",
     "output_type": "stream",
     "text": [
      " 44%|█████████████████▊                       | 407/934 [34:45<16:50,  1.92s/it]"
     ]
    },
    {
     "name": "stdout",
     "output_type": "stream",
     "text": [
      "Problem: https://www.whistlerquestion.com/chapelle-special-spurs-netflix-walkout-trans-lives-matter-1.24365397: HTTPSConnectionPool(host='www.whistlerquestion.com', port=443): Max retries exceeded with url: /chapelle-special-spurs-netflix-walkout-trans-lives-matter-1.24365397 (Caused by ConnectTimeoutError(<urllib3.connection.HTTPSConnection object at 0x7f53479ba640>, 'Connection to www.whistlerquestion.com timed out. (connect timeout=10)'))\n"
     ]
    },
    {
     "name": "stderr",
     "output_type": "stream",
     "text": [
      " 45%|██████████████████▍                      | 420/934 [35:48<52:35,  6.14s/it]"
     ]
    },
    {
     "name": "stdout",
     "output_type": "stream",
     "text": [
      "Problem: http://www.bntnews.co.uk/app/news.php?nid=35047: HTTPConnectionPool(host='www.bntnews.co.uk', port=80): Max retries exceeded with url: /app/news.php?nid=35047 (Caused by ConnectTimeoutError(<urllib3.connection.HTTPConnection object at 0x7f533b940b80>, 'Connection to www.bntnews.co.uk timed out. (connect timeout=10)'))\n"
     ]
    },
    {
     "name": "stderr",
     "output_type": "stream",
     "text": [
      "\r",
      " 45%|█████████████████▌                     | 421/934 [35:59<1:05:54,  7.71s/it]"
     ]
    },
    {
     "name": "stdout",
     "output_type": "stream",
     "text": [
      "Problem: http://bntnews.co.uk/app/news.php?nid=35047: HTTPConnectionPool(host='bntnews.co.uk', port=80): Max retries exceeded with url: /app/news.php?nid=35047 (Caused by ConnectTimeoutError(<urllib3.connection.HTTPConnection object at 0x7f5395fca5e0>, 'Connection to bntnews.co.uk timed out. (connect timeout=10)'))\n"
     ]
    },
    {
     "name": "stderr",
     "output_type": "stream",
     "text": [
      " 47%|███████████████████▏                     | 436/934 [37:32<43:35,  5.25s/it]"
     ]
    },
    {
     "name": "stdout",
     "output_type": "stream",
     "text": [
      "Problem: https://www.autobild.com.mx/wp-content/uploads/qewvdm/article.php?1265b4=karen-kingsbury-movies-on-netflix: HTTPSConnectionPool(host='www.autobild.com.mx', port=443): Max retries exceeded with url: /wp-content/uploads/qewvdm/article.php?1265b4=karen-kingsbury-movies-on-netflix (Caused by SSLError(SSLCertVerificationError(1, '[SSL: CERTIFICATE_VERIFY_FAILED] certificate verify failed: certificate has expired (_ssl.c:1129)')))\n"
     ]
    },
    {
     "name": "stderr",
     "output_type": "stream",
     "text": [
      " 47%|███████████████████▎                     | 439/934 [37:44<35:04,  4.25s/it]"
     ]
    },
    {
     "name": "stdout",
     "output_type": "stream",
     "text": [
      "Problem: https://www.washingtonpost.com/business/2021/10/08/trump-hotel-millions-foreign-governments/: HTTPSConnectionPool(host='www.washingtonpost.com', port=443): Read timed out. (read timeout=10)\n",
      "Problem: https://www.washingtonpost.com/business/2021/10/08/trump-hotel-millions-foreign-governments/: HTTPSConnectionPool(host='www.washingtonpost.com', port=443): Read timed out. (read timeout=10)\n"
     ]
    },
    {
     "name": "stderr",
     "output_type": "stream",
     "text": [
      " 49%|███████████████████▉                     | 454/934 [38:49<27:56,  3.49s/it]"
     ]
    },
    {
     "name": "stdout",
     "output_type": "stream",
     "text": [
      "Problem: http://www.newratings.de/du/main/company_headline.m?nid=13704991: HTTPSConnectionPool(host='www.newratings.de', port=443): Max retries exceeded with url: /du/main/company_headline.m?nid=13704991 (Caused by SSLError(SSLCertVerificationError(\"hostname 'www.newratings.de' doesn't match either of '*.ariva-services.de', 'ariva-services.de'\")))\n"
     ]
    },
    {
     "name": "stderr",
     "output_type": "stream",
     "text": [
      " 49%|████████████████████▏                    | 460/934 [39:08<29:29,  3.73s/it]"
     ]
    },
    {
     "name": "stdout",
     "output_type": "stream",
     "text": [
      "Problem: https://www.newmilfordspectrum.com/news/article/The-Latest-France-s-Sanofi-to-help-make-rival-15901099.php: HTTPSConnectionPool(host='www.newmilfordspectrum.com', port=443): Max retries exceeded with url: /news/article/The-Latest-France-s-Sanofi-to-help-make-rival-15901099.php (Caused by SSLError(SSLCertVerificationError(1, '[SSL: CERTIFICATE_VERIFY_FAILED] certificate verify failed: certificate has expired (_ssl.c:1129)')))\n"
     ]
    },
    {
     "name": "stderr",
     "output_type": "stream",
     "text": [
      " 49%|████████████████████▎                    | 462/934 [39:20<42:42,  5.43s/it]"
     ]
    },
    {
     "name": "stdout",
     "output_type": "stream",
     "text": [
      "Problem: https://accesswdun.com/article/2021/1/974357: HTTPSConnectionPool(host='accesswdun.com', port=443): Read timed out. (read timeout=10)\n",
      "Problem: http://en.acnnewswire.com/press-release/english/66103/sanofi-renews-partnership-with-cielo-to-strengthen-its-talent-acquisition-strategy-in-asia: HTTPSConnectionPool(host='en.acnnewswire.comhttps', port=443): Max retries exceeded with url: //en.a?Art_ID=66103&lang=english (Caused by NewConnectionError('<urllib3.connection.HTTPSConnection object at 0x7f5347e60850>: Failed to establish a new connection: [Errno -2] Name or service not known'))\n",
      "Problem: http://en.acnnewswire.com/press-release/english/66103/sanofi-renews-partnership-with-cielo-to-strengthen-its-talent-acquisition-strategy-in-asia: HTTPSConnectionPool(host='en.acnnewswire.comhttps', port=443): Max retries exceeded with url: //en.a?Art_ID=66103&lang=english (Caused by NewConnectionError('<urllib3.connection.HTTPSConnection object at 0x7f5347f38910>: Failed to establish a new connection: [Errno -2] Name or service not known'))\n",
      "Problem: http://security.itbusinessnet.com/2021/04/sanofi-renews-partnership-with-cielo-to-strengthen-its-talent-acquisition-strategy-in-asia/: HTTPConnectionPool(host='security.itbusinessnet.com', port=80): Max retries exceeded with url: /2021/04/sanofi-renews-partnership-with-cielo-to-strengthen-its-talent-acquisition-strategy-in-asia/ (Caused by NewConnectionError('<urllib3.connection.HTTPConnection object at 0x7f537c293f40>: Failed to establish a new connection: [Errno -2] Name or service not known'))\n",
      "Problem: http://enterpriseapps.itbusinessnet.com/2021/04/sanofi-renews-partnership-with-cielo-to-strengthen-its-talent-acquisition-strategy-in-asia/: HTTPConnectionPool(host='enterpriseapps.itbusinessnet.com', port=80): Max retries exceeded with url: /2021/04/sanofi-renews-partnership-with-cielo-to-strengthen-its-talent-acquisition-strategy-in-asia/ (Caused by NewConnectionError('<urllib3.connection.HTTPConnection object at 0x7f537c2937f0>: Failed to establish a new connection: [Errno -2] Name or service not known'))\n",
      "Problem: http://cloud.itbusinessnet.com/2021/04/sanofi-renews-partnership-with-cielo-to-strengthen-its-talent-acquisition-strategy-in-asia/: HTTPConnectionPool(host='cloud.itbusinessnet.com', port=80): Max retries exceeded with url: /2021/04/sanofi-renews-partnership-with-cielo-to-strengthen-its-talent-acquisition-strategy-in-asia/ (Caused by NewConnectionError('<urllib3.connection.HTTPConnection object at 0x7f537c293580>: Failed to establish a new connection: [Errno -2] Name or service not known'))\n",
      "Problem: http://softwaredev.itbusinessnet.com/2021/04/sanofi-renews-partnership-with-cielo-to-strengthen-its-talent-acquisition-strategy-in-asia/: HTTPConnectionPool(host='softwaredev.itbusinessnet.com', port=80): Max retries exceeded with url: /2021/04/sanofi-renews-partnership-with-cielo-to-strengthen-its-talent-acquisition-strategy-in-asia/ (Caused by NewConnectionError('<urllib3.connection.HTTPConnection object at 0x7f537c66d0a0>: Failed to establish a new connection: [Errno -2] Name or service not known'))\n",
      "Problem: http://internet.itbusinessnet.com/2021/04/sanofi-expands-its-social-commitments-creates-nonprofit-unit-to-provide-poorest-countries-with-access-to-essential-medicines/: HTTPConnectionPool(host='internet.itbusinessnet.com', port=80): Max retries exceeded with url: /2021/04/sanofi-expands-its-social-commitments-creates-nonprofit-unit-to-provide-poorest-countries-with-access-to-essential-medicines/ (Caused by NewConnectionError('<urllib3.connection.HTTPConnection object at 0x7f537c7a1250>: Failed to establish a new connection: [Errno -2] Name or service not known'))\n",
      "Problem: http://business.itbusinessnet.com/2021/04/sanofi-expands-its-social-commitments-creates-nonprofit-unit-to-provide-poorest-countries-with-access-to-essential-medicines/: HTTPConnectionPool(host='business.itbusinessnet.com', port=80): Max retries exceeded with url: /2021/04/sanofi-expands-its-social-commitments-creates-nonprofit-unit-to-provide-poorest-countries-with-access-to-essential-medicines/ (Caused by NewConnectionError('<urllib3.connection.HTTPConnection object at 0x7f5347e47070>: Failed to establish a new connection: [Errno -2] Name or service not known'))\n",
      "Problem: http://networking.itbusinessnet.com/2021/04/sanofi-expands-its-social-commitments-creates-nonprofit-unit-to-provide-poorest-countries-with-access-to-essential-medicines/: HTTPConnectionPool(host='networking.itbusinessnet.com', port=80): Max retries exceeded with url: /2021/04/sanofi-expands-its-social-commitments-creates-nonprofit-unit-to-provide-poorest-countries-with-access-to-essential-medicines/ (Caused by NewConnectionError('<urllib3.connection.HTTPConnection object at 0x7f5347e47e20>: Failed to establish a new connection: [Errno -2] Name or service not known'))\n"
     ]
    },
    {
     "name": "stderr",
     "output_type": "stream",
     "text": [
      " 50%|███████████████████▍                   | 465/934 [39:48<1:04:16,  8.22s/it]"
     ]
    },
    {
     "name": "stdout",
     "output_type": "stream",
     "text": [
      "Problem: https://www.businessrecord.com/Content/Insider/Business-Record-Insider-/Article/Iowa-Community-Capital-expands-microlending-reach-to-Black-community/191/1013/92280: HTTPSConnectionPool(host='www.businessrecord.com', port=443): Max retries exceeded with url: /Content/Insider/Business-Record-Insider-/Article/Iowa-Community-Capital-expands-microlending-reach-to-Black-community/191/1013/92280 (Caused by ConnectTimeoutError(<urllib3.connection.HTTPSConnection object at 0x7f53654c0be0>, 'Connection to www.businessrecord.com timed out. (connect timeout=10)'))\n",
      "Problem: https://businessrecord.com/Content/Design/Rotator/Article/Iowa-Community-Capital-expands-microlending-reach-to-Black-community/46/241/92280: HTTPSConnectionPool(host='businessrecord.com', port=443): Max retries exceeded with url: /Content/Design/Rotator/Article/Iowa-Community-Capital-expands-microlending-reach-to-Black-community/46/241/92280 (Caused by ConnectTimeoutError(<urllib3.connection.HTTPSConnection object at 0x7f53654c31c0>, 'Connection to businessrecord.com timed out. (connect timeout=10)'))\n",
      "Problem: https://businessrecord.com/Content/Insider/Business-Record-Insider-/Article/Iowa-Community-Capital-expands-microlending-reach-to-Black-community/191/1013/92280: HTTPSConnectionPool(host='businessrecord.com', port=443): Max retries exceeded with url: /Content/Insider/Business-Record-Insider-/Article/Iowa-Community-Capital-expands-microlending-reach-to-Black-community/191/1013/92280 (Caused by ConnectTimeoutError(<urllib3.connection.HTTPSConnection object at 0x7f533b2f4040>, 'Connection to businessrecord.com timed out. (connect timeout=10)'))\n",
      "Problem: https://businessrecord.com/Content/Banking-Finance/Banking-Finance/Article/Iowa-Community-Capital-expands-microlending-reach-to-Black-community/194/1025/92280: HTTPSConnectionPool(host='businessrecord.com', port=443): Max retries exceeded with url: /Content/Banking-Finance/Banking-Finance/Article/Iowa-Community-Capital-expands-microlending-reach-to-Black-community/194/1025/92280 (Caused by ConnectTimeoutError(<urllib3.connection.HTTPSConnection object at 0x7f533b2f44c0>, 'Connection to businessrecord.com timed out. (connect timeout=10)'))\n",
      "Problem: https://www.mainenewsonline.com/how-do-i-get-my-account-number-from-wells-fargo/: HTTPSConnectionPool(host='www.mainenewsonline.com', port=443): Read timed out. (read timeout=10)\n"
     ]
    },
    {
     "name": "stderr",
     "output_type": "stream",
     "text": [
      " 50%|████████████████████▌                    | 468/934 [40:12<56:50,  7.32s/it]"
     ]
    },
    {
     "name": "stdout",
     "output_type": "stream",
     "text": [
      "Problem: https://scvnews.com/bank-of-america-sued-for-california-unemployment-fraud-scheme/: HTTPSConnectionPool(host='scvnews.com', port=443): Max retries exceeded with url: /bank-of-america-sued-for-california-unemployment-fraud-scheme/ (Caused by ConnectTimeoutError(<urllib3.connection.HTTPSConnection object at 0x7f5365310880>, 'Connection to scvnews.com timed out. (connect timeout=10)'))\n"
     ]
    },
    {
     "name": "stderr",
     "output_type": "stream",
     "text": [
      " 51%|████████████████████▉                    | 477/934 [41:05<37:07,  4.87s/it]"
     ]
    },
    {
     "name": "stdout",
     "output_type": "stream",
     "text": [
      "Problem: https://www.washingtonpost.com/outlook/2021/04/16/conservatives-have-long-embraced-cancel-culture/: HTTPSConnectionPool(host='www.washingtonpost.com', port=443): Read timed out. (read timeout=10)\n",
      "Problem: https://brazilbusiness.einnews.com/pr_news/537442236/social-media-platform-clouthub-calls-out-ibm-over-repeated-acts-of-blatant-censorship: HTTPSConnectionPool(host='brazilbusiness.einnews.com', port=443): Read timed out. (read timeout=10)\n"
     ]
    },
    {
     "name": "stderr",
     "output_type": "stream",
     "text": [
      " 51%|█████████████████████                    | 481/934 [41:22<27:06,  3.59s/it]"
     ]
    },
    {
     "name": "stdout",
     "output_type": "stream",
     "text": [
      "Problem: https://www.thisdaylive.com/index.php/2021/04/04/customers-groan-as-mtn-nigeria-banks-bicker-over-commission/: HTTPSConnectionPool(host='www.thisdaylive.com', port=443): Max retries exceeded with url: /index.php/2021/04/04/customers-groan-as-mtn-nigeria-banks-bicker-over-commission/ (Caused by ConnectTimeoutError(<urllib3.connection.HTTPSConnection object at 0x7f533c0b4e50>, 'Connection to www.thisdaylive.com timed out. (connect timeout=10)'))\n",
      "Problem: https://www.thisdaylive.com/index.php/2021/11/04/odunayo-sanya-our-focus-is-on-sdgs-national-priorities/: HTTPSConnectionPool(host='www.thisdaylive.com', port=443): Max retries exceeded with url: /index.php/2021/11/04/odunayo-sanya-our-focus-is-on-sdgs-national-priorities/ (Caused by ConnectTimeoutError(<urllib3.connection.HTTPSConnection object at 0x7f533b6c59d0>, 'Connection to www.thisdaylive.com timed out. (connect timeout=10)'))\n"
     ]
    },
    {
     "name": "stderr",
     "output_type": "stream",
     "text": [
      " 52%|█████████████████████▏                   | 483/934 [41:36<37:03,  4.93s/it]"
     ]
    },
    {
     "name": "stdout",
     "output_type": "stream",
     "text": [
      "Problem: https://www.elconfidencial.com/motor/2021-02-06/kia-resultados-espana_2938755/: Exceeded 30 redirects.\n"
     ]
    },
    {
     "name": "stderr",
     "output_type": "stream",
     "text": [
      " 52%|█████████████████████▍                   | 487/934 [41:50<25:39,  3.44s/it]"
     ]
    },
    {
     "name": "stdout",
     "output_type": "stream",
     "text": [
      "Problem: https://www.androidpolice.com/2021/04/16/american-express-cards-are-being-removed-from-google-pay-and-we-dont-know-why/: ('Connection aborted.', RemoteDisconnected('Remote end closed connection without response'))\n"
     ]
    },
    {
     "name": "stderr",
     "output_type": "stream",
     "text": [
      " 52%|█████████████████████▌                   | 490/934 [42:02<25:34,  3.46s/it]"
     ]
    },
    {
     "name": "stdout",
     "output_type": "stream",
     "text": [
      "Problem: https://africabusinesscommunities.com/tech/tech-news/apple-launches-$200-million-restore-fund-to-accelerate-natural-solutions-to-climate-change/: HTTPSConnectionPool(host='africabusinesscommunities.com', port=443): Max retries exceeded with url: /tech/tech-news/apple-launches-$200-million-restore-fund-to-accelerate-natural-solutions-to-climate-change/ (Caused by NewConnectionError('<urllib3.connection.HTTPSConnection object at 0x7f533b82c400>: Failed to establish a new connection: [Errno 101] Network is unreachable'))\n"
     ]
    },
    {
     "name": "stderr",
     "output_type": "stream",
     "text": [
      " 54%|██████████████████████                   | 502/934 [43:17<40:57,  5.69s/it]"
     ]
    },
    {
     "name": "stdout",
     "output_type": "stream",
     "text": [
      "Problem: http://internet.itbusinessnet.com/2021/04/verizon-deploys-network-repeaters-from-frtek-and-surecall/: HTTPConnectionPool(host='internet.itbusinessnet.com', port=80): Max retries exceeded with url: /2021/04/verizon-deploys-network-repeaters-from-frtek-and-surecall/ (Caused by NewConnectionError('<urllib3.connection.HTTPConnection object at 0x7f5347f04550>: Failed to establish a new connection: [Errno -2] Name or service not known'))\n",
      "Problem: http://networking.itbusinessnet.com/2021/04/verizon-deploys-network-repeaters-from-frtek-and-surecall/: HTTPConnectionPool(host='networking.itbusinessnet.com', port=80): Max retries exceeded with url: /2021/04/verizon-deploys-network-repeaters-from-frtek-and-surecall/ (Caused by NewConnectionError('<urllib3.connection.HTTPConnection object at 0x7f5347f28dc0>: Failed to establish a new connection: [Errno -2] Name or service not known'))\n",
      "Problem: http://cloud.itbusinessnet.com/2021/04/verizon-deploys-network-repeaters-from-frtek-and-surecall/: HTTPConnectionPool(host='cloud.itbusinessnet.com', port=80): Max retries exceeded with url: /2021/04/verizon-deploys-network-repeaters-from-frtek-and-surecall/ (Caused by NewConnectionError('<urllib3.connection.HTTPConnection object at 0x7f5347f28910>: Failed to establish a new connection: [Errno -2] Name or service not known'))\n"
     ]
    },
    {
     "name": "stderr",
     "output_type": "stream",
     "text": [
      " 54%|██████████████████████▏                  | 505/934 [43:29<34:14,  4.79s/it]"
     ]
    },
    {
     "name": "stdout",
     "output_type": "stream",
     "text": [
      "Problem: http://networking.itbusinessnet.com/2021/04/syngenta-group-reports-strong-first-quarter-results/: HTTPConnectionPool(host='networking.itbusinessnet.com', port=80): Max retries exceeded with url: /2021/04/syngenta-group-reports-strong-first-quarter-results/ (Caused by NewConnectionError('<urllib3.connection.HTTPConnection object at 0x7f5347a6a4c0>: Failed to establish a new connection: [Errno -2] Name or service not known'))\n"
     ]
    },
    {
     "name": "stderr",
     "output_type": "stream",
     "text": [
      " 56%|███████████████████████▏                 | 527/934 [45:38<49:33,  7.31s/it]"
     ]
    },
    {
     "name": "stdout",
     "output_type": "stream",
     "text": [
      "Problem: http://softwaredev.itbusinessnet.com/2021/03/rio-tinto-selects-heliogens-breakthrough-solar-technology-to-provide-carbon-free-energy-to-boron-mine/: HTTPConnectionPool(host='softwaredev.itbusinessnet.com', port=80): Max retries exceeded with url: /2021/03/rio-tinto-selects-heliogens-breakthrough-solar-technology-to-provide-carbon-free-energy-to-boron-mine/ (Caused by NewConnectionError('<urllib3.connection.HTTPConnection object at 0x7f537c5144f0>: Failed to establish a new connection: [Errno -2] Name or service not known'))\n",
      "Problem: http://internet.itbusinessnet.com/2021/03/rio-tinto-selects-heliogens-breakthrough-solar-technology-to-provide-carbon-free-energy-to-boron-mine/: HTTPConnectionPool(host='internet.itbusinessnet.com', port=80): Max retries exceeded with url: /2021/03/rio-tinto-selects-heliogens-breakthrough-solar-technology-to-provide-carbon-free-energy-to-boron-mine/ (Caused by NewConnectionError('<urllib3.connection.HTTPConnection object at 0x7f537c514b20>: Failed to establish a new connection: [Errno -2] Name or service not known'))\n",
      "Problem: http://enterpriseapps.itbusinessnet.com/2021/03/rio-tinto-selects-heliogens-breakthrough-solar-technology-to-provide-carbon-free-energy-to-boron-mine/: HTTPConnectionPool(host='enterpriseapps.itbusinessnet.com', port=80): Max retries exceeded with url: /2021/03/rio-tinto-selects-heliogens-breakthrough-solar-technology-to-provide-carbon-free-energy-to-boron-mine/ (Caused by NewConnectionError('<urllib3.connection.HTTPConnection object at 0x7f5364ee1190>: Failed to establish a new connection: [Errno -2] Name or service not known'))\n",
      "Problem: http://www.latpro.com/jobs/3842254.html: HTTPSConnectionPool(host='www.latpro.com', port=443): Max retries exceeded with url: /jobs/3842254.html (Caused by SSLError(SSLCertVerificationError(1, '[SSL: CERTIFICATE_VERIFY_FAILED] certificate verify failed: unable to get local issuer certificate (_ssl.c:1129)')))\n"
     ]
    },
    {
     "name": "stderr",
     "output_type": "stream",
     "text": [
      " 57%|███████████████████████▏                 | 529/934 [45:45<37:00,  5.48s/it]"
     ]
    },
    {
     "name": "stdout",
     "output_type": "stream",
     "text": [
      "Problem: https://www.derbytelegraph.co.uk/news/uk-world-news/shopper-who-arrested-after-trying-6125172: HTTPSConnectionPool(host='www.derbytelegraph.co.uk', port=443): Read timed out.\n"
     ]
    },
    {
     "name": "stderr",
     "output_type": "stream",
     "text": [
      " 57%|███████████████████████▎                 | 531/934 [46:03<46:17,  6.89s/it]"
     ]
    },
    {
     "name": "stdout",
     "output_type": "stream",
     "text": [
      "Problem: https://www.just-style.com/companies/tesco-plc_id265: HTTPSConnectionPool(host='www.just-style.com', port=443): Read timed out. (read timeout=10)\n"
     ]
    },
    {
     "name": "stderr",
     "output_type": "stream",
     "text": [
      " 57%|███████████████████████▍                 | 533/934 [46:21<52:13,  7.81s/it]"
     ]
    },
    {
     "name": "stdout",
     "output_type": "stream",
     "text": [
      "Problem: https://www.irishmirror.ie/whats-on/family-kids-news/tesco-ireland-launches-christmas-toy-25160584: HTTPSConnectionPool(host='www.irishmirror.ie', port=443): Read timed out. (read timeout=10)\n"
     ]
    },
    {
     "name": "stderr",
     "output_type": "stream",
     "text": [
      " 58%|███████████████████████▌                 | 538/934 [46:55<37:39,  5.70s/it]"
     ]
    },
    {
     "name": "stdout",
     "output_type": "stream",
     "text": [
      "Problem: https://www.just-style.com/companies/tesco-plc_id265: HTTPSConnectionPool(host='www.just-style.com', port=443): Read timed out. (read timeout=10)\n"
     ]
    },
    {
     "name": "stderr",
     "output_type": "stream",
     "text": [
      " 59%|████████████████████████                 | 547/934 [47:34<28:34,  4.43s/it]"
     ]
    },
    {
     "name": "stdout",
     "output_type": "stream",
     "text": [
      "Problem: http://softwaredev.itbusinessnet.com/2021/04/frontier-communications-sets-new-course-as-telecommunications-technology-company/: HTTPConnectionPool(host='softwaredev.itbusinessnet.com', port=80): Max retries exceeded with url: /2021/04/frontier-communications-sets-new-course-as-telecommunications-technology-company/ (Caused by NewConnectionError('<urllib3.connection.HTTPConnection object at 0x7f53479e0d60>: Failed to establish a new connection: [Errno -2] Name or service not known'))\n",
      "Problem: http://internet.itbusinessnet.com/2021/04/frontier-communications-sets-new-course-as-telecommunications-technology-company/: HTTPConnectionPool(host='internet.itbusinessnet.com', port=80): Max retries exceeded with url: /2021/04/frontier-communications-sets-new-course-as-telecommunications-technology-company/ (Caused by NewConnectionError('<urllib3.connection.HTTPConnection object at 0x7f53479e0790>: Failed to establish a new connection: [Errno -2] Name or service not known'))\n",
      "Problem: http://hardware.itbusinessnet.com/2021/04/frontier-communications-sets-new-course-as-telecommunications-technology-company/: HTTPConnectionPool(host='hardware.itbusinessnet.com', port=80): Max retries exceeded with url: /2021/04/frontier-communications-sets-new-course-as-telecommunications-technology-company/ (Caused by NewConnectionError('<urllib3.connection.HTTPConnection object at 0x7f53479e0100>: Failed to establish a new connection: [Errno -2] Name or service not known'))\n",
      "Problem: http://networking.itbusinessnet.com/2021/04/frontier-communications-sets-new-course-as-telecommunications-technology-company/: HTTPConnectionPool(host='networking.itbusinessnet.com', port=80): Max retries exceeded with url: /2021/04/frontier-communications-sets-new-course-as-telecommunications-technology-company/ (Caused by NewConnectionError('<urllib3.connection.HTTPConnection object at 0x7f53479d65e0>: Failed to establish a new connection: [Errno -2] Name or service not known'))\n",
      "Problem: http://business.itbusinessnet.com/2021/04/frontier-communications-sets-new-course-as-telecommunications-technology-company/: HTTPConnectionPool(host='business.itbusinessnet.com', port=80): Max retries exceeded with url: /2021/04/frontier-communications-sets-new-course-as-telecommunications-technology-company/ (Caused by NewConnectionError('<urllib3.connection.HTTPConnection object at 0x7f53479d6c10>: Failed to establish a new connection: [Errno -2] Name or service not known'))\n",
      "Problem: http://security.itbusinessnet.com/2021/04/frontier-communications-sets-new-course-as-telecommunications-technology-company/: HTTPConnectionPool(host='security.itbusinessnet.com', port=80): Max retries exceeded with url: /2021/04/frontier-communications-sets-new-course-as-telecommunications-technology-company/ (Caused by NewConnectionError('<urllib3.connection.HTTPConnection object at 0x7f53479c5280>: Failed to establish a new connection: [Errno -2] Name or service not known'))\n"
     ]
    },
    {
     "name": "stderr",
     "output_type": "stream",
     "text": [
      "\r",
      " 59%|████████████████████████                 | 548/934 [47:40<31:47,  4.94s/it]"
     ]
    },
    {
     "name": "stdout",
     "output_type": "stream",
     "text": [
      "Problem: https://www.reporter-times.com/story/news/environment/2021/10/26/aes-wants-customers-pay-problems-related-power-plant-outage/6116373001/: HTTPSConnectionPool(host='eu.reporter-times.com', port=443): Max retries exceeded with url: /story/news/environment/2021/10/26/aes-wants-customers-pay-problems-related-power-plant-outage/6116373001/ (Caused by NewConnectionError('<urllib3.connection.HTTPSConnection object at 0x7f534804df70>: Failed to establish a new connection: [Errno -2] Name or service not known'))\n"
     ]
    },
    {
     "name": "stderr",
     "output_type": "stream",
     "text": [
      " 59%|████████████████████████▏                | 550/934 [47:49<31:22,  4.90s/it]"
     ]
    },
    {
     "name": "stdout",
     "output_type": "stream",
     "text": [
      "Problem: https://www.washingtonpost.com/business/2021/10/24/climate-change-power-outages/: HTTPSConnectionPool(host='www.washingtonpost.com', port=443): Read timed out. (read timeout=10)\n"
     ]
    },
    {
     "name": "stderr",
     "output_type": "stream",
     "text": [
      " 61%|████████████████████████▉                | 567/934 [49:28<23:32,  3.85s/it]"
     ]
    },
    {
     "name": "stdout",
     "output_type": "stream",
     "text": [
      "Problem: https://www.thisdaylive.com/index.php/2021/01/14/airtel-wins-laif-pitcher-awards/: HTTPSConnectionPool(host='www.thisdaylive.com', port=443): Max retries exceeded with url: /index.php/2021/01/14/airtel-wins-laif-pitcher-awards/ (Caused by ConnectTimeoutError(<urllib3.connection.HTTPSConnection object at 0x7f533b79f460>, 'Connection to www.thisdaylive.com timed out. (connect timeout=10)'))\n",
      "Problem: https://www.thisdaylive.com/index.php/2021/01/14/airtel-wins-laif-pitcher-awards/: HTTPSConnectionPool(host='www.thisdaylive.com', port=443): Max retries exceeded with url: /index.php/2021/01/14/airtel-wins-laif-pitcher-awards/ (Caused by ConnectTimeoutError(<urllib3.connection.HTTPSConnection object at 0x7f533b79fa00>, 'Connection to www.thisdaylive.com timed out. (connect timeout=10)'))\n",
      "Problem: https://www.adgully.com/amazon-launches-its-worldwide-first-mobile-only-plan-in-india-99857.html: HTTPSConnectionPool(host='www.adgully.com', port=443): Read timed out. (read timeout=10)\n"
     ]
    },
    {
     "name": "stderr",
     "output_type": "stream",
     "text": [
      "\r",
      " 61%|████████████████████████▉                | 568/934 [49:40<37:24,  6.13s/it]"
     ]
    },
    {
     "name": "stdout",
     "output_type": "stream",
     "text": [
      "Problem: http://business.itbusinessnet.com/2021/02/unitedhealth-group-announces-executive-leadership-actions/: HTTPConnectionPool(host='business.itbusinessnet.com', port=80): Max retries exceeded with url: /2021/02/unitedhealth-group-announces-executive-leadership-actions/ (Caused by NewConnectionError('<urllib3.connection.HTTPConnection object at 0x7f53657e8580>: Failed to establish a new connection: [Errno -2] Name or service not known'))\n",
      "Problem: http://networking.itbusinessnet.com/2021/02/unitedhealth-group-announces-executive-leadership-actions/: HTTPConnectionPool(host='networking.itbusinessnet.com', port=80): Max retries exceeded with url: /2021/02/unitedhealth-group-announces-executive-leadership-actions/ (Caused by NewConnectionError('<urllib3.connection.HTTPConnection object at 0x7f53657e8bb0>: Failed to establish a new connection: [Errno -2] Name or service not known'))\n",
      "Problem: http://www.latpro.com/jobs/3786683.html: HTTPSConnectionPool(host='www.latpro.com', port=443): Max retries exceeded with url: /jobs/3786683.html (Caused by SSLError(SSLCertVerificationError(1, '[SSL: CERTIFICATE_VERIFY_FAILED] certificate verify failed: unable to get local issuer certificate (_ssl.c:1129)')))\n"
     ]
    },
    {
     "name": "stderr",
     "output_type": "stream",
     "text": [
      " 61%|█████████████████████████                | 571/934 [49:47<22:22,  3.70s/it]"
     ]
    },
    {
     "name": "stdout",
     "output_type": "stream",
     "text": [
      "Problem: https://www.newmilfordspectrum.com/news/article/New-Milford-travel-plaza-opens-offering-fuel-15513978.php: HTTPSConnectionPool(host='www.newmilfordspectrum.com', port=443): Max retries exceeded with url: /news/article/New-Milford-travel-plaza-opens-offering-fuel-15513978.php (Caused by SSLError(SSLCertVerificationError(1, '[SSL: CERTIFICATE_VERIFY_FAILED] certificate verify failed: certificate has expired (_ssl.c:1129)')))\n"
     ]
    },
    {
     "name": "stderr",
     "output_type": "stream",
     "text": [
      " 62%|█████████████████████████▎               | 578/934 [50:09<19:33,  3.30s/it]"
     ]
    },
    {
     "name": "stdout",
     "output_type": "stream",
     "text": [
      "Problem: https://www.washingtonpost.com/graphics/2020/business/50-biggest-companies-coronavirus-layoffs/: HTTPSConnectionPool(host='www.washingtonpost.com', port=443): Read timed out. (read timeout=10)\n"
     ]
    },
    {
     "name": "stderr",
     "output_type": "stream",
     "text": [
      " 63%|█████████████████████████▋               | 586/934 [50:51<19:00,  3.28s/it]"
     ]
    },
    {
     "name": "stdout",
     "output_type": "stream",
     "text": [
      "Problem: https://governor.sc.gov/news/2021-09/home-depot-expands-supply-chain-operations-across-south-carolina: HTTPSConnectionPool(host='governor.sc.gov', port=443): Max retries exceeded with url: /news/2021-09/home-depot-expands-supply-chain-operations-across-south-carolina (Caused by ConnectTimeoutError(<urllib3.connection.HTTPSConnection object at 0x7f53655d8c40>, 'Connection to governor.sc.gov timed out. (connect timeout=10)'))\n"
     ]
    },
    {
     "name": "stderr",
     "output_type": "stream",
     "text": [
      " 63%|█████████████████████████▊               | 588/934 [51:05<26:36,  4.61s/it]"
     ]
    },
    {
     "name": "stdout",
     "output_type": "stream",
     "text": [
      "Problem: http://www.padovanews.it/2021/11/03/arcelormittal-announces-cad205-million-decarbonisation-investment-in-its-flagship-canadian-mining-operations-with-support-from-the-quebec-government/: HTTPConnectionPool(host='www.padovanews.it', port=80): Read timed out. (read timeout=10)\n"
     ]
    },
    {
     "name": "stderr",
     "output_type": "stream",
     "text": [
      "\r",
      " 63%|█████████████████████████▊               | 589/934 [51:15<36:45,  6.39s/it]"
     ]
    },
    {
     "name": "stdout",
     "output_type": "stream",
     "text": [
      "Problem: http://www.padovanews.it/2021/11/03/arcelormittal-announces-cad205-million-decarbonisation-investment-in-its-flagship-canadian-mining-operations-with-support-from-the-quebec-government/: HTTPConnectionPool(host='www.padovanews.it', port=80): Read timed out. (read timeout=10)\n"
     ]
    },
    {
     "name": "stderr",
     "output_type": "stream",
     "text": [
      " 63%|█████████████████████████▉               | 591/934 [51:28<33:57,  5.94s/it]"
     ]
    },
    {
     "name": "stdout",
     "output_type": "stream",
     "text": [
      "Problem: https://www.carasycaretas.com.uy/una-estrategia-basada-en-personas-tecnologia-y-conocimiento/: HTTPSConnectionPool(host='www.carasycaretas.com.uy', port=443): Max retries exceeded with url: /una-estrategia-basada-en-personas-tecnologia-y-conocimiento/ (Caused by ConnectTimeoutError(<urllib3.connection.HTTPSConnection object at 0x7f533b772730>, 'Connection to www.carasycaretas.com.uy timed out. (connect timeout=10)'))\n"
     ]
    },
    {
     "name": "stderr",
     "output_type": "stream",
     "text": [
      "\r",
      " 63%|█████████████████████████▉               | 592/934 [51:38<41:56,  7.36s/it]"
     ]
    },
    {
     "name": "stdout",
     "output_type": "stream",
     "text": [
      "Problem: https://english.sakshi.com/news/business/ril-q2-results-consolidated-net-profit-rises-43-pc-yoy-rs-13680-crore-145355: HTTPSConnectionPool(host='english.sakshi.com', port=443): Read timed out. (read timeout=10)\n"
     ]
    },
    {
     "name": "stderr",
     "output_type": "stream",
     "text": [
      " 64%|██████████████████████████▍              | 602/934 [52:35<30:08,  5.45s/it]"
     ]
    },
    {
     "name": "stdout",
     "output_type": "stream",
     "text": [
      "Problem: https://auto.sina.com.cn/zz/hykx/2021-01-28/detail-ikftssap1438693.shtml?hpid=00031: HTTPSConnectionPool(host='auto.sina.com.cn', port=443): Read timed out. (read timeout=10)\n",
      "Problem: https://auto.sina.com.cn/zz/hykx/2021-01-28/detail-ikftssap1438693.shtml?oaid=00115: HTTPSConnectionPool(host='auto.sina.com.cn', port=443): Read timed out. (read timeout=10)\n"
     ]
    },
    {
     "name": "stderr",
     "output_type": "stream",
     "text": [
      " 65%|██████████████████████████▌              | 605/934 [52:54<31:41,  5.78s/it]"
     ]
    },
    {
     "name": "stdout",
     "output_type": "stream",
     "text": [
      "Problem: https://www.wired.com/story/opinion-big-music-needs-to-be-broken-up-to-save-the-industry/: HTTPSConnectionPool(host='www.wired.com', port=443): Read timed out. (read timeout=10)\n"
     ]
    },
    {
     "name": "stderr",
     "output_type": "stream",
     "text": [
      "\r",
      " 65%|██████████████████████████▌              | 606/934 [53:05<39:25,  7.21s/it]"
     ]
    },
    {
     "name": "stdout",
     "output_type": "stream",
     "text": [
      "Problem: https://www.cairnspost.com.au/business/queensland-sellers-devastated-after-taking-couples-75k-deposit-in-house-debacle/news-story/2dd23b12cb9c00e173a20143fb0b9ea8?nk=ed8c95cf0d6d58d31c7ccaaebfc9a8f0-1637737374: HTTPSConnectionPool(host='www.cairnspost.com.au', port=443): Read timed out. (read timeout=10)\n"
     ]
    },
    {
     "name": "stderr",
     "output_type": "stream",
     "text": [
      " 66%|███████████████████████████▏             | 619/934 [54:01<16:13,  3.09s/it]"
     ]
    },
    {
     "name": "stdout",
     "output_type": "stream",
     "text": [
      "Problem: http://www.newratings.de/du/main/company_headline.m?nid=13827485: HTTPSConnectionPool(host='www.newratings.de', port=443): Max retries exceeded with url: /du/main/company_headline.m?nid=13827485 (Caused by SSLError(SSLCertVerificationError(\"hostname 'www.newratings.de' doesn't match either of '*.ariva-services.de', 'ariva-services.de'\")))\n"
     ]
    },
    {
     "name": "stderr",
     "output_type": "stream",
     "text": [
      " 67%|███████████████████████████▌             | 629/934 [54:32<17:57,  3.53s/it]"
     ]
    },
    {
     "name": "stdout",
     "output_type": "stream",
     "text": [
      "Problem: http://www.newratings.de/du/main/company_headline.m?nid=12930322: HTTPSConnectionPool(host='www.newratings.de', port=443): Max retries exceeded with url: /du/main/company_headline.m?nid=12930322 (Caused by SSLError(SSLCertVerificationError(\"hostname 'www.newratings.de' doesn't match either of '*.ariva-services.de', 'ariva-services.de'\")))\n"
     ]
    },
    {
     "name": "stderr",
     "output_type": "stream",
     "text": [
      "\r",
      " 67%|███████████████████████████▋             | 630/934 [54:34<16:28,  3.25s/it]"
     ]
    },
    {
     "name": "stdout",
     "output_type": "stream",
     "text": [
      "Problem: http://www.newratings.de/du/main/company_headline.m?nid=12969653: HTTPSConnectionPool(host='www.newratings.de', port=443): Max retries exceeded with url: /du/main/company_headline.m?nid=12969653 (Caused by SSLError(SSLCertVerificationError(\"hostname 'www.newratings.de' doesn't match either of '*.ariva-services.de', 'ariva-services.de'\")))\n"
     ]
    },
    {
     "name": "stderr",
     "output_type": "stream",
     "text": [
      " 68%|███████████████████████████▊             | 633/934 [54:53<26:55,  5.37s/it]"
     ]
    },
    {
     "name": "stdout",
     "output_type": "stream",
     "text": [
      "Problem: https://menafn.com/1103054680/HDFC-Bank-forcibly-withdraws-money-from-customer-account-in-lieu-of-disputed-credit-card-bills&source=138: HTTPSConnectionPool(host='menafn.com', port=443): Read timed out. (read timeout=10)\n"
     ]
    },
    {
     "name": "stderr",
     "output_type": "stream",
     "text": [
      "\r",
      " 68%|███████████████████████████▊             | 634/934 [55:07<39:02,  7.81s/it]"
     ]
    },
    {
     "name": "stdout",
     "output_type": "stream",
     "text": [
      "Problem: https://www.equitybulls.com/admin/news2006/news_det.asp?id=302920: HTTPSConnectionPool(host='equitybulls.com', port=443): Read timed out. (read timeout=10)\n"
     ]
    },
    {
     "name": "stderr",
     "output_type": "stream",
     "text": [
      "\r",
      " 68%|███████████████████████████▊             | 635/934 [55:18<44:18,  8.89s/it]"
     ]
    },
    {
     "name": "stdout",
     "output_type": "stream",
     "text": [
      "Problem: https://www.androidpolice.com/2021/01/19/mediatek-wants-to-put-its-new-chips-in-your-next-5g-phone/: ('Connection aborted.', RemoteDisconnected('Remote end closed connection without response'))\n",
      "Problem: https://www.androidpolice.com/2019/11/26/mediateks-new-5g-chipset-aims-for-high-end-devices-coming-to-the-us-next-year/: ('Connection aborted.', RemoteDisconnected('Remote end closed connection without response'))\n"
     ]
    },
    {
     "name": "stderr",
     "output_type": "stream",
     "text": [
      " 68%|████████████████████████████             | 638/934 [55:29<25:52,  5.24s/it]"
     ]
    },
    {
     "name": "stdout",
     "output_type": "stream",
     "text": [
      "Problem: https://simpleflying.com/us-bombardier-garuda-indonesia-investigation/: ('Connection aborted.', RemoteDisconnected('Remote end closed connection without response'))\n",
      "Problem: http://networking.itbusinessnet.com/2021/01/bombardier-and-gts-rail-strengthen-their-long-term-partnership-by-increasing-gtss-traxx-locomotive-fleet/: HTTPConnectionPool(host='networking.itbusinessnet.com', port=80): Max retries exceeded with url: /2021/01/bombardier-and-gts-rail-strengthen-their-long-term-partnership-by-increasing-gtss-traxx-locomotive-fleet/ (Caused by NewConnectionError('<urllib3.connection.HTTPConnection object at 0x7f537e80fca0>: Failed to establish a new connection: [Errno -2] Name or service not known'))\n"
     ]
    },
    {
     "name": "stderr",
     "output_type": "stream",
     "text": [
      "\r",
      " 68%|████████████████████████████             | 639/934 [55:33<23:03,  4.69s/it]"
     ]
    },
    {
     "name": "stdout",
     "output_type": "stream",
     "text": [
      "Problem: http://www.newratings.de/du/main/company_headline.m?nid=13044246: HTTPSConnectionPool(host='www.newratings.de', port=443): Max retries exceeded with url: /du/main/company_headline.m?nid=13044246 (Caused by SSLError(SSLCertVerificationError(\"hostname 'www.newratings.de' doesn't match either of '*.ariva-services.de', 'ariva-services.de'\")))\n",
      "Problem: http://www.newratings.de/du/main/company_headline.m?nid=13044250: HTTPSConnectionPool(host='www.newratings.de', port=443): Max retries exceeded with url: /du/main/company_headline.m?nid=13044250 (Caused by SSLError(SSLCertVerificationError(\"hostname 'www.newratings.de' doesn't match either of '*.ariva-services.de', 'ariva-services.de'\")))\n"
     ]
    },
    {
     "name": "stderr",
     "output_type": "stream",
     "text": [
      " 70%|████████████████████████████▌            | 650/934 [56:25<26:31,  5.60s/it]"
     ]
    },
    {
     "name": "stdout",
     "output_type": "stream",
     "text": [
      "Problem: https://www.fordcountyrecord.com/state-board-of-accounts-asks-south-newton-for-repayment-of-751-907-in-state-support/article_885cd6a0-c3c8-5c72-ab12-c951c8be97e6.html: HTTPSConnectionPool(host='www.fordcountyrecord.com', port=443): Max retries exceeded with url: /state-board-of-accounts-asks-south-newton-for-repayment-of-751-907-in-state-support/article_885cd6a0-c3c8-5c72-ab12-c951c8be97e6.html (Caused by NewConnectionError('<urllib3.connection.HTTPSConnection object at 0x7f533be27ac0>: Failed to establish a new connection: [Errno -2] Name or service not known'))\n",
      "Problem: https://www.fordcountyrecord.com/state-board-of-accounts-asks-south-newton-for-repayment-of-751-907-in-state-support/article_3f4459b2-ba28-5ccd-9f82-7064ddc7261a.html: HTTPSConnectionPool(host='www.fordcountyrecord.com', port=443): Max retries exceeded with url: /state-board-of-accounts-asks-south-newton-for-repayment-of-751-907-in-state-support/article_3f4459b2-ba28-5ccd-9f82-7064ddc7261a.html (Caused by NewConnectionError('<urllib3.connection.HTTPSConnection object at 0x7f533be274c0>: Failed to establish a new connection: [Errno -2] Name or service not known'))\n"
     ]
    },
    {
     "name": "stderr",
     "output_type": "stream",
     "text": [
      " 71%|█████████████████████████████▏           | 665/934 [57:32<28:22,  6.33s/it]"
     ]
    },
    {
     "name": "stdout",
     "output_type": "stream",
     "text": [
      "Problem: https://zdnet.co.kr/view/?no=20210428170856: ('Connection aborted.', ConnectionResetError(104, 'Connection reset by peer'))\n"
     ]
    },
    {
     "name": "stderr",
     "output_type": "stream",
     "text": [
      "\r",
      " 71%|█████████████████████████████▏           | 666/934 [57:43<35:04,  7.85s/it]"
     ]
    },
    {
     "name": "stdout",
     "output_type": "stream",
     "text": [
      "Problem: https://vietnamnews.vn/pr/brand-info/966795/when-csr-is-seen-as-must-do-for-corporate-sustainability.html: HTTPSConnectionPool(host='vietnamnews.vn', port=443): Read timed out. (read timeout=10)\n"
     ]
    },
    {
     "name": "stderr",
     "output_type": "stream",
     "text": [
      "\r",
      " 71%|█████████████████████████████▎           | 667/934 [57:55<39:38,  8.91s/it]"
     ]
    },
    {
     "name": "stdout",
     "output_type": "stream",
     "text": [
      "Problem: http://saharareporters.com/2021/04/01/brazil-zambia-and-echoes-15bn-nigerian-repair-azu-ishiekwene: HTTPConnectionPool(host='saharareporters.com', port=80): Read timed out. (read timeout=10)\n"
     ]
    },
    {
     "name": "stderr",
     "output_type": "stream",
     "text": [
      " 72%|█████████████████████████████▌           | 673/934 [58:31<22:38,  5.20s/it]"
     ]
    },
    {
     "name": "stdout",
     "output_type": "stream",
     "text": [
      "Problem: https://www.newswiretoday.com/news/175232/: HTTPSConnectionPool(host='www.newswiretoday.com', port=443): Max retries exceeded with url: /news/175232/ (Caused by SSLError(SSLCertVerificationError(1, '[SSL: CERTIFICATE_VERIFY_FAILED] certificate verify failed: unable to get local issuer certificate (_ssl.c:1129)')))\n",
      "Problem: https://www.newswiretoday.com/news/175380/BASFs-Care-Creations-Launches-Event-focused-Customer-Platform-to-Host-Virtual-Beauty-Days/: HTTPSConnectionPool(host='www.newswiretoday.com', port=443): Max retries exceeded with url: /news/175380/BASFs-Care-Creations-Launches-Event-focused-Customer-Platform-to-Host-Virtual-Beauty-Days/ (Caused by SSLError(SSLCertVerificationError(1, '[SSL: CERTIFICATE_VERIFY_FAILED] certificate verify failed: unable to get local issuer certificate (_ssl.c:1129)')))\n",
      "Problem: https://www.newswiretoday.com/news/175380/: HTTPSConnectionPool(host='www.newswiretoday.com', port=443): Max retries exceeded with url: /news/175380/ (Caused by SSLError(SSLCertVerificationError(1, '[SSL: CERTIFICATE_VERIFY_FAILED] certificate verify failed: unable to get local issuer certificate (_ssl.c:1129)')))\n",
      "Problem: https://www.newswiretoday.com/news/175380/: HTTPSConnectionPool(host='www.newswiretoday.com', port=443): Max retries exceeded with url: /news/175380/ (Caused by SSLError(SSLCertVerificationError(1, '[SSL: CERTIFICATE_VERIFY_FAILED] certificate verify failed: unable to get local issuer certificate (_ssl.c:1129)')))\n",
      "Problem: https://www.newswiretoday.com/news/174925/: HTTPSConnectionPool(host='www.newswiretoday.com', port=443): Max retries exceeded with url: /news/174925/ (Caused by SSLError(SSLCertVerificationError(1, '[SSL: CERTIFICATE_VERIFY_FAILED] certificate verify failed: unable to get local issuer certificate (_ssl.c:1129)')))\n",
      "Problem: https://www.washingtonpost.com/business/2021/01/28/china-hbo-covid-film/: HTTPSConnectionPool(host='www.washingtonpost.com', port=443): Read timed out. (read timeout=10)\n",
      "Problem: https://www.washingtonpost.com/business/2021/01/28/china-hbo-covid-film/: HTTPSConnectionPool(host='www.washingtonpost.com', port=443): Read timed out. (read timeout=10)\n",
      "Problem: https://www.adgully.com/cosmos-maya-and-warnermedia-announce-launch-for-action-comedy-100085.html: HTTPSConnectionPool(host='www.adgully.com', port=443): Max retries exceeded with url: /cosmos-maya-and-warnermedia-announce-launch-for-action-comedy-100085.html (Caused by ConnectTimeoutError(<urllib3.connection.HTTPSConnection object at 0x7f533bc50340>, 'Connection to www.adgully.com timed out. (connect timeout=10)'))\n",
      "Problem: https://www.adgully.com/hbo-max-names-amit-malhotra-as-md-of-southeast-asia-india-104384.html: HTTPSConnectionPool(host='www.adgully.com', port=443): Max retries exceeded with url: /hbo-max-names-amit-malhotra-as-md-of-southeast-asia-india-104384.html (Caused by ConnectTimeoutError(<urllib3.connection.HTTPSConnection object at 0x7f533bc81c70>, 'Connection to www.adgully.com timed out. (connect timeout=10)'))\n",
      "Problem: https://www.indiantelevision.com/iworld/over-the-top-services/warner-media-discovery-merged-outfit-named-warner-brosdiscovery-210602: HTTPSConnectionPool(host='www.indiantelevision.com', port=443): Read timed out. (read timeout=10)\n"
     ]
    },
    {
     "name": "stderr",
     "output_type": "stream",
     "text": [
      " 72%|█████████████████████████████▋           | 675/934 [58:53<35:00,  8.11s/it]"
     ]
    },
    {
     "name": "stdout",
     "output_type": "stream",
     "text": [
      "Problem: https://www.dailyexcelsior.com/nissan-ex-chair-ghosn-set-on-restoring-reputation/: HTTPSConnectionPool(host='www.dailyexcelsior.com', port=443): Read timed out. (read timeout=10)\n",
      "Problem: https://www.thisismoney.co.uk/money/article-9512583/New-Renault-Dacia-models-speeds-limited-112mph.html: HTTPSConnectionPool(host='www.thisismoney.co.uk', port=443): Read timed out. (read timeout=10)\n",
      "Problem: https://www.thisismoney.co.uk/money/article-9512583/New-Renault-Dacia-models-speeds-limited-112mph.html: HTTPSConnectionPool(host='www.thisismoney.co.uk', port=443): Read timed out. (read timeout=10)\n"
     ]
    },
    {
     "name": "stderr",
     "output_type": "stream",
     "text": [
      "\r",
      " 72%|█████████████████████████████▋           | 676/934 [59:04<38:32,  8.96s/it]"
     ]
    },
    {
     "name": "stdout",
     "output_type": "stream",
     "text": [
      "Problem: https://www.yicai.com/news/100914448.html: HTTPSConnectionPool(host='www.yicai.com', port=443): Read timed out. (read timeout=10)\n",
      "Problem: https://auto.sina.com.cn/zz/wb/2021-01-15/detail-ikftpnnx7296489.shtml: HTTPSConnectionPool(host='auto.sina.com.cn', port=443): Read timed out. (read timeout=10)\n",
      "Problem: https://auto.sina.com.cn/zz/wb/2021-01-15/detail-ikftpnnx7296489.shtml?hpid=00041: HTTPSConnectionPool(host='auto.sina.com.cn', port=443): Read timed out. (read timeout=10)\n",
      "Problem: https://auto.sina.com.cn/zz/wb/2021-01-15/detail-ikftpnnx7296489.shtml?oaid=00105: HTTPSConnectionPool(host='auto.sina.com.cn', port=443): Read timed out. (read timeout=10)\n"
     ]
    },
    {
     "name": "stderr",
     "output_type": "stream",
     "text": [
      " 74%|████████████████████████████▉          | 692/934 [1:00:24<16:30,  4.09s/it]"
     ]
    },
    {
     "name": "stdout",
     "output_type": "stream",
     "text": [
      "Problem: https://watermarkonline.com/2020/11/03/vatican-breaks-silence-explains-popes-civil-union-comments/: ('Connection aborted.', RemoteDisconnected('Remote end closed connection without response'))\n"
     ]
    },
    {
     "name": "stderr",
     "output_type": "stream",
     "text": [
      "\r",
      " 74%|████████████████████████████▉          | 693/934 [1:00:26<14:26,  3.59s/it]"
     ]
    },
    {
     "name": "stdout",
     "output_type": "stream",
     "text": [
      "Problem: http://hazmeelchingadofavor.com/category/destacadas/: HTTPConnectionPool(host='hazmeelchingadofavor.com', port=80): Max retries exceeded with url: /category/destacadas/ (Caused by ConnectTimeoutError(<urllib3.connection.HTTPConnection object at 0x7f53655b4730>, 'Connection to hazmeelchingadofavor.com timed out. (connect timeout=10)'))\n",
      "Problem: http://hazmeelchingadofavor.com/category/destacadas/: HTTPConnectionPool(host='hazmeelchingadofavor.com', port=80): Max retries exceeded with url: /category/destacadas/ (Caused by ConnectTimeoutError(<urllib3.connection.HTTPConnection object at 0x7f533bb11250>, 'Connection to hazmeelchingadofavor.com timed out. (connect timeout=10)'))\n",
      "Problem: http://hazmeelchingadofavor.com/category/destacadas/: HTTPConnectionPool(host='hazmeelchingadofavor.com', port=80): Max retries exceeded with url: /category/destacadas/ (Caused by ConnectTimeoutError(<urllib3.connection.HTTPConnection object at 0x7f533bb11d30>, 'Connection to hazmeelchingadofavor.com timed out. (connect timeout=10)'))\n",
      "Problem: http://hazmeelchingadofavor.com/category/destacadas/: HTTPConnectionPool(host='hazmeelchingadofavor.com', port=80): Max retries exceeded with url: /category/destacadas/ (Caused by ConnectTimeoutError(<urllib3.connection.HTTPConnection object at 0x7f533bb20850>, 'Connection to hazmeelchingadofavor.com timed out. (connect timeout=10)'))\n",
      "Problem: http://hazmeelchingadofavor.com/category/destacadas/: HTTPConnectionPool(host='hazmeelchingadofavor.com', port=80): Max retries exceeded with url: /category/destacadas/ (Caused by ConnectTimeoutError(<urllib3.connection.HTTPConnection object at 0x7f533bb20dc0>, 'Connection to hazmeelchingadofavor.com timed out. (connect timeout=10)'))\n"
     ]
    },
    {
     "name": "stderr",
     "output_type": "stream",
     "text": [
      "\r",
      " 74%|████████████████████████████▉          | 694/934 [1:00:37<22:25,  5.61s/it]"
     ]
    },
    {
     "name": "stdout",
     "output_type": "stream",
     "text": [
      "Problem: http://www.latpro.com/jobs/3771456.html: HTTPSConnectionPool(host='www.latpro.com', port=443): Max retries exceeded with url: /jobs/3771456.html (Caused by SSLError(SSLCertVerificationError(1, '[SSL: CERTIFICATE_VERIFY_FAILED] certificate verify failed: unable to get local issuer certificate (_ssl.c:1129)')))\n"
     ]
    },
    {
     "name": "stderr",
     "output_type": "stream",
     "text": [
      " 75%|█████████████████████████████▎         | 701/934 [1:01:17<19:21,  4.99s/it]"
     ]
    },
    {
     "name": "stdout",
     "output_type": "stream",
     "text": [
      "Problem: https://www.newswiretoday.com/news/175133/: HTTPSConnectionPool(host='www.newswiretoday.com', port=443): Max retries exceeded with url: /news/175133/ (Caused by SSLError(SSLCertVerificationError(1, '[SSL: CERTIFICATE_VERIFY_FAILED] certificate verify failed: unable to get local issuer certificate (_ssl.c:1129)')))\n",
      "Problem: https://www.newswiretoday.com/news/175133/: HTTPSConnectionPool(host='www.newswiretoday.com', port=443): Max retries exceeded with url: /news/175133/ (Caused by SSLError(SSLCertVerificationError(1, '[SSL: CERTIFICATE_VERIFY_FAILED] certificate verify failed: unable to get local issuer certificate (_ssl.c:1129)')))\n"
     ]
    },
    {
     "name": "stderr",
     "output_type": "stream",
     "text": [
      "\r",
      " 75%|█████████████████████████████▎         | 702/934 [1:01:23<20:25,  5.28s/it]"
     ]
    },
    {
     "name": "stdout",
     "output_type": "stream",
     "text": [
      "Problem: https://energy.einnews.com/pr_news/534518819/enphase-energy-and-solar-optimum-expand-partnership-to-include-battery-storage: HTTPSConnectionPool(host='energy.einnews.com', port=443): Read timed out. (read timeout=10)\n"
     ]
    },
    {
     "name": "stderr",
     "output_type": "stream",
     "text": [
      " 76%|█████████████████████████████▌         | 708/934 [1:01:49<13:26,  3.57s/it]"
     ]
    },
    {
     "name": "stdout",
     "output_type": "stream",
     "text": [
      "Problem: http://www.latpro.com/jobs/3770966.html: HTTPSConnectionPool(host='www.latpro.com', port=443): Max retries exceeded with url: /jobs/3770966.html (Caused by SSLError(SSLCertVerificationError(1, '[SSL: CERTIFICATE_VERIFY_FAILED] certificate verify failed: unable to get local issuer certificate (_ssl.c:1129)')))\n",
      "Problem: http://www.latpro.com/jobs/3790898.html: HTTPSConnectionPool(host='www.latpro.com', port=443): Max retries exceeded with url: /jobs/3790898.html (Caused by SSLError(SSLCertVerificationError(1, '[SSL: CERTIFICATE_VERIFY_FAILED] certificate verify failed: unable to get local issuer certificate (_ssl.c:1129)')))\n"
     ]
    },
    {
     "name": "stderr",
     "output_type": "stream",
     "text": [
      " 76%|█████████████████████████████▋         | 711/934 [1:01:57<10:35,  2.85s/it]"
     ]
    },
    {
     "name": "stdout",
     "output_type": "stream",
     "text": [
      "Problem: https://knowledge.ckgsb.edu.cn/2015/10/06/china-business-strategy/haier-platform-strategy-a-critical-assessment/: HTTPSConnectionPool(host='knowledge.ckgsb.edu.cn', port=443): Max retries exceeded with url: /2015/10/06/china-business-strategy/haier-platform-strategy-a-critical-assessment/ (Caused by SSLError(SSLCertVerificationError(1, '[SSL: CERTIFICATE_VERIFY_FAILED] certificate verify failed: unable to get local issuer certificate (_ssl.c:1129)')))\n"
     ]
    },
    {
     "name": "stderr",
     "output_type": "stream",
     "text": [
      "\r",
      " 76%|█████████████████████████████▋         | 712/934 [1:01:59<09:04,  2.45s/it]"
     ]
    },
    {
     "name": "stdout",
     "output_type": "stream",
     "text": [
      "Problem: https://knowledge.ckgsb.edu.cn/2015/10/06/china-business-strategy/haier-platform-strategy-a-critical-assessment/: HTTPSConnectionPool(host='knowledge.ckgsb.edu.cn', port=443): Max retries exceeded with url: /2015/10/06/china-business-strategy/haier-platform-strategy-a-critical-assessment/ (Caused by SSLError(SSLCertVerificationError(1, '[SSL: CERTIFICATE_VERIFY_FAILED] certificate verify failed: unable to get local issuer certificate (_ssl.c:1129)')))\n"
     ]
    },
    {
     "name": "stderr",
     "output_type": "stream",
     "text": [
      "\r",
      " 76%|█████████████████████████████▊         | 713/934 [1:02:03<10:57,  2.98s/it]"
     ]
    },
    {
     "name": "stdout",
     "output_type": "stream",
     "text": [
      "Problem: https://www.energias-renovables.com/eolica/la-eolica-es-clave-para-el-fortalecimiento-20210324: HTTPSConnectionPool(host='www.energias-renovables.com', port=443): Read timed out. (read timeout=10)\n"
     ]
    },
    {
     "name": "stderr",
     "output_type": "stream",
     "text": [
      " 77%|█████████████████████████████▉         | 717/934 [1:02:27<15:33,  4.30s/it]"
     ]
    },
    {
     "name": "stdout",
     "output_type": "stream",
     "text": [
      "Problem: https://www.zerohedge.com/geopolitical/commerzbank-fires-one-third-german-bankers: HTTPSConnectionPool(host='www.zerohedge.com', port=443): Read timed out. (read timeout=10)\n",
      "Problem: https://www.segs.com.br/mais/economia/285815-mercer-e-superrico-se-unem-para-levar-bem-estar-financeiro-para-dentro-das-empresas: HTTPSConnectionPool(host='www.segs.com.br', port=443): Read timed out. (read timeout=10)\n"
     ]
    },
    {
     "name": "stderr",
     "output_type": "stream",
     "text": [
      " 78%|██████████████████████████████▎        | 727/934 [1:03:24<14:20,  4.16s/it]"
     ]
    },
    {
     "name": "stdout",
     "output_type": "stream",
     "text": [
      "Problem: https://www.washingtonpost.com/lifestyle/magazine/zoos-have-started-vaccinating-animals-against-the-coronavirus/2021/10/21/e07d6caa-26d0-11ec-9de8-156fed3e81bf_story.html: HTTPSConnectionPool(host='www.washingtonpost.com', port=443): Read timed out. (read timeout=10)\n"
     ]
    },
    {
     "name": "stderr",
     "output_type": "stream",
     "text": [
      " 79%|██████████████████████████████▋        | 735/934 [1:04:12<16:13,  4.89s/it]"
     ]
    },
    {
     "name": "stdout",
     "output_type": "stream",
     "text": [
      "Problem: http://www.newratings.de/du/main/company_headline.m?nid=13759915: HTTPSConnectionPool(host='www.newratings.de', port=443): Max retries exceeded with url: /du/main/company_headline.m?nid=13759915 (Caused by SSLError(SSLCertVerificationError(\"hostname 'www.newratings.de' doesn't match either of '*.ariva-services.de', 'ariva-services.de'\")))\n"
     ]
    },
    {
     "name": "stderr",
     "output_type": "stream",
     "text": [
      " 79%|██████████████████████████████▉        | 742/934 [1:04:39<14:04,  4.40s/it]"
     ]
    },
    {
     "name": "stdout",
     "output_type": "stream",
     "text": [
      "Problem: https://simpleflying.com/envoy-erj135-charlotte-return/: ('Connection aborted.', RemoteDisconnected('Remote end closed connection without response'))\n",
      "Problem: https://simpleflying.com/airline-operators-embraer-australia/: ('Connection aborted.', RemoteDisconnected('Remote end closed connection without response'))\n"
     ]
    },
    {
     "name": "stderr",
     "output_type": "stream",
     "text": [
      " 80%|███████████████████████████████▏       | 746/934 [1:04:53<09:51,  3.15s/it]"
     ]
    },
    {
     "name": "stdout",
     "output_type": "stream",
     "text": [
      "Problem: http://www.newratings.de/du/main/company_headline.m?nid=12535625: HTTPSConnectionPool(host='www.newratings.de', port=443): Max retries exceeded with url: /du/main/company_headline.m?nid=12535625 (Caused by SSLError(SSLCertVerificationError(\"hostname 'www.newratings.de' doesn't match either of '*.ariva-services.de', 'ariva-services.de'\")))\n"
     ]
    },
    {
     "name": "stderr",
     "output_type": "stream",
     "text": [
      " 80%|███████████████████████████████▎       | 749/934 [1:05:04<10:38,  3.45s/it]"
     ]
    },
    {
     "name": "stdout",
     "output_type": "stream",
     "text": [
      "Problem: https://www.newswiretoday.com/news/175329/Alstom-Delivers-the-100th-Electric-Locomotive-of-12000-HP-to-Indian-Railways/: HTTPSConnectionPool(host='www.newswiretoday.com', port=443): Max retries exceeded with url: /news/175329/Alstom-Delivers-the-100th-Electric-Locomotive-of-12000-HP-to-Indian-Railways/ (Caused by SSLError(SSLCertVerificationError(1, '[SSL: CERTIFICATE_VERIFY_FAILED] certificate verify failed: unable to get local issuer certificate (_ssl.c:1129)')))\n",
      "Problem: https://www.newswiretoday.com/news/175329/: HTTPSConnectionPool(host='www.newswiretoday.com', port=443): Max retries exceeded with url: /news/175329/ (Caused by SSLError(SSLCertVerificationError(1, '[SSL: CERTIFICATE_VERIFY_FAILED] certificate verify failed: unable to get local issuer certificate (_ssl.c:1129)')))\n",
      "Problem: https://www.newswiretoday.com/news/175329/: HTTPSConnectionPool(host='www.newswiretoday.com', port=443): Max retries exceeded with url: /news/175329/ (Caused by SSLError(SSLCertVerificationError(1, '[SSL: CERTIFICATE_VERIFY_FAILED] certificate verify failed: unable to get local issuer certificate (_ssl.c:1129)')))\n",
      "Problem: https://www.newswiretoday.com/news/175329/: HTTPSConnectionPool(host='www.newswiretoday.com', port=443): Max retries exceeded with url: /news/175329/ (Caused by SSLError(SSLCertVerificationError(1, '[SSL: CERTIFICATE_VERIFY_FAILED] certificate verify failed: unable to get local issuer certificate (_ssl.c:1129)')))\n"
     ]
    },
    {
     "name": "stderr",
     "output_type": "stream",
     "text": [
      "\r",
      " 80%|███████████████████████████████▎       | 750/934 [1:05:10<12:15,  4.00s/it]"
     ]
    },
    {
     "name": "stdout",
     "output_type": "stream",
     "text": [
      "Problem: https://www.explica.co/bbvas-earnings-in-south-america-fall-by-38-2/: ('Connection aborted.', RemoteDisconnected('Remote end closed connection without response'))\n"
     ]
    },
    {
     "name": "stderr",
     "output_type": "stream",
     "text": [
      " 81%|███████████████████████████████▌       | 757/934 [1:05:36<10:02,  3.41s/it]"
     ]
    },
    {
     "name": "stdout",
     "output_type": "stream",
     "text": [
      "Problem: http://www.aen.pr.gov.br/modules/noticias/article.php?storyid=110650: ('Connection aborted.', RemoteDisconnected('Remote end closed connection without response'))\n",
      "Problem: http://www.aen.pr.gov.br/modules/noticias/article.php?storyid=110650&tit=Copel-investira-R-100-milhoes-na-cinquentenaria-Usina-Parigot-de-Souza: ('Connection aborted.', RemoteDisconnected('Remote end closed connection without response'))\n"
     ]
    },
    {
     "name": "stderr",
     "output_type": "stream",
     "text": [
      "\r",
      " 81%|███████████████████████████████▋       | 758/934 [1:05:39<09:52,  3.37s/it]"
     ]
    },
    {
     "name": "stdout",
     "output_type": "stream",
     "text": [
      "Problem: https://www.newswiretoday.com/news/176525/: HTTPSConnectionPool(host='www.newswiretoday.com', port=443): Max retries exceeded with url: /news/176525/ (Caused by SSLError(SSLCertVerificationError(1, '[SSL: CERTIFICATE_VERIFY_FAILED] certificate verify failed: unable to get local issuer certificate (_ssl.c:1129)')))\n",
      "Problem: https://www.newswiretoday.com/news/176525/Infineon-and-Hyundai-Motor-Group-to-Nurture-Startups-Focusing-on-Future-Mobility-and-Digitalization/: HTTPSConnectionPool(host='www.newswiretoday.com', port=443): Max retries exceeded with url: /news/176525/Infineon-and-Hyundai-Motor-Group-to-Nurture-Startups-Focusing-on-Future-Mobility-and-Digitalization/ (Caused by SSLError(SSLCertVerificationError(1, '[SSL: CERTIFICATE_VERIFY_FAILED] certificate verify failed: unable to get local issuer certificate (_ssl.c:1129)')))\n",
      "Problem: https://www.newswiretoday.com/news/176525/: HTTPSConnectionPool(host='www.newswiretoday.com', port=443): Max retries exceeded with url: /news/176525/ (Caused by SSLError(SSLCertVerificationError(1, '[SSL: CERTIFICATE_VERIFY_FAILED] certificate verify failed: unable to get local issuer certificate (_ssl.c:1129)')))\n"
     ]
    },
    {
     "name": "stderr",
     "output_type": "stream",
     "text": [
      "\r",
      " 81%|███████████████████████████████▋       | 759/934 [1:05:44<11:20,  3.89s/it]"
     ]
    },
    {
     "name": "stdout",
     "output_type": "stream",
     "text": [
      "Problem: https://nlmk.com/en/media-center/news-groups/stoilensky-launches-new-logistics-scheme-for-open-pit-mining/: HTTPSConnectionPool(host='nlmk.com', port=443): Max retries exceeded with url: /en/media-center/news-groups/stoilensky-launches-new-logistics-scheme-for-open-pit-mining/ (Caused by SSLError(SSLCertVerificationError(1, '[SSL: CERTIFICATE_VERIFY_FAILED] certificate verify failed: unable to get local issuer certificate (_ssl.c:1129)')))\n"
     ]
    },
    {
     "name": "stderr",
     "output_type": "stream",
     "text": [
      "\r",
      " 81%|███████████████████████████████▋       | 760/934 [1:05:53<15:48,  5.45s/it]"
     ]
    },
    {
     "name": "stdout",
     "output_type": "stream",
     "text": [
      "Problem: https://www.dailyexcelsior.com/icici-bank-ties-up-with-niyo-to-issue-prepaid-cards-to-msmes-2/: HTTPSConnectionPool(host='www.dailyexcelsior.com', port=443): Read timed out. (read timeout=10)\n"
     ]
    },
    {
     "name": "stderr",
     "output_type": "stream",
     "text": [
      " 82%|███████████████████████████████▉       | 766/934 [1:06:31<17:14,  6.16s/it]"
     ]
    },
    {
     "name": "stdout",
     "output_type": "stream",
     "text": [
      "Problem: http://www.newratings.de/du/main/company_headline.m?nid=12509416: HTTPSConnectionPool(host='www.newratings.de', port=443): Max retries exceeded with url: /du/main/company_headline.m?nid=12509416 (Caused by SSLError(SSLCertVerificationError(\"hostname 'www.newratings.de' doesn't match either of '*.ariva-services.de', 'ariva-services.de'\")))\n"
     ]
    },
    {
     "name": "stderr",
     "output_type": "stream",
     "text": [
      " 83%|████████████████████████████████▏      | 772/934 [1:06:56<12:09,  4.51s/it]"
     ]
    },
    {
     "name": "stdout",
     "output_type": "stream",
     "text": [
      "Problem: https://www.pharmazeutische-zeitung.de/who-erteilt-erstem-chinesischen-corona-impfstoff-notfallzulassung-125595/: HTTPSConnectionPool(host='www.pharmazeutische-zeitung.de', port=443): Read timed out. (read timeout=10)\n"
     ]
    },
    {
     "name": "stderr",
     "output_type": "stream",
     "text": [
      " 84%|████████████████████████████████▌      | 780/934 [1:07:43<13:19,  5.19s/it]"
     ]
    },
    {
     "name": "stdout",
     "output_type": "stream",
     "text": [
      "Problem: http://www.newratings.de/du/main/company_headline.m?nid=12465382: HTTPSConnectionPool(host='www.newratings.de', port=443): Max retries exceeded with url: /du/main/company_headline.m?nid=12465382 (Caused by SSLError(SSLCertVerificationError(\"hostname 'www.newratings.de' doesn't match either of '*.ariva-services.de', 'ariva-services.de'\")))\n"
     ]
    },
    {
     "name": "stderr",
     "output_type": "stream",
     "text": [
      "\r",
      " 84%|████████████████████████████████▌      | 781/934 [1:07:48<12:40,  4.97s/it]"
     ]
    },
    {
     "name": "stdout",
     "output_type": "stream",
     "text": [
      "Problem: https://www.yicai.com/brief/101013003.html: HTTPSConnectionPool(host='www.yicai.com', port=443): Read timed out. (read timeout=10)\n"
     ]
    },
    {
     "name": "stderr",
     "output_type": "stream",
     "text": [
      " 84%|████████████████████████████████▋      | 783/934 [1:08:00<13:12,  5.25s/it]"
     ]
    },
    {
     "name": "stdout",
     "output_type": "stream",
     "text": [
      "Problem: http://enterpriseapps.itbusinessnet.com/2021/04/telefonica-and-liberty-global-announce-ceo-and-cfo-for-proposed-uk-joint-venture-between-o2-and-virgin-media/: HTTPConnectionPool(host='enterpriseapps.itbusinessnet.com', port=80): Max retries exceeded with url: /2021/04/telefonica-and-liberty-global-announce-ceo-and-cfo-for-proposed-uk-joint-venture-between-o2-and-virgin-media/ (Caused by NewConnectionError('<urllib3.connection.HTTPConnection object at 0x7f5365548d60>: Failed to establish a new connection: [Errno -2] Name or service not known'))\n",
      "Problem: http://security.itbusinessnet.com/2021/04/telefonica-and-liberty-global-announce-ceo-and-cfo-for-proposed-uk-joint-venture-between-o2-and-virgin-media/: HTTPConnectionPool(host='security.itbusinessnet.com', port=80): Max retries exceeded with url: /2021/04/telefonica-and-liberty-global-announce-ceo-and-cfo-for-proposed-uk-joint-venture-between-o2-and-virgin-media/ (Caused by NewConnectionError('<urllib3.connection.HTTPConnection object at 0x7f5365548340>: Failed to establish a new connection: [Errno -2] Name or service not known'))\n",
      "Problem: http://networking.itbusinessnet.com/2021/04/telefonica-and-liberty-global-announce-ceo-and-cfo-for-proposed-uk-joint-venture-between-o2-and-virgin-media/: HTTPConnectionPool(host='networking.itbusinessnet.com', port=80): Max retries exceeded with url: /2021/04/telefonica-and-liberty-global-announce-ceo-and-cfo-for-proposed-uk-joint-venture-between-o2-and-virgin-media/ (Caused by NewConnectionError('<urllib3.connection.HTTPConnection object at 0x7f53655487f0>: Failed to establish a new connection: [Errno -2] Name or service not known'))\n",
      "Problem: http://softwaredev.itbusinessnet.com/2021/04/telefonica-and-liberty-global-announce-ceo-and-cfo-for-proposed-uk-joint-venture-between-o2-and-virgin-media/: HTTPConnectionPool(host='softwaredev.itbusinessnet.com', port=80): Max retries exceeded with url: /2021/04/telefonica-and-liberty-global-announce-ceo-and-cfo-for-proposed-uk-joint-venture-between-o2-and-virgin-media/ (Caused by NewConnectionError('<urllib3.connection.HTTPConnection object at 0x7f537e7e4d00>: Failed to establish a new connection: [Errno -2] Name or service not known'))\n",
      "Problem: http://hardware.itbusinessnet.com/2021/04/telefonica-and-liberty-global-announce-ceo-and-cfo-for-proposed-uk-joint-venture-between-o2-and-virgin-media/: HTTPConnectionPool(host='hardware.itbusinessnet.com', port=80): Max retries exceeded with url: /2021/04/telefonica-and-liberty-global-announce-ceo-and-cfo-for-proposed-uk-joint-venture-between-o2-and-virgin-media/ (Caused by NewConnectionError('<urllib3.connection.HTTPConnection object at 0x7f537e7e4be0>: Failed to establish a new connection: [Errno -2] Name or service not known'))\n",
      "Problem: http://internet.itbusinessnet.com/2021/04/telefonica-and-liberty-global-announce-ceo-and-cfo-for-proposed-uk-joint-venture-between-o2-and-virgin-media/: HTTPConnectionPool(host='internet.itbusinessnet.com', port=80): Max retries exceeded with url: /2021/04/telefonica-and-liberty-global-announce-ceo-and-cfo-for-proposed-uk-joint-venture-between-o2-and-virgin-media/ (Caused by NewConnectionError('<urllib3.connection.HTTPConnection object at 0x7f533bc0c1c0>: Failed to establish a new connection: [Errno -2] Name or service not known'))\n",
      "Problem: https://ewn.co.za/2021/02/16/warner-music-demands-german-police-pay-up-for-jerusalema-videos: HTTPSConnectionPool(host='ewn.co.za', port=443): Read timed out. (read timeout=10)\n"
     ]
    },
    {
     "name": "stderr",
     "output_type": "stream",
     "text": [
      "\r",
      " 84%|████████████████████████████████▋      | 784/934 [1:08:11<16:58,  6.79s/it]"
     ]
    },
    {
     "name": "stdout",
     "output_type": "stream",
     "text": [
      "Problem: https://xornalgalicia.com/xunta-de-galicia/10828-babcock-no-paga-lo-que-tiene-que-pagar-a-las-tripulaciones-estan-con-una-sancion-de-9-000-000-por-audiencia-nacional-ratificada-por-el-tribunal-supremo-pero-aqui-no-pasa-nada-de-premio-un-contrato-de-15-000-000: HTTPSConnectionPool(host='xornalgalicia.com', port=443): Read timed out. (read timeout=10)\n"
     ]
    },
    {
     "name": "stderr",
     "output_type": "stream",
     "text": [
      " 84%|████████████████████████████████▊      | 786/934 [1:08:28<18:49,  7.63s/it]"
     ]
    },
    {
     "name": "stdout",
     "output_type": "stream",
     "text": [
      "Problem: https://www.thechronicle.com.au/business/companies?nk=0dd6ca924e28ba87ea8d904f1f4e5b41-1616543296: HTTPSConnectionPool(host='www.thechronicle.com.au', port=443): Read timed out. (read timeout=10)\n"
     ]
    },
    {
     "name": "stderr",
     "output_type": "stream",
     "text": [
      " 84%|████████████████████████████████▉      | 788/934 [1:08:44<18:02,  7.41s/it]"
     ]
    },
    {
     "name": "stdout",
     "output_type": "stream",
     "text": [
      "Problem: https://www.einnews.com/pr_news/542939767/gazprom-neft-and-novatek-establish-a-joint-venture-for-offshore-operations-in-the-arctic: HTTPSConnectionPool(host='www.einnews.com', port=443): Read timed out. (read timeout=10)\n"
     ]
    },
    {
     "name": "stderr",
     "output_type": "stream",
     "text": [
      "\r",
      " 84%|████████████████████████████████▉      | 789/934 [1:08:55<20:16,  8.39s/it]"
     ]
    },
    {
     "name": "stdout",
     "output_type": "stream",
     "text": [
      "Problem: http://news.cheshi.com/dujia/20210324/3322373.shtml: Exceeded 30 redirects.\n"
     ]
    },
    {
     "name": "stderr",
     "output_type": "stream",
     "text": [
      " 85%|█████████████████████████████████      | 791/934 [1:09:17<22:15,  9.34s/it]"
     ]
    },
    {
     "name": "stdout",
     "output_type": "stream",
     "text": [
      "Problem: https://www.newswiretoday.com/news/174524/: HTTPSConnectionPool(host='www.newswiretoday.com', port=443): Max retries exceeded with url: /news/174524/ (Caused by SSLError(SSLCertVerificationError(1, '[SSL: CERTIFICATE_VERIFY_FAILED] certificate verify failed: unable to get local issuer certificate (_ssl.c:1129)')))\n"
     ]
    },
    {
     "name": "stderr",
     "output_type": "stream",
     "text": [
      "\r",
      " 85%|█████████████████████████████████      | 792/934 [1:09:24<20:53,  8.82s/it]"
     ]
    },
    {
     "name": "stdout",
     "output_type": "stream",
     "text": [
      "Problem: https://www.newswiretoday.com/news/174693/: HTTPSConnectionPool(host='www.newswiretoday.com', port=443): Max retries exceeded with url: /news/174693/ (Caused by SSLError(SSLCertVerificationError(1, '[SSL: CERTIFICATE_VERIFY_FAILED] certificate verify failed: unable to get local issuer certificate (_ssl.c:1129)')))\n"
     ]
    },
    {
     "name": "stderr",
     "output_type": "stream",
     "text": [
      "\r",
      " 85%|█████████████████████████████████      | 793/934 [1:09:27<16:26,  7.00s/it]"
     ]
    },
    {
     "name": "stdout",
     "output_type": "stream",
     "text": [
      "Problem: https://www.newswire.ca/news-releases/george-weston-limited-announces-the-sale-of-its-weston-foods-fresh-and-frozen-businesses-811633272.html: HTTPSConnectionPool(host='www.newswire.ca', port=443): Read timed out. (read timeout=10)\n",
      "Problem: http://security.itbusinessnet.com/2021/01/hilton-announces-pricing-of-senior-notes-offering/: HTTPConnectionPool(host='security.itbusinessnet.com', port=80): Max retries exceeded with url: /2021/01/hilton-announces-pricing-of-senior-notes-offering/ (Caused by NewConnectionError('<urllib3.connection.HTTPConnection object at 0x7f5347507b20>: Failed to establish a new connection: [Errno -2] Name or service not known'))\n",
      "Problem: http://hardware.itbusinessnet.com/2021/01/hilton-announces-pricing-of-senior-notes-offering/: HTTPConnectionPool(host='hardware.itbusinessnet.com', port=80): Max retries exceeded with url: /2021/01/hilton-announces-pricing-of-senior-notes-offering/ (Caused by NewConnectionError('<urllib3.connection.HTTPConnection object at 0x7f537c1c4190>: Failed to establish a new connection: [Errno -2] Name or service not known'))\n",
      "Problem: http://enterpriseapps.itbusinessnet.com/2021/01/hilton-announces-pricing-of-senior-notes-offering/: HTTPConnectionPool(host='enterpriseapps.itbusinessnet.com', port=80): Max retries exceeded with url: /2021/01/hilton-announces-pricing-of-senior-notes-offering/ (Caused by NewConnectionError('<urllib3.connection.HTTPConnection object at 0x7f537c1c47c0>: Failed to establish a new connection: [Errno -2] Name or service not known'))\n",
      "Problem: http://cloud.itbusinessnet.com/2021/01/hilton-announces-pricing-of-senior-notes-offering/: HTTPConnectionPool(host='cloud.itbusinessnet.com', port=80): Max retries exceeded with url: /2021/01/hilton-announces-pricing-of-senior-notes-offering/ (Caused by NewConnectionError('<urllib3.connection.HTTPConnection object at 0x7f537c1c4df0>: Failed to establish a new connection: [Errno -2] Name or service not known'))\n",
      "Problem: http://softwaredev.itbusinessnet.com/2021/01/hilton-announces-pricing-of-senior-notes-offering/: HTTPConnectionPool(host='softwaredev.itbusinessnet.com', port=80): Max retries exceeded with url: /2021/01/hilton-announces-pricing-of-senior-notes-offering/ (Caused by NewConnectionError('<urllib3.connection.HTTPConnection object at 0x7f537c1c2460>: Failed to establish a new connection: [Errno -2] Name or service not known'))\n"
     ]
    },
    {
     "name": "stderr",
     "output_type": "stream",
     "text": [
      " 87%|█████████████████████████████████▊     | 810/934 [1:10:33<07:14,  3.51s/it]"
     ]
    },
    {
     "name": "stdout",
     "output_type": "stream",
     "text": [
      "Problem: http://spanishvida.com/2018/06/13/highway-robbers-arrested/: HTTPConnectionPool(host='spanishvida.com', port=80): Read timed out. (read timeout=10)\n",
      "Problem: http://spanishvida.com/2018/06/13/highway-robbers-arrested/: HTTPConnectionPool(host='spanishvida.com', port=80): Read timed out. (read timeout=10)\n",
      "Problem: http://spanishvida.com/2018/06/13/highway-robbers-arrested/: HTTPConnectionPool(host='spanishvida.com', port=80): Read timed out. (read timeout=10)\n",
      "Problem: http://spanishvida.com/2018/06/13/highway-robbers-arrested/: HTTPConnectionPool(host='spanishvida.com', port=80): Read timed out. (read timeout=10)\n",
      "Problem: http://spanishvida.com/2018/06/13/highway-robbers-arrested/: HTTPConnectionPool(host='spanishvida.com', port=80): Read timed out. (read timeout=10)\n",
      "Problem: http://spanishvida.com/2018/06/13/highway-robbers-arrested/: HTTPConnectionPool(host='spanishvida.com', port=80): Read timed out. (read timeout=10)\n",
      "Problem: http://spanishvida.com/2018/06/13/highway-robbers-arrested/: HTTPConnectionPool(host='spanishvida.com', port=80): Read timed out. (read timeout=10)\n"
     ]
    },
    {
     "name": "stderr",
     "output_type": "stream",
     "text": [
      " 87%|█████████████████████████████████▉     | 813/934 [1:11:01<14:03,  6.97s/it]"
     ]
    },
    {
     "name": "stdout",
     "output_type": "stream",
     "text": [
      "Problem: https://www.newswiretoday.com/news/175422/: HTTPSConnectionPool(host='www.newswiretoday.com', port=443): Max retries exceeded with url: /news/175422/ (Caused by SSLError(SSLCertVerificationError(1, '[SSL: CERTIFICATE_VERIFY_FAILED] certificate verify failed: unable to get local issuer certificate (_ssl.c:1129)')))\n"
     ]
    },
    {
     "name": "stderr",
     "output_type": "stream",
     "text": [
      " 88%|██████████████████████████████████▏    | 819/934 [1:11:33<12:44,  6.64s/it]"
     ]
    },
    {
     "name": "stdout",
     "output_type": "stream",
     "text": [
      "Problem: https://www.newswiretoday.com/news/175347/: HTTPSConnectionPool(host='www.newswiretoday.com', port=443): Max retries exceeded with url: /news/175347/ (Caused by SSLError(SSLCertVerificationError(1, '[SSL: CERTIFICATE_VERIFY_FAILED] certificate verify failed: unable to get local issuer certificate (_ssl.c:1129)')))\n",
      "Problem: https://www.newswiretoday.com/news/175347/: HTTPSConnectionPool(host='www.newswiretoday.com', port=443): Max retries exceeded with url: /news/175347/ (Caused by SSLError(SSLCertVerificationError(1, '[SSL: CERTIFICATE_VERIFY_FAILED] certificate verify failed: unable to get local issuer certificate (_ssl.c:1129)')))\n",
      "Problem: https://www.newswiretoday.com/news/174666/Mondi-Enters-Low-white-Recycled-Office-Paper-Market-with-NAUTILUS-Elemental-Awarded-with-Blue-Angel-Certification/: HTTPSConnectionPool(host='www.newswiretoday.com', port=443): Max retries exceeded with url: /news/174666/Mondi-Enters-Low-white-Recycled-Office-Paper-Market-with-NAUTILUS-Elemental-Awarded-with-Blue-Angel-Certification/ (Caused by SSLError(SSLCertVerificationError(1, '[SSL: CERTIFICATE_VERIFY_FAILED] certificate verify failed: unable to get local issuer certificate (_ssl.c:1129)')))\n"
     ]
    },
    {
     "name": "stderr",
     "output_type": "stream",
     "text": [
      " 88%|██████████████████████████████████▍    | 824/934 [1:11:52<08:59,  4.91s/it]"
     ]
    },
    {
     "name": "stdout",
     "output_type": "stream",
     "text": [
      "Problem: https://www.bnnbloomberg.ca/chinese-stocks-slump-as-upbeat-data-deepens-liquidity-concerns-1.1577087: HTTPSConnectionPool(host='www.bnnbloomberg.ca', port=443): Read timed out. (read timeout=10)\n"
     ]
    },
    {
     "name": "stderr",
     "output_type": "stream",
     "text": [
      " 89%|██████████████████████████████████▋    | 831/934 [1:12:25<06:56,  4.04s/it]"
     ]
    },
    {
     "name": "stdout",
     "output_type": "stream",
     "text": [
      "Problem: http://en.acnnewswire.com/press-release/english/64061/nucrop---hybrid-electric-crop-protection,-nufarm-and-crop.zone-launch-new-brand-for-alternative-weed-control: HTTPSConnectionPool(host='en.acnnewswire.comhttps', port=443): Max retries exceeded with url: //en.a?Art_ID=64061&lang=english (Caused by NewConnectionError('<urllib3.connection.HTTPSConnection object at 0x7f53478dca90>: Failed to establish a new connection: [Errno -2] Name or service not known'))\n"
     ]
    },
    {
     "name": "stderr",
     "output_type": "stream",
     "text": [
      " 89%|██████████████████████████████████▊    | 835/934 [1:12:43<07:22,  4.47s/it]"
     ]
    },
    {
     "name": "stdout",
     "output_type": "stream",
     "text": [
      "Problem: https://rg.ru/2021/11/19/sber-stal-edinstvennoj-kompaniej-iz-rossii-voshedshej-v-top-rabotodatelej-mirovogo-rejtinga.html: HTTPSConnectionPool(host='rg.ru', port=443): Max retries exceeded with url: /2021/11/19/sber-stal-edinstvennoj-kompaniej-iz-rossii-voshedshej-v-top-rabotodatelej-mirovogo-rejtinga.html (Caused by ConnectTimeoutError(<urllib3.connection.HTTPSConnection object at 0x7f533bbf8df0>, 'Connection to rg.ru timed out. (connect timeout=10)'))\n",
      "Problem: https://belmarket.by/news/2021/11/22/news-48212.html: HTTPSConnectionPool(host='belmarket.by', port=443): Max retries exceeded with url: /news/2021/11/22/news-48212.html (Caused by ConnectTimeoutError(<urllib3.connection.HTTPSConnection object at 0x7f5347ca14c0>, 'Connection to belmarket.by timed out. (connect timeout=10)'))\n"
     ]
    },
    {
     "name": "stderr",
     "output_type": "stream",
     "text": [
      " 90%|███████████████████████████████████    | 839/934 [1:13:13<09:51,  6.23s/it]"
     ]
    },
    {
     "name": "stdout",
     "output_type": "stream",
     "text": [
      "Problem: https://www.newswiretoday.com/news/175294/: HTTPSConnectionPool(host='www.newswiretoday.com', port=443): Max retries exceeded with url: /news/175294/ (Caused by SSLError(SSLCertVerificationError(1, '[SSL: CERTIFICATE_VERIFY_FAILED] certificate verify failed: unable to get local issuer certificate (_ssl.c:1129)')))\n",
      "Problem: https://www.newswiretoday.com/news/175294/ANDRITZ-Nonwoven-Offers-Innovative-Solutions-for-Optimization-of-Raw-Material-Consumption/: HTTPSConnectionPool(host='www.newswiretoday.com', port=443): Max retries exceeded with url: /news/175294/ANDRITZ-Nonwoven-Offers-Innovative-Solutions-for-Optimization-of-Raw-Material-Consumption/ (Caused by SSLError(SSLCertVerificationError(1, '[SSL: CERTIFICATE_VERIFY_FAILED] certificate verify failed: unable to get local issuer certificate (_ssl.c:1129)')))\n",
      "Problem: https://www.newswiretoday.com/news/175294/: HTTPSConnectionPool(host='www.newswiretoday.com', port=443): Max retries exceeded with url: /news/175294/ (Caused by SSLError(SSLCertVerificationError(1, '[SSL: CERTIFICATE_VERIFY_FAILED] certificate verify failed: unable to get local issuer certificate (_ssl.c:1129)')))\n"
     ]
    },
    {
     "name": "stderr",
     "output_type": "stream",
     "text": [
      " 90%|███████████████████████████████████▏   | 842/934 [1:13:24<07:13,  4.71s/it]"
     ]
    },
    {
     "name": "stdout",
     "output_type": "stream",
     "text": [
      "Problem: https://www.indiantelevision.com/mam/marketing/mam/tata-consumer-products-strengthens-beverages-wellness-portfolio-with-new-product-launches-and-existing-product-enhancement-210112: HTTPSConnectionPool(host='www.indiantelevision.com', port=443): Read timed out. (read timeout=10)\n"
     ]
    },
    {
     "name": "stderr",
     "output_type": "stream",
     "text": [
      "\r",
      " 90%|███████████████████████████████████▏   | 843/934 [1:13:35<10:13,  6.74s/it]"
     ]
    },
    {
     "name": "stdout",
     "output_type": "stream",
     "text": [
      "Problem: https://zdnet.co.kr/view/?no=20210428110702: ('Connection aborted.', ConnectionResetError(104, 'Connection reset by peer'))\n"
     ]
    },
    {
     "name": "stderr",
     "output_type": "stream",
     "text": [
      "\r",
      " 90%|███████████████████████████████████▏   | 844/934 [1:13:47<12:25,  8.29s/it]"
     ]
    },
    {
     "name": "stdout",
     "output_type": "stream",
     "text": [
      "Problem: https://zdnet.co.kr/view/?no=20210315134548: ('Connection aborted.', ConnectionResetError(104, 'Connection reset by peer'))\n"
     ]
    },
    {
     "name": "stderr",
     "output_type": "stream",
     "text": [
      " 91%|███████████████████████████████████▌   | 851/934 [1:14:22<05:55,  4.28s/it]"
     ]
    },
    {
     "name": "stdout",
     "output_type": "stream",
     "text": [
      "Problem: https://www.newswiretoday.com/news/176428/: HTTPSConnectionPool(host='www.newswiretoday.com', port=443): Max retries exceeded with url: /news/176428/ (Caused by SSLError(SSLCertVerificationError(1, '[SSL: CERTIFICATE_VERIFY_FAILED] certificate verify failed: unable to get local issuer certificate (_ssl.c:1129)')))\n"
     ]
    },
    {
     "name": "stderr",
     "output_type": "stream",
     "text": [
      "\r",
      " 91%|███████████████████████████████████▌   | 852/934 [1:14:28<06:29,  4.75s/it]"
     ]
    },
    {
     "name": "stdout",
     "output_type": "stream",
     "text": [
      "Problem: https://www.newswiretoday.com/news/176428/: HTTPSConnectionPool(host='www.newswiretoday.com', port=443): Max retries exceeded with url: /news/176428/ (Caused by SSLError(SSLCertVerificationError(1, '[SSL: CERTIFICATE_VERIFY_FAILED] certificate verify failed: unable to get local issuer certificate (_ssl.c:1129)')))\n"
     ]
    },
    {
     "name": "stderr",
     "output_type": "stream",
     "text": [
      " 92%|███████████████████████████████████▉   | 861/934 [1:15:02<04:34,  3.76s/it]"
     ]
    },
    {
     "name": "stdout",
     "output_type": "stream",
     "text": [
      "Problem: https://www.sn.at/wirtschaft/oesterreich/help-palmers-nimmt-hygiene-austria-masken-nicht-zurueck-101062375: HTTPSConnectionPool(host='www.sn.at', port=443): Read timed out. (read timeout=10)\n",
      "Problem: https://www.fibre2fashion.com/news/textile-news/austrian-textile-firm-lenzing-swings-back-to-profit-in-third-quarter-277226-newsdetails.htm: HTTPSConnectionPool(host='www.fibre2fashion.com', port=443): Read timed out. (read timeout=10)\n",
      "Problem: https://www.fibre2fashion.com/news/textile-news/austrian-firm-lenzing-group-publishes-sustainability-report-2020-273606-newsdetails.htm: HTTPSConnectionPool(host='www.fibre2fashion.com', port=443): Read timed out. (read timeout=10)\n",
      "Problem: https://www.investegate.co.uk/imi-plc--imi-/rns/interim-management-statement/202104260700075139W/: HTTPSConnectionPool(host='www.investegate.co.uk', port=443): Read timed out. (read timeout=10)\n"
     ]
    },
    {
     "name": "stderr",
     "output_type": "stream",
     "text": [
      " 92%|████████████████████████████████████   | 863/934 [1:15:18<06:56,  5.86s/it]"
     ]
    },
    {
     "name": "stdout",
     "output_type": "stream",
     "text": [
      "Problem: https://www.investegate.co.uk/News/spectris-expects-annual-profit-at-upper-end-of-market-forecasts/902193/: HTTPSConnectionPool(host='www.investegate.co.uk', port=443): Read timed out. (read timeout=10)\n",
      "Problem: https://www.investegate.co.uk/News/Spectris%20expects%20annual%20profit%20at%20upper%20end%20of%20market%20forecasts/902193/: HTTPSConnectionPool(host='www.investegate.co.uk', port=443): Read timed out. (read timeout=10)\n"
     ]
    },
    {
     "name": "stderr",
     "output_type": "stream",
     "text": [
      " 93%|████████████████████████████████████   | 865/934 [1:15:30<06:12,  5.40s/it]"
     ]
    },
    {
     "name": "stdout",
     "output_type": "stream",
     "text": [
      "Problem: http://networking.itbusinessnet.com/2021/01/new-final-terms-for-euro-medium-term-note-programme-nykredit-realkredit-a-s/: HTTPConnectionPool(host='networking.itbusinessnet.com', port=80): Max retries exceeded with url: /2021/01/new-final-terms-for-euro-medium-term-note-programme-nykredit-realkredit-a-s/ (Caused by NewConnectionError('<urllib3.connection.HTTPConnection object at 0x7f53475dbe50>: Failed to establish a new connection: [Errno -2] Name or service not known'))\n",
      "Problem: http://business.itbusinessnet.com/2021/01/new-final-terms-for-euro-medium-term-note-programme-nykredit-realkredit-a-s/: HTTPConnectionPool(host='business.itbusinessnet.com', port=80): Max retries exceeded with url: /2021/01/new-final-terms-for-euro-medium-term-note-programme-nykredit-realkredit-a-s/ (Caused by NewConnectionError('<urllib3.connection.HTTPConnection object at 0x7f533bed0100>: Failed to establish a new connection: [Errno -2] Name or service not known'))\n"
     ]
    },
    {
     "name": "stderr",
     "output_type": "stream",
     "text": [
      "\r",
      " 93%|████████████████████████████████████▏  | 866/934 [1:15:34<05:40,  5.01s/it]"
     ]
    },
    {
     "name": "stdout",
     "output_type": "stream",
     "text": [
      "Problem: http://leboncoin.nu/finance/other/altice-sfr-va-retirer-un-montant-colossal-de-la-vente-de-ses-parts-dans-hivory/ar-BB1dmB9D: HTTPConnectionPool(host='leboncoin.nu', port=80): Max retries exceeded with url: /finance/other/altice-sfr-va-retirer-un-montant-colossal-de-la-vente-de-ses-parts-dans-hivory/ar-BB1dmB9D (Caused by NewConnectionError('<urllib3.connection.HTTPConnection object at 0x7f534759ed90>: Failed to establish a new connection: [Errno -2] Name or service not known'))\n"
     ]
    },
    {
     "name": "stderr",
     "output_type": "stream",
     "text": [
      "\r",
      " 93%|████████████████████████████████████▏  | 867/934 [1:15:39<05:30,  4.94s/it]"
     ]
    },
    {
     "name": "stdout",
     "output_type": "stream",
     "text": [
      "Problem: https://www.areadevelopment.com/newsitems/5-3-2021/modine-manufacturing-company-rockbridge-county-virginia.shtml: HTTPSConnectionPool(host='www.areadevelopment.com', port=443): Read timed out. (read timeout=10)\n"
     ]
    },
    {
     "name": "stderr",
     "output_type": "stream",
     "text": [
      " 93%|████████████████████████████████████▎  | 871/934 [1:16:07<06:00,  5.72s/it]"
     ]
    },
    {
     "name": "stdout",
     "output_type": "stream",
     "text": [
      "Problem: http://seoul.co.kr/news/newsView.php?id=20210317019002: (\"Connection broken: ConnectionResetError(104, 'Connection reset by peer')\", ConnectionResetError(104, 'Connection reset by peer'))\n"
     ]
    },
    {
     "name": "stderr",
     "output_type": "stream",
     "text": [
      " 94%|████████████████████████████████████▌  | 876/934 [1:17:01<06:48,  7.04s/it]"
     ]
    },
    {
     "name": "stdout",
     "output_type": "stream",
     "text": [
      "Problem: https://www.rbc.ru/finances/23/12/2020/5fe2151f9a79471fd3474c35: ('Connection aborted.', RemoteDisconnected('Remote end closed connection without response'))\n",
      "Problem: https://www.rbc.ru/finances/23/12/2020/5fe203ce9a79470ff478620b: ('Connection aborted.', RemoteDisconnected('Remote end closed connection without response'))\n",
      "Problem: https://www.mk.ru/social/2021/11/07/ekspert-rasskazal-o-riskakh-bystrogo-perekhoda-k-vozobnovlyaemym-resursam.html: HTTPSConnectionPool(host='www.mk.ru', port=443): Max retries exceeded with url: /social/2021/11/07/ekspert-rasskazal-o-riskakh-bystrogo-perekhoda-k-vozobnovlyaemym-resursam.html (Caused by ConnectTimeoutError(<urllib3.connection.HTTPSConnection object at 0x7f537f08d3d0>, 'Connection to www.mk.ru timed out. (connect timeout=10)'))\n"
     ]
    },
    {
     "name": "stderr",
     "output_type": "stream",
     "text": [
      "\r",
      " 94%|████████████████████████████████████▌  | 877/934 [1:17:11<07:38,  8.04s/it]"
     ]
    },
    {
     "name": "stdout",
     "output_type": "stream",
     "text": [
      "Problem: https://www.rbc.ru/finances/23/12/2020/5fe203ce9a79470ff478620b: HTTPSConnectionPool(host='www.rbc.ru', port=443): Max retries exceeded with url: /finances/23/12/2020/5fe203ce9a79470ff478620b (Caused by ConnectTimeoutError(<urllib3.connection.HTTPSConnection object at 0x7f536553edc0>, 'Connection to www.rbc.ru timed out. (connect timeout=10)'))\n",
      "Problem: https://www.rbc.ru/finances/23/12/2020/5fe2151f9a79471fd3474c35: HTTPSConnectionPool(host='www.rbc.ru', port=443): Max retries exceeded with url: /finances/23/12/2020/5fe2151f9a79471fd3474c35 (Caused by ConnectTimeoutError(<urllib3.connection.HTTPSConnection object at 0x7f53651ca5e0>, 'Connection to www.rbc.ru timed out. (connect timeout=10)'))\n",
      "Problem: https://www.rbc.ru/finances/23/12/2020/5fe203ce9a79470ff478620b: HTTPSConnectionPool(host='www.rbc.ru', port=443): Max retries exceeded with url: /finances/23/12/2020/5fe203ce9a79470ff478620b (Caused by ConnectTimeoutError(<urllib3.connection.HTTPSConnection object at 0x7f53651cab80>, 'Connection to www.rbc.ru timed out. (connect timeout=10)'))\n"
     ]
    },
    {
     "name": "stderr",
     "output_type": "stream",
     "text": [
      " 94%|████████████████████████████████████▋  | 879/934 [1:17:24<06:18,  6.88s/it]"
     ]
    },
    {
     "name": "stdout",
     "output_type": "stream",
     "text": [
      "Problem: http://humanitariannews.org/20210401/owens-corning-publishes-15th-annual-sustainability-report: HTTPConnectionPool(host='humanitariannews.org', port=80): Max retries exceeded with url: /20210401/owens-corning-publishes-15th-annual-sustainability-report (Caused by ConnectTimeoutError(<urllib3.connection.HTTPConnection object at 0x7f533bbdf7c0>, 'Connection to humanitariannews.org timed out. (connect timeout=10)'))\n",
      "Problem: https://www.newswiretoday.com/news/176374/: HTTPSConnectionPool(host='www.newswiretoday.com', port=443): Max retries exceeded with url: /news/176374/ (Caused by SSLError(SSLCertVerificationError(1, '[SSL: CERTIFICATE_VERIFY_FAILED] certificate verify failed: unable to get local issuer certificate (_ssl.c:1129)')))\n"
     ]
    },
    {
     "name": "stderr",
     "output_type": "stream",
     "text": [
      "\r",
      " 94%|████████████████████████████████████▋  | 880/934 [1:17:35<07:07,  7.91s/it]"
     ]
    },
    {
     "name": "stdout",
     "output_type": "stream",
     "text": [
      "Problem: https://www.lesaffaires.com/bourse/analyses-de-titres/a-surveiller-air-canada-lightspeed-et-gildan/623599: HTTPSConnectionPool(host='www.lesaffaires.com', port=443): Read timed out. (read timeout=10)\n"
     ]
    },
    {
     "name": "stderr",
     "output_type": "stream",
     "text": [
      " 94%|████████████████████████████████████▊  | 882/934 [1:17:56<08:01,  9.25s/it]"
     ]
    },
    {
     "name": "stdout",
     "output_type": "stream",
     "text": [
      "Problem: https://www.lesaffaires.com/bourse/analyses-de-titres/a-surveiller--gildan-cgi-et-air-canada/627780: HTTPSConnectionPool(host='www.lesaffaires.com', port=443): Read timed out. (read timeout=10)\n",
      "Problem: https://www.lesaffaires.com/bourse/analyses-de-titres/a-surveiller-gildan-lightspeed-et-nuvei/628659: HTTPSConnectionPool(host='www.lesaffaires.com', port=443): Read timed out. (read timeout=10)\n",
      "Problem: https://www.lesaffaires.com/bourse/analyses-de-titres/a-surveiller-banque-royale-quebecor-et-gildan-/617950: HTTPSConnectionPool(host='www.lesaffaires.com', port=443): Read timed out. (read timeout=10)\n",
      "Problem: http://www.latpro.com/jobs/3788837.html: HTTPSConnectionPool(host='www.latpro.com', port=443): Max retries exceeded with url: /jobs/3788837.html (Caused by SSLError(SSLCertVerificationError(1, '[SSL: CERTIFICATE_VERIFY_FAILED] certificate verify failed: unable to get local issuer certificate (_ssl.c:1129)')))\n"
     ]
    },
    {
     "name": "stderr",
     "output_type": "stream",
     "text": [
      " 95%|████████████████████████████████████▉  | 885/934 [1:18:05<04:14,  5.20s/it]"
     ]
    },
    {
     "name": "stdout",
     "output_type": "stream",
     "text": [
      "Problem: https://energy.einnews.com/pr_news/534879744/mueller-water-products-announces-dates-for-first-quarter-2021-earnings-release-and-conference-call: HTTPSConnectionPool(host='energy.einnews.com', port=443): Read timed out. (read timeout=10)\n"
     ]
    },
    {
     "name": "stderr",
     "output_type": "stream",
     "text": [
      " 95%|█████████████████████████████████████  | 887/934 [1:18:27<06:25,  8.20s/it]"
     ]
    },
    {
     "name": "stdout",
     "output_type": "stream",
     "text": [
      "Problem: https://energy.einnews.com/pr_news/535219959/mueller-water-products-reports-2021-first-quarter-results: HTTPSConnectionPool(host='energy.einnews.com', port=443): Read timed out. (read timeout=10)\n"
     ]
    },
    {
     "name": "stderr",
     "output_type": "stream",
     "text": [
      " 96%|█████████████████████████████████████▏ | 892/934 [1:18:43<03:06,  4.43s/it]"
     ]
    },
    {
     "name": "stdout",
     "output_type": "stream",
     "text": [
      "Problem: https://www.markets.co/analysts-top-healthcare-picks-siemens-healthineers-ag-semhf-bridgebio-pharma-bbio/339070/: HTTPSConnectionPool(host='www.markets.co', port=443): Max retries exceeded with url: /analysts-top-healthcare-picks-siemens-healthineers-ag-semhf-bridgebio-pharma-bbio/339070/ (Caused by SSLError(SSLCertVerificationError(1, '[SSL: CERTIFICATE_VERIFY_FAILED] certificate verify failed: certificate has expired (_ssl.c:1129)')))\n"
     ]
    },
    {
     "name": "stderr",
     "output_type": "stream",
     "text": [
      "\r",
      " 96%|█████████████████████████████████████▎ | 893/934 [1:18:56<04:41,  6.87s/it]"
     ]
    },
    {
     "name": "stdout",
     "output_type": "stream",
     "text": [
      "Problem: http://internet.itbusinessnet.com/2021/02/spectrum-brands-announces-tender-offer-and-consent-solicitation-for-6-125-senior-notes-due-2024-and-tender-offer-for-5-75-senior-notes-due-2025/: HTTPConnectionPool(host='internet.itbusinessnet.com', port=80): Max retries exceeded with url: /2021/02/spectrum-brands-announces-tender-offer-and-consent-solicitation-for-6-125-senior-notes-due-2024-and-tender-offer-for-5-75-senior-notes-due-2025/ (Caused by NewConnectionError('<urllib3.connection.HTTPConnection object at 0x7f5365764eb0>: Failed to establish a new connection: [Errno -2] Name or service not known'))\n"
     ]
    },
    {
     "name": "stderr",
     "output_type": "stream",
     "text": [
      " 96%|█████████████████████████████████████▍ | 896/934 [1:19:07<03:03,  4.83s/it]"
     ]
    },
    {
     "name": "stdout",
     "output_type": "stream",
     "text": [
      "Problem: https://www.newswiretoday.com/news/176319/: HTTPSConnectionPool(host='www.newswiretoday.com', port=443): Max retries exceeded with url: /news/176319/ (Caused by SSLError(SSLCertVerificationError(1, '[SSL: CERTIFICATE_VERIFY_FAILED] certificate verify failed: unable to get local issuer certificate (_ssl.c:1129)')))\n"
     ]
    },
    {
     "name": "stderr",
     "output_type": "stream",
     "text": [
      " 97%|█████████████████████████████████████▋ | 904/934 [1:19:32<01:34,  3.14s/it]"
     ]
    },
    {
     "name": "stdout",
     "output_type": "stream",
     "text": [
      "Problem: https://www.aa.com.tr/en/economy/turkey-e-commerce-volume-expected-to-double-in-2021/2223313: ('Connection aborted.', ConnectionResetError(104, 'Connection reset by peer'))\n"
     ]
    },
    {
     "name": "stderr",
     "output_type": "stream",
     "text": [
      "\r",
      " 97%|█████████████████████████████████████▊ | 905/934 [1:19:39<02:02,  4.22s/it]"
     ]
    },
    {
     "name": "stdout",
     "output_type": "stream",
     "text": [
      "Problem: https://www.alleywatch.com/tag/andy-katz-mayfield/: HTTPSConnectionPool(host='www.alleywatch.com', port=443): Read timed out. (read timeout=10)\n"
     ]
    },
    {
     "name": "stderr",
     "output_type": "stream",
     "text": [
      " 98%|██████████████████████████████████████ | 912/934 [1:20:16<01:35,  4.35s/it]"
     ]
    },
    {
     "name": "stdout",
     "output_type": "stream",
     "text": [
      "Problem: https://energy.einnews.com/pr_news/539235861/middlesex-water-company-declares-quarterly-cash-dividend-announces-virtual-annual-meeting: HTTPSConnectionPool(host='energy.einnews.com', port=443): Read timed out. (read timeout=10)\n"
     ]
    },
    {
     "name": "stderr",
     "output_type": "stream",
     "text": [
      " 98%|██████████████████████████████████████▏| 914/934 [1:20:30<01:46,  5.30s/it]"
     ]
    },
    {
     "name": "stdout",
     "output_type": "stream",
     "text": [
      "Problem: https://www.hellenicshippingnews.com/noble-corporation-reports-first-quarter-2021-results/: HTTPSConnectionPool(host='www.hellenicshippingnews.com', port=443): Read timed out. (read timeout=10)\n"
     ]
    },
    {
     "name": "stderr",
     "output_type": "stream",
     "text": [
      "\r",
      " 98%|██████████████████████████████████████▏| 915/934 [1:20:41<02:09,  6.83s/it]"
     ]
    },
    {
     "name": "stdout",
     "output_type": "stream",
     "text": [
      "Problem: https://energy.einnews.com/pr_news/538671035/denbury-schedules-first-quarter-earnings-release-conference-call-and-webcast-for-may-6-2021: HTTPSConnectionPool(host='energy.einnews.com', port=443): Read timed out. (read timeout=10)\n"
     ]
    },
    {
     "name": "stderr",
     "output_type": "stream",
     "text": [
      " 99%|██████████████████████████████████████▍| 921/934 [1:21:11<01:06,  5.14s/it]"
     ]
    },
    {
     "name": "stdout",
     "output_type": "stream",
     "text": [
      "Problem: http://cloud.itbusinessnet.com/2021/01/borregaard-asa-invitation-to-q4-2020-announcement/: HTTPConnectionPool(host='cloud.itbusinessnet.com', port=80): Max retries exceeded with url: /2021/01/borregaard-asa-invitation-to-q4-2020-announcement/ (Caused by NewConnectionError('<urllib3.connection.HTTPConnection object at 0x7f533b940b80>: Failed to establish a new connection: [Errno -2] Name or service not known'))\n",
      "Problem: http://business.itbusinessnet.com/2021/01/borregaard-asa-invitation-to-q4-2020-announcement/: HTTPConnectionPool(host='business.itbusinessnet.com', port=80): Max retries exceeded with url: /2021/01/borregaard-asa-invitation-to-q4-2020-announcement/ (Caused by NewConnectionError('<urllib3.connection.HTTPConnection object at 0x7f533b5c5850>: Failed to establish a new connection: [Errno -2] Name or service not known'))\n",
      "Problem: http://hardware.itbusinessnet.com/2021/01/borregaard-asa-invitation-to-q4-2020-announcement/: HTTPConnectionPool(host='hardware.itbusinessnet.com', port=80): Max retries exceeded with url: /2021/01/borregaard-asa-invitation-to-q4-2020-announcement/ (Caused by NewConnectionError('<urllib3.connection.HTTPConnection object at 0x7f533b5c5e80>: Failed to establish a new connection: [Errno -2] Name or service not known'))\n"
     ]
    },
    {
     "name": "stderr",
     "output_type": "stream",
     "text": [
      "\r",
      " 99%|██████████████████████████████████████▍| 922/934 [1:21:13<00:52,  4.38s/it]"
     ]
    },
    {
     "name": "stdout",
     "output_type": "stream",
     "text": [
      "Problem: https://www.prnewswire.com/news-releases/federal-signal-to-host-first-quarter-earnings-conference-call-on-may-4-2021-301271959.html: HTTPSConnectionPool(host='www.prnewswire.com', port=443): Read timed out. (read timeout=10)\n"
     ]
    },
    {
     "name": "stderr",
     "output_type": "stream",
     "text": [
      " 99%|██████████████████████████████████████▌| 924/934 [1:21:38<01:25,  8.55s/it]"
     ]
    },
    {
     "name": "stdout",
     "output_type": "stream",
     "text": [
      "Problem: https://kuaixun.stcn.com/egs/202106/t20210607_3315578.html: HTTPSConnectionPool(host='kuaixun.stcn.com', port=443): Read timed out. (read timeout=10)\n"
     ]
    },
    {
     "name": "stderr",
     "output_type": "stream",
     "text": [
      " 99%|██████████████████████████████████████▋| 926/934 [1:21:44<00:45,  5.69s/it]"
     ]
    },
    {
     "name": "stdout",
     "output_type": "stream",
     "text": [
      "Problem: https://www.jcnnewswire.com/pressrelease/70581/3/MC-and-Hokuden-to-form-Hydro-Power-Alliance-in-Hokkaidos-Donan-Region: HTTPSConnectionPool(host='www.jcnnewswire.com', port=443): Max retries exceeded with url: /pressrelease/70581/3/MC-and-Hokuden-to-form-Hydro-Power-Alliance-in-Hokkaidos-Donan-Region (Caused by ConnectTimeoutError(<urllib3.connection.HTTPSConnection object at 0x7f53653e22b0>, 'Connection to www.jcnnewswire.com timed out. (connect timeout=10)'))\n",
      "Problem: http://news.cnwest.com/tianxia/a/2021/04/21/19634162.html: HTTPConnectionPool(host='news.cnwest.com', port=80): Read timed out.\n"
     ]
    },
    {
     "name": "stderr",
     "output_type": "stream",
     "text": [
      " 99%|██████████████████████████████████████▊| 929/934 [1:22:18<00:42,  8.44s/it]"
     ]
    },
    {
     "name": "stdout",
     "output_type": "stream",
     "text": [
      "Problem: http://www.newratings.de/du/main/company_headline.m?nid=13202798: HTTPSConnectionPool(host='www.newratings.de', port=443): Max retries exceeded with url: /du/main/company_headline.m?nid=13202798 (Caused by SSLError(SSLCertVerificationError(\"hostname 'www.newratings.de' doesn't match either of '*.ariva-services.de', 'ariva-services.de'\")))\n",
      "Problem: https://www.bndes.gov.br/wps/portal/site/home/imprensa/noticias/conteudo/bndes-aprova-697-milhoes-para-duratex-adquirir-maquinas-industriais-e-equipamentos/!ut/p/z0/rY47TwMxEIR_C4XLla1w5Eh5IpFQHqIBKbiJNmeT2xCvfX4E-PeYEzUV3c5oZr-RWu6lZrzSCTN5xkvVr3p-2C42q8fmSW3V3XOjuuVt27y0K7W5n8m11H8H6gc6j6PupO49Z_uZ5f7IxqYDccqUSz-RhBq8s0KRC9FyQqHYZ-oJk1BTrxgv1FQEDNFfEeaLFhxdBl-tgBHBlIgVAGjGQpEiOKwHYwJiU1KOhJTAgq1uQGc5-_SzbxZ3D7uT1AHzUKNv_nfh_4LCuz5-fXQ33zM4as4!/: HTTPSConnectionPool(host='www.bndes.gov.br', port=443): Read timed out. (read timeout=10)\n"
     ]
    },
    {
     "name": "stderr",
     "output_type": "stream",
     "text": [
      "100%|███████████████████████████████████████| 934/934 [1:22:44<00:00,  5.32s/it]\n"
     ]
    }
   ],
   "source": [
    "import grequests\n",
    "from tqdm import tqdm\n",
    "class Test(object):\n",
    "    def __init__(self, urls):\n",
    "        self.urls = urls\n",
    "\n",
    "    def exception(self, request, exception):\n",
    "        print(\"Problem: {}: {}\".format(request.url, exception))\n",
    "\n",
    "    def async1(self):\n",
    "        results = grequests.map((grequests.get(u, timeout=10, stream=False) for u in self.urls), exception_handler=self.exception, size=20)\n",
    "        # print(results)\n",
    "        return results\n",
    "    \n",
    "# test = Test(news_data.url.values.tolist()[0:100])\n",
    "# results = test.async1()\n",
    "# results\n",
    "\n",
    "import requests\n",
    "from bs4 import BeautifulSoup\n",
    "from tqdm import tqdm\n",
    "from urllib.parse import urljoin\n",
    "def chunks(lst, n):\n",
    "    \"\"\"Yield successive n-sized chunks from lst.\"\"\"\n",
    "    for i in range(0, len(lst), n):\n",
    "        yield lst[i:i + n]\n",
    "\n",
    "content_list = []\n",
    "for i in tqdm(list(chunks(range(0, len(dfs4.news_url.values)), 20))):\n",
    "    urls = dfs4.news_url.values[i]\n",
    "    test = Test(urls)\n",
    "    results = test.async1()\n",
    "    for req, url in zip(results, urls):\n",
    "    # for req, url in tqdm(zip(results, urls), total=len(urls), leave=False):\n",
    "        if req == None:\n",
    "            content_list.append(None)\n",
    "        elif req.status_code == 200:\n",
    "            # using the BeaitifulSoup module\n",
    "            soup = BeautifulSoup(req.text, 'html.parser')\n",
    "            title_list = []\n",
    "            for title in soup.find_all('title'):\n",
    "                title_list.append(title.get_text().split(\"|\")[0])\n",
    "            content_list.append(\" \".join(title_list))\n",
    "        else:\n",
    "            content_list.append(None)\n",
    "            \n",
    "# news_data[\"pdf_list\"] = content_list\n",
    "# content_list"
   ]
  },
  {
   "cell_type": "code",
   "execution_count": 111,
   "id": "f338c2f2",
   "metadata": {},
   "outputs": [
    {
     "name": "stderr",
     "output_type": "stream",
     "text": [
      "/tmp/ipykernel_6149/3521994212.py:1: SettingWithCopyWarning: \n",
      "A value is trying to be set on a copy of a slice from a DataFrame.\n",
      "Try using .loc[row_indexer,col_indexer] = value instead\n",
      "\n",
      "See the caveats in the documentation: https://pandas.pydata.org/pandas-docs/stable/user_guide/indexing.html#returning-a-view-versus-a-copy\n",
      "  dfs4[\"header\"] = content_list\n"
     ]
    }
   ],
   "source": [
    "dfs4[\"header\"] = content_list"
   ]
  },
  {
   "cell_type": "code",
   "execution_count": 114,
   "id": "e671b8fa",
   "metadata": {},
   "outputs": [
    {
     "data": {
      "text/html": [
       "<div>\n",
       "<style scoped>\n",
       "    .dataframe tbody tr th:only-of-type {\n",
       "        vertical-align: middle;\n",
       "    }\n",
       "\n",
       "    .dataframe tbody tr th {\n",
       "        vertical-align: top;\n",
       "    }\n",
       "\n",
       "    .dataframe thead th {\n",
       "        text-align: right;\n",
       "    }\n",
       "</style>\n",
       "<table border=\"1\" class=\"dataframe\">\n",
       "  <thead>\n",
       "    <tr style=\"text-align: right;\">\n",
       "      <th></th>\n",
       "      <th>company</th>\n",
       "      <th>date</th>\n",
       "      <th>news_url</th>\n",
       "      <th>lang</th>\n",
       "      <th>magnitude</th>\n",
       "      <th>score</th>\n",
       "      <th>numMentions</th>\n",
       "      <th>avgSalience</th>\n",
       "      <th>overall_score</th>\n",
       "      <th>wikipediaUrl</th>\n",
       "      <th>p5</th>\n",
       "      <th>p95</th>\n",
       "      <th>header</th>\n",
       "    </tr>\n",
       "  </thead>\n",
       "  <tbody>\n",
       "    <tr>\n",
       "      <th>0</th>\n",
       "      <td>Apple Inc</td>\n",
       "      <td>2021-05-23T20:17:28Z</td>\n",
       "      <td>https://appleinsider.com/articles/20/08/23/apple-versus-epic-games-fortnite-app-store-saga----the-story-so-far</td>\n",
       "      <td>en</td>\n",
       "      <td>314.2</td>\n",
       "      <td>-0.3</td>\n",
       "      <td>406.0</td>\n",
       "      <td>0.382625</td>\n",
       "      <td>-38269.56</td>\n",
       "      <td>https://en.wikipedia.org/wiki/Apple_Inc.</td>\n",
       "      <td>-144.1232</td>\n",
       "      <td>121.9860</td>\n",
       "      <td>Epic Games vs Apple trial, verdict, and aftermath - all you need to know</td>\n",
       "    </tr>\n",
       "    <tr>\n",
       "      <th>1</th>\n",
       "      <td>Apple Inc</td>\n",
       "      <td>2021-04-26T16:19:06Z</td>\n",
       "      <td>https://appleinsider.com/articles/21/04/26/app-store-hey-and-antitrust-an-interview-with-david-heinemeier-hansson-on-the-appleinsider-podcast</td>\n",
       "      <td>en</td>\n",
       "      <td>295.1</td>\n",
       "      <td>-0.2</td>\n",
       "      <td>158.0</td>\n",
       "      <td>0.292771</td>\n",
       "      <td>-9325.16</td>\n",
       "      <td>https://en.wikipedia.org/wiki/Apple_Inc.</td>\n",
       "      <td>-144.1232</td>\n",
       "      <td>121.9860</td>\n",
       "      <td>App Store, Hey, and antitrust: An interview with David Heinemeier Hansson on the AppleInsider Podcast</td>\n",
       "    </tr>\n",
       "    <tr>\n",
       "      <th>2</th>\n",
       "      <td>Apple Inc</td>\n",
       "      <td>2021-06-07T02:31:51Z</td>\n",
       "      <td>https://www.msn.com/en-us/news/technology/apple-s-tightly-controlled-app-store-is-teeming-with-scams/ar-AAKL0TG</td>\n",
       "      <td>en</td>\n",
       "      <td>82.3</td>\n",
       "      <td>-0.3</td>\n",
       "      <td>77.0</td>\n",
       "      <td>0.734105</td>\n",
       "      <td>-1901.13</td>\n",
       "      <td>https://en.wikipedia.org/wiki/Apple_Inc.</td>\n",
       "      <td>-144.1232</td>\n",
       "      <td>121.9860</td>\n",
       "      <td>Apple’s tightly controlled App Store is teeming with scams</td>\n",
       "    </tr>\n",
       "    <tr>\n",
       "      <th>3</th>\n",
       "      <td>Apple Inc</td>\n",
       "      <td>2021-04-29T14:34:24Z</td>\n",
       "      <td>https://www.androidpolice.com/2012/07/27/a-complete-overview-of-the-apple-v-samsung-trial-things-arent-looking-great-for-androids-biggest-manufacturer/</td>\n",
       "      <td>en</td>\n",
       "      <td>68.4</td>\n",
       "      <td>-0.3</td>\n",
       "      <td>86.0</td>\n",
       "      <td>0.581341</td>\n",
       "      <td>-1764.72</td>\n",
       "      <td>https://en.wikipedia.org/wiki/Apple_Inc.</td>\n",
       "      <td>-144.1232</td>\n",
       "      <td>121.9860</td>\n",
       "      <td>None</td>\n",
       "    </tr>\n",
       "    <tr>\n",
       "      <th>4</th>\n",
       "      <td>Apple Inc</td>\n",
       "      <td>2021-06-18T12:48:35Z</td>\n",
       "      <td>https://www.nytimes.com/2021/06/14/podcasts/the-daily/apple-china-privacy.html</td>\n",
       "      <td>en</td>\n",
       "      <td>115.1</td>\n",
       "      <td>-0.1</td>\n",
       "      <td>138.0</td>\n",
       "      <td>0.556265</td>\n",
       "      <td>-1588.38</td>\n",
       "      <td>https://en.wikipedia.org/wiki/Apple_Inc.</td>\n",
       "      <td>-144.1232</td>\n",
       "      <td>121.9860</td>\n",
       "      <td>Apple’s Bet on China - The New York Times bars</td>\n",
       "    </tr>\n",
       "    <tr>\n",
       "      <th>...</th>\n",
       "      <td>...</td>\n",
       "      <td>...</td>\n",
       "      <td>...</td>\n",
       "      <td>...</td>\n",
       "      <td>...</td>\n",
       "      <td>...</td>\n",
       "      <td>...</td>\n",
       "      <td>...</td>\n",
       "      <td>...</td>\n",
       "      <td>...</td>\n",
       "      <td>...</td>\n",
       "      <td>...</td>\n",
       "      <td>...</td>\n",
       "    </tr>\n",
       "    <tr>\n",
       "      <th>736934</th>\n",
       "      <td>GN Store Nord AS</td>\n",
       "      <td>2021-05-06T05:03:11Z</td>\n",
       "      <td>https://www.globenewswire.com/news-release/2021/05/06/2224031/0/en/Interim-Report-Q1-2021-GN-Store-Nord-46-organic-revenue-growth-GN-Audio-82-GN-Hearing-1-New-share-buyback-of-DKK-2-5-billion-init...</td>\n",
       "      <td>en</td>\n",
       "      <td>6.8</td>\n",
       "      <td>0.2</td>\n",
       "      <td>12.0</td>\n",
       "      <td>0.027969</td>\n",
       "      <td>16.32</td>\n",
       "      <td>https://en.wikipedia.org/wiki/GN_Store_Nord</td>\n",
       "      <td>16.3584</td>\n",
       "      <td>20.1216</td>\n",
       "      <td>Interim Report Q1 2021: GN Store Nord +46% organic revenue</td>\n",
       "    </tr>\n",
       "    <tr>\n",
       "      <th>736935</th>\n",
       "      <td>GN Store Nord AS</td>\n",
       "      <td>2021-10-29T06:17:29Z</td>\n",
       "      <td>https://www.finanznachrichten.de/nachrichten-2021-10/54337031-dgap-adhoc-gn-store-nord-a-s-interim-report-in-q3-2021-gn-store-nord-delivered-2-organic-revenue-growth-and-announced-the-acquisition-...</td>\n",
       "      <td>en</td>\n",
       "      <td>9.6</td>\n",
       "      <td>0.1</td>\n",
       "      <td>21.0</td>\n",
       "      <td>0.032246</td>\n",
       "      <td>20.16</td>\n",
       "      <td>https://en.wikipedia.org/wiki/GN_Store_Nord</td>\n",
       "      <td>16.3584</td>\n",
       "      <td>20.1216</td>\n",
       "      <td>DGAP-Adhoc: GN Store Nord A/S: Interim report: In Q3 2021, GN Store Nord delivered 2% organic revenue growth and announced the acquisition of SteelSeries. Revision of GN Audio's organic revenue gr...</td>\n",
       "    </tr>\n",
       "    <tr>\n",
       "      <th>736936</th>\n",
       "      <td>CSC Holdings LLC</td>\n",
       "      <td>2021-11-23T18:18:00Z</td>\n",
       "      <td>https://www.prnewswire.com/news-releases/pef-services-wins-client-service-award-at-2021-global-custodian-industry-leaders-event-301431049.html</td>\n",
       "      <td>en</td>\n",
       "      <td>8.7</td>\n",
       "      <td>0.3</td>\n",
       "      <td>7.0</td>\n",
       "      <td>0.185072</td>\n",
       "      <td>18.27</td>\n",
       "      <td>https://en.wikipedia.org/wiki/Corporation_Service_Company</td>\n",
       "      <td>18.2700</td>\n",
       "      <td>18.2700</td>\n",
       "      <td>PEF Services Wins Client Service Award at 2021 Global Custodian Industry Leaders Event</td>\n",
       "    </tr>\n",
       "    <tr>\n",
       "      <th>736937</th>\n",
       "      <td>Reliance Worldwide Corp Ltd</td>\n",
       "      <td>2021-11-19T13:31:49Z</td>\n",
       "      <td>https://www.prnewswire.com:443/news-releases/rwc-acquires-ez-flo-international-makers-of-ez-flo-and-eastman-products-301429039.html</td>\n",
       "      <td>en</td>\n",
       "      <td>7.1</td>\n",
       "      <td>0.4</td>\n",
       "      <td>10.0</td>\n",
       "      <td>0.172147</td>\n",
       "      <td>28.40</td>\n",
       "      <td>https://en.wikipedia.org/wiki/Reliance_Worldwide_Corporation</td>\n",
       "      <td>28.4152</td>\n",
       "      <td>29.9048</td>\n",
       "      <td>RWC Acquires EZ-FLO International, Makers of EZ-FLO™ and Eastman™ Products</td>\n",
       "    </tr>\n",
       "    <tr>\n",
       "      <th>736938</th>\n",
       "      <td>Reliance Worldwide Corp Ltd</td>\n",
       "      <td>2021-11-19T13:17:41Z</td>\n",
       "      <td>https://www.tmcnet.com/usubmit/2021/11/19/9496869.htm</td>\n",
       "      <td>en</td>\n",
       "      <td>6.8</td>\n",
       "      <td>0.4</td>\n",
       "      <td>11.0</td>\n",
       "      <td>0.092168</td>\n",
       "      <td>29.92</td>\n",
       "      <td>https://en.wikipedia.org/wiki/Reliance_Worldwide_Corporation</td>\n",
       "      <td>28.4152</td>\n",
       "      <td>29.9048</td>\n",
       "      <td>RWC Acquires EZ-FLO International, Makers of EZ-FLO™ and Eastman™ Products RWC Acquires EZ-FLO International, Makers of EZ-FLO™ and Eastman™ Products</td>\n",
       "    </tr>\n",
       "  </tbody>\n",
       "</table>\n",
       "<p>18674 rows × 13 columns</p>\n",
       "</div>"
      ],
      "text/plain": [
       "                            company                  date  \\\n",
       "0                         Apple Inc  2021-05-23T20:17:28Z   \n",
       "1                         Apple Inc  2021-04-26T16:19:06Z   \n",
       "2                         Apple Inc  2021-06-07T02:31:51Z   \n",
       "3                         Apple Inc  2021-04-29T14:34:24Z   \n",
       "4                         Apple Inc  2021-06-18T12:48:35Z   \n",
       "...                             ...                   ...   \n",
       "736934             GN Store Nord AS  2021-05-06T05:03:11Z   \n",
       "736935             GN Store Nord AS  2021-10-29T06:17:29Z   \n",
       "736936             CSC Holdings LLC  2021-11-23T18:18:00Z   \n",
       "736937  Reliance Worldwide Corp Ltd  2021-11-19T13:31:49Z   \n",
       "736938  Reliance Worldwide Corp Ltd  2021-11-19T13:17:41Z   \n",
       "\n",
       "                                                                                                                                                                                                       news_url  \\\n",
       "0                                                                                                https://appleinsider.com/articles/20/08/23/apple-versus-epic-games-fortnite-app-store-saga----the-story-so-far   \n",
       "1                                                                 https://appleinsider.com/articles/21/04/26/app-store-hey-and-antitrust-an-interview-with-david-heinemeier-hansson-on-the-appleinsider-podcast   \n",
       "2                                                                                               https://www.msn.com/en-us/news/technology/apple-s-tightly-controlled-app-store-is-teeming-with-scams/ar-AAKL0TG   \n",
       "3                                                       https://www.androidpolice.com/2012/07/27/a-complete-overview-of-the-apple-v-samsung-trial-things-arent-looking-great-for-androids-biggest-manufacturer/   \n",
       "4                                                                                                                                https://www.nytimes.com/2021/06/14/podcasts/the-daily/apple-china-privacy.html   \n",
       "...                                                                                                                                                                                                         ...   \n",
       "736934  https://www.globenewswire.com/news-release/2021/05/06/2224031/0/en/Interim-Report-Q1-2021-GN-Store-Nord-46-organic-revenue-growth-GN-Audio-82-GN-Hearing-1-New-share-buyback-of-DKK-2-5-billion-init...   \n",
       "736935  https://www.finanznachrichten.de/nachrichten-2021-10/54337031-dgap-adhoc-gn-store-nord-a-s-interim-report-in-q3-2021-gn-store-nord-delivered-2-organic-revenue-growth-and-announced-the-acquisition-...   \n",
       "736936                                                           https://www.prnewswire.com/news-releases/pef-services-wins-client-service-award-at-2021-global-custodian-industry-leaders-event-301431049.html   \n",
       "736937                                                                      https://www.prnewswire.com:443/news-releases/rwc-acquires-ez-flo-international-makers-of-ez-flo-and-eastman-products-301429039.html   \n",
       "736938                                                                                                                                                    https://www.tmcnet.com/usubmit/2021/11/19/9496869.htm   \n",
       "\n",
       "       lang  magnitude  score  numMentions  avgSalience  overall_score  \\\n",
       "0        en      314.2   -0.3        406.0     0.382625      -38269.56   \n",
       "1        en      295.1   -0.2        158.0     0.292771       -9325.16   \n",
       "2        en       82.3   -0.3         77.0     0.734105       -1901.13   \n",
       "3        en       68.4   -0.3         86.0     0.581341       -1764.72   \n",
       "4        en      115.1   -0.1        138.0     0.556265       -1588.38   \n",
       "...     ...        ...    ...          ...          ...            ...   \n",
       "736934   en        6.8    0.2         12.0     0.027969          16.32   \n",
       "736935   en        9.6    0.1         21.0     0.032246          20.16   \n",
       "736936   en        8.7    0.3          7.0     0.185072          18.27   \n",
       "736937   en        7.1    0.4         10.0     0.172147          28.40   \n",
       "736938   en        6.8    0.4         11.0     0.092168          29.92   \n",
       "\n",
       "                                                        wikipediaUrl  \\\n",
       "0                           https://en.wikipedia.org/wiki/Apple_Inc.   \n",
       "1                           https://en.wikipedia.org/wiki/Apple_Inc.   \n",
       "2                           https://en.wikipedia.org/wiki/Apple_Inc.   \n",
       "3                           https://en.wikipedia.org/wiki/Apple_Inc.   \n",
       "4                           https://en.wikipedia.org/wiki/Apple_Inc.   \n",
       "...                                                              ...   \n",
       "736934                   https://en.wikipedia.org/wiki/GN_Store_Nord   \n",
       "736935                   https://en.wikipedia.org/wiki/GN_Store_Nord   \n",
       "736936     https://en.wikipedia.org/wiki/Corporation_Service_Company   \n",
       "736937  https://en.wikipedia.org/wiki/Reliance_Worldwide_Corporation   \n",
       "736938  https://en.wikipedia.org/wiki/Reliance_Worldwide_Corporation   \n",
       "\n",
       "              p5       p95  \\\n",
       "0      -144.1232  121.9860   \n",
       "1      -144.1232  121.9860   \n",
       "2      -144.1232  121.9860   \n",
       "3      -144.1232  121.9860   \n",
       "4      -144.1232  121.9860   \n",
       "...          ...       ...   \n",
       "736934   16.3584   20.1216   \n",
       "736935   16.3584   20.1216   \n",
       "736936   18.2700   18.2700   \n",
       "736937   28.4152   29.9048   \n",
       "736938   28.4152   29.9048   \n",
       "\n",
       "                                                                                                                                                                                                         header  \n",
       "0                                                                                                                                     Epic Games vs Apple trial, verdict, and aftermath - all you need to know   \n",
       "1                                                                                                        App Store, Hey, and antitrust: An interview with David Heinemeier Hansson on the AppleInsider Podcast   \n",
       "2                                                                                                                                                    Apple’s tightly controlled App Store is teeming with scams  \n",
       "3                                                                                                                                                                                                          None  \n",
       "4                                                                                                                                                                Apple’s Bet on China - The New York Times bars  \n",
       "...                                                                                                                                                                                                         ...  \n",
       "736934                                                                                                                                               Interim Report Q1 2021: GN Store Nord +46% organic revenue  \n",
       "736935  DGAP-Adhoc: GN Store Nord A/S: Interim report: In Q3 2021, GN Store Nord delivered 2% organic revenue growth and announced the acquisition of SteelSeries. Revision of GN Audio's organic revenue gr...  \n",
       "736936                                                                                                                   PEF Services Wins Client Service Award at 2021 Global Custodian Industry Leaders Event  \n",
       "736937                                                                                                                               RWC Acquires EZ-FLO International, Makers of EZ-FLO™ and Eastman™ Products  \n",
       "736938                                                    RWC Acquires EZ-FLO International, Makers of EZ-FLO™ and Eastman™ Products RWC Acquires EZ-FLO International, Makers of EZ-FLO™ and Eastman™ Products  \n",
       "\n",
       "[18674 rows x 13 columns]"
      ]
     },
     "execution_count": 114,
     "metadata": {},
     "output_type": "execute_result"
    }
   ],
   "source": [
    "dfs4"
   ]
  },
  {
   "cell_type": "code",
   "execution_count": 132,
   "id": "78cffca6",
   "metadata": {},
   "outputs": [],
   "source": [
    "dfs4.to_csv(\"./temp_data2/news_headlines.csv\")"
   ]
  },
  {
   "cell_type": "code",
   "execution_count": null,
   "id": "bde95457",
   "metadata": {},
   "outputs": [],
   "source": []
  },
  {
   "cell_type": "code",
   "execution_count": 4,
   "id": "ad7e92d4",
   "metadata": {},
   "outputs": [],
   "source": [
    "import pandas as pd\n",
    "dfs4 = pd.read_csv(\"news_headlines.csv\")"
   ]
  },
  {
   "cell_type": "code",
   "execution_count": 5,
   "id": "62bd3401",
   "metadata": {},
   "outputs": [],
   "source": [
    "def get_content_url(url):\n",
    "    # url = \"https://www.androidpolice.com/2012/07/27/a-complete-overview-of-the-apple-v-samsung-trial-things-arent-looking-great-for-androids-biggest-manufacturer/\"\n",
    "    return \" \".join(url.split(\"/\")[-2:]).replace(\"-\",\" \")\n",
    "\n",
    "dfs4[\"header2\"] = dfs4[\"news_url\"].apply(get_content_url)"
   ]
  },
  {
   "cell_type": "code",
   "execution_count": null,
   "id": "41959a76",
   "metadata": {},
   "outputs": [],
   "source": [
    "dfs4.to_csv(\"./temp_data2/news_headlines.csv\")"
   ]
  },
  {
   "cell_type": "code",
   "execution_count": null,
   "id": "be91b4c3",
   "metadata": {},
   "outputs": [],
   "source": []
  },
  {
   "cell_type": "code",
   "execution_count": 148,
   "id": "24f6f8a4",
   "metadata": {},
   "outputs": [
    {
     "data": {
      "text/plain": [
       "1492"
      ]
     },
     "execution_count": 148,
     "metadata": {},
     "output_type": "execute_result"
    }
   ],
   "source": [
    "import pandas as pd\n",
    "df2 = pd.read_csv(\"./temp_data2/news_headlines.csv\").sort_values(\"overall_score\")\n",
    "len(df2.company.unique())"
   ]
  },
  {
   "cell_type": "code",
   "execution_count": 149,
   "id": "6b1d7f69",
   "metadata": {},
   "outputs": [],
   "source": [
    "import pandas as pd\n",
    "\n",
    "# solution given by https://stackoverflow.com/questions/36880490/why-use-pandas-qcut-return-valueerror-bin-edges-must-be-unique\n",
    "def pct_rank_qcut(series, n):\n",
    "    edges = pd.Series([float(i) / n for i in range(n + 1)])\n",
    "    f = lambda x: (edges >= x).values.argmax()\n",
    "    return series.rank(pct=1).apply(f)\n",
    "\n"
   ]
  },
  {
   "cell_type": "code",
   "execution_count": 150,
   "id": "c9c34691",
   "metadata": {},
   "outputs": [],
   "source": [
    "df_temp = df2[\"company\"].value_counts().reset_index()\n",
    "companies_to_include = df_temp[df_temp.company >= 10][\"index\"].values"
   ]
  },
  {
   "cell_type": "code",
   "execution_count": 151,
   "id": "2658f2b9",
   "metadata": {},
   "outputs": [
    {
     "name": "stderr",
     "output_type": "stream",
     "text": [
      "C:\\Users\\qhuca\\anaconda3\\envs\\python3.7\\lib\\site-packages\\ipykernel_launcher.py:2: SettingWithCopyWarning: \n",
      "A value is trying to be set on a copy of a slice from a DataFrame.\n",
      "Try using .loc[row_indexer,col_indexer] = value instead\n",
      "\n",
      "See the caveats in the documentation: https://pandas.pydata.org/pandas-docs/stable/user_guide/indexing.html#returning-a-view-versus-a-copy\n",
      "  \n"
     ]
    }
   ],
   "source": [
    "df3 = df2[df2.company.isin(companies_to_include)]\n",
    "df3['score_quantile'] = df3.groupby(\"company\")[\"overall_score\"].transform(lambda x: pct_rank_qcut(x,5))"
   ]
  },
  {
   "cell_type": "code",
   "execution_count": 86,
   "id": "f9af7f34",
   "metadata": {},
   "outputs": [],
   "source": [
    "# df2['score_quantile'] = pct_rank_qcut(df2[\"overall_score\"], 5)"
   ]
  },
  {
   "cell_type": "code",
   "execution_count": 152,
   "id": "56bdf48b",
   "metadata": {},
   "outputs": [
    {
     "data": {
      "text/plain": [
       "array([1., 2., 3., 5., 4.])"
      ]
     },
     "execution_count": 152,
     "metadata": {},
     "output_type": "execute_result"
    }
   ],
   "source": [
    "df3[\"score_quantile\"].unique()"
   ]
  },
  {
   "cell_type": "code",
   "execution_count": 153,
   "id": "4214760d",
   "metadata": {},
   "outputs": [],
   "source": [
    "df3 = df3[(df3.score_quantile==1)|(df3.score_quantile==5)]"
   ]
  },
  {
   "cell_type": "code",
   "execution_count": 154,
   "id": "0553eb43",
   "metadata": {},
   "outputs": [
    {
     "data": {
      "text/plain": [
       "281"
      ]
     },
     "execution_count": 154,
     "metadata": {},
     "output_type": "execute_result"
    }
   ],
   "source": [
    "len(df3.company.unique())"
   ]
  },
  {
   "cell_type": "code",
   "execution_count": 155,
   "id": "b36050c1",
   "metadata": {},
   "outputs": [
    {
     "data": {
      "text/plain": [
       "1209"
      ]
     },
     "execution_count": 155,
     "metadata": {},
     "output_type": "execute_result"
    }
   ],
   "source": [
    "len(df2[~df2.company.isin(companies_to_include)].company.unique())"
   ]
  },
  {
   "cell_type": "code",
   "execution_count": 179,
   "id": "d679b052",
   "metadata": {},
   "outputs": [],
   "source": [
    "df4 = df2[~df2.company.isin(companies_to_include)]\n",
    "dfs4 = pd.concat([df3,df4])\n",
    "dfs4 = dfs4.drop(columns=['score_quantile']).dropna()"
   ]
  },
  {
   "cell_type": "code",
   "execution_count": 95,
   "id": "016dbddc",
   "metadata": {},
   "outputs": [],
   "source": [
    "# df_temp = df2[\"company\"].value_counts().reset_index()\n",
    "# companies_to_include = df_temp[df_temp.company >= 50][\"index\"].values\n",
    "# df3 = df2[df2.company.isin(companies_to_include)]\n",
    "# df3.groupby(\"company\").apply(lambda x: pd.qcut(x[\"overall_score\"], q=5, labels=range(3), duplicates='drop'))"
   ]
  },
  {
   "cell_type": "code",
   "execution_count": 181,
   "id": "4fcf2cd1",
   "metadata": {},
   "outputs": [
    {
     "name": "stderr",
     "output_type": "stream",
     "text": [
      "100%|██████████████████████████████████████████████████████████████████████████████| 1488/1488 [03:12<00:00,  7.73it/s]\n"
     ]
    }
   ],
   "source": [
    "import tqdm\n",
    "import warnings\n",
    "import difflib\n",
    "import tqdm\n",
    "\n",
    "warnings.filterwarnings('ignore')\n",
    "dfs4_list = []\n",
    "for company in tqdm.tqdm(dfs4.company.unique()):\n",
    "    df_temp = dfs4[dfs4.company==company]\n",
    "    # Threshold filter based on Percentage similarity\n",
    "    thr = 0.55\n",
    "    df_temp['Flag'] = 0\n",
    "    for text in df_temp['header'].tolist():\n",
    "        df_temp['temp'] = [difflib.SequenceMatcher(None, text1,text).ratio() for text1 in df_temp['header'].tolist()]\n",
    "        df_temp.loc[df_temp['temp'].gt(thr),['Flag']] = df_temp['Flag'].max()+1\n",
    "    df_temp.drop('temp',1)\n",
    "\n",
    "    dfs4_list.append(df_temp.loc[~df_temp['Flag'].duplicated(keep='first')])"
   ]
  },
  {
   "cell_type": "code",
   "execution_count": 183,
   "id": "cd9210b8",
   "metadata": {},
   "outputs": [],
   "source": [
    "pd.concat(dfs4_list).to_csv(\"./temp_data/news_headlines2.csv\")"
   ]
  },
  {
   "cell_type": "code",
   "execution_count": 184,
   "id": "7b7c387b",
   "metadata": {},
   "outputs": [],
   "source": [
    "import pandas as pd\n",
    "dfs4 = pd.read_csv(\"./temp_data/news_headlines2.csv\")"
   ]
  },
  {
   "cell_type": "code",
   "execution_count": 186,
   "id": "2fb19d07",
   "metadata": {},
   "outputs": [],
   "source": [
    "def percentile(n):\n",
    "    def percentile_(x):\n",
    "        return np.percentile(x, n)\n",
    "    percentile_.__name__ = 'percentile_%s' % n\n",
    "    return percentile_\n",
    "\n",
    "df1 = dfs4[[\"company\",\"magnitude\", \"score\", \"numMentions\", \"avgSalience\", \"overall_score\"]].groupby(\"company\").agg([np.sum, np.mean, np.std, np.median,\n",
    "                     np.var, np.min, np.max, percentile(5), percentile(95), percentile(10), percentile(90)]).reset_index()\n",
    "df1.columns = ['_'.join(col).strip() for col in df1.columns.values]\n",
    "df1 = df1.rename(columns={\"company_\":\"company\"})"
   ]
  },
  {
   "cell_type": "code",
   "execution_count": 188,
   "id": "53c785b9",
   "metadata": {},
   "outputs": [],
   "source": [
    "df1.to_csv(\"./temp_data/news_sentiment.csv\")"
   ]
  }
 ],
 "metadata": {
  "kernelspec": {
   "display_name": "Python 3 (ipykernel)",
   "language": "python",
   "name": "python3"
  },
  "language_info": {
   "codemirror_mode": {
    "name": "ipython",
    "version": 3
   },
   "file_extension": ".py",
   "mimetype": "text/x-python",
   "name": "python",
   "nbconvert_exporter": "python",
   "pygments_lexer": "ipython3",
   "version": "3.7.11"
  }
 },
 "nbformat": 4,
 "nbformat_minor": 5
}
