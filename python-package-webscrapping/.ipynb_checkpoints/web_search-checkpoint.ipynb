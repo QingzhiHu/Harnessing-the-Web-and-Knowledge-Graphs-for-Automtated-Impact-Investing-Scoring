{
 "cells": [
  {
   "cell_type": "code",
   "execution_count": 1,
   "metadata": {
    "colab": {
     "base_uri": "https://localhost:8080/"
    },
    "executionInfo": {
     "elapsed": 12336,
     "status": "ok",
     "timestamp": 1636642070160,
     "user": {
      "displayName": "Qingzhi Hu",
      "photoUrl": "https://lh3.googleusercontent.com/a/default-user=s64",
      "userId": "07321362497158000794"
     },
     "user_tz": -60
    },
    "id": "1kJ4vi53dtxZ",
    "outputId": "5d15830e-8eb5-4c6e-e3e4-be4199ab85d5"
   },
   "outputs": [
    {
     "name": "stdout",
     "output_type": "stream",
     "text": [
      "Requirement already satisfied: beautifulsoup4 in /usr/local/lib/python3.7/dist-packages (4.6.3)\n",
      "Requirement already satisfied: urllib3 in /usr/local/lib/python3.7/dist-packages (1.24.3)\n",
      "Requirement already satisfied: pandas in /usr/local/lib/python3.7/dist-packages (1.1.5)\n",
      "Requirement already satisfied: python-dateutil>=2.7.3 in /usr/local/lib/python3.7/dist-packages (from pandas) (2.8.2)\n",
      "Requirement already satisfied: pytz>=2017.2 in /usr/local/lib/python3.7/dist-packages (from pandas) (2018.9)\n",
      "Requirement already satisfied: numpy>=1.15.4 in /usr/local/lib/python3.7/dist-packages (from pandas) (1.19.5)\n",
      "Requirement already satisfied: six>=1.5 in /usr/local/lib/python3.7/dist-packages (from python-dateutil>=2.7.3->pandas) (1.15.0)\n",
      "Requirement already satisfied: numpy in /usr/local/lib/python3.7/dist-packages (1.19.5)\n"
     ]
    }
   ],
   "source": [
    "!pip install beautifulsoup4\n",
    "!pip install urllib3\n",
    "!pip install pandas\n",
    "!pip install numpy"
   ]
  },
  {
   "cell_type": "code",
   "execution_count": 22,
   "metadata": {
    "executionInfo": {
     "elapsed": 219,
     "status": "ok",
     "timestamp": 1636643594869,
     "user": {
      "displayName": "Qingzhi Hu",
      "photoUrl": "https://lh3.googleusercontent.com/a/default-user=s64",
      "userId": "07321362497158000794"
     },
     "user_tz": -60
    },
    "id": "FPiGURy6d0PK"
   },
   "outputs": [],
   "source": [
    "with open(\"companies.txt\", \"r\") as file:\n",
    "    lines = file.readlines()\n",
    "    companies_list = [line.rstrip() for line in lines]\n"
   ]
  },
  {
   "cell_type": "code",
   "execution_count": 23,
   "metadata": {
    "colab": {
     "base_uri": "https://localhost:8080/"
    },
    "executionInfo": {
     "elapsed": 224,
     "status": "ok",
     "timestamp": 1636643597421,
     "user": {
      "displayName": "Qingzhi Hu",
      "photoUrl": "https://lh3.googleusercontent.com/a/default-user=s64",
      "userId": "07321362497158000794"
     },
     "user_tz": -60
    },
    "id": "VO3V3IVDe4zH",
    "outputId": "e770c32a-55d6-44de-c26b-360dfa3cb5bf"
   },
   "outputs": [
    {
     "data": {
      "text/plain": [
       "4290"
      ]
     },
     "execution_count": 23,
     "metadata": {},
     "output_type": "execute_result"
    }
   ],
   "source": [
    "# # filter out dead companies\n",
    "# companies_list = [x for x in companies_list if \"dead\" not in x.lower()]\n",
    "len(companies_list)"
   ]
  },
  {
   "cell_type": "code",
   "execution_count": 51,
   "metadata": {
    "executionInfo": {
     "elapsed": 860,
     "status": "ok",
     "timestamp": 1636645802353,
     "user": {
      "displayName": "Qingzhi Hu",
      "photoUrl": "https://lh3.googleusercontent.com/a/default-user=s64",
      "userId": "07321362497158000794"
     },
     "user_tz": -60
    },
    "id": "VbIPsfayobDQ"
   },
   "outputs": [],
   "source": [
    "# alternative companies S&P 500\n",
    "import pandas as pd\n",
    "\n",
    "# There are 2 tables on the Wikipedia page\n",
    "# we want the first table\n",
    "\n",
    "payload=pd.read_html('https://en.wikipedia.org/wiki/List_of_S%26P_500_companies')\n",
    "first_table = payload[0]\n",
    "second_table = payload[1]\n",
    "\n",
    "df = first_table\n",
    "companies_list = df.Security.values.tolist()\n",
    "# companies_symbol_list = df.Symbol.value.tolist()"
   ]
  },
  {
   "cell_type": "code",
   "execution_count": 49,
   "metadata": {
    "executionInfo": {
     "elapsed": 231,
     "status": "ok",
     "timestamp": 1636645657527,
     "user": {
      "displayName": "Qingzhi Hu",
      "photoUrl": "https://lh3.googleusercontent.com/a/default-user=s64",
      "userId": "07321362497158000794"
     },
     "user_tz": -60
    },
    "id": "69G0w0PnrgmI"
   },
   "outputs": [],
   "source": []
  },
  {
   "cell_type": "code",
   "execution_count": 50,
   "metadata": {
    "executionInfo": {
     "elapsed": 221,
     "status": "ok",
     "timestamp": 1636645661471,
     "user": {
      "displayName": "Qingzhi Hu",
      "photoUrl": "https://lh3.googleusercontent.com/a/default-user=s64",
      "userId": "07321362497158000794"
     },
     "user_tz": -60
    },
    "id": "AsdlVTLfdxgH"
   },
   "outputs": [],
   "source": [
    "import requests\n",
    "from bs4 import BeautifulSoup\n",
    "import urllib3\n",
    "import re\n",
    "import pandas as pd\n",
    "\n",
    "def top_search_result_esg_company(company_name):\n",
    "  subscription_key = \"c5a282b2cba14ce5a3ad451c3575bd91\"\n",
    "  search_url = \"https://api.bing.microsoft.com/v7.0/search\"\n",
    "  search_term = company_name + \" company, official website sustainability report\"\n",
    "  headers = {\"Ocp-Apim-Subscription-Key\": subscription_key}\n",
    "  params = {\"q\": search_term, \"textDecorations\": True, \"textFormat\": \"HTML\", \"mkt\":\"en-US\"}\n",
    "  response = requests.get(search_url, headers=headers, params=params)\n",
    "  response.raise_for_status()\n",
    "  search_results = response.json()\n",
    "  rows = \"\\n\".join([\"\"\"<tr>\n",
    "                       <td><a href=\\\"{0}\\\">{1}</a></td>\n",
    "                       <td>{2}</td>\n",
    "                     </tr>\"\"\".format(v[\"url\"], v[\"name\"], v[\"snippet\"])\n",
    "                  for v in search_results[\"webPages\"][\"value\"]])\n",
    "\n",
    "  soup = BeautifulSoup(\"<table>{0}</table>\".format(rows))\n",
    "  links = []\n",
    "  for link in soup.findAll('a'):\n",
    "      links.append(link.get('href'))\n",
    "  \n",
    "  df = pd.read_html(\"<table>{0}</table>\".format(rows))[0].rename(columns={0: \"site\", 1: \"summary\"})\n",
    "  df[\"url\"] = links\n",
    "  df[\"rank\"] = range(1, len(df)+1)\n",
    "  df[\"company\"] = company_name\n",
    "  return df"
   ]
  },
  {
   "cell_type": "code",
   "execution_count": 55,
   "metadata": {
    "colab": {
     "base_uri": "https://localhost:8080/"
    },
    "executionInfo": {
     "elapsed": 328539,
     "status": "ok",
     "timestamp": 1636646312817,
     "user": {
      "displayName": "Qingzhi Hu",
      "photoUrl": "https://lh3.googleusercontent.com/a/default-user=s64",
      "userId": "07321362497158000794"
     },
     "user_tz": -60
    },
    "id": "RTeyewQenMHf",
    "outputId": "90e36383-d9aa-4f2a-e1bf-d5f6b07fb690"
   },
   "outputs": [
    {
     "name": "stdout",
     "output_type": "stream",
     "text": [
      "progress 20\n",
      "progress 40\n",
      "progress 60\n",
      "progress 80\n",
      "progress 100\n",
      "progress 120\n",
      "progress 140\n",
      "progress 160\n",
      "progress 180\n",
      "progress 200\n",
      "progress 220\n",
      "progress 240\n",
      "progress 260\n",
      "progress 280\n",
      "progress 300\n",
      "progress 320\n",
      "progress 340\n",
      "progress 360\n",
      "progress 380\n",
      "progress 400\n",
      "progress 420\n",
      "progress 440\n",
      "progress 460\n",
      "progress 480\n",
      "progress 500\n"
     ]
    }
   ],
   "source": [
    "df_list = []\n",
    "count = 0\n",
    "for company in companies_list:\n",
    "  count += 1\n",
    "  if count%20 == 0:\n",
    "    print(\"progress\", count)\n",
    "  df = top_search_result_esg_company(company)\n",
    "  df_list.append(df)\n",
    "df_merged = pd.concat(df_list)"
   ]
  },
  {
   "cell_type": "code",
   "execution_count": 58,
   "metadata": {
    "executionInfo": {
     "elapsed": 225,
     "status": "ok",
     "timestamp": 1636646536656,
     "user": {
      "displayName": "Qingzhi Hu",
      "photoUrl": "https://lh3.googleusercontent.com/a/default-user=s64",
      "userId": "07321362497158000794"
     },
     "user_tz": -60
    },
    "id": "q-ibNDWLsa6v"
   },
   "outputs": [],
   "source": [
    "df_merged.to_csv(\"SP500_url_esg.csv\")"
   ]
  },
  {
   "cell_type": "code",
   "execution_count": 39,
   "metadata": {
    "executionInfo": {
     "elapsed": 723,
     "status": "ok",
     "timestamp": 1636644490512,
     "user": {
      "displayName": "Qingzhi Hu",
      "photoUrl": "https://lh3.googleusercontent.com/a/default-user=s64",
      "userId": "07321362497158000794"
     },
     "user_tz": -60
    },
    "id": "epHAXJF4d5VL"
   },
   "outputs": [],
   "source": [
    "# df1 = top_search_result_esg_company(companies_list[0])"
   ]
  },
  {
   "cell_type": "code",
   "execution_count": 40,
   "metadata": {
    "executionInfo": {
     "elapsed": 718,
     "status": "ok",
     "timestamp": 1636644492206,
     "user": {
      "displayName": "Qingzhi Hu",
      "photoUrl": "https://lh3.googleusercontent.com/a/default-user=s64",
      "userId": "07321362497158000794"
     },
     "user_tz": -60
    },
    "id": "PY0INcjnk1La"
   },
   "outputs": [],
   "source": [
    "# df2 = top_search_result_esg_company(\"Facebook\")"
   ]
  },
  {
   "cell_type": "code",
   "execution_count": 28,
   "metadata": {
    "executionInfo": {
     "elapsed": 231,
     "status": "ok",
     "timestamp": 1636643712029,
     "user": {
      "displayName": "Qingzhi Hu",
      "photoUrl": "https://lh3.googleusercontent.com/a/default-user=s64",
      "userId": "07321362497158000794"
     },
     "user_tz": -60
    },
    "id": "wuGhWlLueVMX"
   },
   "outputs": [],
   "source": [
    "\n",
    "# subscription_key = \"c5a282b2cba14ce5a3ad451c3575bd91\"\n",
    "# search_url = \"https://api.bing.microsoft.com/v7.0/search\"\n",
    "# search_term = companies_list[1] + \" company official website sustainability report\"\n",
    "# headers = {\"Ocp-Apim-Subscription-Key\": subscription_key}\n",
    "# params = {\"q\": search_term, \"textDecorations\": True, \"textFormat\": \"HTML\"}\n",
    "# response = requests.get(search_url, headers=headers, params=params)\n",
    "# response.raise_for_status()\n",
    "# search_results = response.json()\n",
    "# rows = \"\\n\".join([\"\"\"<tr>\n",
    "#                       <td><a href=\\\"{0}\\\">{1}</a></td>\n",
    "#                       <td>{2}</td>\n",
    "#                     </tr>\"\"\".format(v[\"url\"], v[\"name\"], v[\"snippet\"])\n",
    "#                 for v in search_results[\"webPages\"][\"value\"]])\n",
    "\n",
    "# soup = BeautifulSoup(\"<table>{0}</table>\".format(rows))\n",
    "# links = []\n",
    "# for link in soup.findAll('a'):\n",
    "#     links.append(link.get('href'))\n",
    "\n",
    "# df = pd.read_html(\"<table>{0}</table>\".format(rows))[0].rename(columns={0: \"site\", 1: \"summary\"})\n",
    "# df[\"url\"] = links\n",
    "# df[\"rank\"] = range(1, len(df)+1)\n",
    "# df[\"company\"] = companies_list[1]\n",
    "# df"
   ]
  }
 ],
 "metadata": {
  "colab": {
   "authorship_tag": "ABX9TyM4y+Vi20/AAvCp5YU98CF+",
   "collapsed_sections": [],
   "name": "web_search.ipynb",
   "provenance": []
  },
  "kernelspec": {
   "display_name": "Python 3",
   "language": "python",
   "name": "python3"
  },
  "language_info": {
   "codemirror_mode": {
    "name": "ipython",
    "version": 3
   },
   "file_extension": ".py",
   "mimetype": "text/x-python",
   "name": "python",
   "nbconvert_exporter": "python",
   "pygments_lexer": "ipython3",
   "version": "3.6.13"
  }
 },
 "nbformat": 4,
 "nbformat_minor": 1
}
