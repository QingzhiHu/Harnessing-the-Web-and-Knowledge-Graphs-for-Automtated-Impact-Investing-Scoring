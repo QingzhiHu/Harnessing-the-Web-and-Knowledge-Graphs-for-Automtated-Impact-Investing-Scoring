{
 "cells": [
  {
   "cell_type": "code",
   "execution_count": 4,
   "id": "dbe9173b",
   "metadata": {},
   "outputs": [],
   "source": [
    "import os\n",
    "import pandas as pd\n",
    "df_list = []\n",
    "for filename in os.listdir(\"./data/\"):\n",
    "    df = pd.read_csv(\"./data/\"+filename)\n",
    "    df_list.append(df)\n",
    "df_all = pd.concat(df_list)"
   ]
  },
  {
   "cell_type": "code",
   "execution_count": 5,
   "id": "46b4e3c5",
   "metadata": {},
   "outputs": [],
   "source": [
    "df_all.to_csv(\"./new/news_data.csv\")"
   ]
  },
  {
   "cell_type": "code",
   "execution_count": 6,
   "id": "4cc03b75",
   "metadata": {},
   "outputs": [
    {
     "data": {
      "text/html": [
       "<div>\n",
       "<style scoped>\n",
       "    .dataframe tbody tr th:only-of-type {\n",
       "        vertical-align: middle;\n",
       "    }\n",
       "\n",
       "    .dataframe tbody tr th {\n",
       "        vertical-align: top;\n",
       "    }\n",
       "\n",
       "    .dataframe thead th {\n",
       "        text-align: right;\n",
       "    }\n",
       "</style>\n",
       "<table border=\"1\" class=\"dataframe\">\n",
       "  <thead>\n",
       "    <tr style=\"text-align: right;\">\n",
       "      <th></th>\n",
       "      <th>company</th>\n",
       "      <th>date</th>\n",
       "      <th>news_url</th>\n",
       "      <th>lang</th>\n",
       "      <th>polarity</th>\n",
       "      <th>magnitude</th>\n",
       "      <th>score</th>\n",
       "      <th>numMentions</th>\n",
       "      <th>avgSalience</th>\n",
       "      <th>wiki_name</th>\n",
       "      <th>mid</th>\n",
       "      <th>wikipediaUrl</th>\n",
       "    </tr>\n",
       "  </thead>\n",
       "  <tbody>\n",
       "    <tr>\n",
       "      <th>0</th>\n",
       "      <td>Amazon.com Inc</td>\n",
       "      <td>2021-01-01T00:01:34Z</td>\n",
       "      <td>https://www.mopo.de/shoppingwelt/raclette-gril...</td>\n",
       "      <td>de</td>\n",
       "      <td>0</td>\n",
       "      <td>23.0</td>\n",
       "      <td>0.7</td>\n",
       "      <td>3.0</td>\n",
       "      <td>0.003041</td>\n",
       "      <td>Amazon</td>\n",
       "      <td>/m/0mgkg</td>\n",
       "      <td>https://en.wikipedia.org/wiki/Amazon_(company)</td>\n",
       "    </tr>\n",
       "    <tr>\n",
       "      <th>1</th>\n",
       "      <td>Amazon.com Inc</td>\n",
       "      <td>2021-01-01T00:01:35Z</td>\n",
       "      <td>https://www.express.de/shoppingwelt/amazon-kau...</td>\n",
       "      <td>de</td>\n",
       "      <td>0</td>\n",
       "      <td>5.2</td>\n",
       "      <td>0.5</td>\n",
       "      <td>8.0</td>\n",
       "      <td>0.035828</td>\n",
       "      <td>Amazon</td>\n",
       "      <td>/m/0mgkg</td>\n",
       "      <td>https://en.wikipedia.org/wiki/Amazon_(company)</td>\n",
       "    </tr>\n",
       "    <tr>\n",
       "      <th>2</th>\n",
       "      <td>Amazon.com Inc</td>\n",
       "      <td>2021-01-01T00:01:36Z</td>\n",
       "      <td>https://www.express.de/shoppingwelt/erotikkale...</td>\n",
       "      <td>de</td>\n",
       "      <td>0</td>\n",
       "      <td>25.1</td>\n",
       "      <td>0.3</td>\n",
       "      <td>9.0</td>\n",
       "      <td>0.003718</td>\n",
       "      <td>Amazon</td>\n",
       "      <td>/m/0mgkg</td>\n",
       "      <td>https://en.wikipedia.org/wiki/Amazon_(company)</td>\n",
       "    </tr>\n",
       "    <tr>\n",
       "      <th>3</th>\n",
       "      <td>Amazon.com Inc</td>\n",
       "      <td>2021-01-01T00:01:52Z</td>\n",
       "      <td>http://richmondfreepress.com/news/2020/dec/17/...</td>\n",
       "      <td>en</td>\n",
       "      <td>0</td>\n",
       "      <td>5.7</td>\n",
       "      <td>0.1</td>\n",
       "      <td>1.0</td>\n",
       "      <td>0.000158</td>\n",
       "      <td>Amazon</td>\n",
       "      <td>/m/0mgkg</td>\n",
       "      <td>https://en.wikipedia.org/wiki/Amazon_(company)</td>\n",
       "    </tr>\n",
       "    <tr>\n",
       "      <th>4</th>\n",
       "      <td>Amazon.com Inc</td>\n",
       "      <td>2021-01-01T00:01:37Z</td>\n",
       "      <td>https://www.nigeriasun.com/news/267405726/wall...</td>\n",
       "      <td>en</td>\n",
       "      <td>0</td>\n",
       "      <td>5.8</td>\n",
       "      <td>0.0</td>\n",
       "      <td>1.0</td>\n",
       "      <td>0.000660</td>\n",
       "      <td>Amazon</td>\n",
       "      <td>/m/0mgkg</td>\n",
       "      <td>https://en.wikipedia.org/wiki/Amazon_(company)</td>\n",
       "    </tr>\n",
       "    <tr>\n",
       "      <th>...</th>\n",
       "      <td>...</td>\n",
       "      <td>...</td>\n",
       "      <td>...</td>\n",
       "      <td>...</td>\n",
       "      <td>...</td>\n",
       "      <td>...</td>\n",
       "      <td>...</td>\n",
       "      <td>...</td>\n",
       "      <td>...</td>\n",
       "      <td>...</td>\n",
       "      <td>...</td>\n",
       "      <td>...</td>\n",
       "    </tr>\n",
       "    <tr>\n",
       "      <th>2418115</th>\n",
       "      <td>NIKE Inc</td>\n",
       "      <td>2021-06-25T12:17:04Z</td>\n",
       "      <td>https://www.finanznachrichten.de/nachrichten-2...</td>\n",
       "      <td>de</td>\n",
       "      <td>0</td>\n",
       "      <td>1.8</td>\n",
       "      <td>0.3</td>\n",
       "      <td>2.0</td>\n",
       "      <td>0.033076</td>\n",
       "      <td>Nike</td>\n",
       "      <td>/m/0lwkh</td>\n",
       "      <td>https://en.wikipedia.org/wiki/Nike,_Inc.</td>\n",
       "    </tr>\n",
       "    <tr>\n",
       "      <th>2418116</th>\n",
       "      <td>Credit Suisse Group AG</td>\n",
       "      <td>2021-06-25T12:17:04Z</td>\n",
       "      <td>https://www.finanznachrichten.de/nachrichten-2...</td>\n",
       "      <td>de</td>\n",
       "      <td>0</td>\n",
       "      <td>1.8</td>\n",
       "      <td>0.3</td>\n",
       "      <td>1.0</td>\n",
       "      <td>0.026427</td>\n",
       "      <td>Credit Suisse</td>\n",
       "      <td>/m/03g776</td>\n",
       "      <td>https://en.wikipedia.org/wiki/Credit_Suisse</td>\n",
       "    </tr>\n",
       "    <tr>\n",
       "      <th>2418117</th>\n",
       "      <td>Bayerische Motoren Werke AG</td>\n",
       "      <td>2021-06-25T12:17:46Z</td>\n",
       "      <td>https://k.sina.com.cn/article_7539432113_1c162...</td>\n",
       "      <td>zh</td>\n",
       "      <td>0</td>\n",
       "      <td>15.3</td>\n",
       "      <td>0.1</td>\n",
       "      <td>4.0</td>\n",
       "      <td>0.004584</td>\n",
       "      <td>宝马</td>\n",
       "      <td>/m/017yh</td>\n",
       "      <td>https://en.wikipedia.org/wiki/BMW</td>\n",
       "    </tr>\n",
       "    <tr>\n",
       "      <th>2418118</th>\n",
       "      <td>Geely Automobile Holdings Ltd</td>\n",
       "      <td>2021-06-25T12:17:22Z</td>\n",
       "      <td>http://auto.caijing.com.cn/2021/0625/4775823.s...</td>\n",
       "      <td>zh</td>\n",
       "      <td>0</td>\n",
       "      <td>4.6</td>\n",
       "      <td>0.3</td>\n",
       "      <td>4.0</td>\n",
       "      <td>0.025739</td>\n",
       "      <td>吉利控股集团</td>\n",
       "      <td>/m/03l8z2</td>\n",
       "      <td>https://en.wikipedia.org/wiki/Geely</td>\n",
       "    </tr>\n",
       "    <tr>\n",
       "      <th>2418119</th>\n",
       "      <td>Orange SA</td>\n",
       "      <td>2021-06-25T12:17:34Z</td>\n",
       "      <td>https://www.frenchweb.fr/travail-post-covid-co...</td>\n",
       "      <td>fr</td>\n",
       "      <td>0</td>\n",
       "      <td>4.9</td>\n",
       "      <td>0.0</td>\n",
       "      <td>2.0</td>\n",
       "      <td>0.000903</td>\n",
       "      <td>Orange</td>\n",
       "      <td>/m/0jd05</td>\n",
       "      <td>https://en.wikipedia.org/wiki/Orange_S.A.</td>\n",
       "    </tr>\n",
       "  </tbody>\n",
       "</table>\n",
       "<p>6556267 rows × 12 columns</p>\n",
       "</div>"
      ],
      "text/plain": [
       "                               company                  date  \\\n",
       "0                       Amazon.com Inc  2021-01-01T00:01:34Z   \n",
       "1                       Amazon.com Inc  2021-01-01T00:01:35Z   \n",
       "2                       Amazon.com Inc  2021-01-01T00:01:36Z   \n",
       "3                       Amazon.com Inc  2021-01-01T00:01:52Z   \n",
       "4                       Amazon.com Inc  2021-01-01T00:01:37Z   \n",
       "...                                ...                   ...   \n",
       "2418115                       NIKE Inc  2021-06-25T12:17:04Z   \n",
       "2418116         Credit Suisse Group AG  2021-06-25T12:17:04Z   \n",
       "2418117    Bayerische Motoren Werke AG  2021-06-25T12:17:46Z   \n",
       "2418118  Geely Automobile Holdings Ltd  2021-06-25T12:17:22Z   \n",
       "2418119                      Orange SA  2021-06-25T12:17:34Z   \n",
       "\n",
       "                                                  news_url lang  polarity  \\\n",
       "0        https://www.mopo.de/shoppingwelt/raclette-gril...   de         0   \n",
       "1        https://www.express.de/shoppingwelt/amazon-kau...   de         0   \n",
       "2        https://www.express.de/shoppingwelt/erotikkale...   de         0   \n",
       "3        http://richmondfreepress.com/news/2020/dec/17/...   en         0   \n",
       "4        https://www.nigeriasun.com/news/267405726/wall...   en         0   \n",
       "...                                                    ...  ...       ...   \n",
       "2418115  https://www.finanznachrichten.de/nachrichten-2...   de         0   \n",
       "2418116  https://www.finanznachrichten.de/nachrichten-2...   de         0   \n",
       "2418117  https://k.sina.com.cn/article_7539432113_1c162...   zh         0   \n",
       "2418118  http://auto.caijing.com.cn/2021/0625/4775823.s...   zh         0   \n",
       "2418119  https://www.frenchweb.fr/travail-post-covid-co...   fr         0   \n",
       "\n",
       "         magnitude  score  numMentions  avgSalience      wiki_name        mid  \\\n",
       "0             23.0    0.7          3.0     0.003041         Amazon   /m/0mgkg   \n",
       "1              5.2    0.5          8.0     0.035828         Amazon   /m/0mgkg   \n",
       "2             25.1    0.3          9.0     0.003718         Amazon   /m/0mgkg   \n",
       "3              5.7    0.1          1.0     0.000158         Amazon   /m/0mgkg   \n",
       "4              5.8    0.0          1.0     0.000660         Amazon   /m/0mgkg   \n",
       "...            ...    ...          ...          ...            ...        ...   \n",
       "2418115        1.8    0.3          2.0     0.033076           Nike   /m/0lwkh   \n",
       "2418116        1.8    0.3          1.0     0.026427  Credit Suisse  /m/03g776   \n",
       "2418117       15.3    0.1          4.0     0.004584             宝马   /m/017yh   \n",
       "2418118        4.6    0.3          4.0     0.025739         吉利控股集团  /m/03l8z2   \n",
       "2418119        4.9    0.0          2.0     0.000903         Orange   /m/0jd05   \n",
       "\n",
       "                                           wikipediaUrl  \n",
       "0        https://en.wikipedia.org/wiki/Amazon_(company)  \n",
       "1        https://en.wikipedia.org/wiki/Amazon_(company)  \n",
       "2        https://en.wikipedia.org/wiki/Amazon_(company)  \n",
       "3        https://en.wikipedia.org/wiki/Amazon_(company)  \n",
       "4        https://en.wikipedia.org/wiki/Amazon_(company)  \n",
       "...                                                 ...  \n",
       "2418115        https://en.wikipedia.org/wiki/Nike,_Inc.  \n",
       "2418116     https://en.wikipedia.org/wiki/Credit_Suisse  \n",
       "2418117               https://en.wikipedia.org/wiki/BMW  \n",
       "2418118             https://en.wikipedia.org/wiki/Geely  \n",
       "2418119       https://en.wikipedia.org/wiki/Orange_S.A.  \n",
       "\n",
       "[6556267 rows x 12 columns]"
      ]
     },
     "execution_count": 6,
     "metadata": {},
     "output_type": "execute_result"
    }
   ],
   "source": [
    "df_all"
   ]
  },
  {
   "cell_type": "code",
   "execution_count": null,
   "id": "e5fcda5e",
   "metadata": {},
   "outputs": [],
   "source": [
    "import pandas as pd\n",
    "df_all = pd.read_csv(\"./new/news_data.csv\")"
   ]
  },
  {
   "cell_type": "code",
   "execution_count": 7,
   "id": "6fba00e2",
   "metadata": {},
   "outputs": [
    {
     "data": {
      "text/plain": [
       "<AxesSubplot:>"
      ]
     },
     "execution_count": 7,
     "metadata": {},
     "output_type": "execute_result"
    },
    {
     "data": {
      "image/png": "[encoded data removed]",
      "text/plain": [
       "<Figure size 432x288 with 1 Axes>"
      ]
     },
     "metadata": {
      "needs_background": "light"
     },
     "output_type": "display_data"
    }
   ],
   "source": [
    "df_all.company.value_counts()[0:30].plot(kind='barh')"
   ]
  },
  {
   "cell_type": "code",
   "execution_count": 8,
   "id": "306cada2",
   "metadata": {},
   "outputs": [
    {
     "data": {
      "text/plain": [
       "1553"
      ]
     },
     "execution_count": 8,
     "metadata": {},
     "output_type": "execute_result"
    }
   ],
   "source": [
    "len(df_all.company.unique())"
   ]
  },
  {
   "cell_type": "code",
   "execution_count": 21,
   "id": "f222516a",
   "metadata": {},
   "outputs": [
    {
     "data": {
      "text/plain": [
       "<AxesSubplot:>"
      ]
     },
     "execution_count": 21,
     "metadata": {},
     "output_type": "execute_result"
    },
    {
     "data": {
      "image/png": "[encoded data removed]",
      "text/plain": [
       "<Figure size 432x288 with 1 Axes>"
      ]
     },
     "metadata": {
      "needs_background": "light"
     },
     "output_type": "display_data"
    }
   ],
   "source": [
    "df_all.groupby([\"news_url\"]).head(1).company.value_counts()[0:30].plot(kind='barh')"
   ]
  },
  {
   "cell_type": "code",
   "execution_count": null,
   "id": "f7ff17e4",
   "metadata": {},
   "outputs": [],
   "source": []
  }
 ],
 "metadata": {
  "kernelspec": {
   "display_name": "Python 3 (ipykernel)",
   "language": "python",
   "name": "python3"
  },
  "language_info": {
   "codemirror_mode": {
    "name": "ipython",
    "version": 3
   },
   "file_extension": ".py",
   "mimetype": "text/x-python",
   "name": "python",
   "nbconvert_exporter": "python",
   "pygments_lexer": "ipython3",
   "version": "3.7.11"
  }
 },
 "nbformat": 4,
 "nbformat_minor": 5
}
