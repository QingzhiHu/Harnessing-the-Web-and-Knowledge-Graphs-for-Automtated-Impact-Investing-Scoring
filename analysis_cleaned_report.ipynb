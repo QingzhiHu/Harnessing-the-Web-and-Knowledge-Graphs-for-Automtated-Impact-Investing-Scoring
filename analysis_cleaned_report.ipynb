{
 "cells": [
  {
   "cell_type": "code",
   "execution_count": 1,
   "id": "4e85c753",
   "metadata": {},
   "outputs": [
    {
     "data": {
      "text/html": [
       "<div>\n",
       "<style scoped>\n",
       "    .dataframe tbody tr th:only-of-type {\n",
       "        vertical-align: middle;\n",
       "    }\n",
       "\n",
       "    .dataframe tbody tr th {\n",
       "        vertical-align: top;\n",
       "    }\n",
       "\n",
       "    .dataframe thead th {\n",
       "        text-align: right;\n",
       "    }\n",
       "</style>\n",
       "<table border=\"1\" class=\"dataframe\">\n",
       "  <thead>\n",
       "    <tr style=\"text-align: right;\">\n",
       "      <th></th>\n",
       "      <th>company</th>\n",
       "      <th>site</th>\n",
       "      <th>summary</th>\n",
       "      <th>pdf_url</th>\n",
       "      <th>rank</th>\n",
       "      <th>relevance_score</th>\n",
       "      <th>pdf_content</th>\n",
       "      <th>Unnamed: 0.1.1.1</th>\n",
       "    </tr>\n",
       "  </thead>\n",
       "  <tbody>\n",
       "    <tr>\n",
       "      <th>0</th>\n",
       "      <td>Raiffeisen Bank International AG</td>\n",
       "      <td>Sustainability Report - rbinternational.com</td>\n",
       "      <td>We invite you to send us your questions and su...</td>\n",
       "      <td>https://www.rbinternational.com/en/sustainabil...</td>\n",
       "      <td>0</td>\n",
       "      <td>0.670837</td>\n",
       "      <td>RBI: 65% reduction till 2050Wien\\nPrag\\nZagreb...</td>\n",
       "      <td>NaN</td>\n",
       "    </tr>\n",
       "    <tr>\n",
       "      <th>1</th>\n",
       "      <td>Calavo Growers Inc</td>\n",
       "      <td>2019 SUSTAINABILITY HIGHLIGHTS REPORT - Calavo...</td>\n",
       "      <td>CALAVO GROWERS, INC. 2019 SUSTAINABILITY HIGHL...</td>\n",
       "      <td>http://www.calavo.com/pdfs/2019-Sustainability...</td>\n",
       "      <td>5</td>\n",
       "      <td>0.693384</td>\n",
       "      <td>2019\\nSUSTAINABILITY\\nHIGHLIGHTS\\nREPORT\\n I a...</td>\n",
       "      <td>NaN</td>\n",
       "    </tr>\n",
       "    <tr>\n",
       "      <th>2</th>\n",
       "      <td>Secure Energy Services Inc</td>\n",
       "      <td>Sustainability Reports - Secure Energy Services</td>\n",
       "      <td>SECURE’s purpose is to deliver energy to the w...</td>\n",
       "      <td>https://f.hubspotusercontent10.net/hubfs/61443...</td>\n",
       "      <td>6</td>\n",
       "      <td>0.708392</td>\n",
       "      <td>2020 \\n SUSTAINABILITY \\n REPORT\\n 23TABLE OF\\...</td>\n",
       "      <td>NaN</td>\n",
       "    </tr>\n",
       "    <tr>\n",
       "      <th>3</th>\n",
       "      <td>Halliburton Co</td>\n",
       "      <td>2020 Annual &amp; Sustainability Report - Halliburton</td>\n",
       "      <td>Mitigating sustained casing pressure by managi...</td>\n",
       "      <td>https://cdn.brandfolder.io/EYFW0QO1/as/h7mfxwv...</td>\n",
       "      <td>9</td>\n",
       "      <td>0.730556</td>\n",
       "      <td>1 2Introduction\\nCompany\\n at a glance\\n40,938...</td>\n",
       "      <td>NaN</td>\n",
       "    </tr>\n",
       "    <tr>\n",
       "      <th>4</th>\n",
       "      <td>ITC Ltd</td>\n",
       "      <td>ITC's Sustainability Reports - ITC Limited</td>\n",
       "      <td>ITC's Sustainability Reports from 2004. About ...</td>\n",
       "      <td>https://www.itcportal.com/sustainability/susta...</td>\n",
       "      <td>11</td>\n",
       "      <td>0.736996</td>\n",
       "      <td>\\n          ...</td>\n",
       "      <td>NaN</td>\n",
       "    </tr>\n",
       "    <tr>\n",
       "      <th>...</th>\n",
       "      <td>...</td>\n",
       "      <td>...</td>\n",
       "      <td>...</td>\n",
       "      <td>...</td>\n",
       "      <td>...</td>\n",
       "      <td>...</td>\n",
       "      <td>...</td>\n",
       "      <td>...</td>\n",
       "    </tr>\n",
       "    <tr>\n",
       "      <th>1501</th>\n",
       "      <td>Greif Inc</td>\n",
       "      <td>Greif Releases 2020 Sustainability Report High...</td>\n",
       "      <td>DELAWARE, Ohio, April 30, 2021 -- Greif, Inc. ...</td>\n",
       "      <td>https://www.greif.com/pdfs/CCPA_Privacy_Notice...</td>\n",
       "      <td>15589</td>\n",
       "      <td>1.871459</td>\n",
       "      <td>Page 1 of 4 \\n \\nCCPA Consumer Privacy Notice ...</td>\n",
       "      <td>NaN</td>\n",
       "    </tr>\n",
       "    <tr>\n",
       "      <th>1502</th>\n",
       "      <td>Entertainment One Ltd</td>\n",
       "      <td>ENTERTAINMENT ONE ANNOUNCES EUROPEAN FILM LEAD...</td>\n",
       "      <td>ENTERTAINMENT ONE ANNOUNCES EUROPEAN FILM LEAD...</td>\n",
       "      <td>https://s3.amazonaws.com/eonewebsite-prod/cmsa...</td>\n",
       "      <td>15660</td>\n",
       "      <td>1.897819</td>\n",
       "      <td>\\nEntertainment One Ltd. (the “Company”, “eOn...</td>\n",
       "      <td>NaN</td>\n",
       "    </tr>\n",
       "    <tr>\n",
       "      <th>1503</th>\n",
       "      <td>Clear Channel Outdoor Holdings Inc</td>\n",
       "      <td>INTRODUCTION - Clear Channel Outdoor</td>\n",
       "      <td>We would like to share with you the iHeartMedi...</td>\n",
       "      <td>https://clearchanneloutdoor.com/investors-pdf/...</td>\n",
       "      <td>15682</td>\n",
       "      <td>1.906255</td>\n",
       "      <td>Code of Business Conduct + Ethics\\n i\\nINTRODU...</td>\n",
       "      <td>NaN</td>\n",
       "    </tr>\n",
       "    <tr>\n",
       "      <th>1505</th>\n",
       "      <td>REN - Redes Energeticas Nacionais SGPS SA</td>\n",
       "      <td>REN - Code of Conduct</td>\n",
       "      <td>Code of Conduct. The Code of Conduct sets out ...</td>\n",
       "      <td>https://www.ren.pt/files/2019-07/2019-07-02093...</td>\n",
       "      <td>15782</td>\n",
       "      <td>2.011616</td>\n",
       "      <td>CODE\\nOF CONDUCT\\nREN\\nELÉTRICA\\nOPERATOR OF T...</td>\n",
       "      <td>NaN</td>\n",
       "    </tr>\n",
       "    <tr>\n",
       "      <th>1506</th>\n",
       "      <td>REN - Redes Energeticas Nacionais SGPS SA</td>\n",
       "      <td>REN - Code of Conduct</td>\n",
       "      <td>Code of Conduct. The Code of Conduct sets out ...</td>\n",
       "      <td>https://www.ren.pt/files/2019-07/2019-07-02093...</td>\n",
       "      <td>15784</td>\n",
       "      <td>2.021116</td>\n",
       "      <td>CODE\\nOF CONDUCT\\nREN\\nPORTGÁS DISTRIBUIÇÃO\\nN...</td>\n",
       "      <td>NaN</td>\n",
       "    </tr>\n",
       "  </tbody>\n",
       "</table>\n",
       "<p>3185 rows × 8 columns</p>\n",
       "</div>"
      ],
      "text/plain": [
       "                                        company  \\\n",
       "0              Raiffeisen Bank International AG   \n",
       "1                            Calavo Growers Inc   \n",
       "2                    Secure Energy Services Inc   \n",
       "3                                Halliburton Co   \n",
       "4                                       ITC Ltd   \n",
       "...                                         ...   \n",
       "1501                                  Greif Inc   \n",
       "1502                      Entertainment One Ltd   \n",
       "1503         Clear Channel Outdoor Holdings Inc   \n",
       "1505  REN - Redes Energeticas Nacionais SGPS SA   \n",
       "1506  REN - Redes Energeticas Nacionais SGPS SA   \n",
       "\n",
       "                                                   site  \\\n",
       "0           Sustainability Report - rbinternational.com   \n",
       "1     2019 SUSTAINABILITY HIGHLIGHTS REPORT - Calavo...   \n",
       "2       Sustainability Reports - Secure Energy Services   \n",
       "3     2020 Annual & Sustainability Report - Halliburton   \n",
       "4            ITC's Sustainability Reports - ITC Limited   \n",
       "...                                                 ...   \n",
       "1501  Greif Releases 2020 Sustainability Report High...   \n",
       "1502  ENTERTAINMENT ONE ANNOUNCES EUROPEAN FILM LEAD...   \n",
       "1503               INTRODUCTION - Clear Channel Outdoor   \n",
       "1505                              REN - Code of Conduct   \n",
       "1506                              REN - Code of Conduct   \n",
       "\n",
       "                                                summary  \\\n",
       "0     We invite you to send us your questions and su...   \n",
       "1     CALAVO GROWERS, INC. 2019 SUSTAINABILITY HIGHL...   \n",
       "2     SECURE’s purpose is to deliver energy to the w...   \n",
       "3     Mitigating sustained casing pressure by managi...   \n",
       "4     ITC's Sustainability Reports from 2004. About ...   \n",
       "...                                                 ...   \n",
       "1501  DELAWARE, Ohio, April 30, 2021 -- Greif, Inc. ...   \n",
       "1502  ENTERTAINMENT ONE ANNOUNCES EUROPEAN FILM LEAD...   \n",
       "1503  We would like to share with you the iHeartMedi...   \n",
       "1505  Code of Conduct. The Code of Conduct sets out ...   \n",
       "1506  Code of Conduct. The Code of Conduct sets out ...   \n",
       "\n",
       "                                                pdf_url   rank  \\\n",
       "0     https://www.rbinternational.com/en/sustainabil...      0   \n",
       "1     http://www.calavo.com/pdfs/2019-Sustainability...      5   \n",
       "2     https://f.hubspotusercontent10.net/hubfs/61443...      6   \n",
       "3     https://cdn.brandfolder.io/EYFW0QO1/as/h7mfxwv...      9   \n",
       "4     https://www.itcportal.com/sustainability/susta...     11   \n",
       "...                                                 ...    ...   \n",
       "1501  https://www.greif.com/pdfs/CCPA_Privacy_Notice...  15589   \n",
       "1502  https://s3.amazonaws.com/eonewebsite-prod/cmsa...  15660   \n",
       "1503  https://clearchanneloutdoor.com/investors-pdf/...  15682   \n",
       "1505  https://www.ren.pt/files/2019-07/2019-07-02093...  15782   \n",
       "1506  https://www.ren.pt/files/2019-07/2019-07-02093...  15784   \n",
       "\n",
       "      relevance_score                                        pdf_content  \\\n",
       "0            0.670837  RBI: 65% reduction till 2050Wien\\nPrag\\nZagreb...   \n",
       "1            0.693384  2019\\nSUSTAINABILITY\\nHIGHLIGHTS\\nREPORT\\n I a...   \n",
       "2            0.708392  2020 \\n SUSTAINABILITY \\n REPORT\\n 23TABLE OF\\...   \n",
       "3            0.730556  1 2Introduction\\nCompany\\n at a glance\\n40,938...   \n",
       "4            0.736996                                    \\n          ...   \n",
       "...               ...                                                ...   \n",
       "1501         1.871459  Page 1 of 4 \\n \\nCCPA Consumer Privacy Notice ...   \n",
       "1502         1.897819   \\nEntertainment One Ltd. (the “Company”, “eOn...   \n",
       "1503         1.906255  Code of Business Conduct + Ethics\\n i\\nINTRODU...   \n",
       "1505         2.011616  CODE\\nOF CONDUCT\\nREN\\nELÉTRICA\\nOPERATOR OF T...   \n",
       "1506         2.021116  CODE\\nOF CONDUCT\\nREN\\nPORTGÁS DISTRIBUIÇÃO\\nN...   \n",
       "\n",
       "      Unnamed: 0.1.1.1  \n",
       "0                  NaN  \n",
       "1                  NaN  \n",
       "2                  NaN  \n",
       "3                  NaN  \n",
       "4                  NaN  \n",
       "...                ...  \n",
       "1501               NaN  \n",
       "1502               NaN  \n",
       "1503               NaN  \n",
       "1505               NaN  \n",
       "1506               NaN  \n",
       "\n",
       "[3185 rows x 8 columns]"
      ]
     },
     "execution_count": 1,
     "metadata": {},
     "output_type": "execute_result"
    }
   ],
   "source": [
    "import pandas as pd\n",
    "df1 = pd.read_csv(\"./wiki_data/sus_report_content.tsv\", sep=\"\\t\")\n",
    "df2 = pd.read_csv(\"./wiki_data/sus_reports_content_alll1.tsv\", sep=\"\\t\")\n",
    "df3 = pd.read_csv(\"./wiki_data/sus_reports_content_alll2.tsv\", sep=\"\\t\")\n",
    "df = pd.concat([df1,df2,df3]).drop_duplicates(subset=[\"company\",\"pdf_url\"], keep=\"first\").drop([\"Unnamed: 0\",\"Unnamed: 0.1\",\"id\",\"Unnamed: 0.1.1\"],axis=1)\n",
    "df"
   ]
  },
  {
   "cell_type": "code",
   "execution_count": 2,
   "id": "53beca4e",
   "metadata": {},
   "outputs": [],
   "source": [
    "df.to_csv(\"./wiki_data/sustainability_reports.csv\",sep=\"\\t\")"
   ]
  },
  {
   "cell_type": "code",
   "execution_count": 3,
   "id": "088d4542",
   "metadata": {},
   "outputs": [
    {
     "data": {
      "text/plain": [
       "1315"
      ]
     },
     "execution_count": 3,
     "metadata": {},
     "output_type": "execute_result"
    }
   ],
   "source": [
    "len(df.company.unique())"
   ]
  },
  {
   "cell_type": "code",
   "execution_count": 4,
   "id": "f9fa31ac",
   "metadata": {},
   "outputs": [],
   "source": [
    "which_SDG = \"SDG_01_NET_ALIGNMENT_SCORE\""
   ]
  },
  {
   "cell_type": "code",
   "execution_count": 5,
   "id": "0be7fd73",
   "metadata": {},
   "outputs": [],
   "source": [
    "msci_companies = pd.read_csv(\"./data/msci.csv\")[[\"Company Name\", which_SDG]].dropna()[\"Company Name\"].values\n"
   ]
  },
  {
   "cell_type": "code",
   "execution_count": 6,
   "id": "8b3c1cea",
   "metadata": {},
   "outputs": [
    {
     "name": "stderr",
     "output_type": "stream",
     "text": [
      "100%|███████████████████████████████████| 3185/3185 [00:00<00:00, 247666.03it/s]\n"
     ]
    }
   ],
   "source": [
    "from tqdm import tqdm\n",
    "tqdm.pandas()\n",
    "\n",
    "from urllib.parse import urlparse\n",
    "def get_domain(x):\n",
    "    domain = urlparse(x).netloc\n",
    "    return domain\n",
    "\n",
    "df_domain = pd.read_csv(\"./wiki_data/domain_correct.csv\", sep=\"\\t\")[[\"company\",\"domain\"]]\n",
    "df[\"domain2\"] = df[\"pdf_url\"].progress_apply(get_domain)"
   ]
  },
  {
   "cell_type": "code",
   "execution_count": 7,
   "id": "27eefc42",
   "metadata": {},
   "outputs": [
    {
     "data": {
      "text/html": [
       "<div>\n",
       "<style scoped>\n",
       "    .dataframe tbody tr th:only-of-type {\n",
       "        vertical-align: middle;\n",
       "    }\n",
       "\n",
       "    .dataframe tbody tr th {\n",
       "        vertical-align: top;\n",
       "    }\n",
       "\n",
       "    .dataframe thead th {\n",
       "        text-align: right;\n",
       "    }\n",
       "</style>\n",
       "<table border=\"1\" class=\"dataframe\">\n",
       "  <thead>\n",
       "    <tr style=\"text-align: right;\">\n",
       "      <th></th>\n",
       "      <th>company</th>\n",
       "      <th>site</th>\n",
       "      <th>summary</th>\n",
       "      <th>pdf_url</th>\n",
       "      <th>rank</th>\n",
       "      <th>relevance_score</th>\n",
       "      <th>pdf_content</th>\n",
       "      <th>Unnamed: 0.1.1.1</th>\n",
       "      <th>domain2</th>\n",
       "      <th>domain</th>\n",
       "      <th>type</th>\n",
       "    </tr>\n",
       "  </thead>\n",
       "  <tbody>\n",
       "    <tr>\n",
       "      <th>0</th>\n",
       "      <td>Raiffeisen Bank International AG</td>\n",
       "      <td>Sustainability Report - rbinternational.com</td>\n",
       "      <td>We invite you to send us your questions and su...</td>\n",
       "      <td>https://www.rbinternational.com/en/sustainabil...</td>\n",
       "      <td>0</td>\n",
       "      <td>0.670837</td>\n",
       "      <td>RBI: 65% reduction till 2050Wien\\nPrag\\nZagreb...</td>\n",
       "      <td>NaN</td>\n",
       "      <td>www.rbinternational.com</td>\n",
       "      <td>www.rbinternational.com</td>\n",
       "      <td>report</td>\n",
       "    </tr>\n",
       "    <tr>\n",
       "      <th>4</th>\n",
       "      <td>ITC Ltd</td>\n",
       "      <td>ITC's Sustainability Reports - ITC Limited</td>\n",
       "      <td>ITC's Sustainability Reports from 2004. About ...</td>\n",
       "      <td>https://www.itcportal.com/sustainability/susta...</td>\n",
       "      <td>11</td>\n",
       "      <td>0.736996</td>\n",
       "      <td>\\n          ...</td>\n",
       "      <td>NaN</td>\n",
       "      <td>www.itcportal.com</td>\n",
       "      <td>www.itcportal.com</td>\n",
       "      <td>report</td>\n",
       "    </tr>\n",
       "    <tr>\n",
       "      <th>6</th>\n",
       "      <td>HCL Technologies Ltd</td>\n",
       "      <td>HCL Economic, Social, and Environmental Sustai...</td>\n",
       "      <td>HCL Technologies received an “A” ranking which...</td>\n",
       "      <td>https://www.hcltech.com/sites/default/files/do...</td>\n",
       "      <td>14</td>\n",
       "      <td>0.739722</td>\n",
       "      <td>Creating harmony \\nbetween \\npeople, planet an...</td>\n",
       "      <td>NaN</td>\n",
       "      <td>www.hcltech.com</td>\n",
       "      <td>www.hcltech.com</td>\n",
       "      <td>report</td>\n",
       "    </tr>\n",
       "    <tr>\n",
       "      <th>10</th>\n",
       "      <td>Community Health Systems Inc</td>\n",
       "      <td>Our Ongoing Commitment to Sustainability | Com...</td>\n",
       "      <td>Sustainability. Use of 30-watt or less lightbu...</td>\n",
       "      <td>https://www.chs.net/CHS 2021 Environmental Sus...</td>\n",
       "      <td>28</td>\n",
       "      <td>0.761613</td>\n",
       "      <td>\\n \\n \\n \\n \\n \\n \\n \\n \\n \\n2021 Environment...</td>\n",
       "      <td>NaN</td>\n",
       "      <td>www.chs.net</td>\n",
       "      <td>www.chs.net</td>\n",
       "      <td>report</td>\n",
       "    </tr>\n",
       "    <tr>\n",
       "      <th>11</th>\n",
       "      <td>Nidec Corp</td>\n",
       "      <td>CSR Report 2020 - Nidec Corporation</td>\n",
       "      <td>Nidec Group’s corporate structure, business ph...</td>\n",
       "      <td>https://www.nidec.com/en/sustainability/report...</td>\n",
       "      <td>30</td>\n",
       "      <td>0.765377</td>\n",
       "      <td>Contributing to the world by making products t...</td>\n",
       "      <td>NaN</td>\n",
       "      <td>www.nidec.com</td>\n",
       "      <td>www.nidec.com</td>\n",
       "      <td>report</td>\n",
       "    </tr>\n",
       "    <tr>\n",
       "      <th>...</th>\n",
       "      <td>...</td>\n",
       "      <td>...</td>\n",
       "      <td>...</td>\n",
       "      <td>...</td>\n",
       "      <td>...</td>\n",
       "      <td>...</td>\n",
       "      <td>...</td>\n",
       "      <td>...</td>\n",
       "      <td>...</td>\n",
       "      <td>...</td>\n",
       "      <td>...</td>\n",
       "    </tr>\n",
       "    <tr>\n",
       "      <th>3179</th>\n",
       "      <td>Navigator Co SA</td>\n",
       "      <td>The Navigator Company</td>\n",
       "      <td>THE NAVIGATOR COMPANY 13 ANNUAL REPORT 2015 2 ...</td>\n",
       "      <td>http://www.thenavigatorcompany.com/var/ezdemo_...</td>\n",
       "      <td>15576</td>\n",
       "      <td>1.866900</td>\n",
       "      <td>The Portucel Soporcel group\\nis now \\nT H E...</td>\n",
       "      <td>NaN</td>\n",
       "      <td>www.thenavigatorcompany.com</td>\n",
       "      <td>www.thenavigatorcompany.com</td>\n",
       "      <td>report</td>\n",
       "    </tr>\n",
       "    <tr>\n",
       "      <th>3180</th>\n",
       "      <td>Greif Inc</td>\n",
       "      <td>Greif Releases 2020 Sustainability Report High...</td>\n",
       "      <td>DELAWARE, Ohio, April 30, 2021 -- Greif, Inc. ...</td>\n",
       "      <td>https://www.greif.com/pdfs/CCPA_Privacy_Notice...</td>\n",
       "      <td>15589</td>\n",
       "      <td>1.871459</td>\n",
       "      <td>Page 1 of 4 \\n \\nCCPA Consumer Privacy Notice ...</td>\n",
       "      <td>NaN</td>\n",
       "      <td>www.greif.com</td>\n",
       "      <td>www.greif.com</td>\n",
       "      <td>report</td>\n",
       "    </tr>\n",
       "    <tr>\n",
       "      <th>3182</th>\n",
       "      <td>Clear Channel Outdoor Holdings Inc</td>\n",
       "      <td>INTRODUCTION - Clear Channel Outdoor</td>\n",
       "      <td>We would like to share with you the iHeartMedi...</td>\n",
       "      <td>https://clearchanneloutdoor.com/investors-pdf/...</td>\n",
       "      <td>15682</td>\n",
       "      <td>1.906255</td>\n",
       "      <td>Code of Business Conduct + Ethics\\n i\\nINTRODU...</td>\n",
       "      <td>NaN</td>\n",
       "      <td>clearchanneloutdoor.com</td>\n",
       "      <td>clearchanneloutdoor.com</td>\n",
       "      <td>report</td>\n",
       "    </tr>\n",
       "    <tr>\n",
       "      <th>3183</th>\n",
       "      <td>REN - Redes Energeticas Nacionais SGPS SA</td>\n",
       "      <td>REN - Code of Conduct</td>\n",
       "      <td>Code of Conduct. The Code of Conduct sets out ...</td>\n",
       "      <td>https://www.ren.pt/files/2019-07/2019-07-02093...</td>\n",
       "      <td>15782</td>\n",
       "      <td>2.011616</td>\n",
       "      <td>CODE\\nOF CONDUCT\\nREN\\nELÉTRICA\\nOPERATOR OF T...</td>\n",
       "      <td>NaN</td>\n",
       "      <td>www.ren.pt</td>\n",
       "      <td>www.ren.pt</td>\n",
       "      <td>report</td>\n",
       "    </tr>\n",
       "    <tr>\n",
       "      <th>3184</th>\n",
       "      <td>REN - Redes Energeticas Nacionais SGPS SA</td>\n",
       "      <td>REN - Code of Conduct</td>\n",
       "      <td>Code of Conduct. The Code of Conduct sets out ...</td>\n",
       "      <td>https://www.ren.pt/files/2019-07/2019-07-02093...</td>\n",
       "      <td>15784</td>\n",
       "      <td>2.021116</td>\n",
       "      <td>CODE\\nOF CONDUCT\\nREN\\nPORTGÁS DISTRIBUIÇÃO\\nN...</td>\n",
       "      <td>NaN</td>\n",
       "      <td>www.ren.pt</td>\n",
       "      <td>www.ren.pt</td>\n",
       "      <td>report</td>\n",
       "    </tr>\n",
       "  </tbody>\n",
       "</table>\n",
       "<p>1558 rows × 11 columns</p>\n",
       "</div>"
      ],
      "text/plain": [
       "                                        company  \\\n",
       "0              Raiffeisen Bank International AG   \n",
       "4                                       ITC Ltd   \n",
       "6                          HCL Technologies Ltd   \n",
       "10                 Community Health Systems Inc   \n",
       "11                                   Nidec Corp   \n",
       "...                                         ...   \n",
       "3179                            Navigator Co SA   \n",
       "3180                                  Greif Inc   \n",
       "3182         Clear Channel Outdoor Holdings Inc   \n",
       "3183  REN - Redes Energeticas Nacionais SGPS SA   \n",
       "3184  REN - Redes Energeticas Nacionais SGPS SA   \n",
       "\n",
       "                                                   site  \\\n",
       "0           Sustainability Report - rbinternational.com   \n",
       "4            ITC's Sustainability Reports - ITC Limited   \n",
       "6     HCL Economic, Social, and Environmental Sustai...   \n",
       "10    Our Ongoing Commitment to Sustainability | Com...   \n",
       "11                  CSR Report 2020 - Nidec Corporation   \n",
       "...                                                 ...   \n",
       "3179                              The Navigator Company   \n",
       "3180  Greif Releases 2020 Sustainability Report High...   \n",
       "3182               INTRODUCTION - Clear Channel Outdoor   \n",
       "3183                              REN - Code of Conduct   \n",
       "3184                              REN - Code of Conduct   \n",
       "\n",
       "                                                summary  \\\n",
       "0     We invite you to send us your questions and su...   \n",
       "4     ITC's Sustainability Reports from 2004. About ...   \n",
       "6     HCL Technologies received an “A” ranking which...   \n",
       "10    Sustainability. Use of 30-watt or less lightbu...   \n",
       "11    Nidec Group’s corporate structure, business ph...   \n",
       "...                                                 ...   \n",
       "3179  THE NAVIGATOR COMPANY 13 ANNUAL REPORT 2015 2 ...   \n",
       "3180  DELAWARE, Ohio, April 30, 2021 -- Greif, Inc. ...   \n",
       "3182  We would like to share with you the iHeartMedi...   \n",
       "3183  Code of Conduct. The Code of Conduct sets out ...   \n",
       "3184  Code of Conduct. The Code of Conduct sets out ...   \n",
       "\n",
       "                                                pdf_url   rank  \\\n",
       "0     https://www.rbinternational.com/en/sustainabil...      0   \n",
       "4     https://www.itcportal.com/sustainability/susta...     11   \n",
       "6     https://www.hcltech.com/sites/default/files/do...     14   \n",
       "10    https://www.chs.net/CHS 2021 Environmental Sus...     28   \n",
       "11    https://www.nidec.com/en/sustainability/report...     30   \n",
       "...                                                 ...    ...   \n",
       "3179  http://www.thenavigatorcompany.com/var/ezdemo_...  15576   \n",
       "3180  https://www.greif.com/pdfs/CCPA_Privacy_Notice...  15589   \n",
       "3182  https://clearchanneloutdoor.com/investors-pdf/...  15682   \n",
       "3183  https://www.ren.pt/files/2019-07/2019-07-02093...  15782   \n",
       "3184  https://www.ren.pt/files/2019-07/2019-07-02093...  15784   \n",
       "\n",
       "      relevance_score                                        pdf_content  \\\n",
       "0            0.670837  RBI: 65% reduction till 2050Wien\\nPrag\\nZagreb...   \n",
       "4            0.736996                                    \\n          ...   \n",
       "6            0.739722  Creating harmony \\nbetween \\npeople, planet an...   \n",
       "10           0.761613   \\n \\n \\n \\n \\n \\n \\n \\n \\n \\n2021 Environment...   \n",
       "11           0.765377  Contributing to the world by making products t...   \n",
       "...               ...                                                ...   \n",
       "3179         1.866900     The Portucel Soporcel group\\nis now \\nT H E...   \n",
       "3180         1.871459  Page 1 of 4 \\n \\nCCPA Consumer Privacy Notice ...   \n",
       "3182         1.906255  Code of Business Conduct + Ethics\\n i\\nINTRODU...   \n",
       "3183         2.011616  CODE\\nOF CONDUCT\\nREN\\nELÉTRICA\\nOPERATOR OF T...   \n",
       "3184         2.021116  CODE\\nOF CONDUCT\\nREN\\nPORTGÁS DISTRIBUIÇÃO\\nN...   \n",
       "\n",
       "      Unnamed: 0.1.1.1                      domain2  \\\n",
       "0                  NaN      www.rbinternational.com   \n",
       "4                  NaN            www.itcportal.com   \n",
       "6                  NaN              www.hcltech.com   \n",
       "10                 NaN                  www.chs.net   \n",
       "11                 NaN                www.nidec.com   \n",
       "...                ...                          ...   \n",
       "3179               NaN  www.thenavigatorcompany.com   \n",
       "3180               NaN                www.greif.com   \n",
       "3182               NaN      clearchanneloutdoor.com   \n",
       "3183               NaN                   www.ren.pt   \n",
       "3184               NaN                   www.ren.pt   \n",
       "\n",
       "                           domain    type  \n",
       "0         www.rbinternational.com  report  \n",
       "4               www.itcportal.com  report  \n",
       "6                 www.hcltech.com  report  \n",
       "10                    www.chs.net  report  \n",
       "11                  www.nidec.com  report  \n",
       "...                           ...     ...  \n",
       "3179  www.thenavigatorcompany.com  report  \n",
       "3180                www.greif.com  report  \n",
       "3182      clearchanneloutdoor.com  report  \n",
       "3183                   www.ren.pt  report  \n",
       "3184                   www.ren.pt  report  \n",
       "\n",
       "[1558 rows x 11 columns]"
      ]
     },
     "execution_count": 7,
     "metadata": {},
     "output_type": "execute_result"
    }
   ],
   "source": [
    "df_merge = df.merge(df_domain[[\"company\", \"domain\"]], on=\"company\", how=\"left\")\n",
    "df_merge = df_merge[df_merge.domain == df_merge.domain2]\n",
    "df_merge[\"type\"] = \"report\"\n",
    "df_merge = df_merge[df_merge.company.isin(msci_companies)]\n",
    "df_merge"
   ]
  },
  {
   "cell_type": "code",
   "execution_count": 8,
   "id": "94e6a91c",
   "metadata": {},
   "outputs": [],
   "source": [
    "# df_pdf[\"pdf_content\"] = df_pdf[\"pdf_content\"].apply(lambda x: np.nan if x==np.nan else str(x).encode('utf-8', 'replace').decode('utf-8'))\n",
    "df_merge[\"pdf_content\"] = df_merge[\"pdf_content\"].astype(\"str\")"
   ]
  },
  {
   "cell_type": "code",
   "execution_count": 9,
   "id": "d3e76e97",
   "metadata": {},
   "outputs": [
    {
     "data": {
      "text/html": [
       "<div>\n",
       "<style scoped>\n",
       "    .dataframe tbody tr th:only-of-type {\n",
       "        vertical-align: middle;\n",
       "    }\n",
       "\n",
       "    .dataframe tbody tr th {\n",
       "        vertical-align: top;\n",
       "    }\n",
       "\n",
       "    .dataframe thead th {\n",
       "        text-align: right;\n",
       "    }\n",
       "</style>\n",
       "<table border=\"1\" class=\"dataframe\">\n",
       "  <thead>\n",
       "    <tr style=\"text-align: right;\">\n",
       "      <th></th>\n",
       "      <th>pdf_url</th>\n",
       "      <th>all_content</th>\n",
       "    </tr>\n",
       "  </thead>\n",
       "  <tbody>\n",
       "    <tr>\n",
       "      <th>0</th>\n",
       "      <td>https://www.rbinternational.com/en/sustainabil...</td>\n",
       "      <td>RBI: 65% reduction till 2050Wien\\nPrag\\nZagreb...</td>\n",
       "    </tr>\n",
       "    <tr>\n",
       "      <th>6</th>\n",
       "      <td>https://www.hcltech.com/sites/default/files/do...</td>\n",
       "      <td>Creating harmony \\nbetween \\npeople, planet an...</td>\n",
       "    </tr>\n",
       "    <tr>\n",
       "      <th>10</th>\n",
       "      <td>https://www.chs.net/CHS 2021 Environmental Sus...</td>\n",
       "      <td>\\n \\n \\n \\n \\n \\n \\n \\n \\n \\n2021 Environment...</td>\n",
       "    </tr>\n",
       "    <tr>\n",
       "      <th>11</th>\n",
       "      <td>https://www.nidec.com/en/sustainability/report...</td>\n",
       "      <td>Contributing to the world by making products t...</td>\n",
       "    </tr>\n",
       "    <tr>\n",
       "      <th>13</th>\n",
       "      <td>https://www.clpgroup.com/content/dam/clp-group...</td>\n",
       "      <td>2018 Sustainability \\nReport Data TableKey per...</td>\n",
       "    </tr>\n",
       "    <tr>\n",
       "      <th>...</th>\n",
       "      <td>...</td>\n",
       "      <td>...</td>\n",
       "    </tr>\n",
       "    <tr>\n",
       "      <th>3167</th>\n",
       "      <td>https://danskebank.com/-/media/danske-bank-com...</td>\n",
       "      <td>\\n \\n \\n \\n \\n \\n \\n \\n \\n \\n \\n \\n \\n \\n \\n ...</td>\n",
       "    </tr>\n",
       "    <tr>\n",
       "      <th>3168</th>\n",
       "      <td>https://www.skf.com/binaries/pub12/Images/SKFI...</td>\n",
       "      <td>Corporate Social Responsibility\\nPolicy\\nSKF I...</td>\n",
       "    </tr>\n",
       "    <tr>\n",
       "      <th>3173</th>\n",
       "      <td>http://www.thenavigatorcompany.com/var/ezdemo_...</td>\n",
       "      <td>Sustainalytics ESG Risk Rating Summary Report\\...</td>\n",
       "    </tr>\n",
       "    <tr>\n",
       "      <th>3175</th>\n",
       "      <td>https://www.hp.com/us-en/pdf/hp_csr_full_hi_tc...</td>\n",
       "      <td>social and environmental \\nresponsibility repo...</td>\n",
       "    </tr>\n",
       "    <tr>\n",
       "      <th>3179</th>\n",
       "      <td>http://www.thenavigatorcompany.com/var/ezdemo_...</td>\n",
       "      <td>The Portucel Soporcel group\\nis now \\nT H E...</td>\n",
       "    </tr>\n",
       "  </tbody>\n",
       "</table>\n",
       "<p>1273 rows × 2 columns</p>\n",
       "</div>"
      ],
      "text/plain": [
       "                                                pdf_url  \\\n",
       "0     https://www.rbinternational.com/en/sustainabil...   \n",
       "6     https://www.hcltech.com/sites/default/files/do...   \n",
       "10    https://www.chs.net/CHS 2021 Environmental Sus...   \n",
       "11    https://www.nidec.com/en/sustainability/report...   \n",
       "13    https://www.clpgroup.com/content/dam/clp-group...   \n",
       "...                                                 ...   \n",
       "3167  https://danskebank.com/-/media/danske-bank-com...   \n",
       "3168  https://www.skf.com/binaries/pub12/Images/SKFI...   \n",
       "3173  http://www.thenavigatorcompany.com/var/ezdemo_...   \n",
       "3175  https://www.hp.com/us-en/pdf/hp_csr_full_hi_tc...   \n",
       "3179  http://www.thenavigatorcompany.com/var/ezdemo_...   \n",
       "\n",
       "                                            all_content  \n",
       "0     RBI: 65% reduction till 2050Wien\\nPrag\\nZagreb...  \n",
       "6     Creating harmony \\nbetween \\npeople, planet an...  \n",
       "10     \\n \\n \\n \\n \\n \\n \\n \\n \\n \\n2021 Environment...  \n",
       "11    Contributing to the world by making products t...  \n",
       "13    2018 Sustainability \\nReport Data TableKey per...  \n",
       "...                                                 ...  \n",
       "3167   \\n \\n \\n \\n \\n \\n \\n \\n \\n \\n \\n \\n \\n \\n \\n ...  \n",
       "3168  Corporate Social Responsibility\\nPolicy\\nSKF I...  \n",
       "3173  Sustainalytics ESG Risk Rating Summary Report\\...  \n",
       "3175  social and environmental \\nresponsibility repo...  \n",
       "3179     The Portucel Soporcel group\\nis now \\nT H E...  \n",
       "\n",
       "[1273 rows x 2 columns]"
      ]
     },
     "execution_count": 9,
     "metadata": {},
     "output_type": "execute_result"
    }
   ],
   "source": [
    "df_merge[\"all_content\"] = df_merge[[\"pdf_url\", \"pdf_content\"]].groupby(\"pdf_url\").transform(lambda x: ','.join(x))\n",
    "df_temp = df_merge[[\"pdf_url\", \"all_content\"]]\n",
    "df_temp = df_temp.drop_duplicates(subset=[\"pdf_url\"])\n",
    "df_temp = df_temp[df_temp.all_content.str.lower().str.contains(\"sustainab\")]\n",
    "# df_temp = df_temp[(df_temp.pdf_url.str.contains(\"2018\"))|(df_temp.pdf_url.str.contains(\"2019\"))|(df_temp.pdf_url.str.contains(\"2020\"))|(df_temp.pdf_url.str.contains(\"2021\"))|(df_temp.pdf_url.str.contains(\"2022\"))]\n",
    "df_temp"
   ]
  },
  {
   "cell_type": "code",
   "execution_count": 10,
   "id": "0875d3e2",
   "metadata": {},
   "outputs": [
    {
     "data": {
      "text/html": [
       "<div>\n",
       "<style scoped>\n",
       "    .dataframe tbody tr th:only-of-type {\n",
       "        vertical-align: middle;\n",
       "    }\n",
       "\n",
       "    .dataframe tbody tr th {\n",
       "        vertical-align: top;\n",
       "    }\n",
       "\n",
       "    .dataframe thead th {\n",
       "        text-align: right;\n",
       "    }\n",
       "</style>\n",
       "<table border=\"1\" class=\"dataframe\">\n",
       "  <thead>\n",
       "    <tr style=\"text-align: right;\">\n",
       "      <th></th>\n",
       "      <th>company</th>\n",
       "      <th>site</th>\n",
       "      <th>summary</th>\n",
       "      <th>pdf_url</th>\n",
       "      <th>rank</th>\n",
       "      <th>relevance_score</th>\n",
       "      <th>pdf_content</th>\n",
       "      <th>Unnamed: 0.1.1.1</th>\n",
       "      <th>domain2</th>\n",
       "      <th>domain</th>\n",
       "      <th>type</th>\n",
       "      <th>all_content</th>\n",
       "    </tr>\n",
       "  </thead>\n",
       "  <tbody>\n",
       "    <tr>\n",
       "      <th>0</th>\n",
       "      <td>Raiffeisen Bank International AG</td>\n",
       "      <td>Sustainability Report - rbinternational.com</td>\n",
       "      <td>We invite you to send us your questions and su...</td>\n",
       "      <td>https://www.rbinternational.com/en/sustainabil...</td>\n",
       "      <td>0</td>\n",
       "      <td>0.670837</td>\n",
       "      <td>RBI: 65% reduction till 2050Wien\\nPrag\\nZagreb...</td>\n",
       "      <td>NaN</td>\n",
       "      <td>www.rbinternational.com</td>\n",
       "      <td>www.rbinternational.com</td>\n",
       "      <td>report</td>\n",
       "      <td>RBI: 65% reduction till 2050Wien\\nPrag\\nZagreb...</td>\n",
       "    </tr>\n",
       "    <tr>\n",
       "      <th>6</th>\n",
       "      <td>HCL Technologies Ltd</td>\n",
       "      <td>HCL Economic, Social, and Environmental Sustai...</td>\n",
       "      <td>HCL Technologies received an “A” ranking which...</td>\n",
       "      <td>https://www.hcltech.com/sites/default/files/do...</td>\n",
       "      <td>14</td>\n",
       "      <td>0.739722</td>\n",
       "      <td>Creating harmony \\nbetween \\npeople, planet an...</td>\n",
       "      <td>NaN</td>\n",
       "      <td>www.hcltech.com</td>\n",
       "      <td>www.hcltech.com</td>\n",
       "      <td>report</td>\n",
       "      <td>Creating harmony \\nbetween \\npeople, planet an...</td>\n",
       "    </tr>\n",
       "    <tr>\n",
       "      <th>10</th>\n",
       "      <td>Community Health Systems Inc</td>\n",
       "      <td>Our Ongoing Commitment to Sustainability | Com...</td>\n",
       "      <td>Sustainability. Use of 30-watt or less lightbu...</td>\n",
       "      <td>https://www.chs.net/CHS 2021 Environmental Sus...</td>\n",
       "      <td>28</td>\n",
       "      <td>0.761613</td>\n",
       "      <td>\\n \\n \\n \\n \\n \\n \\n \\n \\n \\n2021 Environment...</td>\n",
       "      <td>NaN</td>\n",
       "      <td>www.chs.net</td>\n",
       "      <td>www.chs.net</td>\n",
       "      <td>report</td>\n",
       "      <td>\\n \\n \\n \\n \\n \\n \\n \\n \\n \\n2021 Environment...</td>\n",
       "    </tr>\n",
       "    <tr>\n",
       "      <th>11</th>\n",
       "      <td>Nidec Corp</td>\n",
       "      <td>CSR Report 2020 - Nidec Corporation</td>\n",
       "      <td>Nidec Group’s corporate structure, business ph...</td>\n",
       "      <td>https://www.nidec.com/en/sustainability/report...</td>\n",
       "      <td>30</td>\n",
       "      <td>0.765377</td>\n",
       "      <td>Contributing to the world by making products t...</td>\n",
       "      <td>NaN</td>\n",
       "      <td>www.nidec.com</td>\n",
       "      <td>www.nidec.com</td>\n",
       "      <td>report</td>\n",
       "      <td>Contributing to the world by making products t...</td>\n",
       "    </tr>\n",
       "    <tr>\n",
       "      <th>13</th>\n",
       "      <td>CLP Holdings Ltd</td>\n",
       "      <td>Sustainability Reports - CLP Group</td>\n",
       "      <td>Sustainability Reports. Published in March of ...</td>\n",
       "      <td>https://www.clpgroup.com/content/dam/clp-group...</td>\n",
       "      <td>35</td>\n",
       "      <td>0.770577</td>\n",
       "      <td>2018 Sustainability \\nReport Data TableKey per...</td>\n",
       "      <td>NaN</td>\n",
       "      <td>www.clpgroup.com</td>\n",
       "      <td>www.clpgroup.com</td>\n",
       "      <td>report</td>\n",
       "      <td>2018 Sustainability \\nReport Data TableKey per...</td>\n",
       "    </tr>\n",
       "    <tr>\n",
       "      <th>...</th>\n",
       "      <td>...</td>\n",
       "      <td>...</td>\n",
       "      <td>...</td>\n",
       "      <td>...</td>\n",
       "      <td>...</td>\n",
       "      <td>...</td>\n",
       "      <td>...</td>\n",
       "      <td>...</td>\n",
       "      <td>...</td>\n",
       "      <td>...</td>\n",
       "      <td>...</td>\n",
       "      <td>...</td>\n",
       "    </tr>\n",
       "    <tr>\n",
       "      <th>3167</th>\n",
       "      <td>Danske Bank A/S</td>\n",
       "      <td>Active Ownership Instruction</td>\n",
       "      <td>Sustainability factors means environmental, so...</td>\n",
       "      <td>https://danskebank.com/-/media/danske-bank-com...</td>\n",
       "      <td>15423</td>\n",
       "      <td>1.835826</td>\n",
       "      <td>\\n \\n \\n \\n \\n \\n \\n \\n \\n \\n \\n \\n \\n \\n \\n ...</td>\n",
       "      <td>NaN</td>\n",
       "      <td>danskebank.com</td>\n",
       "      <td>danskebank.com</td>\n",
       "      <td>report</td>\n",
       "      <td>\\n \\n \\n \\n \\n \\n \\n \\n \\n \\n \\n \\n \\n \\n \\n ...</td>\n",
       "    </tr>\n",
       "    <tr>\n",
       "      <th>3168</th>\n",
       "      <td>SKF AB</td>\n",
       "      <td>Corporate Social Responsibility Policy SKF Ind...</td>\n",
       "      <td>Environment Care Community care 1.2 SKF Commun...</td>\n",
       "      <td>https://www.skf.com/binaries/pub12/Images/SKFI...</td>\n",
       "      <td>15424</td>\n",
       "      <td>1.836010</td>\n",
       "      <td>Corporate Social Responsibility\\nPolicy\\nSKF I...</td>\n",
       "      <td>NaN</td>\n",
       "      <td>www.skf.com</td>\n",
       "      <td>www.skf.com</td>\n",
       "      <td>report</td>\n",
       "      <td>Corporate Social Responsibility\\nPolicy\\nSKF I...</td>\n",
       "    </tr>\n",
       "    <tr>\n",
       "      <th>3173</th>\n",
       "      <td>Navigator Co SA</td>\n",
       "      <td>The Navigator Co. SA</td>\n",
       "      <td>Sustainalytics ESG Risk Rating Summary Report ...</td>\n",
       "      <td>http://www.thenavigatorcompany.com/var/ezdemo_...</td>\n",
       "      <td>15512</td>\n",
       "      <td>1.852518</td>\n",
       "      <td>Sustainalytics ESG Risk Rating Summary Report\\...</td>\n",
       "      <td>NaN</td>\n",
       "      <td>www.thenavigatorcompany.com</td>\n",
       "      <td>www.thenavigatorcompany.com</td>\n",
       "      <td>report</td>\n",
       "      <td>Sustainalytics ESG Risk Rating Summary Report\\...</td>\n",
       "    </tr>\n",
       "    <tr>\n",
       "      <th>3175</th>\n",
       "      <td>HP Inc</td>\n",
       "      <td>social and environmental responsibility report...</td>\n",
       "      <td>about this report This report tells the story ...</td>\n",
       "      <td>https://www.hp.com/us-en/pdf/hp_csr_full_hi_tc...</td>\n",
       "      <td>15520</td>\n",
       "      <td>1.854339</td>\n",
       "      <td>social and environmental \\nresponsibility repo...</td>\n",
       "      <td>NaN</td>\n",
       "      <td>www.hp.com</td>\n",
       "      <td>www.hp.com</td>\n",
       "      <td>report</td>\n",
       "      <td>social and environmental \\nresponsibility repo...</td>\n",
       "    </tr>\n",
       "    <tr>\n",
       "      <th>3179</th>\n",
       "      <td>Navigator Co SA</td>\n",
       "      <td>The Navigator Company</td>\n",
       "      <td>THE NAVIGATOR COMPANY 13 ANNUAL REPORT 2015 2 ...</td>\n",
       "      <td>http://www.thenavigatorcompany.com/var/ezdemo_...</td>\n",
       "      <td>15576</td>\n",
       "      <td>1.866900</td>\n",
       "      <td>The Portucel Soporcel group\\nis now \\nT H E...</td>\n",
       "      <td>NaN</td>\n",
       "      <td>www.thenavigatorcompany.com</td>\n",
       "      <td>www.thenavigatorcompany.com</td>\n",
       "      <td>report</td>\n",
       "      <td>The Portucel Soporcel group\\nis now \\nT H E...</td>\n",
       "    </tr>\n",
       "  </tbody>\n",
       "</table>\n",
       "<p>1273 rows × 12 columns</p>\n",
       "</div>"
      ],
      "text/plain": [
       "                               company  \\\n",
       "0     Raiffeisen Bank International AG   \n",
       "6                 HCL Technologies Ltd   \n",
       "10        Community Health Systems Inc   \n",
       "11                          Nidec Corp   \n",
       "13                    CLP Holdings Ltd   \n",
       "...                                ...   \n",
       "3167                   Danske Bank A/S   \n",
       "3168                            SKF AB   \n",
       "3173                   Navigator Co SA   \n",
       "3175                            HP Inc   \n",
       "3179                   Navigator Co SA   \n",
       "\n",
       "                                                   site  \\\n",
       "0           Sustainability Report - rbinternational.com   \n",
       "6     HCL Economic, Social, and Environmental Sustai...   \n",
       "10    Our Ongoing Commitment to Sustainability | Com...   \n",
       "11                  CSR Report 2020 - Nidec Corporation   \n",
       "13                   Sustainability Reports - CLP Group   \n",
       "...                                                 ...   \n",
       "3167                       Active Ownership Instruction   \n",
       "3168  Corporate Social Responsibility Policy SKF Ind...   \n",
       "3173                               The Navigator Co. SA   \n",
       "3175  social and environmental responsibility report...   \n",
       "3179                              The Navigator Company   \n",
       "\n",
       "                                                summary  \\\n",
       "0     We invite you to send us your questions and su...   \n",
       "6     HCL Technologies received an “A” ranking which...   \n",
       "10    Sustainability. Use of 30-watt or less lightbu...   \n",
       "11    Nidec Group’s corporate structure, business ph...   \n",
       "13    Sustainability Reports. Published in March of ...   \n",
       "...                                                 ...   \n",
       "3167  Sustainability factors means environmental, so...   \n",
       "3168  Environment Care Community care 1.2 SKF Commun...   \n",
       "3173  Sustainalytics ESG Risk Rating Summary Report ...   \n",
       "3175  about this report This report tells the story ...   \n",
       "3179  THE NAVIGATOR COMPANY 13 ANNUAL REPORT 2015 2 ...   \n",
       "\n",
       "                                                pdf_url   rank  \\\n",
       "0     https://www.rbinternational.com/en/sustainabil...      0   \n",
       "6     https://www.hcltech.com/sites/default/files/do...     14   \n",
       "10    https://www.chs.net/CHS 2021 Environmental Sus...     28   \n",
       "11    https://www.nidec.com/en/sustainability/report...     30   \n",
       "13    https://www.clpgroup.com/content/dam/clp-group...     35   \n",
       "...                                                 ...    ...   \n",
       "3167  https://danskebank.com/-/media/danske-bank-com...  15423   \n",
       "3168  https://www.skf.com/binaries/pub12/Images/SKFI...  15424   \n",
       "3173  http://www.thenavigatorcompany.com/var/ezdemo_...  15512   \n",
       "3175  https://www.hp.com/us-en/pdf/hp_csr_full_hi_tc...  15520   \n",
       "3179  http://www.thenavigatorcompany.com/var/ezdemo_...  15576   \n",
       "\n",
       "      relevance_score                                        pdf_content  \\\n",
       "0            0.670837  RBI: 65% reduction till 2050Wien\\nPrag\\nZagreb...   \n",
       "6            0.739722  Creating harmony \\nbetween \\npeople, planet an...   \n",
       "10           0.761613   \\n \\n \\n \\n \\n \\n \\n \\n \\n \\n2021 Environment...   \n",
       "11           0.765377  Contributing to the world by making products t...   \n",
       "13           0.770577  2018 Sustainability \\nReport Data TableKey per...   \n",
       "...               ...                                                ...   \n",
       "3167         1.835826   \\n \\n \\n \\n \\n \\n \\n \\n \\n \\n \\n \\n \\n \\n \\n ...   \n",
       "3168         1.836010  Corporate Social Responsibility\\nPolicy\\nSKF I...   \n",
       "3173         1.852518  Sustainalytics ESG Risk Rating Summary Report\\...   \n",
       "3175         1.854339  social and environmental \\nresponsibility repo...   \n",
       "3179         1.866900     The Portucel Soporcel group\\nis now \\nT H E...   \n",
       "\n",
       "      Unnamed: 0.1.1.1                      domain2  \\\n",
       "0                  NaN      www.rbinternational.com   \n",
       "6                  NaN              www.hcltech.com   \n",
       "10                 NaN                  www.chs.net   \n",
       "11                 NaN                www.nidec.com   \n",
       "13                 NaN             www.clpgroup.com   \n",
       "...                ...                          ...   \n",
       "3167               NaN               danskebank.com   \n",
       "3168               NaN                  www.skf.com   \n",
       "3173               NaN  www.thenavigatorcompany.com   \n",
       "3175               NaN                   www.hp.com   \n",
       "3179               NaN  www.thenavigatorcompany.com   \n",
       "\n",
       "                           domain    type  \\\n",
       "0         www.rbinternational.com  report   \n",
       "6                 www.hcltech.com  report   \n",
       "10                    www.chs.net  report   \n",
       "11                  www.nidec.com  report   \n",
       "13               www.clpgroup.com  report   \n",
       "...                           ...     ...   \n",
       "3167               danskebank.com  report   \n",
       "3168                  www.skf.com  report   \n",
       "3173  www.thenavigatorcompany.com  report   \n",
       "3175                   www.hp.com  report   \n",
       "3179  www.thenavigatorcompany.com  report   \n",
       "\n",
       "                                            all_content  \n",
       "0     RBI: 65% reduction till 2050Wien\\nPrag\\nZagreb...  \n",
       "6     Creating harmony \\nbetween \\npeople, planet an...  \n",
       "10     \\n \\n \\n \\n \\n \\n \\n \\n \\n \\n2021 Environment...  \n",
       "11    Contributing to the world by making products t...  \n",
       "13    2018 Sustainability \\nReport Data TableKey per...  \n",
       "...                                                 ...  \n",
       "3167   \\n \\n \\n \\n \\n \\n \\n \\n \\n \\n \\n \\n \\n \\n \\n ...  \n",
       "3168  Corporate Social Responsibility\\nPolicy\\nSKF I...  \n",
       "3173  Sustainalytics ESG Risk Rating Summary Report\\...  \n",
       "3175  social and environmental \\nresponsibility repo...  \n",
       "3179     The Portucel Soporcel group\\nis now \\nT H E...  \n",
       "\n",
       "[1273 rows x 12 columns]"
      ]
     },
     "execution_count": 10,
     "metadata": {},
     "output_type": "execute_result"
    }
   ],
   "source": [
    "df_merge = df_merge[df_merge.pdf_url.isin(df_temp.pdf_url.values)]\n",
    "df_merge"
   ]
  },
  {
   "cell_type": "code",
   "execution_count": 11,
   "id": "5e6422d3",
   "metadata": {},
   "outputs": [
    {
     "name": "stderr",
     "output_type": "stream",
     "text": [
      "100%|███████████████████████████████████| 2572/2572 [00:00<00:00, 277941.67it/s]\n"
     ]
    },
    {
     "data": {
      "text/html": [
       "<div>\n",
       "<style scoped>\n",
       "    .dataframe tbody tr th:only-of-type {\n",
       "        vertical-align: middle;\n",
       "    }\n",
       "\n",
       "    .dataframe tbody tr th {\n",
       "        vertical-align: top;\n",
       "    }\n",
       "\n",
       "    .dataframe thead th {\n",
       "        text-align: right;\n",
       "    }\n",
       "</style>\n",
       "<table border=\"1\" class=\"dataframe\">\n",
       "  <thead>\n",
       "    <tr style=\"text-align: right;\">\n",
       "      <th></th>\n",
       "      <th>company</th>\n",
       "      <th>url</th>\n",
       "      <th>web_content</th>\n",
       "      <th>domain2</th>\n",
       "      <th>domain</th>\n",
       "      <th>type</th>\n",
       "    </tr>\n",
       "  </thead>\n",
       "  <tbody>\n",
       "    <tr>\n",
       "      <th>0</th>\n",
       "      <td>City Developments Ltd</td>\n",
       "      <td>https://cdl.com.sg/newsroom/cdl-integrated-sus...</td>\n",
       "      <td>\\n \\n \\n \\n \\n \\n\\t\\t\\t\\t\\t\\t\\n\\t\\t\\t\\t\\t\\t\\t...</td>\n",
       "      <td>cdl.com.sg</td>\n",
       "      <td>cdl.com.sg</td>\n",
       "      <td>web</td>\n",
       "    </tr>\n",
       "    <tr>\n",
       "      <th>1</th>\n",
       "      <td>Wiwynn Corp</td>\n",
       "      <td>https://www.wiwynn.com/esg/sustainable-governa...</td>\n",
       "      <td>Sustainable Governance - Wiwynn              ...</td>\n",
       "      <td>www.wiwynn.com</td>\n",
       "      <td>www.wiwynn.com</td>\n",
       "      <td>web</td>\n",
       "    </tr>\n",
       "    <tr>\n",
       "      <th>2</th>\n",
       "      <td>Legal &amp; General Group PLC</td>\n",
       "      <td>https://group.legalandgeneral.com/en/sustainab...</td>\n",
       "      <td>\\n  \\n \\n \\n \\n \\n \\n \\n \\n \\n \\n \\n \\n \\n \\n ...</td>\n",
       "      <td>group.legalandgeneral.com</td>\n",
       "      <td>group.legalandgeneral.com</td>\n",
       "      <td>web</td>\n",
       "    </tr>\n",
       "    <tr>\n",
       "      <th>3</th>\n",
       "      <td>Amorepacific Corp</td>\n",
       "      <td>https://www.apgroup.com/sg/en/sustainability/s...</td>\n",
       "      <td>\\n  \\n \\n \\n \\n \\n  \\n  \\n  \\n Sustainability ...</td>\n",
       "      <td>www.apgroup.com</td>\n",
       "      <td>www.apgroup.com</td>\n",
       "      <td>web</td>\n",
       "    </tr>\n",
       "    <tr>\n",
       "      <th>4</th>\n",
       "      <td>Legal &amp; General Group PLC</td>\n",
       "      <td>https://group.legalandgeneral.com/en/sustainab...</td>\n",
       "      <td>\\n  \\n \\n \\n \\n \\n \\n \\n \\n \\n \\n \\n \\n \\n \\n ...</td>\n",
       "      <td>group.legalandgeneral.com</td>\n",
       "      <td>group.legalandgeneral.com</td>\n",
       "      <td>web</td>\n",
       "    </tr>\n",
       "    <tr>\n",
       "      <th>...</th>\n",
       "      <td>...</td>\n",
       "      <td>...</td>\n",
       "      <td>...</td>\n",
       "      <td>...</td>\n",
       "      <td>...</td>\n",
       "      <td>...</td>\n",
       "    </tr>\n",
       "    <tr>\n",
       "      <th>2551</th>\n",
       "      <td>AIB Group PLC</td>\n",
       "      <td>https://group.aib.ie/</td>\n",
       "      <td>\\n  \\n \\n \\n \\n \\n \\n \\n \\n \\n \\n \\n \\n Group ...</td>\n",
       "      <td>group.aib.ie</td>\n",
       "      <td>group.aib.ie</td>\n",
       "      <td>web</td>\n",
       "    </tr>\n",
       "    <tr>\n",
       "      <th>2553</th>\n",
       "      <td>CNH Industrial NV</td>\n",
       "      <td>https://www.cnhindustrial.com/en-us/careers/ov...</td>\n",
       "      <td>\\n  \\n \\n  \\n \\n \\n  \\n  \\n \\r\\n\\tCNH Industri...</td>\n",
       "      <td>www.cnhindustrial.com</td>\n",
       "      <td>www.cnhindustrial.com</td>\n",
       "      <td>web</td>\n",
       "    </tr>\n",
       "    <tr>\n",
       "      <th>2558</th>\n",
       "      <td>Fortive Corp</td>\n",
       "      <td>https://www.fortive.com/terms-use</td>\n",
       "      <td>\\n \\n \\n \\n \\n \\n \\n \\n \\n \\n \\n \\n \\n Terms ...</td>\n",
       "      <td>www.fortive.com</td>\n",
       "      <td>www.fortive.com</td>\n",
       "      <td>web</td>\n",
       "    </tr>\n",
       "    <tr>\n",
       "      <th>2562</th>\n",
       "      <td>Aspen Pharmacare Holdings Ltd</td>\n",
       "      <td>https://www.aspenpharma.com/</td>\n",
       "      <td>\\n \\n \\n \\n \\n \\n \\n \\n  \\n \\n  Aspen Pharmac...</td>\n",
       "      <td>www.aspenpharma.com</td>\n",
       "      <td>www.aspenpharma.com</td>\n",
       "      <td>web</td>\n",
       "    </tr>\n",
       "    <tr>\n",
       "      <th>2566</th>\n",
       "      <td>Falabella SA</td>\n",
       "      <td>https://www.falabella.com/falabella-cl/product...</td>\n",
       "      <td>LOGITECH Mouse Wireless Bt Logitech Mx Mas...</td>\n",
       "      <td>www.falabella.com</td>\n",
       "      <td>www.falabella.com</td>\n",
       "      <td>web</td>\n",
       "    </tr>\n",
       "  </tbody>\n",
       "</table>\n",
       "<p>2027 rows × 6 columns</p>\n",
       "</div>"
      ],
      "text/plain": [
       "                            company  \\\n",
       "0             City Developments Ltd   \n",
       "1                       Wiwynn Corp   \n",
       "2         Legal & General Group PLC   \n",
       "3                 Amorepacific Corp   \n",
       "4         Legal & General Group PLC   \n",
       "...                             ...   \n",
       "2551                  AIB Group PLC   \n",
       "2553              CNH Industrial NV   \n",
       "2558                   Fortive Corp   \n",
       "2562  Aspen Pharmacare Holdings Ltd   \n",
       "2566                   Falabella SA   \n",
       "\n",
       "                                                    url  \\\n",
       "0     https://cdl.com.sg/newsroom/cdl-integrated-sus...   \n",
       "1     https://www.wiwynn.com/esg/sustainable-governa...   \n",
       "2     https://group.legalandgeneral.com/en/sustainab...   \n",
       "3     https://www.apgroup.com/sg/en/sustainability/s...   \n",
       "4     https://group.legalandgeneral.com/en/sustainab...   \n",
       "...                                                 ...   \n",
       "2551                              https://group.aib.ie/   \n",
       "2553  https://www.cnhindustrial.com/en-us/careers/ov...   \n",
       "2558                  https://www.fortive.com/terms-use   \n",
       "2562                       https://www.aspenpharma.com/   \n",
       "2566  https://www.falabella.com/falabella-cl/product...   \n",
       "\n",
       "                                            web_content  \\\n",
       "0      \\n \\n \\n \\n \\n \\n\\t\\t\\t\\t\\t\\t\\n\\t\\t\\t\\t\\t\\t\\t...   \n",
       "1      Sustainable Governance - Wiwynn              ...   \n",
       "2     \\n  \\n \\n \\n \\n \\n \\n \\n \\n \\n \\n \\n \\n \\n \\n ...   \n",
       "3     \\n  \\n \\n \\n \\n \\n  \\n  \\n  \\n Sustainability ...   \n",
       "4     \\n  \\n \\n \\n \\n \\n \\n \\n \\n \\n \\n \\n \\n \\n \\n ...   \n",
       "...                                                 ...   \n",
       "2551  \\n  \\n \\n \\n \\n \\n \\n \\n \\n \\n \\n \\n \\n Group ...   \n",
       "2553  \\n  \\n \\n  \\n \\n \\n  \\n  \\n \\r\\n\\tCNH Industri...   \n",
       "2558   \\n \\n \\n \\n \\n \\n \\n \\n \\n \\n \\n \\n \\n Terms ...   \n",
       "2562   \\n \\n \\n \\n \\n \\n \\n \\n  \\n \\n  Aspen Pharmac...   \n",
       "2566      LOGITECH Mouse Wireless Bt Logitech Mx Mas...   \n",
       "\n",
       "                        domain2                     domain type  \n",
       "0                    cdl.com.sg                 cdl.com.sg  web  \n",
       "1                www.wiwynn.com             www.wiwynn.com  web  \n",
       "2     group.legalandgeneral.com  group.legalandgeneral.com  web  \n",
       "3               www.apgroup.com            www.apgroup.com  web  \n",
       "4     group.legalandgeneral.com  group.legalandgeneral.com  web  \n",
       "...                         ...                        ...  ...  \n",
       "2551               group.aib.ie               group.aib.ie  web  \n",
       "2553      www.cnhindustrial.com      www.cnhindustrial.com  web  \n",
       "2558            www.fortive.com            www.fortive.com  web  \n",
       "2562        www.aspenpharma.com        www.aspenpharma.com  web  \n",
       "2566          www.falabella.com          www.falabella.com  web  \n",
       "\n",
       "[2027 rows x 6 columns]"
      ]
     },
     "execution_count": 11,
     "metadata": {},
     "output_type": "execute_result"
    }
   ],
   "source": [
    "df_web = pd.read_csv(\"./wiki_data/sus_web_content.csv\", sep=\"\\t\")[[\"company\", \"url\", \"web_content\"]]\n",
    "df_web = df_web.dropna()\n",
    "df_web = df_web[df_web.company.isin(msci_companies)]\n",
    "df_web[\"domain2\"] = df_web[\"url\"].progress_apply(get_domain)\n",
    "df_merge2 = df_web.merge(df_domain[[\"company\", \"domain\"]], on=\"company\", how=\"left\")\n",
    "df_merge2 = df_merge2[df_merge2.domain==df_merge2.domain2]\n",
    "df_merge2[\"type\"] = \"web\"\n",
    "df_merge2 = df_merge2[df_merge2.company.isin(msci_companies)]\n",
    "df_merge2 = df_merge2[df_merge2.web_content.str.lower().str.contains(\"sustainab\")]\n",
    "# df_merge2 = df_merge2[(df_merge2.content.str.contains(\"2018\"))|(df_merge2.content.str.contains(\"2019\"))|(df_merge2.content.str.contains(\"2020\"))|(df_merge2.content.str.contains(\"2021\"))|(df_merge2.content.str.contains(\"2022\"))]\n",
    "df_merge2"
   ]
  },
  {
   "cell_type": "code",
   "execution_count": 12,
   "id": "f854fcfd",
   "metadata": {},
   "outputs": [],
   "source": [
    "df_merge3 = pd.concat([df_merge[[\"company\",\"pdf_url\",\"all_content\",\"type\"]].rename(columns = {\"pdf_url\":\"url\",\"all_content\":\"content\"}),df_merge2[[\"company\",\"url\",\"web_content\",\"type\"]].rename(columns = {\"web_content\":\"content\"})])\n",
    "# len(df_merge3.company.unique())"
   ]
  },
  {
   "cell_type": "code",
   "execution_count": 14,
   "id": "2bb60eb1",
   "metadata": {},
   "outputs": [],
   "source": [
    "df_merge3.to_csv(\"./wiki_data/reports_and_web.csv\",sep=\"\\t\")"
   ]
  },
  {
   "cell_type": "code",
   "execution_count": 20,
   "id": "1aea9e02",
   "metadata": {},
   "outputs": [
    {
     "name": "stderr",
     "output_type": "stream",
     "text": [
      "[nltk_data] Downloading package wordnet to /home/qingzhi/nltk_data...\n",
      "[nltk_data]   Package wordnet is already up-to-date!\n",
      "[nltk_data] Downloading package punkt to /home/qingzhi/nltk_data...\n",
      "[nltk_data]   Package punkt is already up-to-date!\n",
      "100%|██████████████████████████████████████| 3300/3300 [00:11<00:00, 279.51it/s]\n"
     ]
    },
    {
     "name": "stdout",
     "output_type": "stream",
     "text": [
      "start\n"
     ]
    },
    {
     "name": "stderr",
     "output_type": "stream",
     "text": [
      "100%|███████████████████████████████████████| 3300/3300 [00:49<00:00, 66.57it/s]\n"
     ]
    },
    {
     "name": "stdout",
     "output_type": "stream",
     "text": [
      "second split sentences\n"
     ]
    },
    {
     "name": "stderr",
     "output_type": "stream",
     "text": [
      "100%|███████████████████████████████| 911282/911282 [00:01<00:00, 738672.66it/s]\n"
     ]
    }
   ],
   "source": [
    "# from pandarallel import pandarallel\n",
    "# pandarallel.initialize(progress_bar = True)\n",
    "\n",
    "def clean_content_all(x):\n",
    "    character_list = []\n",
    "    a_string = x\n",
    "    a_string = a_string.rstrip(\"\\n\")\n",
    "    a_string = a_string.replace(\"..\", \".\")\n",
    "    a_string = a_string.replace(\"  \", \".\")\n",
    "    for character in a_string:\n",
    "        if character.isalnum() or (character in [\",\", \".\", \" \", \"-\", \"%\", \"!\", \";\", \"(\", \")\"]):\n",
    "            character_list.append(character)\n",
    "    if character_list == []:\n",
    "        return None\n",
    "    else:\n",
    "        return \"\".join(character_list)\n",
    "\n",
    "# clean pdf\n",
    "import nltk\n",
    "nltk.download('wordnet')\n",
    "nltk.download('punkt')\n",
    "\n",
    "import string\n",
    "import re\n",
    "from tqdm import tqdm\n",
    "import pandas as pd\n",
    "tqdm.pandas()\n",
    " \n",
    "def extract_statements(text):\n",
    "  \n",
    "  # remove non ASCII characters\n",
    "  printable = set(string.printable)\n",
    "  text = ''.join(filter(lambda x: x in printable, text))\n",
    "  \n",
    "  lines = []\n",
    "  prev = \"\"\n",
    "  for line in text.split('\\n'):\n",
    "    # aggregate consecutive lines where text may be broken down\n",
    "    # only if next line starts with a space or previous does not end with a dot.\n",
    "    if(line.startswith(' ') or not prev.endswith('.')):\n",
    "        prev = prev + ' ' + line\n",
    "    else:\n",
    "        # new paragraph\n",
    "        lines.append(prev)\n",
    "        prev = line\n",
    "        \n",
    "  # don't forget left-over paragraph\n",
    "  lines.append(prev)\n",
    " \n",
    "  # clean paragraphs from extra space, unwanted characters, urls, etc.\n",
    "  # best effort clean up, consider a more versatile cleaner\n",
    "  sentences = []\n",
    "  \n",
    "  for line in lines:\n",
    "      # removing header number\n",
    "      line = re.sub(r'^\\s?\\d+(.*)$', r'\\1', line)\n",
    "      # removing trailing spaces\n",
    "      line = line.strip()\n",
    "      # words may be split between lines, ensure we link them back together\n",
    "      line = re.sub(r'\\s?-\\s?', '-', line)\n",
    "      # remove space prior to punctuation\n",
    "      line = re.sub(r'\\s?([,:;\\.])', r'\\1', line)\n",
    "      # ESG contains a lot of figures that are not relevant to grammatical structure\n",
    "      line = re.sub(r'\\d{5,}', r' ', line)\n",
    "      # remove mentions of URLs\n",
    "      line = re.sub(r'((http|https)\\:\\/\\/)?[a-zA-Z0-9\\.\\/\\?\\:@\\-_=#]+\\.([a-zA-Z]){2,6}([a-zA-Z0-9\\.\\&\\/\\?\\:@\\-_=#])*', r' ', line)\n",
    "      # remove multiple spaces\n",
    "      line = re.sub(r'\\s+', ' ', line)\n",
    "      # remove multiple dot\n",
    "      line = re.sub(r'\\.+', '.', line)\n",
    "      \n",
    "      # split paragraphs into well defined sentences using nltk\n",
    "      for part in nltk.sent_tokenize(line):\n",
    "        sentences.append(str(part).strip())\n",
    " \n",
    "  return sentences  \n",
    "\n",
    "\n",
    "\n",
    "# df_merge3 = df_merge3[[\"url\",\"content\",\"company\", \"type\"]]\n",
    "df_merge3 = df_merge3.dropna()\n",
    "\n",
    "df_merge3[\"content_clean\"] = df_merge3[\"content\"].progress_apply(clean_content_all)\n",
    "df_merge3 = df_merge3.dropna()\n",
    "print(\"start\")\n",
    "df_merge3[\"statement\"] = df_merge3[\"content_clean\"].progress_apply(extract_statements)\n",
    "df_merge3 = df_merge3.explode('statement').reset_index(drop=True)\n",
    "df_merge3 = df_merge3.dropna()\n",
    "\n",
    "def split_sentence(text):\n",
    "    return text.split(\".\")\n",
    "print(\"second split sentences\")\n",
    "df_merge3[\"statement\"] = df_merge3[\"statement\"].progress_apply(split_sentence)\n",
    "df_merge3 = df_merge3.explode('statement').reset_index(drop=True)\n",
    "df_merge3 = df_merge3.dropna()\n"
   ]
  },
  {
   "cell_type": "code",
   "execution_count": 31,
   "id": "2813f572",
   "metadata": {},
   "outputs": [],
   "source": [
    "# ################################new section classification\n",
    "# import sys\n",
    "# sys.path.append(\"/home/qingzhi/.conda/envs/test/lib/python3.9/site-packages\")\n",
    "# import transformers\n",
    "# print(transformers.__version__)\n",
    "\n",
    "# import pandas as pd\n",
    "# import numpy as np\n",
    "# msci = pd.read_csv(\"./data/msci.csv\")\n",
    "# msci2 = pd.read_csv(\"./data/msci2.csv\")\n",
    "\n",
    "# # variable = 'GICS Industry'\n",
    "# # variable2 = \"SDG_01_NET_ALIGNMENT_SCORE\"\n",
    "# # variable3 = 'SDG_01_ALIGNMENT_SUMMARY'\n",
    "# # variable4 = 'SDG_01_OPER_ALIGNMENT_SCORE'\n",
    "# variable5_list = [\"SDG_01_PROD_ALIGNMENT_SCORE\",\"SDG_02_PROD_ALIGNMENT_SCORE\",\"SDG_03_PROD_ALIGNMENT_SCORE\",\"SDG_04_PROD_ALIGNMENT_SCORE\",\"SDG_05_PROD_ALIGNMENT_SCORE\",\"SDG_06_PROD_ALIGNMENT_SCORE\",\"SDG_07_PROD_ALIGNMENT_SCORE\",\"SDG_08_PROD_ALIGNMENT_SCORE\",\"SDG_09_PROD_ALIGNMENT_SCORE\",\"SDG_10_PROD_ALIGNMENT_SCORE\",\"SDG_11_PROD_ALIGNMENT_SCORE\",\"SDG_12_PROD_ALIGNMENT_SCORE\",\"SDG_13_PROD_ALIGNMENT_SCORE\",\"SDG_14_PROD_ALIGNMENT_SCORE\",\"SDG_15_PROD_ALIGNMENT_SCORE\",\"SDG_16_PROD_ALIGNMENT_SCORE\",\"SDG_17_PROD_ALIGNMENT_SCORE\"]\n",
    "# variable6_list = []\n",
    "# for x in variable5_list:\n",
    "#     variable6_list.append(x.replace(\"_SCORE\",\"\"))\n",
    "# content_list = [\"No poverty\",\"Zero hunger\",\"Good health and well-being\", \"Quality education\", \"Gender equality\", \"Clean water and sanitation\", \"Affordable and clean energy\", \"Decent work and economic growth\", \"Industry, Innovation and Infrastructure\", \"Reduced inequality\", \"Sustainable cities and communities\", \"Responsible consumption and production\", \"Climate action\", \"Life below water\", \"Life on land\", \"Peace, justice and strong institutions\", \"Partnership for the goals\"]\n",
    "# number_list = range(1,18)\n",
    "\n",
    "# for variable5, variable6, content, number in tqdm(zip(variable5_list,variable6_list,content_list,number_list),total=17):\n",
    "#     print(variable5, variable6, content, number)\n",
    "#     # break\n",
    "\n",
    "#     SDG1 = msci[[\"Company Name\", \"Company ID\"]].dropna()\n",
    "#     SDG2 = msci2[[\"ISSUER_NAME\", \"Figi\", variable5, variable6]].dropna()\n",
    "\n",
    "#     df_label = SDG1.merge(SDG2, left_on=\"Company ID\", right_on=\"Figi\")[[\"Company Name\", variable5, variable6]]\n",
    "#     df_label = df_label.rename(columns = {\"Company Name\": \"company\"})\n",
    "#     df_label\n",
    "\n",
    "#     # pd.set_option('display.max_colwidth', 200)\n",
    "#     temp = df_merge3[(df_merge3.statement.str.lower().str.contains(content.lower()))][[\"company\",\"url\",\"statement\"]]\n",
    "#     #&(df_merge3.statement.str.contains(\"SDG\"))\n",
    "#     temp = temp.merge(df_label,on=\"company\")\n",
    "#     temp[\"mentioned\"] = True\n",
    "#     temp[\"SDG\"] = np.repeat(number,len(temp))\n",
    "#     temp.to_csv(\"./temp_data/mentioned/SDG_\"+str(number)+\".csv\")\n",
    "#     temp\n",
    "# # temp.to_csv()\n",
    "# # temp[temp.company==\"SAP SE\"]\n",
    "# # temp.company.value_counts()"
   ]
  },
  {
   "cell_type": "code",
   "execution_count": null,
   "id": "9242e60d",
   "metadata": {},
   "outputs": [],
   "source": []
  },
  {
   "cell_type": "code",
   "execution_count": null,
   "id": "0a848024",
   "metadata": {},
   "outputs": [],
   "source": [
    "# len(\"our contribution to proverty involved\")"
   ]
  },
  {
   "cell_type": "code",
   "execution_count": null,
   "id": "3c136f0b",
   "metadata": {},
   "outputs": [],
   "source": [
    "df_merge3 = df_merge3[df_merge3.statement.str.len()>50]\n",
    "df_merge3"
   ]
  },
  {
   "cell_type": "code",
   "execution_count": 32,
   "id": "20d8fa8c",
   "metadata": {},
   "outputs": [
    {
     "name": "stderr",
     "output_type": "stream",
     "text": [
      "100%|██████████████████████████████| 810322/810322 [00:00<00:00, 1949447.42it/s]\n",
      "100%|███████████████████████████████| 810322/810322 [00:07<00:00, 115164.45it/s]\n"
     ]
    }
   ],
   "source": [
    "def get_company_prefix(x):\n",
    "    return x.split(\" \")[0].lower()\n",
    "\n",
    "df_merge3[\"company_prefix\"] = df_merge3[\"company\"].progress_apply(get_company_prefix)\n",
    "df_merge3['contained'] = df_merge3.progress_apply(lambda x: x.company_prefix in x.statement, axis=1)\n",
    "df_merge3 = df_merge3[(df_merge3.contained == True)|(df_merge3.statement.str.lower().str.contains(\"we \"))|(df_merge3.statement.str.lower().str.contains(\"our \"))|(df_merge3.statement.str.lower().str.contains(\" us \"))|(df_merge3.statement.str.lower().str.contains(\" ours\"))|(df_merge3.statement.str.lower().str.contains(\"our \"))|(df_merge3.statement.str.lower().str.contains(\" ourselves\"))]"
   ]
  },
  {
   "cell_type": "code",
   "execution_count": 35,
   "id": "9f2f9c53",
   "metadata": {},
   "outputs": [
    {
     "data": {
      "text/plain": [
       "834"
      ]
     },
     "execution_count": 35,
     "metadata": {},
     "output_type": "execute_result"
    }
   ],
   "source": [
    "# anti-scrapper\n",
    "# other language (need another procedure 1. detect language 2. translate sustainability to other language 3. find sustainable in different languages)\n",
    "# df_merge_final = pd.concat([df_merge[[\"company\", \"pdf_url\", \"statement\", \"type\"]].rename(columns={\"pdf_url\":\"url\"}), df_merge2[[\"company\", \"url\", \"statement\", \"type\"]]], axis=0)\n",
    "df_merge_final = df_merge3[[\"company\",\"url\",\"statement\",\"type\"]]\n",
    "len(df_merge_final.company.unique())"
   ]
  },
  {
   "cell_type": "code",
   "execution_count": 39,
   "id": "80f7d778",
   "metadata": {},
   "outputs": [
    {
     "data": {
      "text/html": [
       "<div>\n",
       "<style scoped>\n",
       "    .dataframe tbody tr th:only-of-type {\n",
       "        vertical-align: middle;\n",
       "    }\n",
       "\n",
       "    .dataframe tbody tr th {\n",
       "        vertical-align: top;\n",
       "    }\n",
       "\n",
       "    .dataframe thead th {\n",
       "        text-align: right;\n",
       "    }\n",
       "</style>\n",
       "<table border=\"1\" class=\"dataframe\">\n",
       "  <thead>\n",
       "    <tr style=\"text-align: right;\">\n",
       "      <th></th>\n",
       "      <th>company</th>\n",
       "      <th>url</th>\n",
       "      <th>statement</th>\n",
       "      <th>type</th>\n",
       "    </tr>\n",
       "  </thead>\n",
       "  <tbody>\n",
       "    <tr>\n",
       "      <th>0</th>\n",
       "      <td>Raiffeisen Bank International AG</td>\n",
       "      <td>https://www.rbinternational.com/en/sustainabil...</td>\n",
       "      <td>RBI 65% reduction till 2050WienPragZagrebParis...</td>\n",
       "      <td>report</td>\n",
       "    </tr>\n",
       "    <tr>\n",
       "      <th>5</th>\n",
       "      <td>Raiffeisen Bank International AG</td>\n",
       "      <td>https://www.rbinternational.com/en/sustainabil...</td>\n",
       "      <td>6 million in COVID-19 donationsRBI Sustainabil...</td>\n",
       "      <td>report</td>\n",
       "    </tr>\n",
       "    <tr>\n",
       "      <th>7</th>\n",
       "      <td>Raiffeisen Bank International AG</td>\n",
       "      <td>https://www.rbinternational.com/en/sustainabil...</td>\n",
       "      <td>Nevertheless, we cannot completely rule out th...</td>\n",
       "      <td>report</td>\n",
       "    </tr>\n",
       "    <tr>\n",
       "      <th>9</th>\n",
       "      <td>Raiffeisen Bank International AG</td>\n",
       "      <td>https://www.rbinternational.com/en/sustainabil...</td>\n",
       "      <td>Statements onfuture developments are based on ...</td>\n",
       "      <td>report</td>\n",
       "    </tr>\n",
       "    <tr>\n",
       "      <th>15</th>\n",
       "      <td>Raiffeisen Bank International AG</td>\n",
       "      <td>https://www.rbinternational.com/en/sustainabil...</td>\n",
       "      <td>We therefore ask for your understanding that w...</td>\n",
       "      <td>report</td>\n",
       "    </tr>\n",
       "    <tr>\n",
       "      <th>...</th>\n",
       "      <td>...</td>\n",
       "      <td>...</td>\n",
       "      <td>...</td>\n",
       "      <td>...</td>\n",
       "    </tr>\n",
       "    <tr>\n",
       "      <th>2340508</th>\n",
       "      <td>Aspen Pharmacare Holdings Ltd</td>\n",
       "      <td>https://www.aspenpharma.com/</td>\n",
       "      <td>In South Africa, four out of the top 15 brands...</td>\n",
       "      <td>web</td>\n",
       "    </tr>\n",
       "    <tr>\n",
       "      <th>2340530</th>\n",
       "      <td>Aspen Pharmacare Holdings Ltd</td>\n",
       "      <td>https://www.aspenpharma.com/</td>\n",
       "      <td>Asia This region comprises all Asian territori...</td>\n",
       "      <td>web</td>\n",
       "    </tr>\n",
       "    <tr>\n",
       "      <th>2340536</th>\n",
       "      <td>Aspen Pharmacare Holdings Ltd</td>\n",
       "      <td>https://www.aspenpharma.com/</td>\n",
       "      <td>Our manufacturing facility in India is our pri...</td>\n",
       "      <td>web</td>\n",
       "    </tr>\n",
       "    <tr>\n",
       "      <th>2340566</th>\n",
       "      <td>Aspen Pharmacare Holdings Ltd</td>\n",
       "      <td>https://www.aspenpharma.com/</td>\n",
       "      <td>Manufacturing activities include active pharma...</td>\n",
       "      <td>web</td>\n",
       "    </tr>\n",
       "    <tr>\n",
       "      <th>2340624</th>\n",
       "      <td>Aspen Pharmacare Holdings Ltd</td>\n",
       "      <td>https://www.aspenpharma.com/</td>\n",
       "      <td>You are not a HCP so we cannot give you access...</td>\n",
       "      <td>web</td>\n",
       "    </tr>\n",
       "  </tbody>\n",
       "</table>\n",
       "<p>270837 rows × 4 columns</p>\n",
       "</div>"
      ],
      "text/plain": [
       "                                  company  \\\n",
       "0        Raiffeisen Bank International AG   \n",
       "5        Raiffeisen Bank International AG   \n",
       "7        Raiffeisen Bank International AG   \n",
       "9        Raiffeisen Bank International AG   \n",
       "15       Raiffeisen Bank International AG   \n",
       "...                                   ...   \n",
       "2340508     Aspen Pharmacare Holdings Ltd   \n",
       "2340530     Aspen Pharmacare Holdings Ltd   \n",
       "2340536     Aspen Pharmacare Holdings Ltd   \n",
       "2340566     Aspen Pharmacare Holdings Ltd   \n",
       "2340624     Aspen Pharmacare Holdings Ltd   \n",
       "\n",
       "                                                       url  \\\n",
       "0        https://www.rbinternational.com/en/sustainabil...   \n",
       "5        https://www.rbinternational.com/en/sustainabil...   \n",
       "7        https://www.rbinternational.com/en/sustainabil...   \n",
       "9        https://www.rbinternational.com/en/sustainabil...   \n",
       "15       https://www.rbinternational.com/en/sustainabil...   \n",
       "...                                                    ...   \n",
       "2340508                       https://www.aspenpharma.com/   \n",
       "2340530                       https://www.aspenpharma.com/   \n",
       "2340536                       https://www.aspenpharma.com/   \n",
       "2340566                       https://www.aspenpharma.com/   \n",
       "2340624                       https://www.aspenpharma.com/   \n",
       "\n",
       "                                                 statement    type  \n",
       "0        RBI 65% reduction till 2050WienPragZagrebParis...  report  \n",
       "5        6 million in COVID-19 donationsRBI Sustainabil...  report  \n",
       "7        Nevertheless, we cannot completely rule out th...  report  \n",
       "9        Statements onfuture developments are based on ...  report  \n",
       "15       We therefore ask for your understanding that w...  report  \n",
       "...                                                    ...     ...  \n",
       "2340508  In South Africa, four out of the top 15 brands...     web  \n",
       "2340530  Asia This region comprises all Asian territori...     web  \n",
       "2340536  Our manufacturing facility in India is our pri...     web  \n",
       "2340566  Manufacturing activities include active pharma...     web  \n",
       "2340624  You are not a HCP so we cannot give you access...     web  \n",
       "\n",
       "[270837 rows x 4 columns]"
      ]
     },
     "execution_count": 39,
     "metadata": {},
     "output_type": "execute_result"
    }
   ],
   "source": [
    "df_merge_final.to_csv(\"./temp_data/df_merge_final.csv\",sep=\"\\t\")\n",
    "df_merge_final\n"
   ]
  },
  {
   "cell_type": "code",
   "execution_count": 15,
   "id": "3dbce582",
   "metadata": {},
   "outputs": [],
   "source": [
    "# import pickle\n",
    "# with open(\"./data/embeddings_all1.pkl\", \"rb\") as input_file:\n",
    "#     e1 = pickle.load(input_file)\n",
    "    \n",
    "# with open(\"./data/embeddings_all2.pkl\", \"rb\") as input_file:\n",
    "#     e2 = pickle.load(input_file)\n",
    "    \n",
    "# with open(\"./data/embeddings_all3.pkl\", \"rb\") as input_file:\n",
    "#     e3 = pickle.load(input_file)"
   ]
  },
  {
   "cell_type": "code",
   "execution_count": 16,
   "id": "7cab36c7",
   "metadata": {},
   "outputs": [],
   "source": [
    "# import numpy as np\n",
    "# embeddings1 = np.array([embedding for embedding in e1]).astype(\"float32\")\n",
    "# embeddings2 = np.array([embedding for embedding in e2]).astype(\"float32\")\n",
    "# embeddings3 = np.array([embedding for embedding in e3]).astype(\"float32\")"
   ]
  },
  {
   "cell_type": "code",
   "execution_count": 17,
   "id": "d5e6dc3e",
   "metadata": {},
   "outputs": [],
   "source": [
    "# import numpy as np\n",
    "# embeddings = np.concatenate((embeddings1, embeddings2, embeddings3))"
   ]
  },
  {
   "cell_type": "code",
   "execution_count": 1,
   "id": "dcd79e6d",
   "metadata": {},
   "outputs": [],
   "source": [
    "import sys\n",
    "sys.path.append(\"/home/qingzhi/.conda/envs/test2/lib/python3.9/site-packages\")\n",
    "\n",
    "import pandas as pd\n",
    "df_merge_final = pd.read_csv(\"./temp_data/df_merge_final.csv\",sep=\"\\t\")\n",
    "# df_merge_final"
   ]
  },
  {
   "cell_type": "code",
   "execution_count": 2,
   "id": "89342538",
   "metadata": {},
   "outputs": [
    {
     "name": "stderr",
     "output_type": "stream",
     "text": [
      "100%|███████████████████████████████| 270837/270837 [00:00<00:00, 716394.68it/s]\n"
     ]
    }
   ],
   "source": [
    "from tqdm import tqdm\n",
    "tqdm.pandas()\n",
    "def split_sentences(x):\n",
    "    sentences = []\n",
    "    if len(x) > 512:\n",
    "        words_list = x.split(\" \")\n",
    "        chunks = [words_list[x:x+200] for x in range(0, len(words_list), 200)]\n",
    "        for element in chunks:\n",
    "            sentences.append(\" \".join(element))\n",
    "        return sentences\n",
    "    else:\n",
    "        return [x]\n",
    "df_merge_final[\"statement\"] = df_merge_final[\"statement\"].progress_apply(split_sentences)   \n",
    "df_merge_final = df_merge_final.dropna()\n",
    "df_merge_final = df_merge_final.explode('statement').reset_index(drop=True)\n",
    "    "
   ]
  },
  {
   "cell_type": "code",
   "execution_count": 56,
   "id": "9fc9b287",
   "metadata": {},
   "outputs": [
    {
     "data": {
      "text/html": [
       "<div>\n",
       "<style scoped>\n",
       "    .dataframe tbody tr th:only-of-type {\n",
       "        vertical-align: middle;\n",
       "    }\n",
       "\n",
       "    .dataframe tbody tr th {\n",
       "        vertical-align: top;\n",
       "    }\n",
       "\n",
       "    .dataframe thead th {\n",
       "        text-align: right;\n",
       "    }\n",
       "</style>\n",
       "<table border=\"1\" class=\"dataframe\">\n",
       "  <thead>\n",
       "    <tr style=\"text-align: right;\">\n",
       "      <th></th>\n",
       "      <th>Unnamed: 0</th>\n",
       "      <th>company</th>\n",
       "      <th>url</th>\n",
       "      <th>statement</th>\n",
       "      <th>type</th>\n",
       "    </tr>\n",
       "  </thead>\n",
       "  <tbody>\n",
       "    <tr>\n",
       "      <th>0</th>\n",
       "      <td>0</td>\n",
       "      <td>Raiffeisen Bank International AG</td>\n",
       "      <td>https://www.rbinternational.com/en/sustainabil...</td>\n",
       "      <td>RBI 65% reduction till 2050WienPragZagrebParis...</td>\n",
       "      <td>report</td>\n",
       "    </tr>\n",
       "    <tr>\n",
       "      <th>1</th>\n",
       "      <td>5</td>\n",
       "      <td>Raiffeisen Bank International AG</td>\n",
       "      <td>https://www.rbinternational.com/en/sustainabil...</td>\n",
       "      <td>6 million in COVID-19 donationsRBI Sustainabil...</td>\n",
       "      <td>report</td>\n",
       "    </tr>\n",
       "    <tr>\n",
       "      <th>2</th>\n",
       "      <td>7</td>\n",
       "      <td>Raiffeisen Bank International AG</td>\n",
       "      <td>https://www.rbinternational.com/en/sustainabil...</td>\n",
       "      <td>Nevertheless, we cannot completely rule out th...</td>\n",
       "      <td>report</td>\n",
       "    </tr>\n",
       "    <tr>\n",
       "      <th>3</th>\n",
       "      <td>9</td>\n",
       "      <td>Raiffeisen Bank International AG</td>\n",
       "      <td>https://www.rbinternational.com/en/sustainabil...</td>\n",
       "      <td>Statements onfuture developments are based on ...</td>\n",
       "      <td>report</td>\n",
       "    </tr>\n",
       "    <tr>\n",
       "      <th>4</th>\n",
       "      <td>15</td>\n",
       "      <td>Raiffeisen Bank International AG</td>\n",
       "      <td>https://www.rbinternational.com/en/sustainabil...</td>\n",
       "      <td>We therefore ask for your understanding that w...</td>\n",
       "      <td>report</td>\n",
       "    </tr>\n",
       "    <tr>\n",
       "      <th>...</th>\n",
       "      <td>...</td>\n",
       "      <td>...</td>\n",
       "      <td>...</td>\n",
       "      <td>...</td>\n",
       "      <td>...</td>\n",
       "    </tr>\n",
       "    <tr>\n",
       "      <th>273526</th>\n",
       "      <td>2340508</td>\n",
       "      <td>Aspen Pharmacare Holdings Ltd</td>\n",
       "      <td>https://www.aspenpharma.com/</td>\n",
       "      <td>In South Africa, four out of the top 15 brands...</td>\n",
       "      <td>web</td>\n",
       "    </tr>\n",
       "    <tr>\n",
       "      <th>273527</th>\n",
       "      <td>2340530</td>\n",
       "      <td>Aspen Pharmacare Holdings Ltd</td>\n",
       "      <td>https://www.aspenpharma.com/</td>\n",
       "      <td>Asia This region comprises all Asian territori...</td>\n",
       "      <td>web</td>\n",
       "    </tr>\n",
       "    <tr>\n",
       "      <th>273528</th>\n",
       "      <td>2340536</td>\n",
       "      <td>Aspen Pharmacare Holdings Ltd</td>\n",
       "      <td>https://www.aspenpharma.com/</td>\n",
       "      <td>Our manufacturing facility in India is our pri...</td>\n",
       "      <td>web</td>\n",
       "    </tr>\n",
       "    <tr>\n",
       "      <th>273529</th>\n",
       "      <td>2340566</td>\n",
       "      <td>Aspen Pharmacare Holdings Ltd</td>\n",
       "      <td>https://www.aspenpharma.com/</td>\n",
       "      <td>Manufacturing activities include active pharma...</td>\n",
       "      <td>web</td>\n",
       "    </tr>\n",
       "    <tr>\n",
       "      <th>273530</th>\n",
       "      <td>2340624</td>\n",
       "      <td>Aspen Pharmacare Holdings Ltd</td>\n",
       "      <td>https://www.aspenpharma.com/</td>\n",
       "      <td>You are not a HCP so we cannot give you access...</td>\n",
       "      <td>web</td>\n",
       "    </tr>\n",
       "  </tbody>\n",
       "</table>\n",
       "<p>273531 rows × 5 columns</p>\n",
       "</div>"
      ],
      "text/plain": [
       "        Unnamed: 0                           company  \\\n",
       "0                0  Raiffeisen Bank International AG   \n",
       "1                5  Raiffeisen Bank International AG   \n",
       "2                7  Raiffeisen Bank International AG   \n",
       "3                9  Raiffeisen Bank International AG   \n",
       "4               15  Raiffeisen Bank International AG   \n",
       "...            ...                               ...   \n",
       "273526     2340508     Aspen Pharmacare Holdings Ltd   \n",
       "273527     2340530     Aspen Pharmacare Holdings Ltd   \n",
       "273528     2340536     Aspen Pharmacare Holdings Ltd   \n",
       "273529     2340566     Aspen Pharmacare Holdings Ltd   \n",
       "273530     2340624     Aspen Pharmacare Holdings Ltd   \n",
       "\n",
       "                                                      url  \\\n",
       "0       https://www.rbinternational.com/en/sustainabil...   \n",
       "1       https://www.rbinternational.com/en/sustainabil...   \n",
       "2       https://www.rbinternational.com/en/sustainabil...   \n",
       "3       https://www.rbinternational.com/en/sustainabil...   \n",
       "4       https://www.rbinternational.com/en/sustainabil...   \n",
       "...                                                   ...   \n",
       "273526                       https://www.aspenpharma.com/   \n",
       "273527                       https://www.aspenpharma.com/   \n",
       "273528                       https://www.aspenpharma.com/   \n",
       "273529                       https://www.aspenpharma.com/   \n",
       "273530                       https://www.aspenpharma.com/   \n",
       "\n",
       "                                                statement    type  \n",
       "0       RBI 65% reduction till 2050WienPragZagrebParis...  report  \n",
       "1       6 million in COVID-19 donationsRBI Sustainabil...  report  \n",
       "2       Nevertheless, we cannot completely rule out th...  report  \n",
       "3       Statements onfuture developments are based on ...  report  \n",
       "4       We therefore ask for your understanding that w...  report  \n",
       "...                                                   ...     ...  \n",
       "273526  In South Africa, four out of the top 15 brands...     web  \n",
       "273527  Asia This region comprises all Asian territori...     web  \n",
       "273528  Our manufacturing facility in India is our pri...     web  \n",
       "273529  Manufacturing activities include active pharma...     web  \n",
       "273530  You are not a HCP so we cannot give you access...     web  \n",
       "\n",
       "[273531 rows x 5 columns]"
      ]
     },
     "execution_count": 56,
     "metadata": {},
     "output_type": "execute_result"
    }
   ],
   "source": [
    "df_merge_final"
   ]
  },
  {
   "cell_type": "code",
   "execution_count": 3,
   "id": "95d43227",
   "metadata": {},
   "outputs": [
    {
     "data": {
      "text/plain": [
       "'4.16.2'"
      ]
     },
     "execution_count": 3,
     "metadata": {},
     "output_type": "execute_result"
    }
   ],
   "source": [
    "# !pip install transformers==3.3.1 \n",
    "import transformers\n",
    "transformers.__version__"
   ]
  },
  {
   "cell_type": "code",
   "execution_count": 57,
   "id": "052e5024",
   "metadata": {},
   "outputs": [
    {
     "name": "stdout",
     "output_type": "stream",
     "text": [
      "The autoreload extension is already loaded. To reload it, use:\n",
      "  %reload_ext autoreload\n",
      "cuda:0\n"
     ]
    },
    {
     "data": {
      "application/vnd.jupyter.widget-view+json": {
       "model_id": "baaa8b0c8f42403784f6cf03ec96d57d",
       "version_major": 2,
       "version_minor": 0
      },
      "text/plain": [
       "Batches:   0%|          | 0/8548 [00:00<?, ?it/s]"
      ]
     },
     "metadata": {},
     "output_type": "display_data"
    },
    {
     "name": "stdout",
     "output_type": "stream",
     "text": [
      "saving embeddings\n",
      "Number of vectors in the Faiss index: 273531\n"
     ]
    }
   ],
   "source": [
    "%load_ext autoreload\n",
    "%autoreload 2\n",
    "# Used to import data from local.\n",
    "import pandas as pd\n",
    "\n",
    "# Used to create the dense document vectors.\n",
    "import torch\n",
    "from sentence_transformers import SentenceTransformer\n",
    "\n",
    "# Used to create and store the Faiss index.\n",
    "import faiss\n",
    "import numpy as np\n",
    "import pickle\n",
    "from pathlib import Path\n",
    "\n",
    "# Used to do vector searches and display the results.\n",
    "from vector_engine.vector_engine.utils import vector_search, id2details\n",
    "\n",
    "\n",
    "def get_id(x):\n",
    "    return int(x[1:])\n",
    "    \n",
    "# df[\"id\"] = df[\"wikidata_id\"].apply(get_id)\n",
    "# df = df_rank.loc[4000000:]\n",
    "df_merge_final[\"id\"] = range(len(df_merge_final))\n",
    "\n",
    "# Instantiate the sentence-level DistilBERT\n",
    "# model = SentenceTransformer('distilbert-base-nli-stsb-mean-tokens')\n",
    "# model = SentenceTransformer('all-distilroberta-v1 ')\n",
    "# model = SentenceTransformer('paraphrase-MiniLM-L3-v2')\n",
    "model = SentenceTransformer('all-mpnet-base-v2')\n",
    "\n",
    "# Check if GPU is available and use it\n",
    "if torch.cuda.is_available():\n",
    "    model = model.to(torch.device(\"cuda\"))\n",
    "print(model.device)\n",
    "\n",
    "# Convert abstracts to vectors\n",
    "embeddings = model.encode(df_merge_final.statement.tolist(), show_progress_bar=True)\n",
    "\n",
    "print(\"saving embeddings\")\n",
    "with open('./temp_data/embeddings_cleaned2.pkl','wb') as f:\n",
    "    pickle.dump(embeddings, f, protocol=pickle.HIGHEST_PROTOCOL)\n",
    "    \n",
    "# Step 1: Change data type\n",
    "embeddings = np.array([embedding for embedding in embeddings]).astype(\"float32\")\n",
    "\n",
    "# Step 2: Instantiate the index\n",
    "index = faiss.IndexFlatL2(embeddings.shape[1])\n",
    "\n",
    "# Step 3: Pass the index to IndexIDMap\n",
    "index = faiss.IndexIDMap(index)\n",
    "\n",
    "# Step 4: Add vectors and their IDs\n",
    "index.add_with_ids(embeddings, \n",
    "                   df_merge_final[\"id\"].values.astype(np.int64))\n",
    "\n",
    "print(f\"Number of vectors in the Faiss index: {index.ntotal}\")\n"
   ]
  },
  {
   "cell_type": "code",
   "execution_count": 5,
   "id": "b348fce8",
   "metadata": {},
   "outputs": [
    {
     "name": "stdout",
     "output_type": "stream",
     "text": [
      "The autoreload extension is already loaded. To reload it, use:\n",
      "  %reload_ext autoreload\n",
      "cuda:0\n"
     ]
    }
   ],
   "source": [
    "%load_ext autoreload\n",
    "%autoreload 2\n",
    "# Used to import data from local.\n",
    "import pandas as pd\n",
    "\n",
    "# Used to create the dense document vectors.\n",
    "import torch\n",
    "from sentence_transformers import SentenceTransformer\n",
    "\n",
    "# Used to create and store the Faiss index.\n",
    "import faiss\n",
    "import numpy as np\n",
    "import pickle\n",
    "from pathlib import Path\n",
    "\n",
    "# Used to do vector searches and display the results.\n",
    "from vector_engine.vector_engine.utils import vector_search, id2details\n",
    "\n",
    "# model = SentenceTransformer('paraphrase-MiniLM-L3-v2')\n",
    "# model = SentenceTransformer('all-MiniLM-L6-v2')\n",
    "model = SentenceTransformer('all-mpnet-base-v2')\n",
    "\n",
    "# Check if GPU is available and use it\n",
    "if torch.cuda.is_available():\n",
    "    model = model.to(torch.device(\"cuda\"))\n",
    "print(model.device)\n",
    "\n",
    "import pickle\n",
    "with open(\"./temp_data/embeddings_cleaned2.pkl\", \"rb\") as input_file:\n",
    "    embeddings = pickle.load(input_file)\n",
    "\n",
    "df_merge_final[\"id\"] = range(len(df_merge_final))\n",
    "\n",
    "# Step 1: Change data type\n",
    "embeddings = np.array([embedding for embedding in embeddings]).astype(\"float32\")\n",
    "\n",
    "# Step 2: Instantiate the index\n",
    "index = faiss.IndexFlatL2(embeddings.shape[1])\n",
    "\n",
    "# Step 3: Pass the index to IndexIDMap\n",
    "index = faiss.IndexIDMap(index)\n",
    "\n",
    "# Step 4: Add vectors and their IDs\n",
    "index.add_with_ids(embeddings, \n",
    "                   df_merge_final[\"id\"].values.astype(np.int64))"
   ]
  },
  {
   "cell_type": "code",
   "execution_count": 6,
   "id": "b13c6ff5",
   "metadata": {},
   "outputs": [
    {
     "name": "stderr",
     "output_type": "stream",
     "text": [
      "\r",
      "  0%|                                                    | 0/17 [00:00<?, ?it/s]"
     ]
    },
    {
     "name": "stdout",
     "output_type": "stream",
     "text": [
      "No poverty, Africa, Basic services, Class, Developing countries, Disadvantaged, Economic resources, End poverty, Environment, Equality, Extreme poverty, Financial inclusion, Income, Income equality, Microfinance, Non-discrimination, Poor, Poor and vulnerable, Poverty, Poverty eradication, Poverty line, Quality of Life, Resources, Social protection systems / social protection, Sustainable, Third World, Vulnerable, Wealth distribution\n"
     ]
    },
    {
     "name": "stderr",
     "output_type": "stream",
     "text": [
      "\r",
      "  6%|██▌                                         | 1/17 [00:01<00:30,  1.88s/it]"
     ]
    },
    {
     "name": "stdout",
     "output_type": "stream",
     "text": [
      "Zero hunger (No hunger), Agricultural Orientation index, Agricultural productivity, Agriculture, Consume, Crop diversity, Crops, Doha Development Round / Doha Round, End hunger, Environment, Food, Food gap, Food production, Food reserves, Food Security, Genetic diversity, Genetic diversity of seeds, Genetics, Hunger, Hungry people, Improved nutrition, Innovations and health, Legumes, Maize, Malnourished, Malnutrition, Nutrition, Nutritional needs, Nutritious, Poverty, Produce, Productivity, Quality of life, Resilient agriculture, Rural infrastructure, Small-scale food producers, Stunted growth, Stunting, Sufficient food, Sustainable, Sustainable agriculture, Sustainable food production, Trade diversity, Trade restrictions, Under nourished / Undernourished, Wasting, World’s hungry\n"
     ]
    },
    {
     "name": "stderr",
     "output_type": "stream",
     "text": [
      "\r",
      " 12%|█████▏                                      | 2/17 [00:02<00:19,  1.28s/it]"
     ]
    },
    {
     "name": "stdout",
     "output_type": "stream",
     "text": [
      "Good health and well-being, Access to clean water and sanitation, Affordable medicines, AIDS, Air contamination, Air pollution, Alcohol abuse, Antenatal care, Antiretroviral, Antiretroviral therapy, Biomedical, Bodily autonomy, Child deaths, Contraceptive use, Death rate, Dental, Disability and family support, Disability and inclusion, Disability and politics of location, Diseases, Family planning, Health, Health in resource-constrained settings, Health worker density, Healthy, Healthy lives, Hepatitis, HIV, Improving mortality, Increasing life expectancy, Indigenous, Infected, International health policy, International health regulations, Malaria, Maternal mortality, Measles, Medical, Mental health, Mortality, Mortality rate, Narcotic drug abuse, Neonatal mortality, Polio, Premature mortality, Preventable deaths, Reducing malaria, Reducing mortality, Refugees and health services, Reproductive health, Road traffic accidents, Sexual and reproductive health-care, Sexual health, Soil contamination, Soil pollution, Tobacco control, Treatment of substance abuse, Tuberculosis, Universal health, Universal health coverage, Vaccines, Vaccines in developing countries, Violence, WASH, Water, Sanitation and Hygiene for All, Water-borne disease, wellbeing/well being/well-being, World Health Organisation\n"
     ]
    },
    {
     "name": "stderr",
     "output_type": "stream",
     "text": [
      "\r",
      " 18%|███████▊                                    | 3/17 [00:03<00:14,  1.07s/it]"
     ]
    },
    {
     "name": "stdout",
     "output_type": "stream",
     "text": [
      "Quality education, Access to education, Basic education, Basic literacy, Basic literacy skills, Cultural diversity, Disability, Disability and education, Early childhood, Early childhood development, Education, Education for sustainability, Education in developing, Enrolment, Equal access, Equal education, Equitable education, Gender disparities in education, Gender disparity, Gender equality, Gender equity, Gender sensitive, Global citizenship, Global education, Inclusion and education, Inclusive, Innovation, International cooperation, Learning opportunities, Lifelong learning, Literacy, Literacy skills, Numeracy, Preprimary education, Primary education, Qualified teachers, Refugees and learning, Scholarships, School, School enrolment, Secondary education, Teacher training, Universal education, Vocational training, Vulnerable, Women's rights\n"
     ]
    },
    {
     "name": "stderr",
     "output_type": "stream",
     "text": [
      "\r",
      " 24%|██████████▎                                 | 4/17 [00:04<00:12,  1.03it/s]"
     ]
    },
    {
     "name": "stdout",
     "output_type": "stream",
     "text": [
      "Gender equality, Basic living standards, Dignity, Disadvantaged, Discrimination, Employment, Empower girls, Empowerment, Empowerment of women / empower women / women's empowerment, Equal access, Equal opportunities, Equality, Exploitation, Female genital mutilation, Feminism, Forced marriage, Gender, Gender discrimination, Gender equality/parity, Governance and gender, Human rights, Human trafficking, Humanitarian, Marginalised, Parity, Pay, Reproductive rights, Sexual and reproductive health, Sexual exploitation, Sexual violence, Social inclusion, Trafficking, Universal health coverage, Violence, Violence against girls, Violence against women, Women, Women in work, Women's rights, Workplace equality\n"
     ]
    },
    {
     "name": "stderr",
     "output_type": "stream",
     "text": [
      "\r",
      " 29%|████████████▉                               | 5/17 [00:05<00:10,  1.10it/s]"
     ]
    },
    {
     "name": "stdout",
     "output_type": "stream",
     "text": [
      "Clean water and sanitation, Accessible water, Affordable drinking water, Aquifer, Cities, Clean water, Contaminated, Defecation, Desalination, Diarrhoeal diseases, Drought, Dumping, Ecosystem protection, Ecosystem restoration, Equitable sanitation, Floods, Fresh water, Hydropower, Hygiene, Improving water, Inadequate water, Inadequate water supply, Infrastructure, Irrigation, Lakes, Latrines, Open defecation, Pollution, Recycled water, Reuse, River basins, Rivers, Safe drinking water, Sanitation, Sanitation and hygiene, Sanitation management, Sewerage, Sustainable water management, Sustainable withdrawals, Third world, Toilets, Untreated wastewater, Urban, Waste, Wastewater, Wastewater treatment, Water, Water access, Water disasters, Water ecosystems, Water efficiency, Water harvesting, Water quality, Water resources management, Water scarcity, Water supply, Water-related ecosystems, Water-use efficiency\n"
     ]
    },
    {
     "name": "stderr",
     "output_type": "stream",
     "text": [
      "\r",
      " 35%|███████████████▌                            | 6/17 [00:05<00:09,  1.14it/s]"
     ]
    },
    {
     "name": "stdout",
     "output_type": "stream",
     "text": [
      "Affordable and clean energy, Affordable energy, Alternative energy, Animal waste, Battery, Carbon, Charcoal, Clean energy, Clean energy technology, Clean fuel technology, Clean fuels, Cleaner fossil fuel technology, Climate goal, Coal, Electricity, Electricity infrastructure, Emissions, Energy, Energy efficiency, Energy infrastructure, Energy research, Energy technology, Fossil-fuel, Green economy, Greenhouse gas, Greenhouse gas emissions, Hydroelectric, Low carbon, Modern electricity, Modern energy, Reliable energy, Renewable, Renewable energy, Renewable power, Solar, Solar energy, Solar power, Sustainable energy, Sustainable energy services, Sustainable power, Vehicles, Wave, Wind, Wind power, Wind turbine, Wood\n"
     ]
    },
    {
     "name": "stderr",
     "output_type": "stream",
     "text": [
      "\r",
      " 41%|██████████████████                          | 7/17 [00:06<00:08,  1.18it/s]"
     ]
    },
    {
     "name": "stdout",
     "output_type": "stream",
     "text": [
      "Decent work and economic growth, Aid for trade, Banking, Child labour, Child soldiers, Creativity and innovation, Culture, Decent work, Decent work for all, Development oriented policy, Economic growth, Economic productivity, Economy, Enterprises, Entrepreneurship, Equal pay, Finance, Financial services, Forced labour, GDP growth, Global resource efficiency, Global trade, Gross domestic product growth, Human trafficking, Inclusive economic growth, Innovation, Insurance, Job creation, Jobs, Labour market, Labour rights, Micro finance, Migrant workers, Modern slavery, Poverty eradication, Poverty line, Productive employment, Productivity, Public policy, Quality jobs, Quality of life, Resource efficiency, Safe work, Secure work, Slavery, Social policies, Society, Stable employment, Stable jobs, Sustainable consumption, Sustainable economic growth, Sustainable production, Sustainable tourism, Trade, Unemployment, Well-paid jobs, Women migrants, Work, Work opportunities, World trade, Youth employment, Youth unemployment\n"
     ]
    },
    {
     "name": "stderr",
     "output_type": "stream",
     "text": [
      "\r",
      " 47%|████████████████████▋                       | 8/17 [00:07<00:07,  1.21it/s]"
     ]
    },
    {
     "name": "stdout",
     "output_type": "stream",
     "text": [
      "Industry, Innovation and Infrastructure, Access to the internet, Affordable access, Affordable credit, Clean technologies, Cooperation, Data banks, Economic development, Electrical power, Energy, Enterprises, Environmentally sound technologies, Financial services, ICT infrastructure, Industrial diversification, Industrialisation, Information and communication technology, Infrastructure, Innovation, Internet access, Irrigation, Knowledge in education for all, Mobile networks in developing countries, National Security, Network infrastructure, Phone service, Public policy, Quality of life, Regional infrastructure, Research, Resilient infrastructure, Resource use efficiency, Roads, Sanitation, Scientific research, Society, Sustainable industrialisation, Sustainable infrastructure, Technological capabilities, Technology, Trade, Transborder infrastructure, Transport, Value chains, Value chains and markets, Water infrastructure, Water resources\n"
     ]
    },
    {
     "name": "stderr",
     "output_type": "stream",
     "text": [
      "\r",
      " 53%|███████████████████████▎                    | 9/17 [00:08<00:06,  1.23it/s]"
     ]
    },
    {
     "name": "stdout",
     "output_type": "stream",
     "text": [
      "Reduced inequality, Affordable housing, Age, Ageism, Business, Children, Culture, Developing countries, Developing states, Development assistance, Disabilities, Discrimination, Discriminatory, Economy, Education, Empower, Equal opportunity, Equality, Equity, Ethnicity, Financial assistance, Foreign aid, Foreign investment, Gender, Global financial markets, Health, Homelessness, Homophobia, Human rights, Inclusion, Income growth, Income inequality, Indigenous, Inequalities, Inequality, Migrant remittance, Migration, Population growth, Poverty, Public policy, Quality of life, Race, Racisim, Reduce inequalities, Religion, Rural, Sex, Sexism, Social protection, Society, Vulnerable nations, World trade\n"
     ]
    },
    {
     "name": "stderr",
     "output_type": "stream",
     "text": [
      "\r",
      " 59%|█████████████████████████▎                 | 10/17 [00:09<00:05,  1.25it/s]"
     ]
    },
    {
     "name": "stdout",
     "output_type": "stream",
     "text": [
      "Sustainable cities and communities, Adaptable, Adaptation, Affordable housing, Air pollution, Air quality, Cities, Climate change, Community, Cultural heritage, Decentralisation, Development planning, Disaster management, Disaster risk reduction, Disaster Strategy, Disasters, Fine particulate matter, Green spaces, Heritage, Housing, Human settlements, Impact of cities, Inadequate housing, Informal settlements, Infrastructure, Land, Land consumption, local materials, mitigation, Natural disasters, Natural heritage, Over crowding, Pollution, Population, Population growth, Public spaces, Public transport, Resilient, Resilient buildings, Resource efficiency, Resource needs, Risk reduction strategy, Road safety, Safe cities, Shanty, Slums, Smart cities, Solid waste, Suburban, Sustainable, Sustainable building/s, Sustainable cities/city, Sustainable communities, Sustainable urbanisation, Town planning, Transport, Transport systems, Urban, Urban development, Urban planning, Urban sustainability, Urbanisation, Waste, Waste generation, Waste management, Water, Water-related disasters\n"
     ]
    },
    {
     "name": "stderr",
     "output_type": "stream",
     "text": [
      "\r",
      " 65%|███████████████████████████▊               | 11/17 [00:09<00:04,  1.25it/s]"
     ]
    },
    {
     "name": "stdout",
     "output_type": "stream",
     "text": [
      "Responsible consumption and production, Capitalism, Cars, Circular economy, Commercial enterprises, Consumer levels, Consumerism, Consumption, Deep decarbonisation, Ecological, Efficient use of resources, Energy, Energy consumption, Energy efficiency, Energy use, Food, Food losses, Food supply, Food waste, Fossil fuel subsidies, Future proof, Global food waste, Greenhouse gasses, Harvest losses, Life cycle, Market distortions, Materialism, Materials goods, Monitoring sustainable development, Natural resources, Obsolescence, Overconsumption, Production, Recycle, Recycling, Reduce waste generation, Reduction, Renewable, Resource efficiency, Responsible production chains, Retail, Retail industry, Reuse, Sustainable, Sustainable consumption, Sustainable management, Sustainable practices, Sustainable production, Sustainable public procurement, Sustainable resource use, Sustainable supply chain, Sustainable tourism, Vehicles, Waste, Wasteful consumption, Water, Water pollution, Water supply\n"
     ]
    },
    {
     "name": "stderr",
     "output_type": "stream",
     "text": [
      "\r",
      " 71%|██████████████████████████████▎            | 12/17 [00:10<00:03,  1.25it/s]"
     ]
    },
    {
     "name": "stdout",
     "output_type": "stream",
     "text": [
      "Climate action, Average global temperature, Carbon, Carbon dioxide, Changing weather patterns, Climate, Climate action, Climate adaptation, Climate and gender, Climate and infectious disease, Climate and politics, Climate change, Climate change management, Climate change planning, Climate change policy, Climate early warning, Climate hazards, Climate impact, Climate mitigation, Climate refugees, Climate related hazards, Climate resilience, CO2 capture, CO2 conversion, COP 21, COP 22, Ecosystems, Emissions, Extreme weather, Extreme weather events, Global mean temperature, Global temperature, Global warming, Greenhouse gas, Greenhouse gas emissions, Greenhouse gases, Ice loss, Low-carbon economy, Natural disasters, Natural systems, Ocean warming, Paris Agreement, Pollution, Renewable, Sea level rise / Rising sea / Rising sea level, Temperature, Warming\n"
     ]
    },
    {
     "name": "stderr",
     "output_type": "stream",
     "text": [
      "\r",
      " 76%|████████████████████████████████▉          | 13/17 [00:11<00:03,  1.26it/s]"
     ]
    },
    {
     "name": "stdout",
     "output_type": "stream",
     "text": [
      "Life below water, Artisanal fishers, Biodiversity, Carbon dioxide, Coastal biodiversity, Coastal ecosystems, Coastal habitats, Coastal parks, Coastal resources, Coastlines, Conserve, Conserve oceans, Coral bleaching, Coral reef, Ecosystem management, Fish species, Fish stocks, Fish stocks AND FISHERIES MANAGEMENT, Fisheries, Fishers, Fishing, Fishing practices, Global warming, Illegal fishing, Kelp, Law of the Sea, Marine, Marine areas, Marine biodiversity, Marine ecosystems, Marine fisheries, Marine Parks, Marine pollution, Marine resources, Ocean, Ocean acidification, Ocean temperature, Oceanography, Oceans, Overfishing, Productive oceans, Protected areas, Sea grasses, Seas, Sustainable ecosystems, Unregulated fishing, Water resources and policy\n"
     ]
    },
    {
     "name": "stderr",
     "output_type": "stream",
     "text": [
      "\r",
      " 82%|███████████████████████████████████▍       | 14/17 [00:12<00:02,  1.27it/s]"
     ]
    },
    {
     "name": "stdout",
     "output_type": "stream",
     "text": [
      "Life on land, Afforestation, Agriculture, Animals, Arable land, Bees, Biodiversity, Biodiversity loss, Conservation, Deforestation, Desertification, Drought, Drylands, Ecosystem, Ecosystem restoration, Ecosystems, Extinct, Extinct species, Extinction, Forest, Forest management, Forests, Genetic resources, Illegal wildlife products, Illicit trafficking, Indigenous, Indigenous populations, Invasive alien species, Land conservation, Land degradation, Land loss, Land use and sustainability, Manage forests, Managed forests, Micro-organisms, Permaculture, Plants, Poaching, Poverty, Protected fauna, Protected flora, Protected species, Reforestation, Soil, Soil degradation, Species, Strategic plan for biodiversity, Terrestrial ecosystems, Threatened species, Tree, Tree species, Wetlands\n"
     ]
    },
    {
     "name": "stderr",
     "output_type": "stream",
     "text": [
      "\r",
      " 88%|█████████████████████████████████████▉     | 15/17 [00:13<00:01,  1.27it/s]"
     ]
    },
    {
     "name": "stdout",
     "output_type": "stream",
     "text": [
      "Peace, justice and strong institutions, Abuse, Accountability, Accountable institutions, Arbitrary detention, Arms, Arms trafficking, Birth registration, Bribery, Combat terrorism, Conflict resolution, Conflicts, Corruption, Discrimination, Education, Enforced disappearance, Equal access, Equity, Exploitation, Flow of arms, Freedom, Geography of poverty, Governance, Hate crime, Human rights, Human trafficking, Illegal arms, Illicit financial flows, Inclusion, Inclusive institutions, Inclusive societies/society, Institutions, Internally displaced, Judiciary, Justice, Justice for all, Legal identity, National Security, Non-violence, Organized crime, Paris principles, Peace, Peaceful societies, Physical abuse, Police, Prevent violence, Psychological abuse, Public policy, Quality of life, Representative decision-making, Rule of law, Security threats, Sexual abuse, Sexual violence, Stolen assets, Tax evasion, Theft, Torture, Trafficking, Transparency, Un-sentenced detainees, Unstable societies, Victims of violence, Violence, Violence against women and children, Violence rates, Weapon seizures\n"
     ]
    },
    {
     "name": "stderr",
     "output_type": "stream",
     "text": [
      "\r",
      " 94%|████████████████████████████████████████▍  | 16/17 [00:13<00:00,  1.26it/s]"
     ]
    },
    {
     "name": "stdout",
     "output_type": "stream",
     "text": [
      "Partnership for the goals, Capacity building, Civil society partnerships, Communication technologies, Debt sustainability, Development assistance, Disaggregated data, Doha Development Agenda, Entrepreneurship, Environmentally sound technologies, Foreign direct investments, Fostering innovation, Free trade, Fundamental principles of official statistics, Global partnership, Global partnership for sustainable development, Global stability, International aid, International cooperation, International population and housing census, International support, International support for developing countries, Knowledge sharing, Multi-stakeholder partnerships, Poverty eradication, Public-private partnerships, Science cooperation agreements, Technology cooperation agreements, Technology transfer, Weighted tariff average, Women entrepreneurs, World Trade Organization\n"
     ]
    },
    {
     "name": "stderr",
     "output_type": "stream",
     "text": [
      "100%|███████████████████████████████████████████| 17/17 [00:14<00:00,  1.16it/s]\n"
     ]
    }
   ],
   "source": [
    "from tqdm import tqdm\n",
    "from tqdm.contrib import tzip\n",
    "names = []\n",
    "for i in range(1,18):\n",
    "    a = \"SDG\" + \" \" + str(i)\n",
    "    names.append(a)\n",
    "\n",
    "df_keywords = pd.read_csv(\"./data/SDG_key_words.csv\")    \n",
    "\n",
    "# all_SDGs = [\"Goal 1: No poverty\",\"Goal 2: Zero hunger (No hunger)\",\"Goal 3: Good health and well-being\", \"Goal 4: Quality education\", \"Goal 5: Gender equality\", \"Goal 6: Clean water and sanitation\", \"Goal 7: Affordable and clean energy\", \"Goal 8: Decent work and economic growth\", \"Goal 9: Industry, Innovation and Infrastructure\", \"Goal 10: Reduced inequality\", \"Goal 11: Sustainable cities and communities\", \"Goal 12: Responsible consumption and production\", \"Goal 13: Climate action\", \"Goal 14: Life below water\", \"Goal 15: Life on land\", \"Goal 16: Peace, justice and strong institutions\", \"Goal 17: Partnership for the goals\"]\n",
    "all_SDGs = [\"No poverty\",\"Zero hunger (No hunger)\",\"Good health and well-being\", \"Quality education\", \"Gender equality\", \"Clean water and sanitation\", \"Affordable and clean energy\", \"Decent work and economic growth\", \"Industry, Innovation and Infrastructure\", \"Reduced inequality\", \"Sustainable cities and communities\", \"Responsible consumption and production\", \"Climate action\", \"Life below water\", \"Life on land\", \"Peace, justice and strong institutions\", \"Partnership for the goals\"]\n",
    "\n",
    "for name,sdg in tqdm(zip(names,all_SDGs), total = 17):\n",
    "    df_merge_final_copy = df_merge_final.copy()\n",
    "    tmp = df_keywords[[name]].dropna().values.tolist()\n",
    "    user_query = \" \".join([item for sublist in tmp for item in sublist])\n",
    "    #user_query = \"the company is contributing to \"+name + \". \" + \", \".join([item for sublist in tmp for item in sublist])\n",
    "    user_query = sdg + \", \" + \", \".join([item for sublist in tmp for item in sublist])\n",
    "    print(user_query)\n",
    "    D, I = vector_search([user_query], model, index, index.ntotal)\n",
    "    df_temp = df_merge_final_copy.set_index(\"id\").loc[I[0]]\n",
    "    df_temp[\"rank\"] = range(len(df_temp))\n",
    "    df_temp[\"relevance_score\"] = D.flatten().tolist()\n",
    "    df_temp = df_temp.drop_duplicates(subset=[\"company\",\"statement\"])\n",
    "    df_temp = df_temp[df_temp.relevance_score <= df_temp.relevance_score.quantile(q=0.25)]\n",
    "    df_temp.to_csv(\"./temp_data/rank/ranked_\"+name.replace(\" \", \"_\")+\".csv\", sep=\"\\t\")"
   ]
  },
  {
   "cell_type": "code",
   "execution_count": 80,
   "id": "3dea50fb",
   "metadata": {},
   "outputs": [],
   "source": [
    "# pd.read_csv(\"./temp_data/ranked_SDG_1.csv\",sep=\"\\t\").iloc[0:10,:].statement.values[0:10]"
   ]
  },
  {
   "cell_type": "code",
   "execution_count": 81,
   "id": "e9cfb550",
   "metadata": {},
   "outputs": [],
   "source": [
    "# df_temp.relevance_score.describe()"
   ]
  },
  {
   "cell_type": "code",
   "execution_count": 82,
   "id": "a9e7d68e",
   "metadata": {},
   "outputs": [],
   "source": [
    "# df_temp[df_temp.relevance_score<=20].statement.values"
   ]
  },
  {
   "cell_type": "code",
   "execution_count": 83,
   "id": "bd2ca065",
   "metadata": {},
   "outputs": [],
   "source": [
    "# # products sustainability reports (include or not). to be decided.\n",
    "# pd.set_option('display.max_colwidth', 2000)\n",
    "# len(df_temp[df_temp.relevance_score <= 25].company.unique())\n",
    "# df_temp[df_temp.relevance_score <= 25]"
   ]
  },
  {
   "cell_type": "code",
   "execution_count": 21,
   "id": "46b7fafb",
   "metadata": {},
   "outputs": [],
   "source": [
    "# df_temp.to_csv(\"./data/experiments/SDG2_cleaned_ranked_final.tsv\", sep=\"\\t\")"
   ]
  },
  {
   "cell_type": "code",
   "execution_count": null,
   "id": "63b43f83",
   "metadata": {},
   "outputs": [],
   "source": [
    "#######################new section NLI"
   ]
  },
  {
   "cell_type": "code",
   "execution_count": 1,
   "id": "39d41bd3",
   "metadata": {},
   "outputs": [
    {
     "data": {
      "text/plain": [
       "'2.5.1'"
      ]
     },
     "execution_count": 1,
     "metadata": {},
     "output_type": "execute_result"
    }
   ],
   "source": [
    "import sys\n",
    "sys.path.append(\"/home/qingzhi/.conda/envs/test/lib/python3.9/site-packages\")\n",
    "import transformers\n",
    "transformers.__version__"
   ]
  },
  {
   "cell_type": "code",
   "execution_count": 2,
   "id": "838d4021",
   "metadata": {},
   "outputs": [],
   "source": [
    "from bert_nli import BertNLIModel\n",
    "from tqdm import tqdm\n",
    "tqdm.pandas()\n",
    "# pip install transformers==2.5.1\n",
    "model = BertNLIModel('output/bert-base.state_dict')\n",
    "\n",
    "    \n",
    "def nli_statement(x, query):\n",
    "    pair1 = x[:512]\n",
    "    # pair2 = 'the company helps peace, justice and strong institutions'\n",
    "    pair2 = query\n",
    "    sent_pairs = [(pair1, pair2)]\n",
    "    try:\n",
    "        label, prob = model(sent_pairs)\n",
    "        return [label[0], prob[0].max()]\n",
    "    except:\n",
    "        return None\n",
    "\n"
   ]
  },
  {
   "cell_type": "code",
   "execution_count": 5,
   "id": "f52c64ff",
   "metadata": {},
   "outputs": [
    {
     "data": {
      "text/plain": [
       "'./temp_data/rank/ranked_SDG_1.csv'"
      ]
     },
     "execution_count": 5,
     "metadata": {},
     "output_type": "execute_result"
    }
   ],
   "source": [
    "'./temp_data/rank/ranked_SDG_{}.csv'.format(1)"
   ]
  },
  {
   "cell_type": "code",
   "execution_count": 6,
   "id": "baad2c52",
   "metadata": {},
   "outputs": [
    {
     "name": "stdout",
     "output_type": "stream",
     "text": [
      "the company tackles No poverty\n"
     ]
    },
    {
     "name": "stderr",
     "output_type": "stream",
     "text": [
      "100%|████████████████████████████████████| 12266/12266 [01:14<00:00, 164.08it/s]\n"
     ]
    },
    {
     "name": "stdout",
     "output_type": "stream",
     "text": [
      "the company tackles Zero hunger\n"
     ]
    },
    {
     "name": "stderr",
     "output_type": "stream",
     "text": [
      "100%|████████████████████████████████████| 12002/12002 [01:13<00:00, 163.63it/s]\n"
     ]
    },
    {
     "name": "stdout",
     "output_type": "stream",
     "text": [
      "the company tackles Good health and well-being\n"
     ]
    },
    {
     "name": "stderr",
     "output_type": "stream",
     "text": [
      "100%|████████████████████████████████████| 12006/12006 [01:13<00:00, 163.28it/s]\n"
     ]
    },
    {
     "name": "stdout",
     "output_type": "stream",
     "text": [
      "the company tackles Quality education\n"
     ]
    },
    {
     "name": "stderr",
     "output_type": "stream",
     "text": [
      "100%|████████████████████████████████████| 11975/11975 [01:13<00:00, 163.67it/s]\n"
     ]
    },
    {
     "name": "stdout",
     "output_type": "stream",
     "text": [
      "the company tackles Gender equality\n"
     ]
    },
    {
     "name": "stderr",
     "output_type": "stream",
     "text": [
      "100%|████████████████████████████████████| 12003/12003 [01:13<00:00, 163.83it/s]\n"
     ]
    },
    {
     "name": "stdout",
     "output_type": "stream",
     "text": [
      "the company tackles Clean water and sanitation\n"
     ]
    },
    {
     "name": "stderr",
     "output_type": "stream",
     "text": [
      "100%|████████████████████████████████████| 12431/12431 [01:16<00:00, 161.55it/s]\n"
     ]
    },
    {
     "name": "stdout",
     "output_type": "stream",
     "text": [
      "the company tackles Affordable and clean energy\n"
     ]
    },
    {
     "name": "stderr",
     "output_type": "stream",
     "text": [
      "100%|████████████████████████████████████| 12330/12330 [01:16<00:00, 161.54it/s]\n"
     ]
    },
    {
     "name": "stdout",
     "output_type": "stream",
     "text": [
      "the company tackles Decent work and economic growth\n"
     ]
    },
    {
     "name": "stderr",
     "output_type": "stream",
     "text": [
      "100%|████████████████████████████████████| 12080/12080 [01:20<00:00, 150.38it/s]\n"
     ]
    },
    {
     "name": "stdout",
     "output_type": "stream",
     "text": [
      "the company tackles Industry, Innovation and Infrastructure\n"
     ]
    },
    {
     "name": "stderr",
     "output_type": "stream",
     "text": [
      "100%|████████████████████████████████████| 12263/12263 [01:17<00:00, 158.79it/s]\n"
     ]
    },
    {
     "name": "stdout",
     "output_type": "stream",
     "text": [
      "the company tackles Reduced inequality\n"
     ]
    },
    {
     "name": "stderr",
     "output_type": "stream",
     "text": [
      "100%|████████████████████████████████████| 12116/12116 [01:14<00:00, 163.54it/s]\n"
     ]
    },
    {
     "name": "stdout",
     "output_type": "stream",
     "text": [
      "the company tackles Sustainable cities and communities\n"
     ]
    },
    {
     "name": "stderr",
     "output_type": "stream",
     "text": [
      "100%|████████████████████████████████████| 12459/12459 [01:18<00:00, 159.04it/s]\n"
     ]
    },
    {
     "name": "stdout",
     "output_type": "stream",
     "text": [
      "the company tackles Responsible consumption and production\n"
     ]
    },
    {
     "name": "stderr",
     "output_type": "stream",
     "text": [
      "100%|████████████████████████████████████| 12445/12445 [01:19<00:00, 157.49it/s]\n"
     ]
    },
    {
     "name": "stdout",
     "output_type": "stream",
     "text": [
      "the company tackles Climate action\n"
     ]
    },
    {
     "name": "stderr",
     "output_type": "stream",
     "text": [
      "100%|████████████████████████████████████| 11967/11967 [01:13<00:00, 162.97it/s]\n"
     ]
    },
    {
     "name": "stdout",
     "output_type": "stream",
     "text": [
      "the company tackles Life below water\n"
     ]
    },
    {
     "name": "stderr",
     "output_type": "stream",
     "text": [
      "100%|████████████████████████████████████| 12443/12443 [01:16<00:00, 161.64it/s]\n"
     ]
    },
    {
     "name": "stdout",
     "output_type": "stream",
     "text": [
      "the company tackles Life on land\n"
     ]
    },
    {
     "name": "stderr",
     "output_type": "stream",
     "text": [
      "100%|████████████████████████████████████| 12463/12463 [01:16<00:00, 163.66it/s]\n"
     ]
    },
    {
     "name": "stdout",
     "output_type": "stream",
     "text": [
      "the company tackles Peace, justice and strong institutions\n"
     ]
    },
    {
     "name": "stderr",
     "output_type": "stream",
     "text": [
      "100%|████████████████████████████████████| 12054/12054 [01:14<00:00, 161.93it/s]\n"
     ]
    },
    {
     "name": "stdout",
     "output_type": "stream",
     "text": [
      "the company tackles Partnership for the goals\n"
     ]
    },
    {
     "name": "stderr",
     "output_type": "stream",
     "text": [
      "100%|█████████████████████████████████████| 12220/12220 [02:04<00:00, 97.96it/s]\n"
     ]
    }
   ],
   "source": [
    "import pandas as pd\n",
    "import glob\n",
    "from tqdm import tqdm\n",
    "all_SDGs = [\"No poverty\",\"Zero hunger\",\"Good health and well-being\", \"Quality education\", \"Gender equality\", \"Clean water and sanitation\", \"Affordable and clean energy\", \"Decent work and economic growth\", \"Industry, Innovation and Infrastructure\", \"Reduced inequality\", \"Sustainable cities and communities\", \"Responsible consumption and production\", \"Climate action\", \"Life below water\", \"Life on land\", \"Peace, justice and strong institutions\", \"Partnership for the goals\"]\n",
    "\n",
    "# path = './temp_data/rank/' # use your path\n",
    "# all_files = glob.glob(path + \"/ranked*.csv\")\n",
    "# print(all_files)\n",
    "for number, sdg in zip(range(1,18),all_SDGs):\n",
    "    # file = './temp_data/rank/ranked_SDG_1.csv'\n",
    "    print(\"the company tackles \"+sdg)\n",
    "    file = './temp_data/rank/ranked_SDG_{}.csv'.format(number)\n",
    "    df_rank = pd.read_csv(file, sep=\"\\t\")\n",
    "    df_rank[\"id\"] = range(len(df_rank))\n",
    "    df_rank_drop = df_rank[df_rank.groupby(['statement']).company.transform(len) > 1]\n",
    "    df_rank = df_rank[~df_rank.id.isin(df_rank_drop.id)]\n",
    "    df_rank = df_rank.groupby(\"company\").head(20)\n",
    "    df_rank[\"temp\"] = df_rank[\"statement\"].progress_apply(nli_statement, query=\"the company tackles \"+sdg)\n",
    "    df_rank[['label','prob']] = pd.DataFrame(df_rank.temp.tolist(), index= df_rank.index)\n",
    "    df_rank = df_rank.drop([\"temp\"],axis=1)\n",
    "    df_rank[df_rank.label==\"entail\"].sort_values(\"prob\",ascending=False).to_csv(\"./temp_data/entail/\"+file.split(\"/\")[-1].replace(\"ranked\",\"entail\"), sep=\"\\t\")"
   ]
  },
  {
   "cell_type": "code",
   "execution_count": null,
   "id": "37cff67c",
   "metadata": {},
   "outputs": [],
   "source": [
    "# end"
   ]
  }
 ],
 "metadata": {
  "kernelspec": {
   "display_name": "Python 3 (ipykernel)",
   "language": "python",
   "name": "python3"
  },
  "language_info": {
   "codemirror_mode": {
    "name": "ipython",
    "version": 3
   },
   "file_extension": ".py",
   "mimetype": "text/x-python",
   "name": "python",
   "nbconvert_exporter": "python",
   "pygments_lexer": "ipython3",
   "version": "3.7.11"
  }
 },
 "nbformat": 4,
 "nbformat_minor": 5
}
