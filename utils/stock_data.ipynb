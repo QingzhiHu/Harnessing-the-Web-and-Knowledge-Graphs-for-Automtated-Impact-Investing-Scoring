{
 "cells": [
  {
   "cell_type": "code",
   "execution_count": 1,
   "id": "627d2167",
   "metadata": {},
   "outputs": [],
   "source": [
    "import pandas as pd\n",
    "import yfinance as yf\n",
    "from yahoofinancials import YahooFinancials\n",
    "import numpy as np"
   ]
  },
  {
   "cell_type": "code",
   "execution_count": null,
   "id": "eaa24020",
   "metadata": {},
   "outputs": [],
   "source": []
  },
  {
   "cell_type": "code",
   "execution_count": 2,
   "id": "c82ef116",
   "metadata": {},
   "outputs": [
    {
     "data": {
      "text/html": [
       "<div>\n",
       "<style scoped>\n",
       "    .dataframe tbody tr th:only-of-type {\n",
       "        vertical-align: middle;\n",
       "    }\n",
       "\n",
       "    .dataframe tbody tr th {\n",
       "        vertical-align: top;\n",
       "    }\n",
       "\n",
       "    .dataframe thead th {\n",
       "        text-align: right;\n",
       "    }\n",
       "</style>\n",
       "<table border=\"1\" class=\"dataframe\">\n",
       "  <thead>\n",
       "    <tr style=\"text-align: right;\">\n",
       "      <th></th>\n",
       "      <th>Symbol</th>\n",
       "      <th>Security</th>\n",
       "      <th>SEC filings</th>\n",
       "      <th>GICS Sector</th>\n",
       "      <th>GICS Sub-Industry</th>\n",
       "      <th>Headquarters Location</th>\n",
       "      <th>Date first added</th>\n",
       "      <th>CIK</th>\n",
       "      <th>Founded</th>\n",
       "    </tr>\n",
       "  </thead>\n",
       "  <tbody>\n",
       "    <tr>\n",
       "      <th>0</th>\n",
       "      <td>MMM</td>\n",
       "      <td>3M</td>\n",
       "      <td>reports</td>\n",
       "      <td>Industrials</td>\n",
       "      <td>Industrial Conglomerates</td>\n",
       "      <td>Saint Paul, Minnesota</td>\n",
       "      <td>1976-08-09</td>\n",
       "      <td>66740</td>\n",
       "      <td>1902</td>\n",
       "    </tr>\n",
       "    <tr>\n",
       "      <th>1</th>\n",
       "      <td>ABT</td>\n",
       "      <td>Abbott Laboratories</td>\n",
       "      <td>reports</td>\n",
       "      <td>Health Care</td>\n",
       "      <td>Health Care Equipment</td>\n",
       "      <td>North Chicago, Illinois</td>\n",
       "      <td>1964-03-31</td>\n",
       "      <td>1800</td>\n",
       "      <td>1888</td>\n",
       "    </tr>\n",
       "    <tr>\n",
       "      <th>2</th>\n",
       "      <td>ABBV</td>\n",
       "      <td>AbbVie</td>\n",
       "      <td>reports</td>\n",
       "      <td>Health Care</td>\n",
       "      <td>Pharmaceuticals</td>\n",
       "      <td>North Chicago, Illinois</td>\n",
       "      <td>2012-12-31</td>\n",
       "      <td>1551152</td>\n",
       "      <td>2013 (1888)</td>\n",
       "    </tr>\n",
       "    <tr>\n",
       "      <th>3</th>\n",
       "      <td>ABMD</td>\n",
       "      <td>Abiomed</td>\n",
       "      <td>reports</td>\n",
       "      <td>Health Care</td>\n",
       "      <td>Health Care Equipment</td>\n",
       "      <td>Danvers, Massachusetts</td>\n",
       "      <td>2018-05-31</td>\n",
       "      <td>815094</td>\n",
       "      <td>1981</td>\n",
       "    </tr>\n",
       "    <tr>\n",
       "      <th>4</th>\n",
       "      <td>ACN</td>\n",
       "      <td>Accenture</td>\n",
       "      <td>reports</td>\n",
       "      <td>Information Technology</td>\n",
       "      <td>IT Consulting &amp; Other Services</td>\n",
       "      <td>Dublin, Ireland</td>\n",
       "      <td>2011-07-06</td>\n",
       "      <td>1467373</td>\n",
       "      <td>1989</td>\n",
       "    </tr>\n",
       "    <tr>\n",
       "      <th>...</th>\n",
       "      <td>...</td>\n",
       "      <td>...</td>\n",
       "      <td>...</td>\n",
       "      <td>...</td>\n",
       "      <td>...</td>\n",
       "      <td>...</td>\n",
       "      <td>...</td>\n",
       "      <td>...</td>\n",
       "      <td>...</td>\n",
       "    </tr>\n",
       "    <tr>\n",
       "      <th>500</th>\n",
       "      <td>YUM</td>\n",
       "      <td>Yum! Brands</td>\n",
       "      <td>reports</td>\n",
       "      <td>Consumer Discretionary</td>\n",
       "      <td>Restaurants</td>\n",
       "      <td>Louisville, Kentucky</td>\n",
       "      <td>1997-10-06</td>\n",
       "      <td>1041061</td>\n",
       "      <td>1997</td>\n",
       "    </tr>\n",
       "    <tr>\n",
       "      <th>501</th>\n",
       "      <td>ZBRA</td>\n",
       "      <td>Zebra Technologies</td>\n",
       "      <td>reports</td>\n",
       "      <td>Information Technology</td>\n",
       "      <td>Electronic Equipment &amp; Instruments</td>\n",
       "      <td>Lincolnshire, Illinois</td>\n",
       "      <td>2019-12-23</td>\n",
       "      <td>877212</td>\n",
       "      <td>1969</td>\n",
       "    </tr>\n",
       "    <tr>\n",
       "      <th>502</th>\n",
       "      <td>ZBH</td>\n",
       "      <td>Zimmer Biomet</td>\n",
       "      <td>reports</td>\n",
       "      <td>Health Care</td>\n",
       "      <td>Health Care Equipment</td>\n",
       "      <td>Warsaw, Indiana</td>\n",
       "      <td>2001-08-07</td>\n",
       "      <td>1136869</td>\n",
       "      <td>1927</td>\n",
       "    </tr>\n",
       "    <tr>\n",
       "      <th>503</th>\n",
       "      <td>ZION</td>\n",
       "      <td>Zions Bancorp</td>\n",
       "      <td>reports</td>\n",
       "      <td>Financials</td>\n",
       "      <td>Regional Banks</td>\n",
       "      <td>Salt Lake City, Utah</td>\n",
       "      <td>2001-06-22</td>\n",
       "      <td>109380</td>\n",
       "      <td>1873</td>\n",
       "    </tr>\n",
       "    <tr>\n",
       "      <th>504</th>\n",
       "      <td>ZTS</td>\n",
       "      <td>Zoetis</td>\n",
       "      <td>reports</td>\n",
       "      <td>Health Care</td>\n",
       "      <td>Pharmaceuticals</td>\n",
       "      <td>Parsippany, New Jersey</td>\n",
       "      <td>2013-06-21</td>\n",
       "      <td>1555280</td>\n",
       "      <td>1952</td>\n",
       "    </tr>\n",
       "  </tbody>\n",
       "</table>\n",
       "<p>505 rows × 9 columns</p>\n",
       "</div>"
      ],
      "text/plain": [
       "    Symbol             Security SEC filings             GICS Sector  \\\n",
       "0      MMM                   3M     reports             Industrials   \n",
       "1      ABT  Abbott Laboratories     reports             Health Care   \n",
       "2     ABBV               AbbVie     reports             Health Care   \n",
       "3     ABMD              Abiomed     reports             Health Care   \n",
       "4      ACN            Accenture     reports  Information Technology   \n",
       "..     ...                  ...         ...                     ...   \n",
       "500    YUM          Yum! Brands     reports  Consumer Discretionary   \n",
       "501   ZBRA   Zebra Technologies     reports  Information Technology   \n",
       "502    ZBH        Zimmer Biomet     reports             Health Care   \n",
       "503   ZION        Zions Bancorp     reports              Financials   \n",
       "504    ZTS               Zoetis     reports             Health Care   \n",
       "\n",
       "                      GICS Sub-Industry    Headquarters Location  \\\n",
       "0              Industrial Conglomerates    Saint Paul, Minnesota   \n",
       "1                 Health Care Equipment  North Chicago, Illinois   \n",
       "2                       Pharmaceuticals  North Chicago, Illinois   \n",
       "3                 Health Care Equipment   Danvers, Massachusetts   \n",
       "4        IT Consulting & Other Services          Dublin, Ireland   \n",
       "..                                  ...                      ...   \n",
       "500                         Restaurants     Louisville, Kentucky   \n",
       "501  Electronic Equipment & Instruments   Lincolnshire, Illinois   \n",
       "502               Health Care Equipment          Warsaw, Indiana   \n",
       "503                      Regional Banks     Salt Lake City, Utah   \n",
       "504                     Pharmaceuticals   Parsippany, New Jersey   \n",
       "\n",
       "    Date first added      CIK      Founded  \n",
       "0         1976-08-09    66740         1902  \n",
       "1         1964-03-31     1800         1888  \n",
       "2         2012-12-31  1551152  2013 (1888)  \n",
       "3         2018-05-31   815094         1981  \n",
       "4         2011-07-06  1467373         1989  \n",
       "..               ...      ...          ...  \n",
       "500       1997-10-06  1041061         1997  \n",
       "501       2019-12-23   877212         1969  \n",
       "502       2001-08-07  1136869         1927  \n",
       "503       2001-06-22   109380         1873  \n",
       "504       2013-06-21  1555280         1952  \n",
       "\n",
       "[505 rows x 9 columns]"
      ]
     },
     "execution_count": 2,
     "metadata": {},
     "output_type": "execute_result"
    }
   ],
   "source": [
    "import pandas as pd\n",
    "\n",
    "# There are 2 tables on the Wikipedia page\n",
    "# we want the first table\n",
    "\n",
    "payload=pd.read_html('https://en.wikipedia.org/wiki/List_of_S%26P_500_companies')\n",
    "first_table = payload[0]\n",
    "second_table = payload[1]\n",
    "\n",
    "df_symbol = first_table\n",
    "df_symbol"
   ]
  },
  {
   "cell_type": "code",
   "execution_count": 85,
   "id": "8802ef43",
   "metadata": {},
   "outputs": [],
   "source": [
    "# df_symbol = pd.read_csv(\"symbols.csv\")\n",
    "#         company_name = yf.Ticker(element).info['shortName']\n",
    "#         company_name_list.append(element)\n"
   ]
  },
  {
   "cell_type": "code",
   "execution_count": 130,
   "id": "3fd0622d",
   "metadata": {},
   "outputs": [
    {
     "name": "stdout",
     "output_type": "stream",
     "text": [
      "10\n",
      "20\n",
      "30\n",
      "40\n",
      "50\n",
      "60\n",
      "- BRK.B: No data found, symbol may be delisted\n",
      "70\n",
      "80\n",
      "- BF.B: No data found for this date range, symbol may be delisted\n",
      "90\n",
      "100\n",
      "110\n",
      "120\n",
      "130\n",
      "140\n",
      "150\n",
      "160\n",
      "170\n",
      "180\n",
      "190\n",
      "200\n",
      "210\n",
      "220\n",
      "230\n",
      "240\n",
      "250\n",
      "260\n",
      "270\n",
      "280\n",
      "290\n",
      "300\n",
      "310\n",
      "320\n",
      "330\n",
      "340\n",
      "350\n",
      "360\n",
      "370\n",
      "380\n",
      "390\n",
      "400\n",
      "410\n",
      "420\n",
      "430\n",
      "440\n",
      "450\n",
      "460\n",
      "470\n",
      "480\n",
      "490\n",
      "500\n"
     ]
    }
   ],
   "source": [
    "import yfinance as yf\n",
    "tickers = df_symbol.Symbol.values.tolist()\n",
    "company_name_list = df_symbol.Security.values.tolist()\n",
    "\n",
    "df_list = []\n",
    "\n",
    "count = 0\n",
    "for element in tickers:\n",
    "    count += 1\n",
    "    try:\n",
    "        if count % 10 == 0:\n",
    "            print(count)\n",
    "        ticker = yf.Ticker(element)\n",
    "        df = ticker.history(period=\"1y\")\n",
    "        df[\"symbol\"] = element\n",
    "        df[\"Before\"] = df[\"Close\"].shift(periods=1)\n",
    "        df[\"return\"] = np.log(df.Close/df.Before)\n",
    "        df_list.append(df.dropna())\n",
    "    except:\n",
    "        continue\n"
   ]
  },
  {
   "cell_type": "code",
   "execution_count": null,
   "id": "15759783",
   "metadata": {},
   "outputs": [],
   "source": []
  },
  {
   "cell_type": "code",
   "execution_count": 194,
   "id": "ad83696f",
   "metadata": {},
   "outputs": [],
   "source": [
    "df_concat = pd.concat(df_list)\n",
    "df_concat[\"date\"] = df_concat.index\n",
    "df_concat = pd.merge(df_symbol, df_concat, left_on=\"Symbol\", right_on=\"symbol\")\n",
    "df_concat = df_concat.rename(columns={\"Security\": \"company\"})"
   ]
  },
  {
   "cell_type": "code",
   "execution_count": 187,
   "id": "9f65075d",
   "metadata": {},
   "outputs": [],
   "source": [
    "# df_concat[\"return\"] = df_concat[\"return\"].cumsum()"
   ]
  },
  {
   "cell_type": "code",
   "execution_count": 195,
   "id": "66ba0c64",
   "metadata": {},
   "outputs": [],
   "source": [
    "df_weighted_esg = pd.read_csv(\"weighted_esg.csv\")"
   ]
  },
  {
   "cell_type": "code",
   "execution_count": 196,
   "id": "238220ab",
   "metadata": {},
   "outputs": [],
   "source": [
    "df_merged_final = pd.merge(df_concat, df_weighted_esg, on=\"company\")"
   ]
  },
  {
   "cell_type": "code",
   "execution_count": 197,
   "id": "36e60739",
   "metadata": {},
   "outputs": [
    {
     "data": {
      "text/plain": [
       "Index(['Symbol', 'company', 'SEC filings', 'GICS Sector', 'GICS Sub-Industry',\n",
       "       'Headquarters Location', 'Date first added', 'CIK', 'Founded', 'Open',\n",
       "       'High', 'Low', 'Close', 'Volume', 'Dividends', 'Stock Splits', 'symbol',\n",
       "       'Before', 'return', 'Adj Close', 'date', 'Unnamed: 0', 'tone',\n",
       "       'tone_normalized', 'score', 'score_normalized', 'weighted_esg',\n",
       "       'class'],\n",
       "      dtype='object')"
      ]
     },
     "execution_count": 197,
     "metadata": {},
     "output_type": "execute_result"
    }
   ],
   "source": [
    "df_merged_final.columns"
   ]
  },
  {
   "cell_type": "code",
   "execution_count": 198,
   "id": "0af457a5",
   "metadata": {},
   "outputs": [],
   "source": [
    "# stock_esg = df_merged_final[['date', 'company', 'GICS Sector', 'GICS Sub-Industry',\n",
    "#        'Close', 'Volume', 'Dividends', 'Stock Splits', 'return', 'themes', 'tone',\n",
    "#        'score_normalized', 'weighted_esg', 'class']]\n",
    "stock_esg = df_merged_final[[\"date\",\"class\",\"return\"]]"
   ]
  },
  {
   "cell_type": "code",
   "execution_count": 199,
   "id": "5fb5f3c2",
   "metadata": {},
   "outputs": [
    {
     "data": {
      "text/html": [
       "<div>\n",
       "<style scoped>\n",
       "    .dataframe tbody tr th:only-of-type {\n",
       "        vertical-align: middle;\n",
       "    }\n",
       "\n",
       "    .dataframe tbody tr th {\n",
       "        vertical-align: top;\n",
       "    }\n",
       "\n",
       "    .dataframe thead th {\n",
       "        text-align: right;\n",
       "    }\n",
       "</style>\n",
       "<table border=\"1\" class=\"dataframe\">\n",
       "  <thead>\n",
       "    <tr style=\"text-align: right;\">\n",
       "      <th></th>\n",
       "      <th></th>\n",
       "      <th>return</th>\n",
       "    </tr>\n",
       "    <tr>\n",
       "      <th>class</th>\n",
       "      <th>date</th>\n",
       "      <th></th>\n",
       "    </tr>\n",
       "  </thead>\n",
       "  <tbody>\n",
       "    <tr>\n",
       "      <th rowspan=\"5\" valign=\"top\">0</th>\n",
       "      <th>2020-11-17</th>\n",
       "      <td>-0.045500</td>\n",
       "    </tr>\n",
       "    <tr>\n",
       "      <th>2020-11-18</th>\n",
       "      <td>-0.289274</td>\n",
       "    </tr>\n",
       "    <tr>\n",
       "      <th>2020-11-19</th>\n",
       "      <td>0.011636</td>\n",
       "    </tr>\n",
       "    <tr>\n",
       "      <th>2020-11-20</th>\n",
       "      <td>-0.217151</td>\n",
       "    </tr>\n",
       "    <tr>\n",
       "      <th>2020-11-23</th>\n",
       "      <td>0.263372</td>\n",
       "    </tr>\n",
       "    <tr>\n",
       "      <th>...</th>\n",
       "      <th>...</th>\n",
       "      <td>...</td>\n",
       "    </tr>\n",
       "    <tr>\n",
       "      <th rowspan=\"5\" valign=\"top\">9</th>\n",
       "      <th>2021-11-09</th>\n",
       "      <td>0.030510</td>\n",
       "    </tr>\n",
       "    <tr>\n",
       "      <th>2021-11-10</th>\n",
       "      <td>-0.074944</td>\n",
       "    </tr>\n",
       "    <tr>\n",
       "      <th>2021-11-11</th>\n",
       "      <td>0.139243</td>\n",
       "    </tr>\n",
       "    <tr>\n",
       "      <th>2021-11-12</th>\n",
       "      <td>0.027780</td>\n",
       "    </tr>\n",
       "    <tr>\n",
       "      <th>2021-11-15</th>\n",
       "      <td>-0.002927</td>\n",
       "    </tr>\n",
       "  </tbody>\n",
       "</table>\n",
       "<p>2510 rows × 1 columns</p>\n",
       "</div>"
      ],
      "text/plain": [
       "                    return\n",
       "class date                \n",
       "0     2020-11-17 -0.045500\n",
       "      2020-11-18 -0.289274\n",
       "      2020-11-19  0.011636\n",
       "      2020-11-20 -0.217151\n",
       "      2020-11-23  0.263372\n",
       "...                    ...\n",
       "9     2021-11-09  0.030510\n",
       "      2021-11-10 -0.074944\n",
       "      2021-11-11  0.139243\n",
       "      2021-11-12  0.027780\n",
       "      2021-11-15 -0.002927\n",
       "\n",
       "[2510 rows x 1 columns]"
      ]
     },
     "execution_count": 199,
     "metadata": {},
     "output_type": "execute_result"
    }
   ],
   "source": [
    "stock_esg.groupby(['class', 'date']).sum()"
   ]
  },
  {
   "cell_type": "code",
   "execution_count": 200,
   "id": "47a9fb18",
   "metadata": {},
   "outputs": [
    {
     "data": {
      "text/plain": [
       "Text(0.5, 1.0, 'Historical 95% VaR')"
      ]
     },
     "execution_count": 200,
     "metadata": {},
     "output_type": "execute_result"
    },
    {
     "data": {
      "image/png": "[encoded data removed]",
      "text/plain": [
       "<Figure size 864x432 with 1 Axes>"
      ]
     },
     "metadata": {
      "needs_background": "light"
     },
     "output_type": "display_data"
    }
   ],
   "source": [
    "import matplotlib.pyplot as plt\n",
    "import seaborn as sns\n",
    "import numpy as np\n",
    "\n",
    "plt.figure(figsize = (12, 6))\n",
    "\n",
    "# create 5 different books for each ESG quantile, aggregating individual returns\n",
    "grouped_assets = stock_esg.groupby(['class', 'date']).sum()\n",
    "\n",
    "# retrieve poorly rated ESG portfolio and compute historical value at risk\n",
    "bronze_portfolio = grouped_assets.loc[0]\n",
    "bronze_var = np.quantile(bronze_portfolio['return'], 5 / 100)\n",
    "plt.hist(bronze_portfolio['return'], bins=200, alpha=0.25, color='red', density=True, label='Bad ESG portfolio')\n",
    "plt.axvline(bronze_var, color='red', linestyle='--', label=\"VAR95 {:.2f}\".format(bronze_var))\n",
    "\n",
    "# retrieve highly rated ESG portfolio and compute historical value at risk\n",
    "gold_portfolio = grouped_assets.loc[9]\n",
    "gold_var = np.quantile(gold_portfolio['return'], 5 / 100)\n",
    "plt.hist(gold_portfolio['return'], bins=200, alpha=0.25, color='green', density=True, label='Good ESG portfolio')\n",
    "plt.axvline(gold_var, color='green', linestyle='--', label=\"VAR95 {:.2f}\".format(gold_var))\n",
    "\n",
    "# plot graph\n",
    "plt.xlim(-0.5,0.5)\n",
    "plt.legend(loc='upper right')\n",
    "plt.xlabel('Portfolio historical returns')\n",
    "plt.ylabel('Density')\n",
    "plt.title('Historical 95% VaR')"
   ]
  },
  {
   "cell_type": "code",
   "execution_count": 201,
   "id": "2432ea17",
   "metadata": {},
   "outputs": [
    {
     "data": {
      "text/plain": [
       "'Walmart'"
      ]
     },
     "execution_count": 201,
     "metadata": {},
     "output_type": "execute_result"
    }
   ],
   "source": [
    "worst = df_merged_final.loc[df_merged_final.weighted_esg.argmin(),\"company\"]\n",
    "worst"
   ]
  },
  {
   "cell_type": "code",
   "execution_count": 202,
   "id": "7c7e94e3",
   "metadata": {},
   "outputs": [
    {
     "data": {
      "text/plain": [
       "'United Airlines'"
      ]
     },
     "execution_count": 202,
     "metadata": {},
     "output_type": "execute_result"
    }
   ],
   "source": [
    "best = df_merged_final.loc[df_merged_final.weighted_esg.argmax(),\"company\"]\n",
    "best"
   ]
  },
  {
   "cell_type": "code",
   "execution_count": 203,
   "id": "a968f206",
   "metadata": {},
   "outputs": [
    {
     "data": {
      "text/plain": [
       "<AxesSubplot:>"
      ]
     },
     "execution_count": 203,
     "metadata": {},
     "output_type": "execute_result"
    },
    {
     "data": {
      "image/png": "[encoded data removed]",
      "text/plain": [
       "<Figure size 432x288 with 1 Axes>"
      ]
     },
     "metadata": {
      "needs_background": "light"
     },
     "output_type": "display_data"
    }
   ],
   "source": [
    "df_temp = pd.DataFrame()\n",
    "df_temp[\"best\"] = df_concat[df_concat.company==best][\"return\"].cumsum()\n",
    "# df_temp[\"worst\"] = df_concat[df_concat.company==worst][\"return\"].cumsum()\n",
    "df_temp.plot()"
   ]
  },
  {
   "cell_type": "code",
   "execution_count": 148,
   "id": "ab79481f",
   "metadata": {},
   "outputs": [
    {
     "data": {
      "text/plain": [
       "<AxesSubplot:>"
      ]
     },
     "execution_count": 148,
     "metadata": {},
     "output_type": "execute_result"
    },
    {
     "data": {
      "image/png": "[encoded data removed]",
      "text/plain": [
       "<Figure size 432x288 with 1 Axes>"
      ]
     },
     "metadata": {
      "needs_background": "light"
     },
     "output_type": "display_data"
    }
   ],
   "source": [
    "df_temp = pd.DataFrame()\n",
    "# df_temp[\"best\"] = df_concat[df_concat.company==best][\"return\"].cumsum()\n",
    "df_temp[\"worst\"] = df_concat[df_concat.company==worst][\"return\"].cumsum()\n",
    "df_temp.plot()"
   ]
  }
 ],
 "metadata": {
  "kernelspec": {
   "display_name": "Python 3",
   "language": "python",
   "name": "python3"
  },
  "language_info": {
   "codemirror_mode": {
    "name": "ipython",
    "version": 3
   },
   "file_extension": ".py",
   "mimetype": "text/x-python",
   "name": "python",
   "nbconvert_exporter": "python",
   "pygments_lexer": "ipython3",
   "version": "3.6.13"
  }
 },
 "nbformat": 4,
 "nbformat_minor": 5
}
