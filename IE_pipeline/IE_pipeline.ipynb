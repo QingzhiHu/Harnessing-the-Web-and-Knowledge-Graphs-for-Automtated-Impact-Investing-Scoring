{
 "cells": [
  {
   "cell_type": "code",
   "execution_count": 14,
   "metadata": {},
   "outputs": [
    {
     "name": "stdout",
     "output_type": "stream",
     "text": [
      "Collecting spacy==2.3.5\n",
      "  Using cached spacy-2.3.5-cp37-cp37m-win_amd64.whl (9.5 MB)\n",
      "Requirement already satisfied: srsly<1.1.0,>=1.0.2 in c:\\users\\rob6460\\anaconda3\\envs\\ie\\lib\\site-packages (from spacy==2.3.5) (1.0.5)\n",
      "Collecting cymem<2.1.0,>=2.0.2\n",
      "  Using cached cymem-2.0.6-cp37-cp37m-win_amd64.whl (35 kB)\n",
      "Collecting wasabi<1.1.0,>=0.4.0\n",
      "  Using cached wasabi-0.8.2-py3-none-any.whl (23 kB)\n",
      "Requirement already satisfied: thinc<7.5.0,>=7.4.1 in c:\\users\\rob6460\\anaconda3\\envs\\ie\\lib\\site-packages (from spacy==2.3.5) (7.4.5)\n",
      "Requirement already satisfied: numpy>=1.15.0 in c:\\users\\rob6460\\anaconda3\\envs\\ie\\lib\\site-packages (from spacy==2.3.5) (1.21.3)\n",
      "Requirement already satisfied: catalogue<1.1.0,>=0.0.7 in c:\\users\\rob6460\\anaconda3\\envs\\ie\\lib\\site-packages (from spacy==2.3.5) (1.0.0)\n",
      "Collecting murmurhash<1.1.0,>=0.28.0\n",
      "  Using cached murmurhash-1.0.6-cp37-cp37m-win_amd64.whl (20 kB)\n",
      "Collecting tqdm<5.0.0,>=4.38.0\n",
      "  Using cached tqdm-4.62.3-py2.py3-none-any.whl (76 kB)\n",
      "Collecting requests<3.0.0,>=2.13.0\n",
      "  Using cached requests-2.26.0-py2.py3-none-any.whl (62 kB)\n",
      "Requirement already satisfied: setuptools in c:\\users\\rob6460\\anaconda3\\envs\\ie\\lib\\site-packages (from spacy==2.3.5) (58.0.4)\n",
      "Requirement already satisfied: plac<1.2.0,>=0.9.6 in c:\\users\\rob6460\\anaconda3\\envs\\ie\\lib\\site-packages (from spacy==2.3.5) (1.1.3)\n",
      "Collecting preshed<3.1.0,>=3.0.2\n",
      "  Using cached preshed-3.0.6-cp37-cp37m-win_amd64.whl (108 kB)\n",
      "Requirement already satisfied: blis<0.8.0,>=0.4.0 in c:\\users\\rob6460\\anaconda3\\envs\\ie\\lib\\site-packages (from spacy==2.3.5) (0.7.5)\n",
      "Collecting importlib-metadata>=0.20\n",
      "  Using cached importlib_metadata-4.8.1-py3-none-any.whl (17 kB)\n",
      "Collecting typing-extensions>=3.6.4\n",
      "  Using cached typing_extensions-3.10.0.2-py3-none-any.whl (26 kB)\n",
      "Collecting zipp>=0.5\n",
      "  Using cached zipp-3.6.0-py3-none-any.whl (5.3 kB)\n"
     ]
    },
    {
     "name": "stderr",
     "output_type": "stream",
     "text": [
      "ERROR: Could not install packages due to an OSError: [Errno 2] No such file or directory: 'c:\\\\users\\\\rob6460\\\\anaconda3\\\\envs\\\\ie\\\\lib\\\\site-packages\\\\numpy-1.21.3.dist-info\\\\METADATA'\n",
      "\n"
     ]
    },
    {
     "name": "stdout",
     "output_type": "stream",
     "text": [
      "Requirement already satisfied: neuralcoref==4.0 in c:\\users\\rob6460\\anaconda3\\envs\\ie\\lib\\site-packages (4.0)\n",
      "Requirement already satisfied: spacy>=2.1.0 in c:\\users\\rob6460\\anaconda3\\envs\\ie\\lib\\site-packages (from neuralcoref==4.0) (3.1.1)\n",
      "Requirement already satisfied: boto3 in c:\\users\\rob6460\\anaconda3\\envs\\ie\\lib\\site-packages (from neuralcoref==4.0) (1.19.7)\n",
      "Collecting requests<3.0.0,>=2.13.0\n",
      "  Using cached requests-2.26.0-py2.py3-none-any.whl (62 kB)\n",
      "Requirement already satisfied: numpy>=1.15.0 in c:\\users\\rob6460\\anaconda3\\envs\\ie\\lib\\site-packages (from neuralcoref==4.0) (1.21.3)\n"
     ]
    },
    {
     "name": "stderr",
     "output_type": "stream",
     "text": [
      "ERROR: Could not install packages due to an OSError: [Errno 2] No such file or directory: 'c:\\\\users\\\\rob6460\\\\anaconda3\\\\envs\\\\ie\\\\lib\\\\site-packages\\\\numpy-1.21.3.dist-info\\\\METADATA'\n",
      "\n"
     ]
    }
   ],
   "source": [
    "# !pip install Python==3.7.10\n",
    "# !pip install spacy==2.1.4\n",
    "# !pip install neuralcoref==4.0\n",
    "# for version conflicts, check the following\n",
    "# https://github.com/huggingface/neuralcoref\n",
    "# https://github.com/explosion/spaCy/issues/4577"
   ]
  },
  {
   "cell_type": "code",
   "execution_count": 1,
   "metadata": {},
   "outputs": [],
   "source": [
    "# !pip3 install https://github.com/explosion/spacy-models/releases/download/en_core_web_sm-2.2.0/en_core_web_sm-2.2.0.tar.gz\n",
    "# !python -m spacy download en\n",
    "# pip install -U pip setuptools wheel\n",
    "# pip install -U spacy\n",
    "# !python -m spacy download en_core_web_sm\n",
    "# test node\n",
    "import en_core_web_sm\n",
    "nlp = en_core_web_sm.load()"
   ]
  },
  {
   "cell_type": "code",
   "execution_count": 5,
   "metadata": {},
   "outputs": [],
   "source": [
    "# Step 1: Coreference resolution\n",
    "# find all expressions in the text that refer to a specific entity\n",
    "# Neuralcoref model from Huggingface \n",
    "# SpaCy\n",
    "import spacy\n",
    "import neuralcoref\n",
    "\n",
    "\n",
    "# Load SpaCy\n",
    "# nlp = spacy.load('en')\n",
    "# Add neural coref to SpaCy's pipe\n",
    "neuralcoref.add_to_pipe(nlp)\n",
    "\n",
    "def coref_resolution(text):\n",
    "    \"\"\"Function that executes coreference resolution on a given text\"\"\"\n",
    "    doc = nlp(text)\n",
    "    # fetches tokens with whitespaces from spacy document\n",
    "    tok_list = list(token.text_with_ws for token in doc)\n",
    "    for cluster in doc._.coref_clusters:\n",
    "        # get tokens from representative cluster name\n",
    "        cluster_main_words = set(cluster.main.text.split(' '))\n",
    "#         print(\"debug\")\n",
    "        for coref in cluster:\n",
    "            if coref != cluster.main:  # if coreference element is not the representative element of that cluster\n",
    "                if coref.text != cluster.main.text and bool(set(coref.text.split(' ')).intersection(cluster_main_words)) == False:\n",
    "                    # if coreference element text and representative element text are not equal and none of the coreference element words are in representative element. This was done to handle nested coreference scenarios\n",
    "                    tok_list[coref.start] = cluster.main.text + \\\n",
    "                        doc[coref.end-1].whitespace_\n",
    "                    for i in range(coref.start+1, coref.end):\n",
    "                        tok_list[i] = \"\"\n",
    "\n",
    "    return \"\".join(tok_list)"
   ]
  },
  {
   "cell_type": "code",
   "execution_count": 6,
   "metadata": {},
   "outputs": [
    {
     "data": {
      "text/plain": [
       "\"Elon Musk is a business magnate, industrial designer, and engineer. He is the founder, CEO, CTO, and chief designer of SpaceX. He is also early investor, CEO, and product architect of Tesla, Inc. He is also the founder of The Boring Company and the co-founder of Neuralink. A centibillionaire, Musk became the richest person in the world in January 2021, with an estimated net worth of $185 billion at the time, surpassing Jeff Bezos. Musk was born to a Canadian mother and South African father and raised in Pretoria, South Africa. He briefly attended the University of Pretoria before moving to Canada aged 17 to attend Queen's University. He transferred to the University of Pennsylvania two years later, where he received dual bachelor's degrees in economics and physics. He moved to California in 1995 to attend Stanford University, but decided instead to pursue a business career. He went on co-founding a web software company Zip2 with his brother Kimbal Musk.\""
      ]
     },
     "execution_count": 6,
     "metadata": {},
     "output_type": "execute_result"
    }
   ],
   "source": [
    "# example text: “He” to “Elon Musk”\n",
    "example_text = \"Elon Musk is a business magnate, industrial designer, and engineer. He is the founder, CEO, CTO, and chief designer of SpaceX. He is also early investor, CEO, and product architect of Tesla, Inc. He is also the founder of The Boring Company and the co-founder of Neuralink. A centibillionaire, Musk became the richest person in the world in January 2021, with an estimated net worth of $185 billion at the time, surpassing Jeff Bezos. Musk was born to a Canadian mother and South African father and raised in Pretoria, South Africa. He briefly attended the University of Pretoria before moving to Canada aged 17 to attend Queen's University. He transferred to the University of Pennsylvania two years later, where he received dual bachelor's degrees in economics and physics. He moved to California in 1995 to attend Stanford University, but decided instead to pursue a business career. He went on co-founding a web software company Zip2 with his brother Kimbal Musk.\"\n",
    "example_text"
   ]
  },
  {
   "cell_type": "code",
   "execution_count": 7,
   "metadata": {},
   "outputs": [
    {
     "data": {
      "text/plain": [
       "\"Elon Musk is a business magnate, industrial designer, and engineer. Elon Musk is the founder, CEO, CTO, and chief designer of SpaceX. Elon Musk is also early investor, CEO, and product architect of Tesla, Inc. Elon Musk is also the founder of The Boring Company and the co-founder of Neuralink. A centibillionaire, Musk became the richest person in the world in January 2021, with an estimated net worth of $185 billion at the time, surpassing Jeff Bezos. Musk was born to a Canadian mother and South African father and raised in Pretoria, South Africa. Elon Musk briefly attended the University of Pretoria before moving to Canada aged 17 to attend Queen's University. Elon Musk transferred to the University of Pennsylvania two years later, where Elon Musk received dual bachelor's degrees in economics and physics. Elon Musk moved to California in 1995 to attend Stanford University, but decided instead to pursue a business career. Elon Musk went on co-founding a web software company Zip2 with Elon Musk brother Kimbal Musk.\""
      ]
     },
     "execution_count": 7,
     "metadata": {},
     "output_type": "execute_result"
    }
   ],
   "source": [
    "# text after coreference resolution\n",
    "coref_text = coref_resolution(example_text)\n",
    "coref_text"
   ]
  },
  {
   "cell_type": "code",
   "execution_count": 11,
   "metadata": {},
   "outputs": [],
   "source": [
    "# Step 2: Named Entity Linking\n",
    "# using Named Entity Linking to construct a knowledge graph\n",
    "# Facebook BLINK 32GB ram required\n",
    "# so switch to old good Wikifier API\n",
    "# split the text into sentences and remove the punctuations\n",
    "import urllib\n",
    "from string import punctuation\n",
    "import nltk\n",
    "import json\n",
    "ENTITY_TYPES = [\"human\", \"person\", \"company\", \"enterprise\", \"business\", \"geographic region\",\n",
    "                \"human settlement\", \"geographic entity\", \"territorial entity type\", \"organization\"]\n",
    "\n",
    "def wikifier(text, lang=\"en\", threshold=0.8):\n",
    "    \"\"\"Function that fetches entity linking results from wikifier.com API\"\"\"\n",
    "    # Prepare the URL.\n",
    "    data = urllib.parse.urlencode([\n",
    "        (\"text\", text), (\"lang\", lang),\n",
    "        (\"userKey\", \"tgbdmkpmkluegqfbawcwjywieevmza\"),\n",
    "        (\"pageRankSqThreshold\", \"%g\" %\n",
    "         threshold), (\"applyPageRankSqThreshold\", \"true\"),\n",
    "        (\"nTopDfValuesToIgnore\", \"100\"), (\"nWordsToIgnoreFromList\", \"100\"),\n",
    "        (\"wikiDataClasses\", \"true\"), (\"wikiDataClassIds\", \"false\"),\n",
    "        (\"support\", \"true\"), (\"ranges\", \"false\"), (\"minLinkFrequency\", \"2\"),\n",
    "        (\"includeCosines\", \"false\"), (\"maxMentionEntropy\", \"3\")\n",
    "    ])\n",
    "    url = \"http://www.wikifier.org/annotate-article\"\n",
    "    # Call the Wikifier and read the response.\n",
    "    req = urllib.request.Request(url, data=data.encode(\"utf8\"), method=\"POST\")\n",
    "    with urllib.request.urlopen(req, timeout=60) as f:\n",
    "        response = f.read()\n",
    "        response = json.loads(response.decode(\"utf8\"))\n",
    "    # Output the annotations.\n",
    "    results = list()\n",
    "    for annotation in response[\"annotations\"]:\n",
    "        # Filter out desired entity classes\n",
    "        if ('wikiDataClasses' in annotation) and (any([el['enLabel'] in ENTITY_TYPES for el in annotation['wikiDataClasses']])):\n",
    "\n",
    "            # Specify entity label\n",
    "            if any([el['enLabel'] in [\"human\", \"person\"] for el in annotation['wikiDataClasses']]):\n",
    "                label = 'Person'\n",
    "            elif any([el['enLabel'] in [\"company\", \"enterprise\", \"business\", \"organization\"] for el in annotation['wikiDataClasses']]):\n",
    "                label = 'Organization'\n",
    "            elif any([el['enLabel'] in [\"geographic region\", \"human settlement\", \"geographic entity\", \"territorial entity type\"] for el in annotation['wikiDataClasses']]):\n",
    "                label = 'Location'\n",
    "            else:\n",
    "                label = None\n",
    "\n",
    "            results.append({'title': annotation['title'], 'wikiId': annotation['wikiDataItemId'], 'label': label,\n",
    "                            'characters': [(el['chFrom'], el['chTo']) for el in annotation['support']]})\n",
    "    return results"
   ]
  },
  {
   "cell_type": "code",
   "execution_count": 15,
   "metadata": {},
   "outputs": [
    {
     "data": {
      "text/plain": [
       "[{'title': 'Elon Musk',\n",
       "  'wikiId': 'Q317521',\n",
       "  'label': 'Person',\n",
       "  'characters': [(0, 8),\n",
       "   (5, 8),\n",
       "   (68, 76),\n",
       "   (73, 76),\n",
       "   (134, 142),\n",
       "   (139, 142),\n",
       "   (210, 218),\n",
       "   (215, 218),\n",
       "   (315, 318),\n",
       "   (456, 459),\n",
       "   (554, 562),\n",
       "   (559, 562),\n",
       "   (670, 678),\n",
       "   (675, 678),\n",
       "   (749, 757),\n",
       "   (754, 757),\n",
       "   (818, 826),\n",
       "   (823, 826),\n",
       "   (936, 944),\n",
       "   (941, 944),\n",
       "   (999, 1007),\n",
       "   (1004, 1007),\n",
       "   (1024, 1027)]},\n",
       " {'title': 'SpaceX',\n",
       "  'wikiId': 'Q193701',\n",
       "  'label': 'Organization',\n",
       "  'characters': [(126, 131)]},\n",
       " {'title': 'Tesla, Inc.',\n",
       "  'wikiId': 'Q478214',\n",
       "  'label': 'Organization',\n",
       "  'characters': [(198, 202), (198, 207), (198, 208)]},\n",
       " {'title': 'The Boring Company',\n",
       "  'wikiId': 'Q28874479',\n",
       "  'label': 'Organization',\n",
       "  'characters': [(243, 260), (247, 260)]},\n",
       " {'title': 'Neuralink',\n",
       "  'wikiId': 'Q29043471',\n",
       "  'label': 'Organization',\n",
       "  'characters': [(284, 292)]},\n",
       " {'title': 'Jeff Bezos',\n",
       "  'wikiId': 'Q312556',\n",
       "  'label': 'Person',\n",
       "  'characters': [(444, 453), (449, 453)]},\n",
       " {'title': 'South Africa',\n",
       "  'wikiId': 'Q258',\n",
       "  'label': 'Organization',\n",
       "  'characters': [(495, 507), (540, 551)]},\n",
       " {'title': 'Pretoria',\n",
       "  'wikiId': 'Q3926',\n",
       "  'label': 'Organization',\n",
       "  'characters': [(530, 537), (530, 551), (599, 606)]},\n",
       " {'title': 'University of Pretoria',\n",
       "  'wikiId': 'Q604444',\n",
       "  'label': 'Organization',\n",
       "  'characters': [(585, 606)]},\n",
       " {'title': 'University of Pennsylvania',\n",
       "  'wikiId': 'Q49117',\n",
       "  'label': 'Organization',\n",
       "  'characters': [(695, 724), (699, 724), (713, 724)]},\n",
       " {'title': 'Stanford University',\n",
       "  'wikiId': 'Q41506',\n",
       "  'label': 'Organization',\n",
       "  'characters': [(866, 884)]},\n",
       " {'title': 'Zip2',\n",
       "  'wikiId': 'Q28222602',\n",
       "  'label': 'Organization',\n",
       "  'characters': [(989, 992)]},\n",
       " {'title': 'Kimbal Musk',\n",
       "  'wikiId': 'Q6409751',\n",
       "  'label': 'Person',\n",
       "  'characters': [(1017, 1022), (1017, 1027)]}]"
      ]
     },
     "execution_count": 15,
     "metadata": {},
     "output_type": "execute_result"
    }
   ],
   "source": [
    "entities = wikifier(coref_text)\n",
    "entities"
   ]
  },
  {
   "cell_type": "code",
   "execution_count": 16,
   "metadata": {},
   "outputs": [
    {
     "data": {
      "text/html": [
       "<div>\n",
       "<style scoped>\n",
       "    .dataframe tbody tr th:only-of-type {\n",
       "        vertical-align: middle;\n",
       "    }\n",
       "\n",
       "    .dataframe tbody tr th {\n",
       "        vertical-align: top;\n",
       "    }\n",
       "\n",
       "    .dataframe thead th {\n",
       "        text-align: right;\n",
       "    }\n",
       "</style>\n",
       "<table border=\"1\" class=\"dataframe\">\n",
       "  <thead>\n",
       "    <tr style=\"text-align: right;\">\n",
       "      <th></th>\n",
       "      <th>title</th>\n",
       "      <th>wikiId</th>\n",
       "      <th>label</th>\n",
       "      <th>characters</th>\n",
       "    </tr>\n",
       "  </thead>\n",
       "  <tbody>\n",
       "    <tr>\n",
       "      <th>0</th>\n",
       "      <td>Elon Musk</td>\n",
       "      <td>Q317521</td>\n",
       "      <td>Person</td>\n",
       "      <td>[(0, 8), (5, 8), (68, 76), (73, 76), (134, 142...</td>\n",
       "    </tr>\n",
       "    <tr>\n",
       "      <th>1</th>\n",
       "      <td>SpaceX</td>\n",
       "      <td>Q193701</td>\n",
       "      <td>Organization</td>\n",
       "      <td>[(126, 131)]</td>\n",
       "    </tr>\n",
       "    <tr>\n",
       "      <th>2</th>\n",
       "      <td>Tesla, Inc.</td>\n",
       "      <td>Q478214</td>\n",
       "      <td>Organization</td>\n",
       "      <td>[(198, 202), (198, 207), (198, 208)]</td>\n",
       "    </tr>\n",
       "    <tr>\n",
       "      <th>3</th>\n",
       "      <td>The Boring Company</td>\n",
       "      <td>Q28874479</td>\n",
       "      <td>Organization</td>\n",
       "      <td>[(243, 260), (247, 260)]</td>\n",
       "    </tr>\n",
       "    <tr>\n",
       "      <th>4</th>\n",
       "      <td>Neuralink</td>\n",
       "      <td>Q29043471</td>\n",
       "      <td>Organization</td>\n",
       "      <td>[(284, 292)]</td>\n",
       "    </tr>\n",
       "    <tr>\n",
       "      <th>5</th>\n",
       "      <td>Jeff Bezos</td>\n",
       "      <td>Q312556</td>\n",
       "      <td>Person</td>\n",
       "      <td>[(444, 453), (449, 453)]</td>\n",
       "    </tr>\n",
       "    <tr>\n",
       "      <th>6</th>\n",
       "      <td>South Africa</td>\n",
       "      <td>Q258</td>\n",
       "      <td>Organization</td>\n",
       "      <td>[(495, 507), (540, 551)]</td>\n",
       "    </tr>\n",
       "    <tr>\n",
       "      <th>7</th>\n",
       "      <td>Pretoria</td>\n",
       "      <td>Q3926</td>\n",
       "      <td>Organization</td>\n",
       "      <td>[(530, 537), (530, 551), (599, 606)]</td>\n",
       "    </tr>\n",
       "    <tr>\n",
       "      <th>8</th>\n",
       "      <td>University of Pretoria</td>\n",
       "      <td>Q604444</td>\n",
       "      <td>Organization</td>\n",
       "      <td>[(585, 606)]</td>\n",
       "    </tr>\n",
       "    <tr>\n",
       "      <th>9</th>\n",
       "      <td>University of Pennsylvania</td>\n",
       "      <td>Q49117</td>\n",
       "      <td>Organization</td>\n",
       "      <td>[(695, 724), (699, 724), (713, 724)]</td>\n",
       "    </tr>\n",
       "    <tr>\n",
       "      <th>10</th>\n",
       "      <td>Stanford University</td>\n",
       "      <td>Q41506</td>\n",
       "      <td>Organization</td>\n",
       "      <td>[(866, 884)]</td>\n",
       "    </tr>\n",
       "    <tr>\n",
       "      <th>11</th>\n",
       "      <td>Zip2</td>\n",
       "      <td>Q28222602</td>\n",
       "      <td>Organization</td>\n",
       "      <td>[(989, 992)]</td>\n",
       "    </tr>\n",
       "    <tr>\n",
       "      <th>12</th>\n",
       "      <td>Kimbal Musk</td>\n",
       "      <td>Q6409751</td>\n",
       "      <td>Person</td>\n",
       "      <td>[(1017, 1022), (1017, 1027)]</td>\n",
       "    </tr>\n",
       "  </tbody>\n",
       "</table>\n",
       "</div>"
      ],
      "text/plain": [
       "                         title     wikiId         label  \\\n",
       "0                    Elon Musk    Q317521        Person   \n",
       "1                       SpaceX    Q193701  Organization   \n",
       "2                  Tesla, Inc.    Q478214  Organization   \n",
       "3           The Boring Company  Q28874479  Organization   \n",
       "4                    Neuralink  Q29043471  Organization   \n",
       "5                   Jeff Bezos    Q312556        Person   \n",
       "6                 South Africa       Q258  Organization   \n",
       "7                     Pretoria      Q3926  Organization   \n",
       "8       University of Pretoria    Q604444  Organization   \n",
       "9   University of Pennsylvania     Q49117  Organization   \n",
       "10         Stanford University     Q41506  Organization   \n",
       "11                        Zip2  Q28222602  Organization   \n",
       "12                 Kimbal Musk   Q6409751        Person   \n",
       "\n",
       "                                           characters  \n",
       "0   [(0, 8), (5, 8), (68, 76), (73, 76), (134, 142...  \n",
       "1                                        [(126, 131)]  \n",
       "2                [(198, 202), (198, 207), (198, 208)]  \n",
       "3                            [(243, 260), (247, 260)]  \n",
       "4                                        [(284, 292)]  \n",
       "5                            [(444, 453), (449, 453)]  \n",
       "6                            [(495, 507), (540, 551)]  \n",
       "7                [(530, 537), (530, 551), (599, 606)]  \n",
       "8                                        [(585, 606)]  \n",
       "9                [(695, 724), (699, 724), (713, 724)]  \n",
       "10                                       [(866, 884)]  \n",
       "11                                       [(989, 992)]  \n",
       "12                       [(1017, 1022), (1017, 1027)]  "
      ]
     },
     "execution_count": 16,
     "metadata": {},
     "output_type": "execute_result"
    }
   ],
   "source": [
    "import pandas as pd\n",
    "pd.DataFrame(entities)"
   ]
  },
  {
   "cell_type": "code",
   "execution_count": 20,
   "metadata": {},
   "outputs": [
    {
     "ename": "ModuleNotFoundError",
     "evalue": "No module named 'opennre'",
     "output_type": "error",
     "traceback": [
      "\u001b[1;31m---------------------------------------------------------------------------\u001b[0m",
      "\u001b[1;31mModuleNotFoundError\u001b[0m                       Traceback (most recent call last)",
      "\u001b[1;32m~\\AppData\\Local\\Temp/ipykernel_1120/2883973276.py\u001b[0m in \u001b[0;36m<module>\u001b[1;34m\u001b[0m\n\u001b[0;32m      9\u001b[0m \u001b[1;31m# Iterate over every permutation pair of entities\u001b[0m\u001b[1;33m\u001b[0m\u001b[1;33m\u001b[0m\u001b[1;33m\u001b[0m\u001b[0m\n\u001b[0;32m     10\u001b[0m \u001b[1;32mimport\u001b[0m \u001b[0mitertools\u001b[0m\u001b[1;33m\u001b[0m\u001b[1;33m\u001b[0m\u001b[0m\n\u001b[1;32m---> 11\u001b[1;33m \u001b[1;32mimport\u001b[0m \u001b[0mopennre\u001b[0m\u001b[1;33m\u001b[0m\u001b[1;33m\u001b[0m\u001b[0m\n\u001b[0m\u001b[0;32m     12\u001b[0m \u001b[0mrelation_model\u001b[0m \u001b[1;33m=\u001b[0m \u001b[0mopennre\u001b[0m\u001b[1;33m.\u001b[0m\u001b[0mget_model\u001b[0m\u001b[1;33m(\u001b[0m\u001b[1;34m'wiki80_bert_softmax'\u001b[0m\u001b[1;33m)\u001b[0m\u001b[1;33m\u001b[0m\u001b[1;33m\u001b[0m\u001b[0m\n\u001b[0;32m     13\u001b[0m \u001b[1;33m\u001b[0m\u001b[0m\n",
      "\u001b[1;31mModuleNotFoundError\u001b[0m: No module named 'opennre'"
     ]
    }
   ],
   "source": [
    "# Step 3: Relationship extraction\n",
    "# Name Entity Recognition NER\n",
    "# OpenNRE project； only infers relationships and doesn’t try to extract named entities\n",
    "# https://github.com/thunlp/OpenNRE\n",
    "\n",
    "# five open-source relationship extraction models that were trained on either the Wiki80 or Tacred dataset\n",
    "# Wiki80 dataset is used\n",
    "# wiki80_bert_softmax model (BERT encoder used)\n",
    "# Iterate over every permutation pair of entities\n",
    "import itertools\n",
    "import opennre\n",
    "relation_model = opennre.get_model('wiki80_bert_softmax')\n",
    "\n",
    "\n",
    "for permutation in itertools.permutations(entities, 2):\n",
    "    for source in permutation[0]['characters']:\n",
    "        for target in permutation[1]['characters']:\n",
    "            # Relationship extraction with OpenNRE\n",
    "            data = relation_model.infer(\n",
    "                {'text': sentence, 'h': {'pos': [source[0], source[1] + 1]}, 't': {'pos': [target[0], target[1] + 1]}})\n",
    "            if data[1] > relation_threshold:\n",
    "                relations_list.append(\n",
    "                    {'source': permutation[0]['title'], 'target': permutation[1]['title'], 'type': data[0]})\n"
   ]
  },
  {
   "cell_type": "code",
   "execution_count": null,
   "metadata": {},
   "outputs": [],
   "source": [
    "import json\n",
    "import urllib\n",
    "import pandas as pd\n",
    "from neo4j import GraphDatabase\n",
    "\n",
    "driver = GraphDatabase.driver('bolt://localhost:7687', auth=('neo4j', 'letmein'))\n",
    "\n",
    "def run_query(query, params={}):\n",
    "    with driver.session() as session:\n",
    "        result = session.run(query, params)\n",
    "        return pd.DataFrame([r.values() for r in result], columns=result.keys())"
   ]
  },
  {
   "cell_type": "code",
   "execution_count": 102,
   "metadata": {},
   "outputs": [],
   "source": [
    "def ie_pipeline(text, relation_threshold=0.9, entities_threshold=0.8):\n",
    "    # Prepare the URL.\n",
    "    data = urllib.parse.urlencode([\n",
    "        (\"text\", text), (\"relation_threshold\", relation_threshold),\n",
    "        (\"entities_threshold\", entities_threshold)])\n",
    "    \n",
    "    url = \"http://localhost:5000?\" + data\n",
    "    req = urllib.request.Request(url, data=data.encode(\"utf8\"), method=\"GET\")\n",
    "    with urllib.request.urlopen(req, timeout=150) as f:\n",
    "        response = f.read()\n",
    "        response = json.loads(response.decode(\"utf8\"))\n",
    "    # Output the annotations.\n",
    "    return response"
   ]
  },
  {
   "cell_type": "markdown",
   "metadata": {},
   "source": [
    "## Elon Musk example input"
   ]
  },
  {
   "cell_type": "code",
   "execution_count": 89,
   "metadata": {},
   "outputs": [],
   "source": [
    "example_data = ie_pipeline(\"\"\"\n",
    "Elon Musk is a business magnate, industrial designer, and engineer.\n",
    "He is the founder, CEO, CTO, and chief designer of SpaceX.\n",
    "He is also early investor, CEO, and product architect of Tesla, Inc.\n",
    "He is also the founder of The Boring Company and the co-founder of Neuralink. \n",
    "A centibillionaire, Musk became the richest person in the world in January 2021, with an estimated net worth of $185 billion at the time, surpassing Jeff Bezos.\n",
    "Musk was born to a Canadian mother and South African father and raised in Pretoria, South Africa.\n",
    "He briefly attended the University of Pretoria before moving to Canada aged 17 to attend Queen's University.\n",
    "He transferred to the University of Pennsylvania two years later, where he received dual bachelor's degrees in economics and physics.\n",
    "He moved to California in 1995 to attend Stanford University, but decided instead to pursue a business career.\n",
    "He went on co-founding a web software company Zip2 with his brother Kimbal Musk.\n",
    "  \"\"\")"
   ]
  },
  {
   "cell_type": "code",
   "execution_count": 90,
   "metadata": {},
   "outputs": [
    {
     "name": "stdout",
     "output_type": "stream",
     "text": [
      "{'entities': [{'label': 'Organization', 'title': 'Tesla, Inc.', 'wikiId': 'Q478214'}, {'label': 'Person', 'title': 'Jeff Bezos', 'wikiId': 'Q312556'}, {'label': 'Organization', 'title': 'University of Pennsylvania', 'wikiId': 'Q49117'}, {'label': 'Person', 'title': 'Elon Musk', 'wikiId': 'Q317521'}, {'label': 'Organization', 'title': 'The Boring Company', 'wikiId': 'Q28874479'}, {'label': 'Organization', 'title': 'Stanford University', 'wikiId': 'Q41506'}, {'label': 'Person', 'title': 'Kimbal Musk', 'wikiId': 'Q6409751'}, {'label': 'Organization', 'title': 'Pretoria', 'wikiId': 'Q3926'}, {'label': 'Organization', 'title': 'University of Pretoria', 'wikiId': 'Q604444'}, {'label': 'Organization', 'title': 'SpaceX', 'wikiId': 'Q193701'}, {'label': 'Organization', 'title': 'Neuralink', 'wikiId': 'Q29043471'}], 'relations': [{'source': 'The Boring Company', 'target': 'Neuralink', 'type': 'subsidiary'}, {'source': 'Tesla, Inc.', 'target': 'Elon Musk', 'type': 'owned by'}, {'source': 'Elon Musk', 'target': 'Neuralink', 'type': 'owned by'}, {'source': 'Neuralink', 'target': 'Elon Musk', 'type': 'owned by'}, {'source': 'Elon Musk', 'target': 'The Boring Company', 'type': 'owned by'}, {'source': 'Elon Musk', 'target': 'Tesla, Inc.', 'type': 'owned by'}, {'source': 'Elon Musk', 'target': 'University of Pretoria', 'type': 'work location'}, {'source': 'Elon Musk', 'target': 'Pretoria', 'type': 'work location'}, {'source': 'Elon Musk', 'target': 'University of Pennsylvania', 'type': 'work location'}, {'source': 'The Boring Company', 'target': 'Tesla, Inc.', 'type': 'owned by'}, {'source': 'Elon Musk', 'target': 'University of Pennsylvania', 'type': 'residence'}, {'source': 'University of Pennsylvania', 'target': 'Elon Musk', 'type': 'residence'}, {'source': 'Elon Musk', 'target': 'Kimbal Musk', 'type': 'sibling'}, {'source': 'The Boring Company', 'target': 'Elon Musk', 'type': 'owned by'}, {'source': 'Kimbal Musk', 'target': 'Elon Musk', 'type': 'sibling'}]}\n"
     ]
    }
   ],
   "source": [
    "print(example_data)"
   ]
  },
  {
   "cell_type": "code",
   "execution_count": 91,
   "metadata": {},
   "outputs": [
    {
     "data": {
      "text/html": [
       "<div>\n",
       "<style scoped>\n",
       "    .dataframe tbody tr th:only-of-type {\n",
       "        vertical-align: middle;\n",
       "    }\n",
       "\n",
       "    .dataframe tbody tr th {\n",
       "        vertical-align: top;\n",
       "    }\n",
       "\n",
       "    .dataframe thead th {\n",
       "        text-align: right;\n",
       "    }\n",
       "</style>\n",
       "<table border=\"1\" class=\"dataframe\">\n",
       "  <thead>\n",
       "    <tr style=\"text-align: right;\">\n",
       "      <th></th>\n",
       "      <th>'done'</th>\n",
       "    </tr>\n",
       "  </thead>\n",
       "  <tbody>\n",
       "    <tr>\n",
       "      <th>0</th>\n",
       "      <td>done</td>\n",
       "    </tr>\n",
       "  </tbody>\n",
       "</table>\n",
       "</div>"
      ],
      "text/plain": [
       "  'done'\n",
       "0   done"
      ]
     },
     "execution_count": 91,
     "metadata": {},
     "output_type": "execute_result"
    }
   ],
   "source": [
    "import_direct_query = \"\"\"\n",
    "WITH $data as data\n",
    "UNWIND data.entities as entity\n",
    "MERGE (e:Entity{name:entity.title})\n",
    "ON CREATE SET e.wikiId = entity.wikiId\n",
    "WITH data, entity, e\n",
    "CALL apoc.create.addLabels(e,[entity.label]) YIELD node\n",
    "WITH data, count(*) as break_unwind\n",
    "UNWIND data.relations as relation\n",
    "MERGE (s:Entity{name:relation.source})\n",
    "MERGE (t:Entity{name:relation.target})\n",
    "WITH s,t,relation\n",
    "CALL apoc.create.relationship(s, relation.type, {}, t) \n",
    "YIELD rel\n",
    "RETURN distinct 'done'\n",
    "\"\"\"\n",
    "\n",
    "run_query(import_direct_query, {'data':example_data})"
   ]
  },
  {
   "cell_type": "markdown",
   "metadata": {},
   "source": [
    "## BBC news dataset example\n",
    "\n",
    "Make sure to download the dataset from https://www.kaggle.com/hgultekin/bbcnewsarchive.\n",
    "\n",
    "You will need to have the IE pipeline running on localhost:5000. You can run the following command to get it up and running:\n",
    "\n",
    "<code>\n",
    "    docker run -p 5000:5000 tomasonjo/trinityie\n",
    "</code> "
   ]
  },
  {
   "cell_type": "code",
   "execution_count": 93,
   "metadata": {},
   "outputs": [
    {
     "data": {
      "text/html": [
       "<div>\n",
       "<style scoped>\n",
       "    .dataframe tbody tr th:only-of-type {\n",
       "        vertical-align: middle;\n",
       "    }\n",
       "\n",
       "    .dataframe tbody tr th {\n",
       "        vertical-align: top;\n",
       "    }\n",
       "\n",
       "    .dataframe thead th {\n",
       "        text-align: right;\n",
       "    }\n",
       "</style>\n",
       "<table border=\"1\" class=\"dataframe\">\n",
       "  <thead>\n",
       "    <tr style=\"text-align: right;\">\n",
       "      <th></th>\n",
       "    </tr>\n",
       "  </thead>\n",
       "  <tbody>\n",
       "  </tbody>\n",
       "</table>\n",
       "</div>"
      ],
      "text/plain": [
       "Empty DataFrame\n",
       "Columns: []\n",
       "Index: []"
      ]
     },
     "execution_count": 93,
     "metadata": {},
     "output_type": "execute_result"
    }
   ],
   "source": [
    "run_query(\"MATCH (n) DETACH DELETE n\")\n",
    "run_query(\"CREATE CONSTRAINT IF NOT EXISTS ON (e:Entity) ASSERT e.name IS UNIQUE;\")\n",
    "run_query(\"CREATE INDEX rels IF NOT EXISTS FOR (n:Relation) ON (n.type);\")"
   ]
  },
  {
   "cell_type": "markdown",
   "metadata": {},
   "source": [
    "### Load the dataset"
   ]
  },
  {
   "cell_type": "code",
   "execution_count": 95,
   "metadata": {},
   "outputs": [],
   "source": [
    "data = pd.read_csv('bbc-news-data.csv', delimiter='\\t')\n",
    "data.head()"
   ]
  },
  {
   "cell_type": "code",
   "execution_count": 97,
   "metadata": {},
   "outputs": [],
   "source": [
    "import_refactored_query = \"\"\"\n",
    "UNWIND $params as value\n",
    "CREATE (a:Article{content:value.content})\n",
    "FOREACH (rel in value.ie.relations | \n",
    "  MERGE (s:Entity{name:rel.source})\n",
    "  MERGE (t:Entity{name:rel.target})\n",
    "  MERGE (s)-[:RELATION]->(r:Relation{type:rel.type})-[:RELATION]->(t)\n",
    "  MERGE (a)-[:MENTIONS_REL]->(r))\n",
    "WITH value, a\n",
    "UNWIND value.ie.entities as entity\n",
    "MERGE (e:Entity{name:entity.title})\n",
    "SET e.wikiId = entity.wikiId\n",
    "MERGE (a)-[:MENTIONS_ENT]->(e)\n",
    "WITH entity, e\n",
    "CALL apoc.create.addLabels(e,[entity.label]) YIELD node\n",
    "RETURN distinct 'done'\n",
    "\"\"\""
   ]
  },
  {
   "cell_type": "markdown",
   "metadata": {},
   "source": [
    "### Run 500 articles through IE pipeline and store results to Neo4j"
   ]
  },
  {
   "cell_type": "code",
   "execution_count": 103,
   "metadata": {},
   "outputs": [],
   "source": [
    "with driver.session() as session:\n",
    "    params = []\n",
    "    for i,article in list(data.iterrows())[:500]:\n",
    "        content = article['content']\n",
    "        ie_data = ie_pipeline(content)\n",
    "        params.append({'content':content, 'ie':ie_data})\n",
    "\n",
    "        if (len(params) % 100 == 0):\n",
    "            session.run(import_refactored_query, {'params':params})\n",
    "            params = []\n",
    "\n",
    "    session.run(update_query, {'params':params})"
   ]
  },
  {
   "cell_type": "code",
   "execution_count": null,
   "metadata": {},
   "outputs": [],
   "source": []
  }
 ],
 "metadata": {
  "kernelspec": {
   "display_name": "Python 3 (ipykernel)",
   "language": "python",
   "name": "python3"
  },
  "language_info": {
   "codemirror_mode": {
    "name": "ipython",
    "version": 3
   },
   "file_extension": ".py",
   "mimetype": "text/x-python",
   "name": "python",
   "nbconvert_exporter": "python",
   "pygments_lexer": "ipython3",
   "version": "3.7.10"
  }
 },
 "nbformat": 4,
 "nbformat_minor": 4
}
